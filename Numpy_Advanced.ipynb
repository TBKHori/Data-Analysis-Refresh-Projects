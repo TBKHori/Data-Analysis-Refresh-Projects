{
  "cells": [
    {
      "cell_type": "markdown",
      "metadata": {
        "id": "view-in-github",
        "colab_type": "text"
      },
      "source": [
        "<a href=\"https://colab.research.google.com/github/TBKHori/Data-Analysis-Refresher-notes/blob/main/Numpy_Advanced.ipynb\" target=\"_parent\"><img src=\"https://colab.research.google.com/assets/colab-badge.svg\" alt=\"Open In Colab\"/></a>"
      ]
    },
    {
      "cell_type": "code",
      "execution_count": null,
      "id": "773ad6d4",
      "metadata": {
        "id": "773ad6d4"
      },
      "outputs": [],
      "source": [
        "import numpy as np\n",
        "import pandas as pd\n",
        "np.random.seed(12345)\n",
        "import matplotlib.pyplot as plt\n",
        "plt.rc('figure', figsize=(10, 6))\n",
        "PREVIOUS_MAX_ROWS = pd.options.display.max_rows\n",
        "pd.options.display.max_rows = 20\n",
        "np.set_printoptions(precision=4, suppress=True)"
      ]
    },
    {
      "cell_type": "markdown",
      "id": "02775ec0",
      "metadata": {
        "id": "02775ec0"
      },
      "source": [
        "ndarray Object Internals"
      ]
    },
    {
      "cell_type": "code",
      "execution_count": null,
      "id": "a1339f35",
      "metadata": {
        "id": "a1339f35",
        "outputId": "2190562d-811d-4762-9345-805a4d8d5a30"
      },
      "outputs": [
        {
          "data": {
            "text/plain": [
              "(10, 5)"
            ]
          },
          "execution_count": 4,
          "metadata": {},
          "output_type": "execute_result"
        }
      ],
      "source": [
        "np.ones((10, 5)).shape"
      ]
    },
    {
      "cell_type": "markdown",
      "id": "ce70597c",
      "metadata": {
        "id": "ce70597c"
      },
      "source": [
        "NumPy dtype Hierarchy"
      ]
    },
    {
      "cell_type": "code",
      "execution_count": null,
      "id": "9f575661",
      "metadata": {
        "id": "9f575661",
        "outputId": "d234fdc6-68a1-4ba2-e6ae-770bded0f541"
      },
      "outputs": [
        {
          "data": {
            "text/plain": [
              "(160, 40, 8)"
            ]
          },
          "execution_count": 5,
          "metadata": {},
          "output_type": "execute_result"
        }
      ],
      "source": [
        "np.ones((3, 4, 5), dtype=np.float64).strides"
      ]
    },
    {
      "cell_type": "code",
      "execution_count": null,
      "id": "ec52ac0a",
      "metadata": {
        "id": "ec52ac0a",
        "outputId": "84da4166-d752-41d2-d07d-7f3c6449a1f3"
      },
      "outputs": [
        {
          "data": {
            "text/plain": [
              "True"
            ]
          },
          "execution_count": 6,
          "metadata": {},
          "output_type": "execute_result"
        }
      ],
      "source": [
        "ints = np.ones(10, dtype=np.uint16)\n",
        "floats = np.ones(10, dtype=np.float32)\n",
        "np.issubdtype(ints.dtype, np.integer)\n",
        "np.issubdtype(floats.dtype, np.floating)"
      ]
    },
    {
      "cell_type": "code",
      "execution_count": null,
      "id": "fe7b8436",
      "metadata": {
        "id": "fe7b8436",
        "outputId": "5def7f96-6e6b-44ed-b09f-f0662a538ff6"
      },
      "outputs": [
        {
          "data": {
            "text/plain": [
              "[numpy.float64,\n",
              " numpy.floating,\n",
              " numpy.inexact,\n",
              " numpy.number,\n",
              " numpy.generic,\n",
              " float,\n",
              " object]"
            ]
          },
          "execution_count": 7,
          "metadata": {},
          "output_type": "execute_result"
        }
      ],
      "source": [
        "np.float64.mro()"
      ]
    },
    {
      "cell_type": "code",
      "execution_count": null,
      "id": "78a1eec2",
      "metadata": {
        "id": "78a1eec2",
        "outputId": "2bbd95b4-1d98-4fd6-f979-0acc710700d2"
      },
      "outputs": [
        {
          "data": {
            "text/plain": [
              "True"
            ]
          },
          "execution_count": 8,
          "metadata": {},
          "output_type": "execute_result"
        }
      ],
      "source": [
        "np.issubdtype(ints.dtype, np.number)"
      ]
    },
    {
      "cell_type": "markdown",
      "id": "edc62dc5",
      "metadata": {
        "id": "edc62dc5"
      },
      "source": [
        "Advanced Array Manipulation\n",
        "\n",
        "Reshaping Arrays"
      ]
    },
    {
      "cell_type": "code",
      "execution_count": null,
      "id": "dd25d3b5",
      "metadata": {
        "id": "dd25d3b5",
        "outputId": "cd67bb6f-a676-4b31-a81b-2e493ee450ce"
      },
      "outputs": [
        {
          "data": {
            "text/plain": [
              "array([[0, 1],\n",
              "       [2, 3],\n",
              "       [4, 5],\n",
              "       [6, 7]])"
            ]
          },
          "execution_count": 9,
          "metadata": {},
          "output_type": "execute_result"
        }
      ],
      "source": [
        "arr = np.arange(8)\n",
        "arr\n",
        "arr.reshape((4, 2))"
      ]
    },
    {
      "cell_type": "code",
      "execution_count": null,
      "id": "fd1286ab",
      "metadata": {
        "id": "fd1286ab",
        "outputId": "e8d1ce36-2990-4e11-e483-96b1b2c6e8fb"
      },
      "outputs": [
        {
          "data": {
            "text/plain": [
              "array([[0, 1, 2, 3],\n",
              "       [4, 5, 6, 7]])"
            ]
          },
          "execution_count": 10,
          "metadata": {},
          "output_type": "execute_result"
        }
      ],
      "source": [
        "arr.reshape((4, 2)).reshape((2, 4))"
      ]
    },
    {
      "cell_type": "code",
      "execution_count": null,
      "id": "1be5b408",
      "metadata": {
        "id": "1be5b408",
        "outputId": "ab8af90c-8808-4d31-cf40-57fb39e077cc"
      },
      "outputs": [
        {
          "data": {
            "text/plain": [
              "array([[ 0,  1,  2],\n",
              "       [ 3,  4,  5],\n",
              "       [ 6,  7,  8],\n",
              "       [ 9, 10, 11],\n",
              "       [12, 13, 14]])"
            ]
          },
          "execution_count": 11,
          "metadata": {},
          "output_type": "execute_result"
        }
      ],
      "source": [
        "arr = np.arange(15)\n",
        "arr.reshape((5, -1))"
      ]
    },
    {
      "cell_type": "code",
      "execution_count": null,
      "id": "656dad24",
      "metadata": {
        "id": "656dad24",
        "outputId": "32ac4dd0-a14c-496f-c1cb-f0345885c66d"
      },
      "outputs": [
        {
          "data": {
            "text/plain": [
              "array([[ 0,  1,  2,  3,  4],\n",
              "       [ 5,  6,  7,  8,  9],\n",
              "       [10, 11, 12, 13, 14]])"
            ]
          },
          "execution_count": 12,
          "metadata": {},
          "output_type": "execute_result"
        }
      ],
      "source": [
        "other_arr = np.ones((3, 5))\n",
        "other_arr.shape\n",
        "arr.reshape(other_arr.shape)"
      ]
    },
    {
      "cell_type": "code",
      "execution_count": null,
      "id": "42eb9667",
      "metadata": {
        "id": "42eb9667",
        "outputId": "d766fccd-8cdb-41a9-e714-8d92910d6a53"
      },
      "outputs": [
        {
          "data": {
            "text/plain": [
              "array([ 0,  1,  2,  3,  4,  5,  6,  7,  8,  9, 10, 11, 12, 13, 14])"
            ]
          },
          "execution_count": 13,
          "metadata": {},
          "output_type": "execute_result"
        }
      ],
      "source": [
        "arr = np.arange(15).reshape((5, 3))\n",
        "arr\n",
        "arr.ravel()"
      ]
    },
    {
      "cell_type": "code",
      "execution_count": null,
      "id": "b2b6510f",
      "metadata": {
        "id": "b2b6510f",
        "outputId": "1975252a-cf55-4110-c3a1-96bb76b7446e"
      },
      "outputs": [
        {
          "data": {
            "text/plain": [
              "array([ 0,  1,  2,  3,  4,  5,  6,  7,  8,  9, 10, 11, 12, 13, 14])"
            ]
          },
          "execution_count": 14,
          "metadata": {},
          "output_type": "execute_result"
        }
      ],
      "source": [
        "arr.flatten()"
      ]
    },
    {
      "cell_type": "markdown",
      "id": "27ddac4f",
      "metadata": {
        "id": "27ddac4f"
      },
      "source": [
        "Concatenating and Splitting Arrays"
      ]
    },
    {
      "cell_type": "code",
      "execution_count": null,
      "id": "d1aced35",
      "metadata": {
        "id": "d1aced35",
        "outputId": "159b7189-4ef8-4f8d-d6e6-fb5baa3dc75e"
      },
      "outputs": [
        {
          "data": {
            "text/plain": [
              "array([ 0,  4,  8,  1,  5,  9,  2,  6, 10,  3,  7, 11])"
            ]
          },
          "execution_count": 15,
          "metadata": {},
          "output_type": "execute_result"
        }
      ],
      "source": [
        "arr = np.arange(12).reshape((3, 4))\n",
        "arr\n",
        "arr.ravel()\n",
        "arr.ravel('F')"
      ]
    },
    {
      "cell_type": "markdown",
      "id": "df52c7f3",
      "metadata": {
        "id": "df52c7f3"
      },
      "source": [
        "Concatenating and Splitting Arrays"
      ]
    },
    {
      "cell_type": "code",
      "execution_count": null,
      "id": "b8618e51",
      "metadata": {
        "id": "b8618e51",
        "outputId": "3ca527bf-b1a7-45bb-8cd7-d7c10c17af37"
      },
      "outputs": [
        {
          "data": {
            "text/plain": [
              "array([[ 1,  2,  3,  7,  8,  9],\n",
              "       [ 4,  5,  6, 10, 11, 12]])"
            ]
          },
          "execution_count": 16,
          "metadata": {},
          "output_type": "execute_result"
        }
      ],
      "source": [
        "arr1 = np.array([[1, 2, 3], [4, 5, 6]])\n",
        "arr2 = np.array([[7, 8, 9], [10, 11, 12]])\n",
        "np.concatenate([arr1, arr2], axis=0)\n",
        "np.concatenate([arr1, arr2], axis=1)"
      ]
    },
    {
      "cell_type": "code",
      "execution_count": null,
      "id": "99c95caf",
      "metadata": {
        "id": "99c95caf",
        "outputId": "6322eae8-581a-41ad-cbda-5fe38d7a8732"
      },
      "outputs": [
        {
          "data": {
            "text/plain": [
              "array([[ 1,  2,  3,  7,  8,  9],\n",
              "       [ 4,  5,  6, 10, 11, 12]])"
            ]
          },
          "execution_count": 17,
          "metadata": {},
          "output_type": "execute_result"
        }
      ],
      "source": [
        "np.vstack((arr1, arr2))\n",
        "np.hstack((arr1, arr2))"
      ]
    },
    {
      "cell_type": "code",
      "execution_count": null,
      "id": "4752a5f7",
      "metadata": {
        "id": "4752a5f7",
        "outputId": "b9a7dc20-543f-4f07-c154-ed34a9ea3076"
      },
      "outputs": [
        {
          "data": {
            "text/plain": [
              "array([[0.0929, 0.2817],\n",
              "       [0.769 , 1.2464]])"
            ]
          },
          "execution_count": 18,
          "metadata": {},
          "output_type": "execute_result"
        }
      ],
      "source": [
        "arr = np.random.randn(5, 2)\n",
        "arr\n",
        "first, second, third = np.split(arr, [1, 3])\n",
        "first\n",
        "second\n",
        "third"
      ]
    },
    {
      "cell_type": "markdown",
      "id": "6abe7f71",
      "metadata": {
        "id": "6abe7f71"
      },
      "source": [
        "Stacking helpers: r and c"
      ]
    },
    {
      "cell_type": "code",
      "execution_count": null,
      "id": "6b5dc172",
      "metadata": {
        "id": "6b5dc172",
        "outputId": "541bab63-9a7c-4c32-8bf1-9c9f16cdb0a1"
      },
      "outputs": [
        {
          "data": {
            "text/plain": [
              "array([[ 0.    ,  1.    ,  0.    ],\n",
              "       [ 2.    ,  3.    ,  1.    ],\n",
              "       [ 4.    ,  5.    ,  2.    ],\n",
              "       [ 1.0072, -1.2962,  3.    ],\n",
              "       [ 0.275 ,  0.2289,  4.    ],\n",
              "       [ 1.3529,  0.8864,  5.    ]])"
            ]
          },
          "execution_count": 19,
          "metadata": {},
          "output_type": "execute_result"
        }
      ],
      "source": [
        "arr = np.arange(6)\n",
        "arr1 = arr.reshape((3, 2))\n",
        "arr2 = np.random.randn(3, 2)\n",
        "np.r_[arr1, arr2]\n",
        "np.c_[np.r_[arr1, arr2], arr]"
      ]
    },
    {
      "cell_type": "code",
      "execution_count": null,
      "id": "766dee07",
      "metadata": {
        "id": "766dee07",
        "outputId": "62f84826-a627-4c49-f3f2-3bc516b72258"
      },
      "outputs": [
        {
          "data": {
            "text/plain": [
              "array([[  1, -10],\n",
              "       [  2,  -9],\n",
              "       [  3,  -8],\n",
              "       [  4,  -7],\n",
              "       [  5,  -6]])"
            ]
          },
          "execution_count": 20,
          "metadata": {},
          "output_type": "execute_result"
        }
      ],
      "source": [
        "np.c_[1:6, -10:-5]"
      ]
    },
    {
      "cell_type": "markdown",
      "id": "1c75f392",
      "metadata": {
        "id": "1c75f392"
      },
      "source": [
        "Repeating Elements: tile and repeat"
      ]
    },
    {
      "cell_type": "code",
      "execution_count": null,
      "id": "2cc1f0b8",
      "metadata": {
        "id": "2cc1f0b8",
        "outputId": "aca49f8e-884a-424c-aef3-4b28e52a3e8e"
      },
      "outputs": [
        {
          "data": {
            "text/plain": [
              "array([0, 0, 0, 1, 1, 1, 2, 2, 2])"
            ]
          },
          "execution_count": 21,
          "metadata": {},
          "output_type": "execute_result"
        }
      ],
      "source": [
        "arr = np.arange(3)\n",
        "arr\n",
        "arr.repeat(3)"
      ]
    },
    {
      "cell_type": "code",
      "execution_count": null,
      "id": "09c14c3e",
      "metadata": {
        "id": "09c14c3e",
        "outputId": "df760172-f943-4192-c2de-044c7fd179ed"
      },
      "outputs": [
        {
          "data": {
            "text/plain": [
              "array([0, 0, 1, 1, 1, 2, 2, 2, 2])"
            ]
          },
          "execution_count": 22,
          "metadata": {},
          "output_type": "execute_result"
        }
      ],
      "source": [
        "arr.repeat([2, 3, 4])"
      ]
    },
    {
      "cell_type": "code",
      "execution_count": null,
      "id": "a0685c14",
      "metadata": {
        "id": "a0685c14",
        "outputId": "afdf4c71-fa4d-4f06-a76f-8eda06113680"
      },
      "outputs": [
        {
          "data": {
            "text/plain": [
              "array([[-2.0016, -0.3718],\n",
              "       [-2.0016, -0.3718],\n",
              "       [ 1.669 , -0.4386],\n",
              "       [ 1.669 , -0.4386]])"
            ]
          },
          "execution_count": 23,
          "metadata": {},
          "output_type": "execute_result"
        }
      ],
      "source": [
        "arr = np.random.randn(2, 2)\n",
        "arr\n",
        "arr.repeat(2, axis=0)"
      ]
    },
    {
      "cell_type": "code",
      "execution_count": null,
      "id": "6acf74c5",
      "metadata": {
        "id": "6acf74c5",
        "outputId": "3e7da11c-37b5-4108-cd4c-f5d00ad5f708"
      },
      "outputs": [
        {
          "data": {
            "text/plain": [
              "array([[-2.0016, -2.0016, -0.3718, -0.3718, -0.3718],\n",
              "       [ 1.669 ,  1.669 , -0.4386, -0.4386, -0.4386]])"
            ]
          },
          "execution_count": 24,
          "metadata": {},
          "output_type": "execute_result"
        }
      ],
      "source": [
        "arr.repeat([2, 3], axis=0)\n",
        "arr.repeat([2, 3], axis=1)"
      ]
    },
    {
      "cell_type": "code",
      "execution_count": null,
      "id": "722e3328",
      "metadata": {
        "id": "722e3328",
        "outputId": "91270d3a-b0c1-4723-8912-4c12d3421850"
      },
      "outputs": [
        {
          "data": {
            "text/plain": [
              "array([[-2.0016, -0.3718, -2.0016, -0.3718],\n",
              "       [ 1.669 , -0.4386,  1.669 , -0.4386]])"
            ]
          },
          "execution_count": 25,
          "metadata": {},
          "output_type": "execute_result"
        }
      ],
      "source": [
        "arr\n",
        "np.tile(arr, 2)"
      ]
    },
    {
      "cell_type": "code",
      "execution_count": null,
      "id": "fbbeca8c",
      "metadata": {
        "id": "fbbeca8c",
        "outputId": "403d40e2-f70c-46e6-ce60-3d8c7a9295d2"
      },
      "outputs": [
        {
          "data": {
            "text/plain": [
              "array([[-2.0016, -0.3718, -2.0016, -0.3718],\n",
              "       [ 1.669 , -0.4386,  1.669 , -0.4386],\n",
              "       [-2.0016, -0.3718, -2.0016, -0.3718],\n",
              "       [ 1.669 , -0.4386,  1.669 , -0.4386],\n",
              "       [-2.0016, -0.3718, -2.0016, -0.3718],\n",
              "       [ 1.669 , -0.4386,  1.669 , -0.4386]])"
            ]
          },
          "execution_count": 26,
          "metadata": {},
          "output_type": "execute_result"
        }
      ],
      "source": [
        "arr\n",
        "np.tile(arr, (2, 1))\n",
        "np.tile(arr, (3, 2))"
      ]
    },
    {
      "cell_type": "code",
      "execution_count": null,
      "id": "9bd6b216",
      "metadata": {
        "id": "9bd6b216",
        "outputId": "fccb7401-eb84-45fb-b0a9-59c7be73d18d"
      },
      "outputs": [
        {
          "data": {
            "text/plain": [
              "array([700, 100, 200, 600])"
            ]
          },
          "execution_count": 27,
          "metadata": {},
          "output_type": "execute_result"
        }
      ],
      "source": [
        "arr = np.arange(10) * 100\n",
        "inds = [7, 1, 2, 6]\n",
        "arr[inds]"
      ]
    },
    {
      "cell_type": "code",
      "execution_count": null,
      "id": "c2c4fa6d",
      "metadata": {
        "id": "c2c4fa6d",
        "outputId": "b4ced533-0f61-4c60-ae83-19e2184ae09c"
      },
      "outputs": [
        {
          "data": {
            "text/plain": [
              "array([  0,  41,  42, 300, 400, 500,  43,  40, 800, 900])"
            ]
          },
          "execution_count": 28,
          "metadata": {},
          "output_type": "execute_result"
        }
      ],
      "source": [
        "arr.take(inds)\n",
        "arr.put(inds, 42)\n",
        "arr\n",
        "arr.put(inds, [40, 41, 42, 43])\n",
        "arr"
      ]
    },
    {
      "cell_type": "code",
      "execution_count": null,
      "id": "c5060c35",
      "metadata": {
        "id": "c5060c35",
        "outputId": "c1b29cfb-5713-42cd-e0c6-75d701a3addb"
      },
      "outputs": [
        {
          "data": {
            "text/plain": [
              "array([[ 3.2489, -0.5397,  3.2489,  0.477 ],\n",
              "       [ 0.3026, -0.5771,  0.3026,  0.1241]])"
            ]
          },
          "execution_count": 29,
          "metadata": {},
          "output_type": "execute_result"
        }
      ],
      "source": [
        "inds = [2, 0, 2, 1]\n",
        "arr = np.random.randn(2, 4)\n",
        "arr\n",
        "arr.take(inds, axis=1)"
      ]
    },
    {
      "cell_type": "markdown",
      "id": "370dfab3",
      "metadata": {
        "id": "370dfab3"
      },
      "source": [
        "Broadcasting"
      ]
    },
    {
      "cell_type": "code",
      "execution_count": null,
      "id": "776132a6",
      "metadata": {
        "id": "776132a6",
        "outputId": "0fcf903c-5388-4d5f-983f-dd5d9b30accd"
      },
      "outputs": [
        {
          "data": {
            "text/plain": [
              "array([ 0,  4,  8, 12, 16])"
            ]
          },
          "execution_count": 30,
          "metadata": {},
          "output_type": "execute_result"
        }
      ],
      "source": [
        "arr = np.arange(5)\n",
        "arr\n",
        "arr * 4"
      ]
    },
    {
      "cell_type": "code",
      "execution_count": null,
      "id": "37d7989f",
      "metadata": {
        "id": "37d7989f",
        "outputId": "3d10196a-f385-41e8-e81f-0b302d312ce6"
      },
      "outputs": [
        {
          "data": {
            "text/plain": [
              "array([-0.,  0., -0.])"
            ]
          },
          "execution_count": 31,
          "metadata": {},
          "output_type": "execute_result"
        }
      ],
      "source": [
        "arr = np.random.randn(4, 3)\n",
        "arr.mean(0)\n",
        "demeaned = arr - arr.mean(0)\n",
        "demeaned\n",
        "demeaned.mean(0)"
      ]
    },
    {
      "cell_type": "code",
      "execution_count": null,
      "id": "ca5d3aaa",
      "metadata": {
        "id": "ca5d3aaa",
        "outputId": "0591bd26-88c9-472a-d1d8-db517582df06"
      },
      "outputs": [
        {
          "data": {
            "text/plain": [
              "array([ 0., -0.,  0.,  0.])"
            ]
          },
          "execution_count": 32,
          "metadata": {},
          "output_type": "execute_result"
        }
      ],
      "source": [
        "arr\n",
        "row_means = arr.mean(1)\n",
        "row_means.shape\n",
        "row_means.reshape((4, 1))\n",
        "demeaned = arr - row_means.reshape((4, 1))\n",
        "demeaned.mean(1)"
      ]
    },
    {
      "cell_type": "markdown",
      "id": "b8637591",
      "metadata": {
        "id": "b8637591"
      },
      "source": [
        "Broadcasting Over Other Axes"
      ]
    },
    {
      "cell_type": "code",
      "execution_count": null,
      "id": "912b97a9",
      "metadata": {
        "id": "912b97a9",
        "outputId": "4ae37e36-d686-4cfb-f621-ac8ad83cd359"
      },
      "outputs": [
        {
          "ename": "ValueError",
          "evalue": "operands could not be broadcast together with shapes (4,3) (4,) ",
          "output_type": "error",
          "traceback": [
            "\u001b[1;31m---------------------------------------------------------------------------\u001b[0m",
            "\u001b[1;31mValueError\u001b[0m                                Traceback (most recent call last)",
            "\u001b[1;32m~\\AppData\\Local\\Temp/ipykernel_19696/1713987831.py\u001b[0m in \u001b[0;36m<module>\u001b[1;34m\u001b[0m\n\u001b[1;32m----> 1\u001b[1;33m \u001b[0marr\u001b[0m \u001b[1;33m-\u001b[0m \u001b[0marr\u001b[0m\u001b[1;33m.\u001b[0m\u001b[0mmean\u001b[0m\u001b[1;33m(\u001b[0m\u001b[1;36m1\u001b[0m\u001b[1;33m)\u001b[0m\u001b[1;33m\u001b[0m\u001b[1;33m\u001b[0m\u001b[0m\n\u001b[0m",
            "\u001b[1;31mValueError\u001b[0m: operands could not be broadcast together with shapes (4,3) (4,) "
          ]
        }
      ],
      "source": [
        "arr - arr.mean(1)"
      ]
    },
    {
      "cell_type": "code",
      "execution_count": null,
      "id": "efdf2024",
      "metadata": {
        "id": "efdf2024",
        "outputId": "0253bde0-3e73-4d6e-fc65-c0e94338b193"
      },
      "outputs": [
        {
          "data": {
            "text/plain": [
              "array([[-0.2095,  1.1334, -0.9239],\n",
              "       [ 0.8562, -0.6828, -0.1734],\n",
              "       [-0.3386,  1.0823, -0.7438],\n",
              "       [ 0.3234, -0.8599,  0.5365]])"
            ]
          },
          "execution_count": 34,
          "metadata": {},
          "output_type": "execute_result"
        }
      ],
      "source": [
        "arr - arr.mean(1).reshape((4, 1))"
      ]
    },
    {
      "cell_type": "code",
      "execution_count": null,
      "id": "4b0faaaf",
      "metadata": {
        "id": "4b0faaaf",
        "outputId": "d8db552b-051d-41ef-c573-35f454e2eb10"
      },
      "outputs": [
        {
          "data": {
            "text/plain": [
              "array([[-2.3594, -0.1995, -1.542 ]])"
            ]
          },
          "execution_count": 35,
          "metadata": {},
          "output_type": "execute_result"
        }
      ],
      "source": [
        "arr = np.zeros((4, 4))\n",
        "arr_3d = arr[:, np.newaxis, :]\n",
        "arr_3d.shape\n",
        "arr_1d = np.random.normal(size=3)\n",
        "arr_1d[:, np.newaxis]\n",
        "arr_1d[np.newaxis, :]"
      ]
    },
    {
      "cell_type": "code",
      "execution_count": null,
      "id": "11fddb95",
      "metadata": {
        "id": "11fddb95",
        "outputId": "4fc6cce9-8dbf-47bb-f040-b8ca74af6892"
      },
      "outputs": [
        {
          "data": {
            "text/plain": [
              "array([[ 0.,  0., -0., -0.],\n",
              "       [ 0.,  0., -0.,  0.],\n",
              "       [ 0.,  0., -0., -0.]])"
            ]
          },
          "execution_count": 36,
          "metadata": {},
          "output_type": "execute_result"
        }
      ],
      "source": [
        "arr = np.random.randn(3, 4, 5)\n",
        "depth_means = arr.mean(2)\n",
        "depth_means\n",
        "depth_means.shape\n",
        "demeaned = arr - depth_means[:, :, np.newaxis]\n",
        "demeaned.mean(2)"
      ]
    },
    {
      "cell_type": "code",
      "execution_count": null,
      "id": "2030f666",
      "metadata": {
        "id": "2030f666"
      },
      "outputs": [],
      "source": [
        "def demean_axis(arr, axis=0):\n",
        "    means = arr.mean(axis)\n"
      ]
    },
    {
      "cell_type": "markdown",
      "id": "eb3ff32a",
      "metadata": {
        "id": "eb3ff32a"
      },
      "source": [
        "# This generalizes things like [:, :, np.newaxis] to N dimensions\n",
        "    indexer = [slice(None)] * arr.ndim\n",
        "    indexer[axis] = np.newaxis\n",
        "    return arr - means[indexer]"
      ]
    },
    {
      "cell_type": "markdown",
      "id": "92b1b1ce",
      "metadata": {
        "id": "92b1b1ce"
      },
      "source": [
        "Setting Array Values by Broadcasting"
      ]
    },
    {
      "cell_type": "code",
      "execution_count": null,
      "id": "8cbecfe4",
      "metadata": {
        "id": "8cbecfe4",
        "outputId": "b1b02d78-6269-4a76-de25-73a23c549713"
      },
      "outputs": [
        {
          "data": {
            "text/plain": [
              "array([[5., 5., 5.],\n",
              "       [5., 5., 5.],\n",
              "       [5., 5., 5.],\n",
              "       [5., 5., 5.]])"
            ]
          },
          "execution_count": 38,
          "metadata": {},
          "output_type": "execute_result"
        }
      ],
      "source": [
        "arr = np.zeros((4, 3))\n",
        "arr[:] = 5\n",
        "arr"
      ]
    },
    {
      "cell_type": "code",
      "execution_count": null,
      "id": "db9d0f3c",
      "metadata": {
        "id": "db9d0f3c",
        "outputId": "1e553686-ab88-4667-eb7d-4b78642bcfad"
      },
      "outputs": [
        {
          "data": {
            "text/plain": [
              "array([[-1.37 , -1.37 , -1.37 ],\n",
              "       [ 0.509,  0.509,  0.509],\n",
              "       [ 0.44 ,  0.44 ,  0.44 ],\n",
              "       [ 1.6  ,  1.6  ,  1.6  ]])"
            ]
          },
          "execution_count": 39,
          "metadata": {},
          "output_type": "execute_result"
        }
      ],
      "source": [
        "col = np.array([1.28, -0.42, 0.44, 1.6])\n",
        "arr[:] = col[:, np.newaxis]\n",
        "arr\n",
        "arr[:2] = [[-1.37], [0.509]]\n",
        "arr"
      ]
    },
    {
      "cell_type": "markdown",
      "id": "89322e59",
      "metadata": {
        "id": "89322e59"
      },
      "source": [
        "Advanced ufunc Usage"
      ]
    },
    {
      "cell_type": "markdown",
      "id": "fcbdb026",
      "metadata": {
        "id": "fcbdb026"
      },
      "source": [
        "ufunc Instance Methods"
      ]
    },
    {
      "cell_type": "code",
      "execution_count": null,
      "id": "44bc532e",
      "metadata": {
        "id": "44bc532e",
        "outputId": "b0fdb113-4ec0-4efb-92b9-15195d501237"
      },
      "outputs": [
        {
          "data": {
            "text/plain": [
              "45"
            ]
          },
          "execution_count": 40,
          "metadata": {},
          "output_type": "execute_result"
        }
      ],
      "source": [
        "arr = np.arange(10)\n",
        "np.add.reduce(arr)\n",
        "arr.sum()"
      ]
    },
    {
      "cell_type": "code",
      "execution_count": null,
      "id": "c33a0757",
      "metadata": {
        "id": "c33a0757",
        "outputId": "19080435-e908-4c8c-dfeb-4f3e8d367a07"
      },
      "outputs": [
        {
          "data": {
            "text/plain": [
              "array([ True, False,  True, False,  True])"
            ]
          },
          "execution_count": 41,
          "metadata": {},
          "output_type": "execute_result"
        }
      ],
      "source": [
        "np.random.seed(12346)  # for reproducibility\n",
        "arr = np.random.randn(5, 5)\n",
        "arr[::2].sort(1) # sort a few rows\n",
        "arr[:, :-1] < arr[:, 1:]\n",
        "np.logical_and.reduce(arr[:, :-1] < arr[:, 1:], axis=1)"
      ]
    },
    {
      "cell_type": "code",
      "execution_count": null,
      "id": "f9099cef",
      "metadata": {
        "id": "f9099cef",
        "outputId": "43f64bce-7cbf-4c39-9014-22567269820e"
      },
      "outputs": [
        {
          "data": {
            "text/plain": [
              "array([[ 0,  1,  3,  6, 10],\n",
              "       [ 5, 11, 18, 26, 35],\n",
              "       [10, 21, 33, 46, 60]], dtype=int32)"
            ]
          },
          "execution_count": 42,
          "metadata": {},
          "output_type": "execute_result"
        }
      ],
      "source": [
        "arr = np.arange(15).reshape((3, 5))\n",
        "np.add.accumulate(arr, axis=1)"
      ]
    },
    {
      "cell_type": "code",
      "execution_count": null,
      "id": "a05b8bfc",
      "metadata": {
        "id": "a05b8bfc",
        "outputId": "2baf437b-87c0-429b-87bf-d026a252468e"
      },
      "outputs": [
        {
          "data": {
            "text/plain": [
              "array([[0, 0, 0, 0, 0],\n",
              "       [0, 1, 2, 3, 4],\n",
              "       [0, 1, 2, 3, 4],\n",
              "       [0, 2, 4, 6, 8],\n",
              "       [0, 2, 4, 6, 8]])"
            ]
          },
          "execution_count": 43,
          "metadata": {},
          "output_type": "execute_result"
        }
      ],
      "source": [
        "arr = np.arange(3).repeat([1, 2, 2])\n",
        "arr\n",
        "np.multiply.outer(arr, np.arange(5))"
      ]
    },
    {
      "cell_type": "code",
      "execution_count": null,
      "id": "5047e2de",
      "metadata": {
        "id": "5047e2de",
        "outputId": "f35a52e3-f7d1-44ce-aae0-468a97dd9114"
      },
      "outputs": [
        {
          "data": {
            "text/plain": [
              "(3, 4, 5)"
            ]
          },
          "execution_count": 44,
          "metadata": {},
          "output_type": "execute_result"
        }
      ],
      "source": [
        "x, y = np.random.randn(3, 4), np.random.randn(5)\n",
        "result = np.subtract.outer(x, y)\n",
        "result.shape"
      ]
    },
    {
      "cell_type": "code",
      "execution_count": null,
      "id": "576ec5dd",
      "metadata": {
        "id": "576ec5dd",
        "outputId": "477add2c-29d2-4de8-e8e4-7d73bd9695a5"
      },
      "outputs": [
        {
          "data": {
            "text/plain": [
              "array([10, 18, 17], dtype=int32)"
            ]
          },
          "execution_count": 45,
          "metadata": {},
          "output_type": "execute_result"
        }
      ],
      "source": [
        "arr = np.arange(10)\n",
        "np.add.reduceat(arr, [0, 5, 8])"
      ]
    },
    {
      "cell_type": "code",
      "execution_count": null,
      "id": "9524ccff",
      "metadata": {
        "id": "9524ccff",
        "outputId": "c2c525d2-2b44-4717-bfd4-d64de05406a9"
      },
      "outputs": [
        {
          "data": {
            "text/plain": [
              "array([[ 0,  0,  0],\n",
              "       [ 1,  5,  4],\n",
              "       [ 2, 10,  8],\n",
              "       [ 3, 15, 12]], dtype=int32)"
            ]
          },
          "execution_count": 46,
          "metadata": {},
          "output_type": "execute_result"
        }
      ],
      "source": [
        "arr = np.multiply.outer(np.arange(4), np.arange(5))\n",
        "arr\n",
        "np.add.reduceat(arr, [0, 2, 4], axis=1)"
      ]
    },
    {
      "cell_type": "markdown",
      "id": "8bab44d0",
      "metadata": {
        "id": "8bab44d0"
      },
      "source": [
        "Writing New ufuncs in Python"
      ]
    },
    {
      "cell_type": "code",
      "execution_count": null,
      "id": "8c2eb9db",
      "metadata": {
        "id": "8c2eb9db",
        "outputId": "c740ef50-a08e-49a4-94b5-fb0715ac0802"
      },
      "outputs": [
        {
          "data": {
            "text/plain": [
              "array([0, 2, 4, 6, 8, 10, 12, 14], dtype=object)"
            ]
          },
          "execution_count": 47,
          "metadata": {},
          "output_type": "execute_result"
        }
      ],
      "source": [
        "def add_elements(x, y):\n",
        "    return x + y\n",
        "add_them = np.frompyfunc(add_elements, 2, 1)\n",
        "add_them(np.arange(8), np.arange(8))"
      ]
    },
    {
      "cell_type": "code",
      "execution_count": null,
      "id": "a45bb600",
      "metadata": {
        "id": "a45bb600",
        "outputId": "76b40ebe-82c8-48fa-d559-85084bbc3566"
      },
      "outputs": [
        {
          "data": {
            "text/plain": [
              "array([ 0.,  2.,  4.,  6.,  8., 10., 12., 14.])"
            ]
          },
          "execution_count": 48,
          "metadata": {},
          "output_type": "execute_result"
        }
      ],
      "source": [
        "add_them = np.vectorize(add_elements, otypes=[np.float64])\n",
        "add_them(np.arange(8), np.arange(8))"
      ]
    },
    {
      "cell_type": "code",
      "execution_count": null,
      "id": "1f1139dc",
      "metadata": {
        "id": "1f1139dc",
        "outputId": "42ebed42-fa97-477b-9065-af95798f33d4"
      },
      "outputs": [
        {
          "name": "stdout",
          "output_type": "stream",
          "text": [
            "5.17 ms ± 1.87 ms per loop (mean ± std. dev. of 7 runs, 100 loops each)\n",
            "13.1 µs ± 2.88 µs per loop (mean ± std. dev. of 7 runs, 100000 loops each)\n"
          ]
        }
      ],
      "source": [
        "arr = np.random.randn(10000)\n",
        "%timeit add_them(arr, arr)\n",
        "%timeit np.add(arr, arr)"
      ]
    },
    {
      "cell_type": "markdown",
      "id": "5f78d432",
      "metadata": {
        "id": "5f78d432"
      },
      "source": [
        "Structured and Record Arrays"
      ]
    },
    {
      "cell_type": "code",
      "execution_count": null,
      "id": "c0369d40",
      "metadata": {
        "id": "c0369d40",
        "outputId": "27324315-0737-403e-aaff-9561acc22329"
      },
      "outputs": [
        {
          "data": {
            "text/plain": [
              "array([(1.5   ,  6), (3.1416, -2)], dtype=[('x', '<f8'), ('y', '<i4')])"
            ]
          },
          "execution_count": 50,
          "metadata": {},
          "output_type": "execute_result"
        }
      ],
      "source": [
        "dtype = [('x', np.float64), ('y', np.int32)]\n",
        "sarr = np.array([(1.5, 6), (np.pi, -2)], dtype=dtype)\n",
        "sarr"
      ]
    },
    {
      "cell_type": "code",
      "execution_count": null,
      "id": "17901d37",
      "metadata": {
        "id": "17901d37",
        "outputId": "bb325083-8549-423b-d5eb-7b71aab87816"
      },
      "outputs": [
        {
          "data": {
            "text/plain": [
              "6"
            ]
          },
          "execution_count": 51,
          "metadata": {},
          "output_type": "execute_result"
        }
      ],
      "source": [
        "sarr[0]\n",
        "sarr[0]['y']"
      ]
    },
    {
      "cell_type": "code",
      "execution_count": null,
      "id": "7844a252",
      "metadata": {
        "id": "7844a252",
        "outputId": "7d67c372-f845-4af6-879a-0328d6035a47"
      },
      "outputs": [
        {
          "data": {
            "text/plain": [
              "array([1.5   , 3.1416])"
            ]
          },
          "execution_count": 52,
          "metadata": {},
          "output_type": "execute_result"
        }
      ],
      "source": [
        "sarr['x']"
      ]
    },
    {
      "cell_type": "markdown",
      "id": "e6659b90",
      "metadata": {
        "id": "e6659b90"
      },
      "source": [
        "Nested dtypes and Multidimensional Fields"
      ]
    },
    {
      "cell_type": "code",
      "execution_count": null,
      "id": "5ab86972",
      "metadata": {
        "id": "5ab86972"
      },
      "outputs": [],
      "source": [
        ""
      ]
    }
  ],
  "metadata": {
    "interpreter": {
      "hash": "7679c2132d3f6ce38c9df14d554b39c06862b36a4e6689c81f9ae15bd0911d7d"
    },
    "kernelspec": {
      "display_name": "Python 3.9.7 ('base')",
      "language": "python",
      "name": "python3"
    },
    "language_info": {
      "codemirror_mode": {
        "name": "ipython",
        "version": 3
      },
      "file_extension": ".py",
      "mimetype": "text/x-python",
      "name": "python",
      "nbconvert_exporter": "python",
      "pygments_lexer": "ipython3",
      "version": "3.9.7"
    },
    "colab": {
      "name": "Numpy-Advanced.ipynb",
      "provenance": [],
      "include_colab_link": true
    }
  },
  "nbformat": 4,
  "nbformat_minor": 5
}