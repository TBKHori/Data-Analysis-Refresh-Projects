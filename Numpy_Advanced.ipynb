{
  "cells": [
    {
      "cell_type": "markdown",
      "metadata": {
        "id": "view-in-github",
        "colab_type": "text"
      },
      "source": [
        "<a href=\"https://colab.research.google.com/github/TBKHori/Data-Analysis-Refresher-notes/blob/main/Numpy_Advanced.ipynb\" target=\"_parent\"><img src=\"https://colab.research.google.com/assets/colab-badge.svg\" alt=\"Open In Colab\"/></a>"
      ]
    },
    {
      "cell_type": "code",
      "execution_count": null,
      "id": "773ad6d4",
      "metadata": {
        "id": "773ad6d4",
        "outputId": "526c9dc3-2533-4388-b35b-98fa95d8ae2a"
      },
      "outputs": [
        {
          "ename": "KeyboardInterrupt",
          "evalue": "",
          "output_type": "error",
          "traceback": [
            "\u001b[1;31m---------------------------------------------------------------------------\u001b[0m",
            "\u001b[1;31mKeyboardInterrupt\u001b[0m                         Traceback (most recent call last)",
            "\u001b[1;32m~\\AppData\\Local\\Temp/ipykernel_22412/2193432274.py\u001b[0m in \u001b[0;36m<module>\u001b[1;34m\u001b[0m\n\u001b[0;32m      3\u001b[0m \u001b[0mnp\u001b[0m\u001b[1;33m.\u001b[0m\u001b[0mrandom\u001b[0m\u001b[1;33m.\u001b[0m\u001b[0mseed\u001b[0m\u001b[1;33m(\u001b[0m\u001b[1;36m12345\u001b[0m\u001b[1;33m)\u001b[0m\u001b[1;33m\u001b[0m\u001b[1;33m\u001b[0m\u001b[0m\n\u001b[0;32m      4\u001b[0m \u001b[1;32mimport\u001b[0m \u001b[0mmatplotlib\u001b[0m\u001b[1;33m.\u001b[0m\u001b[0mpyplot\u001b[0m \u001b[1;32mas\u001b[0m \u001b[0mplt\u001b[0m\u001b[1;33m\u001b[0m\u001b[1;33m\u001b[0m\u001b[0m\n\u001b[1;32m----> 5\u001b[1;33m \u001b[0mplt\u001b[0m\u001b[1;33m.\u001b[0m\u001b[0mrc\u001b[0m\u001b[1;33m(\u001b[0m\u001b[1;34m'figure'\u001b[0m\u001b[1;33m,\u001b[0m \u001b[0mfigsize\u001b[0m\u001b[1;33m=\u001b[0m\u001b[1;33m(\u001b[0m\u001b[1;36m10\u001b[0m\u001b[1;33m,\u001b[0m \u001b[1;36m6\u001b[0m\u001b[1;33m)\u001b[0m\u001b[1;33m)\u001b[0m\u001b[1;33m\u001b[0m\u001b[1;33m\u001b[0m\u001b[0m\n\u001b[0m\u001b[0;32m      6\u001b[0m \u001b[0mPREVIOUS_MAX_ROWS\u001b[0m \u001b[1;33m=\u001b[0m \u001b[0mpd\u001b[0m\u001b[1;33m.\u001b[0m\u001b[0moptions\u001b[0m\u001b[1;33m.\u001b[0m\u001b[0mdisplay\u001b[0m\u001b[1;33m.\u001b[0m\u001b[0mmax_rows\u001b[0m\u001b[1;33m\u001b[0m\u001b[1;33m\u001b[0m\u001b[0m\n\u001b[0;32m      7\u001b[0m \u001b[0mpd\u001b[0m\u001b[1;33m.\u001b[0m\u001b[0moptions\u001b[0m\u001b[1;33m.\u001b[0m\u001b[0mdisplay\u001b[0m\u001b[1;33m.\u001b[0m\u001b[0mmax_rows\u001b[0m \u001b[1;33m=\u001b[0m \u001b[1;36m20\u001b[0m\u001b[1;33m\u001b[0m\u001b[1;33m\u001b[0m\u001b[0m\n",
            "\u001b[1;32mc:\\Users\\LENOVO\\anaconda3\\lib\\site-packages\\matplotlib\\pyplot.py\u001b[0m in \u001b[0;36mrc\u001b[1;34m(group, **kwargs)\u001b[0m\n\u001b[0;32m    563\u001b[0m \u001b[1;33m@\u001b[0m\u001b[0m_copy_docstring_and_deprecators\u001b[0m\u001b[1;33m(\u001b[0m\u001b[0mmatplotlib\u001b[0m\u001b[1;33m.\u001b[0m\u001b[0mrc\u001b[0m\u001b[1;33m)\u001b[0m\u001b[1;33m\u001b[0m\u001b[1;33m\u001b[0m\u001b[0m\n\u001b[0;32m    564\u001b[0m \u001b[1;32mdef\u001b[0m \u001b[0mrc\u001b[0m\u001b[1;33m(\u001b[0m\u001b[0mgroup\u001b[0m\u001b[1;33m,\u001b[0m \u001b[1;33m**\u001b[0m\u001b[0mkwargs\u001b[0m\u001b[1;33m)\u001b[0m\u001b[1;33m:\u001b[0m\u001b[1;33m\u001b[0m\u001b[1;33m\u001b[0m\u001b[0m\n\u001b[1;32m--> 565\u001b[1;33m     \u001b[0mmatplotlib\u001b[0m\u001b[1;33m.\u001b[0m\u001b[0mrc\u001b[0m\u001b[1;33m(\u001b[0m\u001b[0mgroup\u001b[0m\u001b[1;33m,\u001b[0m \u001b[1;33m**\u001b[0m\u001b[0mkwargs\u001b[0m\u001b[1;33m)\u001b[0m\u001b[1;33m\u001b[0m\u001b[1;33m\u001b[0m\u001b[0m\n\u001b[0m\u001b[0;32m    566\u001b[0m \u001b[1;33m\u001b[0m\u001b[0m\n\u001b[0;32m    567\u001b[0m \u001b[1;33m\u001b[0m\u001b[0m\n",
            "\u001b[1;32mc:\\Users\\LENOVO\\anaconda3\\lib\\site-packages\\matplotlib\\__init__.py\u001b[0m in \u001b[0;36mrc\u001b[1;34m(group, **kwargs)\u001b[0m\n\u001b[0;32m    913\u001b[0m             \u001b[0mkey\u001b[0m \u001b[1;33m=\u001b[0m \u001b[1;34m'%s.%s'\u001b[0m \u001b[1;33m%\u001b[0m \u001b[1;33m(\u001b[0m\u001b[0mg\u001b[0m\u001b[1;33m,\u001b[0m \u001b[0mname\u001b[0m\u001b[1;33m)\u001b[0m\u001b[1;33m\u001b[0m\u001b[1;33m\u001b[0m\u001b[0m\n\u001b[0;32m    914\u001b[0m             \u001b[1;32mtry\u001b[0m\u001b[1;33m:\u001b[0m\u001b[1;33m\u001b[0m\u001b[1;33m\u001b[0m\u001b[0m\n\u001b[1;32m--> 915\u001b[1;33m                 \u001b[0mrcParams\u001b[0m\u001b[1;33m[\u001b[0m\u001b[0mkey\u001b[0m\u001b[1;33m]\u001b[0m \u001b[1;33m=\u001b[0m \u001b[0mv\u001b[0m\u001b[1;33m\u001b[0m\u001b[1;33m\u001b[0m\u001b[0m\n\u001b[0m\u001b[0;32m    916\u001b[0m             \u001b[1;32mexcept\u001b[0m \u001b[0mKeyError\u001b[0m \u001b[1;32mas\u001b[0m \u001b[0merr\u001b[0m\u001b[1;33m:\u001b[0m\u001b[1;33m\u001b[0m\u001b[1;33m\u001b[0m\u001b[0m\n\u001b[0;32m    917\u001b[0m                 raise KeyError(('Unrecognized key \"%s\" for group \"%s\" and '\n",
            "\u001b[1;32mc:\\Users\\LENOVO\\anaconda3\\lib\\site-packages\\matplotlib\\__init__.py\u001b[0m in \u001b[0;36m__setitem__\u001b[1;34m(self, key, val)\u001b[0m\n\u001b[0;32m    573\u001b[0m \u001b[1;33m\u001b[0m\u001b[0m\n\u001b[0;32m    574\u001b[0m     \u001b[1;32mdef\u001b[0m \u001b[0m__setitem__\u001b[0m\u001b[1;33m(\u001b[0m\u001b[0mself\u001b[0m\u001b[1;33m,\u001b[0m \u001b[0mkey\u001b[0m\u001b[1;33m,\u001b[0m \u001b[0mval\u001b[0m\u001b[1;33m)\u001b[0m\u001b[1;33m:\u001b[0m\u001b[1;33m\u001b[0m\u001b[1;33m\u001b[0m\u001b[0m\n\u001b[1;32m--> 575\u001b[1;33m         \u001b[1;32mtry\u001b[0m\u001b[1;33m:\u001b[0m\u001b[1;33m\u001b[0m\u001b[1;33m\u001b[0m\u001b[0m\n\u001b[0m\u001b[0;32m    576\u001b[0m             \u001b[1;32mif\u001b[0m \u001b[0mkey\u001b[0m \u001b[1;32min\u001b[0m \u001b[0m_deprecated_map\u001b[0m\u001b[1;33m:\u001b[0m\u001b[1;33m\u001b[0m\u001b[1;33m\u001b[0m\u001b[0m\n\u001b[0;32m    577\u001b[0m                 \u001b[0mversion\u001b[0m\u001b[1;33m,\u001b[0m \u001b[0malt_key\u001b[0m\u001b[1;33m,\u001b[0m \u001b[0malt_val\u001b[0m\u001b[1;33m,\u001b[0m \u001b[0minverse_alt\u001b[0m \u001b[1;33m=\u001b[0m \u001b[0m_deprecated_map\u001b[0m\u001b[1;33m[\u001b[0m\u001b[0mkey\u001b[0m\u001b[1;33m]\u001b[0m\u001b[1;33m\u001b[0m\u001b[1;33m\u001b[0m\u001b[0m\n",
            "\u001b[1;31mKeyboardInterrupt\u001b[0m: "
          ]
        }
      ],
      "source": [
        "import numpy as np\n",
        "import pandas as pd\n",
        "np.random.seed(12345)\n",
        "import matplotlib.pyplot as plt\n",
        "plt.rc('figure', figsize=(10, 6))\n",
        "PREVIOUS_MAX_ROWS = pd.options.display.max_rows\n",
        "pd.options.display.max_rows = 20\n",
        "np.set_printoptions(precision=4, suppress=True)"
      ]
    },
    {
      "cell_type": "markdown",
      "id": "02775ec0",
      "metadata": {
        "id": "02775ec0"
      },
      "source": [
        "ndarray Object Internals"
      ]
    },
    {
      "cell_type": "code",
      "execution_count": null,
      "id": "a1339f35",
      "metadata": {
        "id": "a1339f35",
        "outputId": "ee5a102e-9098-4644-97bb-03b9d57c5912"
      },
      "outputs": [
        {
          "data": {
            "text/plain": [
              "(10, 5)"
            ]
          },
          "execution_count": 4,
          "metadata": {},
          "output_type": "execute_result"
        }
      ],
      "source": [
        "np.ones((10, 5)).shape"
      ]
    },
    {
      "cell_type": "markdown",
      "id": "ce70597c",
      "metadata": {
        "id": "ce70597c"
      },
      "source": [
        "NumPy dtype Hierarchy"
      ]
    },
    {
      "cell_type": "code",
      "execution_count": null,
      "id": "9f575661",
      "metadata": {
        "id": "9f575661",
        "outputId": "735f7a27-df85-4764-8efc-1827cf6128a4"
      },
      "outputs": [
        {
          "data": {
            "text/plain": [
              "(160, 40, 8)"
            ]
          },
          "execution_count": 5,
          "metadata": {},
          "output_type": "execute_result"
        }
      ],
      "source": [
        "np.ones((3, 4, 5), dtype=np.float64).strides"
      ]
    },
    {
      "cell_type": "code",
      "execution_count": null,
      "id": "ec52ac0a",
      "metadata": {
        "id": "ec52ac0a",
        "outputId": "b75ea6b2-1861-42b8-827c-01803ad8c732"
      },
      "outputs": [
        {
          "data": {
            "text/plain": [
              "True"
            ]
          },
          "execution_count": 6,
          "metadata": {},
          "output_type": "execute_result"
        }
      ],
      "source": [
        "ints = np.ones(10, dtype=np.uint16)\n",
        "floats = np.ones(10, dtype=np.float32)\n",
        "np.issubdtype(ints.dtype, np.integer)\n",
        "np.issubdtype(floats.dtype, np.floating)"
      ]
    },
    {
      "cell_type": "code",
      "execution_count": null,
      "id": "fe7b8436",
      "metadata": {
        "id": "fe7b8436",
        "outputId": "7ab45290-8852-481c-8666-9f7fcb0f0c71"
      },
      "outputs": [
        {
          "data": {
            "text/plain": [
              "[numpy.float64,\n",
              " numpy.floating,\n",
              " numpy.inexact,\n",
              " numpy.number,\n",
              " numpy.generic,\n",
              " float,\n",
              " object]"
            ]
          },
          "execution_count": 7,
          "metadata": {},
          "output_type": "execute_result"
        }
      ],
      "source": [
        "np.float64.mro()"
      ]
    },
    {
      "cell_type": "code",
      "execution_count": null,
      "id": "78a1eec2",
      "metadata": {
        "id": "78a1eec2",
        "outputId": "8fa5fe82-88fb-498f-f85b-834e6868bf22"
      },
      "outputs": [
        {
          "data": {
            "text/plain": [
              "True"
            ]
          },
          "execution_count": 8,
          "metadata": {},
          "output_type": "execute_result"
        }
      ],
      "source": [
        "np.issubdtype(ints.dtype, np.number)"
      ]
    },
    {
      "cell_type": "markdown",
      "id": "edc62dc5",
      "metadata": {
        "id": "edc62dc5"
      },
      "source": [
        "Advanced Array Manipulation\n",
        "\n",
        "Reshaping Arrays"
      ]
    },
    {
      "cell_type": "code",
      "execution_count": null,
      "id": "dd25d3b5",
      "metadata": {
        "id": "dd25d3b5",
        "outputId": "fb6938b7-21c3-4d58-cc95-09513c6d767c"
      },
      "outputs": [
        {
          "data": {
            "text/plain": [
              "array([[0, 1],\n",
              "       [2, 3],\n",
              "       [4, 5],\n",
              "       [6, 7]])"
            ]
          },
          "execution_count": 9,
          "metadata": {},
          "output_type": "execute_result"
        }
      ],
      "source": [
        "arr = np.arange(8)\n",
        "arr\n",
        "arr.reshape((4, 2))"
      ]
    },
    {
      "cell_type": "code",
      "execution_count": null,
      "id": "fd1286ab",
      "metadata": {
        "id": "fd1286ab",
        "outputId": "968c20ba-fac4-4ba1-d5da-33557b22ffd1"
      },
      "outputs": [
        {
          "data": {
            "text/plain": [
              "array([[0, 1, 2, 3],\n",
              "       [4, 5, 6, 7]])"
            ]
          },
          "execution_count": 10,
          "metadata": {},
          "output_type": "execute_result"
        }
      ],
      "source": [
        "arr.reshape((4, 2)).reshape((2, 4))"
      ]
    },
    {
      "cell_type": "code",
      "execution_count": null,
      "id": "1be5b408",
      "metadata": {
        "id": "1be5b408",
        "outputId": "28b6cd21-7406-41f5-d91f-96d098d081ed"
      },
      "outputs": [
        {
          "data": {
            "text/plain": [
              "array([[ 0,  1,  2],\n",
              "       [ 3,  4,  5],\n",
              "       [ 6,  7,  8],\n",
              "       [ 9, 10, 11],\n",
              "       [12, 13, 14]])"
            ]
          },
          "execution_count": 11,
          "metadata": {},
          "output_type": "execute_result"
        }
      ],
      "source": [
        "arr = np.arange(15)\n",
        "arr.reshape((5, -1))"
      ]
    },
    {
      "cell_type": "code",
      "execution_count": null,
      "id": "656dad24",
      "metadata": {
        "id": "656dad24",
        "outputId": "cbac2067-cf0d-4f4f-ce1e-fbea9363da53"
      },
      "outputs": [
        {
          "data": {
            "text/plain": [
              "array([[ 0,  1,  2,  3,  4],\n",
              "       [ 5,  6,  7,  8,  9],\n",
              "       [10, 11, 12, 13, 14]])"
            ]
          },
          "execution_count": 12,
          "metadata": {},
          "output_type": "execute_result"
        }
      ],
      "source": [
        "other_arr = np.ones((3, 5))\n",
        "other_arr.shape\n",
        "arr.reshape(other_arr.shape)"
      ]
    },
    {
      "cell_type": "code",
      "execution_count": null,
      "id": "42eb9667",
      "metadata": {
        "id": "42eb9667",
        "outputId": "fd7dfd26-51b1-45a5-f39b-e1432d168265"
      },
      "outputs": [
        {
          "data": {
            "text/plain": [
              "array([ 0,  1,  2,  3,  4,  5,  6,  7,  8,  9, 10, 11, 12, 13, 14])"
            ]
          },
          "execution_count": 13,
          "metadata": {},
          "output_type": "execute_result"
        }
      ],
      "source": [
        "arr = np.arange(15).reshape((5, 3))\n",
        "arr\n",
        "arr.ravel()"
      ]
    },
    {
      "cell_type": "code",
      "execution_count": null,
      "id": "b2b6510f",
      "metadata": {
        "id": "b2b6510f",
        "outputId": "6263bc38-29b1-4acb-dafd-bd05a251e5ac"
      },
      "outputs": [
        {
          "data": {
            "text/plain": [
              "array([ 0,  1,  2,  3,  4,  5,  6,  7,  8,  9, 10, 11, 12, 13, 14])"
            ]
          },
          "execution_count": 14,
          "metadata": {},
          "output_type": "execute_result"
        }
      ],
      "source": [
        "arr.flatten()"
      ]
    },
    {
      "cell_type": "markdown",
      "id": "27ddac4f",
      "metadata": {
        "id": "27ddac4f"
      },
      "source": [
        "Concatenating and Splitting Arrays"
      ]
    },
    {
      "cell_type": "code",
      "execution_count": null,
      "id": "d1aced35",
      "metadata": {
        "id": "d1aced35",
        "outputId": "2137d600-fdde-4a4c-a556-5cdb2c67b2c4"
      },
      "outputs": [
        {
          "data": {
            "text/plain": [
              "array([ 0,  4,  8,  1,  5,  9,  2,  6, 10,  3,  7, 11])"
            ]
          },
          "execution_count": 15,
          "metadata": {},
          "output_type": "execute_result"
        }
      ],
      "source": [
        "arr = np.arange(12).reshape((3, 4))\n",
        "arr\n",
        "arr.ravel()\n",
        "arr.ravel('F')"
      ]
    },
    {
      "cell_type": "markdown",
      "id": "df52c7f3",
      "metadata": {
        "id": "df52c7f3"
      },
      "source": [
        "Concatenating and Splitting Arrays"
      ]
    },
    {
      "cell_type": "code",
      "execution_count": null,
      "id": "b8618e51",
      "metadata": {
        "id": "b8618e51",
        "outputId": "d0738ce7-7c1f-4d4e-c82f-e413491336d2"
      },
      "outputs": [
        {
          "data": {
            "text/plain": [
              "array([[ 1,  2,  3,  7,  8,  9],\n",
              "       [ 4,  5,  6, 10, 11, 12]])"
            ]
          },
          "execution_count": 16,
          "metadata": {},
          "output_type": "execute_result"
        }
      ],
      "source": [
        "arr1 = np.array([[1, 2, 3], [4, 5, 6]])\n",
        "arr2 = np.array([[7, 8, 9], [10, 11, 12]])\n",
        "np.concatenate([arr1, arr2], axis=0)\n",
        "np.concatenate([arr1, arr2], axis=1)"
      ]
    },
    {
      "cell_type": "code",
      "execution_count": null,
      "id": "99c95caf",
      "metadata": {
        "id": "99c95caf",
        "outputId": "50f2d790-af62-4175-ed3e-c284108bdb50"
      },
      "outputs": [
        {
          "data": {
            "text/plain": [
              "array([[ 1,  2,  3,  7,  8,  9],\n",
              "       [ 4,  5,  6, 10, 11, 12]])"
            ]
          },
          "execution_count": 17,
          "metadata": {},
          "output_type": "execute_result"
        }
      ],
      "source": [
        "np.vstack((arr1, arr2))\n",
        "np.hstack((arr1, arr2))"
      ]
    },
    {
      "cell_type": "code",
      "execution_count": null,
      "id": "4752a5f7",
      "metadata": {
        "id": "4752a5f7",
        "outputId": "40596207-652d-4e55-dbdb-528f30566c4f"
      },
      "outputs": [
        {
          "data": {
            "text/plain": [
              "array([[0.0929, 0.2817],\n",
              "       [0.769 , 1.2464]])"
            ]
          },
          "execution_count": 18,
          "metadata": {},
          "output_type": "execute_result"
        }
      ],
      "source": [
        "arr = np.random.randn(5, 2)\n",
        "arr\n",
        "first, second, third = np.split(arr, [1, 3])\n",
        "first\n",
        "second\n",
        "third"
      ]
    },
    {
      "cell_type": "markdown",
      "id": "6abe7f71",
      "metadata": {
        "id": "6abe7f71"
      },
      "source": [
        "Stacking helpers: r and c"
      ]
    },
    {
      "cell_type": "code",
      "execution_count": null,
      "id": "6b5dc172",
      "metadata": {
        "id": "6b5dc172",
        "outputId": "04177054-e0f3-45b2-f87e-3f566f6efa18"
      },
      "outputs": [
        {
          "data": {
            "text/plain": [
              "array([[ 0.    ,  1.    ,  0.    ],\n",
              "       [ 2.    ,  3.    ,  1.    ],\n",
              "       [ 4.    ,  5.    ,  2.    ],\n",
              "       [ 1.0072, -1.2962,  3.    ],\n",
              "       [ 0.275 ,  0.2289,  4.    ],\n",
              "       [ 1.3529,  0.8864,  5.    ]])"
            ]
          },
          "execution_count": 19,
          "metadata": {},
          "output_type": "execute_result"
        }
      ],
      "source": [
        "arr = np.arange(6)\n",
        "arr1 = arr.reshape((3, 2))\n",
        "arr2 = np.random.randn(3, 2)\n",
        "np.r_[arr1, arr2]\n",
        "np.c_[np.r_[arr1, arr2], arr]"
      ]
    },
    {
      "cell_type": "code",
      "execution_count": null,
      "id": "766dee07",
      "metadata": {
        "id": "766dee07",
        "outputId": "2c821291-a957-42e6-e477-e9827a89e601"
      },
      "outputs": [
        {
          "data": {
            "text/plain": [
              "array([[  1, -10],\n",
              "       [  2,  -9],\n",
              "       [  3,  -8],\n",
              "       [  4,  -7],\n",
              "       [  5,  -6]])"
            ]
          },
          "execution_count": 20,
          "metadata": {},
          "output_type": "execute_result"
        }
      ],
      "source": [
        "np.c_[1:6, -10:-5]"
      ]
    },
    {
      "cell_type": "markdown",
      "id": "1c75f392",
      "metadata": {
        "id": "1c75f392"
      },
      "source": [
        "Repeating Elements: tile and repeat"
      ]
    },
    {
      "cell_type": "code",
      "execution_count": null,
      "id": "2cc1f0b8",
      "metadata": {
        "id": "2cc1f0b8",
        "outputId": "769232cc-c62e-4604-a311-baf89b0246ce"
      },
      "outputs": [
        {
          "data": {
            "text/plain": [
              "array([0, 0, 0, 1, 1, 1, 2, 2, 2])"
            ]
          },
          "execution_count": 21,
          "metadata": {},
          "output_type": "execute_result"
        }
      ],
      "source": [
        "arr = np.arange(3)\n",
        "arr\n",
        "arr.repeat(3)"
      ]
    },
    {
      "cell_type": "code",
      "execution_count": null,
      "id": "09c14c3e",
      "metadata": {
        "id": "09c14c3e",
        "outputId": "bf0b3ba3-76ee-4e46-868a-62dea72ffb78"
      },
      "outputs": [
        {
          "data": {
            "text/plain": [
              "array([0, 0, 1, 1, 1, 2, 2, 2, 2])"
            ]
          },
          "execution_count": 22,
          "metadata": {},
          "output_type": "execute_result"
        }
      ],
      "source": [
        "arr.repeat([2, 3, 4])"
      ]
    },
    {
      "cell_type": "code",
      "execution_count": null,
      "id": "a0685c14",
      "metadata": {
        "id": "a0685c14",
        "outputId": "6c0b671a-f6d1-401a-c63f-90b00eb35658"
      },
      "outputs": [
        {
          "data": {
            "text/plain": [
              "array([[-2.0016, -0.3718],\n",
              "       [-2.0016, -0.3718],\n",
              "       [ 1.669 , -0.4386],\n",
              "       [ 1.669 , -0.4386]])"
            ]
          },
          "execution_count": 23,
          "metadata": {},
          "output_type": "execute_result"
        }
      ],
      "source": [
        "arr = np.random.randn(2, 2)\n",
        "arr\n",
        "arr.repeat(2, axis=0)"
      ]
    },
    {
      "cell_type": "code",
      "execution_count": null,
      "id": "6acf74c5",
      "metadata": {
        "id": "6acf74c5",
        "outputId": "4a9de2c8-8c58-47bb-c151-6829740653d7"
      },
      "outputs": [
        {
          "data": {
            "text/plain": [
              "array([[-2.0016, -2.0016, -0.3718, -0.3718, -0.3718],\n",
              "       [ 1.669 ,  1.669 , -0.4386, -0.4386, -0.4386]])"
            ]
          },
          "execution_count": 24,
          "metadata": {},
          "output_type": "execute_result"
        }
      ],
      "source": [
        "arr.repeat([2, 3], axis=0)\n",
        "arr.repeat([2, 3], axis=1)"
      ]
    },
    {
      "cell_type": "code",
      "execution_count": null,
      "id": "722e3328",
      "metadata": {
        "id": "722e3328",
        "outputId": "6123ee46-88b0-4fff-fe7e-61250eef33b3"
      },
      "outputs": [
        {
          "data": {
            "text/plain": [
              "array([[-2.0016, -0.3718, -2.0016, -0.3718],\n",
              "       [ 1.669 , -0.4386,  1.669 , -0.4386]])"
            ]
          },
          "execution_count": 25,
          "metadata": {},
          "output_type": "execute_result"
        }
      ],
      "source": [
        "arr\n",
        "np.tile(arr, 2)"
      ]
    },
    {
      "cell_type": "code",
      "execution_count": null,
      "id": "fbbeca8c",
      "metadata": {
        "id": "fbbeca8c",
        "outputId": "ddde6445-d5a3-4176-8f8b-86e59559ae38"
      },
      "outputs": [
        {
          "data": {
            "text/plain": [
              "array([[-2.0016, -0.3718, -2.0016, -0.3718],\n",
              "       [ 1.669 , -0.4386,  1.669 , -0.4386],\n",
              "       [-2.0016, -0.3718, -2.0016, -0.3718],\n",
              "       [ 1.669 , -0.4386,  1.669 , -0.4386],\n",
              "       [-2.0016, -0.3718, -2.0016, -0.3718],\n",
              "       [ 1.669 , -0.4386,  1.669 , -0.4386]])"
            ]
          },
          "execution_count": 26,
          "metadata": {},
          "output_type": "execute_result"
        }
      ],
      "source": [
        "arr\n",
        "np.tile(arr, (2, 1))\n",
        "np.tile(arr, (3, 2))"
      ]
    },
    {
      "cell_type": "code",
      "execution_count": null,
      "id": "9bd6b216",
      "metadata": {
        "id": "9bd6b216",
        "outputId": "a067c038-1bc6-4cea-dc49-d3bb73c98489"
      },
      "outputs": [
        {
          "data": {
            "text/plain": [
              "array([700, 100, 200, 600])"
            ]
          },
          "execution_count": 27,
          "metadata": {},
          "output_type": "execute_result"
        }
      ],
      "source": [
        "arr = np.arange(10) * 100\n",
        "inds = [7, 1, 2, 6]\n",
        "arr[inds]"
      ]
    },
    {
      "cell_type": "code",
      "execution_count": null,
      "id": "c2c4fa6d",
      "metadata": {
        "id": "c2c4fa6d",
        "outputId": "30b7dfe8-c5b8-4023-975c-e619ac7e9ca0"
      },
      "outputs": [
        {
          "data": {
            "text/plain": [
              "array([  0,  41,  42, 300, 400, 500,  43,  40, 800, 900])"
            ]
          },
          "execution_count": 28,
          "metadata": {},
          "output_type": "execute_result"
        }
      ],
      "source": [
        "arr.take(inds)\n",
        "arr.put(inds, 42)\n",
        "arr\n",
        "arr.put(inds, [40, 41, 42, 43])\n",
        "arr"
      ]
    },
    {
      "cell_type": "code",
      "execution_count": null,
      "id": "c5060c35",
      "metadata": {
        "id": "c5060c35",
        "outputId": "0bcad406-5475-4e68-db26-45912accbae3"
      },
      "outputs": [
        {
          "data": {
            "text/plain": [
              "array([[ 3.2489, -0.5397,  3.2489,  0.477 ],\n",
              "       [ 0.3026, -0.5771,  0.3026,  0.1241]])"
            ]
          },
          "execution_count": 29,
          "metadata": {},
          "output_type": "execute_result"
        }
      ],
      "source": [
        "inds = [2, 0, 2, 1]\n",
        "arr = np.random.randn(2, 4)\n",
        "arr\n",
        "arr.take(inds, axis=1)"
      ]
    },
    {
      "cell_type": "markdown",
      "id": "370dfab3",
      "metadata": {
        "id": "370dfab3"
      },
      "source": [
        "Broadcasting"
      ]
    },
    {
      "cell_type": "code",
      "execution_count": null,
      "id": "776132a6",
      "metadata": {
        "id": "776132a6",
        "outputId": "14ea6fca-5064-41f7-da12-dc407b3520ca"
      },
      "outputs": [
        {
          "data": {
            "text/plain": [
              "array([ 0,  4,  8, 12, 16])"
            ]
          },
          "execution_count": 30,
          "metadata": {},
          "output_type": "execute_result"
        }
      ],
      "source": [
        "arr = np.arange(5)\n",
        "arr\n",
        "arr * 4"
      ]
    },
    {
      "cell_type": "code",
      "execution_count": null,
      "id": "37d7989f",
      "metadata": {
        "id": "37d7989f",
        "outputId": "e8fcd62a-63d5-49b8-dd09-160ccf81751c"
      },
      "outputs": [
        {
          "data": {
            "text/plain": [
              "array([-0.,  0., -0.])"
            ]
          },
          "execution_count": 31,
          "metadata": {},
          "output_type": "execute_result"
        }
      ],
      "source": [
        "arr = np.random.randn(4, 3)\n",
        "arr.mean(0)\n",
        "demeaned = arr - arr.mean(0)\n",
        "demeaned\n",
        "demeaned.mean(0)"
      ]
    },
    {
      "cell_type": "code",
      "execution_count": null,
      "id": "ca5d3aaa",
      "metadata": {
        "id": "ca5d3aaa",
        "outputId": "9690b8e3-1eeb-4e3a-def3-ba8205941641"
      },
      "outputs": [
        {
          "data": {
            "text/plain": [
              "array([ 0., -0.,  0.,  0.])"
            ]
          },
          "execution_count": 32,
          "metadata": {},
          "output_type": "execute_result"
        }
      ],
      "source": [
        "arr\n",
        "row_means = arr.mean(1)\n",
        "row_means.shape\n",
        "row_means.reshape((4, 1))\n",
        "demeaned = arr - row_means.reshape((4, 1))\n",
        "demeaned.mean(1)"
      ]
    },
    {
      "cell_type": "markdown",
      "id": "b8637591",
      "metadata": {
        "id": "b8637591"
      },
      "source": [
        "Broadcasting Over Other Axes"
      ]
    },
    {
      "cell_type": "code",
      "execution_count": null,
      "id": "912b97a9",
      "metadata": {
        "id": "912b97a9",
        "outputId": "09e6ab54-ae3f-4e00-9d91-eaf451c5dfb7"
      },
      "outputs": [
        {
          "ename": "ValueError",
          "evalue": "operands could not be broadcast together with shapes (4,3) (4,) ",
          "output_type": "error",
          "traceback": [
            "\u001b[1;31m---------------------------------------------------------------------------\u001b[0m",
            "\u001b[1;31mValueError\u001b[0m                                Traceback (most recent call last)",
            "\u001b[1;32m~\\AppData\\Local\\Temp/ipykernel_22412/1713987831.py\u001b[0m in \u001b[0;36m<module>\u001b[1;34m\u001b[0m\n\u001b[1;32m----> 1\u001b[1;33m \u001b[0marr\u001b[0m \u001b[1;33m-\u001b[0m \u001b[0marr\u001b[0m\u001b[1;33m.\u001b[0m\u001b[0mmean\u001b[0m\u001b[1;33m(\u001b[0m\u001b[1;36m1\u001b[0m\u001b[1;33m)\u001b[0m\u001b[1;33m\u001b[0m\u001b[1;33m\u001b[0m\u001b[0m\n\u001b[0m",
            "\u001b[1;31mValueError\u001b[0m: operands could not be broadcast together with shapes (4,3) (4,) "
          ]
        }
      ],
      "source": [
        "arr - arr.mean(1)"
      ]
    },
    {
      "cell_type": "code",
      "execution_count": null,
      "id": "efdf2024",
      "metadata": {
        "id": "efdf2024",
        "outputId": "5a16aae5-2fe2-4e87-a04a-467a76c3c287"
      },
      "outputs": [
        {
          "data": {
            "text/plain": [
              "array([[-0.2095,  1.1334, -0.9239],\n",
              "       [ 0.8562, -0.6828, -0.1734],\n",
              "       [-0.3386,  1.0823, -0.7438],\n",
              "       [ 0.3234, -0.8599,  0.5365]])"
            ]
          },
          "execution_count": 35,
          "metadata": {},
          "output_type": "execute_result"
        }
      ],
      "source": [
        "arr - arr.mean(1).reshape((4, 1))"
      ]
    },
    {
      "cell_type": "code",
      "execution_count": null,
      "id": "4b0faaaf",
      "metadata": {
        "id": "4b0faaaf",
        "outputId": "a9435ff9-dbcc-44a3-fc82-8c955396aa7b"
      },
      "outputs": [
        {
          "data": {
            "text/plain": [
              "array([[-2.3594, -0.1995, -1.542 ]])"
            ]
          },
          "execution_count": 36,
          "metadata": {},
          "output_type": "execute_result"
        }
      ],
      "source": [
        "arr = np.zeros((4, 4))\n",
        "arr_3d = arr[:, np.newaxis, :]\n",
        "arr_3d.shape\n",
        "arr_1d = np.random.normal(size=3)\n",
        "arr_1d[:, np.newaxis]\n",
        "arr_1d[np.newaxis, :]"
      ]
    },
    {
      "cell_type": "code",
      "execution_count": null,
      "id": "11fddb95",
      "metadata": {
        "id": "11fddb95",
        "outputId": "05805565-4811-4fcb-a067-998edce84c3a"
      },
      "outputs": [
        {
          "data": {
            "text/plain": [
              "array([[ 0.,  0., -0., -0.],\n",
              "       [ 0.,  0., -0.,  0.],\n",
              "       [ 0.,  0., -0., -0.]])"
            ]
          },
          "execution_count": 37,
          "metadata": {},
          "output_type": "execute_result"
        }
      ],
      "source": [
        "arr = np.random.randn(3, 4, 5)\n",
        "depth_means = arr.mean(2)\n",
        "depth_means\n",
        "depth_means.shape\n",
        "demeaned = arr - depth_means[:, :, np.newaxis]\n",
        "demeaned.mean(2)"
      ]
    },
    {
      "cell_type": "code",
      "execution_count": null,
      "id": "2030f666",
      "metadata": {
        "id": "2030f666"
      },
      "outputs": [],
      "source": [
        "def demean_axis(arr, axis=0):\n",
        "    means = arr.mean(axis)\n"
      ]
    },
    {
      "cell_type": "markdown",
      "id": "eb3ff32a",
      "metadata": {
        "id": "eb3ff32a"
      },
      "source": [
        "# This generalizes things like [:, :, np.newaxis] to N dimensions\n",
        "    indexer = [slice(None)] * arr.ndim\n",
        "    indexer[axis] = np.newaxis\n",
        "    return arr - means[indexer]"
      ]
    },
    {
      "cell_type": "markdown",
      "id": "92b1b1ce",
      "metadata": {
        "id": "92b1b1ce"
      },
      "source": [
        "Setting Array Values by Broadcasting"
      ]
    },
    {
      "cell_type": "code",
      "execution_count": null,
      "id": "8cbecfe4",
      "metadata": {
        "id": "8cbecfe4",
        "outputId": "e52c6520-1ff1-406a-cc7b-f60481b0da01"
      },
      "outputs": [
        {
          "data": {
            "text/plain": [
              "array([[5., 5., 5.],\n",
              "       [5., 5., 5.],\n",
              "       [5., 5., 5.],\n",
              "       [5., 5., 5.]])"
            ]
          },
          "execution_count": 39,
          "metadata": {},
          "output_type": "execute_result"
        }
      ],
      "source": [
        "arr = np.zeros((4, 3))\n",
        "arr[:] = 5\n",
        "arr"
      ]
    },
    {
      "cell_type": "code",
      "execution_count": null,
      "id": "db9d0f3c",
      "metadata": {
        "id": "db9d0f3c",
        "outputId": "8eb61ac3-f017-46fc-d79d-bdec00799f1c"
      },
      "outputs": [
        {
          "data": {
            "text/plain": [
              "array([[-1.37 , -1.37 , -1.37 ],\n",
              "       [ 0.509,  0.509,  0.509],\n",
              "       [ 0.44 ,  0.44 ,  0.44 ],\n",
              "       [ 1.6  ,  1.6  ,  1.6  ]])"
            ]
          },
          "execution_count": 40,
          "metadata": {},
          "output_type": "execute_result"
        }
      ],
      "source": [
        "col = np.array([1.28, -0.42, 0.44, 1.6])\n",
        "arr[:] = col[:, np.newaxis]\n",
        "arr\n",
        "arr[:2] = [[-1.37], [0.509]]\n",
        "arr"
      ]
    },
    {
      "cell_type": "markdown",
      "id": "89322e59",
      "metadata": {
        "id": "89322e59"
      },
      "source": [
        "Advanced ufunc Usage"
      ]
    },
    {
      "cell_type": "markdown",
      "id": "fcbdb026",
      "metadata": {
        "id": "fcbdb026"
      },
      "source": [
        "ufunc Instance Methods"
      ]
    },
    {
      "cell_type": "code",
      "execution_count": null,
      "id": "44bc532e",
      "metadata": {
        "id": "44bc532e",
        "outputId": "330c586a-52ad-4efb-c1cb-f20af03f9509"
      },
      "outputs": [
        {
          "data": {
            "text/plain": [
              "45"
            ]
          },
          "execution_count": 41,
          "metadata": {},
          "output_type": "execute_result"
        }
      ],
      "source": [
        "arr = np.arange(10)\n",
        "np.add.reduce(arr)\n",
        "arr.sum()"
      ]
    },
    {
      "cell_type": "code",
      "execution_count": null,
      "id": "c33a0757",
      "metadata": {
        "id": "c33a0757",
        "outputId": "a0b1ae85-ac58-40e2-9f79-c4f0dd6f8c97"
      },
      "outputs": [
        {
          "data": {
            "text/plain": [
              "array([ True, False,  True, False,  True])"
            ]
          },
          "execution_count": 42,
          "metadata": {},
          "output_type": "execute_result"
        }
      ],
      "source": [
        "np.random.seed(12346)  # for reproducibility\n",
        "arr = np.random.randn(5, 5)\n",
        "arr[::2].sort(1) # sort a few rows\n",
        "arr[:, :-1] < arr[:, 1:]\n",
        "np.logical_and.reduce(arr[:, :-1] < arr[:, 1:], axis=1)"
      ]
    },
    {
      "cell_type": "code",
      "execution_count": null,
      "id": "f9099cef",
      "metadata": {
        "id": "f9099cef",
        "outputId": "1f19b15d-55eb-45c6-9c77-5a057e0ccd27"
      },
      "outputs": [
        {
          "data": {
            "text/plain": [
              "array([[ 0,  1,  3,  6, 10],\n",
              "       [ 5, 11, 18, 26, 35],\n",
              "       [10, 21, 33, 46, 60]], dtype=int32)"
            ]
          },
          "execution_count": 43,
          "metadata": {},
          "output_type": "execute_result"
        }
      ],
      "source": [
        "arr = np.arange(15).reshape((3, 5))\n",
        "np.add.accumulate(arr, axis=1)"
      ]
    },
    {
      "cell_type": "code",
      "execution_count": null,
      "id": "a05b8bfc",
      "metadata": {
        "id": "a05b8bfc",
        "outputId": "524eddb1-a824-4a8b-a074-0aad19a8f658"
      },
      "outputs": [
        {
          "data": {
            "text/plain": [
              "array([[0, 0, 0, 0, 0],\n",
              "       [0, 1, 2, 3, 4],\n",
              "       [0, 1, 2, 3, 4],\n",
              "       [0, 2, 4, 6, 8],\n",
              "       [0, 2, 4, 6, 8]])"
            ]
          },
          "execution_count": 44,
          "metadata": {},
          "output_type": "execute_result"
        }
      ],
      "source": [
        "arr = np.arange(3).repeat([1, 2, 2])\n",
        "arr\n",
        "np.multiply.outer(arr, np.arange(5))"
      ]
    },
    {
      "cell_type": "code",
      "execution_count": null,
      "id": "5047e2de",
      "metadata": {
        "id": "5047e2de",
        "outputId": "e50f5a77-671c-4002-f2db-fd2d1a5b4cb5"
      },
      "outputs": [
        {
          "data": {
            "text/plain": [
              "(3, 4, 5)"
            ]
          },
          "execution_count": 45,
          "metadata": {},
          "output_type": "execute_result"
        }
      ],
      "source": [
        "x, y = np.random.randn(3, 4), np.random.randn(5)\n",
        "result = np.subtract.outer(x, y)\n",
        "result.shape"
      ]
    },
    {
      "cell_type": "code",
      "execution_count": null,
      "id": "576ec5dd",
      "metadata": {
        "id": "576ec5dd",
        "outputId": "c3acaf58-dbee-4631-b315-2701aae3594b"
      },
      "outputs": [
        {
          "data": {
            "text/plain": [
              "array([10, 18, 17], dtype=int32)"
            ]
          },
          "execution_count": 46,
          "metadata": {},
          "output_type": "execute_result"
        }
      ],
      "source": [
        "arr = np.arange(10)\n",
        "np.add.reduceat(arr, [0, 5, 8])"
      ]
    },
    {
      "cell_type": "code",
      "execution_count": null,
      "id": "9524ccff",
      "metadata": {
        "id": "9524ccff",
        "outputId": "d26be16c-908a-4fc4-b308-4b3c4a7d5d11"
      },
      "outputs": [
        {
          "data": {
            "text/plain": [
              "array([[ 0,  0,  0],\n",
              "       [ 1,  5,  4],\n",
              "       [ 2, 10,  8],\n",
              "       [ 3, 15, 12]], dtype=int32)"
            ]
          },
          "execution_count": 47,
          "metadata": {},
          "output_type": "execute_result"
        }
      ],
      "source": [
        "arr = np.multiply.outer(np.arange(4), np.arange(5))\n",
        "arr\n",
        "np.add.reduceat(arr, [0, 2, 4], axis=1)"
      ]
    },
    {
      "cell_type": "markdown",
      "id": "8bab44d0",
      "metadata": {
        "id": "8bab44d0"
      },
      "source": [
        "Writing New ufuncs in Python"
      ]
    },
    {
      "cell_type": "code",
      "execution_count": null,
      "id": "8c2eb9db",
      "metadata": {
        "id": "8c2eb9db",
        "outputId": "0e5f8af6-fbc4-4795-ebf2-34364cd08e50"
      },
      "outputs": [
        {
          "data": {
            "text/plain": [
              "array([0, 2, 4, 6, 8, 10, 12, 14], dtype=object)"
            ]
          },
          "execution_count": 48,
          "metadata": {},
          "output_type": "execute_result"
        }
      ],
      "source": [
        "def add_elements(x, y):\n",
        "    return x + y\n",
        "add_them = np.frompyfunc(add_elements, 2, 1)\n",
        "add_them(np.arange(8), np.arange(8))"
      ]
    },
    {
      "cell_type": "code",
      "execution_count": null,
      "id": "a45bb600",
      "metadata": {
        "id": "a45bb600",
        "outputId": "bf7fe87f-5b6e-4bd5-fbb1-844710294a75"
      },
      "outputs": [
        {
          "data": {
            "text/plain": [
              "array([ 0.,  2.,  4.,  6.,  8., 10., 12., 14.])"
            ]
          },
          "execution_count": 49,
          "metadata": {},
          "output_type": "execute_result"
        }
      ],
      "source": [
        "add_them = np.vectorize(add_elements, otypes=[np.float64])\n",
        "add_them(np.arange(8), np.arange(8))"
      ]
    },
    {
      "cell_type": "code",
      "execution_count": null,
      "id": "1f1139dc",
      "metadata": {
        "id": "1f1139dc",
        "outputId": "ee14aad6-1eba-40bf-a7f6-e06bf1b29bcc"
      },
      "outputs": [
        {
          "name": "stdout",
          "output_type": "stream",
          "text": [
            "The slowest run took 4.27 times longer than the fastest. This could mean that an intermediate result is being cached.\n",
            "5.98 ms ± 3.7 ms per loop (mean ± std. dev. of 7 runs, 100 loops each)\n",
            "37.8 µs ± 6.33 µs per loop (mean ± std. dev. of 7 runs, 10000 loops each)\n"
          ]
        }
      ],
      "source": [
        "arr = np.random.randn(10000)\n",
        "%timeit add_them(arr, arr)\n",
        "%timeit np.add(arr, arr)"
      ]
    },
    {
      "cell_type": "markdown",
      "id": "5f78d432",
      "metadata": {
        "id": "5f78d432"
      },
      "source": [
        "Structured and Record Arrays"
      ]
    },
    {
      "cell_type": "code",
      "execution_count": null,
      "id": "c0369d40",
      "metadata": {
        "id": "c0369d40",
        "outputId": "ebb1022c-d561-4e13-f7a8-0247eccb4eab"
      },
      "outputs": [
        {
          "data": {
            "text/plain": [
              "array([(1.5   ,  6), (3.1416, -2)], dtype=[('x', '<f8'), ('y', '<i4')])"
            ]
          },
          "execution_count": 51,
          "metadata": {},
          "output_type": "execute_result"
        }
      ],
      "source": [
        "dtype = [('x', np.float64), ('y', np.int32)]\n",
        "sarr = np.array([(1.5, 6), (np.pi, -2)], dtype=dtype)\n",
        "sarr"
      ]
    },
    {
      "cell_type": "code",
      "execution_count": null,
      "id": "17901d37",
      "metadata": {
        "id": "17901d37",
        "outputId": "4056ac72-5ec4-454d-dfe8-8a657d4884b4"
      },
      "outputs": [
        {
          "data": {
            "text/plain": [
              "6"
            ]
          },
          "execution_count": 52,
          "metadata": {},
          "output_type": "execute_result"
        }
      ],
      "source": [
        "sarr[0]\n",
        "sarr[0]['y']"
      ]
    },
    {
      "cell_type": "code",
      "execution_count": null,
      "id": "7844a252",
      "metadata": {
        "id": "7844a252",
        "outputId": "33e52888-594b-4b6d-fad1-86d93abc1986"
      },
      "outputs": [
        {
          "data": {
            "text/plain": [
              "array([1.5   , 3.1416])"
            ]
          },
          "execution_count": 53,
          "metadata": {},
          "output_type": "execute_result"
        }
      ],
      "source": [
        "sarr['x']"
      ]
    },
    {
      "cell_type": "markdown",
      "id": "e6659b90",
      "metadata": {
        "id": "e6659b90"
      },
      "source": [
        "Nested dtypes and Multidimensional Fields"
      ]
    },
    {
      "cell_type": "code",
      "execution_count": null,
      "id": "5ab86972",
      "metadata": {
        "id": "5ab86972",
        "outputId": "36c93c58-150b-4bb5-ccc3-9d3b4c000a53"
      },
      "outputs": [
        {
          "data": {
            "text/plain": [
              "array([([0, 0, 0], 0), ([0, 0, 0], 0), ([0, 0, 0], 0), ([0, 0, 0], 0)],\n",
              "      dtype=[('x', '<i8', (3,)), ('y', '<i4')])"
            ]
          },
          "execution_count": 54,
          "metadata": {},
          "output_type": "execute_result"
        }
      ],
      "source": [
        "dtype = [('x', np.int64, 3), ('y', np.int32)]\n",
        "arr = np.zeros(4, dtype=dtype)\n",
        "arr"
      ]
    },
    {
      "cell_type": "code",
      "execution_count": null,
      "id": "ab555680",
      "metadata": {
        "id": "ab555680",
        "outputId": "e37938d9-c34d-47a7-c79a-d407f0808b75"
      },
      "outputs": [
        {
          "data": {
            "text/plain": [
              "array([0, 0, 0], dtype=int64)"
            ]
          },
          "execution_count": 55,
          "metadata": {},
          "output_type": "execute_result"
        }
      ],
      "source": [
        "arr[0]['x']"
      ]
    },
    {
      "cell_type": "code",
      "execution_count": null,
      "id": "d924d97d",
      "metadata": {
        "id": "d924d97d",
        "outputId": "9a8a8d35-dbb4-4dd5-f259-c34fa9cfea6c"
      },
      "outputs": [
        {
          "data": {
            "text/plain": [
              "array([[0, 0, 0],\n",
              "       [0, 0, 0],\n",
              "       [0, 0, 0],\n",
              "       [0, 0, 0]], dtype=int64)"
            ]
          },
          "execution_count": 56,
          "metadata": {},
          "output_type": "execute_result"
        }
      ],
      "source": [
        "arr['x']"
      ]
    },
    {
      "cell_type": "code",
      "execution_count": null,
      "id": "e9a4ed55",
      "metadata": {
        "id": "e9a4ed55",
        "outputId": "d170ca15-9932-4d1c-8e7d-d6ec7a8b6594"
      },
      "outputs": [
        {
          "data": {
            "text/plain": [
              "array([1., 3.])"
            ]
          },
          "execution_count": 57,
          "metadata": {},
          "output_type": "execute_result"
        }
      ],
      "source": [
        "dtype = [('x', [('a', 'f8'), ('b', 'f4')]), ('y', np.int32)]\n",
        "data = np.array([((1, 2), 5), ((3, 4), 6)], dtype=dtype)\n",
        "data['x']\n",
        "data['y']\n",
        "data['x']['a']"
      ]
    },
    {
      "cell_type": "markdown",
      "id": "e3a04be5",
      "metadata": {
        "id": "e3a04be5"
      },
      "source": [
        "Why Use Structured Arrays?"
      ]
    },
    {
      "cell_type": "markdown",
      "id": "1ab9e48b",
      "metadata": {
        "id": "1ab9e48b"
      },
      "source": [
        "More About Sorting"
      ]
    },
    {
      "cell_type": "code",
      "execution_count": null,
      "id": "b3877e47",
      "metadata": {
        "id": "b3877e47",
        "outputId": "60d42606-ee80-4401-b304-b13ca4ea2303"
      },
      "outputs": [
        {
          "data": {
            "text/plain": [
              "array([-1.082 ,  0.3759,  0.8014,  1.1397,  1.2888,  1.8413])"
            ]
          },
          "execution_count": 58,
          "metadata": {},
          "output_type": "execute_result"
        }
      ],
      "source": [
        "arr = np.random.randn(6)\n",
        "arr.sort()\n",
        "arr"
      ]
    },
    {
      "cell_type": "code",
      "execution_count": null,
      "id": "008ce863",
      "metadata": {
        "id": "008ce863",
        "outputId": "627c7960-dbf3-407c-f363-370686fd746f"
      },
      "outputs": [
        {
          "data": {
            "text/plain": [
              "array([[-1.0111, -1.4711,  0.8705, -0.0847, -1.1329],\n",
              "       [-0.3318, -0.3436,  2.1714,  0.1234, -0.0189],\n",
              "       [ 0.1773,  0.7424,  0.8548,  1.038 , -0.329 ]])"
            ]
          },
          "execution_count": 59,
          "metadata": {},
          "output_type": "execute_result"
        }
      ],
      "source": [
        "arr = np.random.randn(3, 5)\n",
        "arr\n",
        "arr[:, 0].sort()  # Sort first column values in-place\n",
        "arr"
      ]
    },
    {
      "cell_type": "code",
      "execution_count": null,
      "id": "64412773",
      "metadata": {
        "id": "64412773",
        "outputId": "6e1d1c6e-b535-422e-bfc6-32e25e8cee6b"
      },
      "outputs": [
        {
          "data": {
            "text/plain": [
              "array([-1.1181, -0.2415, -2.0051,  0.7379, -1.0614])"
            ]
          },
          "execution_count": 60,
          "metadata": {},
          "output_type": "execute_result"
        }
      ],
      "source": [
        "arr = np.random.randn(5)\n",
        "arr\n",
        "np.sort(arr)\n",
        "arr"
      ]
    },
    {
      "cell_type": "code",
      "execution_count": null,
      "id": "31c6ac8b",
      "metadata": {
        "id": "31c6ac8b",
        "outputId": "0115a5b8-3f35-4445-aa26-d52f52390f1a"
      },
      "outputs": [
        {
          "data": {
            "text/plain": [
              "array([[-0.2682, -0.1872,  0.5955,  0.9111,  1.3389],\n",
              "       [-0.5168, -0.3215, -0.1989,  1.0054,  1.1925],\n",
              "       [-1.7638, -0.2222, -0.2171,  0.3969,  0.6071]])"
            ]
          },
          "execution_count": 61,
          "metadata": {},
          "output_type": "execute_result"
        }
      ],
      "source": [
        "arr = np.random.randn(3, 5)\n",
        "arr\n",
        "arr.sort(axis=1)\n",
        "arr"
      ]
    },
    {
      "cell_type": "code",
      "execution_count": null,
      "id": "5e42ebb6",
      "metadata": {
        "id": "5e42ebb6",
        "outputId": "2892afb0-b87e-42f9-8711-876b6fbd99fd"
      },
      "outputs": [
        {
          "data": {
            "text/plain": [
              "array([[ 1.3389,  0.9111,  0.5955, -0.1872, -0.2682],\n",
              "       [ 1.1925,  1.0054, -0.1989, -0.3215, -0.5168],\n",
              "       [ 0.6071,  0.3969, -0.2171, -0.2222, -1.7638]])"
            ]
          },
          "execution_count": 62,
          "metadata": {},
          "output_type": "execute_result"
        }
      ],
      "source": [
        "arr[:, ::-1]"
      ]
    },
    {
      "cell_type": "markdown",
      "id": "5d685a76",
      "metadata": {
        "id": "5d685a76"
      },
      "source": [
        "Indirect Sorts: argsort and lexsort"
      ]
    },
    {
      "cell_type": "code",
      "execution_count": null,
      "id": "ce0abc2d",
      "metadata": {
        "id": "ce0abc2d",
        "outputId": "ffe2ba71-91c1-4ecb-c5a4-ce0f5a1d259b"
      },
      "outputs": [
        {
          "data": {
            "text/plain": [
              "array([0, 1, 2, 3, 5])"
            ]
          },
          "execution_count": 63,
          "metadata": {},
          "output_type": "execute_result"
        }
      ],
      "source": [
        "values = np.array([5, 0, 1, 3, 2])\n",
        "indexer = values.argsort()\n",
        "indexer\n",
        "values[indexer]"
      ]
    },
    {
      "cell_type": "code",
      "execution_count": null,
      "id": "ea5ba04b",
      "metadata": {
        "id": "ea5ba04b",
        "outputId": "3dd1ca98-fbf8-4aad-cdf9-4710c70cd2f5"
      },
      "outputs": [
        {
          "data": {
            "text/plain": [
              "array([[ 0.    ,  1.    ,  2.    ,  3.    ,  5.    ],\n",
              "       [-0.1378,  2.1777,  0.8356, -0.4728, -0.3636],\n",
              "       [ 0.2316,  0.728 ,  1.9956, -1.3918, -0.2089]])"
            ]
          },
          "execution_count": 64,
          "metadata": {},
          "output_type": "execute_result"
        }
      ],
      "source": [
        "arr = np.random.randn(3, 5)\n",
        "arr[0] = values\n",
        "arr\n",
        "arr[:, arr[0].argsort()]"
      ]
    },
    {
      "cell_type": "code",
      "execution_count": null,
      "id": "a3d804ed",
      "metadata": {
        "id": "a3d804ed",
        "outputId": "5f9828d9-be2e-4716-a7b6-f71c0aa9b35f"
      },
      "outputs": [
        {
          "data": {
            "text/plain": [
              "<zip at 0x19b25fbcf00>"
            ]
          },
          "execution_count": 65,
          "metadata": {},
          "output_type": "execute_result"
        }
      ],
      "source": [
        "first_name = np.array(['Bob', 'Jane', 'Steve', 'Bill', 'Barbara'])\n",
        "last_name = np.array(['Kamau', 'Wairimu', 'Mbugua', 'Otieno', 'Akinyi'])\n",
        "sorter = np.lexsort((first_name, last_name))\n",
        "sorter\n",
        "zip(last_name[sorter], first_name[sorter])"
      ]
    },
    {
      "cell_type": "code",
      "execution_count": null,
      "id": "8cf227e3",
      "metadata": {
        "id": "8cf227e3",
        "outputId": "90817cdf-22aa-4c8c-fba3-7cdb4f3c15b7"
      },
      "outputs": [
        {
          "data": {
            "text/plain": [
              "array(['1:first', '1:second', '1:third', '2:first', '2:second'],\n",
              "      dtype='<U8')"
            ]
          },
          "execution_count": 66,
          "metadata": {},
          "output_type": "execute_result"
        }
      ],
      "source": [
        "values = np.array(['2:first', '2:second', '1:first', '1:second',\n",
        "                   '1:third'])\n",
        "key = np.array([2, 2, 1, 1, 1])\n",
        "indexer = key.argsort(kind='mergesort')\n",
        "indexer\n",
        "values.take(indexer)"
      ]
    },
    {
      "cell_type": "markdown",
      "id": "35085d76",
      "metadata": {
        "id": "35085d76"
      },
      "source": [
        "Partially Sorting Arrays"
      ]
    },
    {
      "cell_type": "code",
      "execution_count": null,
      "id": "b845c036",
      "metadata": {
        "id": "b845c036",
        "outputId": "ccc75558-89c4-4174-b417-399dca93f916"
      },
      "outputs": [
        {
          "data": {
            "text/plain": [
              "array([-2.0016, -1.2962, -0.5557, -0.5194, -0.3718, -0.4386, -0.2047,\n",
              "        0.2817,  0.769 ,  0.4789,  1.0072,  0.0929,  0.275 ,  0.2289,\n",
              "        1.3529,  0.8864,  1.3934,  1.9658,  1.669 ,  1.2464])"
            ]
          },
          "execution_count": 67,
          "metadata": {},
          "output_type": "execute_result"
        }
      ],
      "source": [
        "np.random.seed(12345)\n",
        "arr = np.random.randn(20)\n",
        "arr\n",
        "np.partition(arr, 3)"
      ]
    },
    {
      "cell_type": "code",
      "execution_count": null,
      "id": "811714af",
      "metadata": {
        "id": "811714af",
        "outputId": "62b6dcf8-0ef0-4ba0-8d76-c6520c336dd2"
      },
      "outputs": [
        {
          "data": {
            "text/plain": [
              "array([-2.0016, -1.2962, -0.5557, -0.5194, -0.3718, -0.4386, -0.2047,\n",
              "        0.2817,  0.769 ,  0.4789,  1.0072,  0.0929,  0.275 ,  0.2289,\n",
              "        1.3529,  0.8864,  1.3934,  1.9658,  1.669 ,  1.2464])"
            ]
          },
          "execution_count": 68,
          "metadata": {},
          "output_type": "execute_result"
        }
      ],
      "source": [
        "indices = np.argpartition(arr, 3)\n",
        "indices\n",
        "arr.take(indices)"
      ]
    },
    {
      "cell_type": "markdown",
      "id": "eb7c48ec",
      "metadata": {
        "id": "eb7c48ec"
      },
      "source": [
        "numpy.searchsorted: Finding Elements in a Sorted Array"
      ]
    },
    {
      "cell_type": "code",
      "execution_count": null,
      "id": "81995948",
      "metadata": {
        "id": "81995948",
        "outputId": "54966bdc-26a1-4a3a-bb12-c6f525ddb196"
      },
      "outputs": [
        {
          "data": {
            "text/plain": [
              "3"
            ]
          },
          "execution_count": 69,
          "metadata": {},
          "output_type": "execute_result"
        }
      ],
      "source": [
        "arr = np.array([0, 1, 7, 12, 15])\n",
        "arr.searchsorted(9)"
      ]
    },
    {
      "cell_type": "code",
      "execution_count": null,
      "id": "d08af389",
      "metadata": {
        "id": "d08af389",
        "outputId": "77a16b62-dd79-4584-f132-366647c4f948"
      },
      "outputs": [
        {
          "data": {
            "text/plain": [
              "array([0, 3, 3, 5], dtype=int64)"
            ]
          },
          "execution_count": 70,
          "metadata": {},
          "output_type": "execute_result"
        }
      ],
      "source": [
        "arr.searchsorted([0, 8, 11, 16])"
      ]
    },
    {
      "cell_type": "code",
      "execution_count": null,
      "id": "b899e6f2",
      "metadata": {
        "id": "b899e6f2",
        "outputId": "232ed51b-e596-4d16-d680-f74bfdc30f48"
      },
      "outputs": [
        {
          "data": {
            "text/plain": [
              "array([3, 7], dtype=int64)"
            ]
          },
          "execution_count": 71,
          "metadata": {},
          "output_type": "execute_result"
        }
      ],
      "source": [
        "arr = np.array([0, 0, 0, 1, 1, 1, 1])\n",
        "arr.searchsorted([0, 1])\n",
        "arr.searchsorted([0, 1], side='right')"
      ]
    },
    {
      "cell_type": "code",
      "execution_count": null,
      "id": "4079616a",
      "metadata": {
        "id": "4079616a",
        "outputId": "3593169d-214f-456a-8b54-baf4a939b629"
      },
      "outputs": [
        {
          "data": {
            "text/plain": [
              "array([9940., 6768., 7908., 1709.,  268., 8003., 9037.,  246., 4917.,\n",
              "       5262., 5963.,  519., 8950., 7282., 8183., 5002., 8101.,  959.,\n",
              "       2189., 2587., 4681., 4593., 7095., 1780., 5314., 1677., 7688.,\n",
              "       9281., 6094., 1501., 4896., 3773., 8486., 9110., 3838., 3154.,\n",
              "       5683., 1878., 1258., 6875., 7996., 5735., 9732., 6340., 8884.,\n",
              "       4954., 3516., 7142., 5039., 2256.])"
            ]
          },
          "execution_count": 72,
          "metadata": {},
          "output_type": "execute_result"
        }
      ],
      "source": [
        "data = np.floor(np.random.uniform(0, 10000, size=50))\n",
        "bins = np.array([0, 100, 1000, 5000, 10000])\n",
        "data"
      ]
    },
    {
      "cell_type": "code",
      "execution_count": null,
      "id": "3a501ea6",
      "metadata": {
        "id": "3a501ea6",
        "outputId": "5178bdcf-bf94-443d-cdd3-9f88afb578c5"
      },
      "outputs": [
        {
          "data": {
            "text/plain": [
              "array([4, 4, 4, 3, 2, 4, 4, 2, 3, 4, 4, 2, 4, 4, 4, 4, 4, 2, 3, 3, 3, 3,\n",
              "       4, 3, 4, 3, 4, 4, 4, 3, 3, 3, 4, 4, 3, 3, 4, 3, 3, 4, 4, 4, 4, 4,\n",
              "       4, 3, 3, 4, 4, 3], dtype=int64)"
            ]
          },
          "execution_count": 73,
          "metadata": {},
          "output_type": "execute_result"
        }
      ],
      "source": [
        "labels = bins.searchsorted(data)\n",
        "labels"
      ]
    },
    {
      "cell_type": "code",
      "execution_count": null,
      "id": "d38cd4f7",
      "metadata": {
        "id": "d38cd4f7",
        "outputId": "1b70ed49-d54b-4093-f49d-110d28f286dd"
      },
      "outputs": [
        {
          "data": {
            "text/plain": [
              "2     498.000000\n",
              "3    3064.277778\n",
              "4    7389.035714\n",
              "dtype: float64"
            ]
          },
          "execution_count": 74,
          "metadata": {},
          "output_type": "execute_result"
        }
      ],
      "source": [
        "pd.Series(data).groupby(labels).mean()"
      ]
    },
    {
      "cell_type": "markdown",
      "id": "ba747b03",
      "metadata": {
        "id": "ba747b03"
      },
      "source": [
        "Writing Fast NumPy Functions with Numba"
      ]
    },
    {
      "cell_type": "code",
      "execution_count": null,
      "id": "56c2cd46",
      "metadata": {
        "id": "56c2cd46"
      },
      "outputs": [],
      "source": [
        "import numpy as np\n",
        "\n",
        "def mean_distance(x, y):\n",
        "    nx = len(x)\n",
        "    result = 0.0\n",
        "    count = 0\n",
        "    for i in range(nx):\n",
        "        result += x[i] - y[i]\n",
        "        count += 1\n",
        "    return result / count"
      ]
    },
    {
      "cell_type": "code",
      "execution_count": null,
      "id": "302a6acf",
      "metadata": {
        "id": "302a6acf",
        "outputId": "45371ce2-e574-476b-c4d4-06aaf2dde45e"
      },
      "outputs": [
        {
          "name": "stdout",
          "output_type": "stream",
          "text": [
            "7.81 s ± 2.4 s per loop (mean ± std. dev. of 7 runs, 1 loop each)\n"
          ]
        }
      ],
      "source": [
        "x = np.random.randn(10000000)\n",
        "y = np.random.randn(10000000)\n",
        "%timeit mean_distance(x, y)"
      ]
    },
    {
      "cell_type": "code",
      "execution_count": null,
      "id": "5bb2a714",
      "metadata": {
        "id": "5bb2a714",
        "outputId": "cf000b42-3dca-4251-f406-85563bc2cf32"
      },
      "outputs": [
        {
          "name": "stdout",
          "output_type": "stream",
          "text": [
            "86.5 ms ± 13.9 ms per loop (mean ± std. dev. of 7 runs, 10 loops each)\n"
          ]
        }
      ],
      "source": [
        "%timeit (x - y).mean()"
      ]
    },
    {
      "cell_type": "code",
      "execution_count": null,
      "id": "bd6b84b6",
      "metadata": {
        "id": "bd6b84b6"
      },
      "outputs": [],
      "source": [
        "import numba as nb"
      ]
    },
    {
      "cell_type": "code",
      "execution_count": null,
      "id": "0361c686",
      "metadata": {
        "id": "0361c686"
      },
      "outputs": [],
      "source": [
        "numba_mean_distance = nb.jit(mean_distance)\n",
        "@nb.jit\n",
        "def mean_distance(x, y):\n",
        "    nx = len(x)\n",
        "    result = 0.0\n",
        "    count = 0\n",
        "    for i in range(nx):\n",
        "        result += x[i] - y[i]\n",
        "        count += 1\n",
        "    return result / count"
      ]
    },
    {
      "cell_type": "code",
      "execution_count": null,
      "id": "b2b00775",
      "metadata": {
        "id": "b2b00775",
        "outputId": "f1148fb7-8e4c-4789-caa9-6503c892ed15"
      },
      "outputs": [
        {
          "name": "stdout",
          "output_type": "stream",
          "text": [
            "14.9 ms ± 881 µs per loop (mean ± std. dev. of 7 runs, 1 loop each)\n"
          ]
        }
      ],
      "source": [
        "%timeit numba_mean_distance(x, y)"
      ]
    },
    {
      "cell_type": "code",
      "execution_count": null,
      "id": "4a32257c",
      "metadata": {
        "id": "4a32257c"
      },
      "outputs": [],
      "source": [
        "from numba import float64, njit"
      ]
    },
    {
      "cell_type": "code",
      "execution_count": null,
      "id": "31e4310b",
      "metadata": {
        "id": "31e4310b"
      },
      "outputs": [],
      "source": [
        "@njit(float64(float64[:], float64[:]))\n",
        "def mean_distance(x, y):\n",
        "    return (x - y).mean()"
      ]
    },
    {
      "cell_type": "code",
      "execution_count": null,
      "id": "6357dc60",
      "metadata": {
        "id": "6357dc60"
      },
      "outputs": [],
      "source": [
        ""
      ]
    }
  ],
  "metadata": {
    "interpreter": {
      "hash": "7679c2132d3f6ce38c9df14d554b39c06862b36a4e6689c81f9ae15bd0911d7d"
    },
    "kernelspec": {
      "display_name": "Python 3.9.7 ('base')",
      "language": "python",
      "name": "python3"
    },
    "language_info": {
      "codemirror_mode": {
        "name": "ipython",
        "version": 3
      },
      "file_extension": ".py",
      "mimetype": "text/x-python",
      "name": "python",
      "nbconvert_exporter": "python",
      "pygments_lexer": "ipython3",
      "version": "3.9.7"
    },
    "colab": {
      "name": "Numpy-Advanced.ipynb",
      "provenance": [],
      "include_colab_link": true
    }
  },
  "nbformat": 4,
  "nbformat_minor": 5
}