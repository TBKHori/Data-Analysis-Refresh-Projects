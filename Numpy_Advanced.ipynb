{
  "cells": [
    {
      "cell_type": "markdown",
      "metadata": {
        "id": "view-in-github",
        "colab_type": "text"
      },
      "source": [
        "<a href=\"https://colab.research.google.com/github/TBKHori/Data-Analysis-Refresher-notes/blob/main/Numpy_Advanced.ipynb\" target=\"_parent\"><img src=\"https://colab.research.google.com/assets/colab-badge.svg\" alt=\"Open In Colab\"/></a>"
      ]
    },
    {
      "cell_type": "code",
      "execution_count": null,
      "id": "773ad6d4",
      "metadata": {
        "id": "773ad6d4"
      },
      "outputs": [],
      "source": [
        "import numpy as np\n",
        "import pandas as pd\n",
        "np.random.seed(12345)\n",
        "import matplotlib.pyplot as plt\n",
        "plt.rc('figure', figsize=(10, 6))\n",
        "PREVIOUS_MAX_ROWS = pd.options.display.max_rows\n",
        "pd.options.display.max_rows = 20\n",
        "np.set_printoptions(precision=4, suppress=True)"
      ]
    },
    {
      "cell_type": "markdown",
      "id": "02775ec0",
      "metadata": {
        "id": "02775ec0"
      },
      "source": [
        "ndarray Object Internals"
      ]
    },
    {
      "cell_type": "code",
      "execution_count": null,
      "id": "a1339f35",
      "metadata": {
        "id": "a1339f35",
        "outputId": "6cf910f5-3f54-4a2b-d492-6eba8a59ca60"
      },
      "outputs": [
        {
          "data": {
            "text/plain": [
              "(10, 5)"
            ]
          },
          "execution_count": 4,
          "metadata": {},
          "output_type": "execute_result"
        }
      ],
      "source": [
        "np.ones((10, 5)).shape"
      ]
    },
    {
      "cell_type": "markdown",
      "id": "ce70597c",
      "metadata": {
        "id": "ce70597c"
      },
      "source": [
        "NumPy dtype Hierarchy"
      ]
    },
    {
      "cell_type": "code",
      "execution_count": null,
      "id": "9f575661",
      "metadata": {
        "id": "9f575661",
        "outputId": "9846120c-c214-4f92-e5a2-4be8bdf34588"
      },
      "outputs": [
        {
          "data": {
            "text/plain": [
              "(160, 40, 8)"
            ]
          },
          "execution_count": 5,
          "metadata": {},
          "output_type": "execute_result"
        }
      ],
      "source": [
        "np.ones((3, 4, 5), dtype=np.float64).strides"
      ]
    },
    {
      "cell_type": "code",
      "execution_count": null,
      "id": "ec52ac0a",
      "metadata": {
        "id": "ec52ac0a",
        "outputId": "1094262d-e298-4124-870a-ad8530074690"
      },
      "outputs": [
        {
          "data": {
            "text/plain": [
              "True"
            ]
          },
          "execution_count": 6,
          "metadata": {},
          "output_type": "execute_result"
        }
      ],
      "source": [
        "ints = np.ones(10, dtype=np.uint16)\n",
        "floats = np.ones(10, dtype=np.float32)\n",
        "np.issubdtype(ints.dtype, np.integer)\n",
        "np.issubdtype(floats.dtype, np.floating)"
      ]
    },
    {
      "cell_type": "code",
      "execution_count": null,
      "id": "fe7b8436",
      "metadata": {
        "id": "fe7b8436",
        "outputId": "0b60eccd-04fe-48d7-cc7b-86ae2f6380eb"
      },
      "outputs": [
        {
          "data": {
            "text/plain": [
              "[numpy.float64,\n",
              " numpy.floating,\n",
              " numpy.inexact,\n",
              " numpy.number,\n",
              " numpy.generic,\n",
              " float,\n",
              " object]"
            ]
          },
          "execution_count": 7,
          "metadata": {},
          "output_type": "execute_result"
        }
      ],
      "source": [
        "np.float64.mro()"
      ]
    },
    {
      "cell_type": "code",
      "execution_count": null,
      "id": "78a1eec2",
      "metadata": {
        "id": "78a1eec2",
        "outputId": "9a192626-7db5-4af1-d780-8e26eb91309a"
      },
      "outputs": [
        {
          "data": {
            "text/plain": [
              "True"
            ]
          },
          "execution_count": 8,
          "metadata": {},
          "output_type": "execute_result"
        }
      ],
      "source": [
        "np.issubdtype(ints.dtype, np.number)"
      ]
    },
    {
      "cell_type": "markdown",
      "id": "edc62dc5",
      "metadata": {
        "id": "edc62dc5"
      },
      "source": [
        "Advanced Array Manipulation\n",
        "\n",
        "Reshaping Arrays"
      ]
    },
    {
      "cell_type": "code",
      "execution_count": null,
      "id": "dd25d3b5",
      "metadata": {
        "id": "dd25d3b5",
        "outputId": "05e262b6-96f8-4c2d-bc53-5c861915e241"
      },
      "outputs": [
        {
          "data": {
            "text/plain": [
              "array([[0, 1],\n",
              "       [2, 3],\n",
              "       [4, 5],\n",
              "       [6, 7]])"
            ]
          },
          "execution_count": 9,
          "metadata": {},
          "output_type": "execute_result"
        }
      ],
      "source": [
        "arr = np.arange(8)\n",
        "arr\n",
        "arr.reshape((4, 2))"
      ]
    },
    {
      "cell_type": "code",
      "execution_count": null,
      "id": "fd1286ab",
      "metadata": {
        "id": "fd1286ab",
        "outputId": "08534954-5231-4609-de47-126bd508b96e"
      },
      "outputs": [
        {
          "data": {
            "text/plain": [
              "array([[0, 1, 2, 3],\n",
              "       [4, 5, 6, 7]])"
            ]
          },
          "execution_count": 10,
          "metadata": {},
          "output_type": "execute_result"
        }
      ],
      "source": [
        "arr.reshape((4, 2)).reshape((2, 4))"
      ]
    },
    {
      "cell_type": "code",
      "execution_count": null,
      "id": "1be5b408",
      "metadata": {
        "id": "1be5b408",
        "outputId": "77d65c81-19e7-4526-8611-6b3532fc96b4"
      },
      "outputs": [
        {
          "data": {
            "text/plain": [
              "array([[ 0,  1,  2],\n",
              "       [ 3,  4,  5],\n",
              "       [ 6,  7,  8],\n",
              "       [ 9, 10, 11],\n",
              "       [12, 13, 14]])"
            ]
          },
          "execution_count": 11,
          "metadata": {},
          "output_type": "execute_result"
        }
      ],
      "source": [
        "arr = np.arange(15)\n",
        "arr.reshape((5, -1))"
      ]
    },
    {
      "cell_type": "code",
      "execution_count": null,
      "id": "656dad24",
      "metadata": {
        "id": "656dad24",
        "outputId": "f3cf0a17-fbac-47b7-8e27-d2c46093e119"
      },
      "outputs": [
        {
          "data": {
            "text/plain": [
              "array([[ 0,  1,  2,  3,  4],\n",
              "       [ 5,  6,  7,  8,  9],\n",
              "       [10, 11, 12, 13, 14]])"
            ]
          },
          "execution_count": 12,
          "metadata": {},
          "output_type": "execute_result"
        }
      ],
      "source": [
        "other_arr = np.ones((3, 5))\n",
        "other_arr.shape\n",
        "arr.reshape(other_arr.shape)"
      ]
    },
    {
      "cell_type": "code",
      "execution_count": null,
      "id": "42eb9667",
      "metadata": {
        "id": "42eb9667",
        "outputId": "dd56488f-6d92-4ea3-f2a4-52efacef8391"
      },
      "outputs": [
        {
          "data": {
            "text/plain": [
              "array([ 0,  1,  2,  3,  4,  5,  6,  7,  8,  9, 10, 11, 12, 13, 14])"
            ]
          },
          "execution_count": 13,
          "metadata": {},
          "output_type": "execute_result"
        }
      ],
      "source": [
        "arr = np.arange(15).reshape((5, 3))\n",
        "arr\n",
        "arr.ravel()"
      ]
    },
    {
      "cell_type": "code",
      "execution_count": null,
      "id": "b2b6510f",
      "metadata": {
        "id": "b2b6510f",
        "outputId": "c8f862ee-e642-44be-bedd-df070bae7579"
      },
      "outputs": [
        {
          "data": {
            "text/plain": [
              "array([ 0,  1,  2,  3,  4,  5,  6,  7,  8,  9, 10, 11, 12, 13, 14])"
            ]
          },
          "execution_count": 14,
          "metadata": {},
          "output_type": "execute_result"
        }
      ],
      "source": [
        "arr.flatten()"
      ]
    },
    {
      "cell_type": "markdown",
      "id": "27ddac4f",
      "metadata": {
        "id": "27ddac4f"
      },
      "source": [
        "Concatenating and Splitting Arrays"
      ]
    },
    {
      "cell_type": "code",
      "execution_count": null,
      "id": "d1aced35",
      "metadata": {
        "id": "d1aced35",
        "outputId": "71d00804-1238-4699-e912-9001cf3749d6"
      },
      "outputs": [
        {
          "data": {
            "text/plain": [
              "array([ 0,  4,  8,  1,  5,  9,  2,  6, 10,  3,  7, 11])"
            ]
          },
          "execution_count": 15,
          "metadata": {},
          "output_type": "execute_result"
        }
      ],
      "source": [
        "arr = np.arange(12).reshape((3, 4))\n",
        "arr\n",
        "arr.ravel()\n",
        "arr.ravel('F')"
      ]
    },
    {
      "cell_type": "markdown",
      "id": "df52c7f3",
      "metadata": {
        "id": "df52c7f3"
      },
      "source": [
        "Concatenating and Splitting Arrays"
      ]
    },
    {
      "cell_type": "code",
      "execution_count": null,
      "id": "b8618e51",
      "metadata": {
        "id": "b8618e51",
        "outputId": "a8c2bf5b-c687-4cbe-c11a-f79f0b30270f"
      },
      "outputs": [
        {
          "data": {
            "text/plain": [
              "array([[ 1,  2,  3,  7,  8,  9],\n",
              "       [ 4,  5,  6, 10, 11, 12]])"
            ]
          },
          "execution_count": 16,
          "metadata": {},
          "output_type": "execute_result"
        }
      ],
      "source": [
        "arr1 = np.array([[1, 2, 3], [4, 5, 6]])\n",
        "arr2 = np.array([[7, 8, 9], [10, 11, 12]])\n",
        "np.concatenate([arr1, arr2], axis=0)\n",
        "np.concatenate([arr1, arr2], axis=1)"
      ]
    },
    {
      "cell_type": "code",
      "execution_count": null,
      "id": "99c95caf",
      "metadata": {
        "id": "99c95caf",
        "outputId": "2b10ca5e-2bf6-4516-f433-d7af9ec94d27"
      },
      "outputs": [
        {
          "data": {
            "text/plain": [
              "array([[ 1,  2,  3,  7,  8,  9],\n",
              "       [ 4,  5,  6, 10, 11, 12]])"
            ]
          },
          "execution_count": 17,
          "metadata": {},
          "output_type": "execute_result"
        }
      ],
      "source": [
        "np.vstack((arr1, arr2))\n",
        "np.hstack((arr1, arr2))"
      ]
    },
    {
      "cell_type": "code",
      "execution_count": null,
      "id": "4752a5f7",
      "metadata": {
        "id": "4752a5f7",
        "outputId": "c95d1a10-c238-4b08-db1c-03623e636892"
      },
      "outputs": [
        {
          "data": {
            "text/plain": [
              "array([[0.0929, 0.2817],\n",
              "       [0.769 , 1.2464]])"
            ]
          },
          "execution_count": 18,
          "metadata": {},
          "output_type": "execute_result"
        }
      ],
      "source": [
        "arr = np.random.randn(5, 2)\n",
        "arr\n",
        "first, second, third = np.split(arr, [1, 3])\n",
        "first\n",
        "second\n",
        "third"
      ]
    },
    {
      "cell_type": "markdown",
      "id": "6abe7f71",
      "metadata": {
        "id": "6abe7f71"
      },
      "source": [
        "Stacking helpers: r and c"
      ]
    },
    {
      "cell_type": "code",
      "execution_count": null,
      "id": "6b5dc172",
      "metadata": {
        "id": "6b5dc172",
        "outputId": "00507941-00ed-405e-b74d-ae75f4de49da"
      },
      "outputs": [
        {
          "data": {
            "text/plain": [
              "array([[ 0.    ,  1.    ,  0.    ],\n",
              "       [ 2.    ,  3.    ,  1.    ],\n",
              "       [ 4.    ,  5.    ,  2.    ],\n",
              "       [ 1.0072, -1.2962,  3.    ],\n",
              "       [ 0.275 ,  0.2289,  4.    ],\n",
              "       [ 1.3529,  0.8864,  5.    ]])"
            ]
          },
          "execution_count": 19,
          "metadata": {},
          "output_type": "execute_result"
        }
      ],
      "source": [
        "arr = np.arange(6)\n",
        "arr1 = arr.reshape((3, 2))\n",
        "arr2 = np.random.randn(3, 2)\n",
        "np.r_[arr1, arr2]\n",
        "np.c_[np.r_[arr1, arr2], arr]"
      ]
    },
    {
      "cell_type": "code",
      "execution_count": null,
      "id": "766dee07",
      "metadata": {
        "id": "766dee07",
        "outputId": "1862ac11-6c93-4fa6-9ba8-b21d89e596bf"
      },
      "outputs": [
        {
          "data": {
            "text/plain": [
              "array([[  1, -10],\n",
              "       [  2,  -9],\n",
              "       [  3,  -8],\n",
              "       [  4,  -7],\n",
              "       [  5,  -6]])"
            ]
          },
          "execution_count": 20,
          "metadata": {},
          "output_type": "execute_result"
        }
      ],
      "source": [
        "np.c_[1:6, -10:-5]"
      ]
    },
    {
      "cell_type": "markdown",
      "id": "1c75f392",
      "metadata": {
        "id": "1c75f392"
      },
      "source": [
        "Repeating Elements: tile and repeat"
      ]
    },
    {
      "cell_type": "code",
      "execution_count": null,
      "id": "2cc1f0b8",
      "metadata": {
        "id": "2cc1f0b8",
        "outputId": "1e195f13-270c-4701-d2af-aa816650a5aa"
      },
      "outputs": [
        {
          "data": {
            "text/plain": [
              "array([0, 0, 0, 1, 1, 1, 2, 2, 2])"
            ]
          },
          "execution_count": 21,
          "metadata": {},
          "output_type": "execute_result"
        }
      ],
      "source": [
        "arr = np.arange(3)\n",
        "arr\n",
        "arr.repeat(3)"
      ]
    },
    {
      "cell_type": "code",
      "execution_count": null,
      "id": "09c14c3e",
      "metadata": {
        "id": "09c14c3e",
        "outputId": "baaab1d1-15d5-45c0-db39-b5027417d9e6"
      },
      "outputs": [
        {
          "data": {
            "text/plain": [
              "array([0, 0, 1, 1, 1, 2, 2, 2, 2])"
            ]
          },
          "execution_count": 22,
          "metadata": {},
          "output_type": "execute_result"
        }
      ],
      "source": [
        "arr.repeat([2, 3, 4])"
      ]
    },
    {
      "cell_type": "code",
      "execution_count": null,
      "id": "a0685c14",
      "metadata": {
        "id": "a0685c14",
        "outputId": "c48a4ec7-9501-45ab-feab-cb04dddffa11"
      },
      "outputs": [
        {
          "data": {
            "text/plain": [
              "array([[-2.0016, -0.3718],\n",
              "       [-2.0016, -0.3718],\n",
              "       [ 1.669 , -0.4386],\n",
              "       [ 1.669 , -0.4386]])"
            ]
          },
          "execution_count": 23,
          "metadata": {},
          "output_type": "execute_result"
        }
      ],
      "source": [
        "arr = np.random.randn(2, 2)\n",
        "arr\n",
        "arr.repeat(2, axis=0)"
      ]
    },
    {
      "cell_type": "code",
      "execution_count": null,
      "id": "6acf74c5",
      "metadata": {
        "id": "6acf74c5",
        "outputId": "d7414ea6-2399-4d34-dccb-3b135a0ddcf5"
      },
      "outputs": [
        {
          "data": {
            "text/plain": [
              "array([[-2.0016, -2.0016, -0.3718, -0.3718, -0.3718],\n",
              "       [ 1.669 ,  1.669 , -0.4386, -0.4386, -0.4386]])"
            ]
          },
          "execution_count": 24,
          "metadata": {},
          "output_type": "execute_result"
        }
      ],
      "source": [
        "arr.repeat([2, 3], axis=0)\n",
        "arr.repeat([2, 3], axis=1)"
      ]
    },
    {
      "cell_type": "code",
      "execution_count": null,
      "id": "722e3328",
      "metadata": {
        "id": "722e3328",
        "outputId": "f436c80d-c958-4fca-d1b5-0633b8112924"
      },
      "outputs": [
        {
          "data": {
            "text/plain": [
              "array([[-2.0016, -0.3718, -2.0016, -0.3718],\n",
              "       [ 1.669 , -0.4386,  1.669 , -0.4386]])"
            ]
          },
          "execution_count": 25,
          "metadata": {},
          "output_type": "execute_result"
        }
      ],
      "source": [
        "arr\n",
        "np.tile(arr, 2)"
      ]
    },
    {
      "cell_type": "code",
      "execution_count": null,
      "id": "fbbeca8c",
      "metadata": {
        "id": "fbbeca8c",
        "outputId": "e180d2eb-8168-419d-f8a5-a7d9aede77d9"
      },
      "outputs": [
        {
          "data": {
            "text/plain": [
              "array([[-2.0016, -0.3718, -2.0016, -0.3718],\n",
              "       [ 1.669 , -0.4386,  1.669 , -0.4386],\n",
              "       [-2.0016, -0.3718, -2.0016, -0.3718],\n",
              "       [ 1.669 , -0.4386,  1.669 , -0.4386],\n",
              "       [-2.0016, -0.3718, -2.0016, -0.3718],\n",
              "       [ 1.669 , -0.4386,  1.669 , -0.4386]])"
            ]
          },
          "execution_count": 26,
          "metadata": {},
          "output_type": "execute_result"
        }
      ],
      "source": [
        "arr\n",
        "np.tile(arr, (2, 1))\n",
        "np.tile(arr, (3, 2))"
      ]
    },
    {
      "cell_type": "code",
      "execution_count": null,
      "id": "9bd6b216",
      "metadata": {
        "id": "9bd6b216",
        "outputId": "3f3278aa-624b-4c09-b63e-6fe26ccab7c3"
      },
      "outputs": [
        {
          "data": {
            "text/plain": [
              "array([700, 100, 200, 600])"
            ]
          },
          "execution_count": 27,
          "metadata": {},
          "output_type": "execute_result"
        }
      ],
      "source": [
        "arr = np.arange(10) * 100\n",
        "inds = [7, 1, 2, 6]\n",
        "arr[inds]"
      ]
    },
    {
      "cell_type": "code",
      "execution_count": null,
      "id": "c2c4fa6d",
      "metadata": {
        "id": "c2c4fa6d",
        "outputId": "2bccb945-bd3e-4a7e-b610-11dfa3fda4f9"
      },
      "outputs": [
        {
          "data": {
            "text/plain": [
              "array([  0,  41,  42, 300, 400, 500,  43,  40, 800, 900])"
            ]
          },
          "execution_count": 28,
          "metadata": {},
          "output_type": "execute_result"
        }
      ],
      "source": [
        "arr.take(inds)\n",
        "arr.put(inds, 42)\n",
        "arr\n",
        "arr.put(inds, [40, 41, 42, 43])\n",
        "arr"
      ]
    },
    {
      "cell_type": "code",
      "execution_count": null,
      "id": "c5060c35",
      "metadata": {
        "id": "c5060c35",
        "outputId": "88d33233-1e7d-4f3a-90cd-a62f62b41487"
      },
      "outputs": [
        {
          "data": {
            "text/plain": [
              "array([[ 3.2489, -0.5397,  3.2489,  0.477 ],\n",
              "       [ 0.3026, -0.5771,  0.3026,  0.1241]])"
            ]
          },
          "execution_count": 29,
          "metadata": {},
          "output_type": "execute_result"
        }
      ],
      "source": [
        "inds = [2, 0, 2, 1]\n",
        "arr = np.random.randn(2, 4)\n",
        "arr\n",
        "arr.take(inds, axis=1)"
      ]
    },
    {
      "cell_type": "markdown",
      "id": "370dfab3",
      "metadata": {
        "id": "370dfab3"
      },
      "source": [
        "Broadcasting"
      ]
    },
    {
      "cell_type": "code",
      "execution_count": null,
      "id": "776132a6",
      "metadata": {
        "id": "776132a6",
        "outputId": "7372738f-f9e9-4cc5-e3d5-c7948ae8ecf2"
      },
      "outputs": [
        {
          "data": {
            "text/plain": [
              "array([ 0,  4,  8, 12, 16])"
            ]
          },
          "execution_count": 30,
          "metadata": {},
          "output_type": "execute_result"
        }
      ],
      "source": [
        "arr = np.arange(5)\n",
        "arr\n",
        "arr * 4"
      ]
    },
    {
      "cell_type": "code",
      "execution_count": null,
      "id": "37d7989f",
      "metadata": {
        "id": "37d7989f",
        "outputId": "2c60bd6d-d0c6-4281-c766-6d11e423cc64"
      },
      "outputs": [
        {
          "data": {
            "text/plain": [
              "array([-0.,  0., -0.])"
            ]
          },
          "execution_count": 31,
          "metadata": {},
          "output_type": "execute_result"
        }
      ],
      "source": [
        "arr = np.random.randn(4, 3)\n",
        "arr.mean(0)\n",
        "demeaned = arr - arr.mean(0)\n",
        "demeaned\n",
        "demeaned.mean(0)"
      ]
    },
    {
      "cell_type": "code",
      "execution_count": null,
      "id": "ca5d3aaa",
      "metadata": {
        "id": "ca5d3aaa",
        "outputId": "dab6fdbb-a6dd-4d7c-f9ba-85c9f0ac4290"
      },
      "outputs": [
        {
          "data": {
            "text/plain": [
              "array([ 0., -0.,  0.,  0.])"
            ]
          },
          "execution_count": 32,
          "metadata": {},
          "output_type": "execute_result"
        }
      ],
      "source": [
        "arr\n",
        "row_means = arr.mean(1)\n",
        "row_means.shape\n",
        "row_means.reshape((4, 1))\n",
        "demeaned = arr - row_means.reshape((4, 1))\n",
        "demeaned.mean(1)"
      ]
    },
    {
      "cell_type": "markdown",
      "id": "b8637591",
      "metadata": {
        "id": "b8637591"
      },
      "source": [
        "Broadcasting Over Other Axes"
      ]
    },
    {
      "cell_type": "code",
      "execution_count": null,
      "id": "912b97a9",
      "metadata": {
        "id": "912b97a9",
        "outputId": "f217264b-fbcc-4b48-8814-e1433f0d018e"
      },
      "outputs": [
        {
          "ename": "ValueError",
          "evalue": "operands could not be broadcast together with shapes (4,3) (4,) ",
          "output_type": "error",
          "traceback": [
            "\u001b[1;31m---------------------------------------------------------------------------\u001b[0m",
            "\u001b[1;31mValueError\u001b[0m                                Traceback (most recent call last)",
            "\u001b[1;32m~\\AppData\\Local\\Temp/ipykernel_19696/1713987831.py\u001b[0m in \u001b[0;36m<module>\u001b[1;34m\u001b[0m\n\u001b[1;32m----> 1\u001b[1;33m \u001b[0marr\u001b[0m \u001b[1;33m-\u001b[0m \u001b[0marr\u001b[0m\u001b[1;33m.\u001b[0m\u001b[0mmean\u001b[0m\u001b[1;33m(\u001b[0m\u001b[1;36m1\u001b[0m\u001b[1;33m)\u001b[0m\u001b[1;33m\u001b[0m\u001b[1;33m\u001b[0m\u001b[0m\n\u001b[0m",
            "\u001b[1;31mValueError\u001b[0m: operands could not be broadcast together with shapes (4,3) (4,) "
          ]
        }
      ],
      "source": [
        "arr - arr.mean(1)"
      ]
    },
    {
      "cell_type": "code",
      "execution_count": null,
      "id": "efdf2024",
      "metadata": {
        "id": "efdf2024",
        "outputId": "b754f4a2-5841-4306-e59d-6c39d05edb63"
      },
      "outputs": [
        {
          "data": {
            "text/plain": [
              "array([[-0.2095,  1.1334, -0.9239],\n",
              "       [ 0.8562, -0.6828, -0.1734],\n",
              "       [-0.3386,  1.0823, -0.7438],\n",
              "       [ 0.3234, -0.8599,  0.5365]])"
            ]
          },
          "execution_count": 34,
          "metadata": {},
          "output_type": "execute_result"
        }
      ],
      "source": [
        "arr - arr.mean(1).reshape((4, 1))"
      ]
    },
    {
      "cell_type": "code",
      "execution_count": null,
      "id": "4b0faaaf",
      "metadata": {
        "id": "4b0faaaf",
        "outputId": "9136cb40-198d-46be-be9b-b26f52065d4c"
      },
      "outputs": [
        {
          "data": {
            "text/plain": [
              "array([[-2.3594, -0.1995, -1.542 ]])"
            ]
          },
          "execution_count": 35,
          "metadata": {},
          "output_type": "execute_result"
        }
      ],
      "source": [
        "arr = np.zeros((4, 4))\n",
        "arr_3d = arr[:, np.newaxis, :]\n",
        "arr_3d.shape\n",
        "arr_1d = np.random.normal(size=3)\n",
        "arr_1d[:, np.newaxis]\n",
        "arr_1d[np.newaxis, :]"
      ]
    },
    {
      "cell_type": "code",
      "execution_count": null,
      "id": "11fddb95",
      "metadata": {
        "id": "11fddb95",
        "outputId": "e47ad860-e495-4666-f747-8ed2486687e4"
      },
      "outputs": [
        {
          "data": {
            "text/plain": [
              "array([[ 0.,  0., -0., -0.],\n",
              "       [ 0.,  0., -0.,  0.],\n",
              "       [ 0.,  0., -0., -0.]])"
            ]
          },
          "execution_count": 36,
          "metadata": {},
          "output_type": "execute_result"
        }
      ],
      "source": [
        "arr = np.random.randn(3, 4, 5)\n",
        "depth_means = arr.mean(2)\n",
        "depth_means\n",
        "depth_means.shape\n",
        "demeaned = arr - depth_means[:, :, np.newaxis]\n",
        "demeaned.mean(2)"
      ]
    },
    {
      "cell_type": "code",
      "execution_count": null,
      "id": "2030f666",
      "metadata": {
        "id": "2030f666"
      },
      "outputs": [],
      "source": [
        "def demean_axis(arr, axis=0):\n",
        "    means = arr.mean(axis)\n"
      ]
    },
    {
      "cell_type": "markdown",
      "id": "eb3ff32a",
      "metadata": {
        "id": "eb3ff32a"
      },
      "source": [
        "# This generalizes things like [:, :, np.newaxis] to N dimensions\n",
        "    indexer = [slice(None)] * arr.ndim\n",
        "    indexer[axis] = np.newaxis\n",
        "    return arr - means[indexer]"
      ]
    },
    {
      "cell_type": "markdown",
      "id": "92b1b1ce",
      "metadata": {
        "id": "92b1b1ce"
      },
      "source": [
        "Setting Array Values by Broadcasting"
      ]
    },
    {
      "cell_type": "code",
      "execution_count": null,
      "id": "8cbecfe4",
      "metadata": {
        "id": "8cbecfe4",
        "outputId": "650872ac-3b3e-4328-bbcd-3fe768e56006"
      },
      "outputs": [
        {
          "data": {
            "text/plain": [
              "array([[5., 5., 5.],\n",
              "       [5., 5., 5.],\n",
              "       [5., 5., 5.],\n",
              "       [5., 5., 5.]])"
            ]
          },
          "execution_count": 38,
          "metadata": {},
          "output_type": "execute_result"
        }
      ],
      "source": [
        "arr = np.zeros((4, 3))\n",
        "arr[:] = 5\n",
        "arr"
      ]
    },
    {
      "cell_type": "code",
      "execution_count": null,
      "id": "db9d0f3c",
      "metadata": {
        "id": "db9d0f3c",
        "outputId": "8830b096-de74-438e-9df2-d9be766efb08"
      },
      "outputs": [
        {
          "data": {
            "text/plain": [
              "array([[-1.37 , -1.37 , -1.37 ],\n",
              "       [ 0.509,  0.509,  0.509],\n",
              "       [ 0.44 ,  0.44 ,  0.44 ],\n",
              "       [ 1.6  ,  1.6  ,  1.6  ]])"
            ]
          },
          "execution_count": 39,
          "metadata": {},
          "output_type": "execute_result"
        }
      ],
      "source": [
        "col = np.array([1.28, -0.42, 0.44, 1.6])\n",
        "arr[:] = col[:, np.newaxis]\n",
        "arr\n",
        "arr[:2] = [[-1.37], [0.509]]\n",
        "arr"
      ]
    },
    {
      "cell_type": "markdown",
      "id": "89322e59",
      "metadata": {
        "id": "89322e59"
      },
      "source": [
        "Advanced ufunc Usage"
      ]
    },
    {
      "cell_type": "markdown",
      "id": "fcbdb026",
      "metadata": {
        "id": "fcbdb026"
      },
      "source": [
        "ufunc Instance Methods"
      ]
    },
    {
      "cell_type": "code",
      "execution_count": null,
      "id": "44bc532e",
      "metadata": {
        "id": "44bc532e",
        "outputId": "ebfd068d-db4d-4979-9070-84261c2042a6"
      },
      "outputs": [
        {
          "data": {
            "text/plain": [
              "45"
            ]
          },
          "execution_count": 40,
          "metadata": {},
          "output_type": "execute_result"
        }
      ],
      "source": [
        "arr = np.arange(10)\n",
        "np.add.reduce(arr)\n",
        "arr.sum()"
      ]
    },
    {
      "cell_type": "code",
      "execution_count": null,
      "id": "c33a0757",
      "metadata": {
        "id": "c33a0757",
        "outputId": "134101f7-3cb7-4d61-b8a7-f89ba1586354"
      },
      "outputs": [
        {
          "data": {
            "text/plain": [
              "array([ True, False,  True, False,  True])"
            ]
          },
          "execution_count": 41,
          "metadata": {},
          "output_type": "execute_result"
        }
      ],
      "source": [
        "np.random.seed(12346)  # for reproducibility\n",
        "arr = np.random.randn(5, 5)\n",
        "arr[::2].sort(1) # sort a few rows\n",
        "arr[:, :-1] < arr[:, 1:]\n",
        "np.logical_and.reduce(arr[:, :-1] < arr[:, 1:], axis=1)"
      ]
    },
    {
      "cell_type": "code",
      "execution_count": null,
      "id": "f9099cef",
      "metadata": {
        "id": "f9099cef",
        "outputId": "14a61791-03c5-416c-c8fa-1b58b0243065"
      },
      "outputs": [
        {
          "data": {
            "text/plain": [
              "array([[ 0,  1,  3,  6, 10],\n",
              "       [ 5, 11, 18, 26, 35],\n",
              "       [10, 21, 33, 46, 60]], dtype=int32)"
            ]
          },
          "execution_count": 42,
          "metadata": {},
          "output_type": "execute_result"
        }
      ],
      "source": [
        "arr = np.arange(15).reshape((3, 5))\n",
        "np.add.accumulate(arr, axis=1)"
      ]
    },
    {
      "cell_type": "code",
      "execution_count": null,
      "id": "a05b8bfc",
      "metadata": {
        "id": "a05b8bfc",
        "outputId": "23271e17-9ccc-40f9-a670-a2d9cb11f246"
      },
      "outputs": [
        {
          "data": {
            "text/plain": [
              "array([[0, 0, 0, 0, 0],\n",
              "       [0, 1, 2, 3, 4],\n",
              "       [0, 1, 2, 3, 4],\n",
              "       [0, 2, 4, 6, 8],\n",
              "       [0, 2, 4, 6, 8]])"
            ]
          },
          "execution_count": 43,
          "metadata": {},
          "output_type": "execute_result"
        }
      ],
      "source": [
        "arr = np.arange(3).repeat([1, 2, 2])\n",
        "arr\n",
        "np.multiply.outer(arr, np.arange(5))"
      ]
    },
    {
      "cell_type": "code",
      "execution_count": null,
      "id": "5047e2de",
      "metadata": {
        "id": "5047e2de",
        "outputId": "d70eb99c-e75e-4b4f-9c16-72ff1f4ac41b"
      },
      "outputs": [
        {
          "data": {
            "text/plain": [
              "(3, 4, 5)"
            ]
          },
          "execution_count": 44,
          "metadata": {},
          "output_type": "execute_result"
        }
      ],
      "source": [
        "x, y = np.random.randn(3, 4), np.random.randn(5)\n",
        "result = np.subtract.outer(x, y)\n",
        "result.shape"
      ]
    },
    {
      "cell_type": "code",
      "execution_count": null,
      "id": "576ec5dd",
      "metadata": {
        "id": "576ec5dd",
        "outputId": "10f66d1e-fc98-4b52-964a-0d96a212dd07"
      },
      "outputs": [
        {
          "data": {
            "text/plain": [
              "array([10, 18, 17], dtype=int32)"
            ]
          },
          "execution_count": 45,
          "metadata": {},
          "output_type": "execute_result"
        }
      ],
      "source": [
        "arr = np.arange(10)\n",
        "np.add.reduceat(arr, [0, 5, 8])"
      ]
    },
    {
      "cell_type": "code",
      "execution_count": null,
      "id": "9524ccff",
      "metadata": {
        "id": "9524ccff",
        "outputId": "126ab8af-6524-47d2-b0a2-3e3cf5d5507d"
      },
      "outputs": [
        {
          "data": {
            "text/plain": [
              "array([[ 0,  0,  0],\n",
              "       [ 1,  5,  4],\n",
              "       [ 2, 10,  8],\n",
              "       [ 3, 15, 12]], dtype=int32)"
            ]
          },
          "execution_count": 46,
          "metadata": {},
          "output_type": "execute_result"
        }
      ],
      "source": [
        "arr = np.multiply.outer(np.arange(4), np.arange(5))\n",
        "arr\n",
        "np.add.reduceat(arr, [0, 2, 4], axis=1)"
      ]
    },
    {
      "cell_type": "markdown",
      "id": "8bab44d0",
      "metadata": {
        "id": "8bab44d0"
      },
      "source": [
        "Writing New ufuncs in Python"
      ]
    },
    {
      "cell_type": "code",
      "execution_count": null,
      "id": "8c2eb9db",
      "metadata": {
        "id": "8c2eb9db",
        "outputId": "5030b5bb-fbe7-43b2-ddae-22eb1b035574"
      },
      "outputs": [
        {
          "data": {
            "text/plain": [
              "array([0, 2, 4, 6, 8, 10, 12, 14], dtype=object)"
            ]
          },
          "execution_count": 47,
          "metadata": {},
          "output_type": "execute_result"
        }
      ],
      "source": [
        "def add_elements(x, y):\n",
        "    return x + y\n",
        "add_them = np.frompyfunc(add_elements, 2, 1)\n",
        "add_them(np.arange(8), np.arange(8))"
      ]
    },
    {
      "cell_type": "code",
      "execution_count": null,
      "id": "a45bb600",
      "metadata": {
        "id": "a45bb600",
        "outputId": "f7a0ef42-83cc-427d-dd34-1fd8e7e28c60"
      },
      "outputs": [
        {
          "data": {
            "text/plain": [
              "array([ 0.,  2.,  4.,  6.,  8., 10., 12., 14.])"
            ]
          },
          "execution_count": 48,
          "metadata": {},
          "output_type": "execute_result"
        }
      ],
      "source": [
        "add_them = np.vectorize(add_elements, otypes=[np.float64])\n",
        "add_them(np.arange(8), np.arange(8))"
      ]
    },
    {
      "cell_type": "code",
      "execution_count": null,
      "id": "1f1139dc",
      "metadata": {
        "id": "1f1139dc",
        "outputId": "6f33eda7-3df1-450e-f238-4a921fa6939e"
      },
      "outputs": [
        {
          "name": "stdout",
          "output_type": "stream",
          "text": [
            "5.17 ms ± 1.87 ms per loop (mean ± std. dev. of 7 runs, 100 loops each)\n",
            "13.1 µs ± 2.88 µs per loop (mean ± std. dev. of 7 runs, 100000 loops each)\n"
          ]
        }
      ],
      "source": [
        "arr = np.random.randn(10000)\n",
        "%timeit add_them(arr, arr)\n",
        "%timeit np.add(arr, arr)"
      ]
    },
    {
      "cell_type": "markdown",
      "id": "5f78d432",
      "metadata": {
        "id": "5f78d432"
      },
      "source": [
        "Structured and Record Arrays"
      ]
    },
    {
      "cell_type": "code",
      "execution_count": null,
      "id": "c0369d40",
      "metadata": {
        "id": "c0369d40",
        "outputId": "890c9cb5-5608-4886-e1cd-721f35168731"
      },
      "outputs": [
        {
          "data": {
            "text/plain": [
              "array([(1.5   ,  6), (3.1416, -2)], dtype=[('x', '<f8'), ('y', '<i4')])"
            ]
          },
          "execution_count": 50,
          "metadata": {},
          "output_type": "execute_result"
        }
      ],
      "source": [
        "dtype = [('x', np.float64), ('y', np.int32)]\n",
        "sarr = np.array([(1.5, 6), (np.pi, -2)], dtype=dtype)\n",
        "sarr"
      ]
    },
    {
      "cell_type": "code",
      "execution_count": null,
      "id": "17901d37",
      "metadata": {
        "id": "17901d37",
        "outputId": "31475127-9234-4a77-ca81-629f2cda98b4"
      },
      "outputs": [
        {
          "data": {
            "text/plain": [
              "6"
            ]
          },
          "execution_count": 51,
          "metadata": {},
          "output_type": "execute_result"
        }
      ],
      "source": [
        "sarr[0]\n",
        "sarr[0]['y']"
      ]
    },
    {
      "cell_type": "code",
      "execution_count": null,
      "id": "7844a252",
      "metadata": {
        "id": "7844a252",
        "outputId": "36d759dd-7216-4073-fc62-20525cde9300"
      },
      "outputs": [
        {
          "data": {
            "text/plain": [
              "array([1.5   , 3.1416])"
            ]
          },
          "execution_count": 52,
          "metadata": {},
          "output_type": "execute_result"
        }
      ],
      "source": [
        "sarr['x']"
      ]
    },
    {
      "cell_type": "markdown",
      "id": "e6659b90",
      "metadata": {
        "id": "e6659b90"
      },
      "source": [
        "Nested dtypes and Multidimensional Fields"
      ]
    },
    {
      "cell_type": "code",
      "execution_count": null,
      "id": "5ab86972",
      "metadata": {
        "id": "5ab86972",
        "outputId": "f7ce7807-9907-4973-a328-9cc921341417"
      },
      "outputs": [
        {
          "data": {
            "text/plain": [
              "array([([0, 0, 0], 0), ([0, 0, 0], 0), ([0, 0, 0], 0), ([0, 0, 0], 0)],\n",
              "      dtype=[('x', '<i8', (3,)), ('y', '<i4')])"
            ]
          },
          "execution_count": 53,
          "metadata": {},
          "output_type": "execute_result"
        }
      ],
      "source": [
        "dtype = [('x', np.int64, 3), ('y', np.int32)]\n",
        "arr = np.zeros(4, dtype=dtype)\n",
        "arr"
      ]
    },
    {
      "cell_type": "code",
      "execution_count": null,
      "id": "ab555680",
      "metadata": {
        "id": "ab555680",
        "outputId": "cddaae0d-394b-4ba4-8d4a-3b47919f26be"
      },
      "outputs": [
        {
          "data": {
            "text/plain": [
              "array([0, 0, 0], dtype=int64)"
            ]
          },
          "execution_count": 54,
          "metadata": {},
          "output_type": "execute_result"
        }
      ],
      "source": [
        "arr[0]['x']"
      ]
    },
    {
      "cell_type": "code",
      "execution_count": null,
      "id": "d924d97d",
      "metadata": {
        "id": "d924d97d",
        "outputId": "8dbbef59-e415-4372-dedc-4a3b240af601"
      },
      "outputs": [
        {
          "data": {
            "text/plain": [
              "array([[0, 0, 0],\n",
              "       [0, 0, 0],\n",
              "       [0, 0, 0],\n",
              "       [0, 0, 0]], dtype=int64)"
            ]
          },
          "execution_count": 55,
          "metadata": {},
          "output_type": "execute_result"
        }
      ],
      "source": [
        "arr['x']"
      ]
    },
    {
      "cell_type": "code",
      "execution_count": null,
      "id": "e9a4ed55",
      "metadata": {
        "id": "e9a4ed55",
        "outputId": "47e16d11-a4f3-40f4-f4bb-6ba4642f12a9"
      },
      "outputs": [
        {
          "data": {
            "text/plain": [
              "array([1., 3.])"
            ]
          },
          "execution_count": 56,
          "metadata": {},
          "output_type": "execute_result"
        }
      ],
      "source": [
        "dtype = [('x', [('a', 'f8'), ('b', 'f4')]), ('y', np.int32)]\n",
        "data = np.array([((1, 2), 5), ((3, 4), 6)], dtype=dtype)\n",
        "data['x']\n",
        "data['y']\n",
        "data['x']['a']"
      ]
    },
    {
      "cell_type": "markdown",
      "id": "e3a04be5",
      "metadata": {
        "id": "e3a04be5"
      },
      "source": [
        "Why Use Structured Arrays?"
      ]
    },
    {
      "cell_type": "markdown",
      "id": "1ab9e48b",
      "metadata": {
        "id": "1ab9e48b"
      },
      "source": [
        "More About Sorting"
      ]
    },
    {
      "cell_type": "code",
      "execution_count": null,
      "id": "b3877e47",
      "metadata": {
        "id": "b3877e47",
        "outputId": "b18522e3-c718-4af2-b398-5fe1ec00af8c"
      },
      "outputs": [
        {
          "data": {
            "text/plain": [
              "array([-1.082 ,  0.3759,  0.8014,  1.1397,  1.2888,  1.8413])"
            ]
          },
          "execution_count": 57,
          "metadata": {},
          "output_type": "execute_result"
        }
      ],
      "source": [
        "arr = np.random.randn(6)\n",
        "arr.sort()\n",
        "arr"
      ]
    },
    {
      "cell_type": "code",
      "execution_count": null,
      "id": "008ce863",
      "metadata": {
        "id": "008ce863",
        "outputId": "45bf78d7-22a8-4fe9-bcce-5adf3ad1cdf9"
      },
      "outputs": [
        {
          "data": {
            "text/plain": [
              "array([[-1.0111, -1.4711,  0.8705, -0.0847, -1.1329],\n",
              "       [-0.3318, -0.3436,  2.1714,  0.1234, -0.0189],\n",
              "       [ 0.1773,  0.7424,  0.8548,  1.038 , -0.329 ]])"
            ]
          },
          "execution_count": 58,
          "metadata": {},
          "output_type": "execute_result"
        }
      ],
      "source": [
        "arr = np.random.randn(3, 5)\n",
        "arr\n",
        "arr[:, 0].sort()  # Sort first column values in-place\n",
        "arr"
      ]
    },
    {
      "cell_type": "code",
      "execution_count": null,
      "id": "64412773",
      "metadata": {
        "id": "64412773",
        "outputId": "36d4b57e-7dbf-433c-b355-589f43683718"
      },
      "outputs": [
        {
          "data": {
            "text/plain": [
              "array([-1.1181, -0.2415, -2.0051,  0.7379, -1.0614])"
            ]
          },
          "execution_count": 59,
          "metadata": {},
          "output_type": "execute_result"
        }
      ],
      "source": [
        "arr = np.random.randn(5)\n",
        "arr\n",
        "np.sort(arr)\n",
        "arr"
      ]
    },
    {
      "cell_type": "code",
      "execution_count": null,
      "id": "31c6ac8b",
      "metadata": {
        "id": "31c6ac8b"
      },
      "outputs": [],
      "source": [
        ""
      ]
    }
  ],
  "metadata": {
    "interpreter": {
      "hash": "7679c2132d3f6ce38c9df14d554b39c06862b36a4e6689c81f9ae15bd0911d7d"
    },
    "kernelspec": {
      "display_name": "Python 3.9.7 ('base')",
      "language": "python",
      "name": "python3"
    },
    "language_info": {
      "codemirror_mode": {
        "name": "ipython",
        "version": 3
      },
      "file_extension": ".py",
      "mimetype": "text/x-python",
      "name": "python",
      "nbconvert_exporter": "python",
      "pygments_lexer": "ipython3",
      "version": "3.9.7"
    },
    "colab": {
      "name": "Numpy-Advanced.ipynb",
      "provenance": [],
      "include_colab_link": true
    }
  },
  "nbformat": 4,
  "nbformat_minor": 5
}