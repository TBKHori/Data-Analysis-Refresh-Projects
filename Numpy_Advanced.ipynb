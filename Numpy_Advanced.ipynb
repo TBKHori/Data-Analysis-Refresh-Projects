{
  "cells": [
    {
      "cell_type": "markdown",
      "metadata": {
        "id": "view-in-github",
        "colab_type": "text"
      },
      "source": [
        "<a href=\"https://colab.research.google.com/github/TBKHori/Data-Analysis-Refresher-notes/blob/main/Numpy_Advanced.ipynb\" target=\"_parent\"><img src=\"https://colab.research.google.com/assets/colab-badge.svg\" alt=\"Open In Colab\"/></a>"
      ]
    },
    {
      "cell_type": "code",
      "execution_count": null,
      "id": "773ad6d4",
      "metadata": {
        "id": "773ad6d4"
      },
      "outputs": [],
      "source": [
        "import numpy as np\n",
        "import pandas as pd\n",
        "np.random.seed(12345)\n",
        "import matplotlib.pyplot as plt\n",
        "plt.rc('figure', figsize=(10, 6))\n",
        "PREVIOUS_MAX_ROWS = pd.options.display.max_rows\n",
        "pd.options.display.max_rows = 20\n",
        "np.set_printoptions(precision=4, suppress=True)"
      ]
    },
    {
      "cell_type": "markdown",
      "id": "02775ec0",
      "metadata": {
        "id": "02775ec0"
      },
      "source": [
        "ndarray Object Internals"
      ]
    },
    {
      "cell_type": "code",
      "execution_count": null,
      "id": "a1339f35",
      "metadata": {
        "id": "a1339f35",
        "outputId": "674b0c8c-9d8a-4190-98b9-4d5450012805"
      },
      "outputs": [
        {
          "data": {
            "text/plain": [
              "(10, 5)"
            ]
          },
          "execution_count": 4,
          "metadata": {},
          "output_type": "execute_result"
        }
      ],
      "source": [
        "np.ones((10, 5)).shape"
      ]
    },
    {
      "cell_type": "markdown",
      "id": "ce70597c",
      "metadata": {
        "id": "ce70597c"
      },
      "source": [
        "NumPy dtype Hierarchy"
      ]
    },
    {
      "cell_type": "code",
      "execution_count": null,
      "id": "9f575661",
      "metadata": {
        "id": "9f575661",
        "outputId": "e461e975-bee2-41ae-f126-975bf56d60e3"
      },
      "outputs": [
        {
          "data": {
            "text/plain": [
              "(160, 40, 8)"
            ]
          },
          "execution_count": 5,
          "metadata": {},
          "output_type": "execute_result"
        }
      ],
      "source": [
        "np.ones((3, 4, 5), dtype=np.float64).strides"
      ]
    },
    {
      "cell_type": "code",
      "execution_count": null,
      "id": "ec52ac0a",
      "metadata": {
        "id": "ec52ac0a",
        "outputId": "ad1d4965-3d49-4113-a805-f1f0c5a7595d"
      },
      "outputs": [
        {
          "data": {
            "text/plain": [
              "True"
            ]
          },
          "execution_count": 6,
          "metadata": {},
          "output_type": "execute_result"
        }
      ],
      "source": [
        "ints = np.ones(10, dtype=np.uint16)\n",
        "floats = np.ones(10, dtype=np.float32)\n",
        "np.issubdtype(ints.dtype, np.integer)\n",
        "np.issubdtype(floats.dtype, np.floating)"
      ]
    },
    {
      "cell_type": "code",
      "execution_count": null,
      "id": "fe7b8436",
      "metadata": {
        "id": "fe7b8436",
        "outputId": "352f4cef-597f-4be1-b13e-791da81de192"
      },
      "outputs": [
        {
          "data": {
            "text/plain": [
              "[numpy.float64,\n",
              " numpy.floating,\n",
              " numpy.inexact,\n",
              " numpy.number,\n",
              " numpy.generic,\n",
              " float,\n",
              " object]"
            ]
          },
          "execution_count": 7,
          "metadata": {},
          "output_type": "execute_result"
        }
      ],
      "source": [
        "np.float64.mro()"
      ]
    },
    {
      "cell_type": "code",
      "execution_count": null,
      "id": "78a1eec2",
      "metadata": {
        "id": "78a1eec2",
        "outputId": "a3bd2986-03fa-42a6-d4b4-172f726e1855"
      },
      "outputs": [
        {
          "data": {
            "text/plain": [
              "True"
            ]
          },
          "execution_count": 8,
          "metadata": {},
          "output_type": "execute_result"
        }
      ],
      "source": [
        "np.issubdtype(ints.dtype, np.number)"
      ]
    },
    {
      "cell_type": "markdown",
      "id": "edc62dc5",
      "metadata": {
        "id": "edc62dc5"
      },
      "source": [
        "Advanced Array Manipulation\n",
        "\n",
        "Reshaping Arrays"
      ]
    },
    {
      "cell_type": "code",
      "execution_count": null,
      "id": "dd25d3b5",
      "metadata": {
        "id": "dd25d3b5",
        "outputId": "31d335ee-97de-473b-8e6b-c40593b18424"
      },
      "outputs": [
        {
          "data": {
            "text/plain": [
              "array([[0, 1],\n",
              "       [2, 3],\n",
              "       [4, 5],\n",
              "       [6, 7]])"
            ]
          },
          "execution_count": 9,
          "metadata": {},
          "output_type": "execute_result"
        }
      ],
      "source": [
        "arr = np.arange(8)\n",
        "arr\n",
        "arr.reshape((4, 2))"
      ]
    },
    {
      "cell_type": "code",
      "execution_count": null,
      "id": "fd1286ab",
      "metadata": {
        "id": "fd1286ab",
        "outputId": "f8c751b5-b078-46c7-e1af-47c5c270b1ff"
      },
      "outputs": [
        {
          "data": {
            "text/plain": [
              "array([[0, 1, 2, 3],\n",
              "       [4, 5, 6, 7]])"
            ]
          },
          "execution_count": 10,
          "metadata": {},
          "output_type": "execute_result"
        }
      ],
      "source": [
        "arr.reshape((4, 2)).reshape((2, 4))"
      ]
    },
    {
      "cell_type": "code",
      "execution_count": null,
      "id": "1be5b408",
      "metadata": {
        "id": "1be5b408",
        "outputId": "bb1302b0-ae2c-43c2-f3cf-5e1d9b4e6f20"
      },
      "outputs": [
        {
          "data": {
            "text/plain": [
              "array([[ 0,  1,  2],\n",
              "       [ 3,  4,  5],\n",
              "       [ 6,  7,  8],\n",
              "       [ 9, 10, 11],\n",
              "       [12, 13, 14]])"
            ]
          },
          "execution_count": 11,
          "metadata": {},
          "output_type": "execute_result"
        }
      ],
      "source": [
        "arr = np.arange(15)\n",
        "arr.reshape((5, -1))"
      ]
    },
    {
      "cell_type": "code",
      "execution_count": null,
      "id": "656dad24",
      "metadata": {
        "id": "656dad24",
        "outputId": "49d60d49-3de8-4c78-e78e-b9a2ef7a14c9"
      },
      "outputs": [
        {
          "data": {
            "text/plain": [
              "array([[ 0,  1,  2,  3,  4],\n",
              "       [ 5,  6,  7,  8,  9],\n",
              "       [10, 11, 12, 13, 14]])"
            ]
          },
          "execution_count": 12,
          "metadata": {},
          "output_type": "execute_result"
        }
      ],
      "source": [
        "other_arr = np.ones((3, 5))\n",
        "other_arr.shape\n",
        "arr.reshape(other_arr.shape)"
      ]
    },
    {
      "cell_type": "code",
      "execution_count": null,
      "id": "42eb9667",
      "metadata": {
        "id": "42eb9667",
        "outputId": "74ebe8b2-4c3f-4dac-a173-d0d35d513b89"
      },
      "outputs": [
        {
          "data": {
            "text/plain": [
              "array([ 0,  1,  2,  3,  4,  5,  6,  7,  8,  9, 10, 11, 12, 13, 14])"
            ]
          },
          "execution_count": 13,
          "metadata": {},
          "output_type": "execute_result"
        }
      ],
      "source": [
        "arr = np.arange(15).reshape((5, 3))\n",
        "arr\n",
        "arr.ravel()"
      ]
    },
    {
      "cell_type": "code",
      "execution_count": null,
      "id": "b2b6510f",
      "metadata": {
        "id": "b2b6510f",
        "outputId": "7791ecdf-091e-4bc0-89ee-81c19f172ff6"
      },
      "outputs": [
        {
          "data": {
            "text/plain": [
              "array([ 0,  1,  2,  3,  4,  5,  6,  7,  8,  9, 10, 11, 12, 13, 14])"
            ]
          },
          "execution_count": 14,
          "metadata": {},
          "output_type": "execute_result"
        }
      ],
      "source": [
        "arr.flatten()"
      ]
    },
    {
      "cell_type": "markdown",
      "id": "27ddac4f",
      "metadata": {
        "id": "27ddac4f"
      },
      "source": [
        "Concatenating and Splitting Arrays"
      ]
    },
    {
      "cell_type": "code",
      "execution_count": null,
      "id": "d1aced35",
      "metadata": {
        "id": "d1aced35",
        "outputId": "fcba949c-5395-44a3-ab8a-cc7d5f37a990"
      },
      "outputs": [
        {
          "data": {
            "text/plain": [
              "array([ 0,  4,  8,  1,  5,  9,  2,  6, 10,  3,  7, 11])"
            ]
          },
          "execution_count": 15,
          "metadata": {},
          "output_type": "execute_result"
        }
      ],
      "source": [
        "arr = np.arange(12).reshape((3, 4))\n",
        "arr\n",
        "arr.ravel()\n",
        "arr.ravel('F')"
      ]
    },
    {
      "cell_type": "markdown",
      "id": "df52c7f3",
      "metadata": {
        "id": "df52c7f3"
      },
      "source": [
        "Concatenating and Splitting Arrays"
      ]
    },
    {
      "cell_type": "code",
      "execution_count": null,
      "id": "b8618e51",
      "metadata": {
        "id": "b8618e51",
        "outputId": "be7d2d97-d159-4bce-ee20-30ab1dfd4037"
      },
      "outputs": [
        {
          "data": {
            "text/plain": [
              "array([[ 1,  2,  3,  7,  8,  9],\n",
              "       [ 4,  5,  6, 10, 11, 12]])"
            ]
          },
          "execution_count": 16,
          "metadata": {},
          "output_type": "execute_result"
        }
      ],
      "source": [
        "arr1 = np.array([[1, 2, 3], [4, 5, 6]])\n",
        "arr2 = np.array([[7, 8, 9], [10, 11, 12]])\n",
        "np.concatenate([arr1, arr2], axis=0)\n",
        "np.concatenate([arr1, arr2], axis=1)"
      ]
    },
    {
      "cell_type": "code",
      "execution_count": null,
      "id": "99c95caf",
      "metadata": {
        "id": "99c95caf",
        "outputId": "67464cac-3efa-4d46-d8a5-53ee36b0b61a"
      },
      "outputs": [
        {
          "data": {
            "text/plain": [
              "array([[ 1,  2,  3,  7,  8,  9],\n",
              "       [ 4,  5,  6, 10, 11, 12]])"
            ]
          },
          "execution_count": 17,
          "metadata": {},
          "output_type": "execute_result"
        }
      ],
      "source": [
        "np.vstack((arr1, arr2))\n",
        "np.hstack((arr1, arr2))"
      ]
    },
    {
      "cell_type": "code",
      "execution_count": null,
      "id": "4752a5f7",
      "metadata": {
        "id": "4752a5f7",
        "outputId": "b7749b4c-b4d9-46c0-9320-ad673e201a99"
      },
      "outputs": [
        {
          "data": {
            "text/plain": [
              "array([[0.0929, 0.2817],\n",
              "       [0.769 , 1.2464]])"
            ]
          },
          "execution_count": 18,
          "metadata": {},
          "output_type": "execute_result"
        }
      ],
      "source": [
        "arr = np.random.randn(5, 2)\n",
        "arr\n",
        "first, second, third = np.split(arr, [1, 3])\n",
        "first\n",
        "second\n",
        "third"
      ]
    },
    {
      "cell_type": "markdown",
      "id": "6abe7f71",
      "metadata": {
        "id": "6abe7f71"
      },
      "source": [
        "Stacking helpers: r and c"
      ]
    },
    {
      "cell_type": "code",
      "execution_count": null,
      "id": "6b5dc172",
      "metadata": {
        "id": "6b5dc172",
        "outputId": "2e438d5b-5fd9-4daf-c020-d82f0ab949d2"
      },
      "outputs": [
        {
          "data": {
            "text/plain": [
              "array([[ 0.    ,  1.    ,  0.    ],\n",
              "       [ 2.    ,  3.    ,  1.    ],\n",
              "       [ 4.    ,  5.    ,  2.    ],\n",
              "       [ 1.0072, -1.2962,  3.    ],\n",
              "       [ 0.275 ,  0.2289,  4.    ],\n",
              "       [ 1.3529,  0.8864,  5.    ]])"
            ]
          },
          "execution_count": 19,
          "metadata": {},
          "output_type": "execute_result"
        }
      ],
      "source": [
        "arr = np.arange(6)\n",
        "arr1 = arr.reshape((3, 2))\n",
        "arr2 = np.random.randn(3, 2)\n",
        "np.r_[arr1, arr2]\n",
        "np.c_[np.r_[arr1, arr2], arr]"
      ]
    },
    {
      "cell_type": "code",
      "execution_count": null,
      "id": "766dee07",
      "metadata": {
        "id": "766dee07",
        "outputId": "96a8bb24-b1dd-4be1-841e-c1891adbd3e0"
      },
      "outputs": [
        {
          "data": {
            "text/plain": [
              "array([[  1, -10],\n",
              "       [  2,  -9],\n",
              "       [  3,  -8],\n",
              "       [  4,  -7],\n",
              "       [  5,  -6]])"
            ]
          },
          "execution_count": 20,
          "metadata": {},
          "output_type": "execute_result"
        }
      ],
      "source": [
        "np.c_[1:6, -10:-5]"
      ]
    },
    {
      "cell_type": "markdown",
      "id": "1c75f392",
      "metadata": {
        "id": "1c75f392"
      },
      "source": [
        "Repeating Elements: tile and repeat"
      ]
    },
    {
      "cell_type": "code",
      "execution_count": null,
      "id": "2cc1f0b8",
      "metadata": {
        "id": "2cc1f0b8",
        "outputId": "0740f39c-6cb6-4805-9998-efa0b74ba3f9"
      },
      "outputs": [
        {
          "data": {
            "text/plain": [
              "array([0, 0, 0, 1, 1, 1, 2, 2, 2])"
            ]
          },
          "execution_count": 21,
          "metadata": {},
          "output_type": "execute_result"
        }
      ],
      "source": [
        "arr = np.arange(3)\n",
        "arr\n",
        "arr.repeat(3)"
      ]
    },
    {
      "cell_type": "code",
      "execution_count": null,
      "id": "09c14c3e",
      "metadata": {
        "id": "09c14c3e",
        "outputId": "000b8e74-e181-4f89-a7cf-fe5cb4938208"
      },
      "outputs": [
        {
          "data": {
            "text/plain": [
              "array([0, 0, 1, 1, 1, 2, 2, 2, 2])"
            ]
          },
          "execution_count": 22,
          "metadata": {},
          "output_type": "execute_result"
        }
      ],
      "source": [
        "arr.repeat([2, 3, 4])"
      ]
    },
    {
      "cell_type": "code",
      "execution_count": null,
      "id": "a0685c14",
      "metadata": {
        "id": "a0685c14",
        "outputId": "6bdbd40b-964b-415c-d082-aa675e443327"
      },
      "outputs": [
        {
          "data": {
            "text/plain": [
              "array([[-2.0016, -0.3718],\n",
              "       [-2.0016, -0.3718],\n",
              "       [ 1.669 , -0.4386],\n",
              "       [ 1.669 , -0.4386]])"
            ]
          },
          "execution_count": 23,
          "metadata": {},
          "output_type": "execute_result"
        }
      ],
      "source": [
        "arr = np.random.randn(2, 2)\n",
        "arr\n",
        "arr.repeat(2, axis=0)"
      ]
    },
    {
      "cell_type": "code",
      "execution_count": null,
      "id": "6acf74c5",
      "metadata": {
        "id": "6acf74c5",
        "outputId": "f8f4d2d9-fd1f-4dd1-87f9-2aa9876f0a0c"
      },
      "outputs": [
        {
          "data": {
            "text/plain": [
              "array([[-2.0016, -2.0016, -0.3718, -0.3718, -0.3718],\n",
              "       [ 1.669 ,  1.669 , -0.4386, -0.4386, -0.4386]])"
            ]
          },
          "execution_count": 24,
          "metadata": {},
          "output_type": "execute_result"
        }
      ],
      "source": [
        "arr.repeat([2, 3], axis=0)\n",
        "arr.repeat([2, 3], axis=1)"
      ]
    },
    {
      "cell_type": "code",
      "execution_count": null,
      "id": "722e3328",
      "metadata": {
        "id": "722e3328",
        "outputId": "48b9f99f-603c-4f3a-f0c7-ad397b42246f"
      },
      "outputs": [
        {
          "data": {
            "text/plain": [
              "array([[-2.0016, -0.3718, -2.0016, -0.3718],\n",
              "       [ 1.669 , -0.4386,  1.669 , -0.4386]])"
            ]
          },
          "execution_count": 25,
          "metadata": {},
          "output_type": "execute_result"
        }
      ],
      "source": [
        "arr\n",
        "np.tile(arr, 2)"
      ]
    },
    {
      "cell_type": "code",
      "execution_count": null,
      "id": "fbbeca8c",
      "metadata": {
        "id": "fbbeca8c",
        "outputId": "24e51216-a3f9-4f25-a144-61531f3d9c56"
      },
      "outputs": [
        {
          "data": {
            "text/plain": [
              "array([[-2.0016, -0.3718, -2.0016, -0.3718],\n",
              "       [ 1.669 , -0.4386,  1.669 , -0.4386],\n",
              "       [-2.0016, -0.3718, -2.0016, -0.3718],\n",
              "       [ 1.669 , -0.4386,  1.669 , -0.4386],\n",
              "       [-2.0016, -0.3718, -2.0016, -0.3718],\n",
              "       [ 1.669 , -0.4386,  1.669 , -0.4386]])"
            ]
          },
          "execution_count": 26,
          "metadata": {},
          "output_type": "execute_result"
        }
      ],
      "source": [
        "arr\n",
        "np.tile(arr, (2, 1))\n",
        "np.tile(arr, (3, 2))"
      ]
    },
    {
      "cell_type": "code",
      "execution_count": null,
      "id": "9bd6b216",
      "metadata": {
        "id": "9bd6b216",
        "outputId": "d277d785-2e17-48ed-a94e-08df08e7696d"
      },
      "outputs": [
        {
          "data": {
            "text/plain": [
              "array([700, 100, 200, 600])"
            ]
          },
          "execution_count": 27,
          "metadata": {},
          "output_type": "execute_result"
        }
      ],
      "source": [
        "arr = np.arange(10) * 100\n",
        "inds = [7, 1, 2, 6]\n",
        "arr[inds]"
      ]
    },
    {
      "cell_type": "code",
      "execution_count": null,
      "id": "c2c4fa6d",
      "metadata": {
        "id": "c2c4fa6d",
        "outputId": "1871d926-5c57-4d00-c5e4-65c76b09036f"
      },
      "outputs": [
        {
          "data": {
            "text/plain": [
              "array([  0,  41,  42, 300, 400, 500,  43,  40, 800, 900])"
            ]
          },
          "execution_count": 28,
          "metadata": {},
          "output_type": "execute_result"
        }
      ],
      "source": [
        "arr.take(inds)\n",
        "arr.put(inds, 42)\n",
        "arr\n",
        "arr.put(inds, [40, 41, 42, 43])\n",
        "arr"
      ]
    },
    {
      "cell_type": "code",
      "execution_count": null,
      "id": "c5060c35",
      "metadata": {
        "id": "c5060c35",
        "outputId": "9bc0647b-2efe-4094-86db-9cfcb37d6027"
      },
      "outputs": [
        {
          "data": {
            "text/plain": [
              "array([[ 3.2489, -0.5397,  3.2489,  0.477 ],\n",
              "       [ 0.3026, -0.5771,  0.3026,  0.1241]])"
            ]
          },
          "execution_count": 29,
          "metadata": {},
          "output_type": "execute_result"
        }
      ],
      "source": [
        "inds = [2, 0, 2, 1]\n",
        "arr = np.random.randn(2, 4)\n",
        "arr\n",
        "arr.take(inds, axis=1)"
      ]
    },
    {
      "cell_type": "markdown",
      "id": "370dfab3",
      "metadata": {
        "id": "370dfab3"
      },
      "source": [
        "Broadcasting"
      ]
    },
    {
      "cell_type": "code",
      "execution_count": null,
      "id": "776132a6",
      "metadata": {
        "id": "776132a6",
        "outputId": "14dc23da-62d8-4850-907e-dc05356b7cd8"
      },
      "outputs": [
        {
          "data": {
            "text/plain": [
              "array([ 0,  4,  8, 12, 16])"
            ]
          },
          "execution_count": 30,
          "metadata": {},
          "output_type": "execute_result"
        }
      ],
      "source": [
        "arr = np.arange(5)\n",
        "arr\n",
        "arr * 4"
      ]
    },
    {
      "cell_type": "code",
      "execution_count": null,
      "id": "37d7989f",
      "metadata": {
        "id": "37d7989f",
        "outputId": "1b9ce946-ebc5-4998-bf1f-72d3b3e566aa"
      },
      "outputs": [
        {
          "data": {
            "text/plain": [
              "array([-0.,  0., -0.])"
            ]
          },
          "execution_count": 31,
          "metadata": {},
          "output_type": "execute_result"
        }
      ],
      "source": [
        "arr = np.random.randn(4, 3)\n",
        "arr.mean(0)\n",
        "demeaned = arr - arr.mean(0)\n",
        "demeaned\n",
        "demeaned.mean(0)"
      ]
    },
    {
      "cell_type": "code",
      "execution_count": null,
      "id": "ca5d3aaa",
      "metadata": {
        "id": "ca5d3aaa",
        "outputId": "2798c06c-778e-40ba-aa50-4e3019cc54d8"
      },
      "outputs": [
        {
          "data": {
            "text/plain": [
              "array([ 0., -0.,  0.,  0.])"
            ]
          },
          "execution_count": 32,
          "metadata": {},
          "output_type": "execute_result"
        }
      ],
      "source": [
        "arr\n",
        "row_means = arr.mean(1)\n",
        "row_means.shape\n",
        "row_means.reshape((4, 1))\n",
        "demeaned = arr - row_means.reshape((4, 1))\n",
        "demeaned.mean(1)"
      ]
    },
    {
      "cell_type": "markdown",
      "id": "b8637591",
      "metadata": {
        "id": "b8637591"
      },
      "source": [
        "Broadcasting Over Other Axes"
      ]
    },
    {
      "cell_type": "code",
      "execution_count": null,
      "id": "912b97a9",
      "metadata": {
        "id": "912b97a9",
        "outputId": "850798fd-c266-4bd8-9203-14cd0f7fa4bd"
      },
      "outputs": [
        {
          "ename": "ValueError",
          "evalue": "operands could not be broadcast together with shapes (4,3) (4,) ",
          "output_type": "error",
          "traceback": [
            "\u001b[1;31m---------------------------------------------------------------------------\u001b[0m",
            "\u001b[1;31mValueError\u001b[0m                                Traceback (most recent call last)",
            "\u001b[1;32m~\\AppData\\Local\\Temp/ipykernel_22412/1713987831.py\u001b[0m in \u001b[0;36m<module>\u001b[1;34m\u001b[0m\n\u001b[1;32m----> 1\u001b[1;33m \u001b[0marr\u001b[0m \u001b[1;33m-\u001b[0m \u001b[0marr\u001b[0m\u001b[1;33m.\u001b[0m\u001b[0mmean\u001b[0m\u001b[1;33m(\u001b[0m\u001b[1;36m1\u001b[0m\u001b[1;33m)\u001b[0m\u001b[1;33m\u001b[0m\u001b[1;33m\u001b[0m\u001b[0m\n\u001b[0m",
            "\u001b[1;31mValueError\u001b[0m: operands could not be broadcast together with shapes (4,3) (4,) "
          ]
        }
      ],
      "source": [
        "arr - arr.mean(1)"
      ]
    },
    {
      "cell_type": "code",
      "execution_count": null,
      "id": "efdf2024",
      "metadata": {
        "id": "efdf2024",
        "outputId": "21dd5ad8-653b-4eb3-93bd-9f9ff9f1efe3"
      },
      "outputs": [
        {
          "data": {
            "text/plain": [
              "array([[-0.2095,  1.1334, -0.9239],\n",
              "       [ 0.8562, -0.6828, -0.1734],\n",
              "       [-0.3386,  1.0823, -0.7438],\n",
              "       [ 0.3234, -0.8599,  0.5365]])"
            ]
          },
          "execution_count": 35,
          "metadata": {},
          "output_type": "execute_result"
        }
      ],
      "source": [
        "arr - arr.mean(1).reshape((4, 1))"
      ]
    },
    {
      "cell_type": "code",
      "execution_count": null,
      "id": "4b0faaaf",
      "metadata": {
        "id": "4b0faaaf",
        "outputId": "cac5944a-0be9-45ed-e530-87b10b295a5a"
      },
      "outputs": [
        {
          "data": {
            "text/plain": [
              "array([[-2.3594, -0.1995, -1.542 ]])"
            ]
          },
          "execution_count": 36,
          "metadata": {},
          "output_type": "execute_result"
        }
      ],
      "source": [
        "arr = np.zeros((4, 4))\n",
        "arr_3d = arr[:, np.newaxis, :]\n",
        "arr_3d.shape\n",
        "arr_1d = np.random.normal(size=3)\n",
        "arr_1d[:, np.newaxis]\n",
        "arr_1d[np.newaxis, :]"
      ]
    },
    {
      "cell_type": "code",
      "execution_count": null,
      "id": "11fddb95",
      "metadata": {
        "id": "11fddb95",
        "outputId": "61ac5ba5-f7dd-4889-ea8d-38b8d66d2731"
      },
      "outputs": [
        {
          "data": {
            "text/plain": [
              "array([[ 0.,  0., -0., -0.],\n",
              "       [ 0.,  0., -0.,  0.],\n",
              "       [ 0.,  0., -0., -0.]])"
            ]
          },
          "execution_count": 37,
          "metadata": {},
          "output_type": "execute_result"
        }
      ],
      "source": [
        "arr = np.random.randn(3, 4, 5)\n",
        "depth_means = arr.mean(2)\n",
        "depth_means\n",
        "depth_means.shape\n",
        "demeaned = arr - depth_means[:, :, np.newaxis]\n",
        "demeaned.mean(2)"
      ]
    },
    {
      "cell_type": "code",
      "execution_count": null,
      "id": "2030f666",
      "metadata": {
        "id": "2030f666"
      },
      "outputs": [],
      "source": [
        "def demean_axis(arr, axis=0):\n",
        "    means = arr.mean(axis)\n"
      ]
    },
    {
      "cell_type": "markdown",
      "id": "eb3ff32a",
      "metadata": {
        "id": "eb3ff32a"
      },
      "source": [
        "# This generalizes things like [:, :, np.newaxis] to N dimensions\n",
        "    indexer = [slice(None)] * arr.ndim\n",
        "    indexer[axis] = np.newaxis\n",
        "    return arr - means[indexer]"
      ]
    },
    {
      "cell_type": "markdown",
      "id": "92b1b1ce",
      "metadata": {
        "id": "92b1b1ce"
      },
      "source": [
        "Setting Array Values by Broadcasting"
      ]
    },
    {
      "cell_type": "code",
      "execution_count": null,
      "id": "8cbecfe4",
      "metadata": {
        "id": "8cbecfe4",
        "outputId": "fc74d0cb-6ede-4288-dccb-9d5d39261195"
      },
      "outputs": [
        {
          "data": {
            "text/plain": [
              "array([[5., 5., 5.],\n",
              "       [5., 5., 5.],\n",
              "       [5., 5., 5.],\n",
              "       [5., 5., 5.]])"
            ]
          },
          "execution_count": 39,
          "metadata": {},
          "output_type": "execute_result"
        }
      ],
      "source": [
        "arr = np.zeros((4, 3))\n",
        "arr[:] = 5\n",
        "arr"
      ]
    },
    {
      "cell_type": "code",
      "execution_count": null,
      "id": "db9d0f3c",
      "metadata": {
        "id": "db9d0f3c",
        "outputId": "6d7bdd4f-a697-4a1d-8298-55e40fa487a3"
      },
      "outputs": [
        {
          "data": {
            "text/plain": [
              "array([[-1.37 , -1.37 , -1.37 ],\n",
              "       [ 0.509,  0.509,  0.509],\n",
              "       [ 0.44 ,  0.44 ,  0.44 ],\n",
              "       [ 1.6  ,  1.6  ,  1.6  ]])"
            ]
          },
          "execution_count": 40,
          "metadata": {},
          "output_type": "execute_result"
        }
      ],
      "source": [
        "col = np.array([1.28, -0.42, 0.44, 1.6])\n",
        "arr[:] = col[:, np.newaxis]\n",
        "arr\n",
        "arr[:2] = [[-1.37], [0.509]]\n",
        "arr"
      ]
    },
    {
      "cell_type": "markdown",
      "id": "89322e59",
      "metadata": {
        "id": "89322e59"
      },
      "source": [
        "Advanced ufunc Usage"
      ]
    },
    {
      "cell_type": "markdown",
      "id": "fcbdb026",
      "metadata": {
        "id": "fcbdb026"
      },
      "source": [
        "ufunc Instance Methods"
      ]
    },
    {
      "cell_type": "code",
      "execution_count": null,
      "id": "44bc532e",
      "metadata": {
        "id": "44bc532e",
        "outputId": "852b4817-b4da-4d98-fb14-7d00b990bbd8"
      },
      "outputs": [
        {
          "data": {
            "text/plain": [
              "45"
            ]
          },
          "execution_count": 41,
          "metadata": {},
          "output_type": "execute_result"
        }
      ],
      "source": [
        "arr = np.arange(10)\n",
        "np.add.reduce(arr)\n",
        "arr.sum()"
      ]
    },
    {
      "cell_type": "code",
      "execution_count": null,
      "id": "c33a0757",
      "metadata": {
        "id": "c33a0757",
        "outputId": "dae9a5d4-f4ee-4ee4-d7c4-fe6bdd4f1a15"
      },
      "outputs": [
        {
          "data": {
            "text/plain": [
              "array([ True, False,  True, False,  True])"
            ]
          },
          "execution_count": 42,
          "metadata": {},
          "output_type": "execute_result"
        }
      ],
      "source": [
        "np.random.seed(12346)  # for reproducibility\n",
        "arr = np.random.randn(5, 5)\n",
        "arr[::2].sort(1) # sort a few rows\n",
        "arr[:, :-1] < arr[:, 1:]\n",
        "np.logical_and.reduce(arr[:, :-1] < arr[:, 1:], axis=1)"
      ]
    },
    {
      "cell_type": "code",
      "execution_count": null,
      "id": "f9099cef",
      "metadata": {
        "id": "f9099cef",
        "outputId": "104dbb1a-2970-4529-a216-cb84fc148f46"
      },
      "outputs": [
        {
          "data": {
            "text/plain": [
              "array([[ 0,  1,  3,  6, 10],\n",
              "       [ 5, 11, 18, 26, 35],\n",
              "       [10, 21, 33, 46, 60]], dtype=int32)"
            ]
          },
          "execution_count": 43,
          "metadata": {},
          "output_type": "execute_result"
        }
      ],
      "source": [
        "arr = np.arange(15).reshape((3, 5))\n",
        "np.add.accumulate(arr, axis=1)"
      ]
    },
    {
      "cell_type": "code",
      "execution_count": null,
      "id": "a05b8bfc",
      "metadata": {
        "id": "a05b8bfc",
        "outputId": "e4402c7e-9df0-4985-fd85-8021e35c8bde"
      },
      "outputs": [
        {
          "data": {
            "text/plain": [
              "array([[0, 0, 0, 0, 0],\n",
              "       [0, 1, 2, 3, 4],\n",
              "       [0, 1, 2, 3, 4],\n",
              "       [0, 2, 4, 6, 8],\n",
              "       [0, 2, 4, 6, 8]])"
            ]
          },
          "execution_count": 44,
          "metadata": {},
          "output_type": "execute_result"
        }
      ],
      "source": [
        "arr = np.arange(3).repeat([1, 2, 2])\n",
        "arr\n",
        "np.multiply.outer(arr, np.arange(5))"
      ]
    },
    {
      "cell_type": "code",
      "execution_count": null,
      "id": "5047e2de",
      "metadata": {
        "id": "5047e2de",
        "outputId": "5f52642b-8d2a-4fce-dd25-486ca529f8fa"
      },
      "outputs": [
        {
          "data": {
            "text/plain": [
              "(3, 4, 5)"
            ]
          },
          "execution_count": 45,
          "metadata": {},
          "output_type": "execute_result"
        }
      ],
      "source": [
        "x, y = np.random.randn(3, 4), np.random.randn(5)\n",
        "result = np.subtract.outer(x, y)\n",
        "result.shape"
      ]
    },
    {
      "cell_type": "code",
      "execution_count": null,
      "id": "576ec5dd",
      "metadata": {
        "id": "576ec5dd",
        "outputId": "fd9d4b47-5ef8-4ed5-b7a5-32628dcf655d"
      },
      "outputs": [
        {
          "data": {
            "text/plain": [
              "array([10, 18, 17], dtype=int32)"
            ]
          },
          "execution_count": 46,
          "metadata": {},
          "output_type": "execute_result"
        }
      ],
      "source": [
        "arr = np.arange(10)\n",
        "np.add.reduceat(arr, [0, 5, 8])"
      ]
    },
    {
      "cell_type": "code",
      "execution_count": null,
      "id": "9524ccff",
      "metadata": {
        "id": "9524ccff",
        "outputId": "4aede81a-4bb7-41cf-fd6b-b4c408419d82"
      },
      "outputs": [
        {
          "data": {
            "text/plain": [
              "array([[ 0,  0,  0],\n",
              "       [ 1,  5,  4],\n",
              "       [ 2, 10,  8],\n",
              "       [ 3, 15, 12]], dtype=int32)"
            ]
          },
          "execution_count": 47,
          "metadata": {},
          "output_type": "execute_result"
        }
      ],
      "source": [
        "arr = np.multiply.outer(np.arange(4), np.arange(5))\n",
        "arr\n",
        "np.add.reduceat(arr, [0, 2, 4], axis=1)"
      ]
    },
    {
      "cell_type": "markdown",
      "id": "8bab44d0",
      "metadata": {
        "id": "8bab44d0"
      },
      "source": [
        "Writing New ufuncs in Python"
      ]
    },
    {
      "cell_type": "code",
      "execution_count": null,
      "id": "8c2eb9db",
      "metadata": {
        "id": "8c2eb9db",
        "outputId": "0330392a-8837-46ad-e9d1-ef4b995e18ac"
      },
      "outputs": [
        {
          "data": {
            "text/plain": [
              "array([0, 2, 4, 6, 8, 10, 12, 14], dtype=object)"
            ]
          },
          "execution_count": 48,
          "metadata": {},
          "output_type": "execute_result"
        }
      ],
      "source": [
        "def add_elements(x, y):\n",
        "    return x + y\n",
        "add_them = np.frompyfunc(add_elements, 2, 1)\n",
        "add_them(np.arange(8), np.arange(8))"
      ]
    },
    {
      "cell_type": "code",
      "execution_count": null,
      "id": "a45bb600",
      "metadata": {
        "id": "a45bb600",
        "outputId": "3986fa4c-14d5-47c9-a783-c930223ad701"
      },
      "outputs": [
        {
          "data": {
            "text/plain": [
              "array([ 0.,  2.,  4.,  6.,  8., 10., 12., 14.])"
            ]
          },
          "execution_count": 49,
          "metadata": {},
          "output_type": "execute_result"
        }
      ],
      "source": [
        "add_them = np.vectorize(add_elements, otypes=[np.float64])\n",
        "add_them(np.arange(8), np.arange(8))"
      ]
    },
    {
      "cell_type": "code",
      "execution_count": null,
      "id": "1f1139dc",
      "metadata": {
        "id": "1f1139dc",
        "outputId": "381992bd-8761-44e8-862c-1f19e53b4fc9"
      },
      "outputs": [
        {
          "name": "stdout",
          "output_type": "stream",
          "text": [
            "The slowest run took 4.27 times longer than the fastest. This could mean that an intermediate result is being cached.\n",
            "5.98 ms ± 3.7 ms per loop (mean ± std. dev. of 7 runs, 100 loops each)\n",
            "37.8 µs ± 6.33 µs per loop (mean ± std. dev. of 7 runs, 10000 loops each)\n"
          ]
        }
      ],
      "source": [
        "arr = np.random.randn(10000)\n",
        "%timeit add_them(arr, arr)\n",
        "%timeit np.add(arr, arr)"
      ]
    },
    {
      "cell_type": "markdown",
      "id": "5f78d432",
      "metadata": {
        "id": "5f78d432"
      },
      "source": [
        "Structured and Record Arrays"
      ]
    },
    {
      "cell_type": "code",
      "execution_count": null,
      "id": "c0369d40",
      "metadata": {
        "id": "c0369d40",
        "outputId": "76522871-7390-4184-82a4-82ab2568891a"
      },
      "outputs": [
        {
          "data": {
            "text/plain": [
              "array([(1.5   ,  6), (3.1416, -2)], dtype=[('x', '<f8'), ('y', '<i4')])"
            ]
          },
          "execution_count": 51,
          "metadata": {},
          "output_type": "execute_result"
        }
      ],
      "source": [
        "dtype = [('x', np.float64), ('y', np.int32)]\n",
        "sarr = np.array([(1.5, 6), (np.pi, -2)], dtype=dtype)\n",
        "sarr"
      ]
    },
    {
      "cell_type": "code",
      "execution_count": null,
      "id": "17901d37",
      "metadata": {
        "id": "17901d37",
        "outputId": "2670c011-958f-4b2c-de2c-ff6b35d6712e"
      },
      "outputs": [
        {
          "data": {
            "text/plain": [
              "6"
            ]
          },
          "execution_count": 52,
          "metadata": {},
          "output_type": "execute_result"
        }
      ],
      "source": [
        "sarr[0]\n",
        "sarr[0]['y']"
      ]
    },
    {
      "cell_type": "code",
      "execution_count": null,
      "id": "7844a252",
      "metadata": {
        "id": "7844a252",
        "outputId": "8a2c8921-125f-4ea0-fe6c-a8bf3705681b"
      },
      "outputs": [
        {
          "data": {
            "text/plain": [
              "array([1.5   , 3.1416])"
            ]
          },
          "execution_count": 53,
          "metadata": {},
          "output_type": "execute_result"
        }
      ],
      "source": [
        "sarr['x']"
      ]
    },
    {
      "cell_type": "markdown",
      "id": "e6659b90",
      "metadata": {
        "id": "e6659b90"
      },
      "source": [
        "Nested dtypes and Multidimensional Fields"
      ]
    },
    {
      "cell_type": "code",
      "execution_count": null,
      "id": "5ab86972",
      "metadata": {
        "id": "5ab86972",
        "outputId": "981a51a9-696a-4ea4-dd9a-5ae3b7e4e53e"
      },
      "outputs": [
        {
          "data": {
            "text/plain": [
              "array([([0, 0, 0], 0), ([0, 0, 0], 0), ([0, 0, 0], 0), ([0, 0, 0], 0)],\n",
              "      dtype=[('x', '<i8', (3,)), ('y', '<i4')])"
            ]
          },
          "execution_count": 54,
          "metadata": {},
          "output_type": "execute_result"
        }
      ],
      "source": [
        "dtype = [('x', np.int64, 3), ('y', np.int32)]\n",
        "arr = np.zeros(4, dtype=dtype)\n",
        "arr"
      ]
    },
    {
      "cell_type": "code",
      "execution_count": null,
      "id": "ab555680",
      "metadata": {
        "id": "ab555680",
        "outputId": "bfe8620a-e635-4b07-cd4c-1f040da26094"
      },
      "outputs": [
        {
          "data": {
            "text/plain": [
              "array([0, 0, 0], dtype=int64)"
            ]
          },
          "execution_count": 55,
          "metadata": {},
          "output_type": "execute_result"
        }
      ],
      "source": [
        "arr[0]['x']"
      ]
    },
    {
      "cell_type": "code",
      "execution_count": null,
      "id": "d924d97d",
      "metadata": {
        "id": "d924d97d",
        "outputId": "d9c275bf-79d3-4805-ca40-731f638f9086"
      },
      "outputs": [
        {
          "data": {
            "text/plain": [
              "array([[0, 0, 0],\n",
              "       [0, 0, 0],\n",
              "       [0, 0, 0],\n",
              "       [0, 0, 0]], dtype=int64)"
            ]
          },
          "execution_count": 56,
          "metadata": {},
          "output_type": "execute_result"
        }
      ],
      "source": [
        "arr['x']"
      ]
    },
    {
      "cell_type": "code",
      "execution_count": null,
      "id": "e9a4ed55",
      "metadata": {
        "id": "e9a4ed55",
        "outputId": "96f210e4-cc61-4c5c-a88b-93c421d954b5"
      },
      "outputs": [
        {
          "data": {
            "text/plain": [
              "array([1., 3.])"
            ]
          },
          "execution_count": 57,
          "metadata": {},
          "output_type": "execute_result"
        }
      ],
      "source": [
        "dtype = [('x', [('a', 'f8'), ('b', 'f4')]), ('y', np.int32)]\n",
        "data = np.array([((1, 2), 5), ((3, 4), 6)], dtype=dtype)\n",
        "data['x']\n",
        "data['y']\n",
        "data['x']['a']"
      ]
    },
    {
      "cell_type": "markdown",
      "id": "e3a04be5",
      "metadata": {
        "id": "e3a04be5"
      },
      "source": [
        "Why Use Structured Arrays?"
      ]
    },
    {
      "cell_type": "markdown",
      "id": "1ab9e48b",
      "metadata": {
        "id": "1ab9e48b"
      },
      "source": [
        "More About Sorting"
      ]
    },
    {
      "cell_type": "code",
      "execution_count": null,
      "id": "b3877e47",
      "metadata": {
        "id": "b3877e47",
        "outputId": "29dcc79f-bbdc-4a69-c686-884754729a5a"
      },
      "outputs": [
        {
          "data": {
            "text/plain": [
              "array([-1.082 ,  0.3759,  0.8014,  1.1397,  1.2888,  1.8413])"
            ]
          },
          "execution_count": 58,
          "metadata": {},
          "output_type": "execute_result"
        }
      ],
      "source": [
        "arr = np.random.randn(6)\n",
        "arr.sort()\n",
        "arr"
      ]
    },
    {
      "cell_type": "code",
      "execution_count": null,
      "id": "008ce863",
      "metadata": {
        "id": "008ce863",
        "outputId": "ee8fe823-a37e-4dfd-e1e8-9145a9d9cd77"
      },
      "outputs": [
        {
          "data": {
            "text/plain": [
              "array([[-1.0111, -1.4711,  0.8705, -0.0847, -1.1329],\n",
              "       [-0.3318, -0.3436,  2.1714,  0.1234, -0.0189],\n",
              "       [ 0.1773,  0.7424,  0.8548,  1.038 , -0.329 ]])"
            ]
          },
          "execution_count": 59,
          "metadata": {},
          "output_type": "execute_result"
        }
      ],
      "source": [
        "arr = np.random.randn(3, 5)\n",
        "arr\n",
        "arr[:, 0].sort()  # Sort first column values in-place\n",
        "arr"
      ]
    },
    {
      "cell_type": "code",
      "execution_count": null,
      "id": "64412773",
      "metadata": {
        "id": "64412773",
        "outputId": "bcde2473-19a1-449b-b867-9e5935b93d72"
      },
      "outputs": [
        {
          "data": {
            "text/plain": [
              "array([-1.1181, -0.2415, -2.0051,  0.7379, -1.0614])"
            ]
          },
          "execution_count": 60,
          "metadata": {},
          "output_type": "execute_result"
        }
      ],
      "source": [
        "arr = np.random.randn(5)\n",
        "arr\n",
        "np.sort(arr)\n",
        "arr"
      ]
    },
    {
      "cell_type": "code",
      "execution_count": null,
      "id": "31c6ac8b",
      "metadata": {
        "id": "31c6ac8b",
        "outputId": "d3efb1dd-556d-40d4-8ea5-2c8a19c597ab"
      },
      "outputs": [
        {
          "data": {
            "text/plain": [
              "array([[-0.2682, -0.1872,  0.5955,  0.9111,  1.3389],\n",
              "       [-0.5168, -0.3215, -0.1989,  1.0054,  1.1925],\n",
              "       [-1.7638, -0.2222, -0.2171,  0.3969,  0.6071]])"
            ]
          },
          "execution_count": 61,
          "metadata": {},
          "output_type": "execute_result"
        }
      ],
      "source": [
        "arr = np.random.randn(3, 5)\n",
        "arr\n",
        "arr.sort(axis=1)\n",
        "arr"
      ]
    },
    {
      "cell_type": "code",
      "execution_count": null,
      "id": "5e42ebb6",
      "metadata": {
        "id": "5e42ebb6",
        "outputId": "89c09b74-b11e-4053-aebb-d15dbdb698e0"
      },
      "outputs": [
        {
          "data": {
            "text/plain": [
              "array([[ 1.3389,  0.9111,  0.5955, -0.1872, -0.2682],\n",
              "       [ 1.1925,  1.0054, -0.1989, -0.3215, -0.5168],\n",
              "       [ 0.6071,  0.3969, -0.2171, -0.2222, -1.7638]])"
            ]
          },
          "execution_count": 62,
          "metadata": {},
          "output_type": "execute_result"
        }
      ],
      "source": [
        "arr[:, ::-1]"
      ]
    },
    {
      "cell_type": "markdown",
      "id": "5d685a76",
      "metadata": {
        "id": "5d685a76"
      },
      "source": [
        "Indirect Sorts: argsort and lexsort"
      ]
    },
    {
      "cell_type": "code",
      "execution_count": null,
      "id": "ce0abc2d",
      "metadata": {
        "id": "ce0abc2d",
        "outputId": "1105258f-cb9f-4ba3-b278-660b311542e2"
      },
      "outputs": [
        {
          "data": {
            "text/plain": [
              "array([0, 1, 2, 3, 5])"
            ]
          },
          "execution_count": 63,
          "metadata": {},
          "output_type": "execute_result"
        }
      ],
      "source": [
        "values = np.array([5, 0, 1, 3, 2])\n",
        "indexer = values.argsort()\n",
        "indexer\n",
        "values[indexer]"
      ]
    },
    {
      "cell_type": "code",
      "execution_count": null,
      "id": "ea5ba04b",
      "metadata": {
        "id": "ea5ba04b",
        "outputId": "9494d2f5-f5cc-4f6e-bfda-1b3c024712b0"
      },
      "outputs": [
        {
          "data": {
            "text/plain": [
              "array([[ 0.    ,  1.    ,  2.    ,  3.    ,  5.    ],\n",
              "       [-0.1378,  2.1777,  0.8356, -0.4728, -0.3636],\n",
              "       [ 0.2316,  0.728 ,  1.9956, -1.3918, -0.2089]])"
            ]
          },
          "execution_count": 64,
          "metadata": {},
          "output_type": "execute_result"
        }
      ],
      "source": [
        "arr = np.random.randn(3, 5)\n",
        "arr[0] = values\n",
        "arr\n",
        "arr[:, arr[0].argsort()]"
      ]
    },
    {
      "cell_type": "code",
      "execution_count": null,
      "id": "a3d804ed",
      "metadata": {
        "id": "a3d804ed",
        "outputId": "a132bba0-52e1-45ee-f380-cb7d3f243f5d"
      },
      "outputs": [
        {
          "data": {
            "text/plain": [
              "<zip at 0x19b25fbcf00>"
            ]
          },
          "execution_count": 65,
          "metadata": {},
          "output_type": "execute_result"
        }
      ],
      "source": [
        "first_name = np.array(['Bob', 'Jane', 'Steve', 'Bill', 'Barbara'])\n",
        "last_name = np.array(['Kamau', 'Wairimu', 'Mbugua', 'Otieno', 'Akinyi'])\n",
        "sorter = np.lexsort((first_name, last_name))\n",
        "sorter\n",
        "zip(last_name[sorter], first_name[sorter])"
      ]
    },
    {
      "cell_type": "code",
      "execution_count": null,
      "id": "8cf227e3",
      "metadata": {
        "id": "8cf227e3",
        "outputId": "4d9a6956-4817-4424-bff5-516af24bdb3e"
      },
      "outputs": [
        {
          "data": {
            "text/plain": [
              "array(['1:first', '1:second', '1:third', '2:first', '2:second'],\n",
              "      dtype='<U8')"
            ]
          },
          "execution_count": 66,
          "metadata": {},
          "output_type": "execute_result"
        }
      ],
      "source": [
        "values = np.array(['2:first', '2:second', '1:first', '1:second',\n",
        "                   '1:third'])\n",
        "key = np.array([2, 2, 1, 1, 1])\n",
        "indexer = key.argsort(kind='mergesort')\n",
        "indexer\n",
        "values.take(indexer)"
      ]
    },
    {
      "cell_type": "markdown",
      "id": "35085d76",
      "metadata": {
        "id": "35085d76"
      },
      "source": [
        "Partially Sorting Arrays"
      ]
    },
    {
      "cell_type": "code",
      "execution_count": null,
      "id": "b845c036",
      "metadata": {
        "id": "b845c036",
        "outputId": "82a31c31-34f0-42ba-a6d4-15b1165bb267"
      },
      "outputs": [
        {
          "data": {
            "text/plain": [
              "array([-2.0016, -1.2962, -0.5557, -0.5194, -0.3718, -0.4386, -0.2047,\n",
              "        0.2817,  0.769 ,  0.4789,  1.0072,  0.0929,  0.275 ,  0.2289,\n",
              "        1.3529,  0.8864,  1.3934,  1.9658,  1.669 ,  1.2464])"
            ]
          },
          "execution_count": 67,
          "metadata": {},
          "output_type": "execute_result"
        }
      ],
      "source": [
        "np.random.seed(12345)\n",
        "arr = np.random.randn(20)\n",
        "arr\n",
        "np.partition(arr, 3)"
      ]
    },
    {
      "cell_type": "code",
      "execution_count": null,
      "id": "811714af",
      "metadata": {
        "id": "811714af",
        "outputId": "84b04968-85d8-4f89-b066-06114b905695"
      },
      "outputs": [
        {
          "data": {
            "text/plain": [
              "array([-2.0016, -1.2962, -0.5557, -0.5194, -0.3718, -0.4386, -0.2047,\n",
              "        0.2817,  0.769 ,  0.4789,  1.0072,  0.0929,  0.275 ,  0.2289,\n",
              "        1.3529,  0.8864,  1.3934,  1.9658,  1.669 ,  1.2464])"
            ]
          },
          "execution_count": 68,
          "metadata": {},
          "output_type": "execute_result"
        }
      ],
      "source": [
        "indices = np.argpartition(arr, 3)\n",
        "indices\n",
        "arr.take(indices)"
      ]
    },
    {
      "cell_type": "markdown",
      "id": "eb7c48ec",
      "metadata": {
        "id": "eb7c48ec"
      },
      "source": [
        "numpy.searchsorted: Finding Elements in a Sorted Array"
      ]
    },
    {
      "cell_type": "code",
      "execution_count": null,
      "id": "81995948",
      "metadata": {
        "id": "81995948",
        "outputId": "fc02d916-276e-43c2-9a15-786735d7367d"
      },
      "outputs": [
        {
          "data": {
            "text/plain": [
              "3"
            ]
          },
          "execution_count": 69,
          "metadata": {},
          "output_type": "execute_result"
        }
      ],
      "source": [
        "arr = np.array([0, 1, 7, 12, 15])\n",
        "arr.searchsorted(9)"
      ]
    },
    {
      "cell_type": "code",
      "execution_count": null,
      "id": "d08af389",
      "metadata": {
        "id": "d08af389",
        "outputId": "224599d9-5a97-4d48-bdb0-369271d8cfd7"
      },
      "outputs": [
        {
          "data": {
            "text/plain": [
              "array([0, 3, 3, 5], dtype=int64)"
            ]
          },
          "execution_count": 70,
          "metadata": {},
          "output_type": "execute_result"
        }
      ],
      "source": [
        "arr.searchsorted([0, 8, 11, 16])"
      ]
    },
    {
      "cell_type": "code",
      "execution_count": null,
      "id": "b899e6f2",
      "metadata": {
        "id": "b899e6f2",
        "outputId": "2ef59932-6a4e-4c50-8c21-0152ac40b65c"
      },
      "outputs": [
        {
          "data": {
            "text/plain": [
              "array([3, 7], dtype=int64)"
            ]
          },
          "execution_count": 71,
          "metadata": {},
          "output_type": "execute_result"
        }
      ],
      "source": [
        "arr = np.array([0, 0, 0, 1, 1, 1, 1])\n",
        "arr.searchsorted([0, 1])\n",
        "arr.searchsorted([0, 1], side='right')"
      ]
    },
    {
      "cell_type": "code",
      "execution_count": null,
      "id": "4079616a",
      "metadata": {
        "id": "4079616a",
        "outputId": "920bec7e-2c52-465c-ff32-bd4787ff90b7"
      },
      "outputs": [
        {
          "data": {
            "text/plain": [
              "array([9940., 6768., 7908., 1709.,  268., 8003., 9037.,  246., 4917.,\n",
              "       5262., 5963.,  519., 8950., 7282., 8183., 5002., 8101.,  959.,\n",
              "       2189., 2587., 4681., 4593., 7095., 1780., 5314., 1677., 7688.,\n",
              "       9281., 6094., 1501., 4896., 3773., 8486., 9110., 3838., 3154.,\n",
              "       5683., 1878., 1258., 6875., 7996., 5735., 9732., 6340., 8884.,\n",
              "       4954., 3516., 7142., 5039., 2256.])"
            ]
          },
          "execution_count": 72,
          "metadata": {},
          "output_type": "execute_result"
        }
      ],
      "source": [
        "data = np.floor(np.random.uniform(0, 10000, size=50))\n",
        "bins = np.array([0, 100, 1000, 5000, 10000])\n",
        "data"
      ]
    },
    {
      "cell_type": "code",
      "execution_count": null,
      "id": "3a501ea6",
      "metadata": {
        "id": "3a501ea6",
        "outputId": "1d4f6bc2-32f3-445a-caad-6968795686b4"
      },
      "outputs": [
        {
          "data": {
            "text/plain": [
              "array([4, 4, 4, 3, 2, 4, 4, 2, 3, 4, 4, 2, 4, 4, 4, 4, 4, 2, 3, 3, 3, 3,\n",
              "       4, 3, 4, 3, 4, 4, 4, 3, 3, 3, 4, 4, 3, 3, 4, 3, 3, 4, 4, 4, 4, 4,\n",
              "       4, 3, 3, 4, 4, 3], dtype=int64)"
            ]
          },
          "execution_count": 73,
          "metadata": {},
          "output_type": "execute_result"
        }
      ],
      "source": [
        "labels = bins.searchsorted(data)\n",
        "labels"
      ]
    },
    {
      "cell_type": "code",
      "execution_count": null,
      "id": "d38cd4f7",
      "metadata": {
        "id": "d38cd4f7",
        "outputId": "c42b8619-3852-45ef-ab01-929355190efd"
      },
      "outputs": [
        {
          "data": {
            "text/plain": [
              "2     498.000000\n",
              "3    3064.277778\n",
              "4    7389.035714\n",
              "dtype: float64"
            ]
          },
          "execution_count": 74,
          "metadata": {},
          "output_type": "execute_result"
        }
      ],
      "source": [
        "pd.Series(data).groupby(labels).mean()"
      ]
    },
    {
      "cell_type": "code",
      "execution_count": null,
      "id": "56c2cd46",
      "metadata": {
        "id": "56c2cd46"
      },
      "outputs": [],
      "source": [
        ""
      ]
    }
  ],
  "metadata": {
    "interpreter": {
      "hash": "7679c2132d3f6ce38c9df14d554b39c06862b36a4e6689c81f9ae15bd0911d7d"
    },
    "kernelspec": {
      "display_name": "Python 3.9.7 ('base')",
      "language": "python",
      "name": "python3"
    },
    "language_info": {
      "codemirror_mode": {
        "name": "ipython",
        "version": 3
      },
      "file_extension": ".py",
      "mimetype": "text/x-python",
      "name": "python",
      "nbconvert_exporter": "python",
      "pygments_lexer": "ipython3",
      "version": "3.9.7"
    },
    "colab": {
      "name": "Numpy-Advanced.ipynb",
      "provenance": [],
      "include_colab_link": true
    }
  },
  "nbformat": 4,
  "nbformat_minor": 5
}