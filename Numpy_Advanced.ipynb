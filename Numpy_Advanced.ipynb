{
  "cells": [
    {
      "cell_type": "markdown",
      "metadata": {
        "id": "view-in-github",
        "colab_type": "text"
      },
      "source": [
        "<a href=\"https://colab.research.google.com/github/TBKHori/Data-Analysis-Refresher-notes/blob/main/Numpy_Advanced.ipynb\" target=\"_parent\"><img src=\"https://colab.research.google.com/assets/colab-badge.svg\" alt=\"Open In Colab\"/></a>"
      ]
    },
    {
      "cell_type": "code",
      "execution_count": null,
      "id": "773ad6d4",
      "metadata": {
        "id": "773ad6d4"
      },
      "outputs": [],
      "source": [
        "import numpy as np\n",
        "import pandas as pd\n",
        "np.random.seed(12345)\n",
        "import matplotlib.pyplot as plt\n",
        "plt.rc('figure', figsize=(10, 6))\n",
        "PREVIOUS_MAX_ROWS = pd.options.display.max_rows\n",
        "pd.options.display.max_rows = 20\n",
        "np.set_printoptions(precision=4, suppress=True)"
      ]
    },
    {
      "cell_type": "markdown",
      "id": "02775ec0",
      "metadata": {
        "id": "02775ec0"
      },
      "source": [
        "ndarray Object Internals"
      ]
    },
    {
      "cell_type": "code",
      "execution_count": null,
      "id": "a1339f35",
      "metadata": {
        "id": "a1339f35",
        "outputId": "5296cd09-4994-4575-a3c3-bacfe9cdb2f2"
      },
      "outputs": [
        {
          "data": {
            "text/plain": [
              "(10, 5)"
            ]
          },
          "execution_count": 4,
          "metadata": {},
          "output_type": "execute_result"
        }
      ],
      "source": [
        "np.ones((10, 5)).shape"
      ]
    },
    {
      "cell_type": "markdown",
      "id": "ce70597c",
      "metadata": {
        "id": "ce70597c"
      },
      "source": [
        "NumPy dtype Hierarchy"
      ]
    },
    {
      "cell_type": "code",
      "execution_count": null,
      "id": "9f575661",
      "metadata": {
        "id": "9f575661",
        "outputId": "5a7f0d6a-e5dc-4455-89c9-188b1f22c9d0"
      },
      "outputs": [
        {
          "data": {
            "text/plain": [
              "(160, 40, 8)"
            ]
          },
          "execution_count": 5,
          "metadata": {},
          "output_type": "execute_result"
        }
      ],
      "source": [
        "np.ones((3, 4, 5), dtype=np.float64).strides"
      ]
    },
    {
      "cell_type": "code",
      "execution_count": null,
      "id": "ec52ac0a",
      "metadata": {
        "id": "ec52ac0a",
        "outputId": "f3ba7a7c-3d1e-4ed6-f2ae-4f5b289951ce"
      },
      "outputs": [
        {
          "data": {
            "text/plain": [
              "True"
            ]
          },
          "execution_count": 6,
          "metadata": {},
          "output_type": "execute_result"
        }
      ],
      "source": [
        "ints = np.ones(10, dtype=np.uint16)\n",
        "floats = np.ones(10, dtype=np.float32)\n",
        "np.issubdtype(ints.dtype, np.integer)\n",
        "np.issubdtype(floats.dtype, np.floating)"
      ]
    },
    {
      "cell_type": "code",
      "execution_count": null,
      "id": "fe7b8436",
      "metadata": {
        "id": "fe7b8436",
        "outputId": "536f6202-1c66-4634-bfb7-546d87040272"
      },
      "outputs": [
        {
          "data": {
            "text/plain": [
              "[numpy.float64,\n",
              " numpy.floating,\n",
              " numpy.inexact,\n",
              " numpy.number,\n",
              " numpy.generic,\n",
              " float,\n",
              " object]"
            ]
          },
          "execution_count": 7,
          "metadata": {},
          "output_type": "execute_result"
        }
      ],
      "source": [
        "np.float64.mro()"
      ]
    },
    {
      "cell_type": "code",
      "execution_count": null,
      "id": "78a1eec2",
      "metadata": {
        "id": "78a1eec2",
        "outputId": "3bc2f488-9aa1-4304-99cf-9925a32c3312"
      },
      "outputs": [
        {
          "data": {
            "text/plain": [
              "True"
            ]
          },
          "execution_count": 8,
          "metadata": {},
          "output_type": "execute_result"
        }
      ],
      "source": [
        "np.issubdtype(ints.dtype, np.number)"
      ]
    },
    {
      "cell_type": "markdown",
      "id": "edc62dc5",
      "metadata": {
        "id": "edc62dc5"
      },
      "source": [
        "Advanced Array Manipulation\n",
        "\n",
        "Reshaping Arrays"
      ]
    },
    {
      "cell_type": "code",
      "execution_count": null,
      "id": "dd25d3b5",
      "metadata": {
        "id": "dd25d3b5",
        "outputId": "d31bdaef-d0a2-4b0f-a842-7968f2e3eeda"
      },
      "outputs": [
        {
          "data": {
            "text/plain": [
              "array([[0, 1],\n",
              "       [2, 3],\n",
              "       [4, 5],\n",
              "       [6, 7]])"
            ]
          },
          "execution_count": 9,
          "metadata": {},
          "output_type": "execute_result"
        }
      ],
      "source": [
        "arr = np.arange(8)\n",
        "arr\n",
        "arr.reshape((4, 2))"
      ]
    },
    {
      "cell_type": "code",
      "execution_count": null,
      "id": "fd1286ab",
      "metadata": {
        "id": "fd1286ab",
        "outputId": "2a5633e0-421f-4295-cbf6-ab7b4cccd8d0"
      },
      "outputs": [
        {
          "data": {
            "text/plain": [
              "array([[0, 1, 2, 3],\n",
              "       [4, 5, 6, 7]])"
            ]
          },
          "execution_count": 10,
          "metadata": {},
          "output_type": "execute_result"
        }
      ],
      "source": [
        "arr.reshape((4, 2)).reshape((2, 4))"
      ]
    },
    {
      "cell_type": "code",
      "execution_count": null,
      "id": "1be5b408",
      "metadata": {
        "id": "1be5b408",
        "outputId": "3c32154f-4767-4b03-bda2-1a72421a33a5"
      },
      "outputs": [
        {
          "data": {
            "text/plain": [
              "array([[ 0,  1,  2],\n",
              "       [ 3,  4,  5],\n",
              "       [ 6,  7,  8],\n",
              "       [ 9, 10, 11],\n",
              "       [12, 13, 14]])"
            ]
          },
          "execution_count": 11,
          "metadata": {},
          "output_type": "execute_result"
        }
      ],
      "source": [
        "arr = np.arange(15)\n",
        "arr.reshape((5, -1))"
      ]
    },
    {
      "cell_type": "code",
      "execution_count": null,
      "id": "656dad24",
      "metadata": {
        "id": "656dad24",
        "outputId": "8010253c-7a09-4db6-d4f9-5995c917342b"
      },
      "outputs": [
        {
          "data": {
            "text/plain": [
              "array([[ 0,  1,  2,  3,  4],\n",
              "       [ 5,  6,  7,  8,  9],\n",
              "       [10, 11, 12, 13, 14]])"
            ]
          },
          "execution_count": 12,
          "metadata": {},
          "output_type": "execute_result"
        }
      ],
      "source": [
        "other_arr = np.ones((3, 5))\n",
        "other_arr.shape\n",
        "arr.reshape(other_arr.shape)"
      ]
    },
    {
      "cell_type": "code",
      "execution_count": null,
      "id": "42eb9667",
      "metadata": {
        "id": "42eb9667",
        "outputId": "babed8f3-955c-4765-de95-564f83ebeef4"
      },
      "outputs": [
        {
          "data": {
            "text/plain": [
              "array([ 0,  1,  2,  3,  4,  5,  6,  7,  8,  9, 10, 11, 12, 13, 14])"
            ]
          },
          "execution_count": 13,
          "metadata": {},
          "output_type": "execute_result"
        }
      ],
      "source": [
        "arr = np.arange(15).reshape((5, 3))\n",
        "arr\n",
        "arr.ravel()"
      ]
    },
    {
      "cell_type": "code",
      "execution_count": null,
      "id": "b2b6510f",
      "metadata": {
        "id": "b2b6510f",
        "outputId": "8e08b9c4-8c1f-4f35-808c-648b1dc46954"
      },
      "outputs": [
        {
          "data": {
            "text/plain": [
              "array([ 0,  1,  2,  3,  4,  5,  6,  7,  8,  9, 10, 11, 12, 13, 14])"
            ]
          },
          "execution_count": 14,
          "metadata": {},
          "output_type": "execute_result"
        }
      ],
      "source": [
        "arr.flatten()"
      ]
    },
    {
      "cell_type": "markdown",
      "id": "27ddac4f",
      "metadata": {
        "id": "27ddac4f"
      },
      "source": [
        "Concatenating and Splitting Arrays"
      ]
    },
    {
      "cell_type": "code",
      "execution_count": null,
      "id": "d1aced35",
      "metadata": {
        "id": "d1aced35",
        "outputId": "a1104770-76b6-469a-974e-c6c36e8a7b13"
      },
      "outputs": [
        {
          "data": {
            "text/plain": [
              "array([ 0,  4,  8,  1,  5,  9,  2,  6, 10,  3,  7, 11])"
            ]
          },
          "execution_count": 15,
          "metadata": {},
          "output_type": "execute_result"
        }
      ],
      "source": [
        "arr = np.arange(12).reshape((3, 4))\n",
        "arr\n",
        "arr.ravel()\n",
        "arr.ravel('F')"
      ]
    },
    {
      "cell_type": "markdown",
      "id": "df52c7f3",
      "metadata": {
        "id": "df52c7f3"
      },
      "source": [
        "Concatenating and Splitting Arrays"
      ]
    },
    {
      "cell_type": "code",
      "execution_count": null,
      "id": "b8618e51",
      "metadata": {
        "id": "b8618e51",
        "outputId": "0c925d55-b1ad-4321-85a3-7a9e66c3b078"
      },
      "outputs": [
        {
          "data": {
            "text/plain": [
              "array([[ 1,  2,  3,  7,  8,  9],\n",
              "       [ 4,  5,  6, 10, 11, 12]])"
            ]
          },
          "execution_count": 16,
          "metadata": {},
          "output_type": "execute_result"
        }
      ],
      "source": [
        "arr1 = np.array([[1, 2, 3], [4, 5, 6]])\n",
        "arr2 = np.array([[7, 8, 9], [10, 11, 12]])\n",
        "np.concatenate([arr1, arr2], axis=0)\n",
        "np.concatenate([arr1, arr2], axis=1)"
      ]
    },
    {
      "cell_type": "code",
      "execution_count": null,
      "id": "99c95caf",
      "metadata": {
        "id": "99c95caf",
        "outputId": "43c527c5-0735-4789-cef1-92b335cfe78e"
      },
      "outputs": [
        {
          "data": {
            "text/plain": [
              "array([[ 1,  2,  3,  7,  8,  9],\n",
              "       [ 4,  5,  6, 10, 11, 12]])"
            ]
          },
          "execution_count": 17,
          "metadata": {},
          "output_type": "execute_result"
        }
      ],
      "source": [
        "np.vstack((arr1, arr2))\n",
        "np.hstack((arr1, arr2))"
      ]
    },
    {
      "cell_type": "code",
      "execution_count": null,
      "id": "4752a5f7",
      "metadata": {
        "id": "4752a5f7",
        "outputId": "f020590c-baa2-4f99-ea19-8327a0165bd5"
      },
      "outputs": [
        {
          "data": {
            "text/plain": [
              "array([[0.0929, 0.2817],\n",
              "       [0.769 , 1.2464]])"
            ]
          },
          "execution_count": 18,
          "metadata": {},
          "output_type": "execute_result"
        }
      ],
      "source": [
        "arr = np.random.randn(5, 2)\n",
        "arr\n",
        "first, second, third = np.split(arr, [1, 3])\n",
        "first\n",
        "second\n",
        "third"
      ]
    },
    {
      "cell_type": "markdown",
      "id": "6abe7f71",
      "metadata": {
        "id": "6abe7f71"
      },
      "source": [
        "Stacking helpers: r and c"
      ]
    },
    {
      "cell_type": "code",
      "execution_count": null,
      "id": "6b5dc172",
      "metadata": {
        "id": "6b5dc172",
        "outputId": "0fc607dd-e1eb-4dd6-93e9-e3842c8f534b"
      },
      "outputs": [
        {
          "data": {
            "text/plain": [
              "array([[ 0.    ,  1.    ,  0.    ],\n",
              "       [ 2.    ,  3.    ,  1.    ],\n",
              "       [ 4.    ,  5.    ,  2.    ],\n",
              "       [ 1.0072, -1.2962,  3.    ],\n",
              "       [ 0.275 ,  0.2289,  4.    ],\n",
              "       [ 1.3529,  0.8864,  5.    ]])"
            ]
          },
          "execution_count": 19,
          "metadata": {},
          "output_type": "execute_result"
        }
      ],
      "source": [
        "arr = np.arange(6)\n",
        "arr1 = arr.reshape((3, 2))\n",
        "arr2 = np.random.randn(3, 2)\n",
        "np.r_[arr1, arr2]\n",
        "np.c_[np.r_[arr1, arr2], arr]"
      ]
    },
    {
      "cell_type": "code",
      "execution_count": null,
      "id": "766dee07",
      "metadata": {
        "id": "766dee07",
        "outputId": "72de4436-237d-4bc0-a46d-ccc91dc693ea"
      },
      "outputs": [
        {
          "data": {
            "text/plain": [
              "array([[  1, -10],\n",
              "       [  2,  -9],\n",
              "       [  3,  -8],\n",
              "       [  4,  -7],\n",
              "       [  5,  -6]])"
            ]
          },
          "execution_count": 20,
          "metadata": {},
          "output_type": "execute_result"
        }
      ],
      "source": [
        "np.c_[1:6, -10:-5]"
      ]
    },
    {
      "cell_type": "markdown",
      "id": "1c75f392",
      "metadata": {
        "id": "1c75f392"
      },
      "source": [
        "Repeating Elements: tile and repeat"
      ]
    },
    {
      "cell_type": "code",
      "execution_count": null,
      "id": "2cc1f0b8",
      "metadata": {
        "id": "2cc1f0b8",
        "outputId": "6b7b2e01-cd97-48d8-c26d-c53811d5edb6"
      },
      "outputs": [
        {
          "data": {
            "text/plain": [
              "array([0, 0, 0, 1, 1, 1, 2, 2, 2])"
            ]
          },
          "execution_count": 21,
          "metadata": {},
          "output_type": "execute_result"
        }
      ],
      "source": [
        "arr = np.arange(3)\n",
        "arr\n",
        "arr.repeat(3)"
      ]
    },
    {
      "cell_type": "code",
      "execution_count": null,
      "id": "09c14c3e",
      "metadata": {
        "id": "09c14c3e",
        "outputId": "0f54986c-9fa5-4f86-e221-58a0e14b7ebe"
      },
      "outputs": [
        {
          "data": {
            "text/plain": [
              "array([0, 0, 1, 1, 1, 2, 2, 2, 2])"
            ]
          },
          "execution_count": 22,
          "metadata": {},
          "output_type": "execute_result"
        }
      ],
      "source": [
        "arr.repeat([2, 3, 4])"
      ]
    },
    {
      "cell_type": "code",
      "execution_count": null,
      "id": "a0685c14",
      "metadata": {
        "id": "a0685c14",
        "outputId": "d9bdf36f-5dbb-4e47-e085-fbc67eb59bab"
      },
      "outputs": [
        {
          "data": {
            "text/plain": [
              "array([[-2.0016, -0.3718],\n",
              "       [-2.0016, -0.3718],\n",
              "       [ 1.669 , -0.4386],\n",
              "       [ 1.669 , -0.4386]])"
            ]
          },
          "execution_count": 23,
          "metadata": {},
          "output_type": "execute_result"
        }
      ],
      "source": [
        "arr = np.random.randn(2, 2)\n",
        "arr\n",
        "arr.repeat(2, axis=0)"
      ]
    },
    {
      "cell_type": "code",
      "execution_count": null,
      "id": "6acf74c5",
      "metadata": {
        "id": "6acf74c5",
        "outputId": "2f3c241e-66fc-42f9-e969-c835b6a643d0"
      },
      "outputs": [
        {
          "data": {
            "text/plain": [
              "array([[-2.0016, -2.0016, -0.3718, -0.3718, -0.3718],\n",
              "       [ 1.669 ,  1.669 , -0.4386, -0.4386, -0.4386]])"
            ]
          },
          "execution_count": 24,
          "metadata": {},
          "output_type": "execute_result"
        }
      ],
      "source": [
        "arr.repeat([2, 3], axis=0)\n",
        "arr.repeat([2, 3], axis=1)"
      ]
    },
    {
      "cell_type": "code",
      "execution_count": null,
      "id": "722e3328",
      "metadata": {
        "id": "722e3328",
        "outputId": "0a678af6-67a7-4b22-c35b-665f2168675a"
      },
      "outputs": [
        {
          "data": {
            "text/plain": [
              "array([[-2.0016, -0.3718, -2.0016, -0.3718],\n",
              "       [ 1.669 , -0.4386,  1.669 , -0.4386]])"
            ]
          },
          "execution_count": 25,
          "metadata": {},
          "output_type": "execute_result"
        }
      ],
      "source": [
        "arr\n",
        "np.tile(arr, 2)"
      ]
    },
    {
      "cell_type": "code",
      "execution_count": null,
      "id": "fbbeca8c",
      "metadata": {
        "id": "fbbeca8c",
        "outputId": "9469b0a3-2781-4599-ef91-175e2c62e65a"
      },
      "outputs": [
        {
          "data": {
            "text/plain": [
              "array([[-2.0016, -0.3718, -2.0016, -0.3718],\n",
              "       [ 1.669 , -0.4386,  1.669 , -0.4386],\n",
              "       [-2.0016, -0.3718, -2.0016, -0.3718],\n",
              "       [ 1.669 , -0.4386,  1.669 , -0.4386],\n",
              "       [-2.0016, -0.3718, -2.0016, -0.3718],\n",
              "       [ 1.669 , -0.4386,  1.669 , -0.4386]])"
            ]
          },
          "execution_count": 26,
          "metadata": {},
          "output_type": "execute_result"
        }
      ],
      "source": [
        "arr\n",
        "np.tile(arr, (2, 1))\n",
        "np.tile(arr, (3, 2))"
      ]
    },
    {
      "cell_type": "code",
      "execution_count": null,
      "id": "9bd6b216",
      "metadata": {
        "id": "9bd6b216",
        "outputId": "75c29bad-6226-4bf9-eece-46b6a620c03d"
      },
      "outputs": [
        {
          "data": {
            "text/plain": [
              "array([700, 100, 200, 600])"
            ]
          },
          "execution_count": 27,
          "metadata": {},
          "output_type": "execute_result"
        }
      ],
      "source": [
        "arr = np.arange(10) * 100\n",
        "inds = [7, 1, 2, 6]\n",
        "arr[inds]"
      ]
    },
    {
      "cell_type": "code",
      "execution_count": null,
      "id": "c2c4fa6d",
      "metadata": {
        "id": "c2c4fa6d",
        "outputId": "3461a7ea-e75f-4c80-afe6-c4ae50cd2818"
      },
      "outputs": [
        {
          "data": {
            "text/plain": [
              "array([  0,  41,  42, 300, 400, 500,  43,  40, 800, 900])"
            ]
          },
          "execution_count": 28,
          "metadata": {},
          "output_type": "execute_result"
        }
      ],
      "source": [
        "arr.take(inds)\n",
        "arr.put(inds, 42)\n",
        "arr\n",
        "arr.put(inds, [40, 41, 42, 43])\n",
        "arr"
      ]
    },
    {
      "cell_type": "code",
      "execution_count": null,
      "id": "c5060c35",
      "metadata": {
        "id": "c5060c35",
        "outputId": "8249a472-824e-494d-cb9b-7b2456268cbf"
      },
      "outputs": [
        {
          "data": {
            "text/plain": [
              "array([[ 3.2489, -0.5397,  3.2489,  0.477 ],\n",
              "       [ 0.3026, -0.5771,  0.3026,  0.1241]])"
            ]
          },
          "execution_count": 29,
          "metadata": {},
          "output_type": "execute_result"
        }
      ],
      "source": [
        "inds = [2, 0, 2, 1]\n",
        "arr = np.random.randn(2, 4)\n",
        "arr\n",
        "arr.take(inds, axis=1)"
      ]
    },
    {
      "cell_type": "markdown",
      "id": "370dfab3",
      "metadata": {
        "id": "370dfab3"
      },
      "source": [
        "Broadcasting"
      ]
    },
    {
      "cell_type": "code",
      "execution_count": null,
      "id": "776132a6",
      "metadata": {
        "id": "776132a6",
        "outputId": "f4a5bf7b-4e50-4790-90d9-fa0e38c8d06a"
      },
      "outputs": [
        {
          "data": {
            "text/plain": [
              "array([ 0,  4,  8, 12, 16])"
            ]
          },
          "execution_count": 30,
          "metadata": {},
          "output_type": "execute_result"
        }
      ],
      "source": [
        "arr = np.arange(5)\n",
        "arr\n",
        "arr * 4"
      ]
    },
    {
      "cell_type": "code",
      "execution_count": null,
      "id": "37d7989f",
      "metadata": {
        "id": "37d7989f",
        "outputId": "8d4ed05a-8d47-4bc8-fcd0-bd20a6232a3c"
      },
      "outputs": [
        {
          "data": {
            "text/plain": [
              "array([-0.,  0., -0.])"
            ]
          },
          "execution_count": 31,
          "metadata": {},
          "output_type": "execute_result"
        }
      ],
      "source": [
        "arr = np.random.randn(4, 3)\n",
        "arr.mean(0)\n",
        "demeaned = arr - arr.mean(0)\n",
        "demeaned\n",
        "demeaned.mean(0)"
      ]
    },
    {
      "cell_type": "code",
      "execution_count": null,
      "id": "ca5d3aaa",
      "metadata": {
        "id": "ca5d3aaa",
        "outputId": "3d867723-702b-4c73-f704-a8db47d94778"
      },
      "outputs": [
        {
          "data": {
            "text/plain": [
              "array([ 0., -0.,  0.,  0.])"
            ]
          },
          "execution_count": 32,
          "metadata": {},
          "output_type": "execute_result"
        }
      ],
      "source": [
        "arr\n",
        "row_means = arr.mean(1)\n",
        "row_means.shape\n",
        "row_means.reshape((4, 1))\n",
        "demeaned = arr - row_means.reshape((4, 1))\n",
        "demeaned.mean(1)"
      ]
    },
    {
      "cell_type": "markdown",
      "id": "b8637591",
      "metadata": {
        "id": "b8637591"
      },
      "source": [
        "Broadcasting Over Other Axes"
      ]
    },
    {
      "cell_type": "code",
      "execution_count": null,
      "id": "912b97a9",
      "metadata": {
        "id": "912b97a9",
        "outputId": "830a6538-92cc-492a-ac3b-f81997df8f68"
      },
      "outputs": [
        {
          "ename": "ValueError",
          "evalue": "operands could not be broadcast together with shapes (4,3) (4,) ",
          "output_type": "error",
          "traceback": [
            "\u001b[1;31m---------------------------------------------------------------------------\u001b[0m",
            "\u001b[1;31mValueError\u001b[0m                                Traceback (most recent call last)",
            "\u001b[1;32m~\\AppData\\Local\\Temp/ipykernel_20724/1713987831.py\u001b[0m in \u001b[0;36m<module>\u001b[1;34m\u001b[0m\n\u001b[1;32m----> 1\u001b[1;33m \u001b[0marr\u001b[0m \u001b[1;33m-\u001b[0m \u001b[0marr\u001b[0m\u001b[1;33m.\u001b[0m\u001b[0mmean\u001b[0m\u001b[1;33m(\u001b[0m\u001b[1;36m1\u001b[0m\u001b[1;33m)\u001b[0m\u001b[1;33m\u001b[0m\u001b[1;33m\u001b[0m\u001b[0m\n\u001b[0m",
            "\u001b[1;31mValueError\u001b[0m: operands could not be broadcast together with shapes (4,3) (4,) "
          ]
        }
      ],
      "source": [
        "arr - arr.mean(1)"
      ]
    },
    {
      "cell_type": "code",
      "execution_count": null,
      "id": "efdf2024",
      "metadata": {
        "id": "efdf2024",
        "outputId": "41a8d20a-4c06-4949-c1c9-e7c24ed0df3b"
      },
      "outputs": [
        {
          "data": {
            "text/plain": [
              "array([[-0.2095,  1.1334, -0.9239],\n",
              "       [ 0.8562, -0.6828, -0.1734],\n",
              "       [-0.3386,  1.0823, -0.7438],\n",
              "       [ 0.3234, -0.8599,  0.5365]])"
            ]
          },
          "execution_count": 34,
          "metadata": {},
          "output_type": "execute_result"
        }
      ],
      "source": [
        "arr - arr.mean(1).reshape((4, 1))"
      ]
    },
    {
      "cell_type": "code",
      "execution_count": null,
      "id": "4b0faaaf",
      "metadata": {
        "id": "4b0faaaf",
        "outputId": "1d822df5-4af0-470d-b228-bac2fa61f395"
      },
      "outputs": [
        {
          "data": {
            "text/plain": [
              "array([[-2.3594, -0.1995, -1.542 ]])"
            ]
          },
          "execution_count": 35,
          "metadata": {},
          "output_type": "execute_result"
        }
      ],
      "source": [
        "arr = np.zeros((4, 4))\n",
        "arr_3d = arr[:, np.newaxis, :]\n",
        "arr_3d.shape\n",
        "arr_1d = np.random.normal(size=3)\n",
        "arr_1d[:, np.newaxis]\n",
        "arr_1d[np.newaxis, :]"
      ]
    },
    {
      "cell_type": "code",
      "execution_count": null,
      "id": "11fddb95",
      "metadata": {
        "id": "11fddb95",
        "outputId": "d5891e6d-d00f-4392-e5f0-a97f7f16115b"
      },
      "outputs": [
        {
          "data": {
            "text/plain": [
              "array([[ 0.,  0., -0., -0.],\n",
              "       [ 0.,  0., -0.,  0.],\n",
              "       [ 0.,  0., -0., -0.]])"
            ]
          },
          "execution_count": 36,
          "metadata": {},
          "output_type": "execute_result"
        }
      ],
      "source": [
        "arr = np.random.randn(3, 4, 5)\n",
        "depth_means = arr.mean(2)\n",
        "depth_means\n",
        "depth_means.shape\n",
        "demeaned = arr - depth_means[:, :, np.newaxis]\n",
        "demeaned.mean(2)"
      ]
    },
    {
      "cell_type": "code",
      "execution_count": null,
      "id": "2030f666",
      "metadata": {
        "id": "2030f666"
      },
      "outputs": [],
      "source": [
        "def demean_axis(arr, axis=0):\n",
        "    means = arr.mean(axis)\n"
      ]
    },
    {
      "cell_type": "markdown",
      "id": "eb3ff32a",
      "metadata": {
        "id": "eb3ff32a"
      },
      "source": [
        "# This generalizes things like [:, :, np.newaxis] to N dimensions\n",
        "    indexer = [slice(None)] * arr.ndim\n",
        "    indexer[axis] = np.newaxis\n",
        "    return arr - means[indexer]"
      ]
    },
    {
      "cell_type": "markdown",
      "id": "92b1b1ce",
      "metadata": {
        "id": "92b1b1ce"
      },
      "source": [
        "Setting Array Values by Broadcasting"
      ]
    },
    {
      "cell_type": "code",
      "execution_count": null,
      "id": "8cbecfe4",
      "metadata": {
        "id": "8cbecfe4",
        "outputId": "1a238ab9-183d-4a28-fb1a-42208cd4247e"
      },
      "outputs": [
        {
          "data": {
            "text/plain": [
              "array([[5., 5., 5.],\n",
              "       [5., 5., 5.],\n",
              "       [5., 5., 5.],\n",
              "       [5., 5., 5.]])"
            ]
          },
          "execution_count": 38,
          "metadata": {},
          "output_type": "execute_result"
        }
      ],
      "source": [
        "arr = np.zeros((4, 3))\n",
        "arr[:] = 5\n",
        "arr"
      ]
    },
    {
      "cell_type": "code",
      "execution_count": null,
      "id": "db9d0f3c",
      "metadata": {
        "id": "db9d0f3c",
        "outputId": "19991756-d25d-4346-9689-25d2fce39be9"
      },
      "outputs": [
        {
          "data": {
            "text/plain": [
              "array([[-1.37 , -1.37 , -1.37 ],\n",
              "       [ 0.509,  0.509,  0.509],\n",
              "       [ 0.44 ,  0.44 ,  0.44 ],\n",
              "       [ 1.6  ,  1.6  ,  1.6  ]])"
            ]
          },
          "execution_count": 39,
          "metadata": {},
          "output_type": "execute_result"
        }
      ],
      "source": [
        "col = np.array([1.28, -0.42, 0.44, 1.6])\n",
        "arr[:] = col[:, np.newaxis]\n",
        "arr\n",
        "arr[:2] = [[-1.37], [0.509]]\n",
        "arr"
      ]
    },
    {
      "cell_type": "markdown",
      "id": "89322e59",
      "metadata": {
        "id": "89322e59"
      },
      "source": [
        "Advanced ufunc Usage"
      ]
    },
    {
      "cell_type": "markdown",
      "id": "fcbdb026",
      "metadata": {
        "id": "fcbdb026"
      },
      "source": [
        "ufunc Instance Methods"
      ]
    },
    {
      "cell_type": "code",
      "execution_count": null,
      "id": "44bc532e",
      "metadata": {
        "id": "44bc532e",
        "outputId": "41370c4f-4563-415d-8c7e-7f9f7812b0cd"
      },
      "outputs": [
        {
          "data": {
            "text/plain": [
              "45"
            ]
          },
          "execution_count": 40,
          "metadata": {},
          "output_type": "execute_result"
        }
      ],
      "source": [
        "arr = np.arange(10)\n",
        "np.add.reduce(arr)\n",
        "arr.sum()"
      ]
    },
    {
      "cell_type": "code",
      "execution_count": null,
      "id": "c33a0757",
      "metadata": {
        "id": "c33a0757",
        "outputId": "117e81e2-739b-4d94-de8e-808d71a1a5e7"
      },
      "outputs": [
        {
          "data": {
            "text/plain": [
              "array([ True, False,  True, False,  True])"
            ]
          },
          "execution_count": 41,
          "metadata": {},
          "output_type": "execute_result"
        }
      ],
      "source": [
        "np.random.seed(12346)  # for reproducibility\n",
        "arr = np.random.randn(5, 5)\n",
        "arr[::2].sort(1) # sort a few rows\n",
        "arr[:, :-1] < arr[:, 1:]\n",
        "np.logical_and.reduce(arr[:, :-1] < arr[:, 1:], axis=1)"
      ]
    },
    {
      "cell_type": "code",
      "execution_count": null,
      "id": "f9099cef",
      "metadata": {
        "id": "f9099cef",
        "outputId": "2854018c-5c04-4e52-e83c-707e6551ad31"
      },
      "outputs": [
        {
          "data": {
            "text/plain": [
              "array([[ 0,  1,  3,  6, 10],\n",
              "       [ 5, 11, 18, 26, 35],\n",
              "       [10, 21, 33, 46, 60]], dtype=int32)"
            ]
          },
          "execution_count": 42,
          "metadata": {},
          "output_type": "execute_result"
        }
      ],
      "source": [
        "arr = np.arange(15).reshape((3, 5))\n",
        "np.add.accumulate(arr, axis=1)"
      ]
    },
    {
      "cell_type": "code",
      "execution_count": null,
      "id": "a05b8bfc",
      "metadata": {
        "id": "a05b8bfc",
        "outputId": "21db8ee6-10b7-4eb5-f409-e483ad7bdde6"
      },
      "outputs": [
        {
          "data": {
            "text/plain": [
              "array([[0, 0, 0, 0, 0],\n",
              "       [0, 1, 2, 3, 4],\n",
              "       [0, 1, 2, 3, 4],\n",
              "       [0, 2, 4, 6, 8],\n",
              "       [0, 2, 4, 6, 8]])"
            ]
          },
          "execution_count": 43,
          "metadata": {},
          "output_type": "execute_result"
        }
      ],
      "source": [
        "arr = np.arange(3).repeat([1, 2, 2])\n",
        "arr\n",
        "np.multiply.outer(arr, np.arange(5))"
      ]
    },
    {
      "cell_type": "code",
      "execution_count": null,
      "id": "5047e2de",
      "metadata": {
        "id": "5047e2de",
        "outputId": "efcdee85-424f-432f-a17a-c50cb09ddaf7"
      },
      "outputs": [
        {
          "data": {
            "text/plain": [
              "(3, 4, 5)"
            ]
          },
          "execution_count": 44,
          "metadata": {},
          "output_type": "execute_result"
        }
      ],
      "source": [
        "x, y = np.random.randn(3, 4), np.random.randn(5)\n",
        "result = np.subtract.outer(x, y)\n",
        "result.shape"
      ]
    },
    {
      "cell_type": "code",
      "execution_count": null,
      "id": "576ec5dd",
      "metadata": {
        "id": "576ec5dd",
        "outputId": "e87b2e4d-f909-4d48-8b7d-8e5f45725407"
      },
      "outputs": [
        {
          "data": {
            "text/plain": [
              "array([10, 18, 17], dtype=int32)"
            ]
          },
          "execution_count": 45,
          "metadata": {},
          "output_type": "execute_result"
        }
      ],
      "source": [
        "arr = np.arange(10)\n",
        "np.add.reduceat(arr, [0, 5, 8])"
      ]
    },
    {
      "cell_type": "code",
      "execution_count": null,
      "id": "9524ccff",
      "metadata": {
        "id": "9524ccff",
        "outputId": "502936e5-a672-4edf-f582-2a812791366d"
      },
      "outputs": [
        {
          "data": {
            "text/plain": [
              "array([[ 0,  0,  0],\n",
              "       [ 1,  5,  4],\n",
              "       [ 2, 10,  8],\n",
              "       [ 3, 15, 12]], dtype=int32)"
            ]
          },
          "execution_count": 46,
          "metadata": {},
          "output_type": "execute_result"
        }
      ],
      "source": [
        "arr = np.multiply.outer(np.arange(4), np.arange(5))\n",
        "arr\n",
        "np.add.reduceat(arr, [0, 2, 4], axis=1)"
      ]
    },
    {
      "cell_type": "markdown",
      "id": "8bab44d0",
      "metadata": {
        "id": "8bab44d0"
      },
      "source": [
        "Writing New ufuncs in Python"
      ]
    },
    {
      "cell_type": "code",
      "execution_count": null,
      "id": "8c2eb9db",
      "metadata": {
        "id": "8c2eb9db",
        "outputId": "04b70936-efa8-4e44-a4f7-0ae6a8cb1f7f"
      },
      "outputs": [
        {
          "data": {
            "text/plain": [
              "array([0, 2, 4, 6, 8, 10, 12, 14], dtype=object)"
            ]
          },
          "execution_count": 47,
          "metadata": {},
          "output_type": "execute_result"
        }
      ],
      "source": [
        "def add_elements(x, y):\n",
        "    return x + y\n",
        "add_them = np.frompyfunc(add_elements, 2, 1)\n",
        "add_them(np.arange(8), np.arange(8))"
      ]
    },
    {
      "cell_type": "code",
      "execution_count": null,
      "id": "a45bb600",
      "metadata": {
        "id": "a45bb600",
        "outputId": "0ed43c2b-01bf-4eaf-f1f6-2cbc94745adf"
      },
      "outputs": [
        {
          "data": {
            "text/plain": [
              "array([ 0.,  2.,  4.,  6.,  8., 10., 12., 14.])"
            ]
          },
          "execution_count": 48,
          "metadata": {},
          "output_type": "execute_result"
        }
      ],
      "source": [
        "add_them = np.vectorize(add_elements, otypes=[np.float64])\n",
        "add_them(np.arange(8), np.arange(8))"
      ]
    },
    {
      "cell_type": "code",
      "execution_count": null,
      "id": "1f1139dc",
      "metadata": {
        "id": "1f1139dc",
        "outputId": "edb40c0d-585c-43d9-ccde-68b6212a59ce"
      },
      "outputs": [
        {
          "name": "stdout",
          "output_type": "stream",
          "text": [
            "3.82 ms ± 655 µs per loop (mean ± std. dev. of 7 runs, 100 loops each)\n",
            "7.11 µs ± 183 ns per loop (mean ± std. dev. of 7 runs, 100000 loops each)\n"
          ]
        }
      ],
      "source": [
        "arr = np.random.randn(10000)\n",
        "%timeit add_them(arr, arr)\n",
        "%timeit np.add(arr, arr)"
      ]
    },
    {
      "cell_type": "markdown",
      "id": "5f78d432",
      "metadata": {
        "id": "5f78d432"
      },
      "source": [
        "Structured and Record Arrays"
      ]
    },
    {
      "cell_type": "code",
      "execution_count": null,
      "id": "c0369d40",
      "metadata": {
        "id": "c0369d40",
        "outputId": "78dfc512-8063-47e9-9f51-8bfb7c5aa1a4"
      },
      "outputs": [
        {
          "data": {
            "text/plain": [
              "array([(1.5   ,  6), (3.1416, -2)], dtype=[('x', '<f8'), ('y', '<i4')])"
            ]
          },
          "execution_count": 51,
          "metadata": {},
          "output_type": "execute_result"
        }
      ],
      "source": [
        "dtype = [('x', np.float64), ('y', np.int32)]\n",
        "sarr = np.array([(1.5, 6), (np.pi, -2)], dtype=dtype)\n",
        "sarr"
      ]
    },
    {
      "cell_type": "code",
      "execution_count": null,
      "id": "17901d37",
      "metadata": {
        "id": "17901d37",
        "outputId": "10c5b97c-f19f-4233-8bd0-e05ac7f983ff"
      },
      "outputs": [
        {
          "data": {
            "text/plain": [
              "6"
            ]
          },
          "execution_count": 52,
          "metadata": {},
          "output_type": "execute_result"
        }
      ],
      "source": [
        "sarr[0]\n",
        "sarr[0]['y']"
      ]
    },
    {
      "cell_type": "code",
      "execution_count": null,
      "id": "7844a252",
      "metadata": {
        "id": "7844a252",
        "outputId": "d2e9adc8-8f0e-46cb-cbbd-51373b1a266a"
      },
      "outputs": [
        {
          "data": {
            "text/plain": [
              "array([1.5   , 3.1416])"
            ]
          },
          "execution_count": 53,
          "metadata": {},
          "output_type": "execute_result"
        }
      ],
      "source": [
        "sarr['x']"
      ]
    },
    {
      "cell_type": "markdown",
      "id": "e6659b90",
      "metadata": {
        "id": "e6659b90"
      },
      "source": [
        "Nested dtypes and Multidimensional Fields"
      ]
    },
    {
      "cell_type": "code",
      "execution_count": null,
      "id": "5ab86972",
      "metadata": {
        "id": "5ab86972",
        "outputId": "d4b6814e-d90a-4d77-83d4-607bb2218803"
      },
      "outputs": [
        {
          "data": {
            "text/plain": [
              "array([([0, 0, 0], 0), ([0, 0, 0], 0), ([0, 0, 0], 0), ([0, 0, 0], 0)],\n",
              "      dtype=[('x', '<i8', (3,)), ('y', '<i4')])"
            ]
          },
          "execution_count": 54,
          "metadata": {},
          "output_type": "execute_result"
        }
      ],
      "source": [
        "dtype = [('x', np.int64, 3), ('y', np.int32)]\n",
        "arr = np.zeros(4, dtype=dtype)\n",
        "arr"
      ]
    },
    {
      "cell_type": "code",
      "execution_count": null,
      "id": "ab555680",
      "metadata": {
        "id": "ab555680",
        "outputId": "5b8abb23-6c28-47d1-87ff-5af25185d424"
      },
      "outputs": [
        {
          "data": {
            "text/plain": [
              "array([0, 0, 0], dtype=int64)"
            ]
          },
          "execution_count": 55,
          "metadata": {},
          "output_type": "execute_result"
        }
      ],
      "source": [
        "arr[0]['x']"
      ]
    },
    {
      "cell_type": "code",
      "execution_count": null,
      "id": "d924d97d",
      "metadata": {
        "id": "d924d97d",
        "outputId": "ff6706f8-78a5-428b-b908-f6f7eae17d4f"
      },
      "outputs": [
        {
          "data": {
            "text/plain": [
              "array([[0, 0, 0],\n",
              "       [0, 0, 0],\n",
              "       [0, 0, 0],\n",
              "       [0, 0, 0]], dtype=int64)"
            ]
          },
          "execution_count": 56,
          "metadata": {},
          "output_type": "execute_result"
        }
      ],
      "source": [
        "arr['x']"
      ]
    },
    {
      "cell_type": "code",
      "execution_count": null,
      "id": "e9a4ed55",
      "metadata": {
        "id": "e9a4ed55",
        "outputId": "91c5dad1-c943-4211-bc3b-2686cf129a65"
      },
      "outputs": [
        {
          "data": {
            "text/plain": [
              "array([1., 3.])"
            ]
          },
          "execution_count": 57,
          "metadata": {},
          "output_type": "execute_result"
        }
      ],
      "source": [
        "dtype = [('x', [('a', 'f8'), ('b', 'f4')]), ('y', np.int32)]\n",
        "data = np.array([((1, 2), 5), ((3, 4), 6)], dtype=dtype)\n",
        "data['x']\n",
        "data['y']\n",
        "data['x']['a']"
      ]
    },
    {
      "cell_type": "markdown",
      "id": "e3a04be5",
      "metadata": {
        "id": "e3a04be5"
      },
      "source": [
        "Why Use Structured Arrays?"
      ]
    },
    {
      "cell_type": "markdown",
      "id": "1ab9e48b",
      "metadata": {
        "id": "1ab9e48b"
      },
      "source": [
        "More About Sorting"
      ]
    },
    {
      "cell_type": "code",
      "execution_count": null,
      "id": "b3877e47",
      "metadata": {
        "id": "b3877e47",
        "outputId": "cd9a92c7-bc3d-46c0-8e35-d1f33d2b69c3"
      },
      "outputs": [
        {
          "data": {
            "text/plain": [
              "array([-1.082 ,  0.3759,  0.8014,  1.1397,  1.2888,  1.8413])"
            ]
          },
          "execution_count": 58,
          "metadata": {},
          "output_type": "execute_result"
        }
      ],
      "source": [
        "arr = np.random.randn(6)\n",
        "arr.sort()\n",
        "arr"
      ]
    },
    {
      "cell_type": "code",
      "execution_count": null,
      "id": "008ce863",
      "metadata": {
        "id": "008ce863",
        "outputId": "4fb3951f-9e7b-4e93-ab47-3d3b28ec9854"
      },
      "outputs": [
        {
          "data": {
            "text/plain": [
              "array([[-1.0111, -1.4711,  0.8705, -0.0847, -1.1329],\n",
              "       [-0.3318, -0.3436,  2.1714,  0.1234, -0.0189],\n",
              "       [ 0.1773,  0.7424,  0.8548,  1.038 , -0.329 ]])"
            ]
          },
          "execution_count": 59,
          "metadata": {},
          "output_type": "execute_result"
        }
      ],
      "source": [
        "arr = np.random.randn(3, 5)\n",
        "arr\n",
        "arr[:, 0].sort()  # Sort first column values in-place\n",
        "arr"
      ]
    },
    {
      "cell_type": "code",
      "execution_count": null,
      "id": "64412773",
      "metadata": {
        "id": "64412773",
        "outputId": "44a38bfb-1d74-45c6-9e96-c390c19c7637"
      },
      "outputs": [
        {
          "data": {
            "text/plain": [
              "array([-1.1181, -0.2415, -2.0051,  0.7379, -1.0614])"
            ]
          },
          "execution_count": 60,
          "metadata": {},
          "output_type": "execute_result"
        }
      ],
      "source": [
        "arr = np.random.randn(5)\n",
        "arr\n",
        "np.sort(arr)\n",
        "arr"
      ]
    },
    {
      "cell_type": "code",
      "execution_count": null,
      "id": "31c6ac8b",
      "metadata": {
        "id": "31c6ac8b",
        "outputId": "f1c4cd1e-f375-4338-e4cd-92be3a5a3c39"
      },
      "outputs": [
        {
          "data": {
            "text/plain": [
              "array([[-0.2682, -0.1872,  0.5955,  0.9111,  1.3389],\n",
              "       [-0.5168, -0.3215, -0.1989,  1.0054,  1.1925],\n",
              "       [-1.7638, -0.2222, -0.2171,  0.3969,  0.6071]])"
            ]
          },
          "execution_count": 61,
          "metadata": {},
          "output_type": "execute_result"
        }
      ],
      "source": [
        "arr = np.random.randn(3, 5)\n",
        "arr\n",
        "arr.sort(axis=1)\n",
        "arr"
      ]
    },
    {
      "cell_type": "code",
      "execution_count": null,
      "id": "5e42ebb6",
      "metadata": {
        "id": "5e42ebb6",
        "outputId": "d1ac2478-edc4-46a5-ba61-7411f4113b02"
      },
      "outputs": [
        {
          "data": {
            "text/plain": [
              "array([[ 1.3389,  0.9111,  0.5955, -0.1872, -0.2682],\n",
              "       [ 1.1925,  1.0054, -0.1989, -0.3215, -0.5168],\n",
              "       [ 0.6071,  0.3969, -0.2171, -0.2222, -1.7638]])"
            ]
          },
          "execution_count": 62,
          "metadata": {},
          "output_type": "execute_result"
        }
      ],
      "source": [
        "arr[:, ::-1]"
      ]
    },
    {
      "cell_type": "markdown",
      "id": "5d685a76",
      "metadata": {
        "id": "5d685a76"
      },
      "source": [
        "Indirect Sorts: argsort and lexsort"
      ]
    },
    {
      "cell_type": "code",
      "execution_count": null,
      "id": "ce0abc2d",
      "metadata": {
        "id": "ce0abc2d",
        "outputId": "998cfb84-cdc0-45c6-8beb-28066fe74859"
      },
      "outputs": [
        {
          "data": {
            "text/plain": [
              "array([0, 1, 2, 3, 5])"
            ]
          },
          "execution_count": 63,
          "metadata": {},
          "output_type": "execute_result"
        }
      ],
      "source": [
        "values = np.array([5, 0, 1, 3, 2])\n",
        "indexer = values.argsort()\n",
        "indexer\n",
        "values[indexer]"
      ]
    },
    {
      "cell_type": "code",
      "execution_count": null,
      "id": "ea5ba04b",
      "metadata": {
        "id": "ea5ba04b",
        "outputId": "7b986417-5a1e-4883-83bc-2f535dc1edb3"
      },
      "outputs": [
        {
          "data": {
            "text/plain": [
              "array([[ 0.    ,  1.    ,  2.    ,  3.    ,  5.    ],\n",
              "       [-0.1378,  2.1777,  0.8356, -0.4728, -0.3636],\n",
              "       [ 0.2316,  0.728 ,  1.9956, -1.3918, -0.2089]])"
            ]
          },
          "execution_count": 64,
          "metadata": {},
          "output_type": "execute_result"
        }
      ],
      "source": [
        "arr = np.random.randn(3, 5)\n",
        "arr[0] = values\n",
        "arr\n",
        "arr[:, arr[0].argsort()]"
      ]
    },
    {
      "cell_type": "code",
      "execution_count": null,
      "id": "a3d804ed",
      "metadata": {
        "id": "a3d804ed",
        "outputId": "8f8094d9-1ea0-4dac-f4ab-b0f7882caa05"
      },
      "outputs": [
        {
          "data": {
            "text/plain": [
              "<zip at 0x231b5b68080>"
            ]
          },
          "execution_count": 65,
          "metadata": {},
          "output_type": "execute_result"
        }
      ],
      "source": [
        "first_name = np.array(['Bob', 'Jane', 'Steve', 'Bill', 'Barbara'])\n",
        "last_name = np.array(['Kamau', 'Wairimu', 'Mbugua', 'Otieno', 'Akinyi'])\n",
        "sorter = np.lexsort((first_name, last_name))\n",
        "sorter\n",
        "zip(last_name[sorter], first_name[sorter])"
      ]
    },
    {
      "cell_type": "code",
      "execution_count": null,
      "id": "8cf227e3",
      "metadata": {
        "id": "8cf227e3",
        "outputId": "85d5c173-5eb6-4ebb-80b6-78b8d32d7b8f"
      },
      "outputs": [
        {
          "data": {
            "text/plain": [
              "array(['1:first', '1:second', '1:third', '2:first', '2:second'],\n",
              "      dtype='<U8')"
            ]
          },
          "execution_count": 66,
          "metadata": {},
          "output_type": "execute_result"
        }
      ],
      "source": [
        "values = np.array(['2:first', '2:second', '1:first', '1:second',\n",
        "                   '1:third'])\n",
        "key = np.array([2, 2, 1, 1, 1])\n",
        "indexer = key.argsort(kind='mergesort')\n",
        "indexer\n",
        "values.take(indexer)"
      ]
    },
    {
      "cell_type": "markdown",
      "id": "35085d76",
      "metadata": {
        "id": "35085d76"
      },
      "source": [
        "Partially Sorting Arrays"
      ]
    },
    {
      "cell_type": "code",
      "execution_count": null,
      "id": "b845c036",
      "metadata": {
        "id": "b845c036",
        "outputId": "7561d2f4-18df-4012-e889-ba009f9074f2"
      },
      "outputs": [
        {
          "data": {
            "text/plain": [
              "array([-2.0016, -1.2962, -0.5557, -0.5194, -0.3718, -0.4386, -0.2047,\n",
              "        0.2817,  0.769 ,  0.4789,  1.0072,  0.0929,  0.275 ,  0.2289,\n",
              "        1.3529,  0.8864,  1.3934,  1.9658,  1.669 ,  1.2464])"
            ]
          },
          "execution_count": 67,
          "metadata": {},
          "output_type": "execute_result"
        }
      ],
      "source": [
        "np.random.seed(12345)\n",
        "arr = np.random.randn(20)\n",
        "arr\n",
        "np.partition(arr, 3)"
      ]
    },
    {
      "cell_type": "code",
      "execution_count": null,
      "id": "811714af",
      "metadata": {
        "id": "811714af",
        "outputId": "7838e138-6c80-4124-c65d-2d828062e3ff"
      },
      "outputs": [
        {
          "data": {
            "text/plain": [
              "array([-2.0016, -1.2962, -0.5557, -0.5194, -0.3718, -0.4386, -0.2047,\n",
              "        0.2817,  0.769 ,  0.4789,  1.0072,  0.0929,  0.275 ,  0.2289,\n",
              "        1.3529,  0.8864,  1.3934,  1.9658,  1.669 ,  1.2464])"
            ]
          },
          "execution_count": 68,
          "metadata": {},
          "output_type": "execute_result"
        }
      ],
      "source": [
        "indices = np.argpartition(arr, 3)\n",
        "indices\n",
        "arr.take(indices)"
      ]
    },
    {
      "cell_type": "markdown",
      "id": "eb7c48ec",
      "metadata": {
        "id": "eb7c48ec"
      },
      "source": [
        "numpy.searchsorted: Finding Elements in a Sorted Array"
      ]
    },
    {
      "cell_type": "code",
      "execution_count": null,
      "id": "81995948",
      "metadata": {
        "id": "81995948",
        "outputId": "329cb4cd-c644-4fc7-e55b-134503e89cc8"
      },
      "outputs": [
        {
          "data": {
            "text/plain": [
              "3"
            ]
          },
          "execution_count": 69,
          "metadata": {},
          "output_type": "execute_result"
        }
      ],
      "source": [
        "arr = np.array([0, 1, 7, 12, 15])\n",
        "arr.searchsorted(9)"
      ]
    },
    {
      "cell_type": "code",
      "execution_count": null,
      "id": "d08af389",
      "metadata": {
        "id": "d08af389",
        "outputId": "8d253921-6642-4dc7-d966-602a0ce0cd70"
      },
      "outputs": [
        {
          "data": {
            "text/plain": [
              "array([0, 3, 3, 5], dtype=int64)"
            ]
          },
          "execution_count": 70,
          "metadata": {},
          "output_type": "execute_result"
        }
      ],
      "source": [
        "arr.searchsorted([0, 8, 11, 16])"
      ]
    },
    {
      "cell_type": "code",
      "execution_count": null,
      "id": "b899e6f2",
      "metadata": {
        "id": "b899e6f2",
        "outputId": "80a6798d-2366-4411-860d-d221ee43cbb2"
      },
      "outputs": [
        {
          "data": {
            "text/plain": [
              "array([3, 7], dtype=int64)"
            ]
          },
          "execution_count": 71,
          "metadata": {},
          "output_type": "execute_result"
        }
      ],
      "source": [
        "arr = np.array([0, 0, 0, 1, 1, 1, 1])\n",
        "arr.searchsorted([0, 1])\n",
        "arr.searchsorted([0, 1], side='right')"
      ]
    },
    {
      "cell_type": "code",
      "execution_count": null,
      "id": "4079616a",
      "metadata": {
        "id": "4079616a",
        "outputId": "8e25548e-70d7-4b49-ebbb-45cbcd0f9249"
      },
      "outputs": [
        {
          "data": {
            "text/plain": [
              "array([9940., 6768., 7908., 1709.,  268., 8003., 9037.,  246., 4917.,\n",
              "       5262., 5963.,  519., 8950., 7282., 8183., 5002., 8101.,  959.,\n",
              "       2189., 2587., 4681., 4593., 7095., 1780., 5314., 1677., 7688.,\n",
              "       9281., 6094., 1501., 4896., 3773., 8486., 9110., 3838., 3154.,\n",
              "       5683., 1878., 1258., 6875., 7996., 5735., 9732., 6340., 8884.,\n",
              "       4954., 3516., 7142., 5039., 2256.])"
            ]
          },
          "execution_count": 72,
          "metadata": {},
          "output_type": "execute_result"
        }
      ],
      "source": [
        "data = np.floor(np.random.uniform(0, 10000, size=50))\n",
        "bins = np.array([0, 100, 1000, 5000, 10000])\n",
        "data"
      ]
    },
    {
      "cell_type": "code",
      "execution_count": null,
      "id": "3a501ea6",
      "metadata": {
        "id": "3a501ea6",
        "outputId": "11b4e2a1-852e-4393-92ac-c963acccc617"
      },
      "outputs": [
        {
          "data": {
            "text/plain": [
              "array([4, 4, 4, 3, 2, 4, 4, 2, 3, 4, 4, 2, 4, 4, 4, 4, 4, 2, 3, 3, 3, 3,\n",
              "       4, 3, 4, 3, 4, 4, 4, 3, 3, 3, 4, 4, 3, 3, 4, 3, 3, 4, 4, 4, 4, 4,\n",
              "       4, 3, 3, 4, 4, 3], dtype=int64)"
            ]
          },
          "execution_count": 73,
          "metadata": {},
          "output_type": "execute_result"
        }
      ],
      "source": [
        "labels = bins.searchsorted(data)\n",
        "labels"
      ]
    },
    {
      "cell_type": "code",
      "execution_count": null,
      "id": "d38cd4f7",
      "metadata": {
        "id": "d38cd4f7",
        "outputId": "5e4a5383-28e6-49ba-f0cf-7fa7a79fa540"
      },
      "outputs": [
        {
          "data": {
            "text/plain": [
              "2     498.000000\n",
              "3    3064.277778\n",
              "4    7389.035714\n",
              "dtype: float64"
            ]
          },
          "execution_count": 74,
          "metadata": {},
          "output_type": "execute_result"
        }
      ],
      "source": [
        "pd.Series(data).groupby(labels).mean()"
      ]
    },
    {
      "cell_type": "markdown",
      "id": "ba747b03",
      "metadata": {
        "id": "ba747b03"
      },
      "source": [
        "Writing Fast NumPy Functions with Numba"
      ]
    },
    {
      "cell_type": "code",
      "execution_count": null,
      "id": "56c2cd46",
      "metadata": {
        "id": "56c2cd46"
      },
      "outputs": [],
      "source": [
        "import numpy as np\n",
        "\n",
        "def mean_distance(x, y):\n",
        "    nx = len(x)\n",
        "    result = 0.0\n",
        "    count = 0\n",
        "    for i in range(nx):\n",
        "        result += x[i] - y[i]\n",
        "        count += 1\n",
        "    return result / count"
      ]
    },
    {
      "cell_type": "code",
      "execution_count": null,
      "id": "302a6acf",
      "metadata": {
        "id": "302a6acf",
        "outputId": "c7e2e481-12ce-4ff7-88e8-fe3d1af2e721"
      },
      "outputs": [
        {
          "name": "stdout",
          "output_type": "stream",
          "text": [
            "8.58 s ± 2.24 s per loop (mean ± std. dev. of 7 runs, 1 loop each)\n"
          ]
        }
      ],
      "source": [
        "x = np.random.randn(10000000)\n",
        "y = np.random.randn(10000000)\n",
        "%timeit mean_distance(x, y)"
      ]
    },
    {
      "cell_type": "code",
      "execution_count": null,
      "id": "5bb2a714",
      "metadata": {
        "id": "5bb2a714",
        "outputId": "f91ac8ea-cf3b-483e-8a1e-deadd8d2bc07"
      },
      "outputs": [
        {
          "name": "stdout",
          "output_type": "stream",
          "text": [
            "79.2 ms ± 3.18 ms per loop (mean ± std. dev. of 7 runs, 10 loops each)\n"
          ]
        }
      ],
      "source": [
        "%timeit (x - y).mean()"
      ]
    },
    {
      "cell_type": "code",
      "execution_count": null,
      "id": "bd6b84b6",
      "metadata": {
        "id": "bd6b84b6"
      },
      "outputs": [],
      "source": [
        "import numba as nb"
      ]
    },
    {
      "cell_type": "code",
      "execution_count": null,
      "id": "0361c686",
      "metadata": {
        "id": "0361c686"
      },
      "outputs": [],
      "source": [
        "numba_mean_distance = nb.jit(mean_distance)\n",
        "@nb.jit\n",
        "def mean_distance(x, y):\n",
        "    nx = len(x)\n",
        "    result = 0.0\n",
        "    count = 0\n",
        "    for i in range(nx):\n",
        "        result += x[i] - y[i]\n",
        "        count += 1\n",
        "    return result / count"
      ]
    },
    {
      "cell_type": "code",
      "execution_count": null,
      "id": "b2b00775",
      "metadata": {
        "id": "b2b00775",
        "outputId": "ca4fae2f-7762-404b-8f66-c2e8e149d6ca"
      },
      "outputs": [
        {
          "name": "stdout",
          "output_type": "stream",
          "text": [
            "20.2 ms ± 951 µs per loop (mean ± std. dev. of 7 runs, 1 loop each)\n"
          ]
        }
      ],
      "source": [
        "%timeit numba_mean_distance(x, y)"
      ]
    },
    {
      "cell_type": "code",
      "execution_count": null,
      "id": "4a32257c",
      "metadata": {
        "id": "4a32257c"
      },
      "outputs": [],
      "source": [
        "from numba import float64, njit"
      ]
    },
    {
      "cell_type": "code",
      "execution_count": null,
      "id": "31e4310b",
      "metadata": {
        "id": "31e4310b"
      },
      "outputs": [],
      "source": [
        "@njit(float64(float64[:], float64[:]))\n",
        "def mean_distance(x, y):\n",
        "    return (x - y).mean()"
      ]
    },
    {
      "cell_type": "markdown",
      "id": "e5e68f86",
      "metadata": {
        "id": "e5e68f86"
      },
      "source": [
        "Creating Custom numpy.ufunc Objects with Numba"
      ]
    },
    {
      "cell_type": "code",
      "execution_count": null,
      "id": "6357dc60",
      "metadata": {
        "id": "6357dc60"
      },
      "outputs": [],
      "source": [
        "from numba import vectorize\n",
        "\n",
        "@vectorize\n",
        "def nb_add(x, y):\n",
        "    return x + y"
      ]
    },
    {
      "cell_type": "code",
      "execution_count": null,
      "id": "28257808",
      "metadata": {
        "id": "28257808"
      },
      "outputs": [],
      "source": [
        "x = np.arange(10)"
      ]
    },
    {
      "cell_type": "code",
      "execution_count": null,
      "id": "ddc6fe98",
      "metadata": {
        "id": "ddc6fe98",
        "outputId": "94b1f18c-3d81-48d7-9d6c-2957c78bbc19"
      },
      "outputs": [
        {
          "data": {
            "text/plain": [
              "array([ 0,  2,  4,  6,  8, 10, 12, 14, 16, 18], dtype=int64)"
            ]
          },
          "execution_count": 87,
          "metadata": {},
          "output_type": "execute_result"
        }
      ],
      "source": [
        "nb_add(x, x)"
      ]
    },
    {
      "cell_type": "code",
      "execution_count": null,
      "id": "ce050ae9",
      "metadata": {
        "id": "ce050ae9"
      },
      "outputs": [],
      "source": [
        "nb_add.accumulate(x, 0)"
      ]
    },
    {
      "cell_type": "code",
      "execution_count": null,
      "id": "3b3048ee",
      "metadata": {
        "id": "3b3048ee"
      },
      "outputs": [],
      "source": [
        ""
      ]
    }
  ],
  "metadata": {
    "interpreter": {
      "hash": "7679c2132d3f6ce38c9df14d554b39c06862b36a4e6689c81f9ae15bd0911d7d"
    },
    "kernelspec": {
      "display_name": "Python 3.9.7 ('base')",
      "language": "python",
      "name": "python3"
    },
    "language_info": {
      "codemirror_mode": {
        "name": "ipython",
        "version": 3
      },
      "file_extension": ".py",
      "mimetype": "text/x-python",
      "name": "python",
      "nbconvert_exporter": "python",
      "pygments_lexer": "ipython3",
      "version": "3.9.7"
    },
    "colab": {
      "name": "Numpy-Advanced.ipynb",
      "provenance": [],
      "include_colab_link": true
    }
  },
  "nbformat": 4,
  "nbformat_minor": 5
}