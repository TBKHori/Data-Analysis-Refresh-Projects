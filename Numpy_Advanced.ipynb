{
  "cells": [
    {
      "cell_type": "markdown",
      "metadata": {
        "id": "view-in-github",
        "colab_type": "text"
      },
      "source": [
        "<a href=\"https://colab.research.google.com/github/TBKHori/Data-Analysis-Refresher-notes/blob/main/Numpy_Advanced.ipynb\" target=\"_parent\"><img src=\"https://colab.research.google.com/assets/colab-badge.svg\" alt=\"Open In Colab\"/></a>"
      ]
    },
    {
      "cell_type": "code",
      "execution_count": null,
      "id": "773ad6d4",
      "metadata": {
        "id": "773ad6d4"
      },
      "outputs": [],
      "source": [
        "import numpy as np\n",
        "import pandas as pd\n",
        "np.random.seed(12345)\n",
        "import matplotlib.pyplot as plt\n",
        "plt.rc('figure', figsize=(10, 6))\n",
        "PREVIOUS_MAX_ROWS = pd.options.display.max_rows\n",
        "pd.options.display.max_rows = 20\n",
        "np.set_printoptions(precision=4, suppress=True)"
      ]
    },
    {
      "cell_type": "markdown",
      "id": "02775ec0",
      "metadata": {
        "id": "02775ec0"
      },
      "source": [
        "ndarray Object Internals"
      ]
    },
    {
      "cell_type": "code",
      "execution_count": null,
      "id": "a1339f35",
      "metadata": {
        "id": "a1339f35",
        "outputId": "5b4611e3-6952-469d-c1c2-d4cff7821a7d"
      },
      "outputs": [
        {
          "data": {
            "text/plain": [
              "(10, 5)"
            ]
          },
          "execution_count": 5,
          "metadata": {},
          "output_type": "execute_result"
        }
      ],
      "source": [
        "np.ones((10, 5)).shape"
      ]
    },
    {
      "cell_type": "markdown",
      "id": "ce70597c",
      "metadata": {
        "id": "ce70597c"
      },
      "source": [
        "NumPy dtype Hierarchy"
      ]
    },
    {
      "cell_type": "code",
      "execution_count": null,
      "id": "9f575661",
      "metadata": {
        "id": "9f575661",
        "outputId": "910ddeea-a621-4d54-eaf4-93c5884c6c2a"
      },
      "outputs": [
        {
          "data": {
            "text/plain": [
              "(160, 40, 8)"
            ]
          },
          "execution_count": 6,
          "metadata": {},
          "output_type": "execute_result"
        }
      ],
      "source": [
        "np.ones((3, 4, 5), dtype=np.float64).strides"
      ]
    },
    {
      "cell_type": "code",
      "execution_count": null,
      "id": "ec52ac0a",
      "metadata": {
        "id": "ec52ac0a",
        "outputId": "a7be5289-48c0-4158-f092-4151ddd02897"
      },
      "outputs": [
        {
          "data": {
            "text/plain": [
              "True"
            ]
          },
          "execution_count": 7,
          "metadata": {},
          "output_type": "execute_result"
        }
      ],
      "source": [
        "ints = np.ones(10, dtype=np.uint16)\n",
        "floats = np.ones(10, dtype=np.float32)\n",
        "np.issubdtype(ints.dtype, np.integer)\n",
        "np.issubdtype(floats.dtype, np.floating)"
      ]
    },
    {
      "cell_type": "code",
      "execution_count": null,
      "id": "fe7b8436",
      "metadata": {
        "id": "fe7b8436",
        "outputId": "21459d86-6ff9-4ce0-a3fd-a047c631a7f0"
      },
      "outputs": [
        {
          "data": {
            "text/plain": [
              "[numpy.float64,\n",
              " numpy.floating,\n",
              " numpy.inexact,\n",
              " numpy.number,\n",
              " numpy.generic,\n",
              " float,\n",
              " object]"
            ]
          },
          "execution_count": 8,
          "metadata": {},
          "output_type": "execute_result"
        }
      ],
      "source": [
        "np.float64.mro()"
      ]
    },
    {
      "cell_type": "code",
      "execution_count": null,
      "id": "78a1eec2",
      "metadata": {
        "id": "78a1eec2",
        "outputId": "398e7c06-0398-4cae-e918-d3be6e26e13a"
      },
      "outputs": [
        {
          "data": {
            "text/plain": [
              "True"
            ]
          },
          "execution_count": 9,
          "metadata": {},
          "output_type": "execute_result"
        }
      ],
      "source": [
        "np.issubdtype(ints.dtype, np.number)"
      ]
    },
    {
      "cell_type": "markdown",
      "id": "edc62dc5",
      "metadata": {
        "id": "edc62dc5"
      },
      "source": [
        "Advanced Array Manipulation\n",
        "\n",
        "Reshaping Arrays"
      ]
    },
    {
      "cell_type": "code",
      "execution_count": null,
      "id": "dd25d3b5",
      "metadata": {
        "id": "dd25d3b5",
        "outputId": "954c0787-01a5-47d8-83ae-8298b13ba546"
      },
      "outputs": [
        {
          "data": {
            "text/plain": [
              "array([[0, 1],\n",
              "       [2, 3],\n",
              "       [4, 5],\n",
              "       [6, 7]])"
            ]
          },
          "execution_count": 10,
          "metadata": {},
          "output_type": "execute_result"
        }
      ],
      "source": [
        "arr = np.arange(8)\n",
        "arr\n",
        "arr.reshape((4, 2))"
      ]
    },
    {
      "cell_type": "code",
      "execution_count": null,
      "id": "fd1286ab",
      "metadata": {
        "id": "fd1286ab",
        "outputId": "c8b7c204-a12d-41a2-d99d-c3e543166292"
      },
      "outputs": [
        {
          "data": {
            "text/plain": [
              "array([[0, 1, 2, 3],\n",
              "       [4, 5, 6, 7]])"
            ]
          },
          "execution_count": 11,
          "metadata": {},
          "output_type": "execute_result"
        }
      ],
      "source": [
        "arr.reshape((4, 2)).reshape((2, 4))"
      ]
    },
    {
      "cell_type": "code",
      "execution_count": null,
      "id": "1be5b408",
      "metadata": {
        "id": "1be5b408",
        "outputId": "0a07cd96-04cf-427f-ad99-98ba36c3e52b"
      },
      "outputs": [
        {
          "data": {
            "text/plain": [
              "array([[ 0,  1,  2],\n",
              "       [ 3,  4,  5],\n",
              "       [ 6,  7,  8],\n",
              "       [ 9, 10, 11],\n",
              "       [12, 13, 14]])"
            ]
          },
          "execution_count": 12,
          "metadata": {},
          "output_type": "execute_result"
        }
      ],
      "source": [
        "arr = np.arange(15)\n",
        "arr.reshape((5, -1))"
      ]
    },
    {
      "cell_type": "code",
      "execution_count": null,
      "id": "656dad24",
      "metadata": {
        "id": "656dad24",
        "outputId": "b0085754-6b7d-4e0a-ce7d-599982614118"
      },
      "outputs": [
        {
          "data": {
            "text/plain": [
              "array([[ 0,  1,  2,  3,  4],\n",
              "       [ 5,  6,  7,  8,  9],\n",
              "       [10, 11, 12, 13, 14]])"
            ]
          },
          "execution_count": 13,
          "metadata": {},
          "output_type": "execute_result"
        }
      ],
      "source": [
        "other_arr = np.ones((3, 5))\n",
        "other_arr.shape\n",
        "arr.reshape(other_arr.shape)"
      ]
    },
    {
      "cell_type": "code",
      "execution_count": null,
      "id": "42eb9667",
      "metadata": {
        "id": "42eb9667",
        "outputId": "b9289619-1379-436f-c723-7de5a7a191d5"
      },
      "outputs": [
        {
          "data": {
            "text/plain": [
              "array([ 0,  1,  2,  3,  4,  5,  6,  7,  8,  9, 10, 11, 12, 13, 14])"
            ]
          },
          "execution_count": 14,
          "metadata": {},
          "output_type": "execute_result"
        }
      ],
      "source": [
        "arr = np.arange(15).reshape((5, 3))\n",
        "arr\n",
        "arr.ravel()"
      ]
    },
    {
      "cell_type": "code",
      "execution_count": null,
      "id": "b2b6510f",
      "metadata": {
        "id": "b2b6510f",
        "outputId": "f9bb8331-deae-4f25-a957-39b95ca197f3"
      },
      "outputs": [
        {
          "data": {
            "text/plain": [
              "array([ 0,  1,  2,  3,  4,  5,  6,  7,  8,  9, 10, 11, 12, 13, 14])"
            ]
          },
          "execution_count": 15,
          "metadata": {},
          "output_type": "execute_result"
        }
      ],
      "source": [
        "arr.flatten()"
      ]
    },
    {
      "cell_type": "markdown",
      "id": "27ddac4f",
      "metadata": {
        "id": "27ddac4f"
      },
      "source": [
        "Concatenating and Splitting Arrays"
      ]
    },
    {
      "cell_type": "code",
      "execution_count": null,
      "id": "d1aced35",
      "metadata": {
        "id": "d1aced35",
        "outputId": "359f378d-18a5-4e35-a7e5-7f8d2c421e4a"
      },
      "outputs": [
        {
          "data": {
            "text/plain": [
              "array([ 0,  4,  8,  1,  5,  9,  2,  6, 10,  3,  7, 11])"
            ]
          },
          "execution_count": 16,
          "metadata": {},
          "output_type": "execute_result"
        }
      ],
      "source": [
        "arr = np.arange(12).reshape((3, 4))\n",
        "arr\n",
        "arr.ravel()\n",
        "arr.ravel('F')"
      ]
    },
    {
      "cell_type": "markdown",
      "id": "df52c7f3",
      "metadata": {
        "id": "df52c7f3"
      },
      "source": [
        "Concatenating and Splitting Arrays"
      ]
    },
    {
      "cell_type": "code",
      "execution_count": null,
      "id": "b8618e51",
      "metadata": {
        "id": "b8618e51",
        "outputId": "42ecf583-06c5-49cd-8880-42eb48b5307a"
      },
      "outputs": [
        {
          "data": {
            "text/plain": [
              "array([[ 1,  2,  3,  7,  8,  9],\n",
              "       [ 4,  5,  6, 10, 11, 12]])"
            ]
          },
          "execution_count": 17,
          "metadata": {},
          "output_type": "execute_result"
        }
      ],
      "source": [
        "arr1 = np.array([[1, 2, 3], [4, 5, 6]])\n",
        "arr2 = np.array([[7, 8, 9], [10, 11, 12]])\n",
        "np.concatenate([arr1, arr2], axis=0)\n",
        "np.concatenate([arr1, arr2], axis=1)"
      ]
    },
    {
      "cell_type": "code",
      "execution_count": null,
      "id": "99c95caf",
      "metadata": {
        "id": "99c95caf",
        "outputId": "3569b594-abc9-465c-db04-c5e06f6d7234"
      },
      "outputs": [
        {
          "data": {
            "text/plain": [
              "array([[ 1,  2,  3,  7,  8,  9],\n",
              "       [ 4,  5,  6, 10, 11, 12]])"
            ]
          },
          "execution_count": 18,
          "metadata": {},
          "output_type": "execute_result"
        }
      ],
      "source": [
        "np.vstack((arr1, arr2))\n",
        "np.hstack((arr1, arr2))"
      ]
    },
    {
      "cell_type": "code",
      "execution_count": null,
      "id": "4752a5f7",
      "metadata": {
        "id": "4752a5f7",
        "outputId": "0624e4ff-4e50-4279-e641-c8b77692be59"
      },
      "outputs": [
        {
          "data": {
            "text/plain": [
              "array([[0.0929, 0.2817],\n",
              "       [0.769 , 1.2464]])"
            ]
          },
          "execution_count": 19,
          "metadata": {},
          "output_type": "execute_result"
        }
      ],
      "source": [
        "arr = np.random.randn(5, 2)\n",
        "arr\n",
        "first, second, third = np.split(arr, [1, 3])\n",
        "first\n",
        "second\n",
        "third"
      ]
    },
    {
      "cell_type": "markdown",
      "id": "6abe7f71",
      "metadata": {
        "id": "6abe7f71"
      },
      "source": [
        "Stacking helpers: r and c"
      ]
    },
    {
      "cell_type": "code",
      "execution_count": null,
      "id": "6b5dc172",
      "metadata": {
        "id": "6b5dc172",
        "outputId": "6022d5ca-a8b4-42e1-dd3d-0d63a9a4f8dd"
      },
      "outputs": [
        {
          "data": {
            "text/plain": [
              "array([[ 0.    ,  1.    ,  0.    ],\n",
              "       [ 2.    ,  3.    ,  1.    ],\n",
              "       [ 4.    ,  5.    ,  2.    ],\n",
              "       [-2.0016, -0.3718,  3.    ],\n",
              "       [ 1.669 , -0.4386,  4.    ],\n",
              "       [-0.5397,  0.477 ,  5.    ]])"
            ]
          },
          "execution_count": 21,
          "metadata": {},
          "output_type": "execute_result"
        }
      ],
      "source": [
        "arr = np.arange(6)\n",
        "arr1 = arr.reshape((3, 2))\n",
        "arr2 = np.random.randn(3, 2)\n",
        "np.r_[arr1, arr2]\n",
        "np.c_[np.r_[arr1, arr2], arr]"
      ]
    },
    {
      "cell_type": "code",
      "execution_count": null,
      "id": "766dee07",
      "metadata": {
        "id": "766dee07",
        "outputId": "c9b5b7c2-9f0f-4577-f93c-38a21d21cdd0"
      },
      "outputs": [
        {
          "data": {
            "text/plain": [
              "array([[  1, -10],\n",
              "       [  2,  -9],\n",
              "       [  3,  -8],\n",
              "       [  4,  -7],\n",
              "       [  5,  -6]])"
            ]
          },
          "execution_count": 23,
          "metadata": {},
          "output_type": "execute_result"
        }
      ],
      "source": [
        "np.c_[1:6, -10:-5]"
      ]
    },
    {
      "cell_type": "markdown",
      "id": "1c75f392",
      "metadata": {
        "id": "1c75f392"
      },
      "source": [
        "Repeating Elements: tile and repeat"
      ]
    },
    {
      "cell_type": "code",
      "execution_count": null,
      "id": "2cc1f0b8",
      "metadata": {
        "id": "2cc1f0b8",
        "outputId": "21930b27-98f8-48b6-9b51-3c3f7bbc656d"
      },
      "outputs": [
        {
          "data": {
            "text/plain": [
              "array([0, 0, 0, 1, 1, 1, 2, 2, 2])"
            ]
          },
          "execution_count": 24,
          "metadata": {},
          "output_type": "execute_result"
        }
      ],
      "source": [
        "arr = np.arange(3)\n",
        "arr\n",
        "arr.repeat(3)"
      ]
    },
    {
      "cell_type": "code",
      "execution_count": null,
      "id": "09c14c3e",
      "metadata": {
        "id": "09c14c3e",
        "outputId": "7c1b901d-2835-46a2-dbdc-32a5c3d8e12e"
      },
      "outputs": [
        {
          "data": {
            "text/plain": [
              "array([0, 0, 1, 1, 1, 2, 2, 2, 2])"
            ]
          },
          "execution_count": 25,
          "metadata": {},
          "output_type": "execute_result"
        }
      ],
      "source": [
        "arr.repeat([2, 3, 4])"
      ]
    },
    {
      "cell_type": "code",
      "execution_count": null,
      "id": "a0685c14",
      "metadata": {
        "id": "a0685c14",
        "outputId": "11ccda13-8eab-4f96-ec43-2a915d33fe4d"
      },
      "outputs": [
        {
          "data": {
            "text/plain": [
              "array([[ 3.2489, -1.0212],\n",
              "       [ 3.2489, -1.0212],\n",
              "       [-0.5771,  0.1241],\n",
              "       [-0.5771,  0.1241]])"
            ]
          },
          "execution_count": 26,
          "metadata": {},
          "output_type": "execute_result"
        }
      ],
      "source": [
        "arr = np.random.randn(2, 2)\n",
        "arr\n",
        "arr.repeat(2, axis=0)"
      ]
    },
    {
      "cell_type": "code",
      "execution_count": null,
      "id": "6acf74c5",
      "metadata": {
        "id": "6acf74c5",
        "outputId": "c37bdad5-527b-4fc5-a0c5-f44e02f79010"
      },
      "outputs": [
        {
          "data": {
            "text/plain": [
              "array([[ 3.2489,  3.2489, -1.0212, -1.0212, -1.0212],\n",
              "       [-0.5771, -0.5771,  0.1241,  0.1241,  0.1241]])"
            ]
          },
          "execution_count": 27,
          "metadata": {},
          "output_type": "execute_result"
        }
      ],
      "source": [
        "arr.repeat([2, 3], axis=0)\n",
        "arr.repeat([2, 3], axis=1)"
      ]
    },
    {
      "cell_type": "code",
      "execution_count": null,
      "id": "722e3328",
      "metadata": {
        "id": "722e3328",
        "outputId": "00ddf85d-b1e3-45f8-b860-524befaaa22b"
      },
      "outputs": [
        {
          "data": {
            "text/plain": [
              "array([[ 3.2489, -1.0212,  3.2489, -1.0212],\n",
              "       [-0.5771,  0.1241, -0.5771,  0.1241]])"
            ]
          },
          "execution_count": 28,
          "metadata": {},
          "output_type": "execute_result"
        }
      ],
      "source": [
        "arr\n",
        "np.tile(arr, 2)"
      ]
    },
    {
      "cell_type": "code",
      "execution_count": null,
      "id": "fbbeca8c",
      "metadata": {
        "id": "fbbeca8c",
        "outputId": "568871f0-0dc9-461d-b2e0-e272fcf45577"
      },
      "outputs": [
        {
          "data": {
            "text/plain": [
              "array([[ 3.2489, -1.0212,  3.2489, -1.0212],\n",
              "       [-0.5771,  0.1241, -0.5771,  0.1241],\n",
              "       [ 3.2489, -1.0212,  3.2489, -1.0212],\n",
              "       [-0.5771,  0.1241, -0.5771,  0.1241],\n",
              "       [ 3.2489, -1.0212,  3.2489, -1.0212],\n",
              "       [-0.5771,  0.1241, -0.5771,  0.1241]])"
            ]
          },
          "execution_count": 29,
          "metadata": {},
          "output_type": "execute_result"
        }
      ],
      "source": [
        "arr\n",
        "np.tile(arr, (2, 1))\n",
        "np.tile(arr, (3, 2))"
      ]
    },
    {
      "cell_type": "code",
      "execution_count": null,
      "id": "9bd6b216",
      "metadata": {
        "id": "9bd6b216",
        "outputId": "10c72d2a-32ff-41e6-d97e-f3d9417ceb3d"
      },
      "outputs": [
        {
          "data": {
            "text/plain": [
              "array([700, 100, 200, 600])"
            ]
          },
          "execution_count": 30,
          "metadata": {},
          "output_type": "execute_result"
        }
      ],
      "source": [
        "arr = np.arange(10) * 100\n",
        "inds = [7, 1, 2, 6]\n",
        "arr[inds]"
      ]
    },
    {
      "cell_type": "code",
      "execution_count": null,
      "id": "c2c4fa6d",
      "metadata": {
        "id": "c2c4fa6d",
        "outputId": "e83574c6-945e-484f-df93-74b681adc26c"
      },
      "outputs": [
        {
          "data": {
            "text/plain": [
              "array([  0,  41,  42, 300, 400, 500,  43,  40, 800, 900])"
            ]
          },
          "execution_count": 31,
          "metadata": {},
          "output_type": "execute_result"
        }
      ],
      "source": [
        "arr.take(inds)\n",
        "arr.put(inds, 42)\n",
        "arr\n",
        "arr.put(inds, [40, 41, 42, 43])\n",
        "arr"
      ]
    },
    {
      "cell_type": "code",
      "execution_count": null,
      "id": "c5060c35",
      "metadata": {
        "id": "c5060c35",
        "outputId": "420b2f72-d442-497c-be6a-a5cdcca3bdd4"
      },
      "outputs": [
        {
          "data": {
            "text/plain": [
              "array([[ 0.0009,  0.3026,  0.0009,  0.5238],\n",
              "       [-2.3702, -0.7135, -2.3702, -0.8312]])"
            ]
          },
          "execution_count": 32,
          "metadata": {},
          "output_type": "execute_result"
        }
      ],
      "source": [
        "inds = [2, 0, 2, 1]\n",
        "arr = np.random.randn(2, 4)\n",
        "arr\n",
        "arr.take(inds, axis=1)"
      ]
    },
    {
      "cell_type": "markdown",
      "id": "370dfab3",
      "metadata": {
        "id": "370dfab3"
      },
      "source": [
        "Broadcasting"
      ]
    },
    {
      "cell_type": "code",
      "execution_count": null,
      "id": "776132a6",
      "metadata": {
        "id": "776132a6",
        "outputId": "bbac23e8-5043-4e56-ac2e-9f469a41567b"
      },
      "outputs": [
        {
          "data": {
            "text/plain": [
              "array([ 0,  4,  8, 12, 16])"
            ]
          },
          "execution_count": 33,
          "metadata": {},
          "output_type": "execute_result"
        }
      ],
      "source": [
        "arr = np.arange(5)\n",
        "arr\n",
        "arr * 4"
      ]
    },
    {
      "cell_type": "code",
      "execution_count": null,
      "id": "37d7989f",
      "metadata": {
        "id": "37d7989f",
        "outputId": "60bac38d-4fd0-4a3d-8034-03b526604456"
      },
      "outputs": [
        {
          "data": {
            "text/plain": [
              "array([-0., -0.,  0.])"
            ]
          },
          "execution_count": 34,
          "metadata": {},
          "output_type": "execute_result"
        }
      ],
      "source": [
        "arr = np.random.randn(4, 3)\n",
        "arr.mean(0)\n",
        "demeaned = arr - arr.mean(0)\n",
        "demeaned\n",
        "demeaned.mean(0)"
      ]
    },
    {
      "cell_type": "code",
      "execution_count": null,
      "id": "ca5d3aaa",
      "metadata": {
        "id": "ca5d3aaa",
        "outputId": "a50e0853-1d73-44a2-80bc-c850349dcce4"
      },
      "outputs": [
        {
          "data": {
            "text/plain": [
              "array([ 0.,  0., -0., -0.])"
            ]
          },
          "execution_count": 35,
          "metadata": {},
          "output_type": "execute_result"
        }
      ],
      "source": [
        "arr\n",
        "row_means = arr.mean(1)\n",
        "row_means.shape\n",
        "row_means.reshape((4, 1))\n",
        "demeaned = arr - row_means.reshape((4, 1))\n",
        "demeaned.mean(1)"
      ]
    },
    {
      "cell_type": "code",
      "execution_count": null,
      "id": "912b97a9",
      "metadata": {
        "id": "912b97a9"
      },
      "outputs": [],
      "source": [
        ""
      ]
    }
  ],
  "metadata": {
    "kernelspec": {
      "display_name": "Python 3 (ipykernel)",
      "language": "python",
      "name": "python3"
    },
    "language_info": {
      "codemirror_mode": {
        "name": "ipython",
        "version": 3
      },
      "file_extension": ".py",
      "mimetype": "text/x-python",
      "name": "python",
      "nbconvert_exporter": "python",
      "pygments_lexer": "ipython3",
      "version": "3.9.7"
    },
    "colab": {
      "name": "Numpy-Advanced.ipynb",
      "provenance": [],
      "include_colab_link": true
    }
  },
  "nbformat": 4,
  "nbformat_minor": 5
}