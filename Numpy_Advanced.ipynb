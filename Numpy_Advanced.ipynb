{
  "cells": [
    {
      "cell_type": "markdown",
      "metadata": {
        "id": "view-in-github",
        "colab_type": "text"
      },
      "source": [
        "<a href=\"https://colab.research.google.com/github/TBKHori/Data-Analysis-Refresh-Projects/blob/main/Numpy_Advanced.ipynb\" target=\"_parent\"><img src=\"https://colab.research.google.com/assets/colab-badge.svg\" alt=\"Open In Colab\"/></a>"
      ]
    },
    {
      "cell_type": "code",
      "execution_count": null,
      "id": "773ad6d4",
      "metadata": {
        "id": "773ad6d4"
      },
      "outputs": [],
      "source": [
        "import numpy as np\n",
        "import pandas as pd\n",
        "np.random.seed(12345)\n",
        "import matplotlib.pyplot as plt\n",
        "plt.rc('figure', figsize=(10, 6))\n",
        "PREVIOUS_MAX_ROWS = pd.options.display.max_rows\n",
        "pd.options.display.max_rows = 20\n",
        "np.set_printoptions(precision=4, suppress=True)"
      ]
    },
    {
      "cell_type": "markdown",
      "id": "02775ec0",
      "metadata": {
        "id": "02775ec0"
      },
      "source": [
        "ndarray Object Internals"
      ]
    },
    {
      "cell_type": "code",
      "execution_count": null,
      "id": "a1339f35",
      "metadata": {
        "id": "a1339f35",
        "outputId": "e8d70d90-3dc5-488b-c6ab-0b63110b4322"
      },
      "outputs": [
        {
          "data": {
            "text/plain": [
              "(10, 5)"
            ]
          },
          "execution_count": 5,
          "metadata": {},
          "output_type": "execute_result"
        }
      ],
      "source": [
        "np.ones((10, 5)).shape"
      ]
    },
    {
      "cell_type": "markdown",
      "id": "ce70597c",
      "metadata": {
        "id": "ce70597c"
      },
      "source": [
        "NumPy dtype Hierarchy"
      ]
    },
    {
      "cell_type": "code",
      "execution_count": null,
      "id": "9f575661",
      "metadata": {
        "id": "9f575661",
        "outputId": "a21462a3-5ff7-4861-d46c-571dbd3c21ab"
      },
      "outputs": [
        {
          "data": {
            "text/plain": [
              "(160, 40, 8)"
            ]
          },
          "execution_count": 6,
          "metadata": {},
          "output_type": "execute_result"
        }
      ],
      "source": [
        "np.ones((3, 4, 5), dtype=np.float64).strides"
      ]
    },
    {
      "cell_type": "code",
      "execution_count": null,
      "id": "ec52ac0a",
      "metadata": {
        "id": "ec52ac0a",
        "outputId": "f941e4d4-3093-4c26-8d3f-f50aa15d1cf7"
      },
      "outputs": [
        {
          "data": {
            "text/plain": [
              "True"
            ]
          },
          "execution_count": 7,
          "metadata": {},
          "output_type": "execute_result"
        }
      ],
      "source": [
        "ints = np.ones(10, dtype=np.uint16)\n",
        "floats = np.ones(10, dtype=np.float32)\n",
        "np.issubdtype(ints.dtype, np.integer)\n",
        "np.issubdtype(floats.dtype, np.floating)"
      ]
    },
    {
      "cell_type": "code",
      "execution_count": null,
      "id": "fe7b8436",
      "metadata": {
        "id": "fe7b8436",
        "outputId": "272c651c-1d1f-4680-f6a3-7c52f3bdb174"
      },
      "outputs": [
        {
          "data": {
            "text/plain": [
              "[numpy.float64,\n",
              " numpy.floating,\n",
              " numpy.inexact,\n",
              " numpy.number,\n",
              " numpy.generic,\n",
              " float,\n",
              " object]"
            ]
          },
          "execution_count": 8,
          "metadata": {},
          "output_type": "execute_result"
        }
      ],
      "source": [
        "np.float64.mro()"
      ]
    },
    {
      "cell_type": "code",
      "execution_count": null,
      "id": "78a1eec2",
      "metadata": {
        "id": "78a1eec2",
        "outputId": "ab1a859e-8001-40ef-95c8-555022bf0471"
      },
      "outputs": [
        {
          "data": {
            "text/plain": [
              "True"
            ]
          },
          "execution_count": 9,
          "metadata": {},
          "output_type": "execute_result"
        }
      ],
      "source": [
        "np.issubdtype(ints.dtype, np.number)"
      ]
    },
    {
      "cell_type": "markdown",
      "id": "edc62dc5",
      "metadata": {
        "id": "edc62dc5"
      },
      "source": [
        "Advanced Array Manipulation\n",
        "\n",
        "Reshaping Arrays"
      ]
    },
    {
      "cell_type": "code",
      "execution_count": null,
      "id": "dd25d3b5",
      "metadata": {
        "id": "dd25d3b5",
        "outputId": "e8299392-0e13-4e54-d470-f070a3da4bc6"
      },
      "outputs": [
        {
          "data": {
            "text/plain": [
              "array([[0, 1],\n",
              "       [2, 3],\n",
              "       [4, 5],\n",
              "       [6, 7]])"
            ]
          },
          "execution_count": 10,
          "metadata": {},
          "output_type": "execute_result"
        }
      ],
      "source": [
        "arr = np.arange(8)\n",
        "arr\n",
        "arr.reshape((4, 2))"
      ]
    },
    {
      "cell_type": "code",
      "execution_count": null,
      "id": "fd1286ab",
      "metadata": {
        "id": "fd1286ab",
        "outputId": "2d55faad-355c-48fa-d037-0e99d45d7a1e"
      },
      "outputs": [
        {
          "data": {
            "text/plain": [
              "array([[0, 1, 2, 3],\n",
              "       [4, 5, 6, 7]])"
            ]
          },
          "execution_count": 11,
          "metadata": {},
          "output_type": "execute_result"
        }
      ],
      "source": [
        "arr.reshape((4, 2)).reshape((2, 4))"
      ]
    },
    {
      "cell_type": "code",
      "execution_count": null,
      "id": "1be5b408",
      "metadata": {
        "id": "1be5b408",
        "outputId": "fe46c9b2-12e2-442d-99bb-d3cdf6da45b7"
      },
      "outputs": [
        {
          "data": {
            "text/plain": [
              "array([[ 0,  1,  2],\n",
              "       [ 3,  4,  5],\n",
              "       [ 6,  7,  8],\n",
              "       [ 9, 10, 11],\n",
              "       [12, 13, 14]])"
            ]
          },
          "execution_count": 12,
          "metadata": {},
          "output_type": "execute_result"
        }
      ],
      "source": [
        "arr = np.arange(15)\n",
        "arr.reshape((5, -1))"
      ]
    },
    {
      "cell_type": "code",
      "execution_count": null,
      "id": "656dad24",
      "metadata": {
        "id": "656dad24",
        "outputId": "95e208be-4e04-4968-e96e-cbe67e8f335a"
      },
      "outputs": [
        {
          "data": {
            "text/plain": [
              "array([[ 0,  1,  2,  3,  4],\n",
              "       [ 5,  6,  7,  8,  9],\n",
              "       [10, 11, 12, 13, 14]])"
            ]
          },
          "execution_count": 13,
          "metadata": {},
          "output_type": "execute_result"
        }
      ],
      "source": [
        "other_arr = np.ones((3, 5))\n",
        "other_arr.shape\n",
        "arr.reshape(other_arr.shape)"
      ]
    },
    {
      "cell_type": "code",
      "execution_count": null,
      "id": "42eb9667",
      "metadata": {
        "id": "42eb9667",
        "outputId": "459cc94a-d01d-4ce8-f9f8-8efd30be3723"
      },
      "outputs": [
        {
          "data": {
            "text/plain": [
              "array([ 0,  1,  2,  3,  4,  5,  6,  7,  8,  9, 10, 11, 12, 13, 14])"
            ]
          },
          "execution_count": 14,
          "metadata": {},
          "output_type": "execute_result"
        }
      ],
      "source": [
        "arr = np.arange(15).reshape((5, 3))\n",
        "arr\n",
        "arr.ravel()"
      ]
    },
    {
      "cell_type": "code",
      "execution_count": null,
      "id": "b2b6510f",
      "metadata": {
        "id": "b2b6510f",
        "outputId": "d34b509c-dab3-4a89-e332-a27b8625b5bd"
      },
      "outputs": [
        {
          "data": {
            "text/plain": [
              "array([ 0,  1,  2,  3,  4,  5,  6,  7,  8,  9, 10, 11, 12, 13, 14])"
            ]
          },
          "execution_count": 15,
          "metadata": {},
          "output_type": "execute_result"
        }
      ],
      "source": [
        "arr.flatten()"
      ]
    },
    {
      "cell_type": "markdown",
      "id": "27ddac4f",
      "metadata": {
        "id": "27ddac4f"
      },
      "source": [
        "Concatenating and Splitting Arrays"
      ]
    },
    {
      "cell_type": "code",
      "execution_count": null,
      "id": "d1aced35",
      "metadata": {
        "id": "d1aced35",
        "outputId": "dc7a7099-a203-4102-d552-991dd7d77321"
      },
      "outputs": [
        {
          "data": {
            "text/plain": [
              "array([ 0,  4,  8,  1,  5,  9,  2,  6, 10,  3,  7, 11])"
            ]
          },
          "execution_count": 16,
          "metadata": {},
          "output_type": "execute_result"
        }
      ],
      "source": [
        "arr = np.arange(12).reshape((3, 4))\n",
        "arr\n",
        "arr.ravel()\n",
        "arr.ravel('F')"
      ]
    },
    {
      "cell_type": "markdown",
      "id": "df52c7f3",
      "metadata": {
        "id": "df52c7f3"
      },
      "source": [
        "Concatenating and Splitting Arrays"
      ]
    },
    {
      "cell_type": "code",
      "execution_count": null,
      "id": "b8618e51",
      "metadata": {
        "id": "b8618e51",
        "outputId": "d86135de-f8f4-49a1-89bc-cb695a64d759"
      },
      "outputs": [
        {
          "data": {
            "text/plain": [
              "array([[ 1,  2,  3,  7,  8,  9],\n",
              "       [ 4,  5,  6, 10, 11, 12]])"
            ]
          },
          "execution_count": 17,
          "metadata": {},
          "output_type": "execute_result"
        }
      ],
      "source": [
        "arr1 = np.array([[1, 2, 3], [4, 5, 6]])\n",
        "arr2 = np.array([[7, 8, 9], [10, 11, 12]])\n",
        "np.concatenate([arr1, arr2], axis=0)\n",
        "np.concatenate([arr1, arr2], axis=1)"
      ]
    },
    {
      "cell_type": "code",
      "execution_count": null,
      "id": "99c95caf",
      "metadata": {
        "id": "99c95caf",
        "outputId": "881f12e1-94ae-419e-97b2-d6b13837e3ef"
      },
      "outputs": [
        {
          "data": {
            "text/plain": [
              "array([[ 1,  2,  3,  7,  8,  9],\n",
              "       [ 4,  5,  6, 10, 11, 12]])"
            ]
          },
          "execution_count": 18,
          "metadata": {},
          "output_type": "execute_result"
        }
      ],
      "source": [
        "np.vstack((arr1, arr2))\n",
        "np.hstack((arr1, arr2))"
      ]
    },
    {
      "cell_type": "code",
      "execution_count": null,
      "id": "4752a5f7",
      "metadata": {
        "id": "4752a5f7",
        "outputId": "1ae25ed3-6714-4341-fa31-7dfbed0277d3"
      },
      "outputs": [
        {
          "data": {
            "text/plain": [
              "array([[0.0929, 0.2817],\n",
              "       [0.769 , 1.2464]])"
            ]
          },
          "execution_count": 19,
          "metadata": {},
          "output_type": "execute_result"
        }
      ],
      "source": [
        "arr = np.random.randn(5, 2)\n",
        "arr\n",
        "first, second, third = np.split(arr, [1, 3])\n",
        "first\n",
        "second\n",
        "third"
      ]
    },
    {
      "cell_type": "markdown",
      "id": "6abe7f71",
      "metadata": {
        "id": "6abe7f71"
      },
      "source": [
        "Stacking helpers: r and c"
      ]
    },
    {
      "cell_type": "code",
      "execution_count": null,
      "id": "6b5dc172",
      "metadata": {
        "id": "6b5dc172",
        "outputId": "6c130b58-296d-4177-d897-81d1a5a3b988"
      },
      "outputs": [
        {
          "data": {
            "text/plain": [
              "array([[ 0.    ,  1.    ,  0.    ],\n",
              "       [ 2.    ,  3.    ,  1.    ],\n",
              "       [ 4.    ,  5.    ,  2.    ],\n",
              "       [-2.0016, -0.3718,  3.    ],\n",
              "       [ 1.669 , -0.4386,  4.    ],\n",
              "       [-0.5397,  0.477 ,  5.    ]])"
            ]
          },
          "execution_count": 21,
          "metadata": {},
          "output_type": "execute_result"
        }
      ],
      "source": [
        "arr = np.arange(6)\n",
        "arr1 = arr.reshape((3, 2))\n",
        "arr2 = np.random.randn(3, 2)\n",
        "np.r_[arr1, arr2]\n",
        "np.c_[np.r_[arr1, arr2], arr]"
      ]
    },
    {
      "cell_type": "code",
      "execution_count": null,
      "id": "766dee07",
      "metadata": {
        "id": "766dee07",
        "outputId": "59c8d00a-7a9d-4d8a-c06c-483777b957d0"
      },
      "outputs": [
        {
          "data": {
            "text/plain": [
              "array([[  1, -10],\n",
              "       [  2,  -9],\n",
              "       [  3,  -8],\n",
              "       [  4,  -7],\n",
              "       [  5,  -6]])"
            ]
          },
          "execution_count": 23,
          "metadata": {},
          "output_type": "execute_result"
        }
      ],
      "source": [
        "np.c_[1:6, -10:-5]"
      ]
    },
    {
      "cell_type": "markdown",
      "id": "1c75f392",
      "metadata": {
        "id": "1c75f392"
      },
      "source": [
        "Repeating Elements: tile and repeat"
      ]
    },
    {
      "cell_type": "code",
      "execution_count": null,
      "id": "2cc1f0b8",
      "metadata": {
        "id": "2cc1f0b8",
        "outputId": "bdaa00ec-5734-42d4-a9ee-b952d336f156"
      },
      "outputs": [
        {
          "data": {
            "text/plain": [
              "array([0, 0, 0, 1, 1, 1, 2, 2, 2])"
            ]
          },
          "execution_count": 24,
          "metadata": {},
          "output_type": "execute_result"
        }
      ],
      "source": [
        "arr = np.arange(3)\n",
        "arr\n",
        "arr.repeat(3)"
      ]
    },
    {
      "cell_type": "code",
      "execution_count": null,
      "id": "09c14c3e",
      "metadata": {
        "id": "09c14c3e",
        "outputId": "ca96099c-01af-4dec-bc00-9cbff802fccf"
      },
      "outputs": [
        {
          "data": {
            "text/plain": [
              "array([0, 0, 1, 1, 1, 2, 2, 2, 2])"
            ]
          },
          "execution_count": 25,
          "metadata": {},
          "output_type": "execute_result"
        }
      ],
      "source": [
        "arr.repeat([2, 3, 4])"
      ]
    },
    {
      "cell_type": "code",
      "execution_count": null,
      "id": "a0685c14",
      "metadata": {
        "id": "a0685c14",
        "outputId": "39984f86-241a-4b66-8c8b-a8561c2b058c"
      },
      "outputs": [
        {
          "data": {
            "text/plain": [
              "array([[ 3.2489, -1.0212],\n",
              "       [ 3.2489, -1.0212],\n",
              "       [-0.5771,  0.1241],\n",
              "       [-0.5771,  0.1241]])"
            ]
          },
          "execution_count": 26,
          "metadata": {},
          "output_type": "execute_result"
        }
      ],
      "source": [
        "arr = np.random.randn(2, 2)\n",
        "arr\n",
        "arr.repeat(2, axis=0)"
      ]
    },
    {
      "cell_type": "code",
      "execution_count": null,
      "id": "6acf74c5",
      "metadata": {
        "id": "6acf74c5",
        "outputId": "723f30a5-8d0c-4c03-aac6-6c8831981248"
      },
      "outputs": [
        {
          "data": {
            "text/plain": [
              "array([[ 3.2489,  3.2489, -1.0212, -1.0212, -1.0212],\n",
              "       [-0.5771, -0.5771,  0.1241,  0.1241,  0.1241]])"
            ]
          },
          "execution_count": 27,
          "metadata": {},
          "output_type": "execute_result"
        }
      ],
      "source": [
        "arr.repeat([2, 3], axis=0)\n",
        "arr.repeat([2, 3], axis=1)"
      ]
    },
    {
      "cell_type": "code",
      "execution_count": null,
      "id": "722e3328",
      "metadata": {
        "id": "722e3328",
        "outputId": "ec11619c-7d7c-47e0-c882-17ce7e934d92"
      },
      "outputs": [
        {
          "data": {
            "text/plain": [
              "array([[ 3.2489, -1.0212,  3.2489, -1.0212],\n",
              "       [-0.5771,  0.1241, -0.5771,  0.1241]])"
            ]
          },
          "execution_count": 28,
          "metadata": {},
          "output_type": "execute_result"
        }
      ],
      "source": [
        "arr\n",
        "np.tile(arr, 2)"
      ]
    },
    {
      "cell_type": "code",
      "execution_count": null,
      "id": "fbbeca8c",
      "metadata": {
        "id": "fbbeca8c"
      },
      "outputs": [],
      "source": [
        ""
      ]
    }
  ],
  "metadata": {
    "kernelspec": {
      "display_name": "Python 3 (ipykernel)",
      "language": "python",
      "name": "python3"
    },
    "language_info": {
      "codemirror_mode": {
        "name": "ipython",
        "version": 3
      },
      "file_extension": ".py",
      "mimetype": "text/x-python",
      "name": "python",
      "nbconvert_exporter": "python",
      "pygments_lexer": "ipython3",
      "version": "3.9.7"
    },
    "colab": {
      "name": "Numpy-Advanced.ipynb",
      "provenance": [],
      "include_colab_link": true
    }
  },
  "nbformat": 4,
  "nbformat_minor": 5
}