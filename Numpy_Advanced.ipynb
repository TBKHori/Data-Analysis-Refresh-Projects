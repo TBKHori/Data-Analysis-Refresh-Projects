{
  "cells": [
    {
      "cell_type": "markdown",
      "metadata": {
        "id": "view-in-github",
        "colab_type": "text"
      },
      "source": [
        "<a href=\"https://colab.research.google.com/github/TBKHori/Data-Analysis-Refresher-notes/blob/main/Numpy_Advanced.ipynb\" target=\"_parent\"><img src=\"https://colab.research.google.com/assets/colab-badge.svg\" alt=\"Open In Colab\"/></a>"
      ]
    },
    {
      "cell_type": "code",
      "execution_count": null,
      "id": "773ad6d4",
      "metadata": {
        "id": "773ad6d4"
      },
      "outputs": [],
      "source": [
        "import numpy as np\n",
        "import pandas as pd\n",
        "np.random.seed(12345)\n",
        "import matplotlib.pyplot as plt\n",
        "plt.rc('figure', figsize=(10, 6))\n",
        "PREVIOUS_MAX_ROWS = pd.options.display.max_rows\n",
        "pd.options.display.max_rows = 20\n",
        "np.set_printoptions(precision=4, suppress=True)"
      ]
    },
    {
      "cell_type": "markdown",
      "id": "02775ec0",
      "metadata": {
        "id": "02775ec0"
      },
      "source": [
        "ndarray Object Internals"
      ]
    },
    {
      "cell_type": "code",
      "execution_count": null,
      "id": "a1339f35",
      "metadata": {
        "id": "a1339f35",
        "outputId": "bd97ece9-d224-47c5-fccf-02677fcb3194"
      },
      "outputs": [
        {
          "data": {
            "text/plain": [
              "(10, 5)"
            ]
          },
          "execution_count": 8,
          "metadata": {},
          "output_type": "execute_result"
        }
      ],
      "source": [
        "np.ones((10, 5)).shape"
      ]
    },
    {
      "cell_type": "markdown",
      "id": "ce70597c",
      "metadata": {
        "id": "ce70597c"
      },
      "source": [
        "NumPy dtype Hierarchy"
      ]
    },
    {
      "cell_type": "code",
      "execution_count": null,
      "id": "9f575661",
      "metadata": {
        "id": "9f575661",
        "outputId": "8cb8192b-d770-4335-d5f7-e16364a5b390"
      },
      "outputs": [
        {
          "data": {
            "text/plain": [
              "(160, 40, 8)"
            ]
          },
          "execution_count": 9,
          "metadata": {},
          "output_type": "execute_result"
        }
      ],
      "source": [
        "np.ones((3, 4, 5), dtype=np.float64).strides"
      ]
    },
    {
      "cell_type": "code",
      "execution_count": null,
      "id": "ec52ac0a",
      "metadata": {
        "id": "ec52ac0a",
        "outputId": "1755e965-2e13-47e3-c0cd-08cc8aee87fe"
      },
      "outputs": [
        {
          "data": {
            "text/plain": [
              "True"
            ]
          },
          "execution_count": 10,
          "metadata": {},
          "output_type": "execute_result"
        }
      ],
      "source": [
        "ints = np.ones(10, dtype=np.uint16)\n",
        "floats = np.ones(10, dtype=np.float32)\n",
        "np.issubdtype(ints.dtype, np.integer)\n",
        "np.issubdtype(floats.dtype, np.floating)"
      ]
    },
    {
      "cell_type": "code",
      "execution_count": null,
      "id": "fe7b8436",
      "metadata": {
        "id": "fe7b8436",
        "outputId": "1a9f45f4-a265-40aa-e567-b404c9e5a9e5"
      },
      "outputs": [
        {
          "data": {
            "text/plain": [
              "[numpy.float64,\n",
              " numpy.floating,\n",
              " numpy.inexact,\n",
              " numpy.number,\n",
              " numpy.generic,\n",
              " float,\n",
              " object]"
            ]
          },
          "execution_count": 11,
          "metadata": {},
          "output_type": "execute_result"
        }
      ],
      "source": [
        "np.float64.mro()"
      ]
    },
    {
      "cell_type": "code",
      "execution_count": null,
      "id": "78a1eec2",
      "metadata": {
        "id": "78a1eec2",
        "outputId": "d03a64d2-d30f-4044-b10e-bad4c8b0e468"
      },
      "outputs": [
        {
          "data": {
            "text/plain": [
              "True"
            ]
          },
          "execution_count": 12,
          "metadata": {},
          "output_type": "execute_result"
        }
      ],
      "source": [
        "np.issubdtype(ints.dtype, np.number)"
      ]
    },
    {
      "cell_type": "markdown",
      "id": "edc62dc5",
      "metadata": {
        "id": "edc62dc5"
      },
      "source": [
        "Advanced Array Manipulation\n",
        "\n",
        "Reshaping Arrays"
      ]
    },
    {
      "cell_type": "code",
      "execution_count": null,
      "id": "dd25d3b5",
      "metadata": {
        "id": "dd25d3b5",
        "outputId": "62890cf6-e07c-4f8e-beee-106bb9b8cfd3"
      },
      "outputs": [
        {
          "data": {
            "text/plain": [
              "array([[0, 1],\n",
              "       [2, 3],\n",
              "       [4, 5],\n",
              "       [6, 7]])"
            ]
          },
          "execution_count": 13,
          "metadata": {},
          "output_type": "execute_result"
        }
      ],
      "source": [
        "arr = np.arange(8)\n",
        "arr\n",
        "arr.reshape((4, 2))"
      ]
    },
    {
      "cell_type": "code",
      "execution_count": null,
      "id": "fd1286ab",
      "metadata": {
        "id": "fd1286ab",
        "outputId": "b9e63f8b-13a5-4efb-925e-308b887860cc"
      },
      "outputs": [
        {
          "data": {
            "text/plain": [
              "array([[0, 1, 2, 3],\n",
              "       [4, 5, 6, 7]])"
            ]
          },
          "execution_count": 14,
          "metadata": {},
          "output_type": "execute_result"
        }
      ],
      "source": [
        "arr.reshape((4, 2)).reshape((2, 4))"
      ]
    },
    {
      "cell_type": "code",
      "execution_count": null,
      "id": "1be5b408",
      "metadata": {
        "id": "1be5b408",
        "outputId": "439db085-ffb2-4ab0-d401-61711daf094a"
      },
      "outputs": [
        {
          "data": {
            "text/plain": [
              "array([[ 0,  1,  2],\n",
              "       [ 3,  4,  5],\n",
              "       [ 6,  7,  8],\n",
              "       [ 9, 10, 11],\n",
              "       [12, 13, 14]])"
            ]
          },
          "execution_count": 16,
          "metadata": {},
          "output_type": "execute_result"
        }
      ],
      "source": [
        "arr = np.arange(15)\n",
        "arr.reshape((5, -1))"
      ]
    },
    {
      "cell_type": "code",
      "execution_count": null,
      "id": "656dad24",
      "metadata": {
        "id": "656dad24",
        "outputId": "761c8d0c-8df5-4762-aaff-59d41b1ad3f9"
      },
      "outputs": [
        {
          "data": {
            "text/plain": [
              "array([[ 0,  1,  2,  3,  4],\n",
              "       [ 5,  6,  7,  8,  9],\n",
              "       [10, 11, 12, 13, 14]])"
            ]
          },
          "execution_count": 17,
          "metadata": {},
          "output_type": "execute_result"
        }
      ],
      "source": [
        "other_arr = np.ones((3, 5))\n",
        "other_arr.shape\n",
        "arr.reshape(other_arr.shape)"
      ]
    },
    {
      "cell_type": "code",
      "execution_count": null,
      "id": "42eb9667",
      "metadata": {
        "id": "42eb9667",
        "outputId": "d5a90824-53ef-4c04-bf45-95ce724a487e"
      },
      "outputs": [
        {
          "data": {
            "text/plain": [
              "array([ 0,  1,  2,  3,  4,  5,  6,  7,  8,  9, 10, 11, 12, 13, 14])"
            ]
          },
          "execution_count": 18,
          "metadata": {},
          "output_type": "execute_result"
        }
      ],
      "source": [
        "arr = np.arange(15).reshape((5, 3))\n",
        "arr\n",
        "arr.ravel()"
      ]
    },
    {
      "cell_type": "code",
      "execution_count": null,
      "id": "b2b6510f",
      "metadata": {
        "id": "b2b6510f",
        "outputId": "62997724-6a3a-4ccd-a1de-6d6df33f3b31"
      },
      "outputs": [
        {
          "data": {
            "text/plain": [
              "array([ 0,  1,  2,  3,  4,  5,  6,  7,  8,  9, 10, 11, 12, 13, 14])"
            ]
          },
          "execution_count": 19,
          "metadata": {},
          "output_type": "execute_result"
        }
      ],
      "source": [
        "arr.flatten()"
      ]
    },
    {
      "cell_type": "markdown",
      "id": "27ddac4f",
      "metadata": {
        "id": "27ddac4f"
      },
      "source": [
        "Concatenating and Splitting Arrays"
      ]
    },
    {
      "cell_type": "code",
      "execution_count": null,
      "id": "d1aced35",
      "metadata": {
        "id": "d1aced35",
        "outputId": "375cbd98-b8eb-4403-c32e-9949b78c4833"
      },
      "outputs": [
        {
          "data": {
            "text/plain": [
              "array([ 0,  4,  8,  1,  5,  9,  2,  6, 10,  3,  7, 11])"
            ]
          },
          "execution_count": 20,
          "metadata": {},
          "output_type": "execute_result"
        }
      ],
      "source": [
        "arr = np.arange(12).reshape((3, 4))\n",
        "arr\n",
        "arr.ravel()\n",
        "arr.ravel('F')"
      ]
    },
    {
      "cell_type": "markdown",
      "id": "df52c7f3",
      "metadata": {
        "id": "df52c7f3"
      },
      "source": [
        "Concatenating and Splitting Arrays"
      ]
    },
    {
      "cell_type": "code",
      "execution_count": null,
      "id": "b8618e51",
      "metadata": {
        "id": "b8618e51",
        "outputId": "4bfbd54b-53ec-42b8-fb3f-6a990db615c3"
      },
      "outputs": [
        {
          "data": {
            "text/plain": [
              "array([[ 1,  2,  3,  7,  8,  9],\n",
              "       [ 4,  5,  6, 10, 11, 12]])"
            ]
          },
          "execution_count": 21,
          "metadata": {},
          "output_type": "execute_result"
        }
      ],
      "source": [
        "arr1 = np.array([[1, 2, 3], [4, 5, 6]])\n",
        "arr2 = np.array([[7, 8, 9], [10, 11, 12]])\n",
        "np.concatenate([arr1, arr2], axis=0)\n",
        "np.concatenate([arr1, arr2], axis=1)"
      ]
    },
    {
      "cell_type": "code",
      "execution_count": null,
      "id": "99c95caf",
      "metadata": {
        "id": "99c95caf",
        "outputId": "62e2d865-c46a-4cf1-d0b1-531a01c0650d"
      },
      "outputs": [
        {
          "data": {
            "text/plain": [
              "array([[ 1,  2,  3,  7,  8,  9],\n",
              "       [ 4,  5,  6, 10, 11, 12]])"
            ]
          },
          "execution_count": 22,
          "metadata": {},
          "output_type": "execute_result"
        }
      ],
      "source": [
        "np.vstack((arr1, arr2))\n",
        "np.hstack((arr1, arr2))"
      ]
    },
    {
      "cell_type": "code",
      "execution_count": null,
      "id": "4752a5f7",
      "metadata": {
        "id": "4752a5f7",
        "outputId": "70b522b9-998a-422e-ef60-70144c55d975"
      },
      "outputs": [
        {
          "data": {
            "text/plain": [
              "array([[-2.0016, -0.3718],\n",
              "       [ 1.669 , -0.4386]])"
            ]
          },
          "execution_count": 24,
          "metadata": {},
          "output_type": "execute_result"
        }
      ],
      "source": [
        "arr = np.random.randn(5, 2)\n",
        "arr\n",
        "first, second, third = np.split(arr, [1, 3])\n",
        "first\n",
        "second\n",
        "third"
      ]
    },
    {
      "cell_type": "markdown",
      "id": "6abe7f71",
      "metadata": {
        "id": "6abe7f71"
      },
      "source": [
        "Stacking helpers: r and c"
      ]
    },
    {
      "cell_type": "code",
      "execution_count": null,
      "id": "6b5dc172",
      "metadata": {
        "id": "6b5dc172",
        "outputId": "86d8dc13-2081-4c7a-8f21-eb53c843e472"
      },
      "outputs": [
        {
          "data": {
            "text/plain": [
              "array([[ 0.    ,  1.    ,  0.    ],\n",
              "       [ 2.    ,  3.    ,  1.    ],\n",
              "       [ 4.    ,  5.    ,  2.    ],\n",
              "       [-0.5397,  0.477 ,  3.    ],\n",
              "       [ 3.2489, -1.0212,  4.    ],\n",
              "       [-0.5771,  0.1241,  5.    ]])"
            ]
          },
          "execution_count": 25,
          "metadata": {},
          "output_type": "execute_result"
        }
      ],
      "source": [
        "arr = np.arange(6)\n",
        "arr1 = arr.reshape((3, 2))\n",
        "arr2 = np.random.randn(3, 2)\n",
        "np.r_[arr1, arr2]\n",
        "np.c_[np.r_[arr1, arr2], arr]"
      ]
    },
    {
      "cell_type": "code",
      "execution_count": null,
      "id": "766dee07",
      "metadata": {
        "id": "766dee07",
        "outputId": "07d318a8-4a32-43c6-9639-174e99e036df"
      },
      "outputs": [
        {
          "data": {
            "text/plain": [
              "array([[  1, -10],\n",
              "       [  2,  -9],\n",
              "       [  3,  -8],\n",
              "       [  4,  -7],\n",
              "       [  5,  -6]])"
            ]
          },
          "execution_count": 26,
          "metadata": {},
          "output_type": "execute_result"
        }
      ],
      "source": [
        "np.c_[1:6, -10:-5]"
      ]
    },
    {
      "cell_type": "markdown",
      "id": "1c75f392",
      "metadata": {
        "id": "1c75f392"
      },
      "source": [
        "Repeating Elements: tile and repeat"
      ]
    },
    {
      "cell_type": "code",
      "execution_count": null,
      "id": "2cc1f0b8",
      "metadata": {
        "id": "2cc1f0b8",
        "outputId": "39eb3559-fd7d-4080-f664-2210f11bf10b"
      },
      "outputs": [
        {
          "data": {
            "text/plain": [
              "array([0, 0, 0, 1, 1, 1, 2, 2, 2])"
            ]
          },
          "execution_count": 27,
          "metadata": {},
          "output_type": "execute_result"
        }
      ],
      "source": [
        "arr = np.arange(3)\n",
        "arr\n",
        "arr.repeat(3)"
      ]
    },
    {
      "cell_type": "code",
      "execution_count": null,
      "id": "09c14c3e",
      "metadata": {
        "id": "09c14c3e",
        "outputId": "a2571d1d-4afe-4829-e308-d6df6ccfd030"
      },
      "outputs": [
        {
          "data": {
            "text/plain": [
              "array([0, 0, 1, 1, 1, 2, 2, 2, 2])"
            ]
          },
          "execution_count": 28,
          "metadata": {},
          "output_type": "execute_result"
        }
      ],
      "source": [
        "arr.repeat([2, 3, 4])"
      ]
    },
    {
      "cell_type": "code",
      "execution_count": null,
      "id": "a0685c14",
      "metadata": {
        "id": "a0685c14",
        "outputId": "5f231620-291f-4e89-a901-3bb0d01d0817"
      },
      "outputs": [
        {
          "data": {
            "text/plain": [
              "array([[0.3026, 0.5238],\n",
              "       [0.3026, 0.5238],\n",
              "       [0.0009, 1.3438],\n",
              "       [0.0009, 1.3438]])"
            ]
          },
          "execution_count": 29,
          "metadata": {},
          "output_type": "execute_result"
        }
      ],
      "source": [
        "arr = np.random.randn(2, 2)\n",
        "arr\n",
        "arr.repeat(2, axis=0)"
      ]
    },
    {
      "cell_type": "code",
      "execution_count": null,
      "id": "6acf74c5",
      "metadata": {
        "id": "6acf74c5",
        "outputId": "89e51cf2-1ac0-4eb4-a84b-bd0eb89c1f21"
      },
      "outputs": [
        {
          "data": {
            "text/plain": [
              "array([[0.3026, 0.3026, 0.5238, 0.5238, 0.5238],\n",
              "       [0.0009, 0.0009, 1.3438, 1.3438, 1.3438]])"
            ]
          },
          "execution_count": 30,
          "metadata": {},
          "output_type": "execute_result"
        }
      ],
      "source": [
        "arr.repeat([2, 3], axis=0)\n",
        "arr.repeat([2, 3], axis=1)"
      ]
    },
    {
      "cell_type": "code",
      "execution_count": null,
      "id": "722e3328",
      "metadata": {
        "id": "722e3328",
        "outputId": "fb945411-bd02-4828-bafe-ddef0137ea5a"
      },
      "outputs": [
        {
          "data": {
            "text/plain": [
              "array([[0.3026, 0.5238, 0.3026, 0.5238],\n",
              "       [0.0009, 1.3438, 0.0009, 1.3438]])"
            ]
          },
          "execution_count": 31,
          "metadata": {},
          "output_type": "execute_result"
        }
      ],
      "source": [
        "arr\n",
        "np.tile(arr, 2)"
      ]
    },
    {
      "cell_type": "code",
      "execution_count": null,
      "id": "fbbeca8c",
      "metadata": {
        "id": "fbbeca8c",
        "outputId": "e847635c-a8da-494b-80d1-1e59ad112312"
      },
      "outputs": [
        {
          "data": {
            "text/plain": [
              "array([[0.3026, 0.5238, 0.3026, 0.5238],\n",
              "       [0.0009, 1.3438, 0.0009, 1.3438],\n",
              "       [0.3026, 0.5238, 0.3026, 0.5238],\n",
              "       [0.0009, 1.3438, 0.0009, 1.3438],\n",
              "       [0.3026, 0.5238, 0.3026, 0.5238],\n",
              "       [0.0009, 1.3438, 0.0009, 1.3438]])"
            ]
          },
          "execution_count": 32,
          "metadata": {},
          "output_type": "execute_result"
        }
      ],
      "source": [
        "arr\n",
        "np.tile(arr, (2, 1))\n",
        "np.tile(arr, (3, 2))"
      ]
    },
    {
      "cell_type": "code",
      "execution_count": null,
      "id": "9bd6b216",
      "metadata": {
        "id": "9bd6b216",
        "outputId": "cf4b2661-eb9d-4632-c136-8a1e3aa928e8"
      },
      "outputs": [
        {
          "data": {
            "text/plain": [
              "array([700, 100, 200, 600])"
            ]
          },
          "execution_count": 33,
          "metadata": {},
          "output_type": "execute_result"
        }
      ],
      "source": [
        "arr = np.arange(10) * 100\n",
        "inds = [7, 1, 2, 6]\n",
        "arr[inds]"
      ]
    },
    {
      "cell_type": "code",
      "execution_count": null,
      "id": "c2c4fa6d",
      "metadata": {
        "id": "c2c4fa6d",
        "outputId": "00a739a9-b635-4443-ab37-c50670cd519b"
      },
      "outputs": [
        {
          "data": {
            "text/plain": [
              "array([  0,  41,  42, 300, 400, 500,  43,  40, 800, 900])"
            ]
          },
          "execution_count": 34,
          "metadata": {},
          "output_type": "execute_result"
        }
      ],
      "source": [
        "arr.take(inds)\n",
        "arr.put(inds, 42)\n",
        "arr\n",
        "arr.put(inds, [40, 41, 42, 43])\n",
        "arr"
      ]
    },
    {
      "cell_type": "code",
      "execution_count": null,
      "id": "c5060c35",
      "metadata": {
        "id": "c5060c35",
        "outputId": "9714abff-37bd-462c-a89c-99512292451e"
      },
      "outputs": [
        {
          "data": {
            "text/plain": [
              "array([[-2.3702, -0.7135, -2.3702, -0.8312],\n",
              "       [-1.2659, -0.8608, -1.2659,  0.5601]])"
            ]
          },
          "execution_count": 35,
          "metadata": {},
          "output_type": "execute_result"
        }
      ],
      "source": [
        "inds = [2, 0, 2, 1]\n",
        "arr = np.random.randn(2, 4)\n",
        "arr\n",
        "arr.take(inds, axis=1)"
      ]
    },
    {
      "cell_type": "markdown",
      "id": "370dfab3",
      "metadata": {
        "id": "370dfab3"
      },
      "source": [
        "Broadcasting"
      ]
    },
    {
      "cell_type": "code",
      "execution_count": null,
      "id": "776132a6",
      "metadata": {
        "id": "776132a6",
        "outputId": "57f2ed4a-fe00-451c-d605-ba69290ed90d"
      },
      "outputs": [
        {
          "data": {
            "text/plain": [
              "array([ 0,  4,  8, 12, 16])"
            ]
          },
          "execution_count": 36,
          "metadata": {},
          "output_type": "execute_result"
        }
      ],
      "source": [
        "arr = np.arange(5)\n",
        "arr\n",
        "arr * 4"
      ]
    },
    {
      "cell_type": "code",
      "execution_count": null,
      "id": "37d7989f",
      "metadata": {
        "id": "37d7989f",
        "outputId": "26775f9b-2fdc-41b2-8320-51d1fe09c765"
      },
      "outputs": [
        {
          "data": {
            "text/plain": [
              "array([ 0.,  0., -0.])"
            ]
          },
          "execution_count": 37,
          "metadata": {},
          "output_type": "execute_result"
        }
      ],
      "source": [
        "arr = np.random.randn(4, 3)\n",
        "arr.mean(0)\n",
        "demeaned = arr - arr.mean(0)\n",
        "demeaned\n",
        "demeaned.mean(0)"
      ]
    },
    {
      "cell_type": "code",
      "execution_count": null,
      "id": "ca5d3aaa",
      "metadata": {
        "id": "ca5d3aaa",
        "outputId": "299a5534-b42c-4e0f-af68-f72a65dd2997"
      },
      "outputs": [
        {
          "data": {
            "text/plain": [
              "array([ 0.,  0., -0.,  0.])"
            ]
          },
          "execution_count": 38,
          "metadata": {},
          "output_type": "execute_result"
        }
      ],
      "source": [
        "arr\n",
        "row_means = arr.mean(1)\n",
        "row_means.shape\n",
        "row_means.reshape((4, 1))\n",
        "demeaned = arr - row_means.reshape((4, 1))\n",
        "demeaned.mean(1)"
      ]
    },
    {
      "cell_type": "markdown",
      "id": "b8637591",
      "metadata": {
        "id": "b8637591"
      },
      "source": [
        "Broadcasting Over Other Axes"
      ]
    },
    {
      "cell_type": "code",
      "execution_count": null,
      "id": "912b97a9",
      "metadata": {
        "id": "912b97a9",
        "outputId": "a1fe88e0-5526-4c9a-9ee6-65d4f5209001"
      },
      "outputs": [
        {
          "ename": "ValueError",
          "evalue": "operands could not be broadcast together with shapes (4,3) (4,) ",
          "output_type": "error",
          "traceback": [
            "\u001b[1;31m---------------------------------------------------------------------------\u001b[0m",
            "\u001b[1;31mValueError\u001b[0m                                Traceback (most recent call last)",
            "\u001b[1;32m~\\AppData\\Local\\Temp/ipykernel_19040/1713987831.py\u001b[0m in \u001b[0;36m<module>\u001b[1;34m\u001b[0m\n\u001b[1;32m----> 1\u001b[1;33m \u001b[0marr\u001b[0m \u001b[1;33m-\u001b[0m \u001b[0marr\u001b[0m\u001b[1;33m.\u001b[0m\u001b[0mmean\u001b[0m\u001b[1;33m(\u001b[0m\u001b[1;36m1\u001b[0m\u001b[1;33m)\u001b[0m\u001b[1;33m\u001b[0m\u001b[1;33m\u001b[0m\u001b[0m\n\u001b[0m",
            "\u001b[1;31mValueError\u001b[0m: operands could not be broadcast together with shapes (4,3) (4,) "
          ]
        }
      ],
      "source": [
        "arr - arr.mean(1)"
      ]
    },
    {
      "cell_type": "code",
      "execution_count": null,
      "id": "efdf2024",
      "metadata": {
        "id": "efdf2024",
        "outputId": "50ce0cfa-68d6-43c3-8c2d-616eacb6b224"
      },
      "outputs": [
        {
          "data": {
            "text/plain": [
              "array([[-0.0335,  1.3629, -1.3294],\n",
              "       [ 0.7045, -0.6379, -0.0666],\n",
              "       [-1.0928,  0.5006,  0.5922],\n",
              "       [-1.0629,  0.0222,  1.0407]])"
            ]
          },
          "execution_count": 40,
          "metadata": {},
          "output_type": "execute_result"
        }
      ],
      "source": [
        "arr - arr.mean(1).reshape((4, 1))"
      ]
    },
    {
      "cell_type": "code",
      "execution_count": null,
      "id": "4b0faaaf",
      "metadata": {
        "id": "4b0faaaf",
        "outputId": "0779e2c1-172a-44c2-d1b6-52f03da0371d"
      },
      "outputs": [
        {
          "data": {
            "text/plain": [
              "array([[ 0.0699,  0.2467, -0.0119]])"
            ]
          },
          "execution_count": 41,
          "metadata": {},
          "output_type": "execute_result"
        }
      ],
      "source": [
        "arr = np.zeros((4, 4))\n",
        "arr_3d = arr[:, np.newaxis, :]\n",
        "arr_3d.shape\n",
        "arr_1d = np.random.normal(size=3)\n",
        "arr_1d[:, np.newaxis]\n",
        "arr_1d[np.newaxis, :]"
      ]
    },
    {
      "cell_type": "code",
      "execution_count": null,
      "id": "11fddb95",
      "metadata": {
        "id": "11fddb95",
        "outputId": "f11f6d69-bfa2-4d1f-9ea0-b24cd10812d2"
      },
      "outputs": [
        {
          "data": {
            "text/plain": [
              "array([[-0., -0.,  0.,  0.],\n",
              "       [-0.,  0.,  0.,  0.],\n",
              "       [-0., -0., -0.,  0.]])"
            ]
          },
          "execution_count": 42,
          "metadata": {},
          "output_type": "execute_result"
        }
      ],
      "source": [
        "arr = np.random.randn(3, 4, 5)\n",
        "depth_means = arr.mean(2)\n",
        "depth_means\n",
        "depth_means.shape\n",
        "demeaned = arr - depth_means[:, :, np.newaxis]\n",
        "demeaned.mean(2)"
      ]
    },
    {
      "cell_type": "code",
      "execution_count": null,
      "id": "2030f666",
      "metadata": {
        "id": "2030f666"
      },
      "outputs": [],
      "source": [
        "def demean_axis(arr, axis=0):\n",
        "    means = arr.mean(axis)\n"
      ]
    },
    {
      "cell_type": "markdown",
      "id": "eb3ff32a",
      "metadata": {
        "id": "eb3ff32a"
      },
      "source": [
        "# This generalizes things like [:, :, np.newaxis] to N dimensions\n",
        "    indexer = [slice(None)] * arr.ndim\n",
        "    indexer[axis] = np.newaxis\n",
        "    return arr - means[indexer]"
      ]
    },
    {
      "cell_type": "markdown",
      "id": "92b1b1ce",
      "metadata": {
        "id": "92b1b1ce"
      },
      "source": [
        "Setting Array Values by Broadcasting"
      ]
    },
    {
      "cell_type": "code",
      "execution_count": null,
      "id": "8cbecfe4",
      "metadata": {
        "id": "8cbecfe4",
        "outputId": "90cf5c70-b74c-4052-9694-dc7866f9a123"
      },
      "outputs": [
        {
          "data": {
            "text/plain": [
              "array([[5., 5., 5.],\n",
              "       [5., 5., 5.],\n",
              "       [5., 5., 5.],\n",
              "       [5., 5., 5.]])"
            ]
          },
          "execution_count": 44,
          "metadata": {},
          "output_type": "execute_result"
        }
      ],
      "source": [
        "arr = np.zeros((4, 3))\n",
        "arr[:] = 5\n",
        "arr"
      ]
    },
    {
      "cell_type": "code",
      "execution_count": null,
      "id": "db9d0f3c",
      "metadata": {
        "id": "db9d0f3c",
        "outputId": "11f64be9-add9-477d-ab2e-5a2d439fbbee"
      },
      "outputs": [
        {
          "data": {
            "text/plain": [
              "array([[-1.37 , -1.37 , -1.37 ],\n",
              "       [ 0.509,  0.509,  0.509],\n",
              "       [ 0.44 ,  0.44 ,  0.44 ],\n",
              "       [ 1.6  ,  1.6  ,  1.6  ]])"
            ]
          },
          "execution_count": 45,
          "metadata": {},
          "output_type": "execute_result"
        }
      ],
      "source": [
        "col = np.array([1.28, -0.42, 0.44, 1.6])\n",
        "arr[:] = col[:, np.newaxis]\n",
        "arr\n",
        "arr[:2] = [[-1.37], [0.509]]\n",
        "arr"
      ]
    },
    {
      "cell_type": "markdown",
      "id": "89322e59",
      "metadata": {
        "id": "89322e59"
      },
      "source": [
        "Advanced ufunc Usage"
      ]
    },
    {
      "cell_type": "markdown",
      "id": "fcbdb026",
      "metadata": {
        "id": "fcbdb026"
      },
      "source": [
        "ufunc Instance Methods"
      ]
    },
    {
      "cell_type": "code",
      "execution_count": null,
      "id": "44bc532e",
      "metadata": {
        "id": "44bc532e",
        "outputId": "33de741f-6180-44ad-dce2-3f64321e4351"
      },
      "outputs": [
        {
          "data": {
            "text/plain": [
              "45"
            ]
          },
          "execution_count": 46,
          "metadata": {},
          "output_type": "execute_result"
        }
      ],
      "source": [
        "arr = np.arange(10)\n",
        "np.add.reduce(arr)\n",
        "arr.sum()"
      ]
    },
    {
      "cell_type": "code",
      "execution_count": null,
      "id": "c33a0757",
      "metadata": {
        "id": "c33a0757",
        "outputId": "18e7be4c-659d-4f73-e4f9-da4bf34e8c12"
      },
      "outputs": [
        {
          "data": {
            "text/plain": [
              "array([ True, False,  True, False,  True])"
            ]
          },
          "execution_count": 47,
          "metadata": {},
          "output_type": "execute_result"
        }
      ],
      "source": [
        "np.random.seed(12346)  # for reproducibility\n",
        "arr = np.random.randn(5, 5)\n",
        "arr[::2].sort(1) # sort a few rows\n",
        "arr[:, :-1] < arr[:, 1:]\n",
        "np.logical_and.reduce(arr[:, :-1] < arr[:, 1:], axis=1)"
      ]
    },
    {
      "cell_type": "code",
      "execution_count": null,
      "id": "f9099cef",
      "metadata": {
        "id": "f9099cef",
        "outputId": "1f061a5a-7ec7-49ec-fef4-43f16dd7fcf1"
      },
      "outputs": [
        {
          "data": {
            "text/plain": [
              "array([[ 0,  1,  3,  6, 10],\n",
              "       [ 5, 11, 18, 26, 35],\n",
              "       [10, 21, 33, 46, 60]], dtype=int32)"
            ]
          },
          "execution_count": 48,
          "metadata": {},
          "output_type": "execute_result"
        }
      ],
      "source": [
        "arr = np.arange(15).reshape((3, 5))\n",
        "np.add.accumulate(arr, axis=1)"
      ]
    },
    {
      "cell_type": "code",
      "execution_count": null,
      "id": "a05b8bfc",
      "metadata": {
        "id": "a05b8bfc",
        "outputId": "45cb564f-acae-4ae3-d14a-023bcd01d8be"
      },
      "outputs": [
        {
          "data": {
            "text/plain": [
              "array([[0, 0, 0, 0, 0],\n",
              "       [0, 1, 2, 3, 4],\n",
              "       [0, 1, 2, 3, 4],\n",
              "       [0, 2, 4, 6, 8],\n",
              "       [0, 2, 4, 6, 8]])"
            ]
          },
          "execution_count": 49,
          "metadata": {},
          "output_type": "execute_result"
        }
      ],
      "source": [
        "arr = np.arange(3).repeat([1, 2, 2])\n",
        "arr\n",
        "np.multiply.outer(arr, np.arange(5))"
      ]
    },
    {
      "cell_type": "code",
      "execution_count": null,
      "id": "5047e2de",
      "metadata": {
        "id": "5047e2de",
        "outputId": "169dde92-8cdd-4525-dc6e-05fc7d4e5083"
      },
      "outputs": [
        {
          "data": {
            "text/plain": [
              "(3, 4, 5)"
            ]
          },
          "execution_count": 50,
          "metadata": {},
          "output_type": "execute_result"
        }
      ],
      "source": [
        "x, y = np.random.randn(3, 4), np.random.randn(5)\n",
        "result = np.subtract.outer(x, y)\n",
        "result.shape"
      ]
    },
    {
      "cell_type": "code",
      "execution_count": null,
      "id": "576ec5dd",
      "metadata": {
        "id": "576ec5dd",
        "outputId": "f1cb5a8e-0a57-4225-94a9-fa1e7a93f261"
      },
      "outputs": [
        {
          "data": {
            "text/plain": [
              "array([10, 18, 17], dtype=int32)"
            ]
          },
          "execution_count": 51,
          "metadata": {},
          "output_type": "execute_result"
        }
      ],
      "source": [
        "arr = np.arange(10)\n",
        "np.add.reduceat(arr, [0, 5, 8])"
      ]
    },
    {
      "cell_type": "code",
      "execution_count": null,
      "id": "9524ccff",
      "metadata": {
        "id": "9524ccff",
        "outputId": "7d8bd738-b962-479a-dac0-2eccf9b44c59"
      },
      "outputs": [
        {
          "data": {
            "text/plain": [
              "array([[ 0,  0,  0],\n",
              "       [ 1,  5,  4],\n",
              "       [ 2, 10,  8],\n",
              "       [ 3, 15, 12]], dtype=int32)"
            ]
          },
          "execution_count": 52,
          "metadata": {},
          "output_type": "execute_result"
        }
      ],
      "source": [
        "arr = np.multiply.outer(np.arange(4), np.arange(5))\n",
        "arr\n",
        "np.add.reduceat(arr, [0, 2, 4], axis=1)"
      ]
    },
    {
      "cell_type": "markdown",
      "id": "8bab44d0",
      "metadata": {
        "id": "8bab44d0"
      },
      "source": [
        "Writing New ufuncs in Python"
      ]
    },
    {
      "cell_type": "code",
      "execution_count": null,
      "id": "8c2eb9db",
      "metadata": {
        "id": "8c2eb9db",
        "outputId": "b4b63035-ff53-48e8-86f1-eb5412d250e6"
      },
      "outputs": [
        {
          "data": {
            "text/plain": [
              "array([0, 2, 4, 6, 8, 10, 12, 14], dtype=object)"
            ]
          },
          "execution_count": 53,
          "metadata": {},
          "output_type": "execute_result"
        }
      ],
      "source": [
        "def add_elements(x, y):\n",
        "    return x + y\n",
        "add_them = np.frompyfunc(add_elements, 2, 1)\n",
        "add_them(np.arange(8), np.arange(8))"
      ]
    },
    {
      "cell_type": "code",
      "execution_count": null,
      "id": "a45bb600",
      "metadata": {
        "id": "a45bb600",
        "outputId": "23a73e67-a8dd-430d-e993-ec420da6faee"
      },
      "outputs": [
        {
          "data": {
            "text/plain": [
              "array([ 0.,  2.,  4.,  6.,  8., 10., 12., 14.])"
            ]
          },
          "execution_count": 54,
          "metadata": {},
          "output_type": "execute_result"
        }
      ],
      "source": [
        "add_them = np.vectorize(add_elements, otypes=[np.float64])\n",
        "add_them(np.arange(8), np.arange(8))"
      ]
    },
    {
      "cell_type": "code",
      "execution_count": null,
      "id": "1f1139dc",
      "metadata": {
        "id": "1f1139dc",
        "outputId": "25a212a5-65da-43aa-fbda-0967b1579c5f"
      },
      "outputs": [
        {
          "name": "stdout",
          "output_type": "stream",
          "text": [
            "2.76 ms ± 724 µs per loop (mean ± std. dev. of 7 runs, 100 loops each)\n",
            "5.94 µs ± 437 ns per loop (mean ± std. dev. of 7 runs, 100000 loops each)\n"
          ]
        }
      ],
      "source": [
        "arr = np.random.randn(10000)\n",
        "%timeit add_them(arr, arr)\n",
        "%timeit np.add(arr, arr)"
      ]
    },
    {
      "cell_type": "markdown",
      "id": "5f78d432",
      "metadata": {
        "id": "5f78d432"
      },
      "source": [
        "Structured and Record Arrays"
      ]
    },
    {
      "cell_type": "code",
      "execution_count": null,
      "id": "c0369d40",
      "metadata": {
        "id": "c0369d40",
        "outputId": "01178e75-8bd9-41d3-9119-bb28d682c961"
      },
      "outputs": [
        {
          "data": {
            "text/plain": [
              "array([(1.5   ,  6), (3.1416, -2)], dtype=[('x', '<f8'), ('y', '<i4')])"
            ]
          },
          "execution_count": 57,
          "metadata": {},
          "output_type": "execute_result"
        }
      ],
      "source": [
        "dtype = [('x', np.float64), ('y', np.int32)]\n",
        "sarr = np.array([(1.5, 6), (np.pi, -2)], dtype=dtype)\n",
        "sarr"
      ]
    },
    {
      "cell_type": "code",
      "execution_count": null,
      "id": "17901d37",
      "metadata": {
        "id": "17901d37",
        "outputId": "79e73af2-50f3-4d74-8f22-06d3cc29537f"
      },
      "outputs": [
        {
          "data": {
            "text/plain": [
              "6"
            ]
          },
          "execution_count": 58,
          "metadata": {},
          "output_type": "execute_result"
        }
      ],
      "source": [
        "sarr[0]\n",
        "sarr[0]['y']"
      ]
    },
    {
      "cell_type": "code",
      "execution_count": null,
      "id": "7844a252",
      "metadata": {
        "id": "7844a252",
        "outputId": "8ae73b58-c27c-448c-d9e1-b745bcbb69e2"
      },
      "outputs": [
        {
          "data": {
            "text/plain": [
              "array([1.5   , 3.1416])"
            ]
          },
          "execution_count": 59,
          "metadata": {},
          "output_type": "execute_result"
        }
      ],
      "source": [
        "sarr['x']"
      ]
    },
    {
      "cell_type": "markdown",
      "id": "e6659b90",
      "metadata": {
        "id": "e6659b90"
      },
      "source": [
        "Nested dtypes and Multidimensional Fields"
      ]
    },
    {
      "cell_type": "code",
      "execution_count": null,
      "id": "5ab86972",
      "metadata": {
        "id": "5ab86972",
        "outputId": "19d6c052-d63c-43e2-d6d8-a0bb2785f6f1"
      },
      "outputs": [
        {
          "data": {
            "text/plain": [
              "array([([0, 0, 0], 0), ([0, 0, 0], 0), ([0, 0, 0], 0), ([0, 0, 0], 0)],\n",
              "      dtype=[('x', '<i8', (3,)), ('y', '<i4')])"
            ]
          },
          "execution_count": 60,
          "metadata": {},
          "output_type": "execute_result"
        }
      ],
      "source": [
        "dtype = [('x', np.int64, 3), ('y', np.int32)]\n",
        "arr = np.zeros(4, dtype=dtype)\n",
        "arr"
      ]
    },
    {
      "cell_type": "code",
      "execution_count": null,
      "id": "ab555680",
      "metadata": {
        "id": "ab555680",
        "outputId": "dc7cecd3-f61f-495e-cde9-bf2c2ae5ce85"
      },
      "outputs": [
        {
          "data": {
            "text/plain": [
              "array([0, 0, 0], dtype=int64)"
            ]
          },
          "execution_count": 61,
          "metadata": {},
          "output_type": "execute_result"
        }
      ],
      "source": [
        "arr[0]['x']"
      ]
    },
    {
      "cell_type": "code",
      "execution_count": null,
      "id": "d924d97d",
      "metadata": {
        "id": "d924d97d",
        "outputId": "f769afb2-e73e-4803-92df-a2607939c82a"
      },
      "outputs": [
        {
          "data": {
            "text/plain": [
              "array([[0, 0, 0],\n",
              "       [0, 0, 0],\n",
              "       [0, 0, 0],\n",
              "       [0, 0, 0]], dtype=int64)"
            ]
          },
          "execution_count": 62,
          "metadata": {},
          "output_type": "execute_result"
        }
      ],
      "source": [
        "arr['x']"
      ]
    },
    {
      "cell_type": "code",
      "execution_count": null,
      "id": "e9a4ed55",
      "metadata": {
        "id": "e9a4ed55",
        "outputId": "1caf8847-b1c6-4cc0-e02e-4d95ea05baab"
      },
      "outputs": [
        {
          "data": {
            "text/plain": [
              "array([1., 3.])"
            ]
          },
          "execution_count": 63,
          "metadata": {},
          "output_type": "execute_result"
        }
      ],
      "source": [
        "dtype = [('x', [('a', 'f8'), ('b', 'f4')]), ('y', np.int32)]\n",
        "data = np.array([((1, 2), 5), ((3, 4), 6)], dtype=dtype)\n",
        "data['x']\n",
        "data['y']\n",
        "data['x']['a']"
      ]
    },
    {
      "cell_type": "markdown",
      "id": "e3a04be5",
      "metadata": {
        "id": "e3a04be5"
      },
      "source": [
        "Why Use Structured Arrays?"
      ]
    },
    {
      "cell_type": "markdown",
      "id": "1ab9e48b",
      "metadata": {
        "id": "1ab9e48b"
      },
      "source": [
        "More About Sorting"
      ]
    },
    {
      "cell_type": "code",
      "execution_count": null,
      "id": "b3877e47",
      "metadata": {
        "id": "b3877e47",
        "outputId": "0a1e2eb6-66c3-4eb3-fc14-9bc0ee901f1f"
      },
      "outputs": [
        {
          "data": {
            "text/plain": [
              "array([-1.082 ,  0.3759,  0.8014,  1.1397,  1.2888,  1.8413])"
            ]
          },
          "execution_count": 64,
          "metadata": {},
          "output_type": "execute_result"
        }
      ],
      "source": [
        "arr = np.random.randn(6)\n",
        "arr.sort()\n",
        "arr"
      ]
    },
    {
      "cell_type": "code",
      "execution_count": null,
      "id": "008ce863",
      "metadata": {
        "id": "008ce863",
        "outputId": "1a0ec6eb-2547-4c17-e399-0b3f556b75cb"
      },
      "outputs": [
        {
          "data": {
            "text/plain": [
              "array([[-1.0111, -1.4711,  0.8705, -0.0847, -1.1329],\n",
              "       [-0.3318, -0.3436,  2.1714,  0.1234, -0.0189],\n",
              "       [ 0.1773,  0.7424,  0.8548,  1.038 , -0.329 ]])"
            ]
          },
          "execution_count": 65,
          "metadata": {},
          "output_type": "execute_result"
        }
      ],
      "source": [
        "arr = np.random.randn(3, 5)\n",
        "arr\n",
        "arr[:, 0].sort()  # Sort first column values in-place\n",
        "arr"
      ]
    },
    {
      "cell_type": "code",
      "execution_count": null,
      "id": "64412773",
      "metadata": {
        "id": "64412773",
        "outputId": "b8556874-7ff0-4618-c238-17008a72f485"
      },
      "outputs": [
        {
          "data": {
            "text/plain": [
              "array([-1.1181, -0.2415, -2.0051,  0.7379, -1.0614])"
            ]
          },
          "execution_count": 66,
          "metadata": {},
          "output_type": "execute_result"
        }
      ],
      "source": [
        "arr = np.random.randn(5)\n",
        "arr\n",
        "np.sort(arr)\n",
        "arr"
      ]
    },
    {
      "cell_type": "code",
      "execution_count": null,
      "id": "31c6ac8b",
      "metadata": {
        "id": "31c6ac8b",
        "outputId": "12f80b3b-f139-450b-89c9-dc841e8645d9"
      },
      "outputs": [
        {
          "data": {
            "text/plain": [
              "array([[-0.2682, -0.1872,  0.5955,  0.9111,  1.3389],\n",
              "       [-0.5168, -0.3215, -0.1989,  1.0054,  1.1925],\n",
              "       [-1.7638, -0.2222, -0.2171,  0.3969,  0.6071]])"
            ]
          },
          "execution_count": 67,
          "metadata": {},
          "output_type": "execute_result"
        }
      ],
      "source": [
        "arr = np.random.randn(3, 5)\n",
        "arr\n",
        "arr.sort(axis=1)\n",
        "arr"
      ]
    },
    {
      "cell_type": "code",
      "execution_count": null,
      "id": "5e42ebb6",
      "metadata": {
        "id": "5e42ebb6",
        "outputId": "1a7e6e5a-6151-49cb-9732-05f9bb579b65"
      },
      "outputs": [
        {
          "data": {
            "text/plain": [
              "array([[ 1.3389,  0.9111,  0.5955, -0.1872, -0.2682],\n",
              "       [ 1.1925,  1.0054, -0.1989, -0.3215, -0.5168],\n",
              "       [ 0.6071,  0.3969, -0.2171, -0.2222, -1.7638]])"
            ]
          },
          "execution_count": 68,
          "metadata": {},
          "output_type": "execute_result"
        }
      ],
      "source": [
        "arr[:, ::-1]"
      ]
    },
    {
      "cell_type": "markdown",
      "id": "5d685a76",
      "metadata": {
        "id": "5d685a76"
      },
      "source": [
        "Indirect Sorts: argsort and lexsort"
      ]
    },
    {
      "cell_type": "code",
      "execution_count": null,
      "id": "ce0abc2d",
      "metadata": {
        "id": "ce0abc2d",
        "outputId": "b1afe0db-2246-47cd-9d2b-a1732b058481"
      },
      "outputs": [
        {
          "data": {
            "text/plain": [
              "array([0, 1, 2, 3, 5])"
            ]
          },
          "execution_count": 69,
          "metadata": {},
          "output_type": "execute_result"
        }
      ],
      "source": [
        "values = np.array([5, 0, 1, 3, 2])\n",
        "indexer = values.argsort()\n",
        "indexer\n",
        "values[indexer]"
      ]
    },
    {
      "cell_type": "code",
      "execution_count": null,
      "id": "ea5ba04b",
      "metadata": {
        "id": "ea5ba04b",
        "outputId": "2f9bcf77-9dae-4271-ba70-6d189c5164a0"
      },
      "outputs": [
        {
          "data": {
            "text/plain": [
              "array([[ 0.    ,  1.    ,  2.    ,  3.    ,  5.    ],\n",
              "       [-0.1378,  2.1777,  0.8356, -0.4728, -0.3636],\n",
              "       [ 0.2316,  0.728 ,  1.9956, -1.3918, -0.2089]])"
            ]
          },
          "execution_count": 70,
          "metadata": {},
          "output_type": "execute_result"
        }
      ],
      "source": [
        "arr = np.random.randn(3, 5)\n",
        "arr[0] = values\n",
        "arr\n",
        "arr[:, arr[0].argsort()]"
      ]
    },
    {
      "cell_type": "code",
      "execution_count": null,
      "id": "a3d804ed",
      "metadata": {
        "id": "a3d804ed",
        "outputId": "590a9bee-bc4c-4a51-a639-45c3a316fa0b"
      },
      "outputs": [
        {
          "data": {
            "text/plain": [
              "<zip at 0x17ba7404f40>"
            ]
          },
          "execution_count": 71,
          "metadata": {},
          "output_type": "execute_result"
        }
      ],
      "source": [
        "first_name = np.array(['Bob', 'Jane', 'Steve', 'Bill', 'Barbara'])\n",
        "last_name = np.array(['Kamau', 'Wairimu', 'Mbugua', 'Otieno', 'Akinyi'])\n",
        "sorter = np.lexsort((first_name, last_name))\n",
        "sorter\n",
        "zip(last_name[sorter], first_name[sorter])"
      ]
    },
    {
      "cell_type": "code",
      "execution_count": null,
      "id": "8cf227e3",
      "metadata": {
        "id": "8cf227e3",
        "outputId": "6ff6383e-11b5-4321-aa11-a15459a45476"
      },
      "outputs": [
        {
          "data": {
            "text/plain": [
              "array(['1:first', '1:second', '1:third', '2:first', '2:second'],\n",
              "      dtype='<U8')"
            ]
          },
          "execution_count": 72,
          "metadata": {},
          "output_type": "execute_result"
        }
      ],
      "source": [
        "values = np.array(['2:first', '2:second', '1:first', '1:second',\n",
        "                   '1:third'])\n",
        "key = np.array([2, 2, 1, 1, 1])\n",
        "indexer = key.argsort(kind='mergesort')\n",
        "indexer\n",
        "values.take(indexer)"
      ]
    },
    {
      "cell_type": "markdown",
      "id": "35085d76",
      "metadata": {
        "id": "35085d76"
      },
      "source": [
        "Partially Sorting Arrays"
      ]
    },
    {
      "cell_type": "code",
      "execution_count": null,
      "id": "b845c036",
      "metadata": {
        "id": "b845c036",
        "outputId": "7340aa73-f7f9-41d3-fe65-66ad0908a375"
      },
      "outputs": [
        {
          "data": {
            "text/plain": [
              "array([-2.0016, -1.2962, -0.5557, -0.5194, -0.3718, -0.4386, -0.2047,\n",
              "        0.2817,  0.769 ,  0.4789,  1.0072,  0.0929,  0.275 ,  0.2289,\n",
              "        1.3529,  0.8864,  1.3934,  1.9658,  1.669 ,  1.2464])"
            ]
          },
          "execution_count": 73,
          "metadata": {},
          "output_type": "execute_result"
        }
      ],
      "source": [
        "np.random.seed(12345)\n",
        "arr = np.random.randn(20)\n",
        "arr\n",
        "np.partition(arr, 3)"
      ]
    },
    {
      "cell_type": "code",
      "execution_count": null,
      "id": "811714af",
      "metadata": {
        "id": "811714af",
        "outputId": "c2ef0386-5266-4a35-ad9e-bd2d89946900"
      },
      "outputs": [
        {
          "data": {
            "text/plain": [
              "array([-2.0016, -1.2962, -0.5557, -0.5194, -0.3718, -0.4386, -0.2047,\n",
              "        0.2817,  0.769 ,  0.4789,  1.0072,  0.0929,  0.275 ,  0.2289,\n",
              "        1.3529,  0.8864,  1.3934,  1.9658,  1.669 ,  1.2464])"
            ]
          },
          "execution_count": 74,
          "metadata": {},
          "output_type": "execute_result"
        }
      ],
      "source": [
        "indices = np.argpartition(arr, 3)\n",
        "indices\n",
        "arr.take(indices)"
      ]
    },
    {
      "cell_type": "markdown",
      "id": "eb7c48ec",
      "metadata": {
        "id": "eb7c48ec"
      },
      "source": [
        "numpy.searchsorted: Finding Elements in a Sorted Array"
      ]
    },
    {
      "cell_type": "code",
      "execution_count": null,
      "id": "81995948",
      "metadata": {
        "id": "81995948",
        "outputId": "52727bde-9a7d-4622-fea2-ab6a6051f465"
      },
      "outputs": [
        {
          "data": {
            "text/plain": [
              "3"
            ]
          },
          "execution_count": 75,
          "metadata": {},
          "output_type": "execute_result"
        }
      ],
      "source": [
        "arr = np.array([0, 1, 7, 12, 15])\n",
        "arr.searchsorted(9)"
      ]
    },
    {
      "cell_type": "code",
      "execution_count": null,
      "id": "d08af389",
      "metadata": {
        "id": "d08af389",
        "outputId": "dee9bc43-33aa-4996-a1d6-89d82cddd75b"
      },
      "outputs": [
        {
          "data": {
            "text/plain": [
              "array([0, 3, 3, 5], dtype=int64)"
            ]
          },
          "execution_count": 76,
          "metadata": {},
          "output_type": "execute_result"
        }
      ],
      "source": [
        "arr.searchsorted([0, 8, 11, 16])"
      ]
    },
    {
      "cell_type": "code",
      "execution_count": null,
      "id": "b899e6f2",
      "metadata": {
        "id": "b899e6f2",
        "outputId": "6909cc2a-f906-48d6-e8a2-e5397c91df74"
      },
      "outputs": [
        {
          "data": {
            "text/plain": [
              "array([3, 7], dtype=int64)"
            ]
          },
          "execution_count": 77,
          "metadata": {},
          "output_type": "execute_result"
        }
      ],
      "source": [
        "arr = np.array([0, 0, 0, 1, 1, 1, 1])\n",
        "arr.searchsorted([0, 1])\n",
        "arr.searchsorted([0, 1], side='right')"
      ]
    },
    {
      "cell_type": "code",
      "execution_count": null,
      "id": "4079616a",
      "metadata": {
        "id": "4079616a",
        "outputId": "88092549-5376-456e-a66f-80599b523da7"
      },
      "outputs": [
        {
          "data": {
            "text/plain": [
              "array([9940., 6768., 7908., 1709.,  268., 8003., 9037.,  246., 4917.,\n",
              "       5262., 5963.,  519., 8950., 7282., 8183., 5002., 8101.,  959.,\n",
              "       2189., 2587., 4681., 4593., 7095., 1780., 5314., 1677., 7688.,\n",
              "       9281., 6094., 1501., 4896., 3773., 8486., 9110., 3838., 3154.,\n",
              "       5683., 1878., 1258., 6875., 7996., 5735., 9732., 6340., 8884.,\n",
              "       4954., 3516., 7142., 5039., 2256.])"
            ]
          },
          "execution_count": 78,
          "metadata": {},
          "output_type": "execute_result"
        }
      ],
      "source": [
        "data = np.floor(np.random.uniform(0, 10000, size=50))\n",
        "bins = np.array([0, 100, 1000, 5000, 10000])\n",
        "data"
      ]
    },
    {
      "cell_type": "code",
      "execution_count": null,
      "id": "3a501ea6",
      "metadata": {
        "id": "3a501ea6",
        "outputId": "c5ac37af-a250-4bcf-ecca-f1b9c25ad1ec"
      },
      "outputs": [
        {
          "data": {
            "text/plain": [
              "array([4, 4, 4, 3, 2, 4, 4, 2, 3, 4, 4, 2, 4, 4, 4, 4, 4, 2, 3, 3, 3, 3,\n",
              "       4, 3, 4, 3, 4, 4, 4, 3, 3, 3, 4, 4, 3, 3, 4, 3, 3, 4, 4, 4, 4, 4,\n",
              "       4, 3, 3, 4, 4, 3], dtype=int64)"
            ]
          },
          "execution_count": 79,
          "metadata": {},
          "output_type": "execute_result"
        }
      ],
      "source": [
        "labels = bins.searchsorted(data)\n",
        "labels"
      ]
    },
    {
      "cell_type": "code",
      "execution_count": null,
      "id": "d38cd4f7",
      "metadata": {
        "id": "d38cd4f7",
        "outputId": "5bf153fa-ab64-4b9b-b23f-6e0c76085f5f"
      },
      "outputs": [
        {
          "data": {
            "text/plain": [
              "2     498.000000\n",
              "3    3064.277778\n",
              "4    7389.035714\n",
              "dtype: float64"
            ]
          },
          "execution_count": 80,
          "metadata": {},
          "output_type": "execute_result"
        }
      ],
      "source": [
        "pd.Series(data).groupby(labels).mean()"
      ]
    },
    {
      "cell_type": "markdown",
      "id": "ba747b03",
      "metadata": {
        "id": "ba747b03"
      },
      "source": [
        "Writing Fast NumPy Functions with Numba"
      ]
    },
    {
      "cell_type": "code",
      "execution_count": null,
      "id": "56c2cd46",
      "metadata": {
        "id": "56c2cd46"
      },
      "outputs": [],
      "source": [
        "import numpy as np\n",
        "\n",
        "def mean_distance(x, y):\n",
        "    nx = len(x)\n",
        "    result = 0.0\n",
        "    count = 0\n",
        "    for i in range(nx):\n",
        "        result += x[i] - y[i]\n",
        "        count += 1\n",
        "    return result / count"
      ]
    },
    {
      "cell_type": "code",
      "execution_count": null,
      "id": "302a6acf",
      "metadata": {
        "id": "302a6acf",
        "outputId": "fdcdad85-7d11-40fd-cff9-5f079d333066"
      },
      "outputs": [
        {
          "name": "stdout",
          "output_type": "stream",
          "text": [
            "6.5 s ± 2.03 s per loop (mean ± std. dev. of 7 runs, 1 loop each)\n"
          ]
        }
      ],
      "source": [
        "x = np.random.randn(10000000)\n",
        "y = np.random.randn(10000000)\n",
        "%timeit mean_distance(x, y)"
      ]
    },
    {
      "cell_type": "code",
      "execution_count": null,
      "id": "5bb2a714",
      "metadata": {
        "id": "5bb2a714",
        "outputId": "3c3f253c-2aca-48f5-e424-2c5da7084abe"
      },
      "outputs": [
        {
          "name": "stdout",
          "output_type": "stream",
          "text": [
            "108 ms ± 62.4 ms per loop (mean ± std. dev. of 7 runs, 10 loops each)\n"
          ]
        }
      ],
      "source": [
        "%timeit (x - y).mean()"
      ]
    },
    {
      "cell_type": "code",
      "execution_count": null,
      "id": "bd6b84b6",
      "metadata": {
        "id": "bd6b84b6"
      },
      "outputs": [],
      "source": [
        "import numba as nb"
      ]
    },
    {
      "cell_type": "code",
      "execution_count": null,
      "id": "0361c686",
      "metadata": {
        "id": "0361c686"
      },
      "outputs": [],
      "source": [
        "numba_mean_distance = nb.jit(mean_distance)\n",
        "@nb.jit\n",
        "def mean_distance(x, y):\n",
        "    nx = len(x)\n",
        "    result = 0.0\n",
        "    count = 0\n",
        "    for i in range(nx):\n",
        "        result += x[i] - y[i]\n",
        "        count += 1\n",
        "    return result / count"
      ]
    },
    {
      "cell_type": "code",
      "execution_count": null,
      "id": "b2b00775",
      "metadata": {
        "id": "b2b00775",
        "outputId": "3184ce39-fa2f-4265-f42f-0f49fa905073"
      },
      "outputs": [
        {
          "name": "stdout",
          "output_type": "stream",
          "text": [
            "20.1 ms ± 842 µs per loop (mean ± std. dev. of 7 runs, 1 loop each)\n"
          ]
        }
      ],
      "source": [
        "%timeit numba_mean_distance(x, y)"
      ]
    },
    {
      "cell_type": "code",
      "execution_count": null,
      "id": "4a32257c",
      "metadata": {
        "id": "4a32257c"
      },
      "outputs": [],
      "source": [
        "from numba import float64, njit"
      ]
    },
    {
      "cell_type": "code",
      "execution_count": null,
      "id": "31e4310b",
      "metadata": {
        "id": "31e4310b"
      },
      "outputs": [],
      "source": [
        "@njit(float64(float64[:], float64[:]))\n",
        "def mean_distance(x, y):\n",
        "    return (x - y).mean()"
      ]
    },
    {
      "cell_type": "markdown",
      "id": "e5e68f86",
      "metadata": {
        "id": "e5e68f86"
      },
      "source": [
        "Creating Custom numpy.ufunc Objects with Numba"
      ]
    },
    {
      "cell_type": "code",
      "execution_count": null,
      "id": "6357dc60",
      "metadata": {
        "id": "6357dc60"
      },
      "outputs": [],
      "source": [
        "from numba import vectorize\n",
        "\n",
        "@vectorize\n",
        "def nb_add(x, y):\n",
        "    return x + y"
      ]
    },
    {
      "cell_type": "code",
      "execution_count": null,
      "id": "28257808",
      "metadata": {
        "id": "28257808"
      },
      "outputs": [],
      "source": [
        "x = np.arange(10)"
      ]
    },
    {
      "cell_type": "code",
      "execution_count": null,
      "id": "ddc6fe98",
      "metadata": {
        "id": "ddc6fe98",
        "outputId": "445b1573-b2b0-4a30-ec1d-ef20be2671e8"
      },
      "outputs": [
        {
          "data": {
            "text/plain": [
              "array([ 0,  2,  4,  6,  8, 10, 12, 14, 16, 18], dtype=int64)"
            ]
          },
          "execution_count": 92,
          "metadata": {},
          "output_type": "execute_result"
        }
      ],
      "source": [
        "nb_add(x, x)"
      ]
    },
    {
      "cell_type": "code",
      "execution_count": null,
      "id": "ce050ae9",
      "metadata": {
        "id": "ce050ae9",
        "outputId": "a16f19a1-4239-472f-f266-8c9eb84aeeb3"
      },
      "outputs": [
        {
          "ename": "ValueError",
          "evalue": "could not find a matching type for nb_add.accumulate, requested type has type code 'l'",
          "output_type": "error",
          "traceback": [
            "\u001b[1;31m---------------------------------------------------------------------------\u001b[0m",
            "\u001b[1;31mValueError\u001b[0m                                Traceback (most recent call last)",
            "\u001b[1;32m~\\AppData\\Local\\Temp/ipykernel_19040/3913269433.py\u001b[0m in \u001b[0;36m<module>\u001b[1;34m\u001b[0m\n\u001b[1;32m----> 1\u001b[1;33m \u001b[0mnb_add\u001b[0m\u001b[1;33m.\u001b[0m\u001b[0maccumulate\u001b[0m\u001b[1;33m(\u001b[0m\u001b[0mx\u001b[0m\u001b[1;33m,\u001b[0m \u001b[1;36m0\u001b[0m\u001b[1;33m)\u001b[0m\u001b[1;33m\u001b[0m\u001b[1;33m\u001b[0m\u001b[0m\n\u001b[0m",
            "\u001b[1;31mValueError\u001b[0m: could not find a matching type for nb_add.accumulate, requested type has type code 'l'"
          ]
        }
      ],
      "source": [
        "nb_add.accumulate(x, 0)"
      ]
    },
    {
      "cell_type": "markdown",
      "id": "d78dbc99",
      "metadata": {
        "id": "d78dbc99"
      },
      "source": [
        "Advanced Array Input and Output"
      ]
    },
    {
      "cell_type": "markdown",
      "id": "db2b2063",
      "metadata": {
        "id": "db2b2063"
      },
      "source": [
        "Memory-Mapped Files"
      ]
    },
    {
      "cell_type": "code",
      "execution_count": null,
      "id": "3b3048ee",
      "metadata": {
        "id": "3b3048ee",
        "outputId": "e9f2ad8b-c2a9-482e-cbd4-7f36f0088501"
      },
      "outputs": [
        {
          "data": {
            "text/plain": [
              "memmap([[0., 0., 0., ..., 0., 0., 0.],\n",
              "        [0., 0., 0., ..., 0., 0., 0.],\n",
              "        [0., 0., 0., ..., 0., 0., 0.],\n",
              "        ...,\n",
              "        [0., 0., 0., ..., 0., 0., 0.],\n",
              "        [0., 0., 0., ..., 0., 0., 0.],\n",
              "        [0., 0., 0., ..., 0., 0., 0.]])"
            ]
          },
          "execution_count": 94,
          "metadata": {},
          "output_type": "execute_result"
        }
      ],
      "source": [
        "mmap = np.memmap('mymmap', dtype='float64', mode='w+',\n",
        "                 shape=(10000, 10000))\n",
        "mmap"
      ]
    },
    {
      "cell_type": "code",
      "execution_count": null,
      "id": "7f01d739",
      "metadata": {
        "id": "7f01d739"
      },
      "outputs": [],
      "source": [
        "section = mmap[:5]"
      ]
    },
    {
      "cell_type": "code",
      "execution_count": null,
      "id": "ebee9715",
      "metadata": {
        "id": "ebee9715"
      },
      "outputs": [],
      "source": [
        "section[:] = np.random.randn(5, 10000)\n",
        "mmap.flush()\n",
        "mmap\n",
        "del mmap"
      ]
    },
    {
      "cell_type": "code",
      "execution_count": null,
      "id": "23d358dc",
      "metadata": {
        "id": "23d358dc",
        "outputId": "dbca6fe7-a37d-43f0-cd2a-c477e8c845cd"
      },
      "outputs": [
        {
          "data": {
            "text/plain": [
              "memmap([[ 1.3714,  0.9313,  0.6057, ..., -0.6212, -0.4678,  0.4787],\n",
              "        [ 0.423 ,  0.8306,  0.6998, ...,  1.2883,  0.5886, -1.4276],\n",
              "        [ 2.1601, -1.2462,  2.4447, ...,  0.8687,  0.2802,  2.1301],\n",
              "        ...,\n",
              "        [ 0.    ,  0.    ,  0.    , ...,  0.    ,  0.    ,  0.    ],\n",
              "        [ 0.    ,  0.    ,  0.    , ...,  0.    ,  0.    ,  0.    ],\n",
              "        [ 0.    ,  0.    ,  0.    , ...,  0.    ,  0.    ,  0.    ]])"
            ]
          },
          "execution_count": 97,
          "metadata": {},
          "output_type": "execute_result"
        }
      ],
      "source": [
        "mmap = np.memmap('mymmap', dtype='float64', shape=(10000, 10000))\n",
        "mmap"
      ]
    },
    {
      "cell_type": "code",
      "execution_count": null,
      "id": "cd6a12bd",
      "metadata": {
        "id": "cd6a12bd",
        "outputId": "2c9d2c7a-4af1-4423-aac6-af33baccc1a1"
      },
      "outputs": [
        {
          "name": "stderr",
          "output_type": "stream",
          "text": [
            "'rm' is not recognized as an internal or external command,\n",
            "operable program or batch file.\n"
          ]
        }
      ],
      "source": [
        "%xdel mmap\n",
        "!rm mymmap"
      ]
    },
    {
      "cell_type": "markdown",
      "id": "f5bb63ad",
      "metadata": {
        "id": "f5bb63ad"
      },
      "source": [
        "HDF5 and Other Array Storage Options"
      ]
    },
    {
      "cell_type": "markdown",
      "id": "d420f496",
      "metadata": {
        "id": "d420f496"
      },
      "source": [
        "Performance Tips"
      ]
    },
    {
      "cell_type": "markdown",
      "id": "1504ba5b",
      "metadata": {
        "id": "1504ba5b"
      },
      "source": [
        "The Importance of Contiguous Memory"
      ]
    },
    {
      "cell_type": "code",
      "execution_count": null,
      "id": "3a429b0d",
      "metadata": {
        "id": "3a429b0d",
        "outputId": "38921e00-ab9d-4eec-82a2-da4c5da8d7ee"
      },
      "outputs": [
        {
          "data": {
            "text/plain": [
              "True"
            ]
          },
          "execution_count": 99,
          "metadata": {},
          "output_type": "execute_result"
        }
      ],
      "source": [
        "arr_c = np.ones((1000, 1000), order='C')\n",
        "arr_f = np.ones((1000, 1000), order='F')\n",
        "arr_c.flags\n",
        "arr_f.flags\n",
        "arr_f.flags.f_contiguous"
      ]
    },
    {
      "cell_type": "code",
      "execution_count": null,
      "id": "5f77c594",
      "metadata": {
        "id": "5f77c594",
        "outputId": "9ee5cabb-75a6-4a83-dadd-a0b4d22202fa"
      },
      "outputs": [
        {
          "name": "stdout",
          "output_type": "stream",
          "text": [
            "1.56 ms ± 156 µs per loop (mean ± std. dev. of 7 runs, 1000 loops each)\n",
            "910 µs ± 85.4 µs per loop (mean ± std. dev. of 7 runs, 1000 loops each)\n"
          ]
        }
      ],
      "source": [
        "%timeit arr_c.sum(1)\n",
        "%timeit arr_f.sum(1)"
      ]
    },
    {
      "cell_type": "code",
      "execution_count": null,
      "id": "8ca44a79",
      "metadata": {
        "id": "8ca44a79",
        "outputId": "1651f800-582a-4bbd-fd91-7f5d2f5eecf8"
      },
      "outputs": [
        {
          "data": {
            "text/plain": [
              "  C_CONTIGUOUS : True\n",
              "  F_CONTIGUOUS : False\n",
              "  OWNDATA : True\n",
              "  WRITEABLE : True\n",
              "  ALIGNED : True\n",
              "  WRITEBACKIFCOPY : False\n",
              "  UPDATEIFCOPY : False"
            ]
          },
          "execution_count": 101,
          "metadata": {},
          "output_type": "execute_result"
        }
      ],
      "source": [
        "arr_f.copy('C').flags"
      ]
    },
    {
      "cell_type": "code",
      "execution_count": null,
      "id": "6ee0b321",
      "metadata": {
        "id": "6ee0b321",
        "outputId": "a5f1e918-e2e1-4c16-aa9f-27b1478b9c1e"
      },
      "outputs": [
        {
          "data": {
            "text/plain": [
              "  C_CONTIGUOUS : False\n",
              "  F_CONTIGUOUS : False\n",
              "  OWNDATA : False\n",
              "  WRITEABLE : True\n",
              "  ALIGNED : True\n",
              "  WRITEBACKIFCOPY : False\n",
              "  UPDATEIFCOPY : False"
            ]
          },
          "execution_count": 102,
          "metadata": {},
          "output_type": "execute_result"
        }
      ],
      "source": [
        "arr_c[:50].flags.contiguous\n",
        "arr_c[:, :50].flags"
      ]
    },
    {
      "cell_type": "code",
      "execution_count": null,
      "id": "fb7c3456",
      "metadata": {
        "id": "fb7c3456"
      },
      "outputs": [],
      "source": [
        "%xdel arr_c\n",
        "%xdel arr_f"
      ]
    },
    {
      "cell_type": "code",
      "execution_count": null,
      "id": "6528098f",
      "metadata": {
        "id": "6528098f"
      },
      "outputs": [],
      "source": [
        "pd.options.display.max_rows = PREVIOUS_MAX_ROWS"
      ]
    },
    {
      "cell_type": "code",
      "execution_count": null,
      "id": "f92947d4",
      "metadata": {
        "id": "f92947d4"
      },
      "outputs": [],
      "source": [
        ""
      ]
    }
  ],
  "metadata": {
    "interpreter": {
      "hash": "7679c2132d3f6ce38c9df14d554b39c06862b36a4e6689c81f9ae15bd0911d7d"
    },
    "kernelspec": {
      "display_name": "Python 3.9.7 ('base')",
      "language": "python",
      "name": "python3"
    },
    "language_info": {
      "codemirror_mode": {
        "name": "ipython",
        "version": 3
      },
      "file_extension": ".py",
      "mimetype": "text/x-python",
      "name": "python",
      "nbconvert_exporter": "python",
      "pygments_lexer": "ipython3",
      "version": "3.9.7"
    },
    "colab": {
      "name": "Numpy-Advanced.ipynb",
      "provenance": [],
      "include_colab_link": true
    }
  },
  "nbformat": 4,
  "nbformat_minor": 5
}