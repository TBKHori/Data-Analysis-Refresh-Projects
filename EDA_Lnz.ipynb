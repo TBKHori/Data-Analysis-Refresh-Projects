{
  "cells": [
    {
      "cell_type": "markdown",
      "metadata": {
        "id": "view-in-github",
        "colab_type": "text"
      },
      "source": [
        "<a href=\"https://colab.research.google.com/github/TBKHori/Data-Analysis-Refresher-notes/blob/main/EDA_Lnz.ipynb\" target=\"_parent\"><img src=\"https://colab.research.google.com/assets/colab-badge.svg\" alt=\"Open In Colab\"/></a>"
      ]
    },
    {
      "cell_type": "markdown",
      "metadata": {
        "id": "T-dEl9_KTnV-"
      },
      "source": [
        "Introspection"
      ]
    },
    {
      "cell_type": "code",
      "execution_count": null,
      "metadata": {
        "id": "5zcHqYoTTnWD"
      },
      "outputs": [],
      "source": [
        "b = [1, 2, 3]\n"
      ]
    },
    {
      "cell_type": "code",
      "execution_count": null,
      "metadata": {
        "id": "RZnlzwnhTnWE",
        "outputId": "784cdd15-6f66-4246-d677-f8727d4330b4"
      },
      "outputs": [
        {
          "name": "stdout",
          "output_type": "stream",
          "text": [
            "\u001b[1;31mType:\u001b[0m        list\n",
            "\u001b[1;31mString form:\u001b[0m [1, 2, 3]\n",
            "\u001b[1;31mLength:\u001b[0m      3\n",
            "\u001b[1;31mDocstring:\u001b[0m  \n",
            "Built-in mutable sequence.\n",
            "\n",
            "If no argument is given, the constructor creates a new empty list.\n",
            "The argument must be an iterable if specified.\n"
          ]
        }
      ],
      "source": [
        "b?"
      ]
    },
    {
      "cell_type": "code",
      "execution_count": null,
      "metadata": {
        "id": "f0szvNQUTnWG",
        "outputId": "83ddd24a-bdc6-4372-c013-5a0a20691629"
      },
      "outputs": [
        {
          "name": "stdout",
          "output_type": "stream",
          "text": [
            "\u001b[1;31mDocstring:\u001b[0m\n",
            "print(value, ..., sep=' ', end='\\n', file=sys.stdout, flush=False)\n",
            "\n",
            "Prints the values to a stream, or to sys.stdout by default.\n",
            "Optional keyword arguments:\n",
            "file:  a file-like object (stream); defaults to the current sys.stdout.\n",
            "sep:   string inserted between values, default a space.\n",
            "end:   string appended after the last value, default a newline.\n",
            "flush: whether to forcibly flush the stream.\n",
            "\u001b[1;31mType:\u001b[0m      builtin_function_or_method\n"
          ]
        }
      ],
      "source": [
        "print?"
      ]
    },
    {
      "cell_type": "code",
      "execution_count": null,
      "metadata": {
        "id": "wx2B9uWpTnWG"
      },
      "outputs": [],
      "source": [
        "def add_numbers(a, b):\n",
        "    \"\"\"\n",
        "    Add two numbers together\n",
        "\n",
        "    Returns\n",
        "    -------\n",
        "    the_sum : type of arguments\n",
        "    \"\"\"\n",
        "    return a + b"
      ]
    },
    {
      "cell_type": "code",
      "execution_count": null,
      "metadata": {
        "id": "iuPQDc8FTnWH",
        "outputId": "c2c4e3be-52f0-4b57-ca86-178d492be48a"
      },
      "outputs": [
        {
          "name": "stdout",
          "output_type": "stream",
          "text": [
            "\u001b[1;31mSignature:\u001b[0m \u001b[0madd_numbers\u001b[0m\u001b[1;33m(\u001b[0m\u001b[0ma\u001b[0m\u001b[1;33m,\u001b[0m \u001b[0mb\u001b[0m\u001b[1;33m)\u001b[0m\u001b[1;33m\u001b[0m\u001b[1;33m\u001b[0m\u001b[0m\n",
            "\u001b[1;31mDocstring:\u001b[0m\n",
            "Add two numbers together\n",
            "\n",
            "Returns\n",
            "-------\n",
            "the_sum : type of arguments\n",
            "\u001b[1;31mFile:\u001b[0m      c:\\users\\lenovo\\appdata\\local\\temp\\ipykernel_22472\\1411870314.py\n",
            "\u001b[1;31mType:\u001b[0m      function\n"
          ]
        }
      ],
      "source": [
        "add_numbers?"
      ]
    },
    {
      "cell_type": "code",
      "execution_count": null,
      "metadata": {
        "id": "LmQPytG6TnWH",
        "outputId": "6a3e093d-d60e-42d1-d2a6-eee195a39df2"
      },
      "outputs": [
        {
          "name": "stdout",
          "output_type": "stream",
          "text": [
            "\u001b[1;31mSignature:\u001b[0m \u001b[0madd_numbers\u001b[0m\u001b[1;33m(\u001b[0m\u001b[0ma\u001b[0m\u001b[1;33m,\u001b[0m \u001b[0mb\u001b[0m\u001b[1;33m)\u001b[0m\u001b[1;33m\u001b[0m\u001b[1;33m\u001b[0m\u001b[0m\n",
            "\u001b[1;31mDocstring:\u001b[0m\n",
            "Add two numbers together\n",
            "\n",
            "Returns\n",
            "-------\n",
            "the_sum : type of arguments\n",
            "\u001b[1;31mFile:\u001b[0m      c:\\users\\lenovo\\appdata\\local\\temp\\ipykernel_22472\\1411870314.py\n",
            "\u001b[1;31mType:\u001b[0m      function\n"
          ]
        }
      ],
      "source": [
        "add_numbers?"
      ]
    },
    {
      "cell_type": "code",
      "execution_count": null,
      "metadata": {
        "id": "GjDMxwJBTnWI",
        "outputId": "a1ad3306-aea8-4c60-a3a3-20bb31b649dd"
      },
      "outputs": [
        {
          "name": "stdout",
          "output_type": "stream",
          "text": []
        }
      ],
      "source": [
        "np.*load*?"
      ]
    },
    {
      "cell_type": "code",
      "execution_count": null,
      "metadata": {
        "id": "J-wQ27ZgTnWJ"
      },
      "outputs": [],
      "source": [
        "def f(x, y, z):\n",
        "    return (x + y) / z\n",
        "\n",
        "a = 5\n",
        "b = 6\n",
        "c = 7.5\n"
      ]
    },
    {
      "cell_type": "code",
      "execution_count": null,
      "metadata": {
        "id": "xY9YUIjaTnWJ",
        "outputId": "98ab7c00-d843-4bdd-b941-6e07a855d689"
      },
      "outputs": [
        {
          "ename": "Exception",
          "evalue": "File `'ipython_script_test.py'` not found.",
          "output_type": "error",
          "traceback": [
            "\u001b[1;31m---------------------------------------------------------------------------\u001b[0m",
            "\u001b[1;31mOSError\u001b[0m                                   Traceback (most recent call last)",
            "\u001b[1;32mc:\\Users\\LENOVO\\anaconda3\\lib\\site-packages\\IPython\\core\\magics\\execution.py\u001b[0m in \u001b[0;36mrun\u001b[1;34m(self, parameter_s, runner, file_finder)\u001b[0m\n\u001b[0;32m    702\u001b[0m             \u001b[0mfpath\u001b[0m \u001b[1;33m=\u001b[0m \u001b[0marg_lst\u001b[0m\u001b[1;33m[\u001b[0m\u001b[1;36m0\u001b[0m\u001b[1;33m]\u001b[0m\u001b[1;33m\u001b[0m\u001b[1;33m\u001b[0m\u001b[0m\n\u001b[1;32m--> 703\u001b[1;33m             \u001b[0mfilename\u001b[0m \u001b[1;33m=\u001b[0m \u001b[0mfile_finder\u001b[0m\u001b[1;33m(\u001b[0m\u001b[0mfpath\u001b[0m\u001b[1;33m)\u001b[0m\u001b[1;33m\u001b[0m\u001b[1;33m\u001b[0m\u001b[0m\n\u001b[0m\u001b[0;32m    704\u001b[0m         \u001b[1;32mexcept\u001b[0m \u001b[0mIndexError\u001b[0m\u001b[1;33m:\u001b[0m\u001b[1;33m\u001b[0m\u001b[1;33m\u001b[0m\u001b[0m\n",
            "\u001b[1;32mc:\\Users\\LENOVO\\anaconda3\\lib\\site-packages\\IPython\\utils\\path.py\u001b[0m in \u001b[0;36mget_py_filename\u001b[1;34m(name, force_win32)\u001b[0m\n\u001b[0;32m    108\u001b[0m     \u001b[1;32melse\u001b[0m\u001b[1;33m:\u001b[0m\u001b[1;33m\u001b[0m\u001b[1;33m\u001b[0m\u001b[0m\n\u001b[1;32m--> 109\u001b[1;33m         \u001b[1;32mraise\u001b[0m \u001b[0mIOError\u001b[0m\u001b[1;33m(\u001b[0m\u001b[1;34m'File `%r` not found.'\u001b[0m \u001b[1;33m%\u001b[0m \u001b[0mname\u001b[0m\u001b[1;33m)\u001b[0m\u001b[1;33m\u001b[0m\u001b[1;33m\u001b[0m\u001b[0m\n\u001b[0m\u001b[0;32m    110\u001b[0m \u001b[1;33m\u001b[0m\u001b[0m\n",
            "\u001b[1;31mOSError\u001b[0m: File `'ipython_script_test.py'` not found.",
            "\nDuring handling of the above exception, another exception occurred:\n",
            "\u001b[1;31mException\u001b[0m                                 Traceback (most recent call last)",
            "\u001b[1;32m~\\AppData\\Local\\Temp/ipykernel_22472/2494371340.py\u001b[0m in \u001b[0;36m<module>\u001b[1;34m\u001b[0m\n\u001b[1;32m----> 1\u001b[1;33m \u001b[0mget_ipython\u001b[0m\u001b[1;33m(\u001b[0m\u001b[1;33m)\u001b[0m\u001b[1;33m.\u001b[0m\u001b[0mrun_line_magic\u001b[0m\u001b[1;33m(\u001b[0m\u001b[1;34m'run'\u001b[0m\u001b[1;33m,\u001b[0m \u001b[1;34m'ipython_script_test.py'\u001b[0m\u001b[1;33m)\u001b[0m\u001b[1;33m\u001b[0m\u001b[1;33m\u001b[0m\u001b[0m\n\u001b[0m",
            "\u001b[1;32mc:\\Users\\LENOVO\\anaconda3\\lib\\site-packages\\IPython\\core\\interactiveshell.py\u001b[0m in \u001b[0;36mrun_line_magic\u001b[1;34m(self, magic_name, line, _stack_depth)\u001b[0m\n\u001b[0;32m   2349\u001b[0m                 \u001b[0mkwargs\u001b[0m\u001b[1;33m[\u001b[0m\u001b[1;34m'local_ns'\u001b[0m\u001b[1;33m]\u001b[0m \u001b[1;33m=\u001b[0m \u001b[0mself\u001b[0m\u001b[1;33m.\u001b[0m\u001b[0mget_local_scope\u001b[0m\u001b[1;33m(\u001b[0m\u001b[0mstack_depth\u001b[0m\u001b[1;33m)\u001b[0m\u001b[1;33m\u001b[0m\u001b[1;33m\u001b[0m\u001b[0m\n\u001b[0;32m   2350\u001b[0m             \u001b[1;32mwith\u001b[0m \u001b[0mself\u001b[0m\u001b[1;33m.\u001b[0m\u001b[0mbuiltin_trap\u001b[0m\u001b[1;33m:\u001b[0m\u001b[1;33m\u001b[0m\u001b[1;33m\u001b[0m\u001b[0m\n\u001b[1;32m-> 2351\u001b[1;33m                 \u001b[0mresult\u001b[0m \u001b[1;33m=\u001b[0m \u001b[0mfn\u001b[0m\u001b[1;33m(\u001b[0m\u001b[1;33m*\u001b[0m\u001b[0margs\u001b[0m\u001b[1;33m,\u001b[0m \u001b[1;33m**\u001b[0m\u001b[0mkwargs\u001b[0m\u001b[1;33m)\u001b[0m\u001b[1;33m\u001b[0m\u001b[1;33m\u001b[0m\u001b[0m\n\u001b[0m\u001b[0;32m   2352\u001b[0m             \u001b[1;32mreturn\u001b[0m \u001b[0mresult\u001b[0m\u001b[1;33m\u001b[0m\u001b[1;33m\u001b[0m\u001b[0m\n\u001b[0;32m   2353\u001b[0m \u001b[1;33m\u001b[0m\u001b[0m\n",
            "\u001b[1;32mc:\\Users\\LENOVO\\anaconda3\\lib\\site-packages\\decorator.py\u001b[0m in \u001b[0;36mfun\u001b[1;34m(*args, **kw)\u001b[0m\n\u001b[0;32m    230\u001b[0m             \u001b[1;32mif\u001b[0m \u001b[1;32mnot\u001b[0m \u001b[0mkwsyntax\u001b[0m\u001b[1;33m:\u001b[0m\u001b[1;33m\u001b[0m\u001b[1;33m\u001b[0m\u001b[0m\n\u001b[0;32m    231\u001b[0m                 \u001b[0margs\u001b[0m\u001b[1;33m,\u001b[0m \u001b[0mkw\u001b[0m \u001b[1;33m=\u001b[0m \u001b[0mfix\u001b[0m\u001b[1;33m(\u001b[0m\u001b[0margs\u001b[0m\u001b[1;33m,\u001b[0m \u001b[0mkw\u001b[0m\u001b[1;33m,\u001b[0m \u001b[0msig\u001b[0m\u001b[1;33m)\u001b[0m\u001b[1;33m\u001b[0m\u001b[1;33m\u001b[0m\u001b[0m\n\u001b[1;32m--> 232\u001b[1;33m             \u001b[1;32mreturn\u001b[0m \u001b[0mcaller\u001b[0m\u001b[1;33m(\u001b[0m\u001b[0mfunc\u001b[0m\u001b[1;33m,\u001b[0m \u001b[1;33m*\u001b[0m\u001b[1;33m(\u001b[0m\u001b[0mextras\u001b[0m \u001b[1;33m+\u001b[0m \u001b[0margs\u001b[0m\u001b[1;33m)\u001b[0m\u001b[1;33m,\u001b[0m \u001b[1;33m**\u001b[0m\u001b[0mkw\u001b[0m\u001b[1;33m)\u001b[0m\u001b[1;33m\u001b[0m\u001b[1;33m\u001b[0m\u001b[0m\n\u001b[0m\u001b[0;32m    233\u001b[0m     \u001b[0mfun\u001b[0m\u001b[1;33m.\u001b[0m\u001b[0m__name__\u001b[0m \u001b[1;33m=\u001b[0m \u001b[0mfunc\u001b[0m\u001b[1;33m.\u001b[0m\u001b[0m__name__\u001b[0m\u001b[1;33m\u001b[0m\u001b[1;33m\u001b[0m\u001b[0m\n\u001b[0;32m    234\u001b[0m     \u001b[0mfun\u001b[0m\u001b[1;33m.\u001b[0m\u001b[0m__doc__\u001b[0m \u001b[1;33m=\u001b[0m \u001b[0mfunc\u001b[0m\u001b[1;33m.\u001b[0m\u001b[0m__doc__\u001b[0m\u001b[1;33m\u001b[0m\u001b[1;33m\u001b[0m\u001b[0m\n",
            "\u001b[1;32mc:\\Users\\LENOVO\\anaconda3\\lib\\site-packages\\IPython\\core\\magic.py\u001b[0m in \u001b[0;36m<lambda>\u001b[1;34m(f, *a, **k)\u001b[0m\n\u001b[0;32m    185\u001b[0m     \u001b[1;31m# but it's overkill for just that one bit of state.\u001b[0m\u001b[1;33m\u001b[0m\u001b[1;33m\u001b[0m\u001b[0m\n\u001b[0;32m    186\u001b[0m     \u001b[1;32mdef\u001b[0m \u001b[0mmagic_deco\u001b[0m\u001b[1;33m(\u001b[0m\u001b[0marg\u001b[0m\u001b[1;33m)\u001b[0m\u001b[1;33m:\u001b[0m\u001b[1;33m\u001b[0m\u001b[1;33m\u001b[0m\u001b[0m\n\u001b[1;32m--> 187\u001b[1;33m         \u001b[0mcall\u001b[0m \u001b[1;33m=\u001b[0m \u001b[1;32mlambda\u001b[0m \u001b[0mf\u001b[0m\u001b[1;33m,\u001b[0m \u001b[1;33m*\u001b[0m\u001b[0ma\u001b[0m\u001b[1;33m,\u001b[0m \u001b[1;33m**\u001b[0m\u001b[0mk\u001b[0m\u001b[1;33m:\u001b[0m \u001b[0mf\u001b[0m\u001b[1;33m(\u001b[0m\u001b[1;33m*\u001b[0m\u001b[0ma\u001b[0m\u001b[1;33m,\u001b[0m \u001b[1;33m**\u001b[0m\u001b[0mk\u001b[0m\u001b[1;33m)\u001b[0m\u001b[1;33m\u001b[0m\u001b[1;33m\u001b[0m\u001b[0m\n\u001b[0m\u001b[0;32m    188\u001b[0m \u001b[1;33m\u001b[0m\u001b[0m\n\u001b[0;32m    189\u001b[0m         \u001b[1;32mif\u001b[0m \u001b[0mcallable\u001b[0m\u001b[1;33m(\u001b[0m\u001b[0marg\u001b[0m\u001b[1;33m)\u001b[0m\u001b[1;33m:\u001b[0m\u001b[1;33m\u001b[0m\u001b[1;33m\u001b[0m\u001b[0m\n",
            "\u001b[1;32mc:\\Users\\LENOVO\\anaconda3\\lib\\site-packages\\IPython\\core\\magics\\execution.py\u001b[0m in \u001b[0;36mrun\u001b[1;34m(self, parameter_s, runner, file_finder)\u001b[0m\n\u001b[0;32m    712\u001b[0m             \u001b[1;32mif\u001b[0m \u001b[0mos\u001b[0m\u001b[1;33m.\u001b[0m\u001b[0mname\u001b[0m \u001b[1;33m==\u001b[0m \u001b[1;34m'nt'\u001b[0m \u001b[1;32mand\u001b[0m \u001b[0mre\u001b[0m\u001b[1;33m.\u001b[0m\u001b[0mmatch\u001b[0m\u001b[1;33m(\u001b[0m\u001b[1;34mr\"^'.*'$\"\u001b[0m\u001b[1;33m,\u001b[0m\u001b[0mfpath\u001b[0m\u001b[1;33m)\u001b[0m\u001b[1;33m:\u001b[0m\u001b[1;33m\u001b[0m\u001b[1;33m\u001b[0m\u001b[0m\n\u001b[0;32m    713\u001b[0m                 \u001b[0mwarn\u001b[0m\u001b[1;33m(\u001b[0m\u001b[1;34m'For Windows, use double quotes to wrap a filename: %run \"mypath\\\\myfile.py\"'\u001b[0m\u001b[1;33m)\u001b[0m\u001b[1;33m\u001b[0m\u001b[1;33m\u001b[0m\u001b[0m\n\u001b[1;32m--> 714\u001b[1;33m             \u001b[1;32mraise\u001b[0m \u001b[0mException\u001b[0m\u001b[1;33m(\u001b[0m\u001b[0mmsg\u001b[0m\u001b[1;33m)\u001b[0m\u001b[1;33m\u001b[0m\u001b[1;33m\u001b[0m\u001b[0m\n\u001b[0m\u001b[0;32m    715\u001b[0m         \u001b[1;32mexcept\u001b[0m \u001b[0mTypeError\u001b[0m\u001b[1;33m:\u001b[0m\u001b[1;33m\u001b[0m\u001b[1;33m\u001b[0m\u001b[0m\n\u001b[0;32m    716\u001b[0m             \u001b[1;32mif\u001b[0m \u001b[0mfpath\u001b[0m \u001b[1;32min\u001b[0m \u001b[0msys\u001b[0m\u001b[1;33m.\u001b[0m\u001b[0mmeta_path\u001b[0m\u001b[1;33m:\u001b[0m\u001b[1;33m\u001b[0m\u001b[1;33m\u001b[0m\u001b[0m\n",
            "\u001b[1;31mException\u001b[0m: File `'ipython_script_test.py'` not found."
          ]
        }
      ],
      "source": [
        "%run ipython_script_test.py"
      ]
    },
    {
      "cell_type": "code",
      "execution_count": null,
      "metadata": {
        "id": "dBkuFWCUTnWK",
        "outputId": "a6f5b226-1f85-45c8-b540-c2cb60a7671a"
      },
      "outputs": [
        {
          "data": {
            "text/plain": [
              "7.5"
            ]
          },
          "execution_count": 12,
          "metadata": {},
          "output_type": "execute_result"
        }
      ],
      "source": [
        "c"
      ]
    },
    {
      "cell_type": "code",
      "execution_count": null,
      "metadata": {
        "id": "Uez_7MrDTnWK"
      },
      "outputs": [],
      "source": [
        "result = f(a, b, c)"
      ]
    },
    {
      "cell_type": "code",
      "execution_count": null,
      "metadata": {
        "id": "o6_jBirHTnWK",
        "outputId": "37e527a0-85c2-4da3-dff7-744b649c85fe"
      },
      "outputs": [
        {
          "data": {
            "text/plain": [
              "1.4666666666666666"
            ]
          },
          "execution_count": 14,
          "metadata": {},
          "output_type": "execute_result"
        }
      ],
      "source": [
        "result"
      ]
    },
    {
      "cell_type": "code",
      "execution_count": null,
      "metadata": {
        "id": "gBLWhTbFTnWL",
        "outputId": "94ea7264-f66e-45bc-8d96-125e55288e4f"
      },
      "outputs": [
        {
          "ename": "IndentationError",
          "evalue": "unindent does not match any outer indentation level (<tokenize>, line 4)",
          "output_type": "error",
          "traceback": [
            "\u001b[1;36m  File \u001b[1;32m\"<tokenize>\"\u001b[1;36m, line \u001b[1;32m4\u001b[0m\n\u001b[1;33m    a = 5\u001b[0m\n\u001b[1;37m    ^\u001b[0m\n\u001b[1;31mIndentationError\u001b[0m\u001b[1;31m:\u001b[0m unindent does not match any outer indentation level\n"
          ]
        }
      ],
      "source": [
        " def f(x, y, z):\n",
        "        return (x + y) / z\n",
        "\n",
        "    a = 5\n",
        "    b = 6\n",
        "    c = 7.5\n",
        "\n",
        "    result = f(a, b, c)"
      ]
    },
    {
      "cell_type": "code",
      "execution_count": null,
      "metadata": {
        "id": "y1k9tbIoTnWM"
      },
      "outputs": [],
      "source": [
        "x = 5\n",
        "y = 7\n",
        "if x > 5:\n",
        "    x += 1\n",
        "\n",
        "    y = 8"
      ]
    },
    {
      "cell_type": "code",
      "execution_count": null,
      "metadata": {
        "id": "w5JyCcm5TnWM",
        "outputId": "e4e54d0b-de22-45b2-c092-05047dd237f7"
      },
      "outputs": [
        {
          "name": "stderr",
          "output_type": "stream",
          "text": [
            "UsageError: Line magic function `%paste` not found.\n"
          ]
        }
      ],
      "source": [
        "%paste"
      ]
    },
    {
      "cell_type": "code",
      "execution_count": null,
      "metadata": {
        "id": "4g2a7fFFTnWN",
        "outputId": "2367b6af-2540-4ce8-9ffa-02bfcf45f47d"
      },
      "outputs": [
        {
          "name": "stderr",
          "output_type": "stream",
          "text": [
            "UsageError: Line magic function `%cpaste` not found.\n"
          ]
        }
      ],
      "source": [
        "%cpaste"
      ]
    },
    {
      "cell_type": "code",
      "execution_count": null,
      "metadata": {
        "id": "CyYC53XvTnWN"
      },
      "outputs": [],
      "source": [
        " a = np.random.randn(100, 100)"
      ]
    },
    {
      "cell_type": "code",
      "execution_count": null,
      "metadata": {
        "id": "DF75odwiTnWO",
        "outputId": "2cea50cc-3170-4c3b-d640-7e3dd210cc83"
      },
      "outputs": [
        {
          "ename": "SyntaxError",
          "evalue": "invalid syntax (Temp/ipykernel_21328/1568678299.py, line 2)",
          "output_type": "error",
          "traceback": [
            "\u001b[1;36m  File \u001b[1;32m\"C:\\Users\\LENOVO\\AppData\\Local\\Temp/ipykernel_21328/1568678299.py\"\u001b[1;36m, line \u001b[1;32m2\u001b[0m\n\u001b[1;33m    10000 loops, best of 3: 20.9 µs per loop\u001b[0m\n\u001b[1;37m          ^\u001b[0m\n\u001b[1;31mSyntaxError\u001b[0m\u001b[1;31m:\u001b[0m invalid syntax\n"
          ]
        }
      ],
      "source": [
        "%timeit np.dot(a, a)\n",
        "10000 loops, best of 3: 20.9 µs per loop"
      ]
    },
    {
      "cell_type": "code",
      "execution_count": null,
      "metadata": {
        "id": "sZXeDZCKTnWO"
      },
      "outputs": [],
      "source": [
        "import numpy as np\n",
        "import pandas as pd"
      ]
    },
    {
      "cell_type": "code",
      "execution_count": null,
      "metadata": {
        "id": "9Kfn3gpjTnWP",
        "outputId": "5d4f1583-04bd-44ba-d724-0b8ffc088198"
      },
      "outputs": [
        {
          "name": "stdout",
          "output_type": "stream",
          "text": [
            "\u001b[1;31mDocstring:\u001b[0m\n",
            "::\n",
            "\n",
            "  %debug [--breakpoint FILE:LINE] [statement ...]\n",
            "\n",
            "Activate the interactive debugger.\n",
            "\n",
            "This magic command support two ways of activating debugger.\n",
            "One is to activate debugger before executing code.  This way, you\n",
            "can set a break point, to step through the code from the point.\n",
            "You can use this mode by giving statements to execute and optionally\n",
            "a breakpoint.\n",
            "\n",
            "The other one is to activate debugger in post-mortem mode.  You can\n",
            "activate this mode simply running %debug without any argument.\n",
            "If an exception has just occurred, this lets you inspect its stack\n",
            "frames interactively.  Note that this will always work only on the last\n",
            "traceback that occurred, so you must call this quickly after an\n",
            "exception that you wish to inspect has fired, because if another one\n",
            "occurs, it clobbers the previous one.\n",
            "\n",
            "If you want IPython to automatically do this on every exception, see\n",
            "the %pdb magic for more details.\n",
            "\n",
            ".. versionchanged:: 7.3\n",
            "    When running code, user variables are no longer expanded,\n",
            "    the magic line is always left unmodified.\n",
            "\n",
            "positional arguments:\n",
            "  statement             Code to run in debugger. You can omit this in cell\n",
            "                        magic mode.\n",
            "\n",
            "optional arguments:\n",
            "  --breakpoint <FILE:LINE>, -b <FILE:LINE>\n",
            "                        Set break point at LINE in FILE.\n",
            "\u001b[1;31mFile:\u001b[0m      c:\\users\\lenovo\\anaconda3\\lib\\site-packages\\ipython\\core\\magics\\execution.py\n"
          ]
        }
      ],
      "source": [
        "%debug?"
      ]
    },
    {
      "cell_type": "code",
      "execution_count": null,
      "metadata": {
        "id": "If0lmn7pTnWP",
        "outputId": "0a2e9cbc-c075-4d48-d476-ab20e684ceb1"
      },
      "outputs": [
        {
          "ename": "NameError",
          "evalue": "name 'array' is not defined",
          "output_type": "error",
          "traceback": [
            "\u001b[1;31m---------------------------------------------------------------------------\u001b[0m",
            "\u001b[1;31mNameError\u001b[0m                                 Traceback (most recent call last)",
            "\u001b[1;32m~\\AppData\\Local\\Temp/ipykernel_21328/2236243969.py\u001b[0m in \u001b[0;36m<module>\u001b[1;34m\u001b[0m\n\u001b[1;32m----> 1\u001b[1;33m \u001b[1;32mfor\u001b[0m \u001b[0mx\u001b[0m \u001b[1;32min\u001b[0m \u001b[0marray\u001b[0m\u001b[1;33m:\u001b[0m\u001b[1;33m\u001b[0m\u001b[1;33m\u001b[0m\u001b[0m\n\u001b[0m\u001b[0;32m      2\u001b[0m     \u001b[1;32mif\u001b[0m \u001b[0mx\u001b[0m \u001b[1;33m<\u001b[0m \u001b[0mpivot\u001b[0m\u001b[1;33m:\u001b[0m\u001b[1;33m\u001b[0m\u001b[1;33m\u001b[0m\u001b[0m\n\u001b[0;32m      3\u001b[0m         \u001b[0mless\u001b[0m\u001b[1;33m.\u001b[0m\u001b[0mappend\u001b[0m\u001b[1;33m(\u001b[0m\u001b[0mx\u001b[0m\u001b[1;33m)\u001b[0m\u001b[1;33m\u001b[0m\u001b[1;33m\u001b[0m\u001b[0m\n\u001b[0;32m      4\u001b[0m     \u001b[1;32melse\u001b[0m\u001b[1;33m:\u001b[0m\u001b[1;33m\u001b[0m\u001b[1;33m\u001b[0m\u001b[0m\n\u001b[0;32m      5\u001b[0m         \u001b[0mgreater\u001b[0m\u001b[1;33m.\u001b[0m\u001b[0mappend\u001b[0m\u001b[1;33m(\u001b[0m\u001b[0mx\u001b[0m\u001b[1;33m)\u001b[0m\u001b[1;33m\u001b[0m\u001b[1;33m\u001b[0m\u001b[0m\n",
            "\u001b[1;31mNameError\u001b[0m: name 'array' is not defined"
          ]
        }
      ],
      "source": [
        "for x in array:\n",
        "    if x < pivot:\n",
        "        less.append(x)\n",
        "    else:\n",
        "        greater.append(x)\n",
        "a = 5; b = 6; c = 7"
      ]
    },
    {
      "cell_type": "code",
      "execution_count": null,
      "metadata": {
        "id": "SB0tYjP3TnWQ"
      },
      "outputs": [],
      "source": [
        "results = []"
      ]
    },
    {
      "cell_type": "code",
      "execution_count": null,
      "metadata": {
        "id": "6SAFcBdlTnWQ",
        "outputId": "f2c411bb-fa8c-4959-ac05-0db115b0028c"
      },
      "outputs": [
        {
          "ename": "NameError",
          "evalue": "name 'f' is not defined",
          "output_type": "error",
          "traceback": [
            "\u001b[1;31m---------------------------------------------------------------------------\u001b[0m",
            "\u001b[1;31mNameError\u001b[0m                                 Traceback (most recent call last)",
            "\u001b[1;32m~\\AppData\\Local\\Temp/ipykernel_21328/3051952510.py\u001b[0m in \u001b[0;36m<module>\u001b[1;34m\u001b[0m\n\u001b[1;32m----> 1\u001b[1;33m \u001b[0mresult\u001b[0m \u001b[1;33m=\u001b[0m \u001b[0mf\u001b[0m\u001b[1;33m(\u001b[0m\u001b[0mx\u001b[0m\u001b[1;33m,\u001b[0m \u001b[0my\u001b[0m\u001b[1;33m,\u001b[0m \u001b[0mz\u001b[0m\u001b[1;33m)\u001b[0m\u001b[1;33m\u001b[0m\u001b[1;33m\u001b[0m\u001b[0m\n\u001b[0m\u001b[0;32m      2\u001b[0m \u001b[0mg\u001b[0m\u001b[1;33m(\u001b[0m\u001b[1;33m)\u001b[0m\u001b[1;33m\u001b[0m\u001b[1;33m\u001b[0m\u001b[0m\n\u001b[0;32m      3\u001b[0m \u001b[0mobj\u001b[0m\u001b[1;33m.\u001b[0m\u001b[0msome_method\u001b[0m\u001b[1;33m(\u001b[0m\u001b[0mx\u001b[0m\u001b[1;33m,\u001b[0m \u001b[0my\u001b[0m\u001b[1;33m,\u001b[0m \u001b[0mz\u001b[0m\u001b[1;33m)\u001b[0m\u001b[1;33m\u001b[0m\u001b[1;33m\u001b[0m\u001b[0m\n\u001b[0;32m      4\u001b[0m \u001b[0mresult\u001b[0m \u001b[1;33m=\u001b[0m \u001b[0mf\u001b[0m\u001b[1;33m(\u001b[0m\u001b[0ma\u001b[0m\u001b[1;33m,\u001b[0m \u001b[0mb\u001b[0m\u001b[1;33m,\u001b[0m \u001b[0mc\u001b[0m\u001b[1;33m,\u001b[0m \u001b[0md\u001b[0m\u001b[1;33m=\u001b[0m\u001b[1;36m5\u001b[0m\u001b[1;33m,\u001b[0m \u001b[0me\u001b[0m\u001b[1;33m=\u001b[0m\u001b[1;34m'foo'\u001b[0m\u001b[1;33m)\u001b[0m\u001b[1;33m\u001b[0m\u001b[1;33m\u001b[0m\u001b[0m\n",
            "\u001b[1;31mNameError\u001b[0m: name 'f' is not defined"
          ]
        }
      ],
      "source": [
        "result = f(x, y, z)\n",
        "g()\n",
        "obj.some_method(x, y, z)\n",
        "result = f(a, b, c, d=5, e='foo')"
      ]
    },
    {
      "cell_type": "code",
      "execution_count": null,
      "metadata": {
        "id": "M9ASlgzcTnWQ"
      },
      "outputs": [],
      "source": [
        "a = [1, 2, 3]"
      ]
    },
    {
      "cell_type": "code",
      "execution_count": null,
      "metadata": {
        "id": "5UpPk1jLTnWR"
      },
      "outputs": [],
      "source": [
        "b = a"
      ]
    },
    {
      "cell_type": "code",
      "execution_count": null,
      "metadata": {
        "id": "vr3JBm0yTnWR",
        "outputId": "3d422219-403e-4326-e0ad-28b10b131a44"
      },
      "outputs": [
        {
          "data": {
            "text/plain": [
              "[1, 2, 3, 4]"
            ]
          },
          "execution_count": 18,
          "metadata": {},
          "output_type": "execute_result"
        }
      ],
      "source": [
        "a.append(4)\n",
        "b"
      ]
    },
    {
      "cell_type": "code",
      "execution_count": null,
      "metadata": {
        "id": "juS9eOt6TnWS"
      },
      "outputs": [],
      "source": [
        " data = [1, 2, 3]"
      ]
    },
    {
      "cell_type": "code",
      "execution_count": null,
      "metadata": {
        "id": "xBnuqgdWTnWS",
        "outputId": "4a707698-bc14-4678-f734-cfd9d6b85820"
      },
      "outputs": [
        {
          "ename": "NameError",
          "evalue": "name 'append_element' is not defined",
          "output_type": "error",
          "traceback": [
            "\u001b[1;31m---------------------------------------------------------------------------\u001b[0m",
            "\u001b[1;31mNameError\u001b[0m                                 Traceback (most recent call last)",
            "\u001b[1;32m~\\AppData\\Local\\Temp/ipykernel_21328/1191366003.py\u001b[0m in \u001b[0;36m<module>\u001b[1;34m\u001b[0m\n\u001b[1;32m----> 1\u001b[1;33m \u001b[0mappend_element\u001b[0m\u001b[1;33m(\u001b[0m\u001b[0mdata\u001b[0m\u001b[1;33m,\u001b[0m \u001b[1;36m4\u001b[0m\u001b[1;33m)\u001b[0m\u001b[1;33m\u001b[0m\u001b[1;33m\u001b[0m\u001b[0m\n\u001b[0m",
            "\u001b[1;31mNameError\u001b[0m: name 'append_element' is not defined"
          ]
        }
      ],
      "source": [
        "append_element(data, 4)\n"
      ]
    },
    {
      "cell_type": "code",
      "execution_count": null,
      "metadata": {
        "id": "hRirYGr9TnWS",
        "outputId": "163ba3b6-5c78-43eb-954c-7a15b1fa5a76"
      },
      "outputs": [
        {
          "data": {
            "text/plain": [
              "str"
            ]
          },
          "execution_count": 21,
          "metadata": {},
          "output_type": "execute_result"
        }
      ],
      "source": [
        "a = 5\n",
        "type(a)\n",
        "a = 'foo'\n",
        "type(a)"
      ]
    },
    {
      "cell_type": "code",
      "execution_count": null,
      "metadata": {
        "id": "9zIsNlyoTnWT",
        "outputId": "9bd34a27-74f8-48fa-df15-1fdd49bb5140"
      },
      "outputs": [
        {
          "ename": "SyntaxError",
          "evalue": "EOL while scanning string literal (Temp/ipykernel_21328/757742399.py, line 1)",
          "output_type": "error",
          "traceback": [
            "\u001b[1;36m  File \u001b[1;32m\"C:\\Users\\LENOVO\\AppData\\Local\\Temp/ipykernel_21328/757742399.py\"\u001b[1;36m, line \u001b[1;32m1\u001b[0m\n\u001b[1;33m    5' + 5\u001b[0m\n\u001b[1;37m          ^\u001b[0m\n\u001b[1;31mSyntaxError\u001b[0m\u001b[1;31m:\u001b[0m EOL while scanning string literal\n"
          ]
        }
      ],
      "source": [
        "5' + 5"
      ]
    },
    {
      "cell_type": "code",
      "execution_count": null,
      "metadata": {
        "id": "w20LRCT7TnWT",
        "outputId": "e9570568-d20a-4232-ae69-885fcf7f0cec"
      },
      "outputs": [
        {
          "name": "stdout",
          "output_type": "stream",
          "text": [
            "a is <class 'float'>, b is <class 'int'>\n"
          ]
        },
        {
          "data": {
            "text/plain": [
              "2.25"
            ]
          },
          "execution_count": 23,
          "metadata": {},
          "output_type": "execute_result"
        }
      ],
      "source": [
        "a = 4.5\n",
        "b = 2\n",
        "# String formatting, to be visited later\n",
        "print('a is {0}, b is {1}'.format(type(a), type(b)))\n",
        "a / b"
      ]
    },
    {
      "cell_type": "code",
      "execution_count": null,
      "metadata": {
        "id": "i4FV-lnhTnWT",
        "outputId": "22d62008-835c-4b73-f785-814567afe79f"
      },
      "outputs": [
        {
          "data": {
            "text/plain": [
              "True"
            ]
          },
          "execution_count": 24,
          "metadata": {},
          "output_type": "execute_result"
        }
      ],
      "source": [
        "a = 5\n",
        "isinstance(a, int)"
      ]
    },
    {
      "cell_type": "code",
      "execution_count": null,
      "metadata": {
        "id": "pjG9Xl30TnWU",
        "outputId": "55b2a6f8-4916-484a-fe2e-1546e3cf29cc"
      },
      "outputs": [
        {
          "data": {
            "text/plain": [
              "True"
            ]
          },
          "execution_count": 25,
          "metadata": {},
          "output_type": "execute_result"
        }
      ],
      "source": [
        "a = 5; b = 4.5\n",
        "isinstance(a, (int, float))\n",
        "isinstance(b, (int, float))"
      ]
    },
    {
      "cell_type": "code",
      "execution_count": null,
      "metadata": {
        "id": "WIeimgFrTnWU"
      },
      "outputs": [],
      "source": [
        "a = 'foo'\n"
      ]
    },
    {
      "cell_type": "code",
      "execution_count": null,
      "metadata": {
        "id": "uXgehNeUTnWU",
        "outputId": "d8b135ab-bf3d-45ab-999d-438a07d72c83"
      },
      "outputs": [
        {
          "data": {
            "text/plain": [
              "<function str.split(sep=None, maxsplit=-1)>"
            ]
          },
          "execution_count": 27,
          "metadata": {},
          "output_type": "execute_result"
        }
      ],
      "source": [
        "getattr(a, 'split')"
      ]
    },
    {
      "cell_type": "code",
      "execution_count": null,
      "metadata": {
        "id": "QtuPjuH5TnWV"
      },
      "outputs": [],
      "source": [
        "def isiterable(obj):\n",
        "    try:\n",
        "        iter(obj)\n",
        "        return True\n",
        "    except TypeError: # not iterable\n",
        "        return False"
      ]
    },
    {
      "cell_type": "code",
      "execution_count": null,
      "metadata": {
        "id": "Koj0YJidTnWV",
        "outputId": "45886c3d-abba-4b80-8977-c26853590d6b"
      },
      "outputs": [
        {
          "data": {
            "text/plain": [
              "False"
            ]
          },
          "execution_count": 29,
          "metadata": {},
          "output_type": "execute_result"
        }
      ],
      "source": [
        "isiterable('a string')\n",
        "isiterable([1, 2, 3])\n",
        "isiterable(5)"
      ]
    },
    {
      "cell_type": "code",
      "execution_count": null,
      "metadata": {
        "id": "FYoXwRAHTnWV",
        "outputId": "92a1b6bf-2658-4c94-8730-a8b27fef8169"
      },
      "outputs": [
        {
          "data": {
            "text/plain": [
              "False"
            ]
          },
          "execution_count": 30,
          "metadata": {},
          "output_type": "execute_result"
        }
      ],
      "source": [
        "5 - 7\n",
        "12 + 21.5\n",
        "5 <= 2"
      ]
    },
    {
      "cell_type": "code",
      "execution_count": null,
      "metadata": {
        "id": "w0cukoa4TnWV",
        "outputId": "67fe546a-1586-4598-d357-6fef8f6dee94"
      },
      "outputs": [
        {
          "data": {
            "text/plain": [
              "True"
            ]
          },
          "execution_count": 31,
          "metadata": {},
          "output_type": "execute_result"
        }
      ],
      "source": [
        "a = [1, 2, 3]\n",
        "b = a\n",
        "c = list(a)\n",
        "a is b\n",
        "a is not c"
      ]
    },
    {
      "cell_type": "code",
      "execution_count": null,
      "metadata": {
        "id": "KYCLOtO7TnWW",
        "outputId": "1f6dd74b-60ed-4576-94f2-abc0b5ddde3f"
      },
      "outputs": [
        {
          "data": {
            "text/plain": [
              "True"
            ]
          },
          "execution_count": 32,
          "metadata": {},
          "output_type": "execute_result"
        }
      ],
      "source": [
        "a == c"
      ]
    },
    {
      "cell_type": "code",
      "execution_count": null,
      "metadata": {
        "id": "rKmNbGLeTnWW",
        "outputId": "5bf65f47-653a-4a8c-e6d8-8a69f80a5ecb"
      },
      "outputs": [
        {
          "data": {
            "text/plain": [
              "True"
            ]
          },
          "execution_count": 33,
          "metadata": {},
          "output_type": "execute_result"
        }
      ],
      "source": [
        "a = None\n",
        "a is None"
      ]
    },
    {
      "cell_type": "code",
      "execution_count": null,
      "metadata": {
        "id": "JRUFcg1WTnWX",
        "outputId": "6114ea01-90de-4299-9493-f5e80935d218"
      },
      "outputs": [
        {
          "data": {
            "text/plain": [
              "['foo', 2, (3, 4)]"
            ]
          },
          "execution_count": 34,
          "metadata": {},
          "output_type": "execute_result"
        }
      ],
      "source": [
        "a_list = ['foo', 2, [4, 5]]\n",
        "a_list[2] = (3, 4)\n",
        "a_list"
      ]
    },
    {
      "cell_type": "code",
      "execution_count": null,
      "metadata": {
        "id": "YqdL74JxTnWX",
        "outputId": "9437ac01-1c17-4e33-ebed-faafa13a0439"
      },
      "outputs": [
        {
          "ename": "TypeError",
          "evalue": "'tuple' object does not support item assignment",
          "output_type": "error",
          "traceback": [
            "\u001b[1;31m---------------------------------------------------------------------------\u001b[0m",
            "\u001b[1;31mTypeError\u001b[0m                                 Traceback (most recent call last)",
            "\u001b[1;32m~\\AppData\\Local\\Temp/ipykernel_21328/20515229.py\u001b[0m in \u001b[0;36m<module>\u001b[1;34m\u001b[0m\n\u001b[0;32m      1\u001b[0m \u001b[0ma_tuple\u001b[0m \u001b[1;33m=\u001b[0m \u001b[1;33m(\u001b[0m\u001b[1;36m3\u001b[0m\u001b[1;33m,\u001b[0m \u001b[1;36m5\u001b[0m\u001b[1;33m,\u001b[0m \u001b[1;33m(\u001b[0m\u001b[1;36m4\u001b[0m\u001b[1;33m,\u001b[0m \u001b[1;36m5\u001b[0m\u001b[1;33m)\u001b[0m\u001b[1;33m)\u001b[0m\u001b[1;33m\u001b[0m\u001b[1;33m\u001b[0m\u001b[0m\n\u001b[1;32m----> 2\u001b[1;33m \u001b[0ma_tuple\u001b[0m\u001b[1;33m[\u001b[0m\u001b[1;36m1\u001b[0m\u001b[1;33m]\u001b[0m \u001b[1;33m=\u001b[0m \u001b[1;34m'four'\u001b[0m\u001b[1;33m\u001b[0m\u001b[1;33m\u001b[0m\u001b[0m\n\u001b[0m",
            "\u001b[1;31mTypeError\u001b[0m: 'tuple' object does not support item assignment"
          ]
        }
      ],
      "source": [
        "a_tuple = (3, 5, (4, 5))\n",
        "a_tuple[1] = 'four'"
      ]
    },
    {
      "cell_type": "code",
      "execution_count": null,
      "metadata": {
        "id": "njkZwJ0DTnWX",
        "outputId": "5c68246b-f520-4ac8-e952-8caa9dfa6701"
      },
      "outputs": [
        {
          "data": {
            "text/plain": [
              "26254519291092456596965462913230729701102721"
            ]
          },
          "execution_count": 36,
          "metadata": {},
          "output_type": "execute_result"
        }
      ],
      "source": [
        "ival = 17239871\n",
        "ival ** 6"
      ]
    },
    {
      "cell_type": "code",
      "execution_count": null,
      "metadata": {
        "id": "xudsTiQhTnWX"
      },
      "outputs": [],
      "source": [
        "fval = 7.243\n",
        "fval2 = 6.78e-5"
      ]
    },
    {
      "cell_type": "code",
      "execution_count": null,
      "metadata": {
        "id": "kr-iDGSiTnWX",
        "outputId": "7a89ec0b-725d-4316-89b1-7cd282725621"
      },
      "outputs": [
        {
          "data": {
            "text/plain": [
              "1.5"
            ]
          },
          "execution_count": 38,
          "metadata": {},
          "output_type": "execute_result"
        }
      ],
      "source": [
        "3 / 2"
      ]
    },
    {
      "cell_type": "code",
      "execution_count": null,
      "metadata": {
        "id": "Uf0_QThMTnWY",
        "outputId": "74e84a8c-9173-4e0c-a168-840561187368"
      },
      "outputs": [
        {
          "data": {
            "text/plain": [
              "1"
            ]
          },
          "execution_count": 39,
          "metadata": {},
          "output_type": "execute_result"
        }
      ],
      "source": [
        "3 // 2"
      ]
    },
    {
      "cell_type": "markdown",
      "metadata": {
        "id": "gpXyLV8aTnWY"
      },
      "source": [
        "Strings\n"
      ]
    },
    {
      "cell_type": "markdown",
      "metadata": {
        "id": "Ix413ApsTnWY"
      },
      "source": [
        "a = 'one way of writing a string' b = \"another way\""
      ]
    },
    {
      "cell_type": "code",
      "execution_count": null,
      "metadata": {
        "id": "rFWmzW_9TnWY"
      },
      "outputs": [],
      "source": [
        "c = \"\"\"\n",
        "This is a longer string that\n",
        "spans multiple lines\n",
        "\"\"\""
      ]
    },
    {
      "cell_type": "code",
      "execution_count": null,
      "metadata": {
        "id": "qsMhYgbfTnWZ",
        "outputId": "31bdb132-0b1b-4f78-8429-43251110d5d0"
      },
      "outputs": [
        {
          "data": {
            "text/plain": [
              "3"
            ]
          },
          "execution_count": 41,
          "metadata": {},
          "output_type": "execute_result"
        }
      ],
      "source": [
        "c.count('\\n')"
      ]
    },
    {
      "cell_type": "code",
      "execution_count": null,
      "metadata": {
        "id": "AfGVbp1pTnWZ",
        "outputId": "7f4b73da-c6d6-4f13-e85a-73c7c78d922d"
      },
      "outputs": [
        {
          "ename": "TypeError",
          "evalue": "'str' object does not support item assignment",
          "output_type": "error",
          "traceback": [
            "\u001b[1;31m---------------------------------------------------------------------------\u001b[0m",
            "\u001b[1;31mTypeError\u001b[0m                                 Traceback (most recent call last)",
            "\u001b[1;32m~\\AppData\\Local\\Temp/ipykernel_21328/532296718.py\u001b[0m in \u001b[0;36m<module>\u001b[1;34m\u001b[0m\n\u001b[0;32m      1\u001b[0m \u001b[0ma\u001b[0m \u001b[1;33m=\u001b[0m \u001b[1;34m'this is a string'\u001b[0m\u001b[1;33m\u001b[0m\u001b[1;33m\u001b[0m\u001b[0m\n\u001b[1;32m----> 2\u001b[1;33m \u001b[0ma\u001b[0m\u001b[1;33m[\u001b[0m\u001b[1;36m10\u001b[0m\u001b[1;33m]\u001b[0m \u001b[1;33m=\u001b[0m \u001b[1;34m'f'\u001b[0m\u001b[1;33m\u001b[0m\u001b[1;33m\u001b[0m\u001b[0m\n\u001b[0m\u001b[0;32m      3\u001b[0m \u001b[0mb\u001b[0m \u001b[1;33m=\u001b[0m \u001b[0ma\u001b[0m\u001b[1;33m.\u001b[0m\u001b[0mreplace\u001b[0m\u001b[1;33m(\u001b[0m\u001b[1;34m'string'\u001b[0m\u001b[1;33m,\u001b[0m \u001b[1;34m'longer string'\u001b[0m\u001b[1;33m)\u001b[0m\u001b[1;33m\u001b[0m\u001b[1;33m\u001b[0m\u001b[0m\n\u001b[0;32m      4\u001b[0m \u001b[0mb\u001b[0m\u001b[1;33m\u001b[0m\u001b[1;33m\u001b[0m\u001b[0m\n",
            "\u001b[1;31mTypeError\u001b[0m: 'str' object does not support item assignment"
          ]
        }
      ],
      "source": [
        "a = 'this is a string'\n",
        "a[10] = 'f'\n",
        "b = a.replace('string', 'longer string')\n",
        "b"
      ]
    },
    {
      "cell_type": "code",
      "execution_count": null,
      "metadata": {
        "id": "FFnGQfMbTnWZ",
        "outputId": "23807134-0804-42d8-e2c6-c88e11285e3f"
      },
      "outputs": [
        {
          "data": {
            "text/plain": [
              "'this is a string'"
            ]
          },
          "execution_count": 44,
          "metadata": {},
          "output_type": "execute_result"
        }
      ],
      "source": [
        "a"
      ]
    },
    {
      "cell_type": "code",
      "execution_count": null,
      "metadata": {
        "id": "PWf7-DeoTnWa",
        "outputId": "843c185a-a001-4b76-8b03-acf76461bf31"
      },
      "outputs": [
        {
          "name": "stdout",
          "output_type": "stream",
          "text": [
            "5.6\n"
          ]
        }
      ],
      "source": [
        "a = 5.6\n",
        "s = str(a)\n",
        "print(s)"
      ]
    },
    {
      "cell_type": "code",
      "execution_count": null,
      "metadata": {
        "id": "DoNSLvkTTnWa",
        "outputId": "ab7c8746-28c2-40e3-8791-ea7e75db9018"
      },
      "outputs": [
        {
          "data": {
            "text/plain": [
              "'pyt'"
            ]
          },
          "execution_count": 46,
          "metadata": {},
          "output_type": "execute_result"
        }
      ],
      "source": [
        "s = 'python'\n",
        "list(s)\n",
        "s[:3]"
      ]
    },
    {
      "cell_type": "code",
      "execution_count": null,
      "metadata": {
        "id": "yDSCoAsPTnWa",
        "outputId": "dfb7e66e-953b-4f49-b66f-cb7f8a7fd3a7"
      },
      "outputs": [
        {
          "name": "stdout",
          "output_type": "stream",
          "text": [
            "12\\34\n"
          ]
        }
      ],
      "source": [
        "s = '12\\\\34'\n",
        "print(s)"
      ]
    },
    {
      "cell_type": "code",
      "execution_count": null,
      "metadata": {
        "id": "4QCCifMkTnWa",
        "outputId": "7527065c-081c-4690-fc01-f0d2ab0f5272"
      },
      "outputs": [
        {
          "data": {
            "text/plain": [
              "'this\\\\has\\\\no\\\\special\\\\characters'"
            ]
          },
          "execution_count": 48,
          "metadata": {},
          "output_type": "execute_result"
        }
      ],
      "source": [
        "s = r'this\\has\\no\\special\\characters'\n",
        "s"
      ]
    },
    {
      "cell_type": "code",
      "execution_count": null,
      "metadata": {
        "id": "obn33a9kTnWb",
        "outputId": "6b3d566a-ac69-4430-f773-07f1fb5be41f"
      },
      "outputs": [
        {
          "data": {
            "text/plain": [
              "'this is the first half and this is the second half'"
            ]
          },
          "execution_count": 49,
          "metadata": {},
          "output_type": "execute_result"
        }
      ],
      "source": [
        "a = 'this is the first half '\n",
        "b = 'and this is the second half'\n",
        "a + b"
      ]
    },
    {
      "cell_type": "code",
      "execution_count": null,
      "metadata": {
        "id": "Vhg3WdJaTnWb"
      },
      "outputs": [],
      "source": [
        "template = '{0:.2f} {1:s} are worth US${2:d}'"
      ]
    },
    {
      "cell_type": "code",
      "execution_count": null,
      "metadata": {
        "id": "vPs-ILh3TnWb",
        "outputId": "9461c1e3-9957-43c1-cd34-2c0f9659d51b"
      },
      "outputs": [
        {
          "data": {
            "text/plain": [
              "'4.56 Argentine Pesos are worth US$1'"
            ]
          },
          "execution_count": 51,
          "metadata": {},
          "output_type": "execute_result"
        }
      ],
      "source": [
        "template.format(4.5560, 'Argentine Pesos', 1)"
      ]
    },
    {
      "cell_type": "markdown",
      "metadata": {
        "id": "hy8UwkudTnWc"
      },
      "source": [
        "Bytes and Unicode"
      ]
    },
    {
      "cell_type": "code",
      "execution_count": null,
      "metadata": {
        "id": "zLfVbqO1TnWc",
        "outputId": "594139aa-6ff1-4177-83c1-651a229127da"
      },
      "outputs": [
        {
          "data": {
            "text/plain": [
              "'español'"
            ]
          },
          "execution_count": 52,
          "metadata": {},
          "output_type": "execute_result"
        }
      ],
      "source": [
        "val = \"español\"\n",
        "val"
      ]
    },
    {
      "cell_type": "code",
      "execution_count": null,
      "metadata": {
        "id": "dhGYYzikTnWc",
        "outputId": "deb13433-0d81-4b17-e92d-0760ffb7be1f"
      },
      "outputs": [
        {
          "data": {
            "text/plain": [
              "bytes"
            ]
          },
          "execution_count": 53,
          "metadata": {},
          "output_type": "execute_result"
        }
      ],
      "source": [
        "val_utf8 = val.encode('utf-8')\n",
        "val_utf8\n",
        "type(val_utf8)"
      ]
    },
    {
      "cell_type": "code",
      "execution_count": null,
      "metadata": {
        "id": "joX7uMZ_TnWc",
        "outputId": "c22be124-b2ba-4e2a-9e47-2c6dabbf522b"
      },
      "outputs": [
        {
          "data": {
            "text/plain": [
              "'español'"
            ]
          },
          "execution_count": 54,
          "metadata": {},
          "output_type": "execute_result"
        }
      ],
      "source": [
        "val_utf8.decode('utf-8')"
      ]
    },
    {
      "cell_type": "code",
      "execution_count": null,
      "metadata": {
        "id": "aEZv-VA0TnWd",
        "outputId": "f2c810df-4d4d-4038-8a48-59eef9ec1eeb"
      },
      "outputs": [
        {
          "data": {
            "text/plain": [
              "b'e\\x00s\\x00p\\x00a\\x00\\xf1\\x00o\\x00l\\x00'"
            ]
          },
          "execution_count": 55,
          "metadata": {},
          "output_type": "execute_result"
        }
      ],
      "source": [
        "val.encode('latin1')\n",
        "val.encode('utf-16')\n",
        "val.encode('utf-16le')"
      ]
    },
    {
      "cell_type": "code",
      "execution_count": null,
      "metadata": {
        "id": "0rG9sP1hTnWd",
        "outputId": "8c4f27f0-2fc8-4d19-fd29-f51714f24999"
      },
      "outputs": [
        {
          "data": {
            "text/plain": [
              "'this is bytes'"
            ]
          },
          "execution_count": 56,
          "metadata": {},
          "output_type": "execute_result"
        }
      ],
      "source": [
        "bytes_val = b'this is bytes'\n",
        "bytes_val\n",
        "decoded = bytes_val.decode('utf8')\n",
        "decoded  # this is str (Unicode) now"
      ]
    },
    {
      "cell_type": "markdown",
      "metadata": {
        "id": "_CZf5hP4TnWd"
      },
      "source": [
        "Dates and times"
      ]
    },
    {
      "cell_type": "code",
      "execution_count": null,
      "metadata": {
        "id": "488ROizBTnWe",
        "outputId": "a016ef9a-697a-42f4-f7ad-fff864fdae55"
      },
      "outputs": [
        {
          "data": {
            "text/plain": [
              "57"
            ]
          },
          "execution_count": 60,
          "metadata": {},
          "output_type": "execute_result"
        }
      ],
      "source": [
        "from datetime import datetime, date, time\n",
        "dt = datetime(2022, 5, 24, 22, 57, 21)\n",
        "dt.day\n",
        "dt.minute"
      ]
    },
    {
      "cell_type": "code",
      "execution_count": null,
      "metadata": {
        "id": "s7Mln9hdTnWe",
        "outputId": "9e41d448-855a-433c-f311-b7b2076c8821"
      },
      "outputs": [
        {
          "data": {
            "text/plain": [
              "datetime.time(22, 57, 21)"
            ]
          },
          "execution_count": 61,
          "metadata": {},
          "output_type": "execute_result"
        }
      ],
      "source": [
        "dt.date()\n",
        "dt.time()"
      ]
    },
    {
      "cell_type": "code",
      "execution_count": null,
      "metadata": {
        "id": "eZwLzL6yTnWe",
        "outputId": "7b948804-fe60-4385-d06f-99d9c207c058"
      },
      "outputs": [
        {
          "data": {
            "text/plain": [
              "'05/24/2022 22:57'"
            ]
          },
          "execution_count": 62,
          "metadata": {},
          "output_type": "execute_result"
        }
      ],
      "source": [
        "dt.strftime('%m/%d/%Y %H:%M')"
      ]
    },
    {
      "cell_type": "code",
      "execution_count": null,
      "metadata": {
        "id": "9eXNgV8HTnWe",
        "outputId": "8e287018-41f8-4434-d62e-2dcd751a3bf6"
      },
      "outputs": [
        {
          "data": {
            "text/plain": [
              "datetime.datetime(2009, 10, 31, 0, 0)"
            ]
          },
          "execution_count": 63,
          "metadata": {},
          "output_type": "execute_result"
        }
      ],
      "source": [
        "datetime.strptime('20091031', '%Y%m%d')"
      ]
    },
    {
      "cell_type": "code",
      "execution_count": null,
      "metadata": {
        "id": "BGx05MMZTnWf",
        "outputId": "c3854de5-ac6b-4109-adf6-7c1736495013"
      },
      "outputs": [
        {
          "data": {
            "text/plain": [
              "datetime.datetime(2022, 5, 24, 22, 0)"
            ]
          },
          "execution_count": 64,
          "metadata": {},
          "output_type": "execute_result"
        }
      ],
      "source": [
        "dt.replace(minute=0, second=0)"
      ]
    },
    {
      "cell_type": "code",
      "execution_count": null,
      "metadata": {
        "id": "W1Vfi1gFTnWf",
        "outputId": "d40075f0-2335-4b71-a9a2-006fc97405e7"
      },
      "outputs": [
        {
          "data": {
            "text/plain": [
              "datetime.timedelta"
            ]
          },
          "execution_count": 65,
          "metadata": {},
          "output_type": "execute_result"
        }
      ],
      "source": [
        "dt2 = datetime(2011, 11, 15, 22, 30)\n",
        "delta = dt2 - dt\n",
        "delta\n",
        "type(delta)"
      ]
    },
    {
      "cell_type": "code",
      "execution_count": null,
      "metadata": {
        "id": "D4wAWhqKTnWf",
        "outputId": "afabd50e-de2a-415f-abdc-ad9ede3c7923"
      },
      "outputs": [
        {
          "data": {
            "text/plain": [
              "datetime.datetime(2011, 11, 15, 22, 30)"
            ]
          },
          "execution_count": 66,
          "metadata": {},
          "output_type": "execute_result"
        }
      ],
      "source": [
        "dt\n",
        "dt + delta"
      ]
    },
    {
      "cell_type": "markdown",
      "metadata": {
        "id": "noON3RLfTnWf"
      },
      "source": [
        "Control Flow"
      ]
    },
    {
      "cell_type": "markdown",
      "metadata": {
        "id": "qYyA5gihTnWg"
      },
      "source": [
        "if, elif, and else"
      ]
    },
    {
      "cell_type": "markdown",
      "metadata": {
        "id": "YINvUV50TnWg"
      },
      "source": [
        "if x < 0: print('It's negative')\n",
        "\n",
        "if x < 0: print('It's negative') elif x == 0: print('Equal to zero') elif 0 < x < 5: print('Positive but smaller than 5') else: print('Positive and larger than or equal to 5')"
      ]
    },
    {
      "cell_type": "code",
      "execution_count": null,
      "metadata": {
        "id": "JMpSeXFuTnWg",
        "outputId": "9d776c35-b58e-428b-a75a-2dc0472c07b3"
      },
      "outputs": [
        {
          "name": "stdout",
          "output_type": "stream",
          "text": [
            "Made it\n"
          ]
        }
      ],
      "source": [
        "a = 5; b = 7\n",
        "c = 8; d = 4\n",
        "if a < b or c > d:\n",
        "    print('Made it')"
      ]
    },
    {
      "cell_type": "code",
      "execution_count": null,
      "metadata": {
        "id": "GMHs4VZdTnWg",
        "outputId": "19eeadaf-9c6a-49d0-fefa-878af1a2da00"
      },
      "outputs": [
        {
          "data": {
            "text/plain": [
              "True"
            ]
          },
          "execution_count": 2,
          "metadata": {},
          "output_type": "execute_result"
        }
      ],
      "source": [
        "4 > 3 > 2 > 1"
      ]
    },
    {
      "cell_type": "markdown",
      "metadata": {
        "id": "XxjCZ-1aTnWg"
      },
      "source": [
        "for loops"
      ]
    },
    {
      "cell_type": "markdown",
      "metadata": {
        "id": "GXEHNVC_TnWh"
      },
      "source": [
        "for value in collection:"
      ]
    },
    {
      "cell_type": "markdown",
      "metadata": {
        "id": "tdMDkZECTnWh"
      },
      "source": [
        "# do something with value\n",
        "sequence = [1, 2, None, 4, None, 5] total = 0 for value in sequence: if value is None: continue total += value\n",
        "\n",
        "sequence = [1, 2, 0, 4, 6, 5, 2, 1] total_until_5 = 0 for value in sequence: if value == 5: break total_until_5 += value"
      ]
    },
    {
      "cell_type": "markdown",
      "metadata": {
        "id": "o2FYcUd0TnWh"
      },
      "source": [
        "for i in range(4):\n",
        "    for j in range(4):\n",
        "        if j > i:\n",
        "            break\n",
        "        print((i, j))"
      ]
    },
    {
      "cell_type": "code",
      "execution_count": null,
      "metadata": {
        "id": "z5EsaEX5TnWi",
        "outputId": "549b03b3-f9cf-446c-acff-40840397bcb4"
      },
      "outputs": [
        {
          "name": "stdout",
          "output_type": "stream",
          "text": [
            "(0, 0)\n",
            "(1, 0)\n",
            "(1, 1)\n",
            "(2, 0)\n",
            "(2, 1)\n",
            "(2, 2)\n",
            "(3, 0)\n",
            "(3, 1)\n",
            "(3, 2)\n",
            "(3, 3)\n"
          ]
        }
      ],
      "source": [
        "for i in range(4):\n",
        "    for j in range(4):\n",
        "        if j > i:\n",
        "            break\n",
        "        print((i, j))"
      ]
    },
    {
      "cell_type": "markdown",
      "metadata": {
        "id": "hmAXa-poTnWi"
      },
      "source": [
        "for a, b, c in iterator:"
      ]
    },
    {
      "cell_type": "markdown",
      "metadata": {
        "id": "2s6hkuOtTnWi"
      },
      "source": [
        "# do something"
      ]
    },
    {
      "cell_type": "markdown",
      "metadata": {
        "id": "fepdNgJNTnWj"
      },
      "source": [
        "while loops"
      ]
    },
    {
      "cell_type": "markdown",
      "metadata": {
        "id": "3dNXcQeXTnWj"
      },
      "source": [
        "x = 256 total = 0 while x > 0: if total > 500: break total += x x = x // 2"
      ]
    },
    {
      "cell_type": "markdown",
      "metadata": {
        "id": "NtF01Lq9TnWj"
      },
      "source": [
        "pass"
      ]
    },
    {
      "cell_type": "markdown",
      "metadata": {
        "id": "GfhfyjhhTnWk"
      },
      "source": [
        "if x < 0: print('negative!') elif x == 0:\n",
        "\n",
        "# TODO: do somthing blah blah\n",
        "pass\n",
        "else: print('positive!')"
      ]
    },
    {
      "cell_type": "markdown",
      "metadata": {
        "id": "qXiyfcIETnWk"
      },
      "source": [
        "range"
      ]
    },
    {
      "cell_type": "code",
      "execution_count": null,
      "metadata": {
        "id": "uJsXBalBTnWl",
        "outputId": "92c56fbb-49a2-4220-c0bd-22f9de9b7df1"
      },
      "outputs": [
        {
          "data": {
            "text/plain": [
              "[0, 1, 2, 3, 4, 5, 6, 7, 8, 9]"
            ]
          },
          "execution_count": 4,
          "metadata": {},
          "output_type": "execute_result"
        }
      ],
      "source": [
        "range(10)\n",
        "list(range(10))"
      ]
    },
    {
      "cell_type": "code",
      "execution_count": null,
      "metadata": {
        "id": "a0NBbctbTnWl",
        "outputId": "72ce817b-1a0b-4aed-ba2e-4b22ad247677"
      },
      "outputs": [
        {
          "data": {
            "text/plain": [
              "[5, 4, 3, 2, 1]"
            ]
          },
          "execution_count": 5,
          "metadata": {},
          "output_type": "execute_result"
        }
      ],
      "source": [
        "list(range(0, 20, 2))\n",
        "list(range(5, 0, -1))"
      ]
    },
    {
      "cell_type": "code",
      "execution_count": null,
      "metadata": {
        "id": "YkEUiiCOTnWl"
      },
      "outputs": [],
      "source": [
        "seq = [1, 2, 3, 4] \n",
        "for i in range(len(seq)): val = seq[i]"
      ]
    },
    {
      "cell_type": "code",
      "execution_count": null,
      "metadata": {
        "id": "yYUxXwRsTnWm",
        "outputId": "ba9f3b46-ad4e-427f-bcf0-e73011661afb"
      },
      "outputs": [
        {
          "ename": "IndentationError",
          "evalue": "expected an indented block (Temp/ipykernel_25588/312175510.py, line 2)",
          "output_type": "error",
          "traceback": [
            "\u001b[1;36m  File \u001b[1;32m\"C:\\Users\\LENOVO\\AppData\\Local\\Temp/ipykernel_25588/312175510.py\"\u001b[1;36m, line \u001b[1;32m2\u001b[0m\n\u001b[1;33m    for i in range(100000):\u001b[0m\n\u001b[1;37m                           ^\u001b[0m\n\u001b[1;31mIndentationError\u001b[0m\u001b[1;31m:\u001b[0m expected an indented block\n"
          ]
        }
      ],
      "source": [
        "sum = 0 \n",
        "for i in range(100000):"
      ]
    },
    {
      "cell_type": "code",
      "execution_count": null,
      "metadata": {
        "id": "aknEk2cETnWm",
        "outputId": "9bd88071-25da-420f-acac-fc0c327be83a"
      },
      "outputs": [
        {
          "ename": "TypeError",
          "evalue": "unsupported operand type(s) for +=: 'builtin_function_or_method' and 'int'",
          "output_type": "error",
          "traceback": [
            "\u001b[1;31m---------------------------------------------------------------------------\u001b[0m",
            "\u001b[1;31mTypeError\u001b[0m                                 Traceback (most recent call last)",
            "\u001b[1;32m~\\AppData\\Local\\Temp/ipykernel_25588/2244609066.py\u001b[0m in \u001b[0;36m<module>\u001b[1;34m\u001b[0m\n\u001b[0;32m      1\u001b[0m \u001b[1;31m# % is the modulo operator\u001b[0m\u001b[1;33m\u001b[0m\u001b[1;33m\u001b[0m\u001b[0m\n\u001b[0;32m      2\u001b[0m \u001b[1;32mif\u001b[0m \u001b[0mi\u001b[0m \u001b[1;33m%\u001b[0m \u001b[1;36m3\u001b[0m \u001b[1;33m==\u001b[0m \u001b[1;36m0\u001b[0m \u001b[1;32mor\u001b[0m \u001b[0mi\u001b[0m \u001b[1;33m%\u001b[0m \u001b[1;36m5\u001b[0m \u001b[1;33m==\u001b[0m \u001b[1;36m0\u001b[0m\u001b[1;33m:\u001b[0m\u001b[1;33m\u001b[0m\u001b[1;33m\u001b[0m\u001b[0m\n\u001b[1;32m----> 3\u001b[1;33m     \u001b[0msum\u001b[0m \u001b[1;33m+=\u001b[0m \u001b[0mi\u001b[0m\u001b[1;33m\u001b[0m\u001b[1;33m\u001b[0m\u001b[0m\n\u001b[0m",
            "\u001b[1;31mTypeError\u001b[0m: unsupported operand type(s) for +=: 'builtin_function_or_method' and 'int'"
          ]
        }
      ],
      "source": [
        "# % is the modulo operator\n",
        "if i % 3 == 0 or i % 5 == 0:\n",
        "    sum += i"
      ]
    },
    {
      "cell_type": "markdown",
      "metadata": {
        "id": "D4fZrmw_TnWn"
      },
      "source": [
        "Ternary expressions"
      ]
    },
    {
      "cell_type": "code",
      "execution_count": null,
      "metadata": {
        "id": "tbHBhzHFTnWn",
        "outputId": "023f9467-3e88-4f69-cb35-3de84110f525"
      },
      "outputs": [
        {
          "ename": "SyntaxError",
          "evalue": "invalid syntax (Temp/ipykernel_25588/330428849.py, line 1)",
          "output_type": "error",
          "traceback": [
            "\u001b[1;36m  File \u001b[1;32m\"C:\\Users\\LENOVO\\AppData\\Local\\Temp/ipykernel_25588/330428849.py\"\u001b[1;36m, line \u001b[1;32m1\u001b[0m\n\u001b[1;33m    value =\u001b[0m\n\u001b[1;37m            ^\u001b[0m\n\u001b[1;31mSyntaxError\u001b[0m\u001b[1;31m:\u001b[0m invalid syntax\n"
          ]
        }
      ],
      "source": [
        "value = \n",
        "if"
      ]
    },
    {
      "cell_type": "code",
      "execution_count": null,
      "metadata": {
        "id": "iV_pjfz9TnWn",
        "outputId": "bf81c5e6-45a9-4e49-df5e-6d9257e9d8f4"
      },
      "outputs": [
        {
          "data": {
            "text/plain": [
              "'Non-negative'"
            ]
          },
          "execution_count": 17,
          "metadata": {},
          "output_type": "execute_result"
        }
      ],
      "source": [
        "x = 5\n",
        "'Non-negative' if x >= 0 else 'Negative'"
      ]
    },
    {
      "cell_type": "markdown",
      "metadata": {
        "id": "SMNe0VmgTnWn"
      },
      "source": [
        "Built-in Data Structures, Functions,"
      ]
    },
    {
      "cell_type": "markdown",
      "metadata": {
        "id": "dnkEUEW0TnWo"
      },
      "source": [
        "Data Structures and Sequences"
      ]
    },
    {
      "cell_type": "markdown",
      "metadata": {
        "id": "AytLN7IcTnWo"
      },
      "source": [
        "Tuple"
      ]
    },
    {
      "cell_type": "code",
      "execution_count": null,
      "metadata": {
        "id": "ZTT1pwEdTnWo",
        "outputId": "1228c7e0-3470-4670-f62f-b6dd5e7a109e"
      },
      "outputs": [
        {
          "data": {
            "text/plain": [
              "(4, 5, 6)"
            ]
          },
          "execution_count": 18,
          "metadata": {},
          "output_type": "execute_result"
        }
      ],
      "source": [
        "tup = 4, 5, 6\n",
        "tup"
      ]
    },
    {
      "cell_type": "code",
      "execution_count": null,
      "metadata": {
        "id": "ovNc3FUDTnWo",
        "outputId": "4a48908a-ad13-44ea-f3c7-51980cfae599"
      },
      "outputs": [
        {
          "data": {
            "text/plain": [
              "((4, 5, 6), (7, 8))"
            ]
          },
          "execution_count": 19,
          "metadata": {},
          "output_type": "execute_result"
        }
      ],
      "source": [
        "nested_tup = (4, 5, 6), (7, 8)\n",
        "nested_tup"
      ]
    },
    {
      "cell_type": "code",
      "execution_count": null,
      "metadata": {
        "id": "RY8IkKWyTnWo",
        "outputId": "6f03f50e-ed36-4ad2-965e-5b93a4f2ab5a"
      },
      "outputs": [
        {
          "data": {
            "text/plain": [
              "('s', 't', 'r', 'i', 'n', 'g')"
            ]
          },
          "execution_count": 20,
          "metadata": {},
          "output_type": "execute_result"
        }
      ],
      "source": [
        "tuple([4, 0, 2])\n",
        "tup = tuple('string')\n",
        "tup"
      ]
    },
    {
      "cell_type": "code",
      "execution_count": null,
      "metadata": {
        "id": "NSVhePA2TnWp",
        "outputId": "06a4190c-1e42-42b1-82e0-77f400c5e336"
      },
      "outputs": [
        {
          "data": {
            "text/plain": [
              "'s'"
            ]
          },
          "execution_count": 21,
          "metadata": {},
          "output_type": "execute_result"
        }
      ],
      "source": [
        "tup[0]"
      ]
    },
    {
      "cell_type": "code",
      "execution_count": null,
      "metadata": {
        "id": "cx3n8LcqTnWp",
        "outputId": "411c80cd-f679-42d2-a37f-18d69aa18225"
      },
      "outputs": [
        {
          "ename": "TypeError",
          "evalue": "'tuple' object does not support item assignment",
          "output_type": "error",
          "traceback": [
            "\u001b[1;31m---------------------------------------------------------------------------\u001b[0m",
            "\u001b[1;31mTypeError\u001b[0m                                 Traceback (most recent call last)",
            "\u001b[1;32m~\\AppData\\Local\\Temp/ipykernel_25588/211141333.py\u001b[0m in \u001b[0;36m<module>\u001b[1;34m\u001b[0m\n\u001b[0;32m      1\u001b[0m \u001b[0mtup\u001b[0m \u001b[1;33m=\u001b[0m \u001b[0mtuple\u001b[0m\u001b[1;33m(\u001b[0m\u001b[1;33m[\u001b[0m\u001b[1;34m'foo'\u001b[0m\u001b[1;33m,\u001b[0m \u001b[1;33m[\u001b[0m\u001b[1;36m1\u001b[0m\u001b[1;33m,\u001b[0m \u001b[1;36m2\u001b[0m\u001b[1;33m]\u001b[0m\u001b[1;33m,\u001b[0m \u001b[1;32mTrue\u001b[0m\u001b[1;33m]\u001b[0m\u001b[1;33m)\u001b[0m\u001b[1;33m\u001b[0m\u001b[1;33m\u001b[0m\u001b[0m\n\u001b[1;32m----> 2\u001b[1;33m \u001b[0mtup\u001b[0m\u001b[1;33m[\u001b[0m\u001b[1;36m2\u001b[0m\u001b[1;33m]\u001b[0m \u001b[1;33m=\u001b[0m \u001b[1;32mFalse\u001b[0m\u001b[1;33m\u001b[0m\u001b[1;33m\u001b[0m\u001b[0m\n\u001b[0m",
            "\u001b[1;31mTypeError\u001b[0m: 'tuple' object does not support item assignment"
          ]
        }
      ],
      "source": [
        "tup = tuple(['foo', [1, 2], True])\n",
        "tup[2] = False"
      ]
    },
    {
      "cell_type": "code",
      "execution_count": null,
      "metadata": {
        "id": "9PnpHUkCTnWp",
        "outputId": "082310e5-daf3-4a0c-ae88-1178804ff541"
      },
      "outputs": [
        {
          "data": {
            "text/plain": [
              "('foo', [1, 2, 3], True)"
            ]
          },
          "execution_count": 23,
          "metadata": {},
          "output_type": "execute_result"
        }
      ],
      "source": [
        "tup[1].append(3)\n",
        "tup"
      ]
    },
    {
      "cell_type": "code",
      "execution_count": null,
      "metadata": {
        "id": "lJ06ZhWJTnWp",
        "outputId": "f58d50bf-5c5b-4025-bd27-3baf51e8e759"
      },
      "outputs": [
        {
          "data": {
            "text/plain": [
              "(4, None, 'foo', 6, 0, 'bar')"
            ]
          },
          "execution_count": 24,
          "metadata": {},
          "output_type": "execute_result"
        }
      ],
      "source": [
        "(4, None, 'foo') + (6, 0) + ('bar',)"
      ]
    },
    {
      "cell_type": "code",
      "execution_count": null,
      "metadata": {
        "id": "_uRrFfX-TnWq",
        "outputId": "1bd1fced-c8dd-4467-d6b9-05bc58bb8572"
      },
      "outputs": [
        {
          "data": {
            "text/plain": [
              "('foo', 'bar', 'foo', 'bar', 'foo', 'bar', 'foo', 'bar')"
            ]
          },
          "execution_count": 25,
          "metadata": {},
          "output_type": "execute_result"
        }
      ],
      "source": [
        "('foo', 'bar') * 4"
      ]
    },
    {
      "cell_type": "markdown",
      "metadata": {
        "id": "F2rwYwChTnWq"
      },
      "source": [
        "Unpacking tuples"
      ]
    },
    {
      "cell_type": "code",
      "execution_count": null,
      "metadata": {
        "id": "ro0kYjOoTnWq",
        "outputId": "5bd4d3be-e79e-4734-a392-33f474dea0e1"
      },
      "outputs": [
        {
          "data": {
            "text/plain": [
              "5"
            ]
          },
          "execution_count": 26,
          "metadata": {},
          "output_type": "execute_result"
        }
      ],
      "source": [
        "tup = (4, 5, 6)\n",
        "a, b, c = tup\n",
        "b"
      ]
    },
    {
      "cell_type": "code",
      "execution_count": null,
      "metadata": {
        "id": "W1b5l3nyTnWq",
        "outputId": "c8228138-2933-4a77-c130-3133439ace4d"
      },
      "outputs": [
        {
          "data": {
            "text/plain": [
              "7"
            ]
          },
          "execution_count": 27,
          "metadata": {},
          "output_type": "execute_result"
        }
      ],
      "source": [
        "tup = 4, 5, (6, 7)\n",
        "a, b, (c, d) = tup\n",
        "d"
      ]
    },
    {
      "cell_type": "code",
      "execution_count": null,
      "metadata": {
        "id": "QfwMnX49TnWr",
        "outputId": "6655cf0d-8396-4658-9e22-d7180c3c09bd"
      },
      "outputs": [
        {
          "ename": "SyntaxError",
          "evalue": "invalid syntax (Temp/ipykernel_25588/2833571655.py, line 1)",
          "output_type": "error",
          "traceback": [
            "\u001b[1;36m  File \u001b[1;32m\"C:\\Users\\LENOVO\\AppData\\Local\\Temp/ipykernel_25588/2833571655.py\"\u001b[1;36m, line \u001b[1;32m1\u001b[0m\n\u001b[1;33m    tmp = a a = b b = tmp\u001b[0m\n\u001b[1;37m            ^\u001b[0m\n\u001b[1;31mSyntaxError\u001b[0m\u001b[1;31m:\u001b[0m invalid syntax\n"
          ]
        }
      ],
      "source": [
        "tmp = a a = b b = tmp"
      ]
    },
    {
      "cell_type": "code",
      "execution_count": null,
      "metadata": {
        "id": "C124y7qITnWr",
        "outputId": "ef0c4980-9d9f-45e2-dcb6-ada110886bd5"
      },
      "outputs": [
        {
          "data": {
            "text/plain": [
              "1"
            ]
          },
          "execution_count": 29,
          "metadata": {},
          "output_type": "execute_result"
        }
      ],
      "source": [
        "a, b = 1, 2\n",
        "a\n",
        "b\n",
        "b, a = a, b\n",
        "a\n",
        "b"
      ]
    },
    {
      "cell_type": "code",
      "execution_count": null,
      "metadata": {
        "id": "oj_oQfdfTnWr",
        "outputId": "df4dd5eb-b5a4-46da-b79d-e7abfd662b83"
      },
      "outputs": [
        {
          "name": "stdout",
          "output_type": "stream",
          "text": [
            "a=1, b=2, c=3\n",
            "a=4, b=5, c=6\n",
            "a=7, b=8, c=9\n"
          ]
        }
      ],
      "source": [
        "seq = [(1, 2, 3), (4, 5, 6), (7, 8, 9)]\n",
        "for a, b, c in seq:\n",
        "    print('a={0}, b={1}, c={2}'.format(a, b, c))"
      ]
    },
    {
      "cell_type": "code",
      "execution_count": null,
      "metadata": {
        "id": "8zr3TVkDTnWr",
        "outputId": "ea0b4232-6249-4534-da13-a99ead9b1c34"
      },
      "outputs": [
        {
          "data": {
            "text/plain": [
              "[3, 4, 5]"
            ]
          },
          "execution_count": 31,
          "metadata": {},
          "output_type": "execute_result"
        }
      ],
      "source": [
        "values = 1, 2, 3, 4, 5\n",
        "a, b, *rest = values\n",
        "a, b\n",
        "rest"
      ]
    },
    {
      "cell_type": "code",
      "execution_count": null,
      "metadata": {
        "id": "Iv_AXIjzTnWs"
      },
      "outputs": [],
      "source": [
        "a, b, *_ = values"
      ]
    },
    {
      "cell_type": "markdown",
      "metadata": {
        "id": "bVAq7q9nTnWs"
      },
      "source": [
        "Tuple methods"
      ]
    },
    {
      "cell_type": "code",
      "execution_count": null,
      "metadata": {
        "id": "AiV7rRJjTnWs",
        "outputId": "d4b50a50-9146-41dc-bae2-053700f796e2"
      },
      "outputs": [
        {
          "data": {
            "text/plain": [
              "4"
            ]
          },
          "execution_count": 33,
          "metadata": {},
          "output_type": "execute_result"
        }
      ],
      "source": [
        "a = (1, 2, 2, 2, 3, 4, 2)\n",
        "a.count(2)"
      ]
    },
    {
      "cell_type": "markdown",
      "metadata": {
        "id": "JuiV8mppTnWt"
      },
      "source": [
        "List"
      ]
    },
    {
      "cell_type": "code",
      "execution_count": null,
      "metadata": {
        "id": "sviV_M4BTnWt",
        "outputId": "72b9bf3a-4372-4f78-a541-d19e349b156f"
      },
      "outputs": [
        {
          "data": {
            "text/plain": [
              "['foo', 'peekaboo', 'baz']"
            ]
          },
          "execution_count": 34,
          "metadata": {},
          "output_type": "execute_result"
        }
      ],
      "source": [
        "a_list = [2, 3, 7, None]\n",
        "tup = ('foo', 'bar', 'baz')\n",
        "b_list = list(tup)\n",
        "b_list\n",
        "b_list[1] = 'peekaboo'\n",
        "b_list"
      ]
    },
    {
      "cell_type": "code",
      "execution_count": null,
      "metadata": {
        "id": "oU7MUyMYTnWt",
        "outputId": "08481ff9-3804-4f8e-cde4-ae033a6ec914"
      },
      "outputs": [
        {
          "data": {
            "text/plain": [
              "[0, 1, 2, 3, 4, 5, 6, 7, 8, 9]"
            ]
          },
          "execution_count": 35,
          "metadata": {},
          "output_type": "execute_result"
        }
      ],
      "source": [
        "gen = range(10)\n",
        "gen\n",
        "list(gen)"
      ]
    },
    {
      "cell_type": "markdown",
      "metadata": {
        "id": "T7QauPmxTnWu"
      },
      "source": [
        "Adding and removing elements"
      ]
    },
    {
      "cell_type": "code",
      "execution_count": null,
      "metadata": {
        "id": "90eQKWO4TnWu",
        "outputId": "97f670b3-9b51-45ad-8e7c-b11de322d42c"
      },
      "outputs": [
        {
          "data": {
            "text/plain": [
              "['foo', 'peekaboo', 'baz', 'dwarf']"
            ]
          },
          "execution_count": 36,
          "metadata": {},
          "output_type": "execute_result"
        }
      ],
      "source": [
        "b_list.append('dwarf')\n",
        "b_list"
      ]
    },
    {
      "cell_type": "code",
      "execution_count": null,
      "metadata": {
        "id": "o9DpJKHHTnWv",
        "outputId": "41ad266d-c3f0-493c-d200-4604399ef674"
      },
      "outputs": [
        {
          "data": {
            "text/plain": [
              "['foo', 'red', 'peekaboo', 'baz', 'dwarf']"
            ]
          },
          "execution_count": 37,
          "metadata": {},
          "output_type": "execute_result"
        }
      ],
      "source": [
        "b_list.insert(1, 'red')\n",
        "b_list"
      ]
    },
    {
      "cell_type": "code",
      "execution_count": null,
      "metadata": {
        "id": "0pN79ytETnWv",
        "outputId": "e7fb7b7b-0838-4a55-9738-c817b3bc188d"
      },
      "outputs": [
        {
          "data": {
            "text/plain": [
              "['foo', 'red', 'baz', 'dwarf']"
            ]
          },
          "execution_count": 38,
          "metadata": {},
          "output_type": "execute_result"
        }
      ],
      "source": [
        "b_list.pop(2)\n",
        "b_list"
      ]
    },
    {
      "cell_type": "code",
      "execution_count": null,
      "metadata": {
        "id": "Kgrv1TizTnWv",
        "outputId": "f29a2264-9800-4a32-df61-db4ce7cac0e7"
      },
      "outputs": [
        {
          "data": {
            "text/plain": [
              "['red', 'baz', 'dwarf', 'foo']"
            ]
          },
          "execution_count": 39,
          "metadata": {},
          "output_type": "execute_result"
        }
      ],
      "source": [
        "b_list.append('foo')\n",
        "b_list\n",
        "b_list.remove('foo')\n",
        "b_list"
      ]
    },
    {
      "cell_type": "code",
      "execution_count": null,
      "metadata": {
        "id": "pCQmg9TjTnWw",
        "outputId": "764e9b88-11f7-4f97-a0b9-9377e077a15b"
      },
      "outputs": [
        {
          "data": {
            "text/plain": [
              "True"
            ]
          },
          "execution_count": 40,
          "metadata": {},
          "output_type": "execute_result"
        }
      ],
      "source": [
        "'dwarf' in b_list"
      ]
    },
    {
      "cell_type": "code",
      "execution_count": null,
      "metadata": {
        "id": "BbqnxRWETnWw",
        "outputId": "eb6142e4-195d-442e-9876-56902604b1b4"
      },
      "outputs": [
        {
          "data": {
            "text/plain": [
              "False"
            ]
          },
          "execution_count": 41,
          "metadata": {},
          "output_type": "execute_result"
        }
      ],
      "source": [
        "'dwarf' not in b_list"
      ]
    },
    {
      "cell_type": "markdown",
      "metadata": {
        "id": "-kfDchs_TnWx"
      },
      "source": [
        "Concatenating and combining lists"
      ]
    },
    {
      "cell_type": "code",
      "execution_count": null,
      "metadata": {
        "id": "8mx8mleYTnWx",
        "outputId": "2fe05b1b-070c-4606-eaa2-537b9a233b8a"
      },
      "outputs": [
        {
          "data": {
            "text/plain": [
              "[4, None, 'foo', 7, 8, (2, 3)]"
            ]
          },
          "execution_count": 42,
          "metadata": {},
          "output_type": "execute_result"
        }
      ],
      "source": [
        "[4, None, 'foo'] + [7, 8, (2, 3)]"
      ]
    },
    {
      "cell_type": "code",
      "execution_count": null,
      "metadata": {
        "id": "8V9mARWDTnWy",
        "outputId": "45eb0d63-dc43-40cc-d5bc-b1f72fb2a1ce"
      },
      "outputs": [
        {
          "data": {
            "text/plain": [
              "[4, None, 'foo', 7, 8, (2, 3)]"
            ]
          },
          "execution_count": 43,
          "metadata": {},
          "output_type": "execute_result"
        }
      ],
      "source": [
        "x = [4, None, 'foo']\n",
        "x.extend([7, 8, (2, 3)])\n",
        "x"
      ]
    },
    {
      "cell_type": "markdown",
      "metadata": {
        "id": "kJRBk1YxTnWy"
      },
      "source": [
        "everything = [] for chunk in list_of_lists: everything.extend(chunk)\n",
        "\n",
        "everything = [] for chunk in list_of_lists: everything = everything + chunk"
      ]
    },
    {
      "cell_type": "markdown",
      "metadata": {
        "id": "V2SqNE_FTnWy"
      },
      "source": [
        "Sorting"
      ]
    },
    {
      "cell_type": "code",
      "execution_count": null,
      "metadata": {
        "id": "obdXVZdUTnWz",
        "outputId": "84dd197c-3ef3-4018-810e-92070c370ff1"
      },
      "outputs": [
        {
          "data": {
            "text/plain": [
              "[1, 2, 3, 5, 7]"
            ]
          },
          "execution_count": 44,
          "metadata": {},
          "output_type": "execute_result"
        }
      ],
      "source": [
        "a = [7, 2, 5, 1, 3]\n",
        "a.sort()\n",
        "a"
      ]
    },
    {
      "cell_type": "code",
      "execution_count": null,
      "metadata": {
        "id": "DKx5s8WETnWz",
        "outputId": "e2dcaec2-0a64-4ffe-be69-c222f36bab56"
      },
      "outputs": [
        {
          "data": {
            "text/plain": [
              "['He', 'saw', 'six', 'small', 'foxes']"
            ]
          },
          "execution_count": 45,
          "metadata": {},
          "output_type": "execute_result"
        }
      ],
      "source": [
        "b = ['saw', 'small', 'He', 'foxes', 'six']\n",
        "b.sort(key=len)\n",
        "b"
      ]
    },
    {
      "cell_type": "markdown",
      "metadata": {
        "id": "62MwkI00TnWz"
      },
      "source": [
        "Binary search and maintaining a sorted list"
      ]
    },
    {
      "cell_type": "code",
      "execution_count": null,
      "metadata": {
        "id": "S1IlnJn9TnW0",
        "outputId": "266df92d-5b5a-4877-a9e4-1c55bc726bb5"
      },
      "outputs": [
        {
          "data": {
            "text/plain": [
              "[1, 2, 2, 2, 3, 4, 6, 7]"
            ]
          },
          "execution_count": 46,
          "metadata": {},
          "output_type": "execute_result"
        }
      ],
      "source": [
        "import bisect\n",
        "c = [1, 2, 2, 2, 3, 4, 7]\n",
        "bisect.bisect(c, 2)\n",
        "bisect.bisect(c, 5)\n",
        "bisect.insort(c, 6)\n",
        "c"
      ]
    },
    {
      "cell_type": "markdown",
      "metadata": {
        "id": "Dk1s-uVbTnW0"
      },
      "source": [
        "Slicing"
      ]
    },
    {
      "cell_type": "code",
      "execution_count": null,
      "metadata": {
        "id": "R6usTBjRTnW0",
        "outputId": "a00ff5c6-be29-4bd8-c168-544e7a66b656"
      },
      "outputs": [
        {
          "data": {
            "text/plain": [
              "[2, 3, 7, 5]"
            ]
          },
          "execution_count": 47,
          "metadata": {},
          "output_type": "execute_result"
        }
      ],
      "source": [
        "seq = [7, 2, 3, 7, 5, 6, 0, 1]\n",
        "seq[1:5]"
      ]
    },
    {
      "cell_type": "code",
      "execution_count": null,
      "metadata": {
        "id": "h5_ribidTnW0",
        "outputId": "f8dc8854-bb96-4c73-dbf9-72524c0b6e17"
      },
      "outputs": [
        {
          "data": {
            "text/plain": [
              "[7, 2, 3, 6, 3, 5, 6, 0, 1]"
            ]
          },
          "execution_count": 48,
          "metadata": {},
          "output_type": "execute_result"
        }
      ],
      "source": [
        "seq[3:4] = [6, 3]\n",
        "seq"
      ]
    },
    {
      "cell_type": "code",
      "execution_count": null,
      "metadata": {
        "id": "_ZUm62XlTnW0",
        "outputId": "8b13d654-b6e6-403e-fb8e-9e1fcc7f16f9"
      },
      "outputs": [
        {
          "data": {
            "text/plain": [
              "[6, 3, 5, 6, 0, 1]"
            ]
          },
          "execution_count": 49,
          "metadata": {},
          "output_type": "execute_result"
        }
      ],
      "source": [
        "seq[:5]\n",
        "seq[3:]"
      ]
    },
    {
      "cell_type": "code",
      "execution_count": null,
      "metadata": {
        "id": "sTFIzZf-TnW1",
        "outputId": "d0706a28-19d2-411b-e2d5-af19553954b4"
      },
      "outputs": [
        {
          "data": {
            "text/plain": [
              "[6, 3, 5, 6]"
            ]
          },
          "execution_count": 50,
          "metadata": {},
          "output_type": "execute_result"
        }
      ],
      "source": [
        "seq[-4:]\n",
        "seq[-6:-2]"
      ]
    },
    {
      "cell_type": "code",
      "execution_count": null,
      "metadata": {
        "id": "zwo65iqNTnW1",
        "outputId": "b941f53a-fdf3-4dd5-cded-d8b030afdf71"
      },
      "outputs": [
        {
          "data": {
            "text/plain": [
              "[7, 3, 3, 6, 1]"
            ]
          },
          "execution_count": 51,
          "metadata": {},
          "output_type": "execute_result"
        }
      ],
      "source": [
        "seq[::2]"
      ]
    },
    {
      "cell_type": "code",
      "execution_count": null,
      "metadata": {
        "id": "MuBtWzLJTnW1",
        "outputId": "9b9d9302-caaf-4579-a9be-51814a2e6a13"
      },
      "outputs": [
        {
          "data": {
            "text/plain": [
              "[7, 3, 3, 6, 1]"
            ]
          },
          "execution_count": 52,
          "metadata": {},
          "output_type": "execute_result"
        }
      ],
      "source": [
        "seq[::2]"
      ]
    },
    {
      "cell_type": "code",
      "execution_count": null,
      "metadata": {
        "id": "_h2QQ2YKTnW1",
        "outputId": "ad9ec9fb-8726-4ce0-8b42-a221e683be9e"
      },
      "outputs": [
        {
          "data": {
            "text/plain": [
              "[1, 0, 6, 5, 3, 6, 3, 2, 7]"
            ]
          },
          "execution_count": 53,
          "metadata": {},
          "output_type": "execute_result"
        }
      ],
      "source": [
        "seq[::-1]"
      ]
    },
    {
      "cell_type": "markdown",
      "metadata": {
        "id": "cc6cTgGSTnW2"
      },
      "source": [
        "Built-in Sequence Functions"
      ]
    },
    {
      "cell_type": "markdown",
      "metadata": {
        "id": "roGHjWX0TnW2"
      },
      "source": [
        "enumerate"
      ]
    },
    {
      "cell_type": "markdown",
      "metadata": {
        "id": "QIfEvei-TnW2"
      },
      "source": [
        "i = 0 for value in collection:"
      ]
    },
    {
      "cell_type": "markdown",
      "metadata": {
        "id": "pW5yI8woTnW2"
      },
      "source": [
        "o something with value"
      ]
    },
    {
      "cell_type": "code",
      "execution_count": null,
      "metadata": {
        "id": "B0rcVyI7TnW2"
      },
      "outputs": [],
      "source": [
        "i += 1"
      ]
    },
    {
      "cell_type": "markdown",
      "metadata": {
        "id": "Tqw3Ut-gTnW3"
      },
      "source": [
        "for i, value in enumerate(collection):"
      ]
    },
    {
      "cell_type": "markdown",
      "metadata": {
        "id": "tisN-St4TnW3"
      },
      "source": [
        "do something with value"
      ]
    },
    {
      "cell_type": "code",
      "execution_count": null,
      "metadata": {
        "id": "Rsq8PRRrTnW3",
        "outputId": "8956cba6-bc9f-4637-d5a1-f3c4e5d4b20c"
      },
      "outputs": [
        {
          "data": {
            "text/plain": [
              "{'foo': 0, 'bar': 1, 'baz': 2}"
            ]
          },
          "execution_count": 56,
          "metadata": {},
          "output_type": "execute_result"
        }
      ],
      "source": [
        "some_list = ['foo', 'bar', 'baz']\n",
        "mapping = {}\n",
        "for i, v in enumerate(some_list):\n",
        "    mapping[v] = i\n",
        "mapping"
      ]
    },
    {
      "cell_type": "markdown",
      "metadata": {
        "id": "E7b87KwRTnW3"
      },
      "source": [
        "sorted"
      ]
    },
    {
      "cell_type": "code",
      "execution_count": null,
      "metadata": {
        "id": "QXAmU5hCTnW4",
        "outputId": "a7b4be41-70d3-4bfc-8bf8-0e8dfee9e3dc"
      },
      "outputs": [
        {
          "data": {
            "text/plain": [
              "[' ', 'a', 'c', 'e', 'e', 'h', 'o', 'r', 'r', 's']"
            ]
          },
          "execution_count": 57,
          "metadata": {},
          "output_type": "execute_result"
        }
      ],
      "source": [
        "sorted([7, 1, 2, 6, 0, 3, 2])\n",
        "sorted('horse race')"
      ]
    },
    {
      "cell_type": "code",
      "execution_count": null,
      "metadata": {
        "id": "wUwNgmfBTnW4",
        "outputId": "87a22ce0-9917-4df2-9833-7af2b6a2f0a9"
      },
      "outputs": [
        {
          "data": {
            "text/plain": [
              "[('foo', 'one'), ('bar', 'two'), ('baz', 'three')]"
            ]
          },
          "execution_count": 58,
          "metadata": {},
          "output_type": "execute_result"
        }
      ],
      "source": [
        "seq1 = ['foo', 'bar', 'baz']\n",
        "seq2 = ['one', 'two', 'three']\n",
        "zipped = zip(seq1, seq2)\n",
        "list(zipped)"
      ]
    },
    {
      "cell_type": "code",
      "execution_count": null,
      "metadata": {
        "id": "4i4A9OlYTnW4",
        "outputId": "98b1ce70-fc90-45a8-fde0-327bdf230a62"
      },
      "outputs": [
        {
          "data": {
            "text/plain": [
              "[('foo', 'one', False), ('bar', 'two', True)]"
            ]
          },
          "execution_count": 59,
          "metadata": {},
          "output_type": "execute_result"
        }
      ],
      "source": [
        "seq3 = [False, True]\n",
        "list(zip(seq1, seq2, seq3))"
      ]
    },
    {
      "cell_type": "code",
      "execution_count": null,
      "metadata": {
        "id": "iEXYE26eTnW4",
        "outputId": "a79318a5-a077-47e8-b84f-d39c881619b7"
      },
      "outputs": [
        {
          "name": "stdout",
          "output_type": "stream",
          "text": [
            "0: foo, one\n",
            "1: bar, two\n",
            "2: baz, three\n"
          ]
        }
      ],
      "source": [
        "for i, (a, b) in enumerate(zip(seq1, seq2)):\n",
        "    print('{0}: {1}, {2}'.format(i, a, b))"
      ]
    },
    {
      "cell_type": "code",
      "execution_count": null,
      "metadata": {
        "id": "E2JokrWzTnW5",
        "outputId": "bec3ca61-5b5b-4ec3-ca3e-bba482b8cdb4"
      },
      "outputs": [
        {
          "data": {
            "text/plain": [
              "('Ryan', 'Clemens', 'Curt')"
            ]
          },
          "execution_count": 61,
          "metadata": {},
          "output_type": "execute_result"
        }
      ],
      "source": [
        "pitchers = [('Nolan', 'Ryan'), ('Roger', 'Clemens'),\n",
        "            ('Schilling', 'Curt')]\n",
        "first_names, last_names = zip(*pitchers)\n",
        "first_names\n",
        "last_names"
      ]
    },
    {
      "cell_type": "markdown",
      "metadata": {
        "id": "HvuCO68gTnW5"
      },
      "source": [
        "reversed"
      ]
    },
    {
      "cell_type": "code",
      "execution_count": null,
      "metadata": {
        "id": "i6t5q5GRTnW-",
        "outputId": "87aa7004-554c-46e9-d99c-f1f7e2365807"
      },
      "outputs": [
        {
          "data": {
            "text/plain": [
              "[9, 8, 7, 6, 5, 4, 3, 2, 1, 0]"
            ]
          },
          "execution_count": 62,
          "metadata": {},
          "output_type": "execute_result"
        }
      ],
      "source": [
        "list(reversed(range(10)))"
      ]
    },
    {
      "cell_type": "markdown",
      "metadata": {
        "id": "FlXGnp4lTnW-"
      },
      "source": [
        "dict"
      ]
    },
    {
      "cell_type": "code",
      "execution_count": null,
      "metadata": {
        "id": "Uuh2E2R0TnW_",
        "outputId": "465e391c-3539-4b4f-890f-3dd28f49981a"
      },
      "outputs": [
        {
          "data": {
            "text/plain": [
              "{'a': 'some value', 'b': [1, 2, 3, 4]}"
            ]
          },
          "execution_count": 63,
          "metadata": {},
          "output_type": "execute_result"
        }
      ],
      "source": [
        "empty_dict = {}\n",
        "d1 = {'a' : 'some value', 'b' : [1, 2, 3, 4]}\n",
        "d1"
      ]
    },
    {
      "cell_type": "code",
      "execution_count": null,
      "metadata": {
        "id": "d4noHTLOTnW_",
        "outputId": "5cc9975b-c0d5-4549-d877-ffc0b67a2e96"
      },
      "outputs": [
        {
          "data": {
            "text/plain": [
              "[1, 2, 3, 4]"
            ]
          },
          "execution_count": 64,
          "metadata": {},
          "output_type": "execute_result"
        }
      ],
      "source": [
        "d1[7] = 'an integer'\n",
        "d1\n",
        "d1['b']"
      ]
    },
    {
      "cell_type": "code",
      "execution_count": null,
      "metadata": {
        "id": "TroWRJf-TnW_",
        "outputId": "c0d903b7-39e7-440b-960b-80d4696d5fbf"
      },
      "outputs": [
        {
          "data": {
            "text/plain": [
              "True"
            ]
          },
          "execution_count": 65,
          "metadata": {},
          "output_type": "execute_result"
        }
      ],
      "source": [
        "'b' in d1"
      ]
    },
    {
      "cell_type": "code",
      "execution_count": null,
      "metadata": {
        "id": "_QTeICMDTnW_"
      },
      "outputs": [],
      "source": [
        "d1[5] = 'some value'\n",
        "d1\n",
        "d1['dummy'] = 'another value'\n",
        "d1\n",
        "del d1[5]\n",
        "d1\n",
        "ret = d1.pop('dummy')\n",
        "ret\n",
        "d1"
      ]
    },
    {
      "cell_type": "code",
      "execution_count": null,
      "metadata": {
        "id": "2inP0MbgTnXA",
        "outputId": "36c7bef7-0a13-45c6-ae35-a6c682320d84"
      },
      "outputs": [
        {
          "data": {
            "text/plain": [
              "['some value', [1, 2, 3, 4], 'an integer']"
            ]
          },
          "execution_count": 66,
          "metadata": {},
          "output_type": "execute_result"
        }
      ],
      "source": [
        "list(d1.keys())\n",
        "list(d1.values())"
      ]
    },
    {
      "cell_type": "code",
      "execution_count": null,
      "metadata": {
        "id": "Q24sMawkTnXA",
        "outputId": "246c6d5e-ae3a-4747-9e16-9bba0521e062"
      },
      "outputs": [
        {
          "data": {
            "text/plain": [
              "{'a': 'some value', 'b': 'foo', 7: 'an integer', 'c': 12}"
            ]
          },
          "execution_count": 69,
          "metadata": {},
          "output_type": "execute_result"
        }
      ],
      "source": [
        "d1.update({'b' : 'foo', 'c' : 12})\n",
        "d1"
      ]
    },
    {
      "cell_type": "markdown",
      "metadata": {
        "id": "JmBFO8JgTnXA"
      },
      "source": [
        "Creating dicts from sequences"
      ]
    },
    {
      "cell_type": "code",
      "execution_count": null,
      "metadata": {
        "id": "zpsHlFqZTnXA",
        "outputId": "e4df351f-9a8a-4527-8819-b3a67fde39be"
      },
      "outputs": [
        {
          "ename": "SyntaxError",
          "evalue": "invalid syntax (Temp/ipykernel_25588/1897899492.py, line 1)",
          "output_type": "error",
          "traceback": [
            "\u001b[1;36m  File \u001b[1;32m\"C:\\Users\\LENOVO\\AppData\\Local\\Temp/ipykernel_25588/1897899492.py\"\u001b[1;36m, line \u001b[1;32m1\u001b[0m\n\u001b[1;33m    mapping = {} for key, value in zip(key_list, value_list): mapping[key] = value\u001b[0m\n\u001b[1;37m                 ^\u001b[0m\n\u001b[1;31mSyntaxError\u001b[0m\u001b[1;31m:\u001b[0m invalid syntax\n"
          ]
        }
      ],
      "source": [
        "mapping = {} for key, value in zip(key_list, value_list): mapping[key] = value\n",
        "\n",
        "mapping = dict(zip(range(5), reversed(range(5))))\n",
        "mapping"
      ]
    },
    {
      "cell_type": "markdown",
      "metadata": {
        "id": "t52ngnIeTnXA"
      },
      "source": [
        "Default values\n",
        "if key in some_dict: value = some_dict[key] else: value = default_value\n",
        "\n",
        "value = some_dict.get(key, default_value)"
      ]
    },
    {
      "cell_type": "code",
      "execution_count": null,
      "metadata": {
        "id": "_T8a0LoLTnXB",
        "outputId": "e19308cd-be69-4ac2-f506-561ca4c10894"
      },
      "outputs": [
        {
          "data": {
            "text/plain": [
              "{'a': ['apple', 'atom'], 'b': ['bat', 'bar', 'book']}"
            ]
          },
          "execution_count": 71,
          "metadata": {},
          "output_type": "execute_result"
        }
      ],
      "source": [
        "words = ['apple', 'bat', 'bar', 'atom', 'book']\n",
        "by_letter = {}\n",
        "for word in words:\n",
        "    letter = word[0]\n",
        "    if letter not in by_letter:\n",
        "        by_letter[letter] = [word]\n",
        "    else:\n",
        "        by_letter[letter].append(word)\n",
        "by_letter"
      ]
    },
    {
      "cell_type": "markdown",
      "metadata": {
        "id": "HnhXdzrATnXB"
      },
      "source": [
        "for word in words: letter = word[0] by_letter.setdefault(letter, []).append(word)\n",
        "\n",
        "from collections import defaultdict by_letter = defaultdict(list) for word in words: by_letter[word[0]].append(word)"
      ]
    },
    {
      "cell_type": "markdown",
      "metadata": {
        "id": "u8oTNEOOTnXB"
      },
      "source": [
        "Valid dict key types"
      ]
    },
    {
      "cell_type": "code",
      "execution_count": null,
      "metadata": {
        "id": "j2fn8vM8TnXB",
        "outputId": "f32181b4-e23c-483d-8bea-14aed49fa377"
      },
      "outputs": [
        {
          "ename": "TypeError",
          "evalue": "unhashable type: 'list'",
          "output_type": "error",
          "traceback": [
            "\u001b[1;31m---------------------------------------------------------------------------\u001b[0m",
            "\u001b[1;31mTypeError\u001b[0m                                 Traceback (most recent call last)",
            "\u001b[1;32m~\\AppData\\Local\\Temp/ipykernel_25588/3722732650.py\u001b[0m in \u001b[0;36m<module>\u001b[1;34m\u001b[0m\n\u001b[0;32m      1\u001b[0m \u001b[0mhash\u001b[0m\u001b[1;33m(\u001b[0m\u001b[1;34m'string'\u001b[0m\u001b[1;33m)\u001b[0m\u001b[1;33m\u001b[0m\u001b[1;33m\u001b[0m\u001b[0m\n\u001b[0;32m      2\u001b[0m \u001b[0mhash\u001b[0m\u001b[1;33m(\u001b[0m\u001b[1;33m(\u001b[0m\u001b[1;36m1\u001b[0m\u001b[1;33m,\u001b[0m \u001b[1;36m2\u001b[0m\u001b[1;33m,\u001b[0m \u001b[1;33m(\u001b[0m\u001b[1;36m2\u001b[0m\u001b[1;33m,\u001b[0m \u001b[1;36m3\u001b[0m\u001b[1;33m)\u001b[0m\u001b[1;33m)\u001b[0m\u001b[1;33m)\u001b[0m\u001b[1;33m\u001b[0m\u001b[1;33m\u001b[0m\u001b[0m\n\u001b[1;32m----> 3\u001b[1;33m \u001b[0mhash\u001b[0m\u001b[1;33m(\u001b[0m\u001b[1;33m(\u001b[0m\u001b[1;36m1\u001b[0m\u001b[1;33m,\u001b[0m \u001b[1;36m2\u001b[0m\u001b[1;33m,\u001b[0m \u001b[1;33m[\u001b[0m\u001b[1;36m2\u001b[0m\u001b[1;33m,\u001b[0m \u001b[1;36m3\u001b[0m\u001b[1;33m]\u001b[0m\u001b[1;33m)\u001b[0m\u001b[1;33m)\u001b[0m \u001b[1;31m# fails because lists are mutable\u001b[0m\u001b[1;33m\u001b[0m\u001b[1;33m\u001b[0m\u001b[0m\n\u001b[0m",
            "\u001b[1;31mTypeError\u001b[0m: unhashable type: 'list'"
          ]
        }
      ],
      "source": [
        "hash('string')\n",
        "hash((1, 2, (2, 3)))\n",
        "hash((1, 2, [2, 3])) # fails because lists are mutable"
      ]
    },
    {
      "cell_type": "code",
      "execution_count": null,
      "metadata": {
        "id": "tyZ0wO7qTnXB",
        "outputId": "605e4f64-552f-49a8-f0d5-fdd9ddbf70e3"
      },
      "outputs": [
        {
          "ename": "TypeError",
          "evalue": "'int' object does not support item assignment",
          "output_type": "error",
          "traceback": [
            "\u001b[1;31m---------------------------------------------------------------------------\u001b[0m",
            "\u001b[1;31mTypeError\u001b[0m                                 Traceback (most recent call last)",
            "\u001b[1;32m~\\AppData\\Local\\Temp/ipykernel_25588/882507768.py\u001b[0m in \u001b[0;36m<module>\u001b[1;34m\u001b[0m\n\u001b[1;32m----> 1\u001b[1;33m \u001b[0md\u001b[0m\u001b[1;33m[\u001b[0m\u001b[0mtuple\u001b[0m\u001b[1;33m(\u001b[0m\u001b[1;33m[\u001b[0m\u001b[1;36m1\u001b[0m\u001b[1;33m,\u001b[0m \u001b[1;36m2\u001b[0m\u001b[1;33m,\u001b[0m \u001b[1;36m3\u001b[0m\u001b[1;33m]\u001b[0m\u001b[1;33m)\u001b[0m\u001b[1;33m]\u001b[0m \u001b[1;33m=\u001b[0m \u001b[1;36m5\u001b[0m\u001b[1;33m\u001b[0m\u001b[1;33m\u001b[0m\u001b[0m\n\u001b[0m\u001b[0;32m      2\u001b[0m \u001b[0md\u001b[0m\u001b[1;33m\u001b[0m\u001b[1;33m\u001b[0m\u001b[0m\n",
            "\u001b[1;31mTypeError\u001b[0m: 'int' object does not support item assignment"
          ]
        }
      ],
      "source": [
        "d[tuple([1, 2, 3])] = 5\n",
        "d\n"
      ]
    },
    {
      "cell_type": "markdown",
      "metadata": {
        "id": "nImSf4FsTnXC"
      },
      "source": [
        "set"
      ]
    },
    {
      "cell_type": "code",
      "execution_count": null,
      "metadata": {
        "id": "ej6XBueBTnXC",
        "outputId": "ac8d9079-739a-49d9-f997-5cf1dfef8c41"
      },
      "outputs": [
        {
          "data": {
            "text/plain": [
              "{1, 2, 3}"
            ]
          },
          "execution_count": 75,
          "metadata": {},
          "output_type": "execute_result"
        }
      ],
      "source": [
        "set([2, 2, 2, 1, 3, 3])\n",
        "{2, 2, 2, 1, 3, 3}"
      ]
    },
    {
      "cell_type": "code",
      "execution_count": null,
      "metadata": {
        "id": "AxKMMNL1TnXC"
      },
      "outputs": [],
      "source": [
        "a = {1, 2, 3, 4, 5}\n",
        "b = {3, 4, 5, 6, 7, 8}"
      ]
    },
    {
      "cell_type": "code",
      "execution_count": null,
      "metadata": {
        "id": "nu1diHHfTnXC",
        "outputId": "42cbcaf7-7737-411b-9f06-512ebfe033b6"
      },
      "outputs": [
        {
          "data": {
            "text/plain": [
              "{1, 2, 3, 4, 5, 6, 7, 8}"
            ]
          },
          "execution_count": 77,
          "metadata": {},
          "output_type": "execute_result"
        }
      ],
      "source": [
        "a.union(b)\n",
        "a | b"
      ]
    },
    {
      "cell_type": "code",
      "execution_count": null,
      "metadata": {
        "id": "3m5a2qM5TnXD",
        "outputId": "c757bbe1-9c65-4a49-c844-9fc025aa0e0d"
      },
      "outputs": [
        {
          "data": {
            "text/plain": [
              "{3, 4, 5}"
            ]
          },
          "execution_count": 78,
          "metadata": {},
          "output_type": "execute_result"
        }
      ],
      "source": [
        "a.intersection(b)\n",
        "a & b"
      ]
    },
    {
      "cell_type": "code",
      "execution_count": null,
      "metadata": {
        "id": "gzPC2AWHTnXD",
        "outputId": "2c25881b-dd27-4701-facb-f29280bcbeef"
      },
      "outputs": [
        {
          "data": {
            "text/plain": [
              "{3, 4, 5}"
            ]
          },
          "execution_count": 79,
          "metadata": {},
          "output_type": "execute_result"
        }
      ],
      "source": [
        "c = a.copy()\n",
        "c |= b\n",
        "c\n",
        "d = a.copy()\n",
        "d &= b\n",
        "d"
      ]
    },
    {
      "cell_type": "code",
      "execution_count": null,
      "metadata": {
        "id": "VVcKc-6YTnXD",
        "outputId": "4f734f31-b937-45a8-b5eb-80b4a41d1878"
      },
      "outputs": [
        {
          "data": {
            "text/plain": [
              "{(1, 2, 3, 4)}"
            ]
          },
          "execution_count": 80,
          "metadata": {},
          "output_type": "execute_result"
        }
      ],
      "source": [
        "my_data = [1, 2, 3, 4]\n",
        "my_set = {tuple(my_data)}\n",
        "my_set"
      ]
    },
    {
      "cell_type": "code",
      "execution_count": null,
      "metadata": {
        "id": "kRhTqd-RTnXE",
        "outputId": "c1f69701-1e1e-45cd-a452-30d4347aa8ed"
      },
      "outputs": [
        {
          "data": {
            "text/plain": [
              "True"
            ]
          },
          "execution_count": 81,
          "metadata": {},
          "output_type": "execute_result"
        }
      ],
      "source": [
        "a_set = {1, 2, 3, 4, 5}\n",
        "{1, 2, 3}.issubset(a_set)\n",
        "a_set.issuperset({1, 2, 3})\n"
      ]
    },
    {
      "cell_type": "code",
      "execution_count": null,
      "metadata": {
        "id": "8b3OGPoQTnXE",
        "outputId": "958715b1-2b5a-41c4-8a33-dff542ef6cfb"
      },
      "outputs": [
        {
          "data": {
            "text/plain": [
              "True"
            ]
          },
          "execution_count": 82,
          "metadata": {},
          "output_type": "execute_result"
        }
      ],
      "source": [
        "{1, 2, 3} == {3, 2, 1}"
      ]
    },
    {
      "cell_type": "markdown",
      "metadata": {
        "id": "0oxgyqw9TnXE"
      },
      "source": [
        "List, Set, and Dict Comprehensions"
      ]
    },
    {
      "cell_type": "markdown",
      "metadata": {
        "id": "ms2OZiV3TnXE"
      },
      "source": [
        "[\n",
        "\n",
        "result = [] for val in collection: if"
      ]
    },
    {
      "cell_type": "code",
      "execution_count": null,
      "metadata": {
        "id": "egUiVlcXTnXF",
        "outputId": "09f48933-c244-4499-ee04-a32a6a29fe65"
      },
      "outputs": [
        {
          "data": {
            "text/plain": [
              "['BAT', 'CAR', 'DOVE', 'PYTHON']"
            ]
          },
          "execution_count": 83,
          "metadata": {},
          "output_type": "execute_result"
        }
      ],
      "source": [
        "strings = ['a', 'as', 'bat', 'car', 'dove', 'python']\n",
        "[x.upper() for x in strings if len(x) > 2]"
      ]
    },
    {
      "cell_type": "markdown",
      "metadata": {
        "id": "25cH_Eq8TnXF"
      },
      "source": [
        "dict_comp = {"
      ]
    },
    {
      "cell_type": "markdown",
      "metadata": {
        "id": "-OPqb09wTnXF"
      },
      "source": [
        "set_comp = {"
      ]
    },
    {
      "cell_type": "code",
      "execution_count": null,
      "metadata": {
        "id": "PaqcNhBMTnXF",
        "outputId": "fefe6344-2196-4f1b-a267-7d2ab4e1faba"
      },
      "outputs": [
        {
          "data": {
            "text/plain": [
              "{1, 2, 3, 4, 6}"
            ]
          },
          "execution_count": 84,
          "metadata": {},
          "output_type": "execute_result"
        }
      ],
      "source": [
        "unique_lengths = {len(x) for x in strings}\n",
        "unique_lengths"
      ]
    },
    {
      "cell_type": "code",
      "execution_count": null,
      "metadata": {
        "id": "NWqOaCiuTnXF",
        "outputId": "583eb945-6a7c-4076-abb0-31f6ba2d887d"
      },
      "outputs": [
        {
          "data": {
            "text/plain": [
              "{1, 2, 3, 4, 6}"
            ]
          },
          "execution_count": 85,
          "metadata": {},
          "output_type": "execute_result"
        }
      ],
      "source": [
        "set(map(len, strings))"
      ]
    },
    {
      "cell_type": "code",
      "execution_count": null,
      "metadata": {
        "id": "rP1mKNDBTnXG",
        "outputId": "cfa003f5-e54a-4207-96d5-0172df18017f"
      },
      "outputs": [
        {
          "data": {
            "text/plain": [
              "{'a': 0, 'as': 1, 'bat': 2, 'car': 3, 'dove': 4, 'python': 5}"
            ]
          },
          "execution_count": 86,
          "metadata": {},
          "output_type": "execute_result"
        }
      ],
      "source": [
        "loc_mapping = {val : index for index, val in enumerate(strings)}\n",
        "loc_mapping"
      ]
    },
    {
      "cell_type": "markdown",
      "metadata": {
        "id": "R2XwRn69TnXG"
      },
      "source": [
        "Nested list comprehensions"
      ]
    },
    {
      "cell_type": "code",
      "execution_count": null,
      "metadata": {
        "id": "N-zwN48GTnXH"
      },
      "outputs": [],
      "source": [
        "all_data = [['John', 'Emily', 'Michael', 'Mary', 'Steven'],\n",
        "            ['Maria', 'Juan', 'Javier', 'Natalia', 'Pilar']]"
      ]
    },
    {
      "cell_type": "markdown",
      "metadata": {
        "id": "Fa_kVTyuTnXH"
      },
      "source": [
        "names_of_interest = [] for names in all_data: enough_es = [name for name in names if name.count('e') >= 2] names_of_interest.extend(enough_es)"
      ]
    },
    {
      "cell_type": "code",
      "execution_count": null,
      "metadata": {
        "id": "AUPE40oqTnXI",
        "outputId": "c9eb6eb5-9a0f-4bc8-fbdb-6f2beff26ca2"
      },
      "outputs": [
        {
          "data": {
            "text/plain": [
              "['Steven']"
            ]
          },
          "execution_count": 88,
          "metadata": {},
          "output_type": "execute_result"
        }
      ],
      "source": [
        "result = [name for names in all_data for name in names\n",
        "          if name.count('e') >= 2]\n",
        "result"
      ]
    },
    {
      "cell_type": "code",
      "execution_count": null,
      "metadata": {
        "id": "iMklPCvATnXI",
        "outputId": "bff737ad-5ff9-48b4-edc2-c21fb1dacb15"
      },
      "outputs": [
        {
          "data": {
            "text/plain": [
              "[1, 2, 3, 4, 5, 6, 7, 8, 9]"
            ]
          },
          "execution_count": 89,
          "metadata": {},
          "output_type": "execute_result"
        }
      ],
      "source": [
        "some_tuples = [(1, 2, 3), (4, 5, 6), (7, 8, 9)]\n",
        "flattened = [x for tup in some_tuples for x in tup]\n",
        "flattened"
      ]
    },
    {
      "cell_type": "markdown",
      "metadata": {
        "id": "TVklZSrDTnXI"
      },
      "source": [
        "flattened = []"
      ]
    },
    {
      "cell_type": "markdown",
      "metadata": {
        "id": "GzYI1MfeTnXJ"
      },
      "source": [
        "for tup in some_tuples: for x in tup: flattened.append(x)"
      ]
    },
    {
      "cell_type": "code",
      "execution_count": null,
      "metadata": {
        "id": "M7uDM47rTnXJ",
        "outputId": "e72074f6-445e-459b-c837-ae44dd4012e5"
      },
      "outputs": [
        {
          "data": {
            "text/plain": [
              "[[1, 2, 3], [4, 5, 6], [7, 8, 9]]"
            ]
          },
          "execution_count": 90,
          "metadata": {},
          "output_type": "execute_result"
        }
      ],
      "source": [
        "[[x for x in tup] for tup in some_tuples]"
      ]
    },
    {
      "cell_type": "markdown",
      "metadata": {
        "id": "REwtWFZLTnXJ"
      },
      "source": [
        "Functions"
      ]
    },
    {
      "cell_type": "markdown",
      "metadata": {
        "id": "OHYrsfB8TnXJ"
      },
      "source": [
        "def my_function(x, y, z=1.5): if z > 1: return z * (x + y) else: return z / (x + y)\n",
        "\n",
        "my_function(5, 6, z=0.7) my_function(3.14, 7, 3.5) my_function(10, 20)"
      ]
    },
    {
      "cell_type": "markdown",
      "metadata": {
        "id": "iIEyPhhsTnXJ"
      },
      "source": [
        "Namespaces, Scope, and Local Functions\n",
        "def func(): a = [] for i in range(5): a.append(i)\n",
        "\n",
        "a = [] def func(): for i in range(5): a.append(i)"
      ]
    },
    {
      "cell_type": "code",
      "execution_count": null,
      "metadata": {
        "id": "bfO-NDFQTnXK",
        "outputId": "e410ba9f-48f0-438f-c013-fdd91271ea45"
      },
      "outputs": [
        {
          "name": "stdout",
          "output_type": "stream",
          "text": [
            "[]\n"
          ]
        }
      ],
      "source": [
        "a = None\n",
        "def bind_a_variable():\n",
        "    global a\n",
        "    a = []\n",
        "bind_a_variable()\n",
        "print(a)"
      ]
    },
    {
      "cell_type": "markdown",
      "metadata": {
        "id": "rmLYHps3TnXK"
      },
      "source": [
        "Returning Multiple Values"
      ]
    },
    {
      "cell_type": "markdown",
      "metadata": {
        "id": "MuLg_FWCTnXK"
      },
      "source": [
        "def f(): a = 5 b = 6 c = 7 return a, b, c\n",
        "\n",
        "a, b, c = f()\n",
        "\n",
        "return_value = f()\n",
        "\n",
        "def f(): a = 5 b = 6 c = 7 return {'a' : a, 'b' : b, 'c' : c}"
      ]
    },
    {
      "cell_type": "markdown",
      "metadata": {
        "id": "wjkXQ8pbTnXK"
      },
      "source": [
        "Functions Are Objects"
      ]
    },
    {
      "cell_type": "code",
      "execution_count": null,
      "metadata": {
        "id": "luL71NU-TnXK"
      },
      "outputs": [],
      "source": [
        "states = ['   Alabama ', 'Georgia!', 'Georgia', 'georgia', 'FlOrIda',\n",
        "          'south   carolina##', 'West virginia?']"
      ]
    },
    {
      "cell_type": "code",
      "execution_count": null,
      "metadata": {
        "id": "OxPyq0Y8TnXK"
      },
      "outputs": [],
      "source": [
        "import re\n",
        "\n",
        "def clean_strings(strings):\n",
        "    result = []\n",
        "    for value in strings:\n",
        "        value = value.strip()\n",
        "        value = re.sub('[!#?]', '', value)\n",
        "        value = value.title()\n",
        "        result.append(value)\n",
        "    return result"
      ]
    },
    {
      "cell_type": "code",
      "execution_count": null,
      "metadata": {
        "id": "0tl1SAcTTnXL",
        "outputId": "b46bb6bf-27c5-4ddb-b6fa-5ac0fd750249"
      },
      "outputs": [
        {
          "data": {
            "text/plain": [
              "['Alabama',\n",
              " 'Georgia',\n",
              " 'Georgia',\n",
              " 'Georgia',\n",
              " 'Florida',\n",
              " 'South   Carolina',\n",
              " 'West Virginia']"
            ]
          },
          "execution_count": 6,
          "metadata": {},
          "output_type": "execute_result"
        }
      ],
      "source": [
        "clean_strings(states)"
      ]
    },
    {
      "cell_type": "code",
      "execution_count": null,
      "metadata": {
        "id": "cPs_eAj0TnXL"
      },
      "outputs": [],
      "source": [
        "def remove_punctuation(value):\n",
        "    return re.sub('[!#?]', '', value)\n",
        "\n",
        "clean_ops = [str.strip, remove_punctuation, str.title]\n",
        "\n",
        "def clean_strings(strings, ops):\n",
        "    result = []\n",
        "    for value in strings:\n",
        "        for function in ops:\n",
        "            value = function(value)\n",
        "        result.append(value)\n",
        "    return result"
      ]
    },
    {
      "cell_type": "code",
      "execution_count": null,
      "metadata": {
        "id": "PY1sYUd7TnXL",
        "outputId": "e84d297d-5ab6-42ed-a5e3-b2393dbfa2f2"
      },
      "outputs": [
        {
          "data": {
            "text/plain": [
              "['Alabama',\n",
              " 'Georgia',\n",
              " 'Georgia',\n",
              " 'Georgia',\n",
              " 'Florida',\n",
              " 'South   Carolina',\n",
              " 'West Virginia']"
            ]
          },
          "execution_count": 8,
          "metadata": {},
          "output_type": "execute_result"
        }
      ],
      "source": [
        "clean_strings(states, clean_ops)"
      ]
    },
    {
      "cell_type": "code",
      "execution_count": null,
      "metadata": {
        "id": "Sf402p9KTnXL",
        "outputId": "31e6d88c-ac29-4aa1-e24d-e0592a0fdf36"
      },
      "outputs": [
        {
          "name": "stdout",
          "output_type": "stream",
          "text": [
            "   Alabama \n",
            "Georgia\n",
            "Georgia\n",
            "georgia\n",
            "FlOrIda\n",
            "south   carolina\n",
            "West virginia\n"
          ]
        }
      ],
      "source": [
        "for x in map(remove_punctuation, states):\n",
        "    print(x)"
      ]
    },
    {
      "cell_type": "markdown",
      "metadata": {
        "id": "JrkxYYQ1TnXL"
      },
      "source": [
        "Anonymous (Lambda) Functions"
      ]
    },
    {
      "cell_type": "markdown",
      "metadata": {
        "id": "ofrSeOI3TnXM"
      },
      "source": [
        "def short_function(x): return x * 2\n",
        "\n",
        "equiv_anon = lambda x: x * 2\n",
        "\n",
        "def apply_to_list(some_list, f): return [f(x) for x in some_list]\n",
        "\n",
        "ints = [4, 0, 1, 5, 6] apply_to_list(ints, lambda x: x * 2)"
      ]
    },
    {
      "cell_type": "code",
      "execution_count": null,
      "metadata": {
        "id": "sJL3xv4RTnXM"
      },
      "outputs": [],
      "source": [
        "strings = ['foo', 'card', 'bar', 'aaaa', 'abab']"
      ]
    },
    {
      "cell_type": "code",
      "execution_count": null,
      "metadata": {
        "id": "Hgxs7E7gTnXM",
        "outputId": "a4603ae3-50ae-4daa-b8a6-d13e59a3caaa"
      },
      "outputs": [
        {
          "data": {
            "text/plain": [
              "['aaaa', 'foo', 'abab', 'bar', 'card']"
            ]
          },
          "execution_count": 11,
          "metadata": {},
          "output_type": "execute_result"
        }
      ],
      "source": [
        "strings.sort(key=lambda x: len(set(list(x))))\n",
        "strings"
      ]
    },
    {
      "cell_type": "markdown",
      "metadata": {
        "id": "vz-WmHExTnXM"
      },
      "source": [
        "Currying: Partial Argument Application\n",
        "def add_numbers(x, y): return x + y\n",
        "\n",
        "add_five = lambda y: add_numbers(5, y)\n",
        "\n",
        "from functools import partial add_five = partial(add_numbers, 5)"
      ]
    },
    {
      "cell_type": "markdown",
      "metadata": {
        "id": "RJyZETu2TnXM"
      },
      "source": [
        ""
      ]
    },
    {
      "cell_type": "markdown",
      "metadata": {
        "id": "9oLDHmHWTnXM"
      },
      "source": [
        "Generators"
      ]
    },
    {
      "cell_type": "markdown",
      "metadata": {
        "id": "MNaneHQ2TnXN"
      },
      "source": [
        ""
      ]
    },
    {
      "cell_type": "code",
      "execution_count": null,
      "metadata": {
        "id": "V4r2qv0rTnXN",
        "outputId": "fa1bce9c-2c9d-43b6-c8b7-27ada3592462"
      },
      "outputs": [
        {
          "name": "stdout",
          "output_type": "stream",
          "text": [
            "a\n",
            "b\n",
            "c\n"
          ]
        }
      ],
      "source": [
        "some_dict = {'a': 1, 'b': 2, 'c': 3}\n",
        "for key in some_dict:\n",
        "    print(key)"
      ]
    },
    {
      "cell_type": "code",
      "execution_count": null,
      "metadata": {
        "id": "cGOpH1zuTnXN",
        "outputId": "ce32c2f6-a18c-43cc-94d9-399d1ed9af9c"
      },
      "outputs": [
        {
          "data": {
            "text/plain": [
              "<dict_keyiterator at 0x18eb9fa0630>"
            ]
          },
          "execution_count": 14,
          "metadata": {},
          "output_type": "execute_result"
        }
      ],
      "source": [
        "dict_iterator = iter(some_dict)\n",
        "dict_iterator"
      ]
    },
    {
      "cell_type": "code",
      "execution_count": null,
      "metadata": {
        "id": "zZLBK7wzTnXN",
        "outputId": "bab699a7-b60b-417f-a842-7a7ff2f4054b"
      },
      "outputs": [
        {
          "data": {
            "text/plain": [
              "['a', 'b', 'c']"
            ]
          },
          "execution_count": 15,
          "metadata": {},
          "output_type": "execute_result"
        }
      ],
      "source": [
        "list(dict_iterator)"
      ]
    },
    {
      "cell_type": "code",
      "execution_count": null,
      "metadata": {
        "id": "AaqLX265TnXN"
      },
      "outputs": [],
      "source": [
        "def squares(n=10):\n",
        "    print('Generating squares from 1 to {0}'.format(n ** 2))\n",
        "    for i in range(1, n + 1):\n",
        "        yield i ** 2"
      ]
    },
    {
      "cell_type": "code",
      "execution_count": null,
      "metadata": {
        "id": "nzw5vHsrTnXN",
        "outputId": "b06dc567-cdee-4b4a-adce-cc837924a9d0"
      },
      "outputs": [
        {
          "data": {
            "text/plain": [
              "<generator object squares at 0x0000018EB9F92DD0>"
            ]
          },
          "execution_count": 17,
          "metadata": {},
          "output_type": "execute_result"
        }
      ],
      "source": [
        "gen = squares()\n",
        "gen"
      ]
    },
    {
      "cell_type": "code",
      "execution_count": null,
      "metadata": {
        "id": "2OesGCvgTnXO",
        "outputId": "1fa0a5f2-bafe-476e-c685-b7bef6283454"
      },
      "outputs": [
        {
          "name": "stdout",
          "output_type": "stream",
          "text": [
            "Generating squares from 1 to 100\n",
            "1 4 9 16 25 36 49 64 81 100 "
          ]
        }
      ],
      "source": [
        "for x in gen:\n",
        "    print(x, end=' ')"
      ]
    },
    {
      "cell_type": "markdown",
      "metadata": {
        "id": "3eHVWPpvTnXO"
      },
      "source": [
        "Generator expresssions"
      ]
    },
    {
      "cell_type": "code",
      "execution_count": null,
      "metadata": {
        "id": "2PkIpbrUTnXO",
        "outputId": "2a5176c0-8252-4532-ebfb-b6df015572ba"
      },
      "outputs": [
        {
          "data": {
            "text/plain": [
              "<generator object <genexpr> at 0x0000018EB9FC5270>"
            ]
          },
          "execution_count": 19,
          "metadata": {},
          "output_type": "execute_result"
        }
      ],
      "source": [
        "gen = (x ** 2 for x in range(100))\n",
        "gen"
      ]
    },
    {
      "cell_type": "markdown",
      "metadata": {
        "id": "_knioa2kTnXO"
      },
      "source": [
        "def _make_gen(): for x in range(100): yield x ** 2 gen = _make_gen()"
      ]
    },
    {
      "cell_type": "code",
      "execution_count": null,
      "metadata": {
        "id": "0kzhGATqTnXO",
        "outputId": "5cd96527-7b89-4022-d055-bda8010a511c"
      },
      "outputs": [
        {
          "data": {
            "text/plain": [
              "{0: 0, 1: 1, 2: 4, 3: 9, 4: 16}"
            ]
          },
          "execution_count": 20,
          "metadata": {},
          "output_type": "execute_result"
        }
      ],
      "source": [
        "sum(x ** 2 for x in range(100))\n",
        "dict((i, i **2) for i in range(5))"
      ]
    },
    {
      "cell_type": "markdown",
      "metadata": {
        "id": "QgWfxgM2TnXO"
      },
      "source": [
        "itertools module"
      ]
    },
    {
      "cell_type": "code",
      "execution_count": null,
      "metadata": {
        "id": "iTLvznF2TnXP",
        "outputId": "1c33cae0-c95b-42c7-de3b-5ae411028ba5"
      },
      "outputs": [
        {
          "name": "stdout",
          "output_type": "stream",
          "text": [
            "A ['Alan', 'Adam']\n",
            "W ['Wes', 'Will']\n",
            "A ['Albert']\n",
            "S ['Steven']\n"
          ]
        }
      ],
      "source": [
        "import itertools\n",
        "first_letter = lambda x: x[0]\n",
        "names = ['Alan', 'Adam', 'Wes', 'Will', 'Albert', 'Steven']\n",
        "for letter, names in itertools.groupby(names, first_letter):\n",
        "    print(letter, list(names)) # names is a generator"
      ]
    },
    {
      "cell_type": "markdown",
      "metadata": {
        "id": "p8nZSKFpTnXP"
      },
      "source": [
        "Errors and Exception Handling"
      ]
    },
    {
      "cell_type": "code",
      "execution_count": null,
      "metadata": {
        "id": "qg06XrWtTnXP"
      },
      "outputs": [],
      "source": [
        "float('1.2345')\n",
        "float('something')"
      ]
    },
    {
      "cell_type": "code",
      "execution_count": null,
      "metadata": {
        "id": "NaJnpt0kTnXP"
      },
      "outputs": [],
      "source": [
        "def attempt_float(x):\n",
        "    try:\n",
        "        return float(x)\n",
        "    except:\n",
        "        return x"
      ]
    },
    {
      "cell_type": "code",
      "execution_count": null,
      "metadata": {
        "id": "ZL69cI3eTnXP",
        "outputId": "63db6bae-cc5c-48c7-e1cf-a35dbaf42c9e"
      },
      "outputs": [
        {
          "data": {
            "text/plain": [
              "'something'"
            ]
          },
          "execution_count": 23,
          "metadata": {},
          "output_type": "execute_result"
        }
      ],
      "source": [
        "attempt_float('1.2345')\n",
        "attempt_float('something')"
      ]
    },
    {
      "cell_type": "code",
      "execution_count": null,
      "metadata": {
        "id": "WHWH1ck_TnXP",
        "outputId": "5fac8aa6-4a4a-4a28-e148-b98d1e86c8ac"
      },
      "outputs": [
        {
          "ename": "TypeError",
          "evalue": "float() argument must be a string or a number, not 'tuple'",
          "output_type": "error",
          "traceback": [
            "\u001b[1;31m---------------------------------------------------------------------------\u001b[0m",
            "\u001b[1;31mTypeError\u001b[0m                                 Traceback (most recent call last)",
            "\u001b[1;32m~\\AppData\\Local\\Temp/ipykernel_19932/1061708882.py\u001b[0m in \u001b[0;36m<module>\u001b[1;34m\u001b[0m\n\u001b[1;32m----> 1\u001b[1;33m \u001b[0mfloat\u001b[0m\u001b[1;33m(\u001b[0m\u001b[1;33m(\u001b[0m\u001b[1;36m1\u001b[0m\u001b[1;33m,\u001b[0m \u001b[1;36m2\u001b[0m\u001b[1;33m)\u001b[0m\u001b[1;33m)\u001b[0m\u001b[1;33m\u001b[0m\u001b[1;33m\u001b[0m\u001b[0m\n\u001b[0m",
            "\u001b[1;31mTypeError\u001b[0m: float() argument must be a string or a number, not 'tuple'"
          ]
        }
      ],
      "source": [
        "float((1, 2))"
      ]
    },
    {
      "cell_type": "code",
      "execution_count": null,
      "metadata": {
        "id": "ilDuEHFPTnXQ"
      },
      "outputs": [],
      "source": [
        "def attempt_float(x):\n",
        "    try:\n",
        "        return float(x)\n",
        "    except ValueError:\n",
        "        return x"
      ]
    },
    {
      "cell_type": "code",
      "execution_count": null,
      "metadata": {
        "id": "-kEAeE5iTnXQ",
        "outputId": "594cf15d-a6bd-406f-aef5-b5a861426904"
      },
      "outputs": [
        {
          "ename": "TypeError",
          "evalue": "float() argument must be a string or a number, not 'tuple'",
          "output_type": "error",
          "traceback": [
            "\u001b[1;31m---------------------------------------------------------------------------\u001b[0m",
            "\u001b[1;31mTypeError\u001b[0m                                 Traceback (most recent call last)",
            "\u001b[1;32m~\\AppData\\Local\\Temp/ipykernel_19932/3151118377.py\u001b[0m in \u001b[0;36m<module>\u001b[1;34m\u001b[0m\n\u001b[1;32m----> 1\u001b[1;33m \u001b[0mattempt_float\u001b[0m\u001b[1;33m(\u001b[0m\u001b[1;33m(\u001b[0m\u001b[1;36m1\u001b[0m\u001b[1;33m,\u001b[0m \u001b[1;36m2\u001b[0m\u001b[1;33m)\u001b[0m\u001b[1;33m)\u001b[0m\u001b[1;33m\u001b[0m\u001b[1;33m\u001b[0m\u001b[0m\n\u001b[0m",
            "\u001b[1;32m~\\AppData\\Local\\Temp/ipykernel_19932/1063157278.py\u001b[0m in \u001b[0;36mattempt_float\u001b[1;34m(x)\u001b[0m\n\u001b[0;32m      1\u001b[0m \u001b[1;32mdef\u001b[0m \u001b[0mattempt_float\u001b[0m\u001b[1;33m(\u001b[0m\u001b[0mx\u001b[0m\u001b[1;33m)\u001b[0m\u001b[1;33m:\u001b[0m\u001b[1;33m\u001b[0m\u001b[1;33m\u001b[0m\u001b[0m\n\u001b[0;32m      2\u001b[0m     \u001b[1;32mtry\u001b[0m\u001b[1;33m:\u001b[0m\u001b[1;33m\u001b[0m\u001b[1;33m\u001b[0m\u001b[0m\n\u001b[1;32m----> 3\u001b[1;33m         \u001b[1;32mreturn\u001b[0m \u001b[0mfloat\u001b[0m\u001b[1;33m(\u001b[0m\u001b[0mx\u001b[0m\u001b[1;33m)\u001b[0m\u001b[1;33m\u001b[0m\u001b[1;33m\u001b[0m\u001b[0m\n\u001b[0m\u001b[0;32m      4\u001b[0m     \u001b[1;32mexcept\u001b[0m \u001b[0mValueError\u001b[0m\u001b[1;33m:\u001b[0m\u001b[1;33m\u001b[0m\u001b[1;33m\u001b[0m\u001b[0m\n\u001b[0;32m      5\u001b[0m         \u001b[1;32mreturn\u001b[0m \u001b[0mx\u001b[0m\u001b[1;33m\u001b[0m\u001b[1;33m\u001b[0m\u001b[0m\n",
            "\u001b[1;31mTypeError\u001b[0m: float() argument must be a string or a number, not 'tuple'"
          ]
        }
      ],
      "source": [
        "attempt_float((1, 2))"
      ]
    },
    {
      "cell_type": "code",
      "execution_count": null,
      "metadata": {
        "id": "xkydamgZTnXQ"
      },
      "outputs": [],
      "source": [
        "def attempt_float(x):\n",
        "    try:\n",
        "        return float(x)\n",
        "    except (TypeError, ValueError):\n",
        "        return x"
      ]
    },
    {
      "cell_type": "markdown",
      "metadata": {
        "id": "VSyAWNr3TnXQ"
      },
      "source": [
        "f = open(path, 'w')\n",
        "\n",
        "try: write_to_file(f) finally: f.close()\n",
        "\n",
        "f = open(path, 'w')\n",
        "\n",
        "try: write_to_file(f) except: print('Failed') else: print('Succeeded') finally: f.close()"
      ]
    },
    {
      "cell_type": "markdown",
      "metadata": {
        "id": "HimRg9tPTnXQ"
      },
      "source": [
        "Exceptions in IPython"
      ]
    },
    {
      "cell_type": "markdown",
      "metadata": {
        "id": "xaVru74fTnXR"
      },
      "source": [
        "In [10]: %run examples/ipython_bug.py"
      ]
    },
    {
      "cell_type": "markdown",
      "metadata": {
        "id": "R8RJBQZNTnXR"
      },
      "source": [
        "AssertionError Traceback (most recent call last) /home/wesm/code/pydata-book/examples/ipython_bug.py in () 13 throws_an_exception() 14 ---> 15 calling_things()\n",
        "\n",
        "/home/wesm/code/pydata-book/examples/ipython_bug.py in calling_things() 11 def calling_things(): 12 works_fine() ---> 13 throws_an_exception() 14 15 calling_things()\n",
        "\n",
        "/home/wesm/code/pydata-book/examples/ipython_bug.py in throws_an_exception() 7 a = 5 8 b = 6 ----> 9 assert(a + b == 10) 10 11 def calling_things():\n",
        "\n",
        "AssertionError:\n",
        "\n",
        "Files and the Operating System"
      ]
    },
    {
      "cell_type": "code",
      "execution_count": null,
      "metadata": {
        "id": "cOuuIZadTnXR",
        "outputId": "9591f733-c06b-40ab-d12d-b8f083b929df"
      },
      "outputs": [
        {
          "name": "stdout",
          "output_type": "stream",
          "text": [
            "[WinError 2] The system cannot find the file specified: 'book-materials'\n",
            "c:\\Users\\LENOVO\\Documents\\Project{CODE}\\Data Analysis\\Portfolio Project\\Notebooks\n"
          ]
        },
        {
          "data": {
            "text/plain": [
              "['c:\\\\Users\\\\LENOVO\\\\Documents\\\\Project{CODE}\\\\Data Analysis\\\\Portfolio Project\\\\Notebooks']"
            ]
          },
          "execution_count": 28,
          "metadata": {},
          "output_type": "execute_result"
        }
      ],
      "source": [
        "%pushd book-materials"
      ]
    },
    {
      "cell_type": "code",
      "execution_count": null,
      "metadata": {
        "id": "O7-pOxWvTnXR",
        "outputId": "6db3a6aa-af00-4e28-bc91-16e386c25ae9"
      },
      "outputs": [
        {
          "ename": "FileNotFoundError",
          "evalue": "[Errno 2] No such file or directory: 'examples/segismundo.txt'",
          "output_type": "error",
          "traceback": [
            "\u001b[1;31m---------------------------------------------------------------------------\u001b[0m",
            "\u001b[1;31mFileNotFoundError\u001b[0m                         Traceback (most recent call last)",
            "\u001b[1;32m~\\AppData\\Local\\Temp/ipykernel_19932/4239849966.py\u001b[0m in \u001b[0;36m<module>\u001b[1;34m\u001b[0m\n\u001b[0;32m      1\u001b[0m \u001b[0mpath\u001b[0m \u001b[1;33m=\u001b[0m \u001b[1;34m'examples/segismundo.txt'\u001b[0m\u001b[1;33m\u001b[0m\u001b[1;33m\u001b[0m\u001b[0m\n\u001b[1;32m----> 2\u001b[1;33m \u001b[0mf\u001b[0m \u001b[1;33m=\u001b[0m \u001b[0mopen\u001b[0m\u001b[1;33m(\u001b[0m\u001b[0mpath\u001b[0m\u001b[1;33m)\u001b[0m\u001b[1;33m\u001b[0m\u001b[1;33m\u001b[0m\u001b[0m\n\u001b[0m",
            "\u001b[1;31mFileNotFoundError\u001b[0m: [Errno 2] No such file or directory: 'examples/segismundo.txt'"
          ]
        }
      ],
      "source": [
        "path = 'examples/segismundo.txt'\n",
        "f = open(path)"
      ]
    },
    {
      "cell_type": "markdown",
      "metadata": {
        "id": "nD9r1TVfTnXR"
      },
      "source": [
        "for line in f: pass"
      ]
    },
    {
      "cell_type": "code",
      "execution_count": null,
      "metadata": {
        "id": "NJvSba3GTnXR",
        "outputId": "d5b5d8b6-126f-413b-da71-c779115ce7d0"
      },
      "outputs": [
        {
          "ename": "FileNotFoundError",
          "evalue": "[Errno 2] No such file or directory: 'examples/segismundo.txt'",
          "output_type": "error",
          "traceback": [
            "\u001b[1;31m---------------------------------------------------------------------------\u001b[0m",
            "\u001b[1;31mFileNotFoundError\u001b[0m                         Traceback (most recent call last)",
            "\u001b[1;32m~\\AppData\\Local\\Temp/ipykernel_19932/1220067314.py\u001b[0m in \u001b[0;36m<module>\u001b[1;34m\u001b[0m\n\u001b[1;32m----> 1\u001b[1;33m \u001b[0mlines\u001b[0m \u001b[1;33m=\u001b[0m \u001b[1;33m[\u001b[0m\u001b[0mx\u001b[0m\u001b[1;33m.\u001b[0m\u001b[0mrstrip\u001b[0m\u001b[1;33m(\u001b[0m\u001b[1;33m)\u001b[0m \u001b[1;32mfor\u001b[0m \u001b[0mx\u001b[0m \u001b[1;32min\u001b[0m \u001b[0mopen\u001b[0m\u001b[1;33m(\u001b[0m\u001b[0mpath\u001b[0m\u001b[1;33m)\u001b[0m\u001b[1;33m]\u001b[0m\u001b[1;33m\u001b[0m\u001b[1;33m\u001b[0m\u001b[0m\n\u001b[0m\u001b[0;32m      2\u001b[0m \u001b[0mlines\u001b[0m\u001b[1;33m\u001b[0m\u001b[1;33m\u001b[0m\u001b[0m\n",
            "\u001b[1;31mFileNotFoundError\u001b[0m: [Errno 2] No such file or directory: 'examples/segismundo.txt'"
          ]
        }
      ],
      "source": [
        "lines = [x.rstrip() for x in open(path)]\n",
        "lines"
      ]
    },
    {
      "cell_type": "code",
      "execution_count": null,
      "metadata": {
        "id": "YcEAKB72TnXS",
        "outputId": "7453c98c-0684-406a-d7a4-97583c9ace6e"
      },
      "outputs": [
        {
          "ename": "NameError",
          "evalue": "name 'f' is not defined",
          "output_type": "error",
          "traceback": [
            "\u001b[1;31m---------------------------------------------------------------------------\u001b[0m",
            "\u001b[1;31mNameError\u001b[0m                                 Traceback (most recent call last)",
            "\u001b[1;32m~\\AppData\\Local\\Temp/ipykernel_19932/4000743260.py\u001b[0m in \u001b[0;36m<module>\u001b[1;34m\u001b[0m\n\u001b[1;32m----> 1\u001b[1;33m \u001b[0mf\u001b[0m\u001b[1;33m.\u001b[0m\u001b[0mclose\u001b[0m\u001b[1;33m(\u001b[0m\u001b[1;33m)\u001b[0m\u001b[1;33m\u001b[0m\u001b[1;33m\u001b[0m\u001b[0m\n\u001b[0m",
            "\u001b[1;31mNameError\u001b[0m: name 'f' is not defined"
          ]
        }
      ],
      "source": [
        "f.close()"
      ]
    },
    {
      "cell_type": "code",
      "execution_count": null,
      "metadata": {
        "id": "6GsCYVntTnXS",
        "outputId": "cfa27c7b-a5e6-4c48-f907-08d5573c726e"
      },
      "outputs": [
        {
          "ename": "FileNotFoundError",
          "evalue": "[Errno 2] No such file or directory: 'examples/segismundo.txt'",
          "output_type": "error",
          "traceback": [
            "\u001b[1;31m---------------------------------------------------------------------------\u001b[0m",
            "\u001b[1;31mFileNotFoundError\u001b[0m                         Traceback (most recent call last)",
            "\u001b[1;32m~\\AppData\\Local\\Temp/ipykernel_19932/2491392221.py\u001b[0m in \u001b[0;36m<module>\u001b[1;34m\u001b[0m\n\u001b[1;32m----> 1\u001b[1;33m \u001b[1;32mwith\u001b[0m \u001b[0mopen\u001b[0m\u001b[1;33m(\u001b[0m\u001b[0mpath\u001b[0m\u001b[1;33m)\u001b[0m \u001b[1;32mas\u001b[0m \u001b[0mf\u001b[0m\u001b[1;33m:\u001b[0m\u001b[1;33m\u001b[0m\u001b[1;33m\u001b[0m\u001b[0m\n\u001b[0m\u001b[0;32m      2\u001b[0m     \u001b[0mlines\u001b[0m \u001b[1;33m=\u001b[0m \u001b[1;33m[\u001b[0m\u001b[0mx\u001b[0m\u001b[1;33m.\u001b[0m\u001b[0mrstrip\u001b[0m\u001b[1;33m(\u001b[0m\u001b[1;33m)\u001b[0m \u001b[1;32mfor\u001b[0m \u001b[0mx\u001b[0m \u001b[1;32min\u001b[0m \u001b[0mf\u001b[0m\u001b[1;33m]\u001b[0m\u001b[1;33m\u001b[0m\u001b[1;33m\u001b[0m\u001b[0m\n",
            "\u001b[1;31mFileNotFoundError\u001b[0m: [Errno 2] No such file or directory: 'examples/segismundo.txt'"
          ]
        }
      ],
      "source": [
        "with open(path) as f:\n",
        "    lines = [x.rstrip() for x in f]"
      ]
    },
    {
      "cell_type": "code",
      "execution_count": null,
      "metadata": {
        "id": "XPT4j2CLTnXS",
        "outputId": "7cca7357-036f-4e9d-c430-84b93f75967e"
      },
      "outputs": [
        {
          "ename": "FileNotFoundError",
          "evalue": "[Errno 2] No such file or directory: 'examples/segismundo.txt'",
          "output_type": "error",
          "traceback": [
            "\u001b[1;31m---------------------------------------------------------------------------\u001b[0m",
            "\u001b[1;31mFileNotFoundError\u001b[0m                         Traceback (most recent call last)",
            "\u001b[1;32m~\\AppData\\Local\\Temp/ipykernel_19932/4260117404.py\u001b[0m in \u001b[0;36m<module>\u001b[1;34m\u001b[0m\n\u001b[1;32m----> 1\u001b[1;33m \u001b[0mf\u001b[0m \u001b[1;33m=\u001b[0m \u001b[0mopen\u001b[0m\u001b[1;33m(\u001b[0m\u001b[0mpath\u001b[0m\u001b[1;33m)\u001b[0m\u001b[1;33m\u001b[0m\u001b[1;33m\u001b[0m\u001b[0m\n\u001b[0m\u001b[0;32m      2\u001b[0m \u001b[0mf\u001b[0m\u001b[1;33m.\u001b[0m\u001b[0mread\u001b[0m\u001b[1;33m(\u001b[0m\u001b[1;36m10\u001b[0m\u001b[1;33m)\u001b[0m\u001b[1;33m\u001b[0m\u001b[1;33m\u001b[0m\u001b[0m\n\u001b[0;32m      3\u001b[0m \u001b[0mf2\u001b[0m \u001b[1;33m=\u001b[0m \u001b[0mopen\u001b[0m\u001b[1;33m(\u001b[0m\u001b[0mpath\u001b[0m\u001b[1;33m,\u001b[0m \u001b[1;34m'rb'\u001b[0m\u001b[1;33m)\u001b[0m  \u001b[1;31m# Binary mode\u001b[0m\u001b[1;33m\u001b[0m\u001b[1;33m\u001b[0m\u001b[0m\n\u001b[0;32m      4\u001b[0m \u001b[0mf2\u001b[0m\u001b[1;33m.\u001b[0m\u001b[0mread\u001b[0m\u001b[1;33m(\u001b[0m\u001b[1;36m10\u001b[0m\u001b[1;33m)\u001b[0m\u001b[1;33m\u001b[0m\u001b[1;33m\u001b[0m\u001b[0m\n",
            "\u001b[1;31mFileNotFoundError\u001b[0m: [Errno 2] No such file or directory: 'examples/segismundo.txt'"
          ]
        }
      ],
      "source": [
        "f = open(path)\n",
        "f.read(10)\n",
        "f2 = open(path, 'rb')  # Binary mode\n",
        "f2.read(10)"
      ]
    },
    {
      "cell_type": "code",
      "execution_count": null,
      "metadata": {
        "id": "k0YVYm6wTnXS",
        "outputId": "214f52a1-531b-4d44-d3cc-f91ba0df278e"
      },
      "outputs": [
        {
          "ename": "NameError",
          "evalue": "name 'f' is not defined",
          "output_type": "error",
          "traceback": [
            "\u001b[1;31m---------------------------------------------------------------------------\u001b[0m",
            "\u001b[1;31mNameError\u001b[0m                                 Traceback (most recent call last)",
            "\u001b[1;32m~\\AppData\\Local\\Temp/ipykernel_19932/635250024.py\u001b[0m in \u001b[0;36m<module>\u001b[1;34m\u001b[0m\n\u001b[1;32m----> 1\u001b[1;33m \u001b[0mf\u001b[0m\u001b[1;33m.\u001b[0m\u001b[0mtell\u001b[0m\u001b[1;33m(\u001b[0m\u001b[1;33m)\u001b[0m\u001b[1;33m\u001b[0m\u001b[1;33m\u001b[0m\u001b[0m\n\u001b[0m\u001b[0;32m      2\u001b[0m \u001b[0mf2\u001b[0m\u001b[1;33m.\u001b[0m\u001b[0mtell\u001b[0m\u001b[1;33m(\u001b[0m\u001b[1;33m)\u001b[0m\u001b[1;33m\u001b[0m\u001b[1;33m\u001b[0m\u001b[0m\n",
            "\u001b[1;31mNameError\u001b[0m: name 'f' is not defined"
          ]
        }
      ],
      "source": [
        "f.tell()\n",
        "f2.tell()"
      ]
    },
    {
      "cell_type": "code",
      "execution_count": null,
      "metadata": {
        "id": "ACgC_DyZTnXT",
        "outputId": "9065dcd0-eaa2-43d9-889d-7b7b7b5608ed"
      },
      "outputs": [
        {
          "data": {
            "text/plain": [
              "'utf-8'"
            ]
          },
          "execution_count": 35,
          "metadata": {},
          "output_type": "execute_result"
        }
      ],
      "source": [
        "import sys\n",
        "sys.getdefaultencoding()"
      ]
    },
    {
      "cell_type": "code",
      "execution_count": null,
      "metadata": {
        "id": "FH4t41aMTnXT",
        "outputId": "14fe2308-39fc-4504-9d54-97bcdc188f45"
      },
      "outputs": [
        {
          "ename": "NameError",
          "evalue": "name 'f' is not defined",
          "output_type": "error",
          "traceback": [
            "\u001b[1;31m---------------------------------------------------------------------------\u001b[0m",
            "\u001b[1;31mNameError\u001b[0m                                 Traceback (most recent call last)",
            "\u001b[1;32m~\\AppData\\Local\\Temp/ipykernel_19932/340529936.py\u001b[0m in \u001b[0;36m<module>\u001b[1;34m\u001b[0m\n\u001b[1;32m----> 1\u001b[1;33m \u001b[0mf\u001b[0m\u001b[1;33m.\u001b[0m\u001b[0mseek\u001b[0m\u001b[1;33m(\u001b[0m\u001b[1;36m3\u001b[0m\u001b[1;33m)\u001b[0m\u001b[1;33m\u001b[0m\u001b[1;33m\u001b[0m\u001b[0m\n\u001b[0m\u001b[0;32m      2\u001b[0m \u001b[0mf\u001b[0m\u001b[1;33m.\u001b[0m\u001b[0mread\u001b[0m\u001b[1;33m(\u001b[0m\u001b[1;36m1\u001b[0m\u001b[1;33m)\u001b[0m\u001b[1;33m\u001b[0m\u001b[1;33m\u001b[0m\u001b[0m\n",
            "\u001b[1;31mNameError\u001b[0m: name 'f' is not defined"
          ]
        }
      ],
      "source": [
        "f.seek(3)\n",
        "f.read(1)"
      ]
    },
    {
      "cell_type": "code",
      "execution_count": null,
      "metadata": {
        "id": "z-OR8rK4TnXT",
        "outputId": "05d195c4-d4f5-4043-8d35-c2fea25892fe"
      },
      "outputs": [
        {
          "ename": "NameError",
          "evalue": "name 'f' is not defined",
          "output_type": "error",
          "traceback": [
            "\u001b[1;31m---------------------------------------------------------------------------\u001b[0m",
            "\u001b[1;31mNameError\u001b[0m                                 Traceback (most recent call last)",
            "\u001b[1;32m~\\AppData\\Local\\Temp/ipykernel_19932/1752331128.py\u001b[0m in \u001b[0;36m<module>\u001b[1;34m\u001b[0m\n\u001b[1;32m----> 1\u001b[1;33m \u001b[0mf\u001b[0m\u001b[1;33m.\u001b[0m\u001b[0mclose\u001b[0m\u001b[1;33m(\u001b[0m\u001b[1;33m)\u001b[0m\u001b[1;33m\u001b[0m\u001b[1;33m\u001b[0m\u001b[0m\n\u001b[0m\u001b[0;32m      2\u001b[0m \u001b[0mf2\u001b[0m\u001b[1;33m.\u001b[0m\u001b[0mclose\u001b[0m\u001b[1;33m(\u001b[0m\u001b[1;33m)\u001b[0m\u001b[1;33m\u001b[0m\u001b[1;33m\u001b[0m\u001b[0m\n",
            "\u001b[1;31mNameError\u001b[0m: name 'f' is not defined"
          ]
        }
      ],
      "source": [
        "f.close()\n",
        "f2.close()"
      ]
    },
    {
      "cell_type": "code",
      "execution_count": null,
      "metadata": {
        "id": "Wy9CpE6UTnXT",
        "outputId": "570f6c3b-69db-45fd-80d6-0f71f1324ddc"
      },
      "outputs": [
        {
          "ename": "FileNotFoundError",
          "evalue": "[Errno 2] No such file or directory: 'examples/segismundo.txt'",
          "output_type": "error",
          "traceback": [
            "\u001b[1;31m---------------------------------------------------------------------------\u001b[0m",
            "\u001b[1;31mFileNotFoundError\u001b[0m                         Traceback (most recent call last)",
            "\u001b[1;32m~\\AppData\\Local\\Temp/ipykernel_19932/1317457669.py\u001b[0m in \u001b[0;36m<module>\u001b[1;34m\u001b[0m\n\u001b[0;32m      1\u001b[0m \u001b[1;32mwith\u001b[0m \u001b[0mopen\u001b[0m\u001b[1;33m(\u001b[0m\u001b[1;34m'tmp.txt'\u001b[0m\u001b[1;33m,\u001b[0m \u001b[1;34m'w'\u001b[0m\u001b[1;33m)\u001b[0m \u001b[1;32mas\u001b[0m \u001b[0mhandle\u001b[0m\u001b[1;33m:\u001b[0m\u001b[1;33m\u001b[0m\u001b[1;33m\u001b[0m\u001b[0m\n\u001b[1;32m----> 2\u001b[1;33m     \u001b[0mhandle\u001b[0m\u001b[1;33m.\u001b[0m\u001b[0mwritelines\u001b[0m\u001b[1;33m(\u001b[0m\u001b[0mx\u001b[0m \u001b[1;32mfor\u001b[0m \u001b[0mx\u001b[0m \u001b[1;32min\u001b[0m \u001b[0mopen\u001b[0m\u001b[1;33m(\u001b[0m\u001b[0mpath\u001b[0m\u001b[1;33m)\u001b[0m \u001b[1;32mif\u001b[0m \u001b[0mlen\u001b[0m\u001b[1;33m(\u001b[0m\u001b[0mx\u001b[0m\u001b[1;33m)\u001b[0m \u001b[1;33m>\u001b[0m \u001b[1;36m1\u001b[0m\u001b[1;33m)\u001b[0m\u001b[1;33m\u001b[0m\u001b[1;33m\u001b[0m\u001b[0m\n\u001b[0m\u001b[0;32m      3\u001b[0m \u001b[1;32mwith\u001b[0m \u001b[0mopen\u001b[0m\u001b[1;33m(\u001b[0m\u001b[1;34m'tmp.txt'\u001b[0m\u001b[1;33m)\u001b[0m \u001b[1;32mas\u001b[0m \u001b[0mf\u001b[0m\u001b[1;33m:\u001b[0m\u001b[1;33m\u001b[0m\u001b[1;33m\u001b[0m\u001b[0m\n\u001b[0;32m      4\u001b[0m     \u001b[0mlines\u001b[0m \u001b[1;33m=\u001b[0m \u001b[0mf\u001b[0m\u001b[1;33m.\u001b[0m\u001b[0mreadlines\u001b[0m\u001b[1;33m(\u001b[0m\u001b[1;33m)\u001b[0m\u001b[1;33m\u001b[0m\u001b[1;33m\u001b[0m\u001b[0m\n\u001b[0;32m      5\u001b[0m \u001b[0mlines\u001b[0m\u001b[1;33m\u001b[0m\u001b[1;33m\u001b[0m\u001b[0m\n",
            "\u001b[1;31mFileNotFoundError\u001b[0m: [Errno 2] No such file or directory: 'examples/segismundo.txt'"
          ]
        }
      ],
      "source": [
        "with open('tmp.txt', 'w') as handle:\n",
        "    handle.writelines(x for x in open(path) if len(x) > 1)\n",
        "with open('tmp.txt') as f:\n",
        "    lines = f.readlines()\n",
        "lines"
      ]
    },
    {
      "cell_type": "code",
      "execution_count": null,
      "metadata": {
        "id": "oHtJpZtbTnXU"
      },
      "outputs": [],
      "source": [
        "import os\n",
        "os.remove('tmp.txt')"
      ]
    },
    {
      "cell_type": "code",
      "execution_count": null,
      "metadata": {
        "id": "VOBMgno2TnXU",
        "outputId": "cdb0479b-9623-4767-b354-d164c8aa6250"
      },
      "outputs": [
        {
          "ename": "FileNotFoundError",
          "evalue": "[Errno 2] No such file or directory: 'examples/segismundo.txt'",
          "output_type": "error",
          "traceback": [
            "\u001b[1;31m---------------------------------------------------------------------------\u001b[0m",
            "\u001b[1;31mFileNotFoundError\u001b[0m                         Traceback (most recent call last)",
            "\u001b[1;32m~\\AppData\\Local\\Temp/ipykernel_19932/3367777108.py\u001b[0m in \u001b[0;36m<module>\u001b[1;34m\u001b[0m\n\u001b[1;32m----> 1\u001b[1;33m \u001b[1;32mwith\u001b[0m \u001b[0mopen\u001b[0m\u001b[1;33m(\u001b[0m\u001b[0mpath\u001b[0m\u001b[1;33m)\u001b[0m \u001b[1;32mas\u001b[0m \u001b[0mf\u001b[0m\u001b[1;33m:\u001b[0m\u001b[1;33m\u001b[0m\u001b[1;33m\u001b[0m\u001b[0m\n\u001b[0m\u001b[0;32m      2\u001b[0m     \u001b[0mchars\u001b[0m \u001b[1;33m=\u001b[0m \u001b[0mf\u001b[0m\u001b[1;33m.\u001b[0m\u001b[0mread\u001b[0m\u001b[1;33m(\u001b[0m\u001b[1;36m10\u001b[0m\u001b[1;33m)\u001b[0m\u001b[1;33m\u001b[0m\u001b[1;33m\u001b[0m\u001b[0m\n\u001b[0;32m      3\u001b[0m \u001b[0mchars\u001b[0m\u001b[1;33m\u001b[0m\u001b[1;33m\u001b[0m\u001b[0m\n",
            "\u001b[1;31mFileNotFoundError\u001b[0m: [Errno 2] No such file or directory: 'examples/segismundo.txt'"
          ]
        }
      ],
      "source": [
        "with open(path) as f:\n",
        "    chars = f.read(10)\n",
        "chars"
      ]
    },
    {
      "cell_type": "code",
      "execution_count": null,
      "metadata": {
        "id": "zP2djvi-TnXU",
        "outputId": "7f5c0306-58a8-48ba-c099-d4f9c4c86f65"
      },
      "outputs": [
        {
          "ename": "FileNotFoundError",
          "evalue": "[Errno 2] No such file or directory: 'examples/segismundo.txt'",
          "output_type": "error",
          "traceback": [
            "\u001b[1;31m---------------------------------------------------------------------------\u001b[0m",
            "\u001b[1;31mFileNotFoundError\u001b[0m                         Traceback (most recent call last)",
            "\u001b[1;32m~\\AppData\\Local\\Temp/ipykernel_19932/2531532458.py\u001b[0m in \u001b[0;36m<module>\u001b[1;34m\u001b[0m\n\u001b[1;32m----> 1\u001b[1;33m \u001b[1;32mwith\u001b[0m \u001b[0mopen\u001b[0m\u001b[1;33m(\u001b[0m\u001b[0mpath\u001b[0m\u001b[1;33m,\u001b[0m \u001b[1;34m'rb'\u001b[0m\u001b[1;33m)\u001b[0m \u001b[1;32mas\u001b[0m \u001b[0mf\u001b[0m\u001b[1;33m:\u001b[0m\u001b[1;33m\u001b[0m\u001b[1;33m\u001b[0m\u001b[0m\n\u001b[0m\u001b[0;32m      2\u001b[0m     \u001b[0mdata\u001b[0m \u001b[1;33m=\u001b[0m \u001b[0mf\u001b[0m\u001b[1;33m.\u001b[0m\u001b[0mread\u001b[0m\u001b[1;33m(\u001b[0m\u001b[1;36m10\u001b[0m\u001b[1;33m)\u001b[0m\u001b[1;33m\u001b[0m\u001b[1;33m\u001b[0m\u001b[0m\n\u001b[0;32m      3\u001b[0m \u001b[0mdata\u001b[0m\u001b[1;33m\u001b[0m\u001b[1;33m\u001b[0m\u001b[0m\n",
            "\u001b[1;31mFileNotFoundError\u001b[0m: [Errno 2] No such file or directory: 'examples/segismundo.txt'"
          ]
        }
      ],
      "source": [
        "with open(path, 'rb') as f:\n",
        "    data = f.read(10)\n",
        "data"
      ]
    },
    {
      "cell_type": "code",
      "execution_count": null,
      "metadata": {
        "id": "ydpOQWrbTnXU",
        "outputId": "f9942e84-ed6d-4a18-8fe1-b2a2efd6b4e7"
      },
      "outputs": [
        {
          "ename": "NameError",
          "evalue": "name 'data' is not defined",
          "output_type": "error",
          "traceback": [
            "\u001b[1;31m---------------------------------------------------------------------------\u001b[0m",
            "\u001b[1;31mNameError\u001b[0m                                 Traceback (most recent call last)",
            "\u001b[1;32m~\\AppData\\Local\\Temp/ipykernel_19932/3122088048.py\u001b[0m in \u001b[0;36m<module>\u001b[1;34m\u001b[0m\n\u001b[1;32m----> 1\u001b[1;33m \u001b[0mdata\u001b[0m\u001b[1;33m.\u001b[0m\u001b[0mdecode\u001b[0m\u001b[1;33m(\u001b[0m\u001b[1;34m'utf8'\u001b[0m\u001b[1;33m)\u001b[0m\u001b[1;33m\u001b[0m\u001b[1;33m\u001b[0m\u001b[0m\n\u001b[0m\u001b[0;32m      2\u001b[0m \u001b[0mdata\u001b[0m\u001b[1;33m[\u001b[0m\u001b[1;33m:\u001b[0m\u001b[1;36m4\u001b[0m\u001b[1;33m]\u001b[0m\u001b[1;33m.\u001b[0m\u001b[0mdecode\u001b[0m\u001b[1;33m(\u001b[0m\u001b[1;34m'utf8'\u001b[0m\u001b[1;33m)\u001b[0m\u001b[1;33m\u001b[0m\u001b[1;33m\u001b[0m\u001b[0m\n",
            "\u001b[1;31mNameError\u001b[0m: name 'data' is not defined"
          ]
        }
      ],
      "source": [
        "data.decode('utf8')\n",
        "data[:4].decode('utf8')"
      ]
    },
    {
      "cell_type": "code",
      "execution_count": null,
      "metadata": {
        "id": "Ql5adwaUTnXU",
        "outputId": "4db27cd4-9377-47f0-aa9a-6bbdcdd4710c"
      },
      "outputs": [
        {
          "ename": "FileNotFoundError",
          "evalue": "[Errno 2] No such file or directory: 'examples/segismundo.txt'",
          "output_type": "error",
          "traceback": [
            "\u001b[1;31m---------------------------------------------------------------------------\u001b[0m",
            "\u001b[1;31mFileNotFoundError\u001b[0m                         Traceback (most recent call last)",
            "\u001b[1;32m~\\AppData\\Local\\Temp/ipykernel_19932/220916214.py\u001b[0m in \u001b[0;36m<module>\u001b[1;34m\u001b[0m\n\u001b[0;32m      1\u001b[0m \u001b[0msink_path\u001b[0m \u001b[1;33m=\u001b[0m \u001b[1;34m'sink.txt'\u001b[0m\u001b[1;33m\u001b[0m\u001b[1;33m\u001b[0m\u001b[0m\n\u001b[1;32m----> 2\u001b[1;33m \u001b[1;32mwith\u001b[0m \u001b[0mopen\u001b[0m\u001b[1;33m(\u001b[0m\u001b[0mpath\u001b[0m\u001b[1;33m)\u001b[0m \u001b[1;32mas\u001b[0m \u001b[0msource\u001b[0m\u001b[1;33m:\u001b[0m\u001b[1;33m\u001b[0m\u001b[1;33m\u001b[0m\u001b[0m\n\u001b[0m\u001b[0;32m      3\u001b[0m     \u001b[1;32mwith\u001b[0m \u001b[0mopen\u001b[0m\u001b[1;33m(\u001b[0m\u001b[0msink_path\u001b[0m\u001b[1;33m,\u001b[0m \u001b[1;34m'xt'\u001b[0m\u001b[1;33m,\u001b[0m \u001b[0mencoding\u001b[0m\u001b[1;33m=\u001b[0m\u001b[1;34m'iso-8859-1'\u001b[0m\u001b[1;33m)\u001b[0m \u001b[1;32mas\u001b[0m \u001b[0msink\u001b[0m\u001b[1;33m:\u001b[0m\u001b[1;33m\u001b[0m\u001b[1;33m\u001b[0m\u001b[0m\n\u001b[0;32m      4\u001b[0m         \u001b[0msink\u001b[0m\u001b[1;33m.\u001b[0m\u001b[0mwrite\u001b[0m\u001b[1;33m(\u001b[0m\u001b[0msource\u001b[0m\u001b[1;33m.\u001b[0m\u001b[0mread\u001b[0m\u001b[1;33m(\u001b[0m\u001b[1;33m)\u001b[0m\u001b[1;33m)\u001b[0m\u001b[1;33m\u001b[0m\u001b[1;33m\u001b[0m\u001b[0m\n\u001b[0;32m      5\u001b[0m \u001b[1;32mwith\u001b[0m \u001b[0mopen\u001b[0m\u001b[1;33m(\u001b[0m\u001b[0msink_path\u001b[0m\u001b[1;33m,\u001b[0m \u001b[0mencoding\u001b[0m\u001b[1;33m=\u001b[0m\u001b[1;34m'iso-8859-1'\u001b[0m\u001b[1;33m)\u001b[0m \u001b[1;32mas\u001b[0m \u001b[0mf\u001b[0m\u001b[1;33m:\u001b[0m\u001b[1;33m\u001b[0m\u001b[1;33m\u001b[0m\u001b[0m\n",
            "\u001b[1;31mFileNotFoundError\u001b[0m: [Errno 2] No such file or directory: 'examples/segismundo.txt'"
          ]
        }
      ],
      "source": [
        "sink_path = 'sink.txt'\n",
        "with open(path) as source:\n",
        "    with open(sink_path, 'xt', encoding='iso-8859-1') as sink:\n",
        "        sink.write(source.read())\n",
        "with open(sink_path, encoding='iso-8859-1') as f:\n",
        "    print(f.read(10))"
      ]
    },
    {
      "cell_type": "code",
      "execution_count": null,
      "metadata": {
        "id": "oOg_bk4aTnXU",
        "outputId": "e3c00b2c-cfac-4968-81c4-84bdf316d985"
      },
      "outputs": [
        {
          "ename": "NameError",
          "evalue": "name 'sink_path' is not defined",
          "output_type": "error",
          "traceback": [
            "\u001b[1;31m---------------------------------------------------------------------------\u001b[0m",
            "\u001b[1;31mNameError\u001b[0m                                 Traceback (most recent call last)",
            "\u001b[1;32m~\\AppData\\Local\\Temp/ipykernel_10196/2990030024.py\u001b[0m in \u001b[0;36m<module>\u001b[1;34m\u001b[0m\n\u001b[1;32m----> 1\u001b[1;33m \u001b[0mos\u001b[0m\u001b[1;33m.\u001b[0m\u001b[0mremove\u001b[0m\u001b[1;33m(\u001b[0m\u001b[0msink_path\u001b[0m\u001b[1;33m)\u001b[0m\u001b[1;33m\u001b[0m\u001b[1;33m\u001b[0m\u001b[0m\n\u001b[0m",
            "\u001b[1;31mNameError\u001b[0m: name 'sink_path' is not defined"
          ]
        }
      ],
      "source": [
        "os.remove(sink_path)"
      ]
    },
    {
      "cell_type": "code",
      "execution_count": null,
      "metadata": {
        "id": "H42DUkC1TnXV",
        "outputId": "34fdb07a-69f9-46c7-f165-b71d66e46913"
      },
      "outputs": [
        {
          "ename": "NameError",
          "evalue": "name 'path' is not defined",
          "output_type": "error",
          "traceback": [
            "\u001b[1;31m---------------------------------------------------------------------------\u001b[0m",
            "\u001b[1;31mNameError\u001b[0m                                 Traceback (most recent call last)",
            "\u001b[1;32m~\\AppData\\Local\\Temp/ipykernel_10196/319769595.py\u001b[0m in \u001b[0;36m<module>\u001b[1;34m\u001b[0m\n\u001b[1;32m----> 1\u001b[1;33m \u001b[0mf\u001b[0m \u001b[1;33m=\u001b[0m \u001b[0mopen\u001b[0m\u001b[1;33m(\u001b[0m\u001b[0mpath\u001b[0m\u001b[1;33m)\u001b[0m\u001b[1;33m\u001b[0m\u001b[1;33m\u001b[0m\u001b[0m\n\u001b[0m\u001b[0;32m      2\u001b[0m \u001b[0mf\u001b[0m\u001b[1;33m.\u001b[0m\u001b[0mread\u001b[0m\u001b[1;33m(\u001b[0m\u001b[1;36m5\u001b[0m\u001b[1;33m)\u001b[0m\u001b[1;33m\u001b[0m\u001b[1;33m\u001b[0m\u001b[0m\n\u001b[0;32m      3\u001b[0m \u001b[0mf\u001b[0m\u001b[1;33m.\u001b[0m\u001b[0mseek\u001b[0m\u001b[1;33m(\u001b[0m\u001b[1;36m4\u001b[0m\u001b[1;33m)\u001b[0m\u001b[1;33m\u001b[0m\u001b[1;33m\u001b[0m\u001b[0m\n\u001b[0;32m      4\u001b[0m \u001b[0mf\u001b[0m\u001b[1;33m.\u001b[0m\u001b[0mread\u001b[0m\u001b[1;33m(\u001b[0m\u001b[1;36m1\u001b[0m\u001b[1;33m)\u001b[0m\u001b[1;33m\u001b[0m\u001b[1;33m\u001b[0m\u001b[0m\n\u001b[0;32m      5\u001b[0m \u001b[0mf\u001b[0m\u001b[1;33m.\u001b[0m\u001b[0mclose\u001b[0m\u001b[1;33m(\u001b[0m\u001b[1;33m)\u001b[0m\u001b[1;33m\u001b[0m\u001b[1;33m\u001b[0m\u001b[0m\n",
            "\u001b[1;31mNameError\u001b[0m: name 'path' is not defined"
          ]
        }
      ],
      "source": [
        "f = open(path)\n",
        "f.read(5)\n",
        "f.seek(4)\n",
        "f.read(1)\n",
        "f.close()"
      ]
    },
    {
      "cell_type": "markdown",
      "metadata": {
        "id": "68Rz3tZ2TnXV"
      },
      "source": [
        "NumPy Basics: Arrays and Vectorized Computation"
      ]
    },
    {
      "cell_type": "code",
      "execution_count": null,
      "metadata": {
        "id": "9mdr-FmdTnXV"
      },
      "outputs": [],
      "source": [
        "import numpy as np\n",
        "np.random.seed(12345)\n",
        "import matplotlib.pyplot as plt\n",
        "plt.rc('figure', figsize=(10, 6))\n",
        "np.set_printoptions(precision=4, suppress=True)"
      ]
    },
    {
      "cell_type": "code",
      "execution_count": null,
      "metadata": {
        "id": "cwPPCjhvTnXV"
      },
      "outputs": [],
      "source": [
        "import numpy as np\n",
        "my_arr = np.arange(1000000)\n",
        "my_list = list(range(1000000))"
      ]
    },
    {
      "cell_type": "code",
      "execution_count": null,
      "metadata": {
        "id": "69ZZVV3wTnXV",
        "outputId": "39463e73-b3b9-4655-e39c-d198a7070b44"
      },
      "outputs": [
        {
          "name": "stdout",
          "output_type": "stream",
          "text": [
            "Wall time: 32 ms\n",
            "Wall time: 2.01 s\n"
          ]
        }
      ],
      "source": [
        "%time for _ in range(10): my_arr2 = my_arr * 2\n",
        "%time for _ in range(10): my_list2 = [x * 2 for x in my_list]"
      ]
    },
    {
      "cell_type": "markdown",
      "metadata": {
        "id": "yvRjf1ZqTnXW"
      },
      "source": [
        "The NumPy ndarray: A Multidimensional Array Object"
      ]
    },
    {
      "cell_type": "code",
      "execution_count": null,
      "metadata": {
        "id": "aaTWwpiBTnXW",
        "outputId": "2764c244-8465-4ec5-d3f0-514abd22b92e"
      },
      "outputs": [
        {
          "data": {
            "text/plain": [
              "array([[ 0.0929,  0.2817,  0.769 ],\n",
              "       [ 1.2464,  1.0072, -1.2962]])"
            ]
          },
          "execution_count": 11,
          "metadata": {},
          "output_type": "execute_result"
        }
      ],
      "source": [
        "import numpy as np\n",
        "# Generate some random data\n",
        "data = np.random.randn(2, 3)\n",
        "data"
      ]
    },
    {
      "cell_type": "code",
      "execution_count": null,
      "metadata": {
        "id": "8eu0qfVXTnXW",
        "outputId": "9699cafa-f65d-4a7a-9036-25f69b2cb90b"
      },
      "outputs": [
        {
          "data": {
            "text/plain": [
              "array([[-0.4094,  0.9579, -1.0389],\n",
              "       [-1.1115,  3.9316,  2.7868]])"
            ]
          },
          "execution_count": 10,
          "metadata": {},
          "output_type": "execute_result"
        }
      ],
      "source": [
        "data * 10\n",
        "data + data"
      ]
    },
    {
      "cell_type": "code",
      "execution_count": null,
      "metadata": {
        "id": "cugvov-fTnXW",
        "outputId": "a7d4f463-ec8a-434f-e6e3-3339daf001f1"
      },
      "outputs": [
        {
          "data": {
            "text/plain": [
              "dtype('float64')"
            ]
          },
          "execution_count": 9,
          "metadata": {},
          "output_type": "execute_result"
        }
      ],
      "source": [
        "data.shape\n",
        "data.dtype"
      ]
    },
    {
      "cell_type": "markdown",
      "metadata": {
        "id": "UsfykN7aTnXW"
      },
      "source": [
        "Creating ndarrays"
      ]
    },
    {
      "cell_type": "code",
      "execution_count": null,
      "metadata": {
        "id": "ZP1yUwcZTnXW",
        "outputId": "37d5717f-9bb6-4dc5-d89d-62af1421548d"
      },
      "outputs": [
        {
          "data": {
            "text/plain": [
              "array([6. , 7.5, 8. , 0. , 1. ])"
            ]
          },
          "execution_count": 15,
          "metadata": {},
          "output_type": "execute_result"
        }
      ],
      "source": [
        "data1 = [6, 7.5, 8, 0, 1]\n",
        "arr1 = np.array(data1)\n",
        "arr1"
      ]
    },
    {
      "cell_type": "code",
      "execution_count": null,
      "metadata": {
        "id": "7xi4S9KpTnXW",
        "outputId": "8cf36699-4f48-4bf7-dd00-1b5f72fcc06c"
      },
      "outputs": [
        {
          "data": {
            "text/plain": [
              "array([[1, 2, 3, 4],\n",
              "       [5, 6, 7, 8]])"
            ]
          },
          "execution_count": 16,
          "metadata": {},
          "output_type": "execute_result"
        }
      ],
      "source": [
        "data2 = [[1, 2, 3, 4], [5, 6, 7, 8]]\n",
        "arr2 = np.array(data2)\n",
        "arr2"
      ]
    },
    {
      "cell_type": "code",
      "execution_count": null,
      "metadata": {
        "id": "GMqhCgimTnXX",
        "outputId": "87ee7297-46ab-46bb-81bc-5d8afaf87707"
      },
      "outputs": [
        {
          "data": {
            "text/plain": [
              "(2, 4)"
            ]
          },
          "execution_count": 18,
          "metadata": {},
          "output_type": "execute_result"
        }
      ],
      "source": [
        "arr2.ndim\n",
        "arr2.shape"
      ]
    },
    {
      "cell_type": "code",
      "execution_count": null,
      "metadata": {
        "id": "Hb0RUW6PTnXX",
        "outputId": "d2367285-af31-4a5f-bfa1-912bc8f4e785"
      },
      "outputs": [
        {
          "data": {
            "text/plain": [
              "dtype('int32')"
            ]
          },
          "execution_count": 19,
          "metadata": {},
          "output_type": "execute_result"
        }
      ],
      "source": [
        "arr1.dtype\n",
        "arr2.dtype"
      ]
    },
    {
      "cell_type": "code",
      "execution_count": null,
      "metadata": {
        "id": "K1BjxsQ-TnXX",
        "outputId": "0405384f-3e57-4972-c4a1-d03972cc5486"
      },
      "outputs": [
        {
          "data": {
            "text/plain": [
              "array([[[1.3979e-311, 3.1620e-322],\n",
              "        [0.0000e+000, 0.0000e+000],\n",
              "        [1.0186e-312, 8.6723e-067]],\n",
              "\n",
              "       [[4.8138e-038, 7.4984e-067],\n",
              "        [4.0419e-037, 4.4728e-033],\n",
              "        [6.0337e+174, 3.6971e-033]]])"
            ]
          },
          "execution_count": 20,
          "metadata": {},
          "output_type": "execute_result"
        }
      ],
      "source": [
        "np.zeros(10)\n",
        "np.zeros((3, 6))\n",
        "np.empty((2, 3, 2))"
      ]
    },
    {
      "cell_type": "code",
      "execution_count": null,
      "metadata": {
        "id": "teY-DbSgTnXX",
        "outputId": "ddd2ba18-6a58-409b-d76b-152460c6eb24"
      },
      "outputs": [
        {
          "data": {
            "text/plain": [
              "array([ 0,  1,  2,  3,  4,  5,  6,  7,  8,  9, 10, 11, 12, 13, 14])"
            ]
          },
          "execution_count": 21,
          "metadata": {},
          "output_type": "execute_result"
        }
      ],
      "source": [
        "np.arange(15)"
      ]
    },
    {
      "cell_type": "markdown",
      "metadata": {
        "id": "_0dRT-3pTnXX"
      },
      "source": [
        "Data Types for ndarrays"
      ]
    },
    {
      "cell_type": "code",
      "execution_count": null,
      "metadata": {
        "id": "YtbTuVv1TnXX",
        "outputId": "4c807b1a-fe50-4d0b-8ac9-5317b8550957"
      },
      "outputs": [
        {
          "data": {
            "text/plain": [
              "dtype('int32')"
            ]
          },
          "execution_count": 22,
          "metadata": {},
          "output_type": "execute_result"
        }
      ],
      "source": [
        "arr1 = np.array([1, 2, 3], dtype=np.float64)\n",
        "arr2 = np.array([1, 2, 3], dtype=np.int32)\n",
        "arr1.dtype\n",
        "arr2.dtype"
      ]
    },
    {
      "cell_type": "code",
      "execution_count": null,
      "metadata": {
        "id": "e2cAoRDzTnXY",
        "outputId": "37c282bd-2b0b-4ff5-bf28-6e0832f2e00e"
      },
      "outputs": [
        {
          "data": {
            "text/plain": [
              "dtype('float64')"
            ]
          },
          "execution_count": 23,
          "metadata": {},
          "output_type": "execute_result"
        }
      ],
      "source": [
        "arr = np.array([1, 2, 3, 4, 5])\n",
        "arr.dtype\n",
        "float_arr = arr.astype(np.float64)\n",
        "float_arr.dtype"
      ]
    },
    {
      "cell_type": "code",
      "execution_count": null,
      "metadata": {
        "id": "Rb_vofULTnXY",
        "outputId": "9ed186bc-6bde-4789-c910-984d240d8cb7"
      },
      "outputs": [
        {
          "data": {
            "text/plain": [
              "array([ 3, -1, -2,  0, 12, 10])"
            ]
          },
          "execution_count": 24,
          "metadata": {},
          "output_type": "execute_result"
        }
      ],
      "source": [
        "arr = np.array([3.7, -1.2, -2.6, 0.5, 12.9, 10.1])\n",
        "arr\n",
        "arr.astype(np.int32)"
      ]
    },
    {
      "cell_type": "code",
      "execution_count": null,
      "metadata": {
        "id": "IX7ioJlZTnXY",
        "outputId": "5c14dd94-2d88-4263-b8d7-6557c30f1612"
      },
      "outputs": [
        {
          "data": {
            "text/plain": [
              "array([ 1.25, -9.6 , 42.  ])"
            ]
          },
          "execution_count": 25,
          "metadata": {},
          "output_type": "execute_result"
        }
      ],
      "source": [
        "numeric_strings = np.array(['1.25', '-9.6', '42'], dtype=np.string_)\n",
        "numeric_strings.astype(float)"
      ]
    },
    {
      "cell_type": "code",
      "execution_count": null,
      "metadata": {
        "id": "pZdd4ldiTnXY",
        "outputId": "8ff7dea1-abea-4e84-ab99-b2619923043a"
      },
      "outputs": [
        {
          "data": {
            "text/plain": [
              "array([0., 1., 2., 3., 4., 5., 6., 7., 8., 9.])"
            ]
          },
          "execution_count": 26,
          "metadata": {},
          "output_type": "execute_result"
        }
      ],
      "source": [
        "int_array = np.arange(10)\n",
        "calibers = np.array([.22, .270, .357, .380, .44, .50], dtype=np.float64)\n",
        "int_array.astype(calibers.dtype)"
      ]
    },
    {
      "cell_type": "code",
      "execution_count": null,
      "metadata": {
        "id": "_XErfYkITnXY",
        "outputId": "bb3a32e3-91c8-4078-8184-5d9dd24621ae"
      },
      "outputs": [
        {
          "data": {
            "text/plain": [
              "array([         0, 1075314688,          0, 1075707904,          0,\n",
              "       1075838976,          0, 1072693248], dtype=uint32)"
            ]
          },
          "execution_count": 27,
          "metadata": {},
          "output_type": "execute_result"
        }
      ],
      "source": [
        "empty_uint32 = np.empty(8, dtype='u4')\n",
        "empty_uint32"
      ]
    },
    {
      "cell_type": "markdown",
      "metadata": {
        "id": "HEtLf1RxTnXZ"
      },
      "source": [
        "Arithmetic with NumPy Arrays"
      ]
    },
    {
      "cell_type": "code",
      "execution_count": null,
      "metadata": {
        "id": "tq7OsdQdTnXZ",
        "outputId": "a86bfc1a-fff5-466e-edb5-a0f6fcb55412"
      },
      "outputs": [
        {
          "data": {
            "text/plain": [
              "array([[0., 0., 0.],\n",
              "       [0., 0., 0.]])"
            ]
          },
          "execution_count": 30,
          "metadata": {},
          "output_type": "execute_result"
        }
      ],
      "source": [
        "arr = np.array([[1., 2., 3.], [4., 5., 6.]])\n",
        "arr\n",
        "arr * arr\n",
        "arr - arr "
      ]
    },
    {
      "cell_type": "code",
      "execution_count": null,
      "metadata": {
        "id": "CYMYve4YTnXZ",
        "outputId": "8ffdf2fe-b167-46a6-9d9a-ea516a2f7f80"
      },
      "outputs": [
        {
          "data": {
            "text/plain": [
              "array([[1.    , 1.4142, 1.7321],\n",
              "       [2.    , 2.2361, 2.4495]])"
            ]
          },
          "execution_count": 31,
          "metadata": {},
          "output_type": "execute_result"
        }
      ],
      "source": [
        "1 / arr\n",
        "arr ** 0.5"
      ]
    },
    {
      "cell_type": "code",
      "execution_count": null,
      "metadata": {
        "id": "reTu5HqfTnXZ",
        "outputId": "044f720c-78f6-45f7-9b91-559d78290fb5"
      },
      "outputs": [
        {
          "data": {
            "text/plain": [
              "array([[False,  True, False],\n",
              "       [ True, False,  True]])"
            ]
          },
          "execution_count": 32,
          "metadata": {},
          "output_type": "execute_result"
        }
      ],
      "source": [
        "arr2 = np.array([[0., 4., 1.], [7., 2., 12.]])\n",
        "arr2\n",
        "arr2 > arr"
      ]
    },
    {
      "cell_type": "markdown",
      "metadata": {
        "id": "P4kaIqRUTnXZ"
      },
      "source": [
        "Basic Indexing and Slicing"
      ]
    },
    {
      "cell_type": "code",
      "execution_count": null,
      "metadata": {
        "id": "lrWhI87DTnXZ",
        "outputId": "b448486c-fe06-4517-8741-c1dd0e6e4b18"
      },
      "outputs": [
        {
          "data": {
            "text/plain": [
              "array([ 0,  1,  2,  3,  4, 12, 12, 12,  8,  9])"
            ]
          },
          "execution_count": 33,
          "metadata": {},
          "output_type": "execute_result"
        }
      ],
      "source": [
        "arr = np.arange(10)\n",
        "arr\n",
        "arr[5]\n",
        "arr[5:8]\n",
        "arr[5:8] = 12\n",
        "arr"
      ]
    },
    {
      "cell_type": "code",
      "execution_count": null,
      "metadata": {
        "id": "ww6bDuWkTnXa",
        "outputId": "98230078-a49a-4082-92be-aa46b899074f"
      },
      "outputs": [
        {
          "data": {
            "text/plain": [
              "array([12, 12, 12])"
            ]
          },
          "execution_count": 35,
          "metadata": {},
          "output_type": "execute_result"
        }
      ],
      "source": [
        "arr_slice = arr[5:8]\n",
        "arr_slice\n"
      ]
    },
    {
      "cell_type": "code",
      "execution_count": null,
      "metadata": {
        "id": "tJvtlaWgTnXa",
        "outputId": "5e9ceb8c-ab79-4b70-efa9-da12709ef9a3"
      },
      "outputs": [
        {
          "data": {
            "text/plain": [
              "array([    0,     1,     2,     3,     4,    12, 12345,    12,     8,\n",
              "           9])"
            ]
          },
          "execution_count": 36,
          "metadata": {},
          "output_type": "execute_result"
        }
      ],
      "source": [
        "arr_slice[1] = 12345\n",
        "arr"
      ]
    },
    {
      "cell_type": "code",
      "execution_count": null,
      "metadata": {
        "id": "G1PaiBfgTnXa",
        "outputId": "d9ff517e-7492-42bb-cf47-5aedc41cd6c8"
      },
      "outputs": [
        {
          "data": {
            "text/plain": [
              "array([ 0,  1,  2,  3,  4, 64, 64, 64,  8,  9])"
            ]
          },
          "execution_count": 37,
          "metadata": {},
          "output_type": "execute_result"
        }
      ],
      "source": [
        "arr_slice[:] = 64\n",
        "arr"
      ]
    },
    {
      "cell_type": "code",
      "execution_count": null,
      "metadata": {
        "id": "6GkQ24DRTnXa",
        "outputId": "de30b04e-9107-4dc8-e1f0-169530bf5183"
      },
      "outputs": [
        {
          "data": {
            "text/plain": [
              "array([7, 8, 9])"
            ]
          },
          "execution_count": 38,
          "metadata": {},
          "output_type": "execute_result"
        }
      ],
      "source": [
        "arr2d = np.array([[1, 2, 3], [4, 5, 6], [7, 8, 9]])\n",
        "arr2d[2]"
      ]
    },
    {
      "cell_type": "code",
      "execution_count": null,
      "metadata": {
        "id": "oxvhKKHYTnXa",
        "outputId": "3f7c59e8-238f-4a71-c827-86a378fb12ea"
      },
      "outputs": [
        {
          "data": {
            "text/plain": [
              "3"
            ]
          },
          "execution_count": 39,
          "metadata": {},
          "output_type": "execute_result"
        }
      ],
      "source": [
        "arr2d[0][2]\n",
        "arr2d[0, 2]"
      ]
    },
    {
      "cell_type": "code",
      "execution_count": null,
      "metadata": {
        "id": "sXwnGLnVTnXb",
        "outputId": "f8092c8d-e871-4063-d841-5be8ea4efc98"
      },
      "outputs": [
        {
          "data": {
            "text/plain": [
              "array([[[ 1,  2,  3],\n",
              "        [ 4,  5,  6]],\n",
              "\n",
              "       [[ 7,  8,  9],\n",
              "        [10, 11, 12]]])"
            ]
          },
          "execution_count": 40,
          "metadata": {},
          "output_type": "execute_result"
        }
      ],
      "source": [
        "arr3d = np.array([[[1, 2, 3], [4, 5, 6]], [[7, 8, 9], [10, 11, 12]]])\n",
        "arr3d"
      ]
    },
    {
      "cell_type": "code",
      "execution_count": null,
      "metadata": {
        "id": "FNPSWNj9TnXb",
        "outputId": "50e866b2-9ccf-4c2c-a30c-f57330b2685d"
      },
      "outputs": [
        {
          "data": {
            "text/plain": [
              "array([[1, 2, 3],\n",
              "       [4, 5, 6]])"
            ]
          },
          "execution_count": 41,
          "metadata": {},
          "output_type": "execute_result"
        }
      ],
      "source": [
        "arr3d[0]"
      ]
    },
    {
      "cell_type": "code",
      "execution_count": null,
      "metadata": {
        "id": "p8WIMdYfTnXb",
        "outputId": "308d050d-5d76-4aa9-87af-9ae8c404951c"
      },
      "outputs": [
        {
          "data": {
            "text/plain": [
              "array([[[ 1,  2,  3],\n",
              "        [ 4,  5,  6]],\n",
              "\n",
              "       [[ 7,  8,  9],\n",
              "        [10, 11, 12]]])"
            ]
          },
          "execution_count": 42,
          "metadata": {},
          "output_type": "execute_result"
        }
      ],
      "source": [
        "old_values = arr3d[0].copy()\n",
        "arr3d[0] = 42\n",
        "arr3d\n",
        "arr3d[0] = old_values\n",
        "arr3d"
      ]
    },
    {
      "cell_type": "code",
      "execution_count": null,
      "metadata": {
        "id": "aWSNsXV_TnXb",
        "outputId": "b42b751b-7b55-42cc-c440-646e8c9a4b42"
      },
      "outputs": [
        {
          "data": {
            "text/plain": [
              "array([7, 8, 9])"
            ]
          },
          "execution_count": 43,
          "metadata": {},
          "output_type": "execute_result"
        }
      ],
      "source": [
        "arr3d[1, 0]"
      ]
    },
    {
      "cell_type": "code",
      "execution_count": null,
      "metadata": {
        "id": "AcLAus2GTnXb",
        "outputId": "552da0ea-4b48-49ea-a1e3-996cb6ed47c8"
      },
      "outputs": [
        {
          "data": {
            "text/plain": [
              "array([7, 8, 9])"
            ]
          },
          "execution_count": 44,
          "metadata": {},
          "output_type": "execute_result"
        }
      ],
      "source": [
        "x = arr3d[1]\n",
        "x\n",
        "x[0]"
      ]
    },
    {
      "cell_type": "markdown",
      "metadata": {
        "id": "nBnQv-D3TnXb"
      },
      "source": [
        "Indexing with slices"
      ]
    },
    {
      "cell_type": "code",
      "execution_count": null,
      "metadata": {
        "id": "ITxWrIKETnXc",
        "outputId": "ce437f6e-0c3c-4895-ddf1-186318b9f82c"
      },
      "outputs": [
        {
          "data": {
            "text/plain": [
              "array([ 1,  2,  3,  4, 64])"
            ]
          },
          "execution_count": 46,
          "metadata": {},
          "output_type": "execute_result"
        }
      ],
      "source": [
        "arr\n",
        "arr[1:6]"
      ]
    },
    {
      "cell_type": "code",
      "execution_count": null,
      "metadata": {
        "id": "I-x351MRTnXc",
        "outputId": "17999e86-1dc6-4834-8c46-afe8ce7b8955"
      },
      "outputs": [
        {
          "data": {
            "text/plain": [
              "array([[1, 2, 3],\n",
              "       [4, 5, 6]])"
            ]
          },
          "execution_count": 47,
          "metadata": {},
          "output_type": "execute_result"
        }
      ],
      "source": [
        "arr2d\n",
        "arr2d[:2]"
      ]
    },
    {
      "cell_type": "code",
      "execution_count": null,
      "metadata": {
        "id": "I_Hldm33TnXc",
        "outputId": "d7ee2124-29fe-4e60-ef25-2ce54878775d"
      },
      "outputs": [
        {
          "data": {
            "text/plain": [
              "array([[2, 3],\n",
              "       [5, 6]])"
            ]
          },
          "execution_count": 48,
          "metadata": {},
          "output_type": "execute_result"
        }
      ],
      "source": [
        "arr2d[:2, 1:]"
      ]
    },
    {
      "cell_type": "code",
      "execution_count": null,
      "metadata": {
        "id": "C8n54kb_TnXc",
        "outputId": "8d7fea91-682e-4117-8100-8dcdc85cfdb5"
      },
      "outputs": [
        {
          "data": {
            "text/plain": [
              "array([4, 5])"
            ]
          },
          "execution_count": 49,
          "metadata": {},
          "output_type": "execute_result"
        }
      ],
      "source": [
        "arr2d[1, :2]"
      ]
    },
    {
      "cell_type": "code",
      "execution_count": null,
      "metadata": {
        "id": "DPPI1LoDTnXc",
        "outputId": "0f104e11-ba8f-4591-c616-0da6956ea180"
      },
      "outputs": [
        {
          "data": {
            "text/plain": [
              "array([3, 6])"
            ]
          },
          "execution_count": 50,
          "metadata": {},
          "output_type": "execute_result"
        }
      ],
      "source": [
        "arr2d[:2, 2]"
      ]
    },
    {
      "cell_type": "code",
      "execution_count": null,
      "metadata": {
        "id": "V7X-mU0ETnXc",
        "outputId": "37580500-bd66-448b-9976-723945210f9c"
      },
      "outputs": [
        {
          "data": {
            "text/plain": [
              "array([[1],\n",
              "       [4],\n",
              "       [7]])"
            ]
          },
          "execution_count": 51,
          "metadata": {},
          "output_type": "execute_result"
        }
      ],
      "source": [
        "arr2d[:, :1]"
      ]
    },
    {
      "cell_type": "code",
      "execution_count": null,
      "metadata": {
        "id": "1uR4RJwJTnXd",
        "outputId": "cdf575b0-9807-4471-c3b7-9223f292cc2a"
      },
      "outputs": [
        {
          "data": {
            "text/plain": [
              "array([[1, 0, 0],\n",
              "       [4, 0, 0],\n",
              "       [7, 8, 9]])"
            ]
          },
          "execution_count": 52,
          "metadata": {},
          "output_type": "execute_result"
        }
      ],
      "source": [
        "arr2d[:2, 1:] = 0\n",
        "arr2d"
      ]
    },
    {
      "cell_type": "markdown",
      "metadata": {
        "id": "ADTRfjEbTnXd"
      },
      "source": [
        "Boolean Indexing"
      ]
    },
    {
      "cell_type": "code",
      "execution_count": null,
      "metadata": {
        "id": "HzB98MneTnXd",
        "outputId": "71cd51e8-7363-4719-94d2-e46536bfac38"
      },
      "outputs": [
        {
          "data": {
            "text/plain": [
              "array([[-0.2047,  0.4789, -0.5194, -0.5557],\n",
              "       [ 1.9658,  1.3934,  0.0929,  0.2817],\n",
              "       [ 0.769 ,  1.2464,  1.0072, -1.2962],\n",
              "       [ 0.275 ,  0.2289,  1.3529,  0.8864],\n",
              "       [-2.0016, -0.3718,  1.669 , -0.4386],\n",
              "       [-0.5397,  0.477 ,  3.2489, -1.0212],\n",
              "       [-0.5771,  0.1241,  0.3026,  0.5238]])"
            ]
          },
          "execution_count": 53,
          "metadata": {},
          "output_type": "execute_result"
        }
      ],
      "source": [
        "names = np.array(['Bob', 'Joe', 'Will', 'Bob', 'Will', 'Joe', 'Joe'])\n",
        "data = np.random.randn(7, 4)\n",
        "names\n",
        "data"
      ]
    },
    {
      "cell_type": "code",
      "execution_count": null,
      "metadata": {
        "id": "iJsqfxWJTnXd",
        "outputId": "5a36b906-ebbe-4e8b-c0e7-d89b854b8ae4"
      },
      "outputs": [
        {
          "data": {
            "text/plain": [
              "array([ True, False, False,  True, False, False, False])"
            ]
          },
          "execution_count": 54,
          "metadata": {},
          "output_type": "execute_result"
        }
      ],
      "source": [
        "names == 'Bob'"
      ]
    },
    {
      "cell_type": "code",
      "execution_count": null,
      "metadata": {
        "id": "hwMPx4rSTnXd",
        "outputId": "378f3e2e-2c51-4b18-8b50-328e49ad7a55"
      },
      "outputs": [
        {
          "data": {
            "text/plain": [
              "array([[-0.2047,  0.4789, -0.5194, -0.5557],\n",
              "       [ 0.275 ,  0.2289,  1.3529,  0.8864]])"
            ]
          },
          "execution_count": 55,
          "metadata": {},
          "output_type": "execute_result"
        }
      ],
      "source": [
        "data[names == 'Bob']"
      ]
    },
    {
      "cell_type": "code",
      "execution_count": null,
      "metadata": {
        "id": "NLBjRtXXTnXd",
        "outputId": "1e36cba5-d489-4006-a606-f6a0d13c5610"
      },
      "outputs": [
        {
          "data": {
            "text/plain": [
              "array([-0.5557,  0.8864])"
            ]
          },
          "execution_count": 56,
          "metadata": {},
          "output_type": "execute_result"
        }
      ],
      "source": [
        "data[names == 'Bob', 2:]\n",
        "data[names == 'Bob', 3]"
      ]
    },
    {
      "cell_type": "code",
      "execution_count": null,
      "metadata": {
        "id": "x00Pe4J0TnXe",
        "outputId": "58f8754c-e2cd-43d7-bb64-86f3ee9c1964"
      },
      "outputs": [
        {
          "data": {
            "text/plain": [
              "array([[ 1.9658,  1.3934,  0.0929,  0.2817],\n",
              "       [ 0.769 ,  1.2464,  1.0072, -1.2962],\n",
              "       [-2.0016, -0.3718,  1.669 , -0.4386],\n",
              "       [-0.5397,  0.477 ,  3.2489, -1.0212],\n",
              "       [-0.5771,  0.1241,  0.3026,  0.5238]])"
            ]
          },
          "execution_count": 57,
          "metadata": {},
          "output_type": "execute_result"
        }
      ],
      "source": [
        "names != 'Bob'\n",
        "data[~(names == 'Bob')]"
      ]
    },
    {
      "cell_type": "code",
      "execution_count": null,
      "metadata": {
        "id": "v0XgZRvgTnXe",
        "outputId": "a050ced5-77aa-41d1-c29a-1acc1c2d7fbe"
      },
      "outputs": [
        {
          "data": {
            "text/plain": [
              "array([[ 1.9658,  1.3934,  0.0929,  0.2817],\n",
              "       [ 0.769 ,  1.2464,  1.0072, -1.2962],\n",
              "       [-2.0016, -0.3718,  1.669 , -0.4386],\n",
              "       [-0.5397,  0.477 ,  3.2489, -1.0212],\n",
              "       [-0.5771,  0.1241,  0.3026,  0.5238]])"
            ]
          },
          "execution_count": 58,
          "metadata": {},
          "output_type": "execute_result"
        }
      ],
      "source": [
        "cond = names == 'Bob'\n",
        "data[~cond]"
      ]
    },
    {
      "cell_type": "code",
      "execution_count": null,
      "metadata": {
        "id": "CB4XoxKzTnXe",
        "outputId": "48a95e6d-acbd-45fa-d77e-f65bdcbbf5f0"
      },
      "outputs": [
        {
          "data": {
            "text/plain": [
              "array([[-0.2047,  0.4789, -0.5194, -0.5557],\n",
              "       [ 0.769 ,  1.2464,  1.0072, -1.2962],\n",
              "       [ 0.275 ,  0.2289,  1.3529,  0.8864],\n",
              "       [-2.0016, -0.3718,  1.669 , -0.4386]])"
            ]
          },
          "execution_count": 60,
          "metadata": {},
          "output_type": "execute_result"
        }
      ],
      "source": [
        "mask = (names == 'Bob') | (names == 'Will')\n",
        "mask\n",
        "data[mask]"
      ]
    },
    {
      "cell_type": "code",
      "execution_count": null,
      "metadata": {
        "id": "6Hhb0KkdTnXe",
        "outputId": "3b4cc86c-1865-4768-96c1-c3f81efcfcc7"
      },
      "outputs": [
        {
          "data": {
            "text/plain": [
              "array([[0.    , 0.4789, 0.    , 0.    ],\n",
              "       [1.9658, 1.3934, 0.0929, 0.2817],\n",
              "       [0.769 , 1.2464, 1.0072, 0.    ],\n",
              "       [0.275 , 0.2289, 1.3529, 0.8864],\n",
              "       [0.    , 0.    , 1.669 , 0.    ],\n",
              "       [0.    , 0.477 , 3.2489, 0.    ],\n",
              "       [0.    , 0.1241, 0.3026, 0.5238]])"
            ]
          },
          "execution_count": 61,
          "metadata": {},
          "output_type": "execute_result"
        }
      ],
      "source": [
        "data[data < 0] = 0\n",
        "data"
      ]
    },
    {
      "cell_type": "code",
      "execution_count": null,
      "metadata": {
        "id": "TwApfGHKTnXe",
        "outputId": "14ee49a8-d2fd-45ea-8756-7aaeb5887b90"
      },
      "outputs": [
        {
          "data": {
            "text/plain": [
              "array([[7.    , 7.    , 7.    , 7.    ],\n",
              "       [1.9658, 1.3934, 0.0929, 0.2817],\n",
              "       [7.    , 7.    , 7.    , 7.    ],\n",
              "       [7.    , 7.    , 7.    , 7.    ],\n",
              "       [7.    , 7.    , 7.    , 7.    ],\n",
              "       [0.    , 0.477 , 3.2489, 0.    ],\n",
              "       [0.    , 0.1241, 0.3026, 0.5238]])"
            ]
          },
          "execution_count": 62,
          "metadata": {},
          "output_type": "execute_result"
        }
      ],
      "source": [
        "data[names != 'Joe'] = 7\n",
        "data"
      ]
    },
    {
      "cell_type": "markdown",
      "metadata": {
        "id": "ig0sCUXNTnXf"
      },
      "source": [
        "Fancy Indexing"
      ]
    },
    {
      "cell_type": "code",
      "execution_count": null,
      "metadata": {
        "id": "nvGJC5YaTnXf",
        "outputId": "b42108ea-21c8-4d5c-c94f-d7310a0df8d3"
      },
      "outputs": [
        {
          "data": {
            "text/plain": [
              "array([[0., 0., 0., 0.],\n",
              "       [1., 1., 1., 1.],\n",
              "       [2., 2., 2., 2.],\n",
              "       [3., 3., 3., 3.],\n",
              "       [4., 4., 4., 4.],\n",
              "       [5., 5., 5., 5.],\n",
              "       [6., 6., 6., 6.],\n",
              "       [7., 7., 7., 7.]])"
            ]
          },
          "execution_count": 63,
          "metadata": {},
          "output_type": "execute_result"
        }
      ],
      "source": [
        "arr = np.empty((8, 4))\n",
        "for i in range(8):\n",
        "    arr[i] = i\n",
        "arr"
      ]
    },
    {
      "cell_type": "code",
      "execution_count": null,
      "metadata": {
        "id": "rzIug09PTnXf",
        "outputId": "46ed6a32-fceb-49be-e8b2-9af3edaeb21c"
      },
      "outputs": [
        {
          "data": {
            "text/plain": [
              "array([[4., 4., 4., 4.],\n",
              "       [3., 3., 3., 3.],\n",
              "       [0., 0., 0., 0.],\n",
              "       [6., 6., 6., 6.]])"
            ]
          },
          "execution_count": 64,
          "metadata": {},
          "output_type": "execute_result"
        }
      ],
      "source": [
        "arr[[4, 3, 0, 6]]"
      ]
    },
    {
      "cell_type": "code",
      "execution_count": null,
      "metadata": {
        "id": "wMkwMb_ITnXf",
        "outputId": "caf4efe0-f22e-478a-8441-02a756a2fa7b"
      },
      "outputs": [
        {
          "data": {
            "text/plain": [
              "array([[5., 5., 5., 5.],\n",
              "       [3., 3., 3., 3.],\n",
              "       [1., 1., 1., 1.]])"
            ]
          },
          "execution_count": 65,
          "metadata": {},
          "output_type": "execute_result"
        }
      ],
      "source": [
        "arr[[-3, -5, -7]]"
      ]
    },
    {
      "cell_type": "code",
      "execution_count": null,
      "metadata": {
        "id": "0dInqT0RTnXg",
        "outputId": "783516fa-63ea-4b18-8b5a-55a3d2d3f81a"
      },
      "outputs": [
        {
          "data": {
            "text/plain": [
              "array([ 4, 23, 29, 10])"
            ]
          },
          "execution_count": 66,
          "metadata": {},
          "output_type": "execute_result"
        }
      ],
      "source": [
        "arr = np.arange(32).reshape((8, 4))\n",
        "arr\n",
        "arr[[1, 5, 7, 2], [0, 3, 1, 2]]"
      ]
    },
    {
      "cell_type": "code",
      "execution_count": null,
      "metadata": {
        "id": "9RMJ74m9TnXg",
        "outputId": "23846a8d-a888-4037-ad9b-96f14ab4ef4b"
      },
      "outputs": [
        {
          "data": {
            "text/plain": [
              "array([[ 4,  7,  5,  6],\n",
              "       [20, 23, 21, 22],\n",
              "       [28, 31, 29, 30],\n",
              "       [ 8, 11,  9, 10]])"
            ]
          },
          "execution_count": 67,
          "metadata": {},
          "output_type": "execute_result"
        }
      ],
      "source": [
        "arr[[1, 5, 7, 2]][:, [0, 3, 1, 2]]"
      ]
    },
    {
      "cell_type": "markdown",
      "metadata": {
        "id": "uEenMwcYTnXg"
      },
      "source": [
        "Transposing Arrays and Swapping Axes"
      ]
    },
    {
      "cell_type": "code",
      "execution_count": null,
      "metadata": {
        "id": "DS1gFtXaTnXh",
        "outputId": "57c62c47-e248-4426-b2ff-eb407ae2c75d"
      },
      "outputs": [
        {
          "data": {
            "text/plain": [
              "array([[ 0,  5, 10],\n",
              "       [ 1,  6, 11],\n",
              "       [ 2,  7, 12],\n",
              "       [ 3,  8, 13],\n",
              "       [ 4,  9, 14]])"
            ]
          },
          "execution_count": 68,
          "metadata": {},
          "output_type": "execute_result"
        }
      ],
      "source": [
        "arr = np.arange(15).reshape((3, 5))\n",
        "arr\n",
        "arr.T"
      ]
    },
    {
      "cell_type": "code",
      "execution_count": null,
      "metadata": {
        "id": "qI4rzIA4TnXh",
        "outputId": "084ce20f-7cb2-46b3-e8f3-92b953ea09a7"
      },
      "outputs": [
        {
          "data": {
            "text/plain": [
              "array([[ 7.9553,  3.1013,  6.0357],\n",
              "       [ 3.1013, 10.6168,  2.3219],\n",
              "       [ 6.0357,  2.3219,  8.1447]])"
            ]
          },
          "execution_count": 69,
          "metadata": {},
          "output_type": "execute_result"
        }
      ],
      "source": [
        "arr = np.random.randn(6, 3)\n",
        "arr\n",
        "np.dot(arr.T, arr)"
      ]
    },
    {
      "cell_type": "code",
      "execution_count": null,
      "metadata": {
        "id": "Tmqv_iGVTnXh",
        "outputId": "6bfe6692-9a29-4263-e9fb-5f9d609b8fe0"
      },
      "outputs": [
        {
          "data": {
            "text/plain": [
              "array([[[ 0,  1,  2,  3],\n",
              "        [ 8,  9, 10, 11]],\n",
              "\n",
              "       [[ 4,  5,  6,  7],\n",
              "        [12, 13, 14, 15]]])"
            ]
          },
          "execution_count": 70,
          "metadata": {},
          "output_type": "execute_result"
        }
      ],
      "source": [
        "arr = np.arange(16).reshape((2, 2, 4))\n",
        "arr\n",
        "arr.transpose((1, 0, 2))"
      ]
    },
    {
      "cell_type": "code",
      "execution_count": null,
      "metadata": {
        "id": "QwM0i-UYTnXi",
        "outputId": "3d58ffe0-0777-4bd6-925f-d77893353f7a"
      },
      "outputs": [
        {
          "data": {
            "text/plain": [
              "array([[[ 0,  4],\n",
              "        [ 1,  5],\n",
              "        [ 2,  6],\n",
              "        [ 3,  7]],\n",
              "\n",
              "       [[ 8, 12],\n",
              "        [ 9, 13],\n",
              "        [10, 14],\n",
              "        [11, 15]]])"
            ]
          },
          "execution_count": 71,
          "metadata": {},
          "output_type": "execute_result"
        }
      ],
      "source": [
        "arr\n",
        "arr.swapaxes(1, 2)"
      ]
    },
    {
      "cell_type": "markdown",
      "metadata": {
        "id": "WXQ-ODRkTnXi"
      },
      "source": [
        "Universal Functions: Fast Element-Wise Array Functions"
      ]
    },
    {
      "cell_type": "code",
      "execution_count": null,
      "metadata": {
        "id": "wvEG0guuTnXi",
        "outputId": "b173010d-f87a-4ba3-d4d1-e1d596efcb94"
      },
      "outputs": [
        {
          "data": {
            "text/plain": [
              "array([   1.    ,    2.7183,    7.3891,   20.0855,   54.5982,  148.4132,\n",
              "        403.4288, 1096.6332, 2980.958 , 8103.0839])"
            ]
          },
          "execution_count": 72,
          "metadata": {},
          "output_type": "execute_result"
        }
      ],
      "source": [
        "arr = np.arange(10)\n",
        "arr\n",
        "np.sqrt(arr)\n",
        "np.exp(arr)"
      ]
    },
    {
      "cell_type": "code",
      "execution_count": null,
      "metadata": {
        "id": "EvbtT-r9TnXi",
        "outputId": "ce0e2cf0-363f-42a5-cdc4-18071a64dbed"
      },
      "outputs": [
        {
          "data": {
            "text/plain": [
              "array([ 1.3272, -0.7539,  0.3313,  1.3497,  0.7584,  0.2467,  0.8626,\n",
              "        1.0048])"
            ]
          },
          "execution_count": 73,
          "metadata": {},
          "output_type": "execute_result"
        }
      ],
      "source": [
        "x = np.random.randn(8)\n",
        "y = np.random.randn(8)\n",
        "x\n",
        "y\n",
        "np.maximum(x, y)"
      ]
    },
    {
      "cell_type": "code",
      "execution_count": null,
      "metadata": {
        "id": "MDoPuu5pTnXj",
        "outputId": "15d23a9f-d1b2-442d-9630-523fa87eeb98"
      },
      "outputs": [
        {
          "data": {
            "text/plain": [
              "array([  0.,   3.,   4.,  -4.,  -0., -11.,  -3.])"
            ]
          },
          "execution_count": 74,
          "metadata": {},
          "output_type": "execute_result"
        }
      ],
      "source": [
        "arr = np.random.randn(7) * 5\n",
        "arr\n",
        "remainder, whole_part = np.modf(arr)\n",
        "remainder\n",
        "whole_part"
      ]
    },
    {
      "cell_type": "code",
      "execution_count": null,
      "metadata": {
        "id": "1wo7tqFdTnXj",
        "outputId": "62160845-4f4d-4721-d9be-5ab603645773"
      },
      "outputs": [
        {
          "name": "stderr",
          "output_type": "stream",
          "text": [
            "C:\\Users\\LENOVO\\AppData\\Local\\Temp/ipykernel_10196/2118003981.py:2: RuntimeWarning: invalid value encountered in sqrt\n",
            "  np.sqrt(arr)\n",
            "C:\\Users\\LENOVO\\AppData\\Local\\Temp/ipykernel_10196/2118003981.py:3: RuntimeWarning: invalid value encountered in sqrt\n",
            "  np.sqrt(arr, arr)\n"
          ]
        },
        {
          "data": {
            "text/plain": [
              "array([0.5   , 1.8306, 2.0651,    nan,    nan,    nan,    nan])"
            ]
          },
          "execution_count": 75,
          "metadata": {},
          "output_type": "execute_result"
        }
      ],
      "source": [
        "arr\n",
        "np.sqrt(arr)\n",
        "np.sqrt(arr, arr)\n",
        "arr"
      ]
    },
    {
      "cell_type": "markdown",
      "metadata": {
        "id": "oo8aH6StTnXj"
      },
      "source": [
        "Array-Oriented Programming with Arrays"
      ]
    },
    {
      "cell_type": "code",
      "execution_count": null,
      "metadata": {
        "id": "k4C-lNZZTnXj",
        "outputId": "be7191a5-575b-460c-8e38-5fbf08f55d82"
      },
      "outputs": [
        {
          "data": {
            "text/plain": [
              "array([[-5.  , -5.  , -5.  , ..., -5.  , -5.  , -5.  ],\n",
              "       [-4.99, -4.99, -4.99, ..., -4.99, -4.99, -4.99],\n",
              "       [-4.98, -4.98, -4.98, ..., -4.98, -4.98, -4.98],\n",
              "       ...,\n",
              "       [ 4.97,  4.97,  4.97, ...,  4.97,  4.97,  4.97],\n",
              "       [ 4.98,  4.98,  4.98, ...,  4.98,  4.98,  4.98],\n",
              "       [ 4.99,  4.99,  4.99, ...,  4.99,  4.99,  4.99]])"
            ]
          },
          "execution_count": 76,
          "metadata": {},
          "output_type": "execute_result"
        }
      ],
      "source": [
        "points = np.arange(-5, 5, 0.01) # 1000 equally spaced points\n",
        "xs, ys = np.meshgrid(points, points)\n",
        "ys"
      ]
    },
    {
      "cell_type": "code",
      "execution_count": null,
      "metadata": {
        "id": "wpJ7We-YTnXk",
        "outputId": "f438a27a-f323-445f-f30c-c5077d760b01"
      },
      "outputs": [
        {
          "data": {
            "text/plain": [
              "array([[7.0711, 7.064 , 7.0569, ..., 7.0499, 7.0569, 7.064 ],\n",
              "       [7.064 , 7.0569, 7.0499, ..., 7.0428, 7.0499, 7.0569],\n",
              "       [7.0569, 7.0499, 7.0428, ..., 7.0357, 7.0428, 7.0499],\n",
              "       ...,\n",
              "       [7.0499, 7.0428, 7.0357, ..., 7.0286, 7.0357, 7.0428],\n",
              "       [7.0569, 7.0499, 7.0428, ..., 7.0357, 7.0428, 7.0499],\n",
              "       [7.064 , 7.0569, 7.0499, ..., 7.0428, 7.0499, 7.0569]])"
            ]
          },
          "execution_count": 77,
          "metadata": {},
          "output_type": "execute_result"
        }
      ],
      "source": [
        "z = np.sqrt(xs ** 2 + ys ** 2)\n",
        "z"
      ]
    },
    {
      "cell_type": "code",
      "execution_count": null,
      "metadata": {
        "id": "CT02ukQ4TnXk",
        "outputId": "d25c5219-5f43-466f-bee3-f4a50df49c2c"
      },
      "outputs": [
        {
          "data": {
            "text/plain": [
              "Text(0.5, 1.0, 'Image plot of $\\\\sqrt{x^2 + y^2}$ for a grid of values')"
            ]
          },
          "execution_count": 78,
          "metadata": {},
          "output_type": "execute_result"
        },
        {
          "data": {
            "image/png": "[encoded data removed]",
            "text/plain": [
              "<Figure size 720x432 with 2 Axes>"
            ]
          },
          "metadata": {
            "needs_background": "light"
          },
          "output_type": "display_data"
        }
      ],
      "source": [
        "import matplotlib.pyplot as plt\n",
        "plt.imshow(z, cmap=plt.cm.gray); plt.colorbar()\n",
        "plt.title(\"Image plot of $\\sqrt{x^2 + y^2}$ for a grid of values\")"
      ]
    },
    {
      "cell_type": "code",
      "execution_count": null,
      "metadata": {
        "id": "l16YhpMxTnXk"
      },
      "outputs": [],
      "source": [
        "plt.draw()"
      ]
    },
    {
      "cell_type": "code",
      "execution_count": null,
      "metadata": {
        "id": "jDWyd_paTnXk"
      },
      "outputs": [],
      "source": [
        "plt.close('all')"
      ]
    },
    {
      "cell_type": "markdown",
      "metadata": {
        "id": "UISeKfg2TnXk"
      },
      "source": [
        "Expressing Conditional Logic as Array Operations"
      ]
    },
    {
      "cell_type": "code",
      "execution_count": null,
      "metadata": {
        "id": "GYeKxX1QTnXl"
      },
      "outputs": [],
      "source": [
        "xarr = np.array([1.1, 1.2, 1.3, 1.4, 1.5])\n",
        "yarr = np.array([2.1, 2.2, 2.3, 2.4, 2.5])\n",
        "cond = np.array([True, False, True, True, False])"
      ]
    },
    {
      "cell_type": "code",
      "execution_count": null,
      "metadata": {
        "id": "Lj-ek0ANTnXl",
        "outputId": "54056026-66f5-4bae-d23f-c08fa440b72d"
      },
      "outputs": [
        {
          "data": {
            "text/plain": [
              "[1.1, 2.2, 1.3, 1.4, 2.5]"
            ]
          },
          "execution_count": 81,
          "metadata": {},
          "output_type": "execute_result"
        }
      ],
      "source": [
        "result = [(x if c else y)\n",
        "          for x, y, c in zip(xarr, yarr, cond)]\n",
        "result"
      ]
    },
    {
      "cell_type": "code",
      "execution_count": null,
      "metadata": {
        "id": "DWmbwXIxTnXl",
        "outputId": "8d89108c-1e0f-45c2-f362-168e13bd21a2"
      },
      "outputs": [
        {
          "data": {
            "text/plain": [
              "array([1.1, 2.2, 1.3, 1.4, 2.5])"
            ]
          },
          "execution_count": 82,
          "metadata": {},
          "output_type": "execute_result"
        }
      ],
      "source": [
        "result = np.where(cond, xarr, yarr)\n",
        "result"
      ]
    },
    {
      "cell_type": "code",
      "execution_count": null,
      "metadata": {
        "id": "_sZd-5gRTnXl",
        "outputId": "a93a1fdf-4e70-42a8-a95d-35a28d2e4666"
      },
      "outputs": [
        {
          "data": {
            "text/plain": [
              "array([[-2, -2,  2,  2],\n",
              "       [ 2,  2, -2, -2],\n",
              "       [-2, -2,  2,  2],\n",
              "       [-2,  2,  2,  2]])"
            ]
          },
          "execution_count": 83,
          "metadata": {},
          "output_type": "execute_result"
        }
      ],
      "source": [
        "arr = np.random.randn(4, 4)\n",
        "arr\n",
        "arr > 0\n",
        "np.where(arr > 0, 2, -2)"
      ]
    },
    {
      "cell_type": "code",
      "execution_count": null,
      "metadata": {
        "id": "4sm-1sXlTnXl",
        "outputId": "c46ad2d0-01ef-4d78-a4b8-e72fc5a7287b"
      },
      "outputs": [
        {
          "data": {
            "text/plain": [
              "array([[-1.2183, -1.3326,  2.    ,  2.    ],\n",
              "       [ 2.    ,  2.    , -0.5031, -0.6223],\n",
              "       [-0.9212, -0.7262,  2.    ,  2.    ],\n",
              "       [-1.1577,  2.    ,  2.    ,  2.    ]])"
            ]
          },
          "execution_count": 84,
          "metadata": {},
          "output_type": "execute_result"
        }
      ],
      "source": [
        "np.where(arr > 0, 2, arr) # set only positive values to 2"
      ]
    },
    {
      "cell_type": "markdown",
      "metadata": {
        "id": "0cKpmjqQTnXm"
      },
      "source": [
        "Mathematical and Statistical Methods"
      ]
    },
    {
      "cell_type": "code",
      "execution_count": null,
      "metadata": {
        "id": "Xq5qPU08TnXm",
        "outputId": "9ba6e3de-9a4a-4d4b-f8ac-7e337b6e3e04"
      },
      "outputs": [
        {
          "data": {
            "text/plain": [
              "4.064873244244801"
            ]
          },
          "execution_count": 85,
          "metadata": {},
          "output_type": "execute_result"
        }
      ],
      "source": [
        "arr = np.random.randn(5, 4)\n",
        "arr\n",
        "arr.mean()\n",
        "np.mean(arr)\n",
        "arr.sum()"
      ]
    },
    {
      "cell_type": "code",
      "execution_count": null,
      "metadata": {
        "id": "_Phk3BGjTnXm",
        "outputId": "2c6e4db9-5543-4940-a623-3381db8cd609"
      },
      "outputs": [
        {
          "data": {
            "text/plain": [
              "array([ 3.4299, -0.2274,  3.039 , -2.1766])"
            ]
          },
          "execution_count": 86,
          "metadata": {},
          "output_type": "execute_result"
        }
      ],
      "source": [
        "arr.mean(axis=1)\n",
        "arr.sum(axis=0)"
      ]
    },
    {
      "cell_type": "code",
      "execution_count": null,
      "metadata": {
        "id": "epNAFP8hTnXm",
        "outputId": "34d7ec19-39c4-43cb-b572-e8d07b36a08d"
      },
      "outputs": [
        {
          "data": {
            "text/plain": [
              "array([ 0,  1,  3,  6, 10, 15, 21, 28], dtype=int32)"
            ]
          },
          "execution_count": 87,
          "metadata": {},
          "output_type": "execute_result"
        }
      ],
      "source": [
        "arr = np.array([0, 1, 2, 3, 4, 5, 6, 7])\n",
        "arr.cumsum()"
      ]
    },
    {
      "cell_type": "code",
      "execution_count": null,
      "metadata": {
        "id": "ulwE3rG2TnXm",
        "outputId": "ad3a3136-f7bb-49a5-c4cc-127e41fd1f0a"
      },
      "outputs": [
        {
          "data": {
            "text/plain": [
              "array([[  0,   0,   0],\n",
              "       [  3,  12,  60],\n",
              "       [  6,  42, 336]], dtype=int32)"
            ]
          },
          "execution_count": 88,
          "metadata": {},
          "output_type": "execute_result"
        }
      ],
      "source": [
        "arr = np.array([[0, 1, 2], [3, 4, 5], [6, 7, 8]])\n",
        "arr\n",
        "arr.cumsum(axis=0)\n",
        "arr.cumprod(axis=1)"
      ]
    },
    {
      "cell_type": "code",
      "execution_count": null,
      "metadata": {
        "id": "siBoDwuyTnXn"
      },
      "outputs": [],
      "source": [
        ""
      ]
    }
  ],
  "metadata": {
    "interpreter": {
      "hash": "7679c2132d3f6ce38c9df14d554b39c06862b36a4e6689c81f9ae15bd0911d7d"
    },
    "kernelspec": {
      "display_name": "Python 3.9.7 ('base')",
      "language": "python",
      "name": "python3"
    },
    "language_info": {
      "codemirror_mode": {
        "name": "ipython",
        "version": 3
      },
      "file_extension": ".py",
      "mimetype": "text/x-python",
      "name": "python",
      "nbconvert_exporter": "python",
      "pygments_lexer": "ipython3",
      "version": "3.9.7"
    },
    "orig_nbformat": 4,
    "colab": {
      "name": "EDA_Lnz.ipynb",
      "provenance": [],
      "include_colab_link": true
    }
  },
  "nbformat": 4,
  "nbformat_minor": 0
}