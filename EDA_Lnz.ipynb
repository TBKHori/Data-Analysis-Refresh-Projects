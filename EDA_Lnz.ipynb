{
  "cells": [
    {
      "cell_type": "markdown",
      "metadata": {
        "id": "view-in-github",
        "colab_type": "text"
      },
      "source": [
        "<a href=\"https://colab.research.google.com/github/TBKHori/Data-Analysis-Refresher-notes/blob/main/EDA_Lnz.ipynb\" target=\"_parent\"><img src=\"https://colab.research.google.com/assets/colab-badge.svg\" alt=\"Open In Colab\"/></a>"
      ]
    },
    {
      "cell_type": "markdown",
      "metadata": {
        "id": "wW9Q1Ed6rCRr"
      },
      "source": [
        "Introspection"
      ]
    },
    {
      "cell_type": "code",
      "execution_count": null,
      "metadata": {
        "id": "JJdK6cWnrCR3"
      },
      "outputs": [],
      "source": [
        "b = [1, 2, 3]\n"
      ]
    },
    {
      "cell_type": "code",
      "execution_count": null,
      "metadata": {
        "id": "JbCpULqErCR6",
        "outputId": "80513e7a-9beb-4e30-f36c-489b1cb3d43c"
      },
      "outputs": [
        {
          "name": "stdout",
          "output_type": "stream",
          "text": [
            "\u001b[1;31mType:\u001b[0m        list\n",
            "\u001b[1;31mString form:\u001b[0m [1, 2, 3]\n",
            "\u001b[1;31mLength:\u001b[0m      3\n",
            "\u001b[1;31mDocstring:\u001b[0m  \n",
            "Built-in mutable sequence.\n",
            "\n",
            "If no argument is given, the constructor creates a new empty list.\n",
            "The argument must be an iterable if specified.\n"
          ]
        }
      ],
      "source": [
        "b?"
      ]
    },
    {
      "cell_type": "code",
      "execution_count": null,
      "metadata": {
        "id": "KwAnDBtCrCR9",
        "outputId": "2e2c0ee8-d7ee-452f-8c2d-3a56080c929f"
      },
      "outputs": [
        {
          "name": "stdout",
          "output_type": "stream",
          "text": [
            "\u001b[1;31mDocstring:\u001b[0m\n",
            "print(value, ..., sep=' ', end='\\n', file=sys.stdout, flush=False)\n",
            "\n",
            "Prints the values to a stream, or to sys.stdout by default.\n",
            "Optional keyword arguments:\n",
            "file:  a file-like object (stream); defaults to the current sys.stdout.\n",
            "sep:   string inserted between values, default a space.\n",
            "end:   string appended after the last value, default a newline.\n",
            "flush: whether to forcibly flush the stream.\n",
            "\u001b[1;31mType:\u001b[0m      builtin_function_or_method\n"
          ]
        }
      ],
      "source": [
        "print?"
      ]
    },
    {
      "cell_type": "code",
      "execution_count": null,
      "metadata": {
        "id": "E9WnfHbYrCR-"
      },
      "outputs": [],
      "source": [
        "def add_numbers(a, b):\n",
        "    \"\"\"\n",
        "    Add two numbers together\n",
        "\n",
        "    Returns\n",
        "    -------\n",
        "    the_sum : type of arguments\n",
        "    \"\"\"\n",
        "    return a + b"
      ]
    },
    {
      "cell_type": "code",
      "execution_count": null,
      "metadata": {
        "id": "ilL39JG9rCR_",
        "outputId": "9352336c-61c9-460a-f7ce-206bf902d747"
      },
      "outputs": [
        {
          "name": "stdout",
          "output_type": "stream",
          "text": [
            "\u001b[1;31mSignature:\u001b[0m \u001b[0madd_numbers\u001b[0m\u001b[1;33m(\u001b[0m\u001b[0ma\u001b[0m\u001b[1;33m,\u001b[0m \u001b[0mb\u001b[0m\u001b[1;33m)\u001b[0m\u001b[1;33m\u001b[0m\u001b[1;33m\u001b[0m\u001b[0m\n",
            "\u001b[1;31mDocstring:\u001b[0m\n",
            "Add two numbers together\n",
            "\n",
            "Returns\n",
            "-------\n",
            "the_sum : type of arguments\n",
            "\u001b[1;31mFile:\u001b[0m      c:\\users\\lenovo\\appdata\\local\\temp\\ipykernel_22472\\1411870314.py\n",
            "\u001b[1;31mType:\u001b[0m      function\n"
          ]
        }
      ],
      "source": [
        "add_numbers?"
      ]
    },
    {
      "cell_type": "code",
      "execution_count": null,
      "metadata": {
        "id": "juri5dDDrCSB",
        "outputId": "cba7ee5b-2623-4790-da61-64e6232b46fa"
      },
      "outputs": [
        {
          "name": "stdout",
          "output_type": "stream",
          "text": [
            "\u001b[1;31mSignature:\u001b[0m \u001b[0madd_numbers\u001b[0m\u001b[1;33m(\u001b[0m\u001b[0ma\u001b[0m\u001b[1;33m,\u001b[0m \u001b[0mb\u001b[0m\u001b[1;33m)\u001b[0m\u001b[1;33m\u001b[0m\u001b[1;33m\u001b[0m\u001b[0m\n",
            "\u001b[1;31mDocstring:\u001b[0m\n",
            "Add two numbers together\n",
            "\n",
            "Returns\n",
            "-------\n",
            "the_sum : type of arguments\n",
            "\u001b[1;31mFile:\u001b[0m      c:\\users\\lenovo\\appdata\\local\\temp\\ipykernel_22472\\1411870314.py\n",
            "\u001b[1;31mType:\u001b[0m      function\n"
          ]
        }
      ],
      "source": [
        "add_numbers?"
      ]
    },
    {
      "cell_type": "code",
      "execution_count": null,
      "metadata": {
        "id": "_TqzVsF-rCSE",
        "outputId": "def89f50-28e3-408f-88e8-effb144ca08e"
      },
      "outputs": [
        {
          "name": "stdout",
          "output_type": "stream",
          "text": []
        }
      ],
      "source": [
        "np.*load*?"
      ]
    },
    {
      "cell_type": "code",
      "execution_count": null,
      "metadata": {
        "id": "Fwx-5A2brCSH"
      },
      "outputs": [],
      "source": [
        "def f(x, y, z):\n",
        "    return (x + y) / z\n",
        "\n",
        "a = 5\n",
        "b = 6\n",
        "c = 7.5\n"
      ]
    },
    {
      "cell_type": "code",
      "execution_count": null,
      "metadata": {
        "id": "pSb8UN4HrCSK",
        "outputId": "05e74601-4077-4846-c2d6-1aa198da9787"
      },
      "outputs": [
        {
          "ename": "Exception",
          "evalue": "File `'ipython_script_test.py'` not found.",
          "output_type": "error",
          "traceback": [
            "\u001b[1;31m---------------------------------------------------------------------------\u001b[0m",
            "\u001b[1;31mOSError\u001b[0m                                   Traceback (most recent call last)",
            "\u001b[1;32mc:\\Users\\LENOVO\\anaconda3\\lib\\site-packages\\IPython\\core\\magics\\execution.py\u001b[0m in \u001b[0;36mrun\u001b[1;34m(self, parameter_s, runner, file_finder)\u001b[0m\n\u001b[0;32m    702\u001b[0m             \u001b[0mfpath\u001b[0m \u001b[1;33m=\u001b[0m \u001b[0marg_lst\u001b[0m\u001b[1;33m[\u001b[0m\u001b[1;36m0\u001b[0m\u001b[1;33m]\u001b[0m\u001b[1;33m\u001b[0m\u001b[1;33m\u001b[0m\u001b[0m\n\u001b[1;32m--> 703\u001b[1;33m             \u001b[0mfilename\u001b[0m \u001b[1;33m=\u001b[0m \u001b[0mfile_finder\u001b[0m\u001b[1;33m(\u001b[0m\u001b[0mfpath\u001b[0m\u001b[1;33m)\u001b[0m\u001b[1;33m\u001b[0m\u001b[1;33m\u001b[0m\u001b[0m\n\u001b[0m\u001b[0;32m    704\u001b[0m         \u001b[1;32mexcept\u001b[0m \u001b[0mIndexError\u001b[0m\u001b[1;33m:\u001b[0m\u001b[1;33m\u001b[0m\u001b[1;33m\u001b[0m\u001b[0m\n",
            "\u001b[1;32mc:\\Users\\LENOVO\\anaconda3\\lib\\site-packages\\IPython\\utils\\path.py\u001b[0m in \u001b[0;36mget_py_filename\u001b[1;34m(name, force_win32)\u001b[0m\n\u001b[0;32m    108\u001b[0m     \u001b[1;32melse\u001b[0m\u001b[1;33m:\u001b[0m\u001b[1;33m\u001b[0m\u001b[1;33m\u001b[0m\u001b[0m\n\u001b[1;32m--> 109\u001b[1;33m         \u001b[1;32mraise\u001b[0m \u001b[0mIOError\u001b[0m\u001b[1;33m(\u001b[0m\u001b[1;34m'File `%r` not found.'\u001b[0m \u001b[1;33m%\u001b[0m \u001b[0mname\u001b[0m\u001b[1;33m)\u001b[0m\u001b[1;33m\u001b[0m\u001b[1;33m\u001b[0m\u001b[0m\n\u001b[0m\u001b[0;32m    110\u001b[0m \u001b[1;33m\u001b[0m\u001b[0m\n",
            "\u001b[1;31mOSError\u001b[0m: File `'ipython_script_test.py'` not found.",
            "\nDuring handling of the above exception, another exception occurred:\n",
            "\u001b[1;31mException\u001b[0m                                 Traceback (most recent call last)",
            "\u001b[1;32m~\\AppData\\Local\\Temp/ipykernel_22472/2494371340.py\u001b[0m in \u001b[0;36m<module>\u001b[1;34m\u001b[0m\n\u001b[1;32m----> 1\u001b[1;33m \u001b[0mget_ipython\u001b[0m\u001b[1;33m(\u001b[0m\u001b[1;33m)\u001b[0m\u001b[1;33m.\u001b[0m\u001b[0mrun_line_magic\u001b[0m\u001b[1;33m(\u001b[0m\u001b[1;34m'run'\u001b[0m\u001b[1;33m,\u001b[0m \u001b[1;34m'ipython_script_test.py'\u001b[0m\u001b[1;33m)\u001b[0m\u001b[1;33m\u001b[0m\u001b[1;33m\u001b[0m\u001b[0m\n\u001b[0m",
            "\u001b[1;32mc:\\Users\\LENOVO\\anaconda3\\lib\\site-packages\\IPython\\core\\interactiveshell.py\u001b[0m in \u001b[0;36mrun_line_magic\u001b[1;34m(self, magic_name, line, _stack_depth)\u001b[0m\n\u001b[0;32m   2349\u001b[0m                 \u001b[0mkwargs\u001b[0m\u001b[1;33m[\u001b[0m\u001b[1;34m'local_ns'\u001b[0m\u001b[1;33m]\u001b[0m \u001b[1;33m=\u001b[0m \u001b[0mself\u001b[0m\u001b[1;33m.\u001b[0m\u001b[0mget_local_scope\u001b[0m\u001b[1;33m(\u001b[0m\u001b[0mstack_depth\u001b[0m\u001b[1;33m)\u001b[0m\u001b[1;33m\u001b[0m\u001b[1;33m\u001b[0m\u001b[0m\n\u001b[0;32m   2350\u001b[0m             \u001b[1;32mwith\u001b[0m \u001b[0mself\u001b[0m\u001b[1;33m.\u001b[0m\u001b[0mbuiltin_trap\u001b[0m\u001b[1;33m:\u001b[0m\u001b[1;33m\u001b[0m\u001b[1;33m\u001b[0m\u001b[0m\n\u001b[1;32m-> 2351\u001b[1;33m                 \u001b[0mresult\u001b[0m \u001b[1;33m=\u001b[0m \u001b[0mfn\u001b[0m\u001b[1;33m(\u001b[0m\u001b[1;33m*\u001b[0m\u001b[0margs\u001b[0m\u001b[1;33m,\u001b[0m \u001b[1;33m**\u001b[0m\u001b[0mkwargs\u001b[0m\u001b[1;33m)\u001b[0m\u001b[1;33m\u001b[0m\u001b[1;33m\u001b[0m\u001b[0m\n\u001b[0m\u001b[0;32m   2352\u001b[0m             \u001b[1;32mreturn\u001b[0m \u001b[0mresult\u001b[0m\u001b[1;33m\u001b[0m\u001b[1;33m\u001b[0m\u001b[0m\n\u001b[0;32m   2353\u001b[0m \u001b[1;33m\u001b[0m\u001b[0m\n",
            "\u001b[1;32mc:\\Users\\LENOVO\\anaconda3\\lib\\site-packages\\decorator.py\u001b[0m in \u001b[0;36mfun\u001b[1;34m(*args, **kw)\u001b[0m\n\u001b[0;32m    230\u001b[0m             \u001b[1;32mif\u001b[0m \u001b[1;32mnot\u001b[0m \u001b[0mkwsyntax\u001b[0m\u001b[1;33m:\u001b[0m\u001b[1;33m\u001b[0m\u001b[1;33m\u001b[0m\u001b[0m\n\u001b[0;32m    231\u001b[0m                 \u001b[0margs\u001b[0m\u001b[1;33m,\u001b[0m \u001b[0mkw\u001b[0m \u001b[1;33m=\u001b[0m \u001b[0mfix\u001b[0m\u001b[1;33m(\u001b[0m\u001b[0margs\u001b[0m\u001b[1;33m,\u001b[0m \u001b[0mkw\u001b[0m\u001b[1;33m,\u001b[0m \u001b[0msig\u001b[0m\u001b[1;33m)\u001b[0m\u001b[1;33m\u001b[0m\u001b[1;33m\u001b[0m\u001b[0m\n\u001b[1;32m--> 232\u001b[1;33m             \u001b[1;32mreturn\u001b[0m \u001b[0mcaller\u001b[0m\u001b[1;33m(\u001b[0m\u001b[0mfunc\u001b[0m\u001b[1;33m,\u001b[0m \u001b[1;33m*\u001b[0m\u001b[1;33m(\u001b[0m\u001b[0mextras\u001b[0m \u001b[1;33m+\u001b[0m \u001b[0margs\u001b[0m\u001b[1;33m)\u001b[0m\u001b[1;33m,\u001b[0m \u001b[1;33m**\u001b[0m\u001b[0mkw\u001b[0m\u001b[1;33m)\u001b[0m\u001b[1;33m\u001b[0m\u001b[1;33m\u001b[0m\u001b[0m\n\u001b[0m\u001b[0;32m    233\u001b[0m     \u001b[0mfun\u001b[0m\u001b[1;33m.\u001b[0m\u001b[0m__name__\u001b[0m \u001b[1;33m=\u001b[0m \u001b[0mfunc\u001b[0m\u001b[1;33m.\u001b[0m\u001b[0m__name__\u001b[0m\u001b[1;33m\u001b[0m\u001b[1;33m\u001b[0m\u001b[0m\n\u001b[0;32m    234\u001b[0m     \u001b[0mfun\u001b[0m\u001b[1;33m.\u001b[0m\u001b[0m__doc__\u001b[0m \u001b[1;33m=\u001b[0m \u001b[0mfunc\u001b[0m\u001b[1;33m.\u001b[0m\u001b[0m__doc__\u001b[0m\u001b[1;33m\u001b[0m\u001b[1;33m\u001b[0m\u001b[0m\n",
            "\u001b[1;32mc:\\Users\\LENOVO\\anaconda3\\lib\\site-packages\\IPython\\core\\magic.py\u001b[0m in \u001b[0;36m<lambda>\u001b[1;34m(f, *a, **k)\u001b[0m\n\u001b[0;32m    185\u001b[0m     \u001b[1;31m# but it's overkill for just that one bit of state.\u001b[0m\u001b[1;33m\u001b[0m\u001b[1;33m\u001b[0m\u001b[0m\n\u001b[0;32m    186\u001b[0m     \u001b[1;32mdef\u001b[0m \u001b[0mmagic_deco\u001b[0m\u001b[1;33m(\u001b[0m\u001b[0marg\u001b[0m\u001b[1;33m)\u001b[0m\u001b[1;33m:\u001b[0m\u001b[1;33m\u001b[0m\u001b[1;33m\u001b[0m\u001b[0m\n\u001b[1;32m--> 187\u001b[1;33m         \u001b[0mcall\u001b[0m \u001b[1;33m=\u001b[0m \u001b[1;32mlambda\u001b[0m \u001b[0mf\u001b[0m\u001b[1;33m,\u001b[0m \u001b[1;33m*\u001b[0m\u001b[0ma\u001b[0m\u001b[1;33m,\u001b[0m \u001b[1;33m**\u001b[0m\u001b[0mk\u001b[0m\u001b[1;33m:\u001b[0m \u001b[0mf\u001b[0m\u001b[1;33m(\u001b[0m\u001b[1;33m*\u001b[0m\u001b[0ma\u001b[0m\u001b[1;33m,\u001b[0m \u001b[1;33m**\u001b[0m\u001b[0mk\u001b[0m\u001b[1;33m)\u001b[0m\u001b[1;33m\u001b[0m\u001b[1;33m\u001b[0m\u001b[0m\n\u001b[0m\u001b[0;32m    188\u001b[0m \u001b[1;33m\u001b[0m\u001b[0m\n\u001b[0;32m    189\u001b[0m         \u001b[1;32mif\u001b[0m \u001b[0mcallable\u001b[0m\u001b[1;33m(\u001b[0m\u001b[0marg\u001b[0m\u001b[1;33m)\u001b[0m\u001b[1;33m:\u001b[0m\u001b[1;33m\u001b[0m\u001b[1;33m\u001b[0m\u001b[0m\n",
            "\u001b[1;32mc:\\Users\\LENOVO\\anaconda3\\lib\\site-packages\\IPython\\core\\magics\\execution.py\u001b[0m in \u001b[0;36mrun\u001b[1;34m(self, parameter_s, runner, file_finder)\u001b[0m\n\u001b[0;32m    712\u001b[0m             \u001b[1;32mif\u001b[0m \u001b[0mos\u001b[0m\u001b[1;33m.\u001b[0m\u001b[0mname\u001b[0m \u001b[1;33m==\u001b[0m \u001b[1;34m'nt'\u001b[0m \u001b[1;32mand\u001b[0m \u001b[0mre\u001b[0m\u001b[1;33m.\u001b[0m\u001b[0mmatch\u001b[0m\u001b[1;33m(\u001b[0m\u001b[1;34mr\"^'.*'$\"\u001b[0m\u001b[1;33m,\u001b[0m\u001b[0mfpath\u001b[0m\u001b[1;33m)\u001b[0m\u001b[1;33m:\u001b[0m\u001b[1;33m\u001b[0m\u001b[1;33m\u001b[0m\u001b[0m\n\u001b[0;32m    713\u001b[0m                 \u001b[0mwarn\u001b[0m\u001b[1;33m(\u001b[0m\u001b[1;34m'For Windows, use double quotes to wrap a filename: %run \"mypath\\\\myfile.py\"'\u001b[0m\u001b[1;33m)\u001b[0m\u001b[1;33m\u001b[0m\u001b[1;33m\u001b[0m\u001b[0m\n\u001b[1;32m--> 714\u001b[1;33m             \u001b[1;32mraise\u001b[0m \u001b[0mException\u001b[0m\u001b[1;33m(\u001b[0m\u001b[0mmsg\u001b[0m\u001b[1;33m)\u001b[0m\u001b[1;33m\u001b[0m\u001b[1;33m\u001b[0m\u001b[0m\n\u001b[0m\u001b[0;32m    715\u001b[0m         \u001b[1;32mexcept\u001b[0m \u001b[0mTypeError\u001b[0m\u001b[1;33m:\u001b[0m\u001b[1;33m\u001b[0m\u001b[1;33m\u001b[0m\u001b[0m\n\u001b[0;32m    716\u001b[0m             \u001b[1;32mif\u001b[0m \u001b[0mfpath\u001b[0m \u001b[1;32min\u001b[0m \u001b[0msys\u001b[0m\u001b[1;33m.\u001b[0m\u001b[0mmeta_path\u001b[0m\u001b[1;33m:\u001b[0m\u001b[1;33m\u001b[0m\u001b[1;33m\u001b[0m\u001b[0m\n",
            "\u001b[1;31mException\u001b[0m: File `'ipython_script_test.py'` not found."
          ]
        }
      ],
      "source": [
        "%run ipython_script_test.py"
      ]
    },
    {
      "cell_type": "code",
      "execution_count": null,
      "metadata": {
        "id": "QvAH2w-9rCSL",
        "outputId": "3fba6148-6be7-43e5-a32b-6f8a17232356"
      },
      "outputs": [
        {
          "data": {
            "text/plain": [
              "7.5"
            ]
          },
          "execution_count": 12,
          "metadata": {},
          "output_type": "execute_result"
        }
      ],
      "source": [
        "c"
      ]
    },
    {
      "cell_type": "code",
      "execution_count": null,
      "metadata": {
        "id": "RMTFElO5rCSL"
      },
      "outputs": [],
      "source": [
        "result = f(a, b, c)"
      ]
    },
    {
      "cell_type": "code",
      "execution_count": null,
      "metadata": {
        "id": "B50qXUVorCSM",
        "outputId": "a10d3078-e023-465d-ef45-e3bbdd6c0077"
      },
      "outputs": [
        {
          "data": {
            "text/plain": [
              "1.4666666666666666"
            ]
          },
          "execution_count": 14,
          "metadata": {},
          "output_type": "execute_result"
        }
      ],
      "source": [
        "result"
      ]
    },
    {
      "cell_type": "code",
      "execution_count": null,
      "metadata": {
        "id": "ygdD0z5-rCSM",
        "outputId": "bfbbf67f-548e-425a-b2e2-989362ed0750"
      },
      "outputs": [
        {
          "ename": "IndentationError",
          "evalue": "unindent does not match any outer indentation level (<tokenize>, line 4)",
          "output_type": "error",
          "traceback": [
            "\u001b[1;36m  File \u001b[1;32m\"<tokenize>\"\u001b[1;36m, line \u001b[1;32m4\u001b[0m\n\u001b[1;33m    a = 5\u001b[0m\n\u001b[1;37m    ^\u001b[0m\n\u001b[1;31mIndentationError\u001b[0m\u001b[1;31m:\u001b[0m unindent does not match any outer indentation level\n"
          ]
        }
      ],
      "source": [
        " def f(x, y, z):\n",
        "        return (x + y) / z\n",
        "\n",
        "    a = 5\n",
        "    b = 6\n",
        "    c = 7.5\n",
        "\n",
        "    result = f(a, b, c)"
      ]
    },
    {
      "cell_type": "code",
      "execution_count": null,
      "metadata": {
        "id": "UGjSyfEerCSN"
      },
      "outputs": [],
      "source": [
        "x = 5\n",
        "y = 7\n",
        "if x > 5:\n",
        "    x += 1\n",
        "\n",
        "    y = 8"
      ]
    },
    {
      "cell_type": "code",
      "execution_count": null,
      "metadata": {
        "id": "1tdAGDomrCSN",
        "outputId": "09d7a1d0-50ae-4b97-fe7e-5f600b9be602"
      },
      "outputs": [
        {
          "name": "stderr",
          "output_type": "stream",
          "text": [
            "UsageError: Line magic function `%paste` not found.\n"
          ]
        }
      ],
      "source": [
        "%paste"
      ]
    },
    {
      "cell_type": "code",
      "execution_count": null,
      "metadata": {
        "id": "6hYUOkQhrCSO",
        "outputId": "d1fab17a-500b-4c95-a246-74c9852e3cfa"
      },
      "outputs": [
        {
          "name": "stderr",
          "output_type": "stream",
          "text": [
            "UsageError: Line magic function `%cpaste` not found.\n"
          ]
        }
      ],
      "source": [
        "%cpaste"
      ]
    },
    {
      "cell_type": "code",
      "execution_count": null,
      "metadata": {
        "id": "mlZPzvHjrCSO"
      },
      "outputs": [],
      "source": [
        " a = np.random.randn(100, 100)"
      ]
    },
    {
      "cell_type": "code",
      "execution_count": null,
      "metadata": {
        "id": "qDmZBLADrCSO",
        "outputId": "5be7a095-23c2-4354-9173-074ec5aeb2c8"
      },
      "outputs": [
        {
          "ename": "SyntaxError",
          "evalue": "invalid syntax (Temp/ipykernel_21328/1568678299.py, line 2)",
          "output_type": "error",
          "traceback": [
            "\u001b[1;36m  File \u001b[1;32m\"C:\\Users\\LENOVO\\AppData\\Local\\Temp/ipykernel_21328/1568678299.py\"\u001b[1;36m, line \u001b[1;32m2\u001b[0m\n\u001b[1;33m    10000 loops, best of 3: 20.9 µs per loop\u001b[0m\n\u001b[1;37m          ^\u001b[0m\n\u001b[1;31mSyntaxError\u001b[0m\u001b[1;31m:\u001b[0m invalid syntax\n"
          ]
        }
      ],
      "source": [
        "%timeit np.dot(a, a)\n",
        "10000 loops, best of 3: 20.9 µs per loop"
      ]
    },
    {
      "cell_type": "code",
      "execution_count": null,
      "metadata": {
        "id": "G3pa9R9xrCSP"
      },
      "outputs": [],
      "source": [
        "import numpy as np\n",
        "import pandas as pd"
      ]
    },
    {
      "cell_type": "code",
      "execution_count": null,
      "metadata": {
        "id": "TOxDooRUrCSP",
        "outputId": "ec744eda-7129-4419-f6ec-e6dedeb6e422"
      },
      "outputs": [
        {
          "name": "stdout",
          "output_type": "stream",
          "text": [
            "\u001b[1;31mDocstring:\u001b[0m\n",
            "::\n",
            "\n",
            "  %debug [--breakpoint FILE:LINE] [statement ...]\n",
            "\n",
            "Activate the interactive debugger.\n",
            "\n",
            "This magic command support two ways of activating debugger.\n",
            "One is to activate debugger before executing code.  This way, you\n",
            "can set a break point, to step through the code from the point.\n",
            "You can use this mode by giving statements to execute and optionally\n",
            "a breakpoint.\n",
            "\n",
            "The other one is to activate debugger in post-mortem mode.  You can\n",
            "activate this mode simply running %debug without any argument.\n",
            "If an exception has just occurred, this lets you inspect its stack\n",
            "frames interactively.  Note that this will always work only on the last\n",
            "traceback that occurred, so you must call this quickly after an\n",
            "exception that you wish to inspect has fired, because if another one\n",
            "occurs, it clobbers the previous one.\n",
            "\n",
            "If you want IPython to automatically do this on every exception, see\n",
            "the %pdb magic for more details.\n",
            "\n",
            ".. versionchanged:: 7.3\n",
            "    When running code, user variables are no longer expanded,\n",
            "    the magic line is always left unmodified.\n",
            "\n",
            "positional arguments:\n",
            "  statement             Code to run in debugger. You can omit this in cell\n",
            "                        magic mode.\n",
            "\n",
            "optional arguments:\n",
            "  --breakpoint <FILE:LINE>, -b <FILE:LINE>\n",
            "                        Set break point at LINE in FILE.\n",
            "\u001b[1;31mFile:\u001b[0m      c:\\users\\lenovo\\anaconda3\\lib\\site-packages\\ipython\\core\\magics\\execution.py\n"
          ]
        }
      ],
      "source": [
        "%debug?"
      ]
    },
    {
      "cell_type": "code",
      "execution_count": null,
      "metadata": {
        "id": "XW1EWxnTrCSP",
        "outputId": "c1b48e75-7c12-4d7d-a599-c436cc899fd8"
      },
      "outputs": [
        {
          "ename": "NameError",
          "evalue": "name 'array' is not defined",
          "output_type": "error",
          "traceback": [
            "\u001b[1;31m---------------------------------------------------------------------------\u001b[0m",
            "\u001b[1;31mNameError\u001b[0m                                 Traceback (most recent call last)",
            "\u001b[1;32m~\\AppData\\Local\\Temp/ipykernel_21328/2236243969.py\u001b[0m in \u001b[0;36m<module>\u001b[1;34m\u001b[0m\n\u001b[1;32m----> 1\u001b[1;33m \u001b[1;32mfor\u001b[0m \u001b[0mx\u001b[0m \u001b[1;32min\u001b[0m \u001b[0marray\u001b[0m\u001b[1;33m:\u001b[0m\u001b[1;33m\u001b[0m\u001b[1;33m\u001b[0m\u001b[0m\n\u001b[0m\u001b[0;32m      2\u001b[0m     \u001b[1;32mif\u001b[0m \u001b[0mx\u001b[0m \u001b[1;33m<\u001b[0m \u001b[0mpivot\u001b[0m\u001b[1;33m:\u001b[0m\u001b[1;33m\u001b[0m\u001b[1;33m\u001b[0m\u001b[0m\n\u001b[0;32m      3\u001b[0m         \u001b[0mless\u001b[0m\u001b[1;33m.\u001b[0m\u001b[0mappend\u001b[0m\u001b[1;33m(\u001b[0m\u001b[0mx\u001b[0m\u001b[1;33m)\u001b[0m\u001b[1;33m\u001b[0m\u001b[1;33m\u001b[0m\u001b[0m\n\u001b[0;32m      4\u001b[0m     \u001b[1;32melse\u001b[0m\u001b[1;33m:\u001b[0m\u001b[1;33m\u001b[0m\u001b[1;33m\u001b[0m\u001b[0m\n\u001b[0;32m      5\u001b[0m         \u001b[0mgreater\u001b[0m\u001b[1;33m.\u001b[0m\u001b[0mappend\u001b[0m\u001b[1;33m(\u001b[0m\u001b[0mx\u001b[0m\u001b[1;33m)\u001b[0m\u001b[1;33m\u001b[0m\u001b[1;33m\u001b[0m\u001b[0m\n",
            "\u001b[1;31mNameError\u001b[0m: name 'array' is not defined"
          ]
        }
      ],
      "source": [
        "for x in array:\n",
        "    if x < pivot:\n",
        "        less.append(x)\n",
        "    else:\n",
        "        greater.append(x)\n",
        "a = 5; b = 6; c = 7"
      ]
    },
    {
      "cell_type": "code",
      "execution_count": null,
      "metadata": {
        "id": "0ChG2AOsrCSQ"
      },
      "outputs": [],
      "source": [
        "results = []"
      ]
    },
    {
      "cell_type": "code",
      "execution_count": null,
      "metadata": {
        "id": "PSnD7NwYrCSQ",
        "outputId": "5ec2ab06-28a0-4a0b-e8c7-2e3c86c4687a"
      },
      "outputs": [
        {
          "ename": "NameError",
          "evalue": "name 'f' is not defined",
          "output_type": "error",
          "traceback": [
            "\u001b[1;31m---------------------------------------------------------------------------\u001b[0m",
            "\u001b[1;31mNameError\u001b[0m                                 Traceback (most recent call last)",
            "\u001b[1;32m~\\AppData\\Local\\Temp/ipykernel_21328/3051952510.py\u001b[0m in \u001b[0;36m<module>\u001b[1;34m\u001b[0m\n\u001b[1;32m----> 1\u001b[1;33m \u001b[0mresult\u001b[0m \u001b[1;33m=\u001b[0m \u001b[0mf\u001b[0m\u001b[1;33m(\u001b[0m\u001b[0mx\u001b[0m\u001b[1;33m,\u001b[0m \u001b[0my\u001b[0m\u001b[1;33m,\u001b[0m \u001b[0mz\u001b[0m\u001b[1;33m)\u001b[0m\u001b[1;33m\u001b[0m\u001b[1;33m\u001b[0m\u001b[0m\n\u001b[0m\u001b[0;32m      2\u001b[0m \u001b[0mg\u001b[0m\u001b[1;33m(\u001b[0m\u001b[1;33m)\u001b[0m\u001b[1;33m\u001b[0m\u001b[1;33m\u001b[0m\u001b[0m\n\u001b[0;32m      3\u001b[0m \u001b[0mobj\u001b[0m\u001b[1;33m.\u001b[0m\u001b[0msome_method\u001b[0m\u001b[1;33m(\u001b[0m\u001b[0mx\u001b[0m\u001b[1;33m,\u001b[0m \u001b[0my\u001b[0m\u001b[1;33m,\u001b[0m \u001b[0mz\u001b[0m\u001b[1;33m)\u001b[0m\u001b[1;33m\u001b[0m\u001b[1;33m\u001b[0m\u001b[0m\n\u001b[0;32m      4\u001b[0m \u001b[0mresult\u001b[0m \u001b[1;33m=\u001b[0m \u001b[0mf\u001b[0m\u001b[1;33m(\u001b[0m\u001b[0ma\u001b[0m\u001b[1;33m,\u001b[0m \u001b[0mb\u001b[0m\u001b[1;33m,\u001b[0m \u001b[0mc\u001b[0m\u001b[1;33m,\u001b[0m \u001b[0md\u001b[0m\u001b[1;33m=\u001b[0m\u001b[1;36m5\u001b[0m\u001b[1;33m,\u001b[0m \u001b[0me\u001b[0m\u001b[1;33m=\u001b[0m\u001b[1;34m'foo'\u001b[0m\u001b[1;33m)\u001b[0m\u001b[1;33m\u001b[0m\u001b[1;33m\u001b[0m\u001b[0m\n",
            "\u001b[1;31mNameError\u001b[0m: name 'f' is not defined"
          ]
        }
      ],
      "source": [
        "result = f(x, y, z)\n",
        "g()\n",
        "obj.some_method(x, y, z)\n",
        "result = f(a, b, c, d=5, e='foo')"
      ]
    },
    {
      "cell_type": "code",
      "execution_count": null,
      "metadata": {
        "id": "j5huhoUwrCSQ"
      },
      "outputs": [],
      "source": [
        "a = [1, 2, 3]"
      ]
    },
    {
      "cell_type": "code",
      "execution_count": null,
      "metadata": {
        "id": "axp41M7ErCSR"
      },
      "outputs": [],
      "source": [
        "b = a"
      ]
    },
    {
      "cell_type": "code",
      "execution_count": null,
      "metadata": {
        "id": "WFlwyEUmrCSR",
        "outputId": "28b0faa4-6b81-468d-df2b-b57cb553e695"
      },
      "outputs": [
        {
          "data": {
            "text/plain": [
              "[1, 2, 3, 4]"
            ]
          },
          "execution_count": 18,
          "metadata": {},
          "output_type": "execute_result"
        }
      ],
      "source": [
        "a.append(4)\n",
        "b"
      ]
    },
    {
      "cell_type": "code",
      "execution_count": null,
      "metadata": {
        "id": "KN3YzkT-rCSR"
      },
      "outputs": [],
      "source": [
        " data = [1, 2, 3]"
      ]
    },
    {
      "cell_type": "code",
      "execution_count": null,
      "metadata": {
        "id": "tapok0qFrCSS",
        "outputId": "e62ff70a-c521-4780-fc4a-f16912b9dffa"
      },
      "outputs": [
        {
          "ename": "NameError",
          "evalue": "name 'append_element' is not defined",
          "output_type": "error",
          "traceback": [
            "\u001b[1;31m---------------------------------------------------------------------------\u001b[0m",
            "\u001b[1;31mNameError\u001b[0m                                 Traceback (most recent call last)",
            "\u001b[1;32m~\\AppData\\Local\\Temp/ipykernel_21328/1191366003.py\u001b[0m in \u001b[0;36m<module>\u001b[1;34m\u001b[0m\n\u001b[1;32m----> 1\u001b[1;33m \u001b[0mappend_element\u001b[0m\u001b[1;33m(\u001b[0m\u001b[0mdata\u001b[0m\u001b[1;33m,\u001b[0m \u001b[1;36m4\u001b[0m\u001b[1;33m)\u001b[0m\u001b[1;33m\u001b[0m\u001b[1;33m\u001b[0m\u001b[0m\n\u001b[0m",
            "\u001b[1;31mNameError\u001b[0m: name 'append_element' is not defined"
          ]
        }
      ],
      "source": [
        "append_element(data, 4)\n"
      ]
    },
    {
      "cell_type": "code",
      "execution_count": null,
      "metadata": {
        "id": "R6bPuX_jrCSS",
        "outputId": "c90123f9-1425-45a5-b1b6-816f5e45216e"
      },
      "outputs": [
        {
          "data": {
            "text/plain": [
              "str"
            ]
          },
          "execution_count": 21,
          "metadata": {},
          "output_type": "execute_result"
        }
      ],
      "source": [
        "a = 5\n",
        "type(a)\n",
        "a = 'foo'\n",
        "type(a)"
      ]
    },
    {
      "cell_type": "code",
      "execution_count": null,
      "metadata": {
        "id": "yLrDGRukrCSS",
        "outputId": "05804852-636c-4e71-ed6a-559cffb60089"
      },
      "outputs": [
        {
          "ename": "SyntaxError",
          "evalue": "EOL while scanning string literal (Temp/ipykernel_21328/757742399.py, line 1)",
          "output_type": "error",
          "traceback": [
            "\u001b[1;36m  File \u001b[1;32m\"C:\\Users\\LENOVO\\AppData\\Local\\Temp/ipykernel_21328/757742399.py\"\u001b[1;36m, line \u001b[1;32m1\u001b[0m\n\u001b[1;33m    5' + 5\u001b[0m\n\u001b[1;37m          ^\u001b[0m\n\u001b[1;31mSyntaxError\u001b[0m\u001b[1;31m:\u001b[0m EOL while scanning string literal\n"
          ]
        }
      ],
      "source": [
        "5' + 5"
      ]
    },
    {
      "cell_type": "code",
      "execution_count": null,
      "metadata": {
        "id": "kzydbw-trCSS",
        "outputId": "3e77b7ce-0737-4c28-98a0-905afd1ba5b1"
      },
      "outputs": [
        {
          "name": "stdout",
          "output_type": "stream",
          "text": [
            "a is <class 'float'>, b is <class 'int'>\n"
          ]
        },
        {
          "data": {
            "text/plain": [
              "2.25"
            ]
          },
          "execution_count": 23,
          "metadata": {},
          "output_type": "execute_result"
        }
      ],
      "source": [
        "a = 4.5\n",
        "b = 2\n",
        "# String formatting, to be visited later\n",
        "print('a is {0}, b is {1}'.format(type(a), type(b)))\n",
        "a / b"
      ]
    },
    {
      "cell_type": "code",
      "execution_count": null,
      "metadata": {
        "id": "n5l9brjUrCST",
        "outputId": "aca73bde-bd92-4b60-83d4-2fbfc067e1d2"
      },
      "outputs": [
        {
          "data": {
            "text/plain": [
              "True"
            ]
          },
          "execution_count": 24,
          "metadata": {},
          "output_type": "execute_result"
        }
      ],
      "source": [
        "a = 5\n",
        "isinstance(a, int)"
      ]
    },
    {
      "cell_type": "code",
      "execution_count": null,
      "metadata": {
        "id": "2JRlrodwrCST",
        "outputId": "2097beb0-44d8-451d-91f2-fd657d26c28f"
      },
      "outputs": [
        {
          "data": {
            "text/plain": [
              "True"
            ]
          },
          "execution_count": 25,
          "metadata": {},
          "output_type": "execute_result"
        }
      ],
      "source": [
        "a = 5; b = 4.5\n",
        "isinstance(a, (int, float))\n",
        "isinstance(b, (int, float))"
      ]
    },
    {
      "cell_type": "code",
      "execution_count": null,
      "metadata": {
        "id": "522rYHsqrCST"
      },
      "outputs": [],
      "source": [
        "a = 'foo'\n"
      ]
    },
    {
      "cell_type": "code",
      "execution_count": null,
      "metadata": {
        "id": "-2_htRxXrCSU",
        "outputId": "ac3c3853-dd0e-41fd-f903-bfcf3a2aa940"
      },
      "outputs": [
        {
          "data": {
            "text/plain": [
              "<function str.split(sep=None, maxsplit=-1)>"
            ]
          },
          "execution_count": 27,
          "metadata": {},
          "output_type": "execute_result"
        }
      ],
      "source": [
        "getattr(a, 'split')"
      ]
    },
    {
      "cell_type": "code",
      "execution_count": null,
      "metadata": {
        "id": "Z2-1hVq0rCSU"
      },
      "outputs": [],
      "source": [
        "def isiterable(obj):\n",
        "    try:\n",
        "        iter(obj)\n",
        "        return True\n",
        "    except TypeError: # not iterable\n",
        "        return False"
      ]
    },
    {
      "cell_type": "code",
      "execution_count": null,
      "metadata": {
        "id": "H65XryWorCSU",
        "outputId": "9f5b24b8-49e5-4d79-ae3c-a9112babc688"
      },
      "outputs": [
        {
          "data": {
            "text/plain": [
              "False"
            ]
          },
          "execution_count": 29,
          "metadata": {},
          "output_type": "execute_result"
        }
      ],
      "source": [
        "isiterable('a string')\n",
        "isiterable([1, 2, 3])\n",
        "isiterable(5)"
      ]
    },
    {
      "cell_type": "code",
      "execution_count": null,
      "metadata": {
        "id": "XQq1exAxrCSU",
        "outputId": "2ca11fb3-0251-48be-91f1-3ada60f9630a"
      },
      "outputs": [
        {
          "data": {
            "text/plain": [
              "False"
            ]
          },
          "execution_count": 30,
          "metadata": {},
          "output_type": "execute_result"
        }
      ],
      "source": [
        "5 - 7\n",
        "12 + 21.5\n",
        "5 <= 2"
      ]
    },
    {
      "cell_type": "code",
      "execution_count": null,
      "metadata": {
        "id": "y4GXSFpprCSV",
        "outputId": "49537f73-ffd7-4d47-d3d8-3cbcb54ec96c"
      },
      "outputs": [
        {
          "data": {
            "text/plain": [
              "True"
            ]
          },
          "execution_count": 31,
          "metadata": {},
          "output_type": "execute_result"
        }
      ],
      "source": [
        "a = [1, 2, 3]\n",
        "b = a\n",
        "c = list(a)\n",
        "a is b\n",
        "a is not c"
      ]
    },
    {
      "cell_type": "code",
      "execution_count": null,
      "metadata": {
        "id": "Z7Jb4skIrCSV",
        "outputId": "2723b1db-2c52-4dfa-f470-c1f32c77e26f"
      },
      "outputs": [
        {
          "data": {
            "text/plain": [
              "True"
            ]
          },
          "execution_count": 32,
          "metadata": {},
          "output_type": "execute_result"
        }
      ],
      "source": [
        "a == c"
      ]
    },
    {
      "cell_type": "code",
      "execution_count": null,
      "metadata": {
        "id": "bj0aPNUIrCSV",
        "outputId": "8a443a74-a795-4e4c-9519-82a25b111deb"
      },
      "outputs": [
        {
          "data": {
            "text/plain": [
              "True"
            ]
          },
          "execution_count": 33,
          "metadata": {},
          "output_type": "execute_result"
        }
      ],
      "source": [
        "a = None\n",
        "a is None"
      ]
    },
    {
      "cell_type": "code",
      "execution_count": null,
      "metadata": {
        "id": "djw31s7rrCSV",
        "outputId": "15680b27-02f6-4653-d37f-9e8da209b868"
      },
      "outputs": [
        {
          "data": {
            "text/plain": [
              "['foo', 2, (3, 4)]"
            ]
          },
          "execution_count": 34,
          "metadata": {},
          "output_type": "execute_result"
        }
      ],
      "source": [
        "a_list = ['foo', 2, [4, 5]]\n",
        "a_list[2] = (3, 4)\n",
        "a_list"
      ]
    },
    {
      "cell_type": "code",
      "execution_count": null,
      "metadata": {
        "id": "RxV8ldMVrCSW",
        "outputId": "a9c1b2ac-b67c-47e0-cef4-f626421515f8"
      },
      "outputs": [
        {
          "ename": "TypeError",
          "evalue": "'tuple' object does not support item assignment",
          "output_type": "error",
          "traceback": [
            "\u001b[1;31m---------------------------------------------------------------------------\u001b[0m",
            "\u001b[1;31mTypeError\u001b[0m                                 Traceback (most recent call last)",
            "\u001b[1;32m~\\AppData\\Local\\Temp/ipykernel_21328/20515229.py\u001b[0m in \u001b[0;36m<module>\u001b[1;34m\u001b[0m\n\u001b[0;32m      1\u001b[0m \u001b[0ma_tuple\u001b[0m \u001b[1;33m=\u001b[0m \u001b[1;33m(\u001b[0m\u001b[1;36m3\u001b[0m\u001b[1;33m,\u001b[0m \u001b[1;36m5\u001b[0m\u001b[1;33m,\u001b[0m \u001b[1;33m(\u001b[0m\u001b[1;36m4\u001b[0m\u001b[1;33m,\u001b[0m \u001b[1;36m5\u001b[0m\u001b[1;33m)\u001b[0m\u001b[1;33m)\u001b[0m\u001b[1;33m\u001b[0m\u001b[1;33m\u001b[0m\u001b[0m\n\u001b[1;32m----> 2\u001b[1;33m \u001b[0ma_tuple\u001b[0m\u001b[1;33m[\u001b[0m\u001b[1;36m1\u001b[0m\u001b[1;33m]\u001b[0m \u001b[1;33m=\u001b[0m \u001b[1;34m'four'\u001b[0m\u001b[1;33m\u001b[0m\u001b[1;33m\u001b[0m\u001b[0m\n\u001b[0m",
            "\u001b[1;31mTypeError\u001b[0m: 'tuple' object does not support item assignment"
          ]
        }
      ],
      "source": [
        "a_tuple = (3, 5, (4, 5))\n",
        "a_tuple[1] = 'four'"
      ]
    },
    {
      "cell_type": "code",
      "execution_count": null,
      "metadata": {
        "id": "qA8sIbUsrCSW",
        "outputId": "01c199ee-0842-4c83-b257-45a61fc4ab69"
      },
      "outputs": [
        {
          "data": {
            "text/plain": [
              "26254519291092456596965462913230729701102721"
            ]
          },
          "execution_count": 36,
          "metadata": {},
          "output_type": "execute_result"
        }
      ],
      "source": [
        "ival = 17239871\n",
        "ival ** 6"
      ]
    },
    {
      "cell_type": "code",
      "execution_count": null,
      "metadata": {
        "id": "qUAIRk68rCSW"
      },
      "outputs": [],
      "source": [
        "fval = 7.243\n",
        "fval2 = 6.78e-5"
      ]
    },
    {
      "cell_type": "code",
      "execution_count": null,
      "metadata": {
        "id": "Voiyf7rcrCSW",
        "outputId": "76cf2eed-7ab6-423a-9d57-97d746c8d751"
      },
      "outputs": [
        {
          "data": {
            "text/plain": [
              "1.5"
            ]
          },
          "execution_count": 38,
          "metadata": {},
          "output_type": "execute_result"
        }
      ],
      "source": [
        "3 / 2"
      ]
    },
    {
      "cell_type": "code",
      "execution_count": null,
      "metadata": {
        "id": "jplUP3CyrCSX",
        "outputId": "bd56b8fc-b48d-4c2c-e78b-f4ef0ed6e956"
      },
      "outputs": [
        {
          "data": {
            "text/plain": [
              "1"
            ]
          },
          "execution_count": 39,
          "metadata": {},
          "output_type": "execute_result"
        }
      ],
      "source": [
        "3 // 2"
      ]
    },
    {
      "cell_type": "markdown",
      "metadata": {
        "id": "1RlqMz0SrCSX"
      },
      "source": [
        "Strings\n"
      ]
    },
    {
      "cell_type": "markdown",
      "metadata": {
        "id": "uBd79eWCrCSX"
      },
      "source": [
        "a = 'one way of writing a string' b = \"another way\""
      ]
    },
    {
      "cell_type": "code",
      "execution_count": null,
      "metadata": {
        "id": "g-bl0G94rCSX"
      },
      "outputs": [],
      "source": [
        "c = \"\"\"\n",
        "This is a longer string that\n",
        "spans multiple lines\n",
        "\"\"\""
      ]
    },
    {
      "cell_type": "code",
      "execution_count": null,
      "metadata": {
        "id": "IsaOpX_QrCSX",
        "outputId": "a798a969-9bda-4faa-98a3-414f29dc485c"
      },
      "outputs": [
        {
          "data": {
            "text/plain": [
              "3"
            ]
          },
          "execution_count": 41,
          "metadata": {},
          "output_type": "execute_result"
        }
      ],
      "source": [
        "c.count('\\n')"
      ]
    },
    {
      "cell_type": "code",
      "execution_count": null,
      "metadata": {
        "id": "ox880XQMrCSY",
        "outputId": "e1beb441-b0a7-472d-94ff-f1d9a45485c3"
      },
      "outputs": [
        {
          "ename": "TypeError",
          "evalue": "'str' object does not support item assignment",
          "output_type": "error",
          "traceback": [
            "\u001b[1;31m---------------------------------------------------------------------------\u001b[0m",
            "\u001b[1;31mTypeError\u001b[0m                                 Traceback (most recent call last)",
            "\u001b[1;32m~\\AppData\\Local\\Temp/ipykernel_21328/532296718.py\u001b[0m in \u001b[0;36m<module>\u001b[1;34m\u001b[0m\n\u001b[0;32m      1\u001b[0m \u001b[0ma\u001b[0m \u001b[1;33m=\u001b[0m \u001b[1;34m'this is a string'\u001b[0m\u001b[1;33m\u001b[0m\u001b[1;33m\u001b[0m\u001b[0m\n\u001b[1;32m----> 2\u001b[1;33m \u001b[0ma\u001b[0m\u001b[1;33m[\u001b[0m\u001b[1;36m10\u001b[0m\u001b[1;33m]\u001b[0m \u001b[1;33m=\u001b[0m \u001b[1;34m'f'\u001b[0m\u001b[1;33m\u001b[0m\u001b[1;33m\u001b[0m\u001b[0m\n\u001b[0m\u001b[0;32m      3\u001b[0m \u001b[0mb\u001b[0m \u001b[1;33m=\u001b[0m \u001b[0ma\u001b[0m\u001b[1;33m.\u001b[0m\u001b[0mreplace\u001b[0m\u001b[1;33m(\u001b[0m\u001b[1;34m'string'\u001b[0m\u001b[1;33m,\u001b[0m \u001b[1;34m'longer string'\u001b[0m\u001b[1;33m)\u001b[0m\u001b[1;33m\u001b[0m\u001b[1;33m\u001b[0m\u001b[0m\n\u001b[0;32m      4\u001b[0m \u001b[0mb\u001b[0m\u001b[1;33m\u001b[0m\u001b[1;33m\u001b[0m\u001b[0m\n",
            "\u001b[1;31mTypeError\u001b[0m: 'str' object does not support item assignment"
          ]
        }
      ],
      "source": [
        "a = 'this is a string'\n",
        "a[10] = 'f'\n",
        "b = a.replace('string', 'longer string')\n",
        "b"
      ]
    },
    {
      "cell_type": "code",
      "execution_count": null,
      "metadata": {
        "id": "3K4on23ZrCSY",
        "outputId": "f62f70d2-e89e-45bf-e55f-7ab8433485d5"
      },
      "outputs": [
        {
          "data": {
            "text/plain": [
              "'this is a string'"
            ]
          },
          "execution_count": 44,
          "metadata": {},
          "output_type": "execute_result"
        }
      ],
      "source": [
        "a"
      ]
    },
    {
      "cell_type": "code",
      "execution_count": null,
      "metadata": {
        "id": "3IBPsPYjrCSY",
        "outputId": "c1c36931-8aef-468b-ebf0-c03f90e6d41e"
      },
      "outputs": [
        {
          "name": "stdout",
          "output_type": "stream",
          "text": [
            "5.6\n"
          ]
        }
      ],
      "source": [
        "a = 5.6\n",
        "s = str(a)\n",
        "print(s)"
      ]
    },
    {
      "cell_type": "code",
      "execution_count": null,
      "metadata": {
        "id": "EACRi5SDrCSY",
        "outputId": "bac5da45-33e2-4647-83e9-6230a7a176c0"
      },
      "outputs": [
        {
          "data": {
            "text/plain": [
              "'pyt'"
            ]
          },
          "execution_count": 46,
          "metadata": {},
          "output_type": "execute_result"
        }
      ],
      "source": [
        "s = 'python'\n",
        "list(s)\n",
        "s[:3]"
      ]
    },
    {
      "cell_type": "code",
      "execution_count": null,
      "metadata": {
        "id": "btAQarz2rCSY",
        "outputId": "3ef96111-3fe2-48b7-e392-ec8192230ce5"
      },
      "outputs": [
        {
          "name": "stdout",
          "output_type": "stream",
          "text": [
            "12\\34\n"
          ]
        }
      ],
      "source": [
        "s = '12\\\\34'\n",
        "print(s)"
      ]
    },
    {
      "cell_type": "code",
      "execution_count": null,
      "metadata": {
        "id": "KiVVamblrCSZ",
        "outputId": "fbaa8374-948a-45c1-8a5a-8b04ac65840d"
      },
      "outputs": [
        {
          "data": {
            "text/plain": [
              "'this\\\\has\\\\no\\\\special\\\\characters'"
            ]
          },
          "execution_count": 48,
          "metadata": {},
          "output_type": "execute_result"
        }
      ],
      "source": [
        "s = r'this\\has\\no\\special\\characters'\n",
        "s"
      ]
    },
    {
      "cell_type": "code",
      "execution_count": null,
      "metadata": {
        "id": "jW7uH2wgrCSZ",
        "outputId": "b058430e-d235-4148-fab0-1a98ec57047e"
      },
      "outputs": [
        {
          "data": {
            "text/plain": [
              "'this is the first half and this is the second half'"
            ]
          },
          "execution_count": 49,
          "metadata": {},
          "output_type": "execute_result"
        }
      ],
      "source": [
        "a = 'this is the first half '\n",
        "b = 'and this is the second half'\n",
        "a + b"
      ]
    },
    {
      "cell_type": "code",
      "execution_count": null,
      "metadata": {
        "id": "kvNFUIYKrCSZ"
      },
      "outputs": [],
      "source": [
        "template = '{0:.2f} {1:s} are worth US${2:d}'"
      ]
    },
    {
      "cell_type": "code",
      "execution_count": null,
      "metadata": {
        "id": "lUcOeioMrCSa",
        "outputId": "3fdd4353-7537-44a4-afc0-a54480408f9b"
      },
      "outputs": [
        {
          "data": {
            "text/plain": [
              "'4.56 Argentine Pesos are worth US$1'"
            ]
          },
          "execution_count": 51,
          "metadata": {},
          "output_type": "execute_result"
        }
      ],
      "source": [
        "template.format(4.5560, 'Argentine Pesos', 1)"
      ]
    },
    {
      "cell_type": "markdown",
      "metadata": {
        "id": "8AINvGylrCSa"
      },
      "source": [
        "Bytes and Unicode"
      ]
    },
    {
      "cell_type": "code",
      "execution_count": null,
      "metadata": {
        "id": "6cyw2JXnrCSa",
        "outputId": "5938c0de-1a19-4cf6-d54f-8dbe9f9d2a66"
      },
      "outputs": [
        {
          "data": {
            "text/plain": [
              "'español'"
            ]
          },
          "execution_count": 52,
          "metadata": {},
          "output_type": "execute_result"
        }
      ],
      "source": [
        "val = \"español\"\n",
        "val"
      ]
    },
    {
      "cell_type": "code",
      "execution_count": null,
      "metadata": {
        "id": "Yj7XMUyfrCSa",
        "outputId": "b5bf1699-b82a-4c46-c433-d054fcf0dab4"
      },
      "outputs": [
        {
          "data": {
            "text/plain": [
              "bytes"
            ]
          },
          "execution_count": 53,
          "metadata": {},
          "output_type": "execute_result"
        }
      ],
      "source": [
        "val_utf8 = val.encode('utf-8')\n",
        "val_utf8\n",
        "type(val_utf8)"
      ]
    },
    {
      "cell_type": "code",
      "execution_count": null,
      "metadata": {
        "id": "15Sz-HMHrCSb",
        "outputId": "639855d3-a7db-4155-a914-dfb460bb0da5"
      },
      "outputs": [
        {
          "data": {
            "text/plain": [
              "'español'"
            ]
          },
          "execution_count": 54,
          "metadata": {},
          "output_type": "execute_result"
        }
      ],
      "source": [
        "val_utf8.decode('utf-8')"
      ]
    },
    {
      "cell_type": "code",
      "execution_count": null,
      "metadata": {
        "id": "PrrDceWHrCSb",
        "outputId": "5bdce373-9129-4ba8-d489-f8f039bd66a2"
      },
      "outputs": [
        {
          "data": {
            "text/plain": [
              "b'e\\x00s\\x00p\\x00a\\x00\\xf1\\x00o\\x00l\\x00'"
            ]
          },
          "execution_count": 55,
          "metadata": {},
          "output_type": "execute_result"
        }
      ],
      "source": [
        "val.encode('latin1')\n",
        "val.encode('utf-16')\n",
        "val.encode('utf-16le')"
      ]
    },
    {
      "cell_type": "code",
      "execution_count": null,
      "metadata": {
        "id": "hfPAdOi7rCSb",
        "outputId": "f692029f-4fac-4dde-f1ff-3467268743bc"
      },
      "outputs": [
        {
          "data": {
            "text/plain": [
              "'this is bytes'"
            ]
          },
          "execution_count": 56,
          "metadata": {},
          "output_type": "execute_result"
        }
      ],
      "source": [
        "bytes_val = b'this is bytes'\n",
        "bytes_val\n",
        "decoded = bytes_val.decode('utf8')\n",
        "decoded  # this is str (Unicode) now"
      ]
    },
    {
      "cell_type": "markdown",
      "metadata": {
        "id": "0Rjn5JJhrCSb"
      },
      "source": [
        "Dates and times"
      ]
    },
    {
      "cell_type": "code",
      "execution_count": null,
      "metadata": {
        "id": "po6kGIdKrCSb",
        "outputId": "f4b9282b-3135-4ac4-8b6c-dbda99668d9e"
      },
      "outputs": [
        {
          "data": {
            "text/plain": [
              "57"
            ]
          },
          "execution_count": 60,
          "metadata": {},
          "output_type": "execute_result"
        }
      ],
      "source": [
        "from datetime import datetime, date, time\n",
        "dt = datetime(2022, 5, 24, 22, 57, 21)\n",
        "dt.day\n",
        "dt.minute"
      ]
    },
    {
      "cell_type": "code",
      "execution_count": null,
      "metadata": {
        "id": "v3cs71RUrCSc",
        "outputId": "c1a26b66-32d6-4ffb-a985-94f341da0fc1"
      },
      "outputs": [
        {
          "data": {
            "text/plain": [
              "datetime.time(22, 57, 21)"
            ]
          },
          "execution_count": 61,
          "metadata": {},
          "output_type": "execute_result"
        }
      ],
      "source": [
        "dt.date()\n",
        "dt.time()"
      ]
    },
    {
      "cell_type": "code",
      "execution_count": null,
      "metadata": {
        "id": "L_iFFhmxrCSc",
        "outputId": "92c196a8-b298-429a-ac5d-a8731ba53246"
      },
      "outputs": [
        {
          "data": {
            "text/plain": [
              "'05/24/2022 22:57'"
            ]
          },
          "execution_count": 62,
          "metadata": {},
          "output_type": "execute_result"
        }
      ],
      "source": [
        "dt.strftime('%m/%d/%Y %H:%M')"
      ]
    },
    {
      "cell_type": "code",
      "execution_count": null,
      "metadata": {
        "id": "xXk5W1SerCSc",
        "outputId": "547cd096-e2a6-4ea3-86a4-42d5775a1314"
      },
      "outputs": [
        {
          "data": {
            "text/plain": [
              "datetime.datetime(2009, 10, 31, 0, 0)"
            ]
          },
          "execution_count": 63,
          "metadata": {},
          "output_type": "execute_result"
        }
      ],
      "source": [
        "datetime.strptime('20091031', '%Y%m%d')"
      ]
    },
    {
      "cell_type": "code",
      "execution_count": null,
      "metadata": {
        "id": "_hni7SBzrCSc",
        "outputId": "d4bea38b-400a-4627-af97-7c46c71cc782"
      },
      "outputs": [
        {
          "data": {
            "text/plain": [
              "datetime.datetime(2022, 5, 24, 22, 0)"
            ]
          },
          "execution_count": 64,
          "metadata": {},
          "output_type": "execute_result"
        }
      ],
      "source": [
        "dt.replace(minute=0, second=0)"
      ]
    },
    {
      "cell_type": "code",
      "execution_count": null,
      "metadata": {
        "id": "-B2H0MjArCSc",
        "outputId": "b6911cae-5d2b-4cd1-8086-1e1f04087813"
      },
      "outputs": [
        {
          "data": {
            "text/plain": [
              "datetime.timedelta"
            ]
          },
          "execution_count": 65,
          "metadata": {},
          "output_type": "execute_result"
        }
      ],
      "source": [
        "dt2 = datetime(2011, 11, 15, 22, 30)\n",
        "delta = dt2 - dt\n",
        "delta\n",
        "type(delta)"
      ]
    },
    {
      "cell_type": "code",
      "execution_count": null,
      "metadata": {
        "id": "plEh4lGprCSd",
        "outputId": "d89e807e-fd37-4d33-8dc5-7f02e43419d9"
      },
      "outputs": [
        {
          "data": {
            "text/plain": [
              "datetime.datetime(2011, 11, 15, 22, 30)"
            ]
          },
          "execution_count": 66,
          "metadata": {},
          "output_type": "execute_result"
        }
      ],
      "source": [
        "dt\n",
        "dt + delta"
      ]
    },
    {
      "cell_type": "markdown",
      "metadata": {
        "id": "hhm2S6QhrCSd"
      },
      "source": [
        "Control Flow"
      ]
    },
    {
      "cell_type": "markdown",
      "metadata": {
        "id": "mQskXygcrCSd"
      },
      "source": [
        "if, elif, and else"
      ]
    },
    {
      "cell_type": "markdown",
      "metadata": {
        "id": "hiaGJD2XrCSd"
      },
      "source": [
        "if x < 0: print('It's negative')\n",
        "\n",
        "if x < 0: print('It's negative') elif x == 0: print('Equal to zero') elif 0 < x < 5: print('Positive but smaller than 5') else: print('Positive and larger than or equal to 5')"
      ]
    },
    {
      "cell_type": "code",
      "execution_count": null,
      "metadata": {
        "id": "NIAE1MwyrCSd",
        "outputId": "dd0e6a68-fdaa-4573-d83b-16b8db91636b"
      },
      "outputs": [
        {
          "name": "stdout",
          "output_type": "stream",
          "text": [
            "Made it\n"
          ]
        }
      ],
      "source": [
        "a = 5; b = 7\n",
        "c = 8; d = 4\n",
        "if a < b or c > d:\n",
        "    print('Made it')"
      ]
    },
    {
      "cell_type": "code",
      "execution_count": null,
      "metadata": {
        "id": "iJsWk0eWrCSe",
        "outputId": "754ed089-642b-443b-ba37-28d01c754001"
      },
      "outputs": [
        {
          "data": {
            "text/plain": [
              "True"
            ]
          },
          "execution_count": 2,
          "metadata": {},
          "output_type": "execute_result"
        }
      ],
      "source": [
        "4 > 3 > 2 > 1"
      ]
    },
    {
      "cell_type": "markdown",
      "metadata": {
        "id": "64rYB0ExrCSe"
      },
      "source": [
        "for loops"
      ]
    },
    {
      "cell_type": "markdown",
      "metadata": {
        "id": "fYDJi7VXrCSe"
      },
      "source": [
        "for value in collection:"
      ]
    },
    {
      "cell_type": "markdown",
      "metadata": {
        "id": "2teYaUCzrCSe"
      },
      "source": [
        "# do something with value\n",
        "sequence = [1, 2, None, 4, None, 5] total = 0 for value in sequence: if value is None: continue total += value\n",
        "\n",
        "sequence = [1, 2, 0, 4, 6, 5, 2, 1] total_until_5 = 0 for value in sequence: if value == 5: break total_until_5 += value"
      ]
    },
    {
      "cell_type": "markdown",
      "metadata": {
        "id": "ktGjuCktrCSe"
      },
      "source": [
        "for i in range(4):\n",
        "    for j in range(4):\n",
        "        if j > i:\n",
        "            break\n",
        "        print((i, j))"
      ]
    },
    {
      "cell_type": "code",
      "execution_count": null,
      "metadata": {
        "id": "XufJWnb5rCSf",
        "outputId": "8224b36b-f36f-46b7-d0bf-851853fe9429"
      },
      "outputs": [
        {
          "name": "stdout",
          "output_type": "stream",
          "text": [
            "(0, 0)\n",
            "(1, 0)\n",
            "(1, 1)\n",
            "(2, 0)\n",
            "(2, 1)\n",
            "(2, 2)\n",
            "(3, 0)\n",
            "(3, 1)\n",
            "(3, 2)\n",
            "(3, 3)\n"
          ]
        }
      ],
      "source": [
        "for i in range(4):\n",
        "    for j in range(4):\n",
        "        if j > i:\n",
        "            break\n",
        "        print((i, j))"
      ]
    },
    {
      "cell_type": "markdown",
      "metadata": {
        "id": "aHKq1h8NrCSf"
      },
      "source": [
        "for a, b, c in iterator:"
      ]
    },
    {
      "cell_type": "markdown",
      "metadata": {
        "id": "q0MXgyRErCSj"
      },
      "source": [
        "# do something"
      ]
    },
    {
      "cell_type": "markdown",
      "metadata": {
        "id": "qg09OcPprCSj"
      },
      "source": [
        "while loops"
      ]
    },
    {
      "cell_type": "markdown",
      "metadata": {
        "id": "9Cb5desRrCSj"
      },
      "source": [
        "x = 256 total = 0 while x > 0: if total > 500: break total += x x = x // 2"
      ]
    },
    {
      "cell_type": "markdown",
      "metadata": {
        "id": "Ni0GxtU2rCSj"
      },
      "source": [
        "pass"
      ]
    },
    {
      "cell_type": "markdown",
      "metadata": {
        "id": "H0ZHeSEcrCSk"
      },
      "source": [
        "if x < 0: print('negative!') elif x == 0:\n",
        "\n",
        "# TODO: do somthing blah blah\n",
        "pass\n",
        "else: print('positive!')"
      ]
    },
    {
      "cell_type": "markdown",
      "metadata": {
        "id": "xjWNktqjrCSk"
      },
      "source": [
        "range"
      ]
    },
    {
      "cell_type": "code",
      "execution_count": null,
      "metadata": {
        "id": "UBp018SlrCSk",
        "outputId": "614dd00f-72f8-46f7-f190-b503a4b111b0"
      },
      "outputs": [
        {
          "data": {
            "text/plain": [
              "[0, 1, 2, 3, 4, 5, 6, 7, 8, 9]"
            ]
          },
          "execution_count": 4,
          "metadata": {},
          "output_type": "execute_result"
        }
      ],
      "source": [
        "range(10)\n",
        "list(range(10))"
      ]
    },
    {
      "cell_type": "code",
      "execution_count": null,
      "metadata": {
        "id": "LVxjUaVerCSl",
        "outputId": "fa60ecfe-fdf2-443b-d112-b278cb5b8ae8"
      },
      "outputs": [
        {
          "data": {
            "text/plain": [
              "[5, 4, 3, 2, 1]"
            ]
          },
          "execution_count": 5,
          "metadata": {},
          "output_type": "execute_result"
        }
      ],
      "source": [
        "list(range(0, 20, 2))\n",
        "list(range(5, 0, -1))"
      ]
    },
    {
      "cell_type": "code",
      "execution_count": null,
      "metadata": {
        "id": "8worxFRnrCSl"
      },
      "outputs": [],
      "source": [
        "seq = [1, 2, 3, 4] \n",
        "for i in range(len(seq)): val = seq[i]"
      ]
    },
    {
      "cell_type": "code",
      "execution_count": null,
      "metadata": {
        "id": "UxjjZf8LrCSl",
        "outputId": "e29b3901-c77c-4f65-9498-4878af51c324"
      },
      "outputs": [
        {
          "ename": "IndentationError",
          "evalue": "expected an indented block (Temp/ipykernel_25588/312175510.py, line 2)",
          "output_type": "error",
          "traceback": [
            "\u001b[1;36m  File \u001b[1;32m\"C:\\Users\\LENOVO\\AppData\\Local\\Temp/ipykernel_25588/312175510.py\"\u001b[1;36m, line \u001b[1;32m2\u001b[0m\n\u001b[1;33m    for i in range(100000):\u001b[0m\n\u001b[1;37m                           ^\u001b[0m\n\u001b[1;31mIndentationError\u001b[0m\u001b[1;31m:\u001b[0m expected an indented block\n"
          ]
        }
      ],
      "source": [
        "sum = 0 \n",
        "for i in range(100000):"
      ]
    },
    {
      "cell_type": "code",
      "execution_count": null,
      "metadata": {
        "id": "6J_LSdfPrCSl",
        "outputId": "f1322672-c911-4ff0-d0db-c070fc8c39aa"
      },
      "outputs": [
        {
          "ename": "TypeError",
          "evalue": "unsupported operand type(s) for +=: 'builtin_function_or_method' and 'int'",
          "output_type": "error",
          "traceback": [
            "\u001b[1;31m---------------------------------------------------------------------------\u001b[0m",
            "\u001b[1;31mTypeError\u001b[0m                                 Traceback (most recent call last)",
            "\u001b[1;32m~\\AppData\\Local\\Temp/ipykernel_25588/2244609066.py\u001b[0m in \u001b[0;36m<module>\u001b[1;34m\u001b[0m\n\u001b[0;32m      1\u001b[0m \u001b[1;31m# % is the modulo operator\u001b[0m\u001b[1;33m\u001b[0m\u001b[1;33m\u001b[0m\u001b[0m\n\u001b[0;32m      2\u001b[0m \u001b[1;32mif\u001b[0m \u001b[0mi\u001b[0m \u001b[1;33m%\u001b[0m \u001b[1;36m3\u001b[0m \u001b[1;33m==\u001b[0m \u001b[1;36m0\u001b[0m \u001b[1;32mor\u001b[0m \u001b[0mi\u001b[0m \u001b[1;33m%\u001b[0m \u001b[1;36m5\u001b[0m \u001b[1;33m==\u001b[0m \u001b[1;36m0\u001b[0m\u001b[1;33m:\u001b[0m\u001b[1;33m\u001b[0m\u001b[1;33m\u001b[0m\u001b[0m\n\u001b[1;32m----> 3\u001b[1;33m     \u001b[0msum\u001b[0m \u001b[1;33m+=\u001b[0m \u001b[0mi\u001b[0m\u001b[1;33m\u001b[0m\u001b[1;33m\u001b[0m\u001b[0m\n\u001b[0m",
            "\u001b[1;31mTypeError\u001b[0m: unsupported operand type(s) for +=: 'builtin_function_or_method' and 'int'"
          ]
        }
      ],
      "source": [
        "# % is the modulo operator\n",
        "if i % 3 == 0 or i % 5 == 0:\n",
        "    sum += i"
      ]
    },
    {
      "cell_type": "markdown",
      "metadata": {
        "id": "u5DGq3XvrCSm"
      },
      "source": [
        "Ternary expressions"
      ]
    },
    {
      "cell_type": "code",
      "execution_count": null,
      "metadata": {
        "id": "TGONDgj2rCSm",
        "outputId": "c85603ce-1b9d-4c04-b267-4860dd64d69a"
      },
      "outputs": [
        {
          "ename": "SyntaxError",
          "evalue": "invalid syntax (Temp/ipykernel_25588/330428849.py, line 1)",
          "output_type": "error",
          "traceback": [
            "\u001b[1;36m  File \u001b[1;32m\"C:\\Users\\LENOVO\\AppData\\Local\\Temp/ipykernel_25588/330428849.py\"\u001b[1;36m, line \u001b[1;32m1\u001b[0m\n\u001b[1;33m    value =\u001b[0m\n\u001b[1;37m            ^\u001b[0m\n\u001b[1;31mSyntaxError\u001b[0m\u001b[1;31m:\u001b[0m invalid syntax\n"
          ]
        }
      ],
      "source": [
        "value = \n",
        "if"
      ]
    },
    {
      "cell_type": "code",
      "execution_count": null,
      "metadata": {
        "id": "3mf4itOerCSm",
        "outputId": "fdad8403-351a-4589-d6bb-8581ceb530e4"
      },
      "outputs": [
        {
          "data": {
            "text/plain": [
              "'Non-negative'"
            ]
          },
          "execution_count": 17,
          "metadata": {},
          "output_type": "execute_result"
        }
      ],
      "source": [
        "x = 5\n",
        "'Non-negative' if x >= 0 else 'Negative'"
      ]
    },
    {
      "cell_type": "markdown",
      "metadata": {
        "id": "35OOQSklrCSm"
      },
      "source": [
        "Built-in Data Structures, Functions,"
      ]
    },
    {
      "cell_type": "markdown",
      "metadata": {
        "id": "Ttzl3CiBrCSn"
      },
      "source": [
        "Data Structures and Sequences"
      ]
    },
    {
      "cell_type": "markdown",
      "metadata": {
        "id": "A0JMhmcwrCSn"
      },
      "source": [
        "Tuple"
      ]
    },
    {
      "cell_type": "code",
      "execution_count": null,
      "metadata": {
        "id": "ByYtwgxmrCSn",
        "outputId": "17a8e507-e3c9-4992-e635-1ca1b9ba4761"
      },
      "outputs": [
        {
          "data": {
            "text/plain": [
              "(4, 5, 6)"
            ]
          },
          "execution_count": 18,
          "metadata": {},
          "output_type": "execute_result"
        }
      ],
      "source": [
        "tup = 4, 5, 6\n",
        "tup"
      ]
    },
    {
      "cell_type": "code",
      "execution_count": null,
      "metadata": {
        "id": "fXp-PnyLrCSn",
        "outputId": "862ad10a-1fd9-4527-b78f-fcbf875eee79"
      },
      "outputs": [
        {
          "data": {
            "text/plain": [
              "((4, 5, 6), (7, 8))"
            ]
          },
          "execution_count": 19,
          "metadata": {},
          "output_type": "execute_result"
        }
      ],
      "source": [
        "nested_tup = (4, 5, 6), (7, 8)\n",
        "nested_tup"
      ]
    },
    {
      "cell_type": "code",
      "execution_count": null,
      "metadata": {
        "id": "hAxXFw8ZrCSn",
        "outputId": "d3e566bf-e37c-4c43-e412-e913488e8066"
      },
      "outputs": [
        {
          "data": {
            "text/plain": [
              "('s', 't', 'r', 'i', 'n', 'g')"
            ]
          },
          "execution_count": 20,
          "metadata": {},
          "output_type": "execute_result"
        }
      ],
      "source": [
        "tuple([4, 0, 2])\n",
        "tup = tuple('string')\n",
        "tup"
      ]
    },
    {
      "cell_type": "code",
      "execution_count": null,
      "metadata": {
        "id": "Y0zcVpfWrCSo",
        "outputId": "6124040b-312f-4415-ec5c-143fefb446c7"
      },
      "outputs": [
        {
          "data": {
            "text/plain": [
              "'s'"
            ]
          },
          "execution_count": 21,
          "metadata": {},
          "output_type": "execute_result"
        }
      ],
      "source": [
        "tup[0]"
      ]
    },
    {
      "cell_type": "code",
      "execution_count": null,
      "metadata": {
        "id": "g9eVStaCrCSo",
        "outputId": "2ed62946-073b-4752-d9c1-469fc57c6579"
      },
      "outputs": [
        {
          "ename": "TypeError",
          "evalue": "'tuple' object does not support item assignment",
          "output_type": "error",
          "traceback": [
            "\u001b[1;31m---------------------------------------------------------------------------\u001b[0m",
            "\u001b[1;31mTypeError\u001b[0m                                 Traceback (most recent call last)",
            "\u001b[1;32m~\\AppData\\Local\\Temp/ipykernel_25588/211141333.py\u001b[0m in \u001b[0;36m<module>\u001b[1;34m\u001b[0m\n\u001b[0;32m      1\u001b[0m \u001b[0mtup\u001b[0m \u001b[1;33m=\u001b[0m \u001b[0mtuple\u001b[0m\u001b[1;33m(\u001b[0m\u001b[1;33m[\u001b[0m\u001b[1;34m'foo'\u001b[0m\u001b[1;33m,\u001b[0m \u001b[1;33m[\u001b[0m\u001b[1;36m1\u001b[0m\u001b[1;33m,\u001b[0m \u001b[1;36m2\u001b[0m\u001b[1;33m]\u001b[0m\u001b[1;33m,\u001b[0m \u001b[1;32mTrue\u001b[0m\u001b[1;33m]\u001b[0m\u001b[1;33m)\u001b[0m\u001b[1;33m\u001b[0m\u001b[1;33m\u001b[0m\u001b[0m\n\u001b[1;32m----> 2\u001b[1;33m \u001b[0mtup\u001b[0m\u001b[1;33m[\u001b[0m\u001b[1;36m2\u001b[0m\u001b[1;33m]\u001b[0m \u001b[1;33m=\u001b[0m \u001b[1;32mFalse\u001b[0m\u001b[1;33m\u001b[0m\u001b[1;33m\u001b[0m\u001b[0m\n\u001b[0m",
            "\u001b[1;31mTypeError\u001b[0m: 'tuple' object does not support item assignment"
          ]
        }
      ],
      "source": [
        "tup = tuple(['foo', [1, 2], True])\n",
        "tup[2] = False"
      ]
    },
    {
      "cell_type": "code",
      "execution_count": null,
      "metadata": {
        "id": "2AtBqUY-rCSo",
        "outputId": "c86fa2c3-ff42-4d3f-bb0f-56463c528b16"
      },
      "outputs": [
        {
          "data": {
            "text/plain": [
              "('foo', [1, 2, 3], True)"
            ]
          },
          "execution_count": 23,
          "metadata": {},
          "output_type": "execute_result"
        }
      ],
      "source": [
        "tup[1].append(3)\n",
        "tup"
      ]
    },
    {
      "cell_type": "code",
      "execution_count": null,
      "metadata": {
        "id": "MrRWlaIwrCSo",
        "outputId": "325683f2-a179-43e8-df22-e4061f4b9036"
      },
      "outputs": [
        {
          "data": {
            "text/plain": [
              "(4, None, 'foo', 6, 0, 'bar')"
            ]
          },
          "execution_count": 24,
          "metadata": {},
          "output_type": "execute_result"
        }
      ],
      "source": [
        "(4, None, 'foo') + (6, 0) + ('bar',)"
      ]
    },
    {
      "cell_type": "code",
      "execution_count": null,
      "metadata": {
        "id": "90PmOPF0rCSp",
        "outputId": "b3150819-0b89-431e-e370-463697bd2427"
      },
      "outputs": [
        {
          "data": {
            "text/plain": [
              "('foo', 'bar', 'foo', 'bar', 'foo', 'bar', 'foo', 'bar')"
            ]
          },
          "execution_count": 25,
          "metadata": {},
          "output_type": "execute_result"
        }
      ],
      "source": [
        "('foo', 'bar') * 4"
      ]
    },
    {
      "cell_type": "markdown",
      "metadata": {
        "id": "pwds5SDXrCSp"
      },
      "source": [
        "Unpacking tuples"
      ]
    },
    {
      "cell_type": "code",
      "execution_count": null,
      "metadata": {
        "id": "OqVjbyTerCSp",
        "outputId": "f5100e83-3e9d-45a1-c47a-b22695bbc71a"
      },
      "outputs": [
        {
          "data": {
            "text/plain": [
              "5"
            ]
          },
          "execution_count": 26,
          "metadata": {},
          "output_type": "execute_result"
        }
      ],
      "source": [
        "tup = (4, 5, 6)\n",
        "a, b, c = tup\n",
        "b"
      ]
    },
    {
      "cell_type": "code",
      "execution_count": null,
      "metadata": {
        "id": "M03gyJEcrCSq",
        "outputId": "b131fd27-5f0f-4677-eef0-62dedf360311"
      },
      "outputs": [
        {
          "data": {
            "text/plain": [
              "7"
            ]
          },
          "execution_count": 27,
          "metadata": {},
          "output_type": "execute_result"
        }
      ],
      "source": [
        "tup = 4, 5, (6, 7)\n",
        "a, b, (c, d) = tup\n",
        "d"
      ]
    },
    {
      "cell_type": "code",
      "execution_count": null,
      "metadata": {
        "id": "xSyszMy_rCSq",
        "outputId": "afeb6039-cdf4-4a4a-cad1-c38ee90dc71b"
      },
      "outputs": [
        {
          "ename": "SyntaxError",
          "evalue": "invalid syntax (Temp/ipykernel_25588/2833571655.py, line 1)",
          "output_type": "error",
          "traceback": [
            "\u001b[1;36m  File \u001b[1;32m\"C:\\Users\\LENOVO\\AppData\\Local\\Temp/ipykernel_25588/2833571655.py\"\u001b[1;36m, line \u001b[1;32m1\u001b[0m\n\u001b[1;33m    tmp = a a = b b = tmp\u001b[0m\n\u001b[1;37m            ^\u001b[0m\n\u001b[1;31mSyntaxError\u001b[0m\u001b[1;31m:\u001b[0m invalid syntax\n"
          ]
        }
      ],
      "source": [
        "tmp = a a = b b = tmp"
      ]
    },
    {
      "cell_type": "code",
      "execution_count": null,
      "metadata": {
        "id": "MXKWzc99rCSq",
        "outputId": "1bf2da2e-98a6-4cc0-be7e-7a817ff6fb7d"
      },
      "outputs": [
        {
          "data": {
            "text/plain": [
              "1"
            ]
          },
          "execution_count": 29,
          "metadata": {},
          "output_type": "execute_result"
        }
      ],
      "source": [
        "a, b = 1, 2\n",
        "a\n",
        "b\n",
        "b, a = a, b\n",
        "a\n",
        "b"
      ]
    },
    {
      "cell_type": "code",
      "execution_count": null,
      "metadata": {
        "id": "dVssULLCrCSq",
        "outputId": "27a5d063-09f9-4289-8b1d-ca0f1e125d9e"
      },
      "outputs": [
        {
          "name": "stdout",
          "output_type": "stream",
          "text": [
            "a=1, b=2, c=3\n",
            "a=4, b=5, c=6\n",
            "a=7, b=8, c=9\n"
          ]
        }
      ],
      "source": [
        "seq = [(1, 2, 3), (4, 5, 6), (7, 8, 9)]\n",
        "for a, b, c in seq:\n",
        "    print('a={0}, b={1}, c={2}'.format(a, b, c))"
      ]
    },
    {
      "cell_type": "code",
      "execution_count": null,
      "metadata": {
        "id": "AZXByswArCSq",
        "outputId": "af01a124-bc2f-43fb-c9fc-1c55655841ab"
      },
      "outputs": [
        {
          "data": {
            "text/plain": [
              "[3, 4, 5]"
            ]
          },
          "execution_count": 31,
          "metadata": {},
          "output_type": "execute_result"
        }
      ],
      "source": [
        "values = 1, 2, 3, 4, 5\n",
        "a, b, *rest = values\n",
        "a, b\n",
        "rest"
      ]
    },
    {
      "cell_type": "code",
      "execution_count": null,
      "metadata": {
        "id": "KuheKWEgrCSr"
      },
      "outputs": [],
      "source": [
        "a, b, *_ = values"
      ]
    },
    {
      "cell_type": "markdown",
      "metadata": {
        "id": "xnHk3fUorCSr"
      },
      "source": [
        "Tuple methods"
      ]
    },
    {
      "cell_type": "code",
      "execution_count": null,
      "metadata": {
        "id": "stwudma_rCSr",
        "outputId": "4fb82421-21d1-4aad-8ee7-f37fe452c786"
      },
      "outputs": [
        {
          "data": {
            "text/plain": [
              "4"
            ]
          },
          "execution_count": 33,
          "metadata": {},
          "output_type": "execute_result"
        }
      ],
      "source": [
        "a = (1, 2, 2, 2, 3, 4, 2)\n",
        "a.count(2)"
      ]
    },
    {
      "cell_type": "markdown",
      "metadata": {
        "id": "wsB4HOy6rCSr"
      },
      "source": [
        "List"
      ]
    },
    {
      "cell_type": "code",
      "execution_count": null,
      "metadata": {
        "id": "pVopysN8rCSr",
        "outputId": "74ec7b11-5f04-4481-c668-91f5a322443c"
      },
      "outputs": [
        {
          "data": {
            "text/plain": [
              "['foo', 'peekaboo', 'baz']"
            ]
          },
          "execution_count": 34,
          "metadata": {},
          "output_type": "execute_result"
        }
      ],
      "source": [
        "a_list = [2, 3, 7, None]\n",
        "tup = ('foo', 'bar', 'baz')\n",
        "b_list = list(tup)\n",
        "b_list\n",
        "b_list[1] = 'peekaboo'\n",
        "b_list"
      ]
    },
    {
      "cell_type": "code",
      "execution_count": null,
      "metadata": {
        "id": "AvKNAqT4rCSs",
        "outputId": "e7a25592-19e6-4f55-8a27-11f7a6f85ca1"
      },
      "outputs": [
        {
          "data": {
            "text/plain": [
              "[0, 1, 2, 3, 4, 5, 6, 7, 8, 9]"
            ]
          },
          "execution_count": 35,
          "metadata": {},
          "output_type": "execute_result"
        }
      ],
      "source": [
        "gen = range(10)\n",
        "gen\n",
        "list(gen)"
      ]
    },
    {
      "cell_type": "markdown",
      "metadata": {
        "id": "cA8154uYrCSs"
      },
      "source": [
        "Adding and removing elements"
      ]
    },
    {
      "cell_type": "code",
      "execution_count": null,
      "metadata": {
        "id": "kBCFHgTLrCSs",
        "outputId": "704a6880-b810-4242-ddd0-78e5b93a6021"
      },
      "outputs": [
        {
          "data": {
            "text/plain": [
              "['foo', 'peekaboo', 'baz', 'dwarf']"
            ]
          },
          "execution_count": 36,
          "metadata": {},
          "output_type": "execute_result"
        }
      ],
      "source": [
        "b_list.append('dwarf')\n",
        "b_list"
      ]
    },
    {
      "cell_type": "code",
      "execution_count": null,
      "metadata": {
        "id": "lbLSSEydrCSt",
        "outputId": "a816b8f9-08c0-482d-c027-bfd672d3f5d8"
      },
      "outputs": [
        {
          "data": {
            "text/plain": [
              "['foo', 'red', 'peekaboo', 'baz', 'dwarf']"
            ]
          },
          "execution_count": 37,
          "metadata": {},
          "output_type": "execute_result"
        }
      ],
      "source": [
        "b_list.insert(1, 'red')\n",
        "b_list"
      ]
    },
    {
      "cell_type": "code",
      "execution_count": null,
      "metadata": {
        "id": "16HHREQXrCSt",
        "outputId": "224bb1b1-e02d-4718-b66f-29a8f27a2a46"
      },
      "outputs": [
        {
          "data": {
            "text/plain": [
              "['foo', 'red', 'baz', 'dwarf']"
            ]
          },
          "execution_count": 38,
          "metadata": {},
          "output_type": "execute_result"
        }
      ],
      "source": [
        "b_list.pop(2)\n",
        "b_list"
      ]
    },
    {
      "cell_type": "code",
      "execution_count": null,
      "metadata": {
        "id": "J9mlXldurCSu",
        "outputId": "59ebfef0-f674-468f-a2c0-0ddaf844033e"
      },
      "outputs": [
        {
          "data": {
            "text/plain": [
              "['red', 'baz', 'dwarf', 'foo']"
            ]
          },
          "execution_count": 39,
          "metadata": {},
          "output_type": "execute_result"
        }
      ],
      "source": [
        "b_list.append('foo')\n",
        "b_list\n",
        "b_list.remove('foo')\n",
        "b_list"
      ]
    },
    {
      "cell_type": "code",
      "execution_count": null,
      "metadata": {
        "id": "dzTQKuUxrCSu",
        "outputId": "88ea0002-7a56-4677-c856-073a4456f398"
      },
      "outputs": [
        {
          "data": {
            "text/plain": [
              "True"
            ]
          },
          "execution_count": 40,
          "metadata": {},
          "output_type": "execute_result"
        }
      ],
      "source": [
        "'dwarf' in b_list"
      ]
    },
    {
      "cell_type": "code",
      "execution_count": null,
      "metadata": {
        "id": "gQs9l_fOrCSu",
        "outputId": "4eefc481-acf6-48a6-83ea-d20363259aeb"
      },
      "outputs": [
        {
          "data": {
            "text/plain": [
              "False"
            ]
          },
          "execution_count": 41,
          "metadata": {},
          "output_type": "execute_result"
        }
      ],
      "source": [
        "'dwarf' not in b_list"
      ]
    },
    {
      "cell_type": "markdown",
      "metadata": {
        "id": "nPIsB0KArCSv"
      },
      "source": [
        "Concatenating and combining lists"
      ]
    },
    {
      "cell_type": "code",
      "execution_count": null,
      "metadata": {
        "id": "uC5PVNI6rCSv",
        "outputId": "7008722c-391f-4eb8-9f3f-d037db555da5"
      },
      "outputs": [
        {
          "data": {
            "text/plain": [
              "[4, None, 'foo', 7, 8, (2, 3)]"
            ]
          },
          "execution_count": 42,
          "metadata": {},
          "output_type": "execute_result"
        }
      ],
      "source": [
        "[4, None, 'foo'] + [7, 8, (2, 3)]"
      ]
    },
    {
      "cell_type": "code",
      "execution_count": null,
      "metadata": {
        "id": "lv4oXY-srCSv",
        "outputId": "530ff121-a9ba-4079-b83c-35967a6c6c59"
      },
      "outputs": [
        {
          "data": {
            "text/plain": [
              "[4, None, 'foo', 7, 8, (2, 3)]"
            ]
          },
          "execution_count": 43,
          "metadata": {},
          "output_type": "execute_result"
        }
      ],
      "source": [
        "x = [4, None, 'foo']\n",
        "x.extend([7, 8, (2, 3)])\n",
        "x"
      ]
    },
    {
      "cell_type": "markdown",
      "metadata": {
        "id": "XrJ_YaP8rCSv"
      },
      "source": [
        "everything = [] for chunk in list_of_lists: everything.extend(chunk)\n",
        "\n",
        "everything = [] for chunk in list_of_lists: everything = everything + chunk"
      ]
    },
    {
      "cell_type": "markdown",
      "metadata": {
        "id": "7mmEFdIXrCSw"
      },
      "source": [
        "Sorting"
      ]
    },
    {
      "cell_type": "code",
      "execution_count": null,
      "metadata": {
        "id": "W7oje6BqrCSw",
        "outputId": "b97f78e6-4113-466b-cba0-ba08caf800bc"
      },
      "outputs": [
        {
          "data": {
            "text/plain": [
              "[1, 2, 3, 5, 7]"
            ]
          },
          "execution_count": 44,
          "metadata": {},
          "output_type": "execute_result"
        }
      ],
      "source": [
        "a = [7, 2, 5, 1, 3]\n",
        "a.sort()\n",
        "a"
      ]
    },
    {
      "cell_type": "code",
      "execution_count": null,
      "metadata": {
        "id": "vEUVq-qOrCSw",
        "outputId": "40dfd1d0-8803-42e2-8f42-3836f7991d96"
      },
      "outputs": [
        {
          "data": {
            "text/plain": [
              "['He', 'saw', 'six', 'small', 'foxes']"
            ]
          },
          "execution_count": 45,
          "metadata": {},
          "output_type": "execute_result"
        }
      ],
      "source": [
        "b = ['saw', 'small', 'He', 'foxes', 'six']\n",
        "b.sort(key=len)\n",
        "b"
      ]
    },
    {
      "cell_type": "markdown",
      "metadata": {
        "id": "Nvll-OIxrCSw"
      },
      "source": [
        "Binary search and maintaining a sorted list"
      ]
    },
    {
      "cell_type": "code",
      "execution_count": null,
      "metadata": {
        "id": "_Br1udeYrCSw",
        "outputId": "6119aa0e-433c-4887-e64e-6d6a52c95cf6"
      },
      "outputs": [
        {
          "data": {
            "text/plain": [
              "[1, 2, 2, 2, 3, 4, 6, 7]"
            ]
          },
          "execution_count": 46,
          "metadata": {},
          "output_type": "execute_result"
        }
      ],
      "source": [
        "import bisect\n",
        "c = [1, 2, 2, 2, 3, 4, 7]\n",
        "bisect.bisect(c, 2)\n",
        "bisect.bisect(c, 5)\n",
        "bisect.insort(c, 6)\n",
        "c"
      ]
    },
    {
      "cell_type": "markdown",
      "metadata": {
        "id": "xWHZnUqxrCSx"
      },
      "source": [
        "Slicing"
      ]
    },
    {
      "cell_type": "code",
      "execution_count": null,
      "metadata": {
        "id": "Bf3LOexZrCSx",
        "outputId": "e569487e-f724-4162-dfaf-3876049935f2"
      },
      "outputs": [
        {
          "data": {
            "text/plain": [
              "[2, 3, 7, 5]"
            ]
          },
          "execution_count": 47,
          "metadata": {},
          "output_type": "execute_result"
        }
      ],
      "source": [
        "seq = [7, 2, 3, 7, 5, 6, 0, 1]\n",
        "seq[1:5]"
      ]
    },
    {
      "cell_type": "code",
      "execution_count": null,
      "metadata": {
        "id": "1Wwsat89rCSx",
        "outputId": "89af01d8-6679-4ed6-ba9d-ae1ec2491e3a"
      },
      "outputs": [
        {
          "data": {
            "text/plain": [
              "[7, 2, 3, 6, 3, 5, 6, 0, 1]"
            ]
          },
          "execution_count": 48,
          "metadata": {},
          "output_type": "execute_result"
        }
      ],
      "source": [
        "seq[3:4] = [6, 3]\n",
        "seq"
      ]
    },
    {
      "cell_type": "code",
      "execution_count": null,
      "metadata": {
        "id": "tzor6KhDrCSy",
        "outputId": "8e4c17b5-cff7-4d52-acd5-b3beeb90cd01"
      },
      "outputs": [
        {
          "data": {
            "text/plain": [
              "[6, 3, 5, 6, 0, 1]"
            ]
          },
          "execution_count": 49,
          "metadata": {},
          "output_type": "execute_result"
        }
      ],
      "source": [
        "seq[:5]\n",
        "seq[3:]"
      ]
    },
    {
      "cell_type": "code",
      "execution_count": null,
      "metadata": {
        "id": "JBtssnZ6rCSy",
        "outputId": "96c3f0ca-2269-4541-a18d-54f22e8ee721"
      },
      "outputs": [
        {
          "data": {
            "text/plain": [
              "[6, 3, 5, 6]"
            ]
          },
          "execution_count": 50,
          "metadata": {},
          "output_type": "execute_result"
        }
      ],
      "source": [
        "seq[-4:]\n",
        "seq[-6:-2]"
      ]
    },
    {
      "cell_type": "code",
      "execution_count": null,
      "metadata": {
        "id": "7TsjO0TlrCSy",
        "outputId": "68eb910f-ad25-460f-9d14-dbc08a776a1f"
      },
      "outputs": [
        {
          "data": {
            "text/plain": [
              "[7, 3, 3, 6, 1]"
            ]
          },
          "execution_count": 51,
          "metadata": {},
          "output_type": "execute_result"
        }
      ],
      "source": [
        "seq[::2]"
      ]
    },
    {
      "cell_type": "code",
      "execution_count": null,
      "metadata": {
        "id": "JRiLUt7irCSy",
        "outputId": "73acf84f-41b4-49c2-93ff-7aeb83c90dc3"
      },
      "outputs": [
        {
          "data": {
            "text/plain": [
              "[7, 3, 3, 6, 1]"
            ]
          },
          "execution_count": 52,
          "metadata": {},
          "output_type": "execute_result"
        }
      ],
      "source": [
        "seq[::2]"
      ]
    },
    {
      "cell_type": "code",
      "execution_count": null,
      "metadata": {
        "id": "lNLVxG_irCSz",
        "outputId": "8bc9cbb0-f8e2-452d-c4eb-471d5a7f19d4"
      },
      "outputs": [
        {
          "data": {
            "text/plain": [
              "[1, 0, 6, 5, 3, 6, 3, 2, 7]"
            ]
          },
          "execution_count": 53,
          "metadata": {},
          "output_type": "execute_result"
        }
      ],
      "source": [
        "seq[::-1]"
      ]
    },
    {
      "cell_type": "markdown",
      "metadata": {
        "id": "G5gt-mgvrCSz"
      },
      "source": [
        "Built-in Sequence Functions"
      ]
    },
    {
      "cell_type": "markdown",
      "metadata": {
        "id": "T5U-ci_HrCSz"
      },
      "source": [
        "enumerate"
      ]
    },
    {
      "cell_type": "markdown",
      "metadata": {
        "id": "OW3-pvkDrCSz"
      },
      "source": [
        "i = 0 for value in collection:"
      ]
    },
    {
      "cell_type": "markdown",
      "metadata": {
        "id": "pTFp3bamrCSz"
      },
      "source": [
        "o something with value"
      ]
    },
    {
      "cell_type": "code",
      "execution_count": null,
      "metadata": {
        "id": "shKIgKz4rCSz"
      },
      "outputs": [],
      "source": [
        "i += 1"
      ]
    },
    {
      "cell_type": "markdown",
      "metadata": {
        "id": "Xzikh1ATrCS0"
      },
      "source": [
        "for i, value in enumerate(collection):"
      ]
    },
    {
      "cell_type": "markdown",
      "metadata": {
        "id": "t9PrOuY2rCS0"
      },
      "source": [
        "do something with value"
      ]
    },
    {
      "cell_type": "code",
      "execution_count": null,
      "metadata": {
        "id": "WVhX8qbprCS0",
        "outputId": "f4849992-432e-4884-adb2-05fa5474e8c2"
      },
      "outputs": [
        {
          "data": {
            "text/plain": [
              "{'foo': 0, 'bar': 1, 'baz': 2}"
            ]
          },
          "execution_count": 56,
          "metadata": {},
          "output_type": "execute_result"
        }
      ],
      "source": [
        "some_list = ['foo', 'bar', 'baz']\n",
        "mapping = {}\n",
        "for i, v in enumerate(some_list):\n",
        "    mapping[v] = i\n",
        "mapping"
      ]
    },
    {
      "cell_type": "markdown",
      "metadata": {
        "id": "e0gYENzorCS0"
      },
      "source": [
        "sorted"
      ]
    },
    {
      "cell_type": "code",
      "execution_count": null,
      "metadata": {
        "id": "qBuMCF8ArCS0",
        "outputId": "bb1bd91b-17e2-447b-93e3-455c02ec8cba"
      },
      "outputs": [
        {
          "data": {
            "text/plain": [
              "[' ', 'a', 'c', 'e', 'e', 'h', 'o', 'r', 'r', 's']"
            ]
          },
          "execution_count": 57,
          "metadata": {},
          "output_type": "execute_result"
        }
      ],
      "source": [
        "sorted([7, 1, 2, 6, 0, 3, 2])\n",
        "sorted('horse race')"
      ]
    },
    {
      "cell_type": "code",
      "execution_count": null,
      "metadata": {
        "id": "P01Xaf3-rCS1",
        "outputId": "856e14ab-eff7-4d8f-a558-0a3b24c84694"
      },
      "outputs": [
        {
          "data": {
            "text/plain": [
              "[('foo', 'one'), ('bar', 'two'), ('baz', 'three')]"
            ]
          },
          "execution_count": 58,
          "metadata": {},
          "output_type": "execute_result"
        }
      ],
      "source": [
        "seq1 = ['foo', 'bar', 'baz']\n",
        "seq2 = ['one', 'two', 'three']\n",
        "zipped = zip(seq1, seq2)\n",
        "list(zipped)"
      ]
    },
    {
      "cell_type": "code",
      "execution_count": null,
      "metadata": {
        "id": "zKmUdX_4rCS1",
        "outputId": "59ee5ea7-60e6-4fe5-b3ad-02f8470b45ea"
      },
      "outputs": [
        {
          "data": {
            "text/plain": [
              "[('foo', 'one', False), ('bar', 'two', True)]"
            ]
          },
          "execution_count": 59,
          "metadata": {},
          "output_type": "execute_result"
        }
      ],
      "source": [
        "seq3 = [False, True]\n",
        "list(zip(seq1, seq2, seq3))"
      ]
    },
    {
      "cell_type": "code",
      "execution_count": null,
      "metadata": {
        "id": "UDz1FauArCS1",
        "outputId": "6634b114-b070-4c2b-b99c-2b8044674440"
      },
      "outputs": [
        {
          "name": "stdout",
          "output_type": "stream",
          "text": [
            "0: foo, one\n",
            "1: bar, two\n",
            "2: baz, three\n"
          ]
        }
      ],
      "source": [
        "for i, (a, b) in enumerate(zip(seq1, seq2)):\n",
        "    print('{0}: {1}, {2}'.format(i, a, b))"
      ]
    },
    {
      "cell_type": "code",
      "execution_count": null,
      "metadata": {
        "id": "1Xj9-2cjrCS1",
        "outputId": "97dbec7c-d185-4724-83d5-63d590d30002"
      },
      "outputs": [
        {
          "data": {
            "text/plain": [
              "('Ryan', 'Clemens', 'Curt')"
            ]
          },
          "execution_count": 61,
          "metadata": {},
          "output_type": "execute_result"
        }
      ],
      "source": [
        "pitchers = [('Nolan', 'Ryan'), ('Roger', 'Clemens'),\n",
        "            ('Schilling', 'Curt')]\n",
        "first_names, last_names = zip(*pitchers)\n",
        "first_names\n",
        "last_names"
      ]
    },
    {
      "cell_type": "markdown",
      "metadata": {
        "id": "zTTgYn8XrCS2"
      },
      "source": [
        "reversed"
      ]
    },
    {
      "cell_type": "code",
      "execution_count": null,
      "metadata": {
        "id": "IrUHjHYDrCS2"
      },
      "outputs": [],
      "source": [
        ""
      ]
    }
  ],
  "metadata": {
    "interpreter": {
      "hash": "7679c2132d3f6ce38c9df14d554b39c06862b36a4e6689c81f9ae15bd0911d7d"
    },
    "kernelspec": {
      "display_name": "Python 3.9.7 ('base')",
      "language": "python",
      "name": "python3"
    },
    "language_info": {
      "codemirror_mode": {
        "name": "ipython",
        "version": 3
      },
      "file_extension": ".py",
      "mimetype": "text/x-python",
      "name": "python",
      "nbconvert_exporter": "python",
      "pygments_lexer": "ipython3",
      "version": "3.9.7"
    },
    "orig_nbformat": 4,
    "colab": {
      "name": "EDA_Lnz.ipynb",
      "provenance": [],
      "include_colab_link": true
    }
  },
  "nbformat": 4,
  "nbformat_minor": 0
}