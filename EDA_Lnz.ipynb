{
  "cells": [
    {
      "cell_type": "markdown",
      "metadata": {
        "id": "view-in-github",
        "colab_type": "text"
      },
      "source": [
        "<a href=\"https://colab.research.google.com/github/TBKHori/Data-Analysis-Refresher-notes/blob/main/EDA_Lnz.ipynb\" target=\"_parent\"><img src=\"https://colab.research.google.com/assets/colab-badge.svg\" alt=\"Open In Colab\"/></a>"
      ]
    },
    {
      "cell_type": "markdown",
      "metadata": {
        "id": "xnxcKunQIuSL"
      },
      "source": [
        "Introspection"
      ]
    },
    {
      "cell_type": "code",
      "execution_count": null,
      "metadata": {
        "id": "qB-fGHRRIuSU"
      },
      "outputs": [],
      "source": [
        "b = [1, 2, 3]\n"
      ]
    },
    {
      "cell_type": "code",
      "execution_count": null,
      "metadata": {
        "id": "3ggIyCBqIuSX",
        "outputId": "3c1f71ca-63ea-4aba-be04-ec22c28af1ef"
      },
      "outputs": [
        {
          "name": "stdout",
          "output_type": "stream",
          "text": [
            "\u001b[1;31mType:\u001b[0m        list\n",
            "\u001b[1;31mString form:\u001b[0m [1, 2, 3]\n",
            "\u001b[1;31mLength:\u001b[0m      3\n",
            "\u001b[1;31mDocstring:\u001b[0m  \n",
            "Built-in mutable sequence.\n",
            "\n",
            "If no argument is given, the constructor creates a new empty list.\n",
            "The argument must be an iterable if specified.\n"
          ]
        }
      ],
      "source": [
        "b?"
      ]
    },
    {
      "cell_type": "code",
      "execution_count": null,
      "metadata": {
        "id": "itZJFMZkIuSY",
        "outputId": "f9cd00b1-6a6d-449c-e41f-f36475e90758"
      },
      "outputs": [
        {
          "name": "stdout",
          "output_type": "stream",
          "text": [
            "\u001b[1;31mDocstring:\u001b[0m\n",
            "print(value, ..., sep=' ', end='\\n', file=sys.stdout, flush=False)\n",
            "\n",
            "Prints the values to a stream, or to sys.stdout by default.\n",
            "Optional keyword arguments:\n",
            "file:  a file-like object (stream); defaults to the current sys.stdout.\n",
            "sep:   string inserted between values, default a space.\n",
            "end:   string appended after the last value, default a newline.\n",
            "flush: whether to forcibly flush the stream.\n",
            "\u001b[1;31mType:\u001b[0m      builtin_function_or_method\n"
          ]
        }
      ],
      "source": [
        "print?"
      ]
    },
    {
      "cell_type": "code",
      "execution_count": null,
      "metadata": {
        "id": "Jr5jLa8vIuSZ"
      },
      "outputs": [],
      "source": [
        "def add_numbers(a, b):\n",
        "    \"\"\"\n",
        "    Add two numbers together\n",
        "\n",
        "    Returns\n",
        "    -------\n",
        "    the_sum : type of arguments\n",
        "    \"\"\"\n",
        "    return a + b"
      ]
    },
    {
      "cell_type": "code",
      "execution_count": null,
      "metadata": {
        "id": "ceP7OemEIuSa",
        "outputId": "88cc1f09-c5c0-4824-fbaa-36ce25a64d31"
      },
      "outputs": [
        {
          "name": "stdout",
          "output_type": "stream",
          "text": [
            "\u001b[1;31mSignature:\u001b[0m \u001b[0madd_numbers\u001b[0m\u001b[1;33m(\u001b[0m\u001b[0ma\u001b[0m\u001b[1;33m,\u001b[0m \u001b[0mb\u001b[0m\u001b[1;33m)\u001b[0m\u001b[1;33m\u001b[0m\u001b[1;33m\u001b[0m\u001b[0m\n",
            "\u001b[1;31mDocstring:\u001b[0m\n",
            "Add two numbers together\n",
            "\n",
            "Returns\n",
            "-------\n",
            "the_sum : type of arguments\n",
            "\u001b[1;31mFile:\u001b[0m      c:\\users\\lenovo\\appdata\\local\\temp\\ipykernel_22472\\1411870314.py\n",
            "\u001b[1;31mType:\u001b[0m      function\n"
          ]
        }
      ],
      "source": [
        "add_numbers?"
      ]
    },
    {
      "cell_type": "code",
      "execution_count": null,
      "metadata": {
        "id": "K10MTRJLIuSb",
        "outputId": "4ffb6587-59b6-4a5c-9ec3-fc78e9194a57"
      },
      "outputs": [
        {
          "name": "stdout",
          "output_type": "stream",
          "text": [
            "\u001b[1;31mSignature:\u001b[0m \u001b[0madd_numbers\u001b[0m\u001b[1;33m(\u001b[0m\u001b[0ma\u001b[0m\u001b[1;33m,\u001b[0m \u001b[0mb\u001b[0m\u001b[1;33m)\u001b[0m\u001b[1;33m\u001b[0m\u001b[1;33m\u001b[0m\u001b[0m\n",
            "\u001b[1;31mDocstring:\u001b[0m\n",
            "Add two numbers together\n",
            "\n",
            "Returns\n",
            "-------\n",
            "the_sum : type of arguments\n",
            "\u001b[1;31mFile:\u001b[0m      c:\\users\\lenovo\\appdata\\local\\temp\\ipykernel_22472\\1411870314.py\n",
            "\u001b[1;31mType:\u001b[0m      function\n"
          ]
        }
      ],
      "source": [
        "add_numbers?"
      ]
    },
    {
      "cell_type": "code",
      "execution_count": null,
      "metadata": {
        "id": "XYLE1yQwIuSb",
        "outputId": "ffec307d-16e8-4c9a-b142-0b773fd44599"
      },
      "outputs": [
        {
          "name": "stdout",
          "output_type": "stream",
          "text": []
        }
      ],
      "source": [
        "np.*load*?"
      ]
    },
    {
      "cell_type": "code",
      "execution_count": null,
      "metadata": {
        "id": "SFL24NE0IuSc"
      },
      "outputs": [],
      "source": [
        "def f(x, y, z):\n",
        "    return (x + y) / z\n",
        "\n",
        "a = 5\n",
        "b = 6\n",
        "c = 7.5\n"
      ]
    },
    {
      "cell_type": "code",
      "execution_count": null,
      "metadata": {
        "id": "jjPkjRtoIuSd",
        "outputId": "6fac6b8d-4509-4c36-cda1-5a438c91016b"
      },
      "outputs": [
        {
          "ename": "Exception",
          "evalue": "File `'ipython_script_test.py'` not found.",
          "output_type": "error",
          "traceback": [
            "\u001b[1;31m---------------------------------------------------------------------------\u001b[0m",
            "\u001b[1;31mOSError\u001b[0m                                   Traceback (most recent call last)",
            "\u001b[1;32mc:\\Users\\LENOVO\\anaconda3\\lib\\site-packages\\IPython\\core\\magics\\execution.py\u001b[0m in \u001b[0;36mrun\u001b[1;34m(self, parameter_s, runner, file_finder)\u001b[0m\n\u001b[0;32m    702\u001b[0m             \u001b[0mfpath\u001b[0m \u001b[1;33m=\u001b[0m \u001b[0marg_lst\u001b[0m\u001b[1;33m[\u001b[0m\u001b[1;36m0\u001b[0m\u001b[1;33m]\u001b[0m\u001b[1;33m\u001b[0m\u001b[1;33m\u001b[0m\u001b[0m\n\u001b[1;32m--> 703\u001b[1;33m             \u001b[0mfilename\u001b[0m \u001b[1;33m=\u001b[0m \u001b[0mfile_finder\u001b[0m\u001b[1;33m(\u001b[0m\u001b[0mfpath\u001b[0m\u001b[1;33m)\u001b[0m\u001b[1;33m\u001b[0m\u001b[1;33m\u001b[0m\u001b[0m\n\u001b[0m\u001b[0;32m    704\u001b[0m         \u001b[1;32mexcept\u001b[0m \u001b[0mIndexError\u001b[0m\u001b[1;33m:\u001b[0m\u001b[1;33m\u001b[0m\u001b[1;33m\u001b[0m\u001b[0m\n",
            "\u001b[1;32mc:\\Users\\LENOVO\\anaconda3\\lib\\site-packages\\IPython\\utils\\path.py\u001b[0m in \u001b[0;36mget_py_filename\u001b[1;34m(name, force_win32)\u001b[0m\n\u001b[0;32m    108\u001b[0m     \u001b[1;32melse\u001b[0m\u001b[1;33m:\u001b[0m\u001b[1;33m\u001b[0m\u001b[1;33m\u001b[0m\u001b[0m\n\u001b[1;32m--> 109\u001b[1;33m         \u001b[1;32mraise\u001b[0m \u001b[0mIOError\u001b[0m\u001b[1;33m(\u001b[0m\u001b[1;34m'File `%r` not found.'\u001b[0m \u001b[1;33m%\u001b[0m \u001b[0mname\u001b[0m\u001b[1;33m)\u001b[0m\u001b[1;33m\u001b[0m\u001b[1;33m\u001b[0m\u001b[0m\n\u001b[0m\u001b[0;32m    110\u001b[0m \u001b[1;33m\u001b[0m\u001b[0m\n",
            "\u001b[1;31mOSError\u001b[0m: File `'ipython_script_test.py'` not found.",
            "\nDuring handling of the above exception, another exception occurred:\n",
            "\u001b[1;31mException\u001b[0m                                 Traceback (most recent call last)",
            "\u001b[1;32m~\\AppData\\Local\\Temp/ipykernel_22472/2494371340.py\u001b[0m in \u001b[0;36m<module>\u001b[1;34m\u001b[0m\n\u001b[1;32m----> 1\u001b[1;33m \u001b[0mget_ipython\u001b[0m\u001b[1;33m(\u001b[0m\u001b[1;33m)\u001b[0m\u001b[1;33m.\u001b[0m\u001b[0mrun_line_magic\u001b[0m\u001b[1;33m(\u001b[0m\u001b[1;34m'run'\u001b[0m\u001b[1;33m,\u001b[0m \u001b[1;34m'ipython_script_test.py'\u001b[0m\u001b[1;33m)\u001b[0m\u001b[1;33m\u001b[0m\u001b[1;33m\u001b[0m\u001b[0m\n\u001b[0m",
            "\u001b[1;32mc:\\Users\\LENOVO\\anaconda3\\lib\\site-packages\\IPython\\core\\interactiveshell.py\u001b[0m in \u001b[0;36mrun_line_magic\u001b[1;34m(self, magic_name, line, _stack_depth)\u001b[0m\n\u001b[0;32m   2349\u001b[0m                 \u001b[0mkwargs\u001b[0m\u001b[1;33m[\u001b[0m\u001b[1;34m'local_ns'\u001b[0m\u001b[1;33m]\u001b[0m \u001b[1;33m=\u001b[0m \u001b[0mself\u001b[0m\u001b[1;33m.\u001b[0m\u001b[0mget_local_scope\u001b[0m\u001b[1;33m(\u001b[0m\u001b[0mstack_depth\u001b[0m\u001b[1;33m)\u001b[0m\u001b[1;33m\u001b[0m\u001b[1;33m\u001b[0m\u001b[0m\n\u001b[0;32m   2350\u001b[0m             \u001b[1;32mwith\u001b[0m \u001b[0mself\u001b[0m\u001b[1;33m.\u001b[0m\u001b[0mbuiltin_trap\u001b[0m\u001b[1;33m:\u001b[0m\u001b[1;33m\u001b[0m\u001b[1;33m\u001b[0m\u001b[0m\n\u001b[1;32m-> 2351\u001b[1;33m                 \u001b[0mresult\u001b[0m \u001b[1;33m=\u001b[0m \u001b[0mfn\u001b[0m\u001b[1;33m(\u001b[0m\u001b[1;33m*\u001b[0m\u001b[0margs\u001b[0m\u001b[1;33m,\u001b[0m \u001b[1;33m**\u001b[0m\u001b[0mkwargs\u001b[0m\u001b[1;33m)\u001b[0m\u001b[1;33m\u001b[0m\u001b[1;33m\u001b[0m\u001b[0m\n\u001b[0m\u001b[0;32m   2352\u001b[0m             \u001b[1;32mreturn\u001b[0m \u001b[0mresult\u001b[0m\u001b[1;33m\u001b[0m\u001b[1;33m\u001b[0m\u001b[0m\n\u001b[0;32m   2353\u001b[0m \u001b[1;33m\u001b[0m\u001b[0m\n",
            "\u001b[1;32mc:\\Users\\LENOVO\\anaconda3\\lib\\site-packages\\decorator.py\u001b[0m in \u001b[0;36mfun\u001b[1;34m(*args, **kw)\u001b[0m\n\u001b[0;32m    230\u001b[0m             \u001b[1;32mif\u001b[0m \u001b[1;32mnot\u001b[0m \u001b[0mkwsyntax\u001b[0m\u001b[1;33m:\u001b[0m\u001b[1;33m\u001b[0m\u001b[1;33m\u001b[0m\u001b[0m\n\u001b[0;32m    231\u001b[0m                 \u001b[0margs\u001b[0m\u001b[1;33m,\u001b[0m \u001b[0mkw\u001b[0m \u001b[1;33m=\u001b[0m \u001b[0mfix\u001b[0m\u001b[1;33m(\u001b[0m\u001b[0margs\u001b[0m\u001b[1;33m,\u001b[0m \u001b[0mkw\u001b[0m\u001b[1;33m,\u001b[0m \u001b[0msig\u001b[0m\u001b[1;33m)\u001b[0m\u001b[1;33m\u001b[0m\u001b[1;33m\u001b[0m\u001b[0m\n\u001b[1;32m--> 232\u001b[1;33m             \u001b[1;32mreturn\u001b[0m \u001b[0mcaller\u001b[0m\u001b[1;33m(\u001b[0m\u001b[0mfunc\u001b[0m\u001b[1;33m,\u001b[0m \u001b[1;33m*\u001b[0m\u001b[1;33m(\u001b[0m\u001b[0mextras\u001b[0m \u001b[1;33m+\u001b[0m \u001b[0margs\u001b[0m\u001b[1;33m)\u001b[0m\u001b[1;33m,\u001b[0m \u001b[1;33m**\u001b[0m\u001b[0mkw\u001b[0m\u001b[1;33m)\u001b[0m\u001b[1;33m\u001b[0m\u001b[1;33m\u001b[0m\u001b[0m\n\u001b[0m\u001b[0;32m    233\u001b[0m     \u001b[0mfun\u001b[0m\u001b[1;33m.\u001b[0m\u001b[0m__name__\u001b[0m \u001b[1;33m=\u001b[0m \u001b[0mfunc\u001b[0m\u001b[1;33m.\u001b[0m\u001b[0m__name__\u001b[0m\u001b[1;33m\u001b[0m\u001b[1;33m\u001b[0m\u001b[0m\n\u001b[0;32m    234\u001b[0m     \u001b[0mfun\u001b[0m\u001b[1;33m.\u001b[0m\u001b[0m__doc__\u001b[0m \u001b[1;33m=\u001b[0m \u001b[0mfunc\u001b[0m\u001b[1;33m.\u001b[0m\u001b[0m__doc__\u001b[0m\u001b[1;33m\u001b[0m\u001b[1;33m\u001b[0m\u001b[0m\n",
            "\u001b[1;32mc:\\Users\\LENOVO\\anaconda3\\lib\\site-packages\\IPython\\core\\magic.py\u001b[0m in \u001b[0;36m<lambda>\u001b[1;34m(f, *a, **k)\u001b[0m\n\u001b[0;32m    185\u001b[0m     \u001b[1;31m# but it's overkill for just that one bit of state.\u001b[0m\u001b[1;33m\u001b[0m\u001b[1;33m\u001b[0m\u001b[0m\n\u001b[0;32m    186\u001b[0m     \u001b[1;32mdef\u001b[0m \u001b[0mmagic_deco\u001b[0m\u001b[1;33m(\u001b[0m\u001b[0marg\u001b[0m\u001b[1;33m)\u001b[0m\u001b[1;33m:\u001b[0m\u001b[1;33m\u001b[0m\u001b[1;33m\u001b[0m\u001b[0m\n\u001b[1;32m--> 187\u001b[1;33m         \u001b[0mcall\u001b[0m \u001b[1;33m=\u001b[0m \u001b[1;32mlambda\u001b[0m \u001b[0mf\u001b[0m\u001b[1;33m,\u001b[0m \u001b[1;33m*\u001b[0m\u001b[0ma\u001b[0m\u001b[1;33m,\u001b[0m \u001b[1;33m**\u001b[0m\u001b[0mk\u001b[0m\u001b[1;33m:\u001b[0m \u001b[0mf\u001b[0m\u001b[1;33m(\u001b[0m\u001b[1;33m*\u001b[0m\u001b[0ma\u001b[0m\u001b[1;33m,\u001b[0m \u001b[1;33m**\u001b[0m\u001b[0mk\u001b[0m\u001b[1;33m)\u001b[0m\u001b[1;33m\u001b[0m\u001b[1;33m\u001b[0m\u001b[0m\n\u001b[0m\u001b[0;32m    188\u001b[0m \u001b[1;33m\u001b[0m\u001b[0m\n\u001b[0;32m    189\u001b[0m         \u001b[1;32mif\u001b[0m \u001b[0mcallable\u001b[0m\u001b[1;33m(\u001b[0m\u001b[0marg\u001b[0m\u001b[1;33m)\u001b[0m\u001b[1;33m:\u001b[0m\u001b[1;33m\u001b[0m\u001b[1;33m\u001b[0m\u001b[0m\n",
            "\u001b[1;32mc:\\Users\\LENOVO\\anaconda3\\lib\\site-packages\\IPython\\core\\magics\\execution.py\u001b[0m in \u001b[0;36mrun\u001b[1;34m(self, parameter_s, runner, file_finder)\u001b[0m\n\u001b[0;32m    712\u001b[0m             \u001b[1;32mif\u001b[0m \u001b[0mos\u001b[0m\u001b[1;33m.\u001b[0m\u001b[0mname\u001b[0m \u001b[1;33m==\u001b[0m \u001b[1;34m'nt'\u001b[0m \u001b[1;32mand\u001b[0m \u001b[0mre\u001b[0m\u001b[1;33m.\u001b[0m\u001b[0mmatch\u001b[0m\u001b[1;33m(\u001b[0m\u001b[1;34mr\"^'.*'$\"\u001b[0m\u001b[1;33m,\u001b[0m\u001b[0mfpath\u001b[0m\u001b[1;33m)\u001b[0m\u001b[1;33m:\u001b[0m\u001b[1;33m\u001b[0m\u001b[1;33m\u001b[0m\u001b[0m\n\u001b[0;32m    713\u001b[0m                 \u001b[0mwarn\u001b[0m\u001b[1;33m(\u001b[0m\u001b[1;34m'For Windows, use double quotes to wrap a filename: %run \"mypath\\\\myfile.py\"'\u001b[0m\u001b[1;33m)\u001b[0m\u001b[1;33m\u001b[0m\u001b[1;33m\u001b[0m\u001b[0m\n\u001b[1;32m--> 714\u001b[1;33m             \u001b[1;32mraise\u001b[0m \u001b[0mException\u001b[0m\u001b[1;33m(\u001b[0m\u001b[0mmsg\u001b[0m\u001b[1;33m)\u001b[0m\u001b[1;33m\u001b[0m\u001b[1;33m\u001b[0m\u001b[0m\n\u001b[0m\u001b[0;32m    715\u001b[0m         \u001b[1;32mexcept\u001b[0m \u001b[0mTypeError\u001b[0m\u001b[1;33m:\u001b[0m\u001b[1;33m\u001b[0m\u001b[1;33m\u001b[0m\u001b[0m\n\u001b[0;32m    716\u001b[0m             \u001b[1;32mif\u001b[0m \u001b[0mfpath\u001b[0m \u001b[1;32min\u001b[0m \u001b[0msys\u001b[0m\u001b[1;33m.\u001b[0m\u001b[0mmeta_path\u001b[0m\u001b[1;33m:\u001b[0m\u001b[1;33m\u001b[0m\u001b[1;33m\u001b[0m\u001b[0m\n",
            "\u001b[1;31mException\u001b[0m: File `'ipython_script_test.py'` not found."
          ]
        }
      ],
      "source": [
        "%run ipython_script_test.py"
      ]
    },
    {
      "cell_type": "code",
      "execution_count": null,
      "metadata": {
        "id": "kifdY0EsIuSf",
        "outputId": "f3aff348-d5c5-4034-8d3a-c812b4054c88"
      },
      "outputs": [
        {
          "data": {
            "text/plain": [
              "7.5"
            ]
          },
          "execution_count": 12,
          "metadata": {},
          "output_type": "execute_result"
        }
      ],
      "source": [
        "c"
      ]
    },
    {
      "cell_type": "code",
      "execution_count": null,
      "metadata": {
        "id": "kf41lH9aIuSf"
      },
      "outputs": [],
      "source": [
        "result = f(a, b, c)"
      ]
    },
    {
      "cell_type": "code",
      "execution_count": null,
      "metadata": {
        "id": "HtTRctkCIuSg",
        "outputId": "11d31b46-ba77-483f-a43b-bd3fd074ab17"
      },
      "outputs": [
        {
          "data": {
            "text/plain": [
              "1.4666666666666666"
            ]
          },
          "execution_count": 14,
          "metadata": {},
          "output_type": "execute_result"
        }
      ],
      "source": [
        "result"
      ]
    },
    {
      "cell_type": "code",
      "execution_count": null,
      "metadata": {
        "id": "jboe-OKxIuSh",
        "outputId": "b92e0ff4-7151-4941-e3f3-373a861d7141"
      },
      "outputs": [
        {
          "ename": "IndentationError",
          "evalue": "unindent does not match any outer indentation level (<tokenize>, line 4)",
          "output_type": "error",
          "traceback": [
            "\u001b[1;36m  File \u001b[1;32m\"<tokenize>\"\u001b[1;36m, line \u001b[1;32m4\u001b[0m\n\u001b[1;33m    a = 5\u001b[0m\n\u001b[1;37m    ^\u001b[0m\n\u001b[1;31mIndentationError\u001b[0m\u001b[1;31m:\u001b[0m unindent does not match any outer indentation level\n"
          ]
        }
      ],
      "source": [
        " def f(x, y, z):\n",
        "        return (x + y) / z\n",
        "\n",
        "    a = 5\n",
        "    b = 6\n",
        "    c = 7.5\n",
        "\n",
        "    result = f(a, b, c)"
      ]
    },
    {
      "cell_type": "code",
      "execution_count": null,
      "metadata": {
        "id": "II7f7lfvIuSi"
      },
      "outputs": [],
      "source": [
        "x = 5\n",
        "y = 7\n",
        "if x > 5:\n",
        "    x += 1\n",
        "\n",
        "    y = 8"
      ]
    },
    {
      "cell_type": "code",
      "execution_count": null,
      "metadata": {
        "id": "0VbbLGAFIuSi",
        "outputId": "b0a9eaa5-ef6e-491c-ce7a-7cca56b89f07"
      },
      "outputs": [
        {
          "name": "stderr",
          "output_type": "stream",
          "text": [
            "UsageError: Line magic function `%paste` not found.\n"
          ]
        }
      ],
      "source": [
        "%paste"
      ]
    },
    {
      "cell_type": "code",
      "execution_count": null,
      "metadata": {
        "id": "4k6DAIqwIuSj",
        "outputId": "5dbc5911-5a05-4dda-ed22-710e7c2a82b8"
      },
      "outputs": [
        {
          "name": "stderr",
          "output_type": "stream",
          "text": [
            "UsageError: Line magic function `%cpaste` not found.\n"
          ]
        }
      ],
      "source": [
        "%cpaste"
      ]
    },
    {
      "cell_type": "code",
      "execution_count": null,
      "metadata": {
        "id": "v6A6Og26IuSj"
      },
      "outputs": [],
      "source": [
        " a = np.random.randn(100, 100)"
      ]
    },
    {
      "cell_type": "code",
      "execution_count": null,
      "metadata": {
        "id": "GyUuwbfaIuSk",
        "outputId": "16161239-d73b-471a-bcc9-6c5ceb57339e"
      },
      "outputs": [
        {
          "ename": "SyntaxError",
          "evalue": "invalid syntax (Temp/ipykernel_21328/1568678299.py, line 2)",
          "output_type": "error",
          "traceback": [
            "\u001b[1;36m  File \u001b[1;32m\"C:\\Users\\LENOVO\\AppData\\Local\\Temp/ipykernel_21328/1568678299.py\"\u001b[1;36m, line \u001b[1;32m2\u001b[0m\n\u001b[1;33m    10000 loops, best of 3: 20.9 µs per loop\u001b[0m\n\u001b[1;37m          ^\u001b[0m\n\u001b[1;31mSyntaxError\u001b[0m\u001b[1;31m:\u001b[0m invalid syntax\n"
          ]
        }
      ],
      "source": [
        "%timeit np.dot(a, a)\n",
        "10000 loops, best of 3: 20.9 µs per loop"
      ]
    },
    {
      "cell_type": "code",
      "execution_count": null,
      "metadata": {
        "id": "Yl1zLYW5IuSk"
      },
      "outputs": [],
      "source": [
        "import numpy as np\n",
        "import pandas as pd"
      ]
    },
    {
      "cell_type": "code",
      "execution_count": null,
      "metadata": {
        "id": "Cft86FUSIuSl",
        "outputId": "592cda62-ef57-4529-b8dc-2f15270eedeb"
      },
      "outputs": [
        {
          "name": "stdout",
          "output_type": "stream",
          "text": [
            "\u001b[1;31mDocstring:\u001b[0m\n",
            "::\n",
            "\n",
            "  %debug [--breakpoint FILE:LINE] [statement ...]\n",
            "\n",
            "Activate the interactive debugger.\n",
            "\n",
            "This magic command support two ways of activating debugger.\n",
            "One is to activate debugger before executing code.  This way, you\n",
            "can set a break point, to step through the code from the point.\n",
            "You can use this mode by giving statements to execute and optionally\n",
            "a breakpoint.\n",
            "\n",
            "The other one is to activate debugger in post-mortem mode.  You can\n",
            "activate this mode simply running %debug without any argument.\n",
            "If an exception has just occurred, this lets you inspect its stack\n",
            "frames interactively.  Note that this will always work only on the last\n",
            "traceback that occurred, so you must call this quickly after an\n",
            "exception that you wish to inspect has fired, because if another one\n",
            "occurs, it clobbers the previous one.\n",
            "\n",
            "If you want IPython to automatically do this on every exception, see\n",
            "the %pdb magic for more details.\n",
            "\n",
            ".. versionchanged:: 7.3\n",
            "    When running code, user variables are no longer expanded,\n",
            "    the magic line is always left unmodified.\n",
            "\n",
            "positional arguments:\n",
            "  statement             Code to run in debugger. You can omit this in cell\n",
            "                        magic mode.\n",
            "\n",
            "optional arguments:\n",
            "  --breakpoint <FILE:LINE>, -b <FILE:LINE>\n",
            "                        Set break point at LINE in FILE.\n",
            "\u001b[1;31mFile:\u001b[0m      c:\\users\\lenovo\\anaconda3\\lib\\site-packages\\ipython\\core\\magics\\execution.py\n"
          ]
        }
      ],
      "source": [
        "%debug?"
      ]
    },
    {
      "cell_type": "code",
      "execution_count": null,
      "metadata": {
        "id": "W7d9HONOIuSl",
        "outputId": "977e59d3-041e-40dc-be4e-4900c27868b0"
      },
      "outputs": [
        {
          "ename": "NameError",
          "evalue": "name 'array' is not defined",
          "output_type": "error",
          "traceback": [
            "\u001b[1;31m---------------------------------------------------------------------------\u001b[0m",
            "\u001b[1;31mNameError\u001b[0m                                 Traceback (most recent call last)",
            "\u001b[1;32m~\\AppData\\Local\\Temp/ipykernel_21328/2236243969.py\u001b[0m in \u001b[0;36m<module>\u001b[1;34m\u001b[0m\n\u001b[1;32m----> 1\u001b[1;33m \u001b[1;32mfor\u001b[0m \u001b[0mx\u001b[0m \u001b[1;32min\u001b[0m \u001b[0marray\u001b[0m\u001b[1;33m:\u001b[0m\u001b[1;33m\u001b[0m\u001b[1;33m\u001b[0m\u001b[0m\n\u001b[0m\u001b[0;32m      2\u001b[0m     \u001b[1;32mif\u001b[0m \u001b[0mx\u001b[0m \u001b[1;33m<\u001b[0m \u001b[0mpivot\u001b[0m\u001b[1;33m:\u001b[0m\u001b[1;33m\u001b[0m\u001b[1;33m\u001b[0m\u001b[0m\n\u001b[0;32m      3\u001b[0m         \u001b[0mless\u001b[0m\u001b[1;33m.\u001b[0m\u001b[0mappend\u001b[0m\u001b[1;33m(\u001b[0m\u001b[0mx\u001b[0m\u001b[1;33m)\u001b[0m\u001b[1;33m\u001b[0m\u001b[1;33m\u001b[0m\u001b[0m\n\u001b[0;32m      4\u001b[0m     \u001b[1;32melse\u001b[0m\u001b[1;33m:\u001b[0m\u001b[1;33m\u001b[0m\u001b[1;33m\u001b[0m\u001b[0m\n\u001b[0;32m      5\u001b[0m         \u001b[0mgreater\u001b[0m\u001b[1;33m.\u001b[0m\u001b[0mappend\u001b[0m\u001b[1;33m(\u001b[0m\u001b[0mx\u001b[0m\u001b[1;33m)\u001b[0m\u001b[1;33m\u001b[0m\u001b[1;33m\u001b[0m\u001b[0m\n",
            "\u001b[1;31mNameError\u001b[0m: name 'array' is not defined"
          ]
        }
      ],
      "source": [
        "for x in array:\n",
        "    if x < pivot:\n",
        "        less.append(x)\n",
        "    else:\n",
        "        greater.append(x)\n",
        "a = 5; b = 6; c = 7"
      ]
    },
    {
      "cell_type": "code",
      "execution_count": null,
      "metadata": {
        "id": "cFeN9SHAIuSm"
      },
      "outputs": [],
      "source": [
        "results = []"
      ]
    },
    {
      "cell_type": "code",
      "execution_count": null,
      "metadata": {
        "id": "BcEUYuTGIuS2",
        "outputId": "62a7ec80-79d0-4ecb-8871-24a559bb73d1"
      },
      "outputs": [
        {
          "ename": "NameError",
          "evalue": "name 'f' is not defined",
          "output_type": "error",
          "traceback": [
            "\u001b[1;31m---------------------------------------------------------------------------\u001b[0m",
            "\u001b[1;31mNameError\u001b[0m                                 Traceback (most recent call last)",
            "\u001b[1;32m~\\AppData\\Local\\Temp/ipykernel_21328/3051952510.py\u001b[0m in \u001b[0;36m<module>\u001b[1;34m\u001b[0m\n\u001b[1;32m----> 1\u001b[1;33m \u001b[0mresult\u001b[0m \u001b[1;33m=\u001b[0m \u001b[0mf\u001b[0m\u001b[1;33m(\u001b[0m\u001b[0mx\u001b[0m\u001b[1;33m,\u001b[0m \u001b[0my\u001b[0m\u001b[1;33m,\u001b[0m \u001b[0mz\u001b[0m\u001b[1;33m)\u001b[0m\u001b[1;33m\u001b[0m\u001b[1;33m\u001b[0m\u001b[0m\n\u001b[0m\u001b[0;32m      2\u001b[0m \u001b[0mg\u001b[0m\u001b[1;33m(\u001b[0m\u001b[1;33m)\u001b[0m\u001b[1;33m\u001b[0m\u001b[1;33m\u001b[0m\u001b[0m\n\u001b[0;32m      3\u001b[0m \u001b[0mobj\u001b[0m\u001b[1;33m.\u001b[0m\u001b[0msome_method\u001b[0m\u001b[1;33m(\u001b[0m\u001b[0mx\u001b[0m\u001b[1;33m,\u001b[0m \u001b[0my\u001b[0m\u001b[1;33m,\u001b[0m \u001b[0mz\u001b[0m\u001b[1;33m)\u001b[0m\u001b[1;33m\u001b[0m\u001b[1;33m\u001b[0m\u001b[0m\n\u001b[0;32m      4\u001b[0m \u001b[0mresult\u001b[0m \u001b[1;33m=\u001b[0m \u001b[0mf\u001b[0m\u001b[1;33m(\u001b[0m\u001b[0ma\u001b[0m\u001b[1;33m,\u001b[0m \u001b[0mb\u001b[0m\u001b[1;33m,\u001b[0m \u001b[0mc\u001b[0m\u001b[1;33m,\u001b[0m \u001b[0md\u001b[0m\u001b[1;33m=\u001b[0m\u001b[1;36m5\u001b[0m\u001b[1;33m,\u001b[0m \u001b[0me\u001b[0m\u001b[1;33m=\u001b[0m\u001b[1;34m'foo'\u001b[0m\u001b[1;33m)\u001b[0m\u001b[1;33m\u001b[0m\u001b[1;33m\u001b[0m\u001b[0m\n",
            "\u001b[1;31mNameError\u001b[0m: name 'f' is not defined"
          ]
        }
      ],
      "source": [
        "result = f(x, y, z)\n",
        "g()\n",
        "obj.some_method(x, y, z)\n",
        "result = f(a, b, c, d=5, e='foo')"
      ]
    },
    {
      "cell_type": "code",
      "execution_count": null,
      "metadata": {
        "id": "GmEzBNgIIuS3"
      },
      "outputs": [],
      "source": [
        "a = [1, 2, 3]"
      ]
    },
    {
      "cell_type": "code",
      "execution_count": null,
      "metadata": {
        "id": "hVvq7o6kIuS3"
      },
      "outputs": [],
      "source": [
        "b = a"
      ]
    },
    {
      "cell_type": "code",
      "execution_count": null,
      "metadata": {
        "id": "w141sj9yIuS3",
        "outputId": "901b9ebb-a3c7-4ceb-f910-4a817cf9402e"
      },
      "outputs": [
        {
          "data": {
            "text/plain": [
              "[1, 2, 3, 4]"
            ]
          },
          "execution_count": 18,
          "metadata": {},
          "output_type": "execute_result"
        }
      ],
      "source": [
        "a.append(4)\n",
        "b"
      ]
    },
    {
      "cell_type": "code",
      "execution_count": null,
      "metadata": {
        "id": "T_nlhfUaIuS3"
      },
      "outputs": [],
      "source": [
        " data = [1, 2, 3]"
      ]
    },
    {
      "cell_type": "code",
      "execution_count": null,
      "metadata": {
        "id": "IBA4Q205IuS4",
        "outputId": "592ce4e2-2a20-4e0f-d241-1a82a23594a1"
      },
      "outputs": [
        {
          "ename": "NameError",
          "evalue": "name 'append_element' is not defined",
          "output_type": "error",
          "traceback": [
            "\u001b[1;31m---------------------------------------------------------------------------\u001b[0m",
            "\u001b[1;31mNameError\u001b[0m                                 Traceback (most recent call last)",
            "\u001b[1;32m~\\AppData\\Local\\Temp/ipykernel_21328/1191366003.py\u001b[0m in \u001b[0;36m<module>\u001b[1;34m\u001b[0m\n\u001b[1;32m----> 1\u001b[1;33m \u001b[0mappend_element\u001b[0m\u001b[1;33m(\u001b[0m\u001b[0mdata\u001b[0m\u001b[1;33m,\u001b[0m \u001b[1;36m4\u001b[0m\u001b[1;33m)\u001b[0m\u001b[1;33m\u001b[0m\u001b[1;33m\u001b[0m\u001b[0m\n\u001b[0m",
            "\u001b[1;31mNameError\u001b[0m: name 'append_element' is not defined"
          ]
        }
      ],
      "source": [
        "append_element(data, 4)\n"
      ]
    },
    {
      "cell_type": "code",
      "execution_count": null,
      "metadata": {
        "id": "tDqmw-_XIuS4",
        "outputId": "776bdec5-6f77-4348-ba66-9d2f59ca61fb"
      },
      "outputs": [
        {
          "data": {
            "text/plain": [
              "str"
            ]
          },
          "execution_count": 21,
          "metadata": {},
          "output_type": "execute_result"
        }
      ],
      "source": [
        "a = 5\n",
        "type(a)\n",
        "a = 'foo'\n",
        "type(a)"
      ]
    },
    {
      "cell_type": "code",
      "execution_count": null,
      "metadata": {
        "id": "FV8jFAR6IuS4",
        "outputId": "65ad89f5-cc4e-4e0b-9639-901c53626901"
      },
      "outputs": [
        {
          "ename": "SyntaxError",
          "evalue": "EOL while scanning string literal (Temp/ipykernel_21328/757742399.py, line 1)",
          "output_type": "error",
          "traceback": [
            "\u001b[1;36m  File \u001b[1;32m\"C:\\Users\\LENOVO\\AppData\\Local\\Temp/ipykernel_21328/757742399.py\"\u001b[1;36m, line \u001b[1;32m1\u001b[0m\n\u001b[1;33m    5' + 5\u001b[0m\n\u001b[1;37m          ^\u001b[0m\n\u001b[1;31mSyntaxError\u001b[0m\u001b[1;31m:\u001b[0m EOL while scanning string literal\n"
          ]
        }
      ],
      "source": [
        "5' + 5"
      ]
    },
    {
      "cell_type": "code",
      "execution_count": null,
      "metadata": {
        "id": "5HdgSZymIuS4",
        "outputId": "21f51807-2421-4a45-8b47-5ca36f8b2162"
      },
      "outputs": [
        {
          "name": "stdout",
          "output_type": "stream",
          "text": [
            "a is <class 'float'>, b is <class 'int'>\n"
          ]
        },
        {
          "data": {
            "text/plain": [
              "2.25"
            ]
          },
          "execution_count": 23,
          "metadata": {},
          "output_type": "execute_result"
        }
      ],
      "source": [
        "a = 4.5\n",
        "b = 2\n",
        "# String formatting, to be visited later\n",
        "print('a is {0}, b is {1}'.format(type(a), type(b)))\n",
        "a / b"
      ]
    },
    {
      "cell_type": "code",
      "execution_count": null,
      "metadata": {
        "id": "adgbvjL1IuS5",
        "outputId": "021d4d1f-05f7-4642-9227-acbbc850172c"
      },
      "outputs": [
        {
          "data": {
            "text/plain": [
              "True"
            ]
          },
          "execution_count": 24,
          "metadata": {},
          "output_type": "execute_result"
        }
      ],
      "source": [
        "a = 5\n",
        "isinstance(a, int)"
      ]
    },
    {
      "cell_type": "code",
      "execution_count": null,
      "metadata": {
        "id": "iuUK_6oQIuS5",
        "outputId": "8fb360ff-4539-4e7a-d028-54a4c5c488fa"
      },
      "outputs": [
        {
          "data": {
            "text/plain": [
              "True"
            ]
          },
          "execution_count": 25,
          "metadata": {},
          "output_type": "execute_result"
        }
      ],
      "source": [
        "a = 5; b = 4.5\n",
        "isinstance(a, (int, float))\n",
        "isinstance(b, (int, float))"
      ]
    },
    {
      "cell_type": "code",
      "execution_count": null,
      "metadata": {
        "id": "OZgJ7pf7IuS5"
      },
      "outputs": [],
      "source": [
        "a = 'foo'\n"
      ]
    },
    {
      "cell_type": "code",
      "execution_count": null,
      "metadata": {
        "id": "TTQJxR1lIuS5",
        "outputId": "d4e953e0-6e60-4be4-ddfb-c05227a4dcbd"
      },
      "outputs": [
        {
          "data": {
            "text/plain": [
              "<function str.split(sep=None, maxsplit=-1)>"
            ]
          },
          "execution_count": 27,
          "metadata": {},
          "output_type": "execute_result"
        }
      ],
      "source": [
        "getattr(a, 'split')"
      ]
    },
    {
      "cell_type": "code",
      "execution_count": null,
      "metadata": {
        "id": "JRAeg2fCIuS6"
      },
      "outputs": [],
      "source": [
        "def isiterable(obj):\n",
        "    try:\n",
        "        iter(obj)\n",
        "        return True\n",
        "    except TypeError: # not iterable\n",
        "        return False"
      ]
    },
    {
      "cell_type": "code",
      "execution_count": null,
      "metadata": {
        "id": "9XsumWn8IuS6",
        "outputId": "8724dfc3-e1c7-4940-abaa-95b003995e80"
      },
      "outputs": [
        {
          "data": {
            "text/plain": [
              "False"
            ]
          },
          "execution_count": 29,
          "metadata": {},
          "output_type": "execute_result"
        }
      ],
      "source": [
        "isiterable('a string')\n",
        "isiterable([1, 2, 3])\n",
        "isiterable(5)"
      ]
    },
    {
      "cell_type": "code",
      "execution_count": null,
      "metadata": {
        "id": "p4BuQ1z0IuS6",
        "outputId": "41463fa0-5ced-4faa-9226-e80792154052"
      },
      "outputs": [
        {
          "data": {
            "text/plain": [
              "False"
            ]
          },
          "execution_count": 30,
          "metadata": {},
          "output_type": "execute_result"
        }
      ],
      "source": [
        "5 - 7\n",
        "12 + 21.5\n",
        "5 <= 2"
      ]
    },
    {
      "cell_type": "code",
      "execution_count": null,
      "metadata": {
        "id": "uaS0PpxmIuS7",
        "outputId": "bc74581c-05ad-4282-edc0-805f0dc512d3"
      },
      "outputs": [
        {
          "data": {
            "text/plain": [
              "True"
            ]
          },
          "execution_count": 31,
          "metadata": {},
          "output_type": "execute_result"
        }
      ],
      "source": [
        "a = [1, 2, 3]\n",
        "b = a\n",
        "c = list(a)\n",
        "a is b\n",
        "a is not c"
      ]
    },
    {
      "cell_type": "code",
      "execution_count": null,
      "metadata": {
        "id": "tfBuvOq7IuS7",
        "outputId": "c45f0538-25c3-41ff-a9d7-d6ef925d558c"
      },
      "outputs": [
        {
          "data": {
            "text/plain": [
              "True"
            ]
          },
          "execution_count": 32,
          "metadata": {},
          "output_type": "execute_result"
        }
      ],
      "source": [
        "a == c"
      ]
    },
    {
      "cell_type": "code",
      "execution_count": null,
      "metadata": {
        "id": "GIxtsNb1IuS7",
        "outputId": "d245a104-ebc0-4a3b-ec89-71d993b7d1d8"
      },
      "outputs": [
        {
          "data": {
            "text/plain": [
              "True"
            ]
          },
          "execution_count": 33,
          "metadata": {},
          "output_type": "execute_result"
        }
      ],
      "source": [
        "a = None\n",
        "a is None"
      ]
    },
    {
      "cell_type": "code",
      "execution_count": null,
      "metadata": {
        "id": "mJI0IH89IuS7",
        "outputId": "9d0db0d4-a0d7-4807-e2ff-2a484b284879"
      },
      "outputs": [
        {
          "data": {
            "text/plain": [
              "['foo', 2, (3, 4)]"
            ]
          },
          "execution_count": 34,
          "metadata": {},
          "output_type": "execute_result"
        }
      ],
      "source": [
        "a_list = ['foo', 2, [4, 5]]\n",
        "a_list[2] = (3, 4)\n",
        "a_list"
      ]
    },
    {
      "cell_type": "code",
      "execution_count": null,
      "metadata": {
        "id": "N92_NvpuIuS8",
        "outputId": "66a5bed1-4c32-4535-8640-d6b854c0cfca"
      },
      "outputs": [
        {
          "ename": "TypeError",
          "evalue": "'tuple' object does not support item assignment",
          "output_type": "error",
          "traceback": [
            "\u001b[1;31m---------------------------------------------------------------------------\u001b[0m",
            "\u001b[1;31mTypeError\u001b[0m                                 Traceback (most recent call last)",
            "\u001b[1;32m~\\AppData\\Local\\Temp/ipykernel_21328/20515229.py\u001b[0m in \u001b[0;36m<module>\u001b[1;34m\u001b[0m\n\u001b[0;32m      1\u001b[0m \u001b[0ma_tuple\u001b[0m \u001b[1;33m=\u001b[0m \u001b[1;33m(\u001b[0m\u001b[1;36m3\u001b[0m\u001b[1;33m,\u001b[0m \u001b[1;36m5\u001b[0m\u001b[1;33m,\u001b[0m \u001b[1;33m(\u001b[0m\u001b[1;36m4\u001b[0m\u001b[1;33m,\u001b[0m \u001b[1;36m5\u001b[0m\u001b[1;33m)\u001b[0m\u001b[1;33m)\u001b[0m\u001b[1;33m\u001b[0m\u001b[1;33m\u001b[0m\u001b[0m\n\u001b[1;32m----> 2\u001b[1;33m \u001b[0ma_tuple\u001b[0m\u001b[1;33m[\u001b[0m\u001b[1;36m1\u001b[0m\u001b[1;33m]\u001b[0m \u001b[1;33m=\u001b[0m \u001b[1;34m'four'\u001b[0m\u001b[1;33m\u001b[0m\u001b[1;33m\u001b[0m\u001b[0m\n\u001b[0m",
            "\u001b[1;31mTypeError\u001b[0m: 'tuple' object does not support item assignment"
          ]
        }
      ],
      "source": [
        "a_tuple = (3, 5, (4, 5))\n",
        "a_tuple[1] = 'four'"
      ]
    },
    {
      "cell_type": "code",
      "execution_count": null,
      "metadata": {
        "id": "ZUvlY1qWIuS8",
        "outputId": "cbc28822-04fc-4f79-f721-f6ad7dfe758e"
      },
      "outputs": [
        {
          "data": {
            "text/plain": [
              "26254519291092456596965462913230729701102721"
            ]
          },
          "execution_count": 36,
          "metadata": {},
          "output_type": "execute_result"
        }
      ],
      "source": [
        "ival = 17239871\n",
        "ival ** 6"
      ]
    },
    {
      "cell_type": "code",
      "execution_count": null,
      "metadata": {
        "id": "UCutDVoPIuS8"
      },
      "outputs": [],
      "source": [
        "fval = 7.243\n",
        "fval2 = 6.78e-5"
      ]
    },
    {
      "cell_type": "code",
      "execution_count": null,
      "metadata": {
        "id": "XfxAnedgIuS8",
        "outputId": "fc0208c9-e3de-4378-a04f-14241c913a48"
      },
      "outputs": [
        {
          "data": {
            "text/plain": [
              "1.5"
            ]
          },
          "execution_count": 38,
          "metadata": {},
          "output_type": "execute_result"
        }
      ],
      "source": [
        "3 / 2"
      ]
    },
    {
      "cell_type": "code",
      "execution_count": null,
      "metadata": {
        "id": "u5AtSDiTIuS8",
        "outputId": "86a508f2-8e95-4e6e-dc49-e7b4435b2fba"
      },
      "outputs": [
        {
          "data": {
            "text/plain": [
              "1"
            ]
          },
          "execution_count": 39,
          "metadata": {},
          "output_type": "execute_result"
        }
      ],
      "source": [
        "3 // 2"
      ]
    },
    {
      "cell_type": "markdown",
      "metadata": {
        "id": "XdMmk_QtIuS9"
      },
      "source": [
        "Strings\n"
      ]
    },
    {
      "cell_type": "markdown",
      "metadata": {
        "id": "7Nr-6NYoIuS9"
      },
      "source": [
        "a = 'one way of writing a string' b = \"another way\""
      ]
    },
    {
      "cell_type": "code",
      "execution_count": null,
      "metadata": {
        "id": "n0IPZrMmIuS9"
      },
      "outputs": [],
      "source": [
        "c = \"\"\"\n",
        "This is a longer string that\n",
        "spans multiple lines\n",
        "\"\"\""
      ]
    },
    {
      "cell_type": "code",
      "execution_count": null,
      "metadata": {
        "id": "unML_260IuS9",
        "outputId": "d0bc8942-1f16-4182-a561-092e2d240255"
      },
      "outputs": [
        {
          "data": {
            "text/plain": [
              "3"
            ]
          },
          "execution_count": 41,
          "metadata": {},
          "output_type": "execute_result"
        }
      ],
      "source": [
        "c.count('\\n')"
      ]
    },
    {
      "cell_type": "code",
      "execution_count": null,
      "metadata": {
        "id": "9wk4kOnNIuS-",
        "outputId": "461097f7-42e0-4335-b3e2-9c8d71c0c31e"
      },
      "outputs": [
        {
          "ename": "TypeError",
          "evalue": "'str' object does not support item assignment",
          "output_type": "error",
          "traceback": [
            "\u001b[1;31m---------------------------------------------------------------------------\u001b[0m",
            "\u001b[1;31mTypeError\u001b[0m                                 Traceback (most recent call last)",
            "\u001b[1;32m~\\AppData\\Local\\Temp/ipykernel_21328/532296718.py\u001b[0m in \u001b[0;36m<module>\u001b[1;34m\u001b[0m\n\u001b[0;32m      1\u001b[0m \u001b[0ma\u001b[0m \u001b[1;33m=\u001b[0m \u001b[1;34m'this is a string'\u001b[0m\u001b[1;33m\u001b[0m\u001b[1;33m\u001b[0m\u001b[0m\n\u001b[1;32m----> 2\u001b[1;33m \u001b[0ma\u001b[0m\u001b[1;33m[\u001b[0m\u001b[1;36m10\u001b[0m\u001b[1;33m]\u001b[0m \u001b[1;33m=\u001b[0m \u001b[1;34m'f'\u001b[0m\u001b[1;33m\u001b[0m\u001b[1;33m\u001b[0m\u001b[0m\n\u001b[0m\u001b[0;32m      3\u001b[0m \u001b[0mb\u001b[0m \u001b[1;33m=\u001b[0m \u001b[0ma\u001b[0m\u001b[1;33m.\u001b[0m\u001b[0mreplace\u001b[0m\u001b[1;33m(\u001b[0m\u001b[1;34m'string'\u001b[0m\u001b[1;33m,\u001b[0m \u001b[1;34m'longer string'\u001b[0m\u001b[1;33m)\u001b[0m\u001b[1;33m\u001b[0m\u001b[1;33m\u001b[0m\u001b[0m\n\u001b[0;32m      4\u001b[0m \u001b[0mb\u001b[0m\u001b[1;33m\u001b[0m\u001b[1;33m\u001b[0m\u001b[0m\n",
            "\u001b[1;31mTypeError\u001b[0m: 'str' object does not support item assignment"
          ]
        }
      ],
      "source": [
        "a = 'this is a string'\n",
        "a[10] = 'f'\n",
        "b = a.replace('string', 'longer string')\n",
        "b"
      ]
    },
    {
      "cell_type": "code",
      "execution_count": null,
      "metadata": {
        "id": "xkaB2hR3IuS-",
        "outputId": "dbfe0642-bca8-44a6-b6d2-dffa1a3854ea"
      },
      "outputs": [
        {
          "data": {
            "text/plain": [
              "'this is a string'"
            ]
          },
          "execution_count": 44,
          "metadata": {},
          "output_type": "execute_result"
        }
      ],
      "source": [
        "a"
      ]
    },
    {
      "cell_type": "code",
      "execution_count": null,
      "metadata": {
        "id": "5Cl_N3ewIuS-",
        "outputId": "1b529df9-f851-4275-d197-227685a648e7"
      },
      "outputs": [
        {
          "name": "stdout",
          "output_type": "stream",
          "text": [
            "5.6\n"
          ]
        }
      ],
      "source": [
        "a = 5.6\n",
        "s = str(a)\n",
        "print(s)"
      ]
    },
    {
      "cell_type": "code",
      "execution_count": null,
      "metadata": {
        "id": "Am5QASHQIuS_",
        "outputId": "58c7085e-5eab-4642-bfc4-3623d1bde466"
      },
      "outputs": [
        {
          "data": {
            "text/plain": [
              "'pyt'"
            ]
          },
          "execution_count": 46,
          "metadata": {},
          "output_type": "execute_result"
        }
      ],
      "source": [
        "s = 'python'\n",
        "list(s)\n",
        "s[:3]"
      ]
    },
    {
      "cell_type": "code",
      "execution_count": null,
      "metadata": {
        "id": "ou2bFfk6IuS_",
        "outputId": "907a1e5a-57b4-4b0c-fca1-9a288b3e0df2"
      },
      "outputs": [
        {
          "name": "stdout",
          "output_type": "stream",
          "text": [
            "12\\34\n"
          ]
        }
      ],
      "source": [
        "s = '12\\\\34'\n",
        "print(s)"
      ]
    },
    {
      "cell_type": "code",
      "execution_count": null,
      "metadata": {
        "id": "PB63dX9mIuTA",
        "outputId": "7169d3fa-95e4-42fe-e5bd-3ce727e537aa"
      },
      "outputs": [
        {
          "data": {
            "text/plain": [
              "'this\\\\has\\\\no\\\\special\\\\characters'"
            ]
          },
          "execution_count": 48,
          "metadata": {},
          "output_type": "execute_result"
        }
      ],
      "source": [
        "s = r'this\\has\\no\\special\\characters'\n",
        "s"
      ]
    },
    {
      "cell_type": "code",
      "execution_count": null,
      "metadata": {
        "id": "BRV-xTB3IuTA",
        "outputId": "aa6a2d1c-83fc-4cc4-d48a-7595c28b473c"
      },
      "outputs": [
        {
          "data": {
            "text/plain": [
              "'this is the first half and this is the second half'"
            ]
          },
          "execution_count": 49,
          "metadata": {},
          "output_type": "execute_result"
        }
      ],
      "source": [
        "a = 'this is the first half '\n",
        "b = 'and this is the second half'\n",
        "a + b"
      ]
    },
    {
      "cell_type": "code",
      "execution_count": null,
      "metadata": {
        "id": "I7cX-jbPIuTB"
      },
      "outputs": [],
      "source": [
        "template = '{0:.2f} {1:s} are worth US${2:d}'"
      ]
    },
    {
      "cell_type": "code",
      "execution_count": null,
      "metadata": {
        "id": "drHX7sHzIuTB",
        "outputId": "26771086-8125-475d-b235-28d566c3e15b"
      },
      "outputs": [
        {
          "data": {
            "text/plain": [
              "'4.56 Argentine Pesos are worth US$1'"
            ]
          },
          "execution_count": 51,
          "metadata": {},
          "output_type": "execute_result"
        }
      ],
      "source": [
        "template.format(4.5560, 'Argentine Pesos', 1)"
      ]
    },
    {
      "cell_type": "markdown",
      "metadata": {
        "id": "6Py4UDccIuTB"
      },
      "source": [
        "Bytes and Unicode"
      ]
    },
    {
      "cell_type": "code",
      "execution_count": null,
      "metadata": {
        "id": "0LcOk6AcIuTB",
        "outputId": "4c1ab2e3-b04b-4c58-e743-a734c1f4e40e"
      },
      "outputs": [
        {
          "data": {
            "text/plain": [
              "'español'"
            ]
          },
          "execution_count": 52,
          "metadata": {},
          "output_type": "execute_result"
        }
      ],
      "source": [
        "val = \"español\"\n",
        "val"
      ]
    },
    {
      "cell_type": "code",
      "execution_count": null,
      "metadata": {
        "id": "pIshH4dPIuTC",
        "outputId": "d11470e5-6e81-431d-f91b-a60fbaebbd65"
      },
      "outputs": [
        {
          "data": {
            "text/plain": [
              "bytes"
            ]
          },
          "execution_count": 53,
          "metadata": {},
          "output_type": "execute_result"
        }
      ],
      "source": [
        "val_utf8 = val.encode('utf-8')\n",
        "val_utf8\n",
        "type(val_utf8)"
      ]
    },
    {
      "cell_type": "code",
      "execution_count": null,
      "metadata": {
        "id": "6HP_fsf8IuTC",
        "outputId": "cb2bb7e4-0911-42a8-ac1b-4a8f5384a1bf"
      },
      "outputs": [
        {
          "data": {
            "text/plain": [
              "'español'"
            ]
          },
          "execution_count": 54,
          "metadata": {},
          "output_type": "execute_result"
        }
      ],
      "source": [
        "val_utf8.decode('utf-8')"
      ]
    },
    {
      "cell_type": "code",
      "execution_count": null,
      "metadata": {
        "id": "YBA3WK3sIuTC",
        "outputId": "854b804f-f277-42a3-c35f-6bd075a40cd7"
      },
      "outputs": [
        {
          "data": {
            "text/plain": [
              "b'e\\x00s\\x00p\\x00a\\x00\\xf1\\x00o\\x00l\\x00'"
            ]
          },
          "execution_count": 55,
          "metadata": {},
          "output_type": "execute_result"
        }
      ],
      "source": [
        "val.encode('latin1')\n",
        "val.encode('utf-16')\n",
        "val.encode('utf-16le')"
      ]
    },
    {
      "cell_type": "code",
      "execution_count": null,
      "metadata": {
        "id": "F-aPkQ7_IuTC",
        "outputId": "a9f54df2-8871-49df-84cb-1dfc739e15fb"
      },
      "outputs": [
        {
          "data": {
            "text/plain": [
              "'this is bytes'"
            ]
          },
          "execution_count": 56,
          "metadata": {},
          "output_type": "execute_result"
        }
      ],
      "source": [
        "bytes_val = b'this is bytes'\n",
        "bytes_val\n",
        "decoded = bytes_val.decode('utf8')\n",
        "decoded  # this is str (Unicode) now"
      ]
    },
    {
      "cell_type": "markdown",
      "metadata": {
        "id": "LyHVshrbIuTD"
      },
      "source": [
        "Dates and times"
      ]
    },
    {
      "cell_type": "code",
      "execution_count": null,
      "metadata": {
        "id": "5PwUmN-3IuTD",
        "outputId": "f6c2a1ad-40af-474f-fef1-e0242a12ca06"
      },
      "outputs": [
        {
          "data": {
            "text/plain": [
              "57"
            ]
          },
          "execution_count": 60,
          "metadata": {},
          "output_type": "execute_result"
        }
      ],
      "source": [
        "from datetime import datetime, date, time\n",
        "dt = datetime(2022, 5, 24, 22, 57, 21)\n",
        "dt.day\n",
        "dt.minute"
      ]
    },
    {
      "cell_type": "code",
      "execution_count": null,
      "metadata": {
        "id": "IvI4ze4LIuTD",
        "outputId": "99909ea9-6faa-491b-d753-cfff7687a48a"
      },
      "outputs": [
        {
          "data": {
            "text/plain": [
              "datetime.time(22, 57, 21)"
            ]
          },
          "execution_count": 61,
          "metadata": {},
          "output_type": "execute_result"
        }
      ],
      "source": [
        "dt.date()\n",
        "dt.time()"
      ]
    },
    {
      "cell_type": "code",
      "execution_count": null,
      "metadata": {
        "id": "RADqLQ_hIuTD",
        "outputId": "d8a7952d-ef0a-4e3f-af60-35e30b740bf6"
      },
      "outputs": [
        {
          "data": {
            "text/plain": [
              "'05/24/2022 22:57'"
            ]
          },
          "execution_count": 62,
          "metadata": {},
          "output_type": "execute_result"
        }
      ],
      "source": [
        "dt.strftime('%m/%d/%Y %H:%M')"
      ]
    },
    {
      "cell_type": "code",
      "execution_count": null,
      "metadata": {
        "id": "WZC7pLTTIuTE",
        "outputId": "1e239e56-3e54-46d9-b59c-4056bf4130d6"
      },
      "outputs": [
        {
          "data": {
            "text/plain": [
              "datetime.datetime(2009, 10, 31, 0, 0)"
            ]
          },
          "execution_count": 63,
          "metadata": {},
          "output_type": "execute_result"
        }
      ],
      "source": [
        "datetime.strptime('20091031', '%Y%m%d')"
      ]
    },
    {
      "cell_type": "code",
      "execution_count": null,
      "metadata": {
        "id": "BQ91gYZYIuTE",
        "outputId": "35a550b6-469f-4e6d-f903-991d464aea10"
      },
      "outputs": [
        {
          "data": {
            "text/plain": [
              "datetime.datetime(2022, 5, 24, 22, 0)"
            ]
          },
          "execution_count": 64,
          "metadata": {},
          "output_type": "execute_result"
        }
      ],
      "source": [
        "dt.replace(minute=0, second=0)"
      ]
    },
    {
      "cell_type": "code",
      "execution_count": null,
      "metadata": {
        "id": "PRuKV7-IIuTE",
        "outputId": "d1d40ec9-4890-4392-a379-6a00fb6eb870"
      },
      "outputs": [
        {
          "data": {
            "text/plain": [
              "datetime.timedelta"
            ]
          },
          "execution_count": 65,
          "metadata": {},
          "output_type": "execute_result"
        }
      ],
      "source": [
        "dt2 = datetime(2011, 11, 15, 22, 30)\n",
        "delta = dt2 - dt\n",
        "delta\n",
        "type(delta)"
      ]
    },
    {
      "cell_type": "code",
      "execution_count": null,
      "metadata": {
        "id": "1K_FSPM7IuTE",
        "outputId": "057b8881-8f88-4bfa-c821-eca1982e2d48"
      },
      "outputs": [
        {
          "data": {
            "text/plain": [
              "datetime.datetime(2011, 11, 15, 22, 30)"
            ]
          },
          "execution_count": 66,
          "metadata": {},
          "output_type": "execute_result"
        }
      ],
      "source": [
        "dt\n",
        "dt + delta"
      ]
    },
    {
      "cell_type": "markdown",
      "metadata": {
        "id": "rncraa77IuTF"
      },
      "source": [
        "Control Flow"
      ]
    },
    {
      "cell_type": "markdown",
      "metadata": {
        "id": "AmDG2jXjIuTF"
      },
      "source": [
        "if, elif, and else"
      ]
    },
    {
      "cell_type": "markdown",
      "metadata": {
        "id": "ty5SvzMWIuTF"
      },
      "source": [
        "if x < 0: print('It's negative')\n",
        "\n",
        "if x < 0: print('It's negative') elif x == 0: print('Equal to zero') elif 0 < x < 5: print('Positive but smaller than 5') else: print('Positive and larger than or equal to 5')"
      ]
    },
    {
      "cell_type": "code",
      "execution_count": null,
      "metadata": {
        "id": "oxuNHXfDIuTF",
        "outputId": "10132faa-195e-4f3a-8bdb-13eb4a334e53"
      },
      "outputs": [
        {
          "name": "stdout",
          "output_type": "stream",
          "text": [
            "Made it\n"
          ]
        }
      ],
      "source": [
        "a = 5; b = 7\n",
        "c = 8; d = 4\n",
        "if a < b or c > d:\n",
        "    print('Made it')"
      ]
    },
    {
      "cell_type": "code",
      "execution_count": null,
      "metadata": {
        "id": "PyhOefykIuTG",
        "outputId": "d914508b-45e5-4506-d8f0-4a10ab9c3dd4"
      },
      "outputs": [
        {
          "data": {
            "text/plain": [
              "True"
            ]
          },
          "execution_count": 2,
          "metadata": {},
          "output_type": "execute_result"
        }
      ],
      "source": [
        "4 > 3 > 2 > 1"
      ]
    },
    {
      "cell_type": "markdown",
      "metadata": {
        "id": "PJUs2ztXIuTG"
      },
      "source": [
        "for loops"
      ]
    },
    {
      "cell_type": "markdown",
      "metadata": {
        "id": "LnYWZe7MIuTG"
      },
      "source": [
        "for value in collection:"
      ]
    },
    {
      "cell_type": "markdown",
      "metadata": {
        "id": "upq5FydbIuTG"
      },
      "source": [
        "# do something with value\n",
        "sequence = [1, 2, None, 4, None, 5] total = 0 for value in sequence: if value is None: continue total += value\n",
        "\n",
        "sequence = [1, 2, 0, 4, 6, 5, 2, 1] total_until_5 = 0 for value in sequence: if value == 5: break total_until_5 += value"
      ]
    },
    {
      "cell_type": "markdown",
      "metadata": {
        "id": "sXr9KrVKIuTH"
      },
      "source": [
        "for i in range(4):\n",
        "    for j in range(4):\n",
        "        if j > i:\n",
        "            break\n",
        "        print((i, j))"
      ]
    },
    {
      "cell_type": "code",
      "execution_count": null,
      "metadata": {
        "id": "c7jOBVkUIuTH",
        "outputId": "6c663167-dc34-4849-d873-201501b98e0f"
      },
      "outputs": [
        {
          "name": "stdout",
          "output_type": "stream",
          "text": [
            "(0, 0)\n",
            "(1, 0)\n",
            "(1, 1)\n",
            "(2, 0)\n",
            "(2, 1)\n",
            "(2, 2)\n",
            "(3, 0)\n",
            "(3, 1)\n",
            "(3, 2)\n",
            "(3, 3)\n"
          ]
        }
      ],
      "source": [
        "for i in range(4):\n",
        "    for j in range(4):\n",
        "        if j > i:\n",
        "            break\n",
        "        print((i, j))"
      ]
    },
    {
      "cell_type": "markdown",
      "metadata": {
        "id": "wM0QOrgxIuTH"
      },
      "source": [
        "for a, b, c in iterator:"
      ]
    },
    {
      "cell_type": "markdown",
      "metadata": {
        "id": "76aqEyz9IuTI"
      },
      "source": [
        "# do something"
      ]
    },
    {
      "cell_type": "markdown",
      "metadata": {
        "id": "_kEU1W7IIuTI"
      },
      "source": [
        "while loops"
      ]
    },
    {
      "cell_type": "markdown",
      "metadata": {
        "id": "ch5UMNpfIuTI"
      },
      "source": [
        "x = 256 total = 0 while x > 0: if total > 500: break total += x x = x // 2"
      ]
    },
    {
      "cell_type": "markdown",
      "metadata": {
        "id": "6d_hAwL2IuTJ"
      },
      "source": [
        "pass"
      ]
    },
    {
      "cell_type": "markdown",
      "metadata": {
        "id": "ibLbqYh1IuTJ"
      },
      "source": [
        "if x < 0: print('negative!') elif x == 0:\n",
        "\n",
        "# TODO: do somthing blah blah\n",
        "pass\n",
        "else: print('positive!')"
      ]
    },
    {
      "cell_type": "markdown",
      "metadata": {
        "id": "0rpWzz9_IuTJ"
      },
      "source": [
        "range"
      ]
    },
    {
      "cell_type": "code",
      "execution_count": null,
      "metadata": {
        "id": "qAI0n_PbIuTK",
        "outputId": "a3053704-c816-4eec-fc44-beb44eecff2b"
      },
      "outputs": [
        {
          "data": {
            "text/plain": [
              "[0, 1, 2, 3, 4, 5, 6, 7, 8, 9]"
            ]
          },
          "execution_count": 4,
          "metadata": {},
          "output_type": "execute_result"
        }
      ],
      "source": [
        "range(10)\n",
        "list(range(10))"
      ]
    },
    {
      "cell_type": "code",
      "execution_count": null,
      "metadata": {
        "id": "89qAxIIFIuTK",
        "outputId": "f75c108f-7101-4d8f-ca99-df965c06fe85"
      },
      "outputs": [
        {
          "data": {
            "text/plain": [
              "[5, 4, 3, 2, 1]"
            ]
          },
          "execution_count": 5,
          "metadata": {},
          "output_type": "execute_result"
        }
      ],
      "source": [
        "list(range(0, 20, 2))\n",
        "list(range(5, 0, -1))"
      ]
    },
    {
      "cell_type": "code",
      "execution_count": null,
      "metadata": {
        "id": "DImyDGvuIuTK"
      },
      "outputs": [],
      "source": [
        "seq = [1, 2, 3, 4] \n",
        "for i in range(len(seq)): val = seq[i]"
      ]
    },
    {
      "cell_type": "code",
      "execution_count": null,
      "metadata": {
        "id": "CrlTIlU-IuTK",
        "outputId": "fd96aa8f-4ce7-4082-9dc1-4dcc51176b7a"
      },
      "outputs": [
        {
          "ename": "IndentationError",
          "evalue": "expected an indented block (Temp/ipykernel_25588/312175510.py, line 2)",
          "output_type": "error",
          "traceback": [
            "\u001b[1;36m  File \u001b[1;32m\"C:\\Users\\LENOVO\\AppData\\Local\\Temp/ipykernel_25588/312175510.py\"\u001b[1;36m, line \u001b[1;32m2\u001b[0m\n\u001b[1;33m    for i in range(100000):\u001b[0m\n\u001b[1;37m                           ^\u001b[0m\n\u001b[1;31mIndentationError\u001b[0m\u001b[1;31m:\u001b[0m expected an indented block\n"
          ]
        }
      ],
      "source": [
        "sum = 0 \n",
        "for i in range(100000):"
      ]
    },
    {
      "cell_type": "code",
      "execution_count": null,
      "metadata": {
        "id": "JqLNhZI6IuTL",
        "outputId": "73a34ee6-a6e9-4122-f39d-00c1ed1dd504"
      },
      "outputs": [
        {
          "ename": "TypeError",
          "evalue": "unsupported operand type(s) for +=: 'builtin_function_or_method' and 'int'",
          "output_type": "error",
          "traceback": [
            "\u001b[1;31m---------------------------------------------------------------------------\u001b[0m",
            "\u001b[1;31mTypeError\u001b[0m                                 Traceback (most recent call last)",
            "\u001b[1;32m~\\AppData\\Local\\Temp/ipykernel_25588/2244609066.py\u001b[0m in \u001b[0;36m<module>\u001b[1;34m\u001b[0m\n\u001b[0;32m      1\u001b[0m \u001b[1;31m# % is the modulo operator\u001b[0m\u001b[1;33m\u001b[0m\u001b[1;33m\u001b[0m\u001b[0m\n\u001b[0;32m      2\u001b[0m \u001b[1;32mif\u001b[0m \u001b[0mi\u001b[0m \u001b[1;33m%\u001b[0m \u001b[1;36m3\u001b[0m \u001b[1;33m==\u001b[0m \u001b[1;36m0\u001b[0m \u001b[1;32mor\u001b[0m \u001b[0mi\u001b[0m \u001b[1;33m%\u001b[0m \u001b[1;36m5\u001b[0m \u001b[1;33m==\u001b[0m \u001b[1;36m0\u001b[0m\u001b[1;33m:\u001b[0m\u001b[1;33m\u001b[0m\u001b[1;33m\u001b[0m\u001b[0m\n\u001b[1;32m----> 3\u001b[1;33m     \u001b[0msum\u001b[0m \u001b[1;33m+=\u001b[0m \u001b[0mi\u001b[0m\u001b[1;33m\u001b[0m\u001b[1;33m\u001b[0m\u001b[0m\n\u001b[0m",
            "\u001b[1;31mTypeError\u001b[0m: unsupported operand type(s) for +=: 'builtin_function_or_method' and 'int'"
          ]
        }
      ],
      "source": [
        "# % is the modulo operator\n",
        "if i % 3 == 0 or i % 5 == 0:\n",
        "    sum += i"
      ]
    },
    {
      "cell_type": "markdown",
      "metadata": {
        "id": "0lWyAxeaIuTL"
      },
      "source": [
        "Ternary expressions"
      ]
    },
    {
      "cell_type": "code",
      "execution_count": null,
      "metadata": {
        "id": "7iDVzsDhIuTL",
        "outputId": "b403aa85-09b7-479f-b467-1b548fe136b1"
      },
      "outputs": [
        {
          "ename": "SyntaxError",
          "evalue": "invalid syntax (Temp/ipykernel_25588/330428849.py, line 1)",
          "output_type": "error",
          "traceback": [
            "\u001b[1;36m  File \u001b[1;32m\"C:\\Users\\LENOVO\\AppData\\Local\\Temp/ipykernel_25588/330428849.py\"\u001b[1;36m, line \u001b[1;32m1\u001b[0m\n\u001b[1;33m    value =\u001b[0m\n\u001b[1;37m            ^\u001b[0m\n\u001b[1;31mSyntaxError\u001b[0m\u001b[1;31m:\u001b[0m invalid syntax\n"
          ]
        }
      ],
      "source": [
        "value = \n",
        "if"
      ]
    },
    {
      "cell_type": "code",
      "execution_count": null,
      "metadata": {
        "id": "vEfV5K4KIuTL",
        "outputId": "e867c48e-9439-4c87-bf21-14897788edc2"
      },
      "outputs": [
        {
          "data": {
            "text/plain": [
              "'Non-negative'"
            ]
          },
          "execution_count": 17,
          "metadata": {},
          "output_type": "execute_result"
        }
      ],
      "source": [
        "x = 5\n",
        "'Non-negative' if x >= 0 else 'Negative'"
      ]
    },
    {
      "cell_type": "markdown",
      "metadata": {
        "id": "stjLElKoIuTM"
      },
      "source": [
        "Built-in Data Structures, Functions,"
      ]
    },
    {
      "cell_type": "markdown",
      "metadata": {
        "id": "L0xMPdMgIuTM"
      },
      "source": [
        "Data Structures and Sequences"
      ]
    },
    {
      "cell_type": "markdown",
      "metadata": {
        "id": "o5B6z6vTIuTM"
      },
      "source": [
        "Tuple"
      ]
    },
    {
      "cell_type": "code",
      "execution_count": null,
      "metadata": {
        "id": "X463_3xbIuTM",
        "outputId": "55a68d1d-5e45-4f2c-9948-6336a1e954ea"
      },
      "outputs": [
        {
          "data": {
            "text/plain": [
              "(4, 5, 6)"
            ]
          },
          "execution_count": 18,
          "metadata": {},
          "output_type": "execute_result"
        }
      ],
      "source": [
        "tup = 4, 5, 6\n",
        "tup"
      ]
    },
    {
      "cell_type": "code",
      "execution_count": null,
      "metadata": {
        "id": "uRtWzj9yIuTM",
        "outputId": "fb67ca82-196e-4b5f-bbe8-d45d216d37d2"
      },
      "outputs": [
        {
          "data": {
            "text/plain": [
              "((4, 5, 6), (7, 8))"
            ]
          },
          "execution_count": 19,
          "metadata": {},
          "output_type": "execute_result"
        }
      ],
      "source": [
        "nested_tup = (4, 5, 6), (7, 8)\n",
        "nested_tup"
      ]
    },
    {
      "cell_type": "code",
      "execution_count": null,
      "metadata": {
        "id": "ckHyg6i-IuTN",
        "outputId": "314e3755-0ffd-4c19-f3ec-63fd996914b2"
      },
      "outputs": [
        {
          "data": {
            "text/plain": [
              "('s', 't', 'r', 'i', 'n', 'g')"
            ]
          },
          "execution_count": 20,
          "metadata": {},
          "output_type": "execute_result"
        }
      ],
      "source": [
        "tuple([4, 0, 2])\n",
        "tup = tuple('string')\n",
        "tup"
      ]
    },
    {
      "cell_type": "code",
      "execution_count": null,
      "metadata": {
        "id": "k8wpRmgTIuTN",
        "outputId": "fd661b83-8bde-4577-ad78-d55e4869070c"
      },
      "outputs": [
        {
          "data": {
            "text/plain": [
              "'s'"
            ]
          },
          "execution_count": 21,
          "metadata": {},
          "output_type": "execute_result"
        }
      ],
      "source": [
        "tup[0]"
      ]
    },
    {
      "cell_type": "code",
      "execution_count": null,
      "metadata": {
        "id": "tVUPqYsEIuTN",
        "outputId": "6489db02-4fa4-4847-b433-38b9c145bc67"
      },
      "outputs": [
        {
          "ename": "TypeError",
          "evalue": "'tuple' object does not support item assignment",
          "output_type": "error",
          "traceback": [
            "\u001b[1;31m---------------------------------------------------------------------------\u001b[0m",
            "\u001b[1;31mTypeError\u001b[0m                                 Traceback (most recent call last)",
            "\u001b[1;32m~\\AppData\\Local\\Temp/ipykernel_25588/211141333.py\u001b[0m in \u001b[0;36m<module>\u001b[1;34m\u001b[0m\n\u001b[0;32m      1\u001b[0m \u001b[0mtup\u001b[0m \u001b[1;33m=\u001b[0m \u001b[0mtuple\u001b[0m\u001b[1;33m(\u001b[0m\u001b[1;33m[\u001b[0m\u001b[1;34m'foo'\u001b[0m\u001b[1;33m,\u001b[0m \u001b[1;33m[\u001b[0m\u001b[1;36m1\u001b[0m\u001b[1;33m,\u001b[0m \u001b[1;36m2\u001b[0m\u001b[1;33m]\u001b[0m\u001b[1;33m,\u001b[0m \u001b[1;32mTrue\u001b[0m\u001b[1;33m]\u001b[0m\u001b[1;33m)\u001b[0m\u001b[1;33m\u001b[0m\u001b[1;33m\u001b[0m\u001b[0m\n\u001b[1;32m----> 2\u001b[1;33m \u001b[0mtup\u001b[0m\u001b[1;33m[\u001b[0m\u001b[1;36m2\u001b[0m\u001b[1;33m]\u001b[0m \u001b[1;33m=\u001b[0m \u001b[1;32mFalse\u001b[0m\u001b[1;33m\u001b[0m\u001b[1;33m\u001b[0m\u001b[0m\n\u001b[0m",
            "\u001b[1;31mTypeError\u001b[0m: 'tuple' object does not support item assignment"
          ]
        }
      ],
      "source": [
        "tup = tuple(['foo', [1, 2], True])\n",
        "tup[2] = False"
      ]
    },
    {
      "cell_type": "code",
      "execution_count": null,
      "metadata": {
        "id": "PaBMKmn0IuTN",
        "outputId": "c235192c-e0f2-408f-8008-5a16a5e76a57"
      },
      "outputs": [
        {
          "data": {
            "text/plain": [
              "('foo', [1, 2, 3], True)"
            ]
          },
          "execution_count": 23,
          "metadata": {},
          "output_type": "execute_result"
        }
      ],
      "source": [
        "tup[1].append(3)\n",
        "tup"
      ]
    },
    {
      "cell_type": "code",
      "execution_count": null,
      "metadata": {
        "id": "uLXOvZUgIuTO",
        "outputId": "8ee0fad7-83b6-4daa-9e6a-beb301694182"
      },
      "outputs": [
        {
          "data": {
            "text/plain": [
              "(4, None, 'foo', 6, 0, 'bar')"
            ]
          },
          "execution_count": 24,
          "metadata": {},
          "output_type": "execute_result"
        }
      ],
      "source": [
        "(4, None, 'foo') + (6, 0) + ('bar',)"
      ]
    },
    {
      "cell_type": "code",
      "execution_count": null,
      "metadata": {
        "id": "qkM9twiqIuTO",
        "outputId": "f4632912-408f-4557-d580-c29e384d0200"
      },
      "outputs": [
        {
          "data": {
            "text/plain": [
              "('foo', 'bar', 'foo', 'bar', 'foo', 'bar', 'foo', 'bar')"
            ]
          },
          "execution_count": 25,
          "metadata": {},
          "output_type": "execute_result"
        }
      ],
      "source": [
        "('foo', 'bar') * 4"
      ]
    },
    {
      "cell_type": "markdown",
      "metadata": {
        "id": "tQQrTr-kIuTO"
      },
      "source": [
        "Unpacking tuples"
      ]
    },
    {
      "cell_type": "code",
      "execution_count": null,
      "metadata": {
        "id": "mU2AyTI8IuTO",
        "outputId": "073c3b70-57f3-447b-b4d1-d505e5248504"
      },
      "outputs": [
        {
          "data": {
            "text/plain": [
              "5"
            ]
          },
          "execution_count": 26,
          "metadata": {},
          "output_type": "execute_result"
        }
      ],
      "source": [
        "tup = (4, 5, 6)\n",
        "a, b, c = tup\n",
        "b"
      ]
    },
    {
      "cell_type": "code",
      "execution_count": null,
      "metadata": {
        "id": "IuS27cw2IuTP",
        "outputId": "216765d6-dda1-402f-8d7e-3393ad76d6a6"
      },
      "outputs": [
        {
          "data": {
            "text/plain": [
              "7"
            ]
          },
          "execution_count": 27,
          "metadata": {},
          "output_type": "execute_result"
        }
      ],
      "source": [
        "tup = 4, 5, (6, 7)\n",
        "a, b, (c, d) = tup\n",
        "d"
      ]
    },
    {
      "cell_type": "code",
      "execution_count": null,
      "metadata": {
        "id": "ZT53W4LMIuTP",
        "outputId": "40079d31-cde7-472c-d198-91254211bbb1"
      },
      "outputs": [
        {
          "ename": "SyntaxError",
          "evalue": "invalid syntax (Temp/ipykernel_25588/2833571655.py, line 1)",
          "output_type": "error",
          "traceback": [
            "\u001b[1;36m  File \u001b[1;32m\"C:\\Users\\LENOVO\\AppData\\Local\\Temp/ipykernel_25588/2833571655.py\"\u001b[1;36m, line \u001b[1;32m1\u001b[0m\n\u001b[1;33m    tmp = a a = b b = tmp\u001b[0m\n\u001b[1;37m            ^\u001b[0m\n\u001b[1;31mSyntaxError\u001b[0m\u001b[1;31m:\u001b[0m invalid syntax\n"
          ]
        }
      ],
      "source": [
        "tmp = a a = b b = tmp"
      ]
    },
    {
      "cell_type": "code",
      "execution_count": null,
      "metadata": {
        "id": "DjXvx-ggIuTP",
        "outputId": "5770dd09-dbaa-4099-d8d7-684f52d4e532"
      },
      "outputs": [
        {
          "data": {
            "text/plain": [
              "1"
            ]
          },
          "execution_count": 29,
          "metadata": {},
          "output_type": "execute_result"
        }
      ],
      "source": [
        "a, b = 1, 2\n",
        "a\n",
        "b\n",
        "b, a = a, b\n",
        "a\n",
        "b"
      ]
    },
    {
      "cell_type": "code",
      "execution_count": null,
      "metadata": {
        "id": "FX0fzUJ3IuTQ",
        "outputId": "a72e2160-3245-4e64-ad1f-b219029dc4c0"
      },
      "outputs": [
        {
          "name": "stdout",
          "output_type": "stream",
          "text": [
            "a=1, b=2, c=3\n",
            "a=4, b=5, c=6\n",
            "a=7, b=8, c=9\n"
          ]
        }
      ],
      "source": [
        "seq = [(1, 2, 3), (4, 5, 6), (7, 8, 9)]\n",
        "for a, b, c in seq:\n",
        "    print('a={0}, b={1}, c={2}'.format(a, b, c))"
      ]
    },
    {
      "cell_type": "code",
      "execution_count": null,
      "metadata": {
        "id": "Tm1as0OzIuTQ",
        "outputId": "879b45be-46a6-4524-adb7-ae821601e8d1"
      },
      "outputs": [
        {
          "data": {
            "text/plain": [
              "[3, 4, 5]"
            ]
          },
          "execution_count": 31,
          "metadata": {},
          "output_type": "execute_result"
        }
      ],
      "source": [
        "values = 1, 2, 3, 4, 5\n",
        "a, b, *rest = values\n",
        "a, b\n",
        "rest"
      ]
    },
    {
      "cell_type": "code",
      "execution_count": null,
      "metadata": {
        "id": "TotF8mDYIuTR"
      },
      "outputs": [],
      "source": [
        "a, b, *_ = values"
      ]
    },
    {
      "cell_type": "markdown",
      "metadata": {
        "id": "fwUb5asXIuTR"
      },
      "source": [
        "Tuple methods"
      ]
    },
    {
      "cell_type": "code",
      "execution_count": null,
      "metadata": {
        "id": "JMlJL6O2IuTS",
        "outputId": "bc25da17-1ecd-4a85-b0b9-0a7582119629"
      },
      "outputs": [
        {
          "data": {
            "text/plain": [
              "4"
            ]
          },
          "execution_count": 33,
          "metadata": {},
          "output_type": "execute_result"
        }
      ],
      "source": [
        "a = (1, 2, 2, 2, 3, 4, 2)\n",
        "a.count(2)"
      ]
    },
    {
      "cell_type": "markdown",
      "metadata": {
        "id": "2MwxVNXNIuTS"
      },
      "source": [
        "List"
      ]
    },
    {
      "cell_type": "code",
      "execution_count": null,
      "metadata": {
        "id": "5S6xhktCIuTT",
        "outputId": "9f26afdf-3f91-4b7b-f39e-95f566a27cff"
      },
      "outputs": [
        {
          "data": {
            "text/plain": [
              "['foo', 'peekaboo', 'baz']"
            ]
          },
          "execution_count": 34,
          "metadata": {},
          "output_type": "execute_result"
        }
      ],
      "source": [
        "a_list = [2, 3, 7, None]\n",
        "tup = ('foo', 'bar', 'baz')\n",
        "b_list = list(tup)\n",
        "b_list\n",
        "b_list[1] = 'peekaboo'\n",
        "b_list"
      ]
    },
    {
      "cell_type": "code",
      "execution_count": null,
      "metadata": {
        "id": "Bzl_1aP1IuTT",
        "outputId": "f6d97df1-e2bf-4948-c2f7-ed0e4de9638e"
      },
      "outputs": [
        {
          "data": {
            "text/plain": [
              "[0, 1, 2, 3, 4, 5, 6, 7, 8, 9]"
            ]
          },
          "execution_count": 35,
          "metadata": {},
          "output_type": "execute_result"
        }
      ],
      "source": [
        "gen = range(10)\n",
        "gen\n",
        "list(gen)"
      ]
    },
    {
      "cell_type": "markdown",
      "metadata": {
        "id": "_r7S8_3iIuTU"
      },
      "source": [
        "Adding and removing elements"
      ]
    },
    {
      "cell_type": "code",
      "execution_count": null,
      "metadata": {
        "id": "wDXMAwZ6IuTU",
        "outputId": "472e1c88-cbab-4e92-9a53-1b093f4fd64e"
      },
      "outputs": [
        {
          "data": {
            "text/plain": [
              "['foo', 'peekaboo', 'baz', 'dwarf']"
            ]
          },
          "execution_count": 36,
          "metadata": {},
          "output_type": "execute_result"
        }
      ],
      "source": [
        "b_list.append('dwarf')\n",
        "b_list"
      ]
    },
    {
      "cell_type": "code",
      "execution_count": null,
      "metadata": {
        "id": "S8ipnxiRIuTU",
        "outputId": "28c2ea52-b37c-40f7-ba67-455b5a459870"
      },
      "outputs": [
        {
          "data": {
            "text/plain": [
              "['foo', 'red', 'peekaboo', 'baz', 'dwarf']"
            ]
          },
          "execution_count": 37,
          "metadata": {},
          "output_type": "execute_result"
        }
      ],
      "source": [
        "b_list.insert(1, 'red')\n",
        "b_list"
      ]
    },
    {
      "cell_type": "code",
      "execution_count": null,
      "metadata": {
        "id": "RZp3MXruIuTV",
        "outputId": "eba1f5e2-837c-477e-fcda-30320a976f7f"
      },
      "outputs": [
        {
          "data": {
            "text/plain": [
              "['foo', 'red', 'baz', 'dwarf']"
            ]
          },
          "execution_count": 38,
          "metadata": {},
          "output_type": "execute_result"
        }
      ],
      "source": [
        "b_list.pop(2)\n",
        "b_list"
      ]
    },
    {
      "cell_type": "code",
      "execution_count": null,
      "metadata": {
        "id": "in0_xaZjIuTV",
        "outputId": "18bc377b-2514-4e06-bc50-013308d5824b"
      },
      "outputs": [
        {
          "data": {
            "text/plain": [
              "['red', 'baz', 'dwarf', 'foo']"
            ]
          },
          "execution_count": 39,
          "metadata": {},
          "output_type": "execute_result"
        }
      ],
      "source": [
        "b_list.append('foo')\n",
        "b_list\n",
        "b_list.remove('foo')\n",
        "b_list"
      ]
    },
    {
      "cell_type": "code",
      "execution_count": null,
      "metadata": {
        "id": "_2uReO-8IuTW",
        "outputId": "7cc3a3cf-53e0-4a80-ef42-9ed005acb6c7"
      },
      "outputs": [
        {
          "data": {
            "text/plain": [
              "True"
            ]
          },
          "execution_count": 40,
          "metadata": {},
          "output_type": "execute_result"
        }
      ],
      "source": [
        "'dwarf' in b_list"
      ]
    },
    {
      "cell_type": "code",
      "execution_count": null,
      "metadata": {
        "id": "wXCccmxEIuTX",
        "outputId": "6fd41dd5-7722-4cbd-98f5-6b59df8e5606"
      },
      "outputs": [
        {
          "data": {
            "text/plain": [
              "False"
            ]
          },
          "execution_count": 41,
          "metadata": {},
          "output_type": "execute_result"
        }
      ],
      "source": [
        "'dwarf' not in b_list"
      ]
    },
    {
      "cell_type": "markdown",
      "metadata": {
        "id": "OsSejztBIuTX"
      },
      "source": [
        "Concatenating and combining lists"
      ]
    },
    {
      "cell_type": "code",
      "execution_count": null,
      "metadata": {
        "id": "GpWMT4e1IuTY",
        "outputId": "d42194ab-7945-415b-aa47-775eea447a7a"
      },
      "outputs": [
        {
          "data": {
            "text/plain": [
              "[4, None, 'foo', 7, 8, (2, 3)]"
            ]
          },
          "execution_count": 42,
          "metadata": {},
          "output_type": "execute_result"
        }
      ],
      "source": [
        "[4, None, 'foo'] + [7, 8, (2, 3)]"
      ]
    },
    {
      "cell_type": "code",
      "execution_count": null,
      "metadata": {
        "id": "4rboHYbnIuTY",
        "outputId": "49e4226e-da2b-4d0a-b81b-adb58c84cc14"
      },
      "outputs": [
        {
          "data": {
            "text/plain": [
              "[4, None, 'foo', 7, 8, (2, 3)]"
            ]
          },
          "execution_count": 43,
          "metadata": {},
          "output_type": "execute_result"
        }
      ],
      "source": [
        "x = [4, None, 'foo']\n",
        "x.extend([7, 8, (2, 3)])\n",
        "x"
      ]
    },
    {
      "cell_type": "markdown",
      "metadata": {
        "id": "ycdIiUE9IuTZ"
      },
      "source": [
        "everything = [] for chunk in list_of_lists: everything.extend(chunk)\n",
        "\n",
        "everything = [] for chunk in list_of_lists: everything = everything + chunk"
      ]
    },
    {
      "cell_type": "markdown",
      "metadata": {
        "id": "v7AgaU_eIuTZ"
      },
      "source": [
        "Sorting"
      ]
    },
    {
      "cell_type": "code",
      "execution_count": null,
      "metadata": {
        "id": "V0xvWnb8IuTZ",
        "outputId": "8cfa009e-d56a-4bf2-d4ac-1f4a3837f8d4"
      },
      "outputs": [
        {
          "data": {
            "text/plain": [
              "[1, 2, 3, 5, 7]"
            ]
          },
          "execution_count": 44,
          "metadata": {},
          "output_type": "execute_result"
        }
      ],
      "source": [
        "a = [7, 2, 5, 1, 3]\n",
        "a.sort()\n",
        "a"
      ]
    },
    {
      "cell_type": "code",
      "execution_count": null,
      "metadata": {
        "id": "RbCxLkzkIuTa",
        "outputId": "e492ec22-b7c5-44e9-cc71-569a76aa31ad"
      },
      "outputs": [
        {
          "data": {
            "text/plain": [
              "['He', 'saw', 'six', 'small', 'foxes']"
            ]
          },
          "execution_count": 45,
          "metadata": {},
          "output_type": "execute_result"
        }
      ],
      "source": [
        "b = ['saw', 'small', 'He', 'foxes', 'six']\n",
        "b.sort(key=len)\n",
        "b"
      ]
    },
    {
      "cell_type": "markdown",
      "metadata": {
        "id": "nF7YoWEiIuTb"
      },
      "source": [
        "Binary search and maintaining a sorted list"
      ]
    },
    {
      "cell_type": "code",
      "execution_count": null,
      "metadata": {
        "id": "JAEveUP_IuTb",
        "outputId": "bdeb376d-3e7b-462c-c6e5-77794e36ec6c"
      },
      "outputs": [
        {
          "data": {
            "text/plain": [
              "[1, 2, 2, 2, 3, 4, 6, 7]"
            ]
          },
          "execution_count": 46,
          "metadata": {},
          "output_type": "execute_result"
        }
      ],
      "source": [
        "import bisect\n",
        "c = [1, 2, 2, 2, 3, 4, 7]\n",
        "bisect.bisect(c, 2)\n",
        "bisect.bisect(c, 5)\n",
        "bisect.insort(c, 6)\n",
        "c"
      ]
    },
    {
      "cell_type": "markdown",
      "metadata": {
        "id": "h2i94D_TIuTb"
      },
      "source": [
        "Slicing"
      ]
    },
    {
      "cell_type": "code",
      "execution_count": null,
      "metadata": {
        "id": "y6D8QfWdIuTc",
        "outputId": "6ad0d5e6-5900-4087-d0a0-c8a7b93c34c6"
      },
      "outputs": [
        {
          "data": {
            "text/plain": [
              "[2, 3, 7, 5]"
            ]
          },
          "execution_count": 47,
          "metadata": {},
          "output_type": "execute_result"
        }
      ],
      "source": [
        "seq = [7, 2, 3, 7, 5, 6, 0, 1]\n",
        "seq[1:5]"
      ]
    },
    {
      "cell_type": "code",
      "execution_count": null,
      "metadata": {
        "id": "-Xgm_Up4IuTc",
        "outputId": "2a835d81-d7f7-4941-bc51-f01ca33b5a5e"
      },
      "outputs": [
        {
          "data": {
            "text/plain": [
              "[7, 2, 3, 6, 3, 5, 6, 0, 1]"
            ]
          },
          "execution_count": 48,
          "metadata": {},
          "output_type": "execute_result"
        }
      ],
      "source": [
        "seq[3:4] = [6, 3]\n",
        "seq"
      ]
    },
    {
      "cell_type": "code",
      "execution_count": null,
      "metadata": {
        "id": "b-tmpnrgIuTd",
        "outputId": "c5add96a-179b-4ca0-e4f5-fa4df8c0ff8a"
      },
      "outputs": [
        {
          "data": {
            "text/plain": [
              "[6, 3, 5, 6, 0, 1]"
            ]
          },
          "execution_count": 49,
          "metadata": {},
          "output_type": "execute_result"
        }
      ],
      "source": [
        "seq[:5]\n",
        "seq[3:]"
      ]
    },
    {
      "cell_type": "code",
      "execution_count": null,
      "metadata": {
        "id": "Ha_65kFeIuTd",
        "outputId": "1058b9c0-f974-4075-b177-1ef684bba970"
      },
      "outputs": [
        {
          "data": {
            "text/plain": [
              "[6, 3, 5, 6]"
            ]
          },
          "execution_count": 50,
          "metadata": {},
          "output_type": "execute_result"
        }
      ],
      "source": [
        "seq[-4:]\n",
        "seq[-6:-2]"
      ]
    },
    {
      "cell_type": "code",
      "execution_count": null,
      "metadata": {
        "id": "vca4uWD_IuTd",
        "outputId": "4a4a3f42-9f6e-4a65-96a8-712029e1ff41"
      },
      "outputs": [
        {
          "data": {
            "text/plain": [
              "[7, 3, 3, 6, 1]"
            ]
          },
          "execution_count": 51,
          "metadata": {},
          "output_type": "execute_result"
        }
      ],
      "source": [
        "seq[::2]"
      ]
    },
    {
      "cell_type": "code",
      "execution_count": null,
      "metadata": {
        "id": "bxM8ZhQ1IuTe",
        "outputId": "329d292c-d3dc-4422-8f57-9e2b73eeb920"
      },
      "outputs": [
        {
          "data": {
            "text/plain": [
              "[7, 3, 3, 6, 1]"
            ]
          },
          "execution_count": 52,
          "metadata": {},
          "output_type": "execute_result"
        }
      ],
      "source": [
        "seq[::2]"
      ]
    },
    {
      "cell_type": "code",
      "execution_count": null,
      "metadata": {
        "id": "ZICVXQubIuTe",
        "outputId": "0b6e0afa-e558-41f4-a5bd-7548232fabd0"
      },
      "outputs": [
        {
          "data": {
            "text/plain": [
              "[1, 0, 6, 5, 3, 6, 3, 2, 7]"
            ]
          },
          "execution_count": 53,
          "metadata": {},
          "output_type": "execute_result"
        }
      ],
      "source": [
        "seq[::-1]"
      ]
    },
    {
      "cell_type": "markdown",
      "metadata": {
        "id": "naaOiafBIuTe"
      },
      "source": [
        "Built-in Sequence Functions"
      ]
    },
    {
      "cell_type": "markdown",
      "metadata": {
        "id": "v6GV7_W5IuTf"
      },
      "source": [
        "enumerate"
      ]
    },
    {
      "cell_type": "markdown",
      "metadata": {
        "id": "ALXcKfaoIuTf"
      },
      "source": [
        "i = 0 for value in collection:"
      ]
    },
    {
      "cell_type": "markdown",
      "metadata": {
        "id": "zIczFLC2IuTf"
      },
      "source": [
        "o something with value"
      ]
    },
    {
      "cell_type": "code",
      "execution_count": null,
      "metadata": {
        "id": "Wthu1kWOIuTf"
      },
      "outputs": [],
      "source": [
        "i += 1"
      ]
    },
    {
      "cell_type": "markdown",
      "metadata": {
        "id": "-gu38N4IIuTg"
      },
      "source": [
        "for i, value in enumerate(collection):"
      ]
    },
    {
      "cell_type": "markdown",
      "metadata": {
        "id": "Gt3psd5cIuTg"
      },
      "source": [
        "do something with value"
      ]
    },
    {
      "cell_type": "code",
      "execution_count": null,
      "metadata": {
        "id": "6na2wCJ0IuTg",
        "outputId": "e922df8a-06e1-4c47-c73a-e3563f058aae"
      },
      "outputs": [
        {
          "data": {
            "text/plain": [
              "{'foo': 0, 'bar': 1, 'baz': 2}"
            ]
          },
          "execution_count": 56,
          "metadata": {},
          "output_type": "execute_result"
        }
      ],
      "source": [
        "some_list = ['foo', 'bar', 'baz']\n",
        "mapping = {}\n",
        "for i, v in enumerate(some_list):\n",
        "    mapping[v] = i\n",
        "mapping"
      ]
    },
    {
      "cell_type": "markdown",
      "metadata": {
        "id": "UxmRS2H-IuTh"
      },
      "source": [
        "sorted"
      ]
    },
    {
      "cell_type": "code",
      "execution_count": null,
      "metadata": {
        "id": "lDHeagK2IuTi",
        "outputId": "f874e90b-99b9-48ae-d867-25e01a4758fe"
      },
      "outputs": [
        {
          "data": {
            "text/plain": [
              "[' ', 'a', 'c', 'e', 'e', 'h', 'o', 'r', 'r', 's']"
            ]
          },
          "execution_count": 57,
          "metadata": {},
          "output_type": "execute_result"
        }
      ],
      "source": [
        "sorted([7, 1, 2, 6, 0, 3, 2])\n",
        "sorted('horse race')"
      ]
    },
    {
      "cell_type": "code",
      "execution_count": null,
      "metadata": {
        "id": "pP050aXPIuTi",
        "outputId": "d706ead0-f7f1-4f31-8463-574b311f8099"
      },
      "outputs": [
        {
          "data": {
            "text/plain": [
              "[('foo', 'one'), ('bar', 'two'), ('baz', 'three')]"
            ]
          },
          "execution_count": 58,
          "metadata": {},
          "output_type": "execute_result"
        }
      ],
      "source": [
        "seq1 = ['foo', 'bar', 'baz']\n",
        "seq2 = ['one', 'two', 'three']\n",
        "zipped = zip(seq1, seq2)\n",
        "list(zipped)"
      ]
    },
    {
      "cell_type": "code",
      "execution_count": null,
      "metadata": {
        "id": "iYojTa4DIuTj",
        "outputId": "aef81590-1e11-48d8-d4bf-7efef39af933"
      },
      "outputs": [
        {
          "data": {
            "text/plain": [
              "[('foo', 'one', False), ('bar', 'two', True)]"
            ]
          },
          "execution_count": 59,
          "metadata": {},
          "output_type": "execute_result"
        }
      ],
      "source": [
        "seq3 = [False, True]\n",
        "list(zip(seq1, seq2, seq3))"
      ]
    },
    {
      "cell_type": "code",
      "execution_count": null,
      "metadata": {
        "id": "FxdHaHPRIuTj",
        "outputId": "3d557b7c-774b-449c-bbae-2e5322d1b250"
      },
      "outputs": [
        {
          "name": "stdout",
          "output_type": "stream",
          "text": [
            "0: foo, one\n",
            "1: bar, two\n",
            "2: baz, three\n"
          ]
        }
      ],
      "source": [
        "for i, (a, b) in enumerate(zip(seq1, seq2)):\n",
        "    print('{0}: {1}, {2}'.format(i, a, b))"
      ]
    },
    {
      "cell_type": "code",
      "execution_count": null,
      "metadata": {
        "id": "3o2kP8l1IuTj",
        "outputId": "450cc801-853b-4bf0-bd3e-8a777883e5e1"
      },
      "outputs": [
        {
          "data": {
            "text/plain": [
              "('Ryan', 'Clemens', 'Curt')"
            ]
          },
          "execution_count": 61,
          "metadata": {},
          "output_type": "execute_result"
        }
      ],
      "source": [
        "pitchers = [('Nolan', 'Ryan'), ('Roger', 'Clemens'),\n",
        "            ('Schilling', 'Curt')]\n",
        "first_names, last_names = zip(*pitchers)\n",
        "first_names\n",
        "last_names"
      ]
    },
    {
      "cell_type": "markdown",
      "metadata": {
        "id": "3ExINVPqIuTj"
      },
      "source": [
        "reversed"
      ]
    },
    {
      "cell_type": "code",
      "execution_count": null,
      "metadata": {
        "id": "5Ej7N4j_IuTk",
        "outputId": "82f66ae4-35ff-47eb-ac7d-7f8b4fd8c23f"
      },
      "outputs": [
        {
          "data": {
            "text/plain": [
              "[9, 8, 7, 6, 5, 4, 3, 2, 1, 0]"
            ]
          },
          "execution_count": 62,
          "metadata": {},
          "output_type": "execute_result"
        }
      ],
      "source": [
        "list(reversed(range(10)))"
      ]
    },
    {
      "cell_type": "markdown",
      "metadata": {
        "id": "V2Qnno4cIuTk"
      },
      "source": [
        "dict"
      ]
    },
    {
      "cell_type": "code",
      "execution_count": null,
      "metadata": {
        "id": "3C-BOkrBIuTk",
        "outputId": "32a5fd2f-d432-4f30-da4f-4adefb814afe"
      },
      "outputs": [
        {
          "data": {
            "text/plain": [
              "{'a': 'some value', 'b': [1, 2, 3, 4]}"
            ]
          },
          "execution_count": 63,
          "metadata": {},
          "output_type": "execute_result"
        }
      ],
      "source": [
        "empty_dict = {}\n",
        "d1 = {'a' : 'some value', 'b' : [1, 2, 3, 4]}\n",
        "d1"
      ]
    },
    {
      "cell_type": "code",
      "execution_count": null,
      "metadata": {
        "id": "hprTFAMmIuTk",
        "outputId": "ecda62a2-f3b6-4bb3-abc2-0f8082cbba5f"
      },
      "outputs": [
        {
          "data": {
            "text/plain": [
              "[1, 2, 3, 4]"
            ]
          },
          "execution_count": 64,
          "metadata": {},
          "output_type": "execute_result"
        }
      ],
      "source": [
        "d1[7] = 'an integer'\n",
        "d1\n",
        "d1['b']"
      ]
    },
    {
      "cell_type": "code",
      "execution_count": null,
      "metadata": {
        "id": "YYePZSuZIuTl",
        "outputId": "ff578f32-f989-445e-c083-c0374377cccb"
      },
      "outputs": [
        {
          "data": {
            "text/plain": [
              "True"
            ]
          },
          "execution_count": 65,
          "metadata": {},
          "output_type": "execute_result"
        }
      ],
      "source": [
        "'b' in d1"
      ]
    },
    {
      "cell_type": "code",
      "execution_count": null,
      "metadata": {
        "id": "QInz8P8-IuTl"
      },
      "outputs": [],
      "source": [
        "d1[5] = 'some value'\n",
        "d1\n",
        "d1['dummy'] = 'another value'\n",
        "d1\n",
        "del d1[5]\n",
        "d1\n",
        "ret = d1.pop('dummy')\n",
        "ret\n",
        "d1"
      ]
    },
    {
      "cell_type": "code",
      "execution_count": null,
      "metadata": {
        "id": "h19ZRA6gIuTm",
        "outputId": "58df59ee-d50a-46c6-fcbb-291f1275c931"
      },
      "outputs": [
        {
          "data": {
            "text/plain": [
              "['some value', [1, 2, 3, 4], 'an integer']"
            ]
          },
          "execution_count": 66,
          "metadata": {},
          "output_type": "execute_result"
        }
      ],
      "source": [
        "list(d1.keys())\n",
        "list(d1.values())"
      ]
    },
    {
      "cell_type": "code",
      "execution_count": null,
      "metadata": {
        "id": "7ggnNVUHIuTm",
        "outputId": "3fe7d69e-96f7-4c34-9465-f4049e9abb2e"
      },
      "outputs": [
        {
          "data": {
            "text/plain": [
              "{'a': 'some value', 'b': 'foo', 7: 'an integer', 'c': 12}"
            ]
          },
          "execution_count": 69,
          "metadata": {},
          "output_type": "execute_result"
        }
      ],
      "source": [
        "d1.update({'b' : 'foo', 'c' : 12})\n",
        "d1"
      ]
    },
    {
      "cell_type": "markdown",
      "metadata": {
        "id": "uaUfO3OrIuTn"
      },
      "source": [
        "Creating dicts from sequences"
      ]
    },
    {
      "cell_type": "code",
      "execution_count": null,
      "metadata": {
        "id": "gbGsmOjSIuTn",
        "outputId": "e8835eaa-bf42-434a-a1d7-849a9c893ad9"
      },
      "outputs": [
        {
          "ename": "SyntaxError",
          "evalue": "invalid syntax (Temp/ipykernel_25588/1897899492.py, line 1)",
          "output_type": "error",
          "traceback": [
            "\u001b[1;36m  File \u001b[1;32m\"C:\\Users\\LENOVO\\AppData\\Local\\Temp/ipykernel_25588/1897899492.py\"\u001b[1;36m, line \u001b[1;32m1\u001b[0m\n\u001b[1;33m    mapping = {} for key, value in zip(key_list, value_list): mapping[key] = value\u001b[0m\n\u001b[1;37m                 ^\u001b[0m\n\u001b[1;31mSyntaxError\u001b[0m\u001b[1;31m:\u001b[0m invalid syntax\n"
          ]
        }
      ],
      "source": [
        "mapping = {} for key, value in zip(key_list, value_list): mapping[key] = value\n",
        "\n",
        "mapping = dict(zip(range(5), reversed(range(5))))\n",
        "mapping"
      ]
    },
    {
      "cell_type": "markdown",
      "metadata": {
        "id": "40wRNqPwIuTo"
      },
      "source": [
        "Default values\n",
        "if key in some_dict: value = some_dict[key] else: value = default_value\n",
        "\n",
        "value = some_dict.get(key, default_value)"
      ]
    },
    {
      "cell_type": "code",
      "execution_count": null,
      "metadata": {
        "id": "Aq7t70N3IuTo",
        "outputId": "73af69f8-2ceb-4e15-c124-c3869e3ceecd"
      },
      "outputs": [
        {
          "data": {
            "text/plain": [
              "{'a': ['apple', 'atom'], 'b': ['bat', 'bar', 'book']}"
            ]
          },
          "execution_count": 71,
          "metadata": {},
          "output_type": "execute_result"
        }
      ],
      "source": [
        "words = ['apple', 'bat', 'bar', 'atom', 'book']\n",
        "by_letter = {}\n",
        "for word in words:\n",
        "    letter = word[0]\n",
        "    if letter not in by_letter:\n",
        "        by_letter[letter] = [word]\n",
        "    else:\n",
        "        by_letter[letter].append(word)\n",
        "by_letter"
      ]
    },
    {
      "cell_type": "markdown",
      "metadata": {
        "id": "owNsefJpIuTp"
      },
      "source": [
        "for word in words: letter = word[0] by_letter.setdefault(letter, []).append(word)\n",
        "\n",
        "from collections import defaultdict by_letter = defaultdict(list) for word in words: by_letter[word[0]].append(word)"
      ]
    },
    {
      "cell_type": "markdown",
      "metadata": {
        "id": "O02X_lF5IuTp"
      },
      "source": [
        "Valid dict key types"
      ]
    },
    {
      "cell_type": "code",
      "execution_count": null,
      "metadata": {
        "id": "HNTYdMf6IuTp",
        "outputId": "de6fb59c-71bb-40d2-c586-05fa960c0492"
      },
      "outputs": [
        {
          "ename": "TypeError",
          "evalue": "unhashable type: 'list'",
          "output_type": "error",
          "traceback": [
            "\u001b[1;31m---------------------------------------------------------------------------\u001b[0m",
            "\u001b[1;31mTypeError\u001b[0m                                 Traceback (most recent call last)",
            "\u001b[1;32m~\\AppData\\Local\\Temp/ipykernel_25588/3722732650.py\u001b[0m in \u001b[0;36m<module>\u001b[1;34m\u001b[0m\n\u001b[0;32m      1\u001b[0m \u001b[0mhash\u001b[0m\u001b[1;33m(\u001b[0m\u001b[1;34m'string'\u001b[0m\u001b[1;33m)\u001b[0m\u001b[1;33m\u001b[0m\u001b[1;33m\u001b[0m\u001b[0m\n\u001b[0;32m      2\u001b[0m \u001b[0mhash\u001b[0m\u001b[1;33m(\u001b[0m\u001b[1;33m(\u001b[0m\u001b[1;36m1\u001b[0m\u001b[1;33m,\u001b[0m \u001b[1;36m2\u001b[0m\u001b[1;33m,\u001b[0m \u001b[1;33m(\u001b[0m\u001b[1;36m2\u001b[0m\u001b[1;33m,\u001b[0m \u001b[1;36m3\u001b[0m\u001b[1;33m)\u001b[0m\u001b[1;33m)\u001b[0m\u001b[1;33m)\u001b[0m\u001b[1;33m\u001b[0m\u001b[1;33m\u001b[0m\u001b[0m\n\u001b[1;32m----> 3\u001b[1;33m \u001b[0mhash\u001b[0m\u001b[1;33m(\u001b[0m\u001b[1;33m(\u001b[0m\u001b[1;36m1\u001b[0m\u001b[1;33m,\u001b[0m \u001b[1;36m2\u001b[0m\u001b[1;33m,\u001b[0m \u001b[1;33m[\u001b[0m\u001b[1;36m2\u001b[0m\u001b[1;33m,\u001b[0m \u001b[1;36m3\u001b[0m\u001b[1;33m]\u001b[0m\u001b[1;33m)\u001b[0m\u001b[1;33m)\u001b[0m \u001b[1;31m# fails because lists are mutable\u001b[0m\u001b[1;33m\u001b[0m\u001b[1;33m\u001b[0m\u001b[0m\n\u001b[0m",
            "\u001b[1;31mTypeError\u001b[0m: unhashable type: 'list'"
          ]
        }
      ],
      "source": [
        "hash('string')\n",
        "hash((1, 2, (2, 3)))\n",
        "hash((1, 2, [2, 3])) # fails because lists are mutable"
      ]
    },
    {
      "cell_type": "code",
      "execution_count": null,
      "metadata": {
        "id": "3quTaBz7IuTq",
        "outputId": "129d9829-5bc9-457f-c420-a636e5fda672"
      },
      "outputs": [
        {
          "ename": "TypeError",
          "evalue": "'int' object does not support item assignment",
          "output_type": "error",
          "traceback": [
            "\u001b[1;31m---------------------------------------------------------------------------\u001b[0m",
            "\u001b[1;31mTypeError\u001b[0m                                 Traceback (most recent call last)",
            "\u001b[1;32m~\\AppData\\Local\\Temp/ipykernel_25588/882507768.py\u001b[0m in \u001b[0;36m<module>\u001b[1;34m\u001b[0m\n\u001b[1;32m----> 1\u001b[1;33m \u001b[0md\u001b[0m\u001b[1;33m[\u001b[0m\u001b[0mtuple\u001b[0m\u001b[1;33m(\u001b[0m\u001b[1;33m[\u001b[0m\u001b[1;36m1\u001b[0m\u001b[1;33m,\u001b[0m \u001b[1;36m2\u001b[0m\u001b[1;33m,\u001b[0m \u001b[1;36m3\u001b[0m\u001b[1;33m]\u001b[0m\u001b[1;33m)\u001b[0m\u001b[1;33m]\u001b[0m \u001b[1;33m=\u001b[0m \u001b[1;36m5\u001b[0m\u001b[1;33m\u001b[0m\u001b[1;33m\u001b[0m\u001b[0m\n\u001b[0m\u001b[0;32m      2\u001b[0m \u001b[0md\u001b[0m\u001b[1;33m\u001b[0m\u001b[1;33m\u001b[0m\u001b[0m\n",
            "\u001b[1;31mTypeError\u001b[0m: 'int' object does not support item assignment"
          ]
        }
      ],
      "source": [
        "d[tuple([1, 2, 3])] = 5\n",
        "d\n"
      ]
    },
    {
      "cell_type": "markdown",
      "metadata": {
        "id": "1GrzcaaVIuTq"
      },
      "source": [
        "set"
      ]
    },
    {
      "cell_type": "code",
      "execution_count": null,
      "metadata": {
        "id": "BWQL1W5SIuTq",
        "outputId": "8524e477-d611-49c5-b211-5ce1f1c2c06d"
      },
      "outputs": [
        {
          "data": {
            "text/plain": [
              "{1, 2, 3}"
            ]
          },
          "execution_count": 75,
          "metadata": {},
          "output_type": "execute_result"
        }
      ],
      "source": [
        "set([2, 2, 2, 1, 3, 3])\n",
        "{2, 2, 2, 1, 3, 3}"
      ]
    },
    {
      "cell_type": "code",
      "execution_count": null,
      "metadata": {
        "id": "DV90aSHxIuTr"
      },
      "outputs": [],
      "source": [
        "a = {1, 2, 3, 4, 5}\n",
        "b = {3, 4, 5, 6, 7, 8}"
      ]
    },
    {
      "cell_type": "code",
      "execution_count": null,
      "metadata": {
        "id": "Gz_-WYpnIuTr",
        "outputId": "24f3ff8e-b89d-4101-f2d4-a8b15ec9e676"
      },
      "outputs": [
        {
          "data": {
            "text/plain": [
              "{1, 2, 3, 4, 5, 6, 7, 8}"
            ]
          },
          "execution_count": 77,
          "metadata": {},
          "output_type": "execute_result"
        }
      ],
      "source": [
        "a.union(b)\n",
        "a | b"
      ]
    },
    {
      "cell_type": "code",
      "execution_count": null,
      "metadata": {
        "id": "gF4LvupkIuTs",
        "outputId": "74c79558-0ddf-4cd6-b60e-7a8b91755b51"
      },
      "outputs": [
        {
          "data": {
            "text/plain": [
              "{3, 4, 5}"
            ]
          },
          "execution_count": 78,
          "metadata": {},
          "output_type": "execute_result"
        }
      ],
      "source": [
        "a.intersection(b)\n",
        "a & b"
      ]
    },
    {
      "cell_type": "code",
      "execution_count": null,
      "metadata": {
        "id": "783hgIfvIuTs",
        "outputId": "2d9be33d-ef9d-4921-8341-d18458c36d0a"
      },
      "outputs": [
        {
          "data": {
            "text/plain": [
              "{3, 4, 5}"
            ]
          },
          "execution_count": 79,
          "metadata": {},
          "output_type": "execute_result"
        }
      ],
      "source": [
        "c = a.copy()\n",
        "c |= b\n",
        "c\n",
        "d = a.copy()\n",
        "d &= b\n",
        "d"
      ]
    },
    {
      "cell_type": "code",
      "execution_count": null,
      "metadata": {
        "id": "KOqEODKxIuTt",
        "outputId": "9bf519c4-69b7-4d90-f3da-7420a7539da7"
      },
      "outputs": [
        {
          "data": {
            "text/plain": [
              "{(1, 2, 3, 4)}"
            ]
          },
          "execution_count": 80,
          "metadata": {},
          "output_type": "execute_result"
        }
      ],
      "source": [
        "my_data = [1, 2, 3, 4]\n",
        "my_set = {tuple(my_data)}\n",
        "my_set"
      ]
    },
    {
      "cell_type": "code",
      "execution_count": null,
      "metadata": {
        "id": "3b7tc8xOIuTt",
        "outputId": "b30728fe-ff7b-4f47-925f-fce886e5d928"
      },
      "outputs": [
        {
          "data": {
            "text/plain": [
              "True"
            ]
          },
          "execution_count": 81,
          "metadata": {},
          "output_type": "execute_result"
        }
      ],
      "source": [
        "a_set = {1, 2, 3, 4, 5}\n",
        "{1, 2, 3}.issubset(a_set)\n",
        "a_set.issuperset({1, 2, 3})\n"
      ]
    },
    {
      "cell_type": "code",
      "execution_count": null,
      "metadata": {
        "id": "PXoros0TIuTu",
        "outputId": "227180e5-e621-40f0-8276-4e356aaba27f"
      },
      "outputs": [
        {
          "data": {
            "text/plain": [
              "True"
            ]
          },
          "execution_count": 82,
          "metadata": {},
          "output_type": "execute_result"
        }
      ],
      "source": [
        "{1, 2, 3} == {3, 2, 1}"
      ]
    },
    {
      "cell_type": "markdown",
      "metadata": {
        "id": "MVW6NqTkIuTu"
      },
      "source": [
        "List, Set, and Dict Comprehensions"
      ]
    },
    {
      "cell_type": "markdown",
      "metadata": {
        "id": "70AotIUfIuTu"
      },
      "source": [
        "[\n",
        "\n",
        "result = [] for val in collection: if"
      ]
    },
    {
      "cell_type": "code",
      "execution_count": null,
      "metadata": {
        "id": "vcznv0dYIuTv",
        "outputId": "6d60e4f9-f228-4f09-d648-2b3aea15a376"
      },
      "outputs": [
        {
          "data": {
            "text/plain": [
              "['BAT', 'CAR', 'DOVE', 'PYTHON']"
            ]
          },
          "execution_count": 83,
          "metadata": {},
          "output_type": "execute_result"
        }
      ],
      "source": [
        "strings = ['a', 'as', 'bat', 'car', 'dove', 'python']\n",
        "[x.upper() for x in strings if len(x) > 2]"
      ]
    },
    {
      "cell_type": "markdown",
      "metadata": {
        "id": "csc-TqD9IuTv"
      },
      "source": [
        "dict_comp = {"
      ]
    },
    {
      "cell_type": "markdown",
      "metadata": {
        "id": "0o8j49TdIuTv"
      },
      "source": [
        "set_comp = {"
      ]
    },
    {
      "cell_type": "code",
      "execution_count": null,
      "metadata": {
        "id": "pQfkfPoFIuTw",
        "outputId": "6e5bf844-28f6-485b-c67a-2763acd1455f"
      },
      "outputs": [
        {
          "data": {
            "text/plain": [
              "{1, 2, 3, 4, 6}"
            ]
          },
          "execution_count": 84,
          "metadata": {},
          "output_type": "execute_result"
        }
      ],
      "source": [
        "unique_lengths = {len(x) for x in strings}\n",
        "unique_lengths"
      ]
    },
    {
      "cell_type": "code",
      "execution_count": null,
      "metadata": {
        "id": "wRT4BsA3IuTx",
        "outputId": "23b5dfc3-c4b0-41b8-a58d-3acabef75cb4"
      },
      "outputs": [
        {
          "data": {
            "text/plain": [
              "{1, 2, 3, 4, 6}"
            ]
          },
          "execution_count": 85,
          "metadata": {},
          "output_type": "execute_result"
        }
      ],
      "source": [
        "set(map(len, strings))"
      ]
    },
    {
      "cell_type": "code",
      "execution_count": null,
      "metadata": {
        "id": "33AFBD1WIuTx",
        "outputId": "56dbe2f0-0a60-4405-86cb-e224eb55c2e0"
      },
      "outputs": [
        {
          "data": {
            "text/plain": [
              "{'a': 0, 'as': 1, 'bat': 2, 'car': 3, 'dove': 4, 'python': 5}"
            ]
          },
          "execution_count": 86,
          "metadata": {},
          "output_type": "execute_result"
        }
      ],
      "source": [
        "loc_mapping = {val : index for index, val in enumerate(strings)}\n",
        "loc_mapping"
      ]
    },
    {
      "cell_type": "markdown",
      "metadata": {
        "id": "Lda688z-IuTy"
      },
      "source": [
        "Nested list comprehensions"
      ]
    },
    {
      "cell_type": "code",
      "execution_count": null,
      "metadata": {
        "id": "Jh8wx25eIuTz"
      },
      "outputs": [],
      "source": [
        "all_data = [['John', 'Emily', 'Michael', 'Mary', 'Steven'],\n",
        "            ['Maria', 'Juan', 'Javier', 'Natalia', 'Pilar']]"
      ]
    },
    {
      "cell_type": "markdown",
      "metadata": {
        "id": "GD4iaa8iIuTz"
      },
      "source": [
        "names_of_interest = [] for names in all_data: enough_es = [name for name in names if name.count('e') >= 2] names_of_interest.extend(enough_es)"
      ]
    },
    {
      "cell_type": "code",
      "execution_count": null,
      "metadata": {
        "id": "9NU93C5jIuTz",
        "outputId": "17edf784-7fc1-47e7-cd72-6094508c31b9"
      },
      "outputs": [
        {
          "data": {
            "text/plain": [
              "['Steven']"
            ]
          },
          "execution_count": 88,
          "metadata": {},
          "output_type": "execute_result"
        }
      ],
      "source": [
        "result = [name for names in all_data for name in names\n",
        "          if name.count('e') >= 2]\n",
        "result"
      ]
    },
    {
      "cell_type": "code",
      "execution_count": null,
      "metadata": {
        "id": "KBj6cCnUIuT0",
        "outputId": "729ac113-274d-4669-c222-3ec88a4bf453"
      },
      "outputs": [
        {
          "data": {
            "text/plain": [
              "[1, 2, 3, 4, 5, 6, 7, 8, 9]"
            ]
          },
          "execution_count": 89,
          "metadata": {},
          "output_type": "execute_result"
        }
      ],
      "source": [
        "some_tuples = [(1, 2, 3), (4, 5, 6), (7, 8, 9)]\n",
        "flattened = [x for tup in some_tuples for x in tup]\n",
        "flattened"
      ]
    },
    {
      "cell_type": "markdown",
      "metadata": {
        "id": "lyVfFMVqIuT0"
      },
      "source": [
        "flattened = []"
      ]
    },
    {
      "cell_type": "markdown",
      "metadata": {
        "id": "BprU2_eCIuT0"
      },
      "source": [
        "for tup in some_tuples: for x in tup: flattened.append(x)"
      ]
    },
    {
      "cell_type": "code",
      "execution_count": null,
      "metadata": {
        "id": "TJlGA_lUIuT1",
        "outputId": "38530822-a69b-4ec3-dcb9-a2dd9a1734d8"
      },
      "outputs": [
        {
          "data": {
            "text/plain": [
              "[[1, 2, 3], [4, 5, 6], [7, 8, 9]]"
            ]
          },
          "execution_count": 90,
          "metadata": {},
          "output_type": "execute_result"
        }
      ],
      "source": [
        "[[x for x in tup] for tup in some_tuples]"
      ]
    },
    {
      "cell_type": "markdown",
      "metadata": {
        "id": "Wq_U4c4ZIuT1"
      },
      "source": [
        "Functions"
      ]
    },
    {
      "cell_type": "markdown",
      "metadata": {
        "id": "wk5a9F2RIuT1"
      },
      "source": [
        "def my_function(x, y, z=1.5): if z > 1: return z * (x + y) else: return z / (x + y)\n",
        "\n",
        "my_function(5, 6, z=0.7) my_function(3.14, 7, 3.5) my_function(10, 20)"
      ]
    },
    {
      "cell_type": "markdown",
      "metadata": {
        "id": "OPKyzIiYIuT1"
      },
      "source": [
        "Namespaces, Scope, and Local Functions\n",
        "def func(): a = [] for i in range(5): a.append(i)\n",
        "\n",
        "a = [] def func(): for i in range(5): a.append(i)"
      ]
    },
    {
      "cell_type": "code",
      "execution_count": null,
      "metadata": {
        "id": "VuCowe1BIuT2",
        "outputId": "14c7e75d-be31-4424-cb5b-b7c28fedd25c"
      },
      "outputs": [
        {
          "name": "stdout",
          "output_type": "stream",
          "text": [
            "[]\n"
          ]
        }
      ],
      "source": [
        "a = None\n",
        "def bind_a_variable():\n",
        "    global a\n",
        "    a = []\n",
        "bind_a_variable()\n",
        "print(a)"
      ]
    },
    {
      "cell_type": "markdown",
      "metadata": {
        "id": "BdU-PB0bIuT2"
      },
      "source": [
        "Returning Multiple Values"
      ]
    },
    {
      "cell_type": "markdown",
      "metadata": {
        "id": "Bm3jrwG0IuT3"
      },
      "source": [
        "def f(): a = 5 b = 6 c = 7 return a, b, c\n",
        "\n",
        "a, b, c = f()\n",
        "\n",
        "return_value = f()\n",
        "\n",
        "def f(): a = 5 b = 6 c = 7 return {'a' : a, 'b' : b, 'c' : c}"
      ]
    },
    {
      "cell_type": "markdown",
      "metadata": {
        "id": "bsDQ2_t1IuT3"
      },
      "source": [
        "Functions Are Objects"
      ]
    },
    {
      "cell_type": "code",
      "execution_count": null,
      "metadata": {
        "id": "ueTvd1K9IuT3"
      },
      "outputs": [],
      "source": [
        "states = ['   Alabama ', 'Georgia!', 'Georgia', 'georgia', 'FlOrIda',\n",
        "          'south   carolina##', 'West virginia?']"
      ]
    },
    {
      "cell_type": "code",
      "execution_count": null,
      "metadata": {
        "id": "Bu5Qjxt2IuT3"
      },
      "outputs": [],
      "source": [
        "import re\n",
        "\n",
        "def clean_strings(strings):\n",
        "    result = []\n",
        "    for value in strings:\n",
        "        value = value.strip()\n",
        "        value = re.sub('[!#?]', '', value)\n",
        "        value = value.title()\n",
        "        result.append(value)\n",
        "    return result"
      ]
    },
    {
      "cell_type": "code",
      "execution_count": null,
      "metadata": {
        "id": "8hMUMD-vIuT3",
        "outputId": "3b4de9f4-56aa-487c-b721-2e523ad73b71"
      },
      "outputs": [
        {
          "data": {
            "text/plain": [
              "['Alabama',\n",
              " 'Georgia',\n",
              " 'Georgia',\n",
              " 'Georgia',\n",
              " 'Florida',\n",
              " 'South   Carolina',\n",
              " 'West Virginia']"
            ]
          },
          "execution_count": 6,
          "metadata": {},
          "output_type": "execute_result"
        }
      ],
      "source": [
        "clean_strings(states)"
      ]
    },
    {
      "cell_type": "code",
      "execution_count": null,
      "metadata": {
        "id": "EMFL7V5ZIuT4"
      },
      "outputs": [],
      "source": [
        "def remove_punctuation(value):\n",
        "    return re.sub('[!#?]', '', value)\n",
        "\n",
        "clean_ops = [str.strip, remove_punctuation, str.title]\n",
        "\n",
        "def clean_strings(strings, ops):\n",
        "    result = []\n",
        "    for value in strings:\n",
        "        for function in ops:\n",
        "            value = function(value)\n",
        "        result.append(value)\n",
        "    return result"
      ]
    },
    {
      "cell_type": "code",
      "execution_count": null,
      "metadata": {
        "id": "_YVCfA_aIuT4",
        "outputId": "8340a8a5-9400-4fbd-a21d-3ab4cd63955e"
      },
      "outputs": [
        {
          "data": {
            "text/plain": [
              "['Alabama',\n",
              " 'Georgia',\n",
              " 'Georgia',\n",
              " 'Georgia',\n",
              " 'Florida',\n",
              " 'South   Carolina',\n",
              " 'West Virginia']"
            ]
          },
          "execution_count": 8,
          "metadata": {},
          "output_type": "execute_result"
        }
      ],
      "source": [
        "clean_strings(states, clean_ops)"
      ]
    },
    {
      "cell_type": "code",
      "execution_count": null,
      "metadata": {
        "id": "p-iP4298IuT5",
        "outputId": "d4326c69-06e1-4aa1-c1e7-31f6989a68bb"
      },
      "outputs": [
        {
          "name": "stdout",
          "output_type": "stream",
          "text": [
            "   Alabama \n",
            "Georgia\n",
            "Georgia\n",
            "georgia\n",
            "FlOrIda\n",
            "south   carolina\n",
            "West virginia\n"
          ]
        }
      ],
      "source": [
        "for x in map(remove_punctuation, states):\n",
        "    print(x)"
      ]
    },
    {
      "cell_type": "markdown",
      "metadata": {
        "id": "CsSzP_jfIuT5"
      },
      "source": [
        "Anonymous (Lambda) Functions"
      ]
    },
    {
      "cell_type": "markdown",
      "metadata": {
        "id": "VtescrvfIuT5"
      },
      "source": [
        "def short_function(x): return x * 2\n",
        "\n",
        "equiv_anon = lambda x: x * 2\n",
        "\n",
        "def apply_to_list(some_list, f): return [f(x) for x in some_list]\n",
        "\n",
        "ints = [4, 0, 1, 5, 6] apply_to_list(ints, lambda x: x * 2)"
      ]
    },
    {
      "cell_type": "code",
      "execution_count": null,
      "metadata": {
        "id": "bJwmRaa5IuT6"
      },
      "outputs": [],
      "source": [
        "strings = ['foo', 'card', 'bar', 'aaaa', 'abab']"
      ]
    },
    {
      "cell_type": "code",
      "execution_count": null,
      "metadata": {
        "id": "TYxIoq36IuT6",
        "outputId": "fb85b297-4d68-4080-fe6b-420c21b1c19f"
      },
      "outputs": [
        {
          "data": {
            "text/plain": [
              "['aaaa', 'foo', 'abab', 'bar', 'card']"
            ]
          },
          "execution_count": 11,
          "metadata": {},
          "output_type": "execute_result"
        }
      ],
      "source": [
        "strings.sort(key=lambda x: len(set(list(x))))\n",
        "strings"
      ]
    },
    {
      "cell_type": "markdown",
      "metadata": {
        "id": "amthzdwhIuT6"
      },
      "source": [
        "Currying: Partial Argument Application\n",
        "def add_numbers(x, y): return x + y\n",
        "\n",
        "add_five = lambda y: add_numbers(5, y)\n",
        "\n",
        "from functools import partial add_five = partial(add_numbers, 5)"
      ]
    },
    {
      "cell_type": "markdown",
      "metadata": {
        "id": "ZwpmvK0AIuT7"
      },
      "source": [
        ""
      ]
    },
    {
      "cell_type": "markdown",
      "metadata": {
        "id": "ubAhF87TIuT7"
      },
      "source": [
        "Generators"
      ]
    },
    {
      "cell_type": "markdown",
      "metadata": {
        "id": "UfAA-U2PIuT7"
      },
      "source": [
        ""
      ]
    },
    {
      "cell_type": "code",
      "execution_count": null,
      "metadata": {
        "id": "eVvC5NarIuT7",
        "outputId": "326e9f72-1501-46fa-a9b3-99adac2dca18"
      },
      "outputs": [
        {
          "name": "stdout",
          "output_type": "stream",
          "text": [
            "a\n",
            "b\n",
            "c\n"
          ]
        }
      ],
      "source": [
        "some_dict = {'a': 1, 'b': 2, 'c': 3}\n",
        "for key in some_dict:\n",
        "    print(key)"
      ]
    },
    {
      "cell_type": "code",
      "execution_count": null,
      "metadata": {
        "id": "bXDR1uerIuT7",
        "outputId": "36d7f0b8-e324-422e-bf1f-7ccdab819cae"
      },
      "outputs": [
        {
          "data": {
            "text/plain": [
              "<dict_keyiterator at 0x18eb9fa0630>"
            ]
          },
          "execution_count": 14,
          "metadata": {},
          "output_type": "execute_result"
        }
      ],
      "source": [
        "dict_iterator = iter(some_dict)\n",
        "dict_iterator"
      ]
    },
    {
      "cell_type": "code",
      "execution_count": null,
      "metadata": {
        "id": "UH_df1FMIuT8",
        "outputId": "d5223f76-e7a2-4929-82ba-3816ca34c46f"
      },
      "outputs": [
        {
          "data": {
            "text/plain": [
              "['a', 'b', 'c']"
            ]
          },
          "execution_count": 15,
          "metadata": {},
          "output_type": "execute_result"
        }
      ],
      "source": [
        "list(dict_iterator)"
      ]
    },
    {
      "cell_type": "code",
      "execution_count": null,
      "metadata": {
        "id": "BwyB1kvCIuT8"
      },
      "outputs": [],
      "source": [
        "def squares(n=10):\n",
        "    print('Generating squares from 1 to {0}'.format(n ** 2))\n",
        "    for i in range(1, n + 1):\n",
        "        yield i ** 2"
      ]
    },
    {
      "cell_type": "code",
      "execution_count": null,
      "metadata": {
        "id": "u4ZMlG_JIuT8",
        "outputId": "0d3f5363-6661-4fe5-96e0-a8031a25da52"
      },
      "outputs": [
        {
          "data": {
            "text/plain": [
              "<generator object squares at 0x0000018EB9F92DD0>"
            ]
          },
          "execution_count": 17,
          "metadata": {},
          "output_type": "execute_result"
        }
      ],
      "source": [
        "gen = squares()\n",
        "gen"
      ]
    },
    {
      "cell_type": "code",
      "execution_count": null,
      "metadata": {
        "id": "B62tLdl6IuT8",
        "outputId": "402c5414-4c83-4a52-f513-63dc8fa56448"
      },
      "outputs": [
        {
          "name": "stdout",
          "output_type": "stream",
          "text": [
            "Generating squares from 1 to 100\n",
            "1 4 9 16 25 36 49 64 81 100 "
          ]
        }
      ],
      "source": [
        "for x in gen:\n",
        "    print(x, end=' ')"
      ]
    },
    {
      "cell_type": "markdown",
      "metadata": {
        "id": "jBrAB8XlIuT8"
      },
      "source": [
        "Generator expresssions"
      ]
    },
    {
      "cell_type": "code",
      "execution_count": null,
      "metadata": {
        "id": "46BczXbmIuT9",
        "outputId": "a94a0582-9208-407b-f8fc-095b4a9a6d38"
      },
      "outputs": [
        {
          "data": {
            "text/plain": [
              "<generator object <genexpr> at 0x0000018EB9FC5270>"
            ]
          },
          "execution_count": 19,
          "metadata": {},
          "output_type": "execute_result"
        }
      ],
      "source": [
        "gen = (x ** 2 for x in range(100))\n",
        "gen"
      ]
    },
    {
      "cell_type": "markdown",
      "metadata": {
        "id": "O2pcNJOaIuT9"
      },
      "source": [
        "def _make_gen(): for x in range(100): yield x ** 2 gen = _make_gen()"
      ]
    },
    {
      "cell_type": "code",
      "execution_count": null,
      "metadata": {
        "id": "DW-uOtq3IuT9",
        "outputId": "d0992be3-6b3b-4ee1-f368-539fa879ff8a"
      },
      "outputs": [
        {
          "data": {
            "text/plain": [
              "{0: 0, 1: 1, 2: 4, 3: 9, 4: 16}"
            ]
          },
          "execution_count": 20,
          "metadata": {},
          "output_type": "execute_result"
        }
      ],
      "source": [
        "sum(x ** 2 for x in range(100))\n",
        "dict((i, i **2) for i in range(5))"
      ]
    },
    {
      "cell_type": "markdown",
      "metadata": {
        "id": "n8AEvgYeIuT9"
      },
      "source": [
        "itertools module"
      ]
    },
    {
      "cell_type": "code",
      "execution_count": null,
      "metadata": {
        "id": "zOxEH_XqIuT9",
        "outputId": "2ba00f3a-22e7-4f39-a3e7-f8ae40103670"
      },
      "outputs": [
        {
          "name": "stdout",
          "output_type": "stream",
          "text": [
            "A ['Alan', 'Adam']\n",
            "W ['Wes', 'Will']\n",
            "A ['Albert']\n",
            "S ['Steven']\n"
          ]
        }
      ],
      "source": [
        "import itertools\n",
        "first_letter = lambda x: x[0]\n",
        "names = ['Alan', 'Adam', 'Wes', 'Will', 'Albert', 'Steven']\n",
        "for letter, names in itertools.groupby(names, first_letter):\n",
        "    print(letter, list(names)) # names is a generator"
      ]
    },
    {
      "cell_type": "markdown",
      "metadata": {
        "id": "bH7jnGcwIuT-"
      },
      "source": [
        "Errors and Exception Handling"
      ]
    },
    {
      "cell_type": "code",
      "execution_count": null,
      "metadata": {
        "id": "TfO6kdkAIuT-"
      },
      "outputs": [],
      "source": [
        "float('1.2345')\n",
        "float('something')"
      ]
    },
    {
      "cell_type": "code",
      "execution_count": null,
      "metadata": {
        "id": "Y_Tqex66IuT_"
      },
      "outputs": [],
      "source": [
        "def attempt_float(x):\n",
        "    try:\n",
        "        return float(x)\n",
        "    except:\n",
        "        return x"
      ]
    },
    {
      "cell_type": "code",
      "execution_count": null,
      "metadata": {
        "id": "1Om2kpnQIuT_",
        "outputId": "2c1897e5-ca06-4180-ddc3-f367ef23afd1"
      },
      "outputs": [
        {
          "data": {
            "text/plain": [
              "'something'"
            ]
          },
          "execution_count": 23,
          "metadata": {},
          "output_type": "execute_result"
        }
      ],
      "source": [
        "attempt_float('1.2345')\n",
        "attempt_float('something')"
      ]
    },
    {
      "cell_type": "code",
      "execution_count": null,
      "metadata": {
        "id": "Jlse2DxMIuUA",
        "outputId": "f2cd8f23-9e70-4caf-c128-4d43484209a4"
      },
      "outputs": [
        {
          "ename": "TypeError",
          "evalue": "float() argument must be a string or a number, not 'tuple'",
          "output_type": "error",
          "traceback": [
            "\u001b[1;31m---------------------------------------------------------------------------\u001b[0m",
            "\u001b[1;31mTypeError\u001b[0m                                 Traceback (most recent call last)",
            "\u001b[1;32m~\\AppData\\Local\\Temp/ipykernel_19932/1061708882.py\u001b[0m in \u001b[0;36m<module>\u001b[1;34m\u001b[0m\n\u001b[1;32m----> 1\u001b[1;33m \u001b[0mfloat\u001b[0m\u001b[1;33m(\u001b[0m\u001b[1;33m(\u001b[0m\u001b[1;36m1\u001b[0m\u001b[1;33m,\u001b[0m \u001b[1;36m2\u001b[0m\u001b[1;33m)\u001b[0m\u001b[1;33m)\u001b[0m\u001b[1;33m\u001b[0m\u001b[1;33m\u001b[0m\u001b[0m\n\u001b[0m",
            "\u001b[1;31mTypeError\u001b[0m: float() argument must be a string or a number, not 'tuple'"
          ]
        }
      ],
      "source": [
        "float((1, 2))"
      ]
    },
    {
      "cell_type": "code",
      "execution_count": null,
      "metadata": {
        "id": "vB75PNSCIuUA"
      },
      "outputs": [],
      "source": [
        "def attempt_float(x):\n",
        "    try:\n",
        "        return float(x)\n",
        "    except ValueError:\n",
        "        return x"
      ]
    },
    {
      "cell_type": "code",
      "execution_count": null,
      "metadata": {
        "id": "jKnLLiDYIuUB",
        "outputId": "0456cb68-4a5d-46b0-9346-93d47973829b"
      },
      "outputs": [
        {
          "ename": "TypeError",
          "evalue": "float() argument must be a string or a number, not 'tuple'",
          "output_type": "error",
          "traceback": [
            "\u001b[1;31m---------------------------------------------------------------------------\u001b[0m",
            "\u001b[1;31mTypeError\u001b[0m                                 Traceback (most recent call last)",
            "\u001b[1;32m~\\AppData\\Local\\Temp/ipykernel_19932/3151118377.py\u001b[0m in \u001b[0;36m<module>\u001b[1;34m\u001b[0m\n\u001b[1;32m----> 1\u001b[1;33m \u001b[0mattempt_float\u001b[0m\u001b[1;33m(\u001b[0m\u001b[1;33m(\u001b[0m\u001b[1;36m1\u001b[0m\u001b[1;33m,\u001b[0m \u001b[1;36m2\u001b[0m\u001b[1;33m)\u001b[0m\u001b[1;33m)\u001b[0m\u001b[1;33m\u001b[0m\u001b[1;33m\u001b[0m\u001b[0m\n\u001b[0m",
            "\u001b[1;32m~\\AppData\\Local\\Temp/ipykernel_19932/1063157278.py\u001b[0m in \u001b[0;36mattempt_float\u001b[1;34m(x)\u001b[0m\n\u001b[0;32m      1\u001b[0m \u001b[1;32mdef\u001b[0m \u001b[0mattempt_float\u001b[0m\u001b[1;33m(\u001b[0m\u001b[0mx\u001b[0m\u001b[1;33m)\u001b[0m\u001b[1;33m:\u001b[0m\u001b[1;33m\u001b[0m\u001b[1;33m\u001b[0m\u001b[0m\n\u001b[0;32m      2\u001b[0m     \u001b[1;32mtry\u001b[0m\u001b[1;33m:\u001b[0m\u001b[1;33m\u001b[0m\u001b[1;33m\u001b[0m\u001b[0m\n\u001b[1;32m----> 3\u001b[1;33m         \u001b[1;32mreturn\u001b[0m \u001b[0mfloat\u001b[0m\u001b[1;33m(\u001b[0m\u001b[0mx\u001b[0m\u001b[1;33m)\u001b[0m\u001b[1;33m\u001b[0m\u001b[1;33m\u001b[0m\u001b[0m\n\u001b[0m\u001b[0;32m      4\u001b[0m     \u001b[1;32mexcept\u001b[0m \u001b[0mValueError\u001b[0m\u001b[1;33m:\u001b[0m\u001b[1;33m\u001b[0m\u001b[1;33m\u001b[0m\u001b[0m\n\u001b[0;32m      5\u001b[0m         \u001b[1;32mreturn\u001b[0m \u001b[0mx\u001b[0m\u001b[1;33m\u001b[0m\u001b[1;33m\u001b[0m\u001b[0m\n",
            "\u001b[1;31mTypeError\u001b[0m: float() argument must be a string or a number, not 'tuple'"
          ]
        }
      ],
      "source": [
        "attempt_float((1, 2))"
      ]
    },
    {
      "cell_type": "code",
      "execution_count": null,
      "metadata": {
        "id": "pLDPY8ltIuUB"
      },
      "outputs": [],
      "source": [
        "def attempt_float(x):\n",
        "    try:\n",
        "        return float(x)\n",
        "    except (TypeError, ValueError):\n",
        "        return x"
      ]
    },
    {
      "cell_type": "markdown",
      "metadata": {
        "id": "shhsH4ffIuUB"
      },
      "source": [
        "f = open(path, 'w')\n",
        "\n",
        "try: write_to_file(f) finally: f.close()\n",
        "\n",
        "f = open(path, 'w')\n",
        "\n",
        "try: write_to_file(f) except: print('Failed') else: print('Succeeded') finally: f.close()"
      ]
    },
    {
      "cell_type": "markdown",
      "metadata": {
        "id": "M-vW1V29IuUC"
      },
      "source": [
        "Exceptions in IPython"
      ]
    },
    {
      "cell_type": "markdown",
      "metadata": {
        "id": "0rvxz3LQIuUC"
      },
      "source": [
        "In [10]: %run examples/ipython_bug.py"
      ]
    },
    {
      "cell_type": "markdown",
      "metadata": {
        "id": "cyxzljurIuUD"
      },
      "source": [
        "AssertionError Traceback (most recent call last) /home/wesm/code/pydata-book/examples/ipython_bug.py in () 13 throws_an_exception() 14 ---> 15 calling_things()\n",
        "\n",
        "/home/wesm/code/pydata-book/examples/ipython_bug.py in calling_things() 11 def calling_things(): 12 works_fine() ---> 13 throws_an_exception() 14 15 calling_things()\n",
        "\n",
        "/home/wesm/code/pydata-book/examples/ipython_bug.py in throws_an_exception() 7 a = 5 8 b = 6 ----> 9 assert(a + b == 10) 10 11 def calling_things():\n",
        "\n",
        "AssertionError:\n",
        "\n",
        "Files and the Operating System"
      ]
    },
    {
      "cell_type": "code",
      "execution_count": null,
      "metadata": {
        "id": "AWRfe4rUIuUD",
        "outputId": "c23b6b78-f137-4b17-92d6-0945b19b9ab6"
      },
      "outputs": [
        {
          "name": "stdout",
          "output_type": "stream",
          "text": [
            "[WinError 2] The system cannot find the file specified: 'book-materials'\n",
            "c:\\Users\\LENOVO\\Documents\\Project{CODE}\\Data Analysis\\Portfolio Project\\Notebooks\n"
          ]
        },
        {
          "data": {
            "text/plain": [
              "['c:\\\\Users\\\\LENOVO\\\\Documents\\\\Project{CODE}\\\\Data Analysis\\\\Portfolio Project\\\\Notebooks']"
            ]
          },
          "execution_count": 28,
          "metadata": {},
          "output_type": "execute_result"
        }
      ],
      "source": [
        "%pushd book-materials"
      ]
    },
    {
      "cell_type": "code",
      "execution_count": null,
      "metadata": {
        "id": "X3EmXHhGIuUE",
        "outputId": "c402f616-683b-425b-f56e-2847437313f6"
      },
      "outputs": [
        {
          "ename": "FileNotFoundError",
          "evalue": "[Errno 2] No such file or directory: 'examples/segismundo.txt'",
          "output_type": "error",
          "traceback": [
            "\u001b[1;31m---------------------------------------------------------------------------\u001b[0m",
            "\u001b[1;31mFileNotFoundError\u001b[0m                         Traceback (most recent call last)",
            "\u001b[1;32m~\\AppData\\Local\\Temp/ipykernel_19932/4239849966.py\u001b[0m in \u001b[0;36m<module>\u001b[1;34m\u001b[0m\n\u001b[0;32m      1\u001b[0m \u001b[0mpath\u001b[0m \u001b[1;33m=\u001b[0m \u001b[1;34m'examples/segismundo.txt'\u001b[0m\u001b[1;33m\u001b[0m\u001b[1;33m\u001b[0m\u001b[0m\n\u001b[1;32m----> 2\u001b[1;33m \u001b[0mf\u001b[0m \u001b[1;33m=\u001b[0m \u001b[0mopen\u001b[0m\u001b[1;33m(\u001b[0m\u001b[0mpath\u001b[0m\u001b[1;33m)\u001b[0m\u001b[1;33m\u001b[0m\u001b[1;33m\u001b[0m\u001b[0m\n\u001b[0m",
            "\u001b[1;31mFileNotFoundError\u001b[0m: [Errno 2] No such file or directory: 'examples/segismundo.txt'"
          ]
        }
      ],
      "source": [
        "path = 'examples/segismundo.txt'\n",
        "f = open(path)"
      ]
    },
    {
      "cell_type": "markdown",
      "metadata": {
        "id": "VBjIOHsDIuUE"
      },
      "source": [
        "for line in f: pass"
      ]
    },
    {
      "cell_type": "code",
      "execution_count": null,
      "metadata": {
        "id": "ukeW3JtpIuUE",
        "outputId": "8aea45ec-0ef8-4d97-d96a-063ef5174b94"
      },
      "outputs": [
        {
          "ename": "FileNotFoundError",
          "evalue": "[Errno 2] No such file or directory: 'examples/segismundo.txt'",
          "output_type": "error",
          "traceback": [
            "\u001b[1;31m---------------------------------------------------------------------------\u001b[0m",
            "\u001b[1;31mFileNotFoundError\u001b[0m                         Traceback (most recent call last)",
            "\u001b[1;32m~\\AppData\\Local\\Temp/ipykernel_19932/1220067314.py\u001b[0m in \u001b[0;36m<module>\u001b[1;34m\u001b[0m\n\u001b[1;32m----> 1\u001b[1;33m \u001b[0mlines\u001b[0m \u001b[1;33m=\u001b[0m \u001b[1;33m[\u001b[0m\u001b[0mx\u001b[0m\u001b[1;33m.\u001b[0m\u001b[0mrstrip\u001b[0m\u001b[1;33m(\u001b[0m\u001b[1;33m)\u001b[0m \u001b[1;32mfor\u001b[0m \u001b[0mx\u001b[0m \u001b[1;32min\u001b[0m \u001b[0mopen\u001b[0m\u001b[1;33m(\u001b[0m\u001b[0mpath\u001b[0m\u001b[1;33m)\u001b[0m\u001b[1;33m]\u001b[0m\u001b[1;33m\u001b[0m\u001b[1;33m\u001b[0m\u001b[0m\n\u001b[0m\u001b[0;32m      2\u001b[0m \u001b[0mlines\u001b[0m\u001b[1;33m\u001b[0m\u001b[1;33m\u001b[0m\u001b[0m\n",
            "\u001b[1;31mFileNotFoundError\u001b[0m: [Errno 2] No such file or directory: 'examples/segismundo.txt'"
          ]
        }
      ],
      "source": [
        "lines = [x.rstrip() for x in open(path)]\n",
        "lines"
      ]
    },
    {
      "cell_type": "code",
      "execution_count": null,
      "metadata": {
        "id": "Mwj9l-oVIuUF",
        "outputId": "56031c65-c166-45b0-cd39-67ef4fe2b6e6"
      },
      "outputs": [
        {
          "ename": "NameError",
          "evalue": "name 'f' is not defined",
          "output_type": "error",
          "traceback": [
            "\u001b[1;31m---------------------------------------------------------------------------\u001b[0m",
            "\u001b[1;31mNameError\u001b[0m                                 Traceback (most recent call last)",
            "\u001b[1;32m~\\AppData\\Local\\Temp/ipykernel_19932/4000743260.py\u001b[0m in \u001b[0;36m<module>\u001b[1;34m\u001b[0m\n\u001b[1;32m----> 1\u001b[1;33m \u001b[0mf\u001b[0m\u001b[1;33m.\u001b[0m\u001b[0mclose\u001b[0m\u001b[1;33m(\u001b[0m\u001b[1;33m)\u001b[0m\u001b[1;33m\u001b[0m\u001b[1;33m\u001b[0m\u001b[0m\n\u001b[0m",
            "\u001b[1;31mNameError\u001b[0m: name 'f' is not defined"
          ]
        }
      ],
      "source": [
        "f.close()"
      ]
    },
    {
      "cell_type": "code",
      "execution_count": null,
      "metadata": {
        "id": "6pBTg_k9IuUF",
        "outputId": "d4d93c0b-5fea-4397-9b90-9cc61dbe9a58"
      },
      "outputs": [
        {
          "ename": "FileNotFoundError",
          "evalue": "[Errno 2] No such file or directory: 'examples/segismundo.txt'",
          "output_type": "error",
          "traceback": [
            "\u001b[1;31m---------------------------------------------------------------------------\u001b[0m",
            "\u001b[1;31mFileNotFoundError\u001b[0m                         Traceback (most recent call last)",
            "\u001b[1;32m~\\AppData\\Local\\Temp/ipykernel_19932/2491392221.py\u001b[0m in \u001b[0;36m<module>\u001b[1;34m\u001b[0m\n\u001b[1;32m----> 1\u001b[1;33m \u001b[1;32mwith\u001b[0m \u001b[0mopen\u001b[0m\u001b[1;33m(\u001b[0m\u001b[0mpath\u001b[0m\u001b[1;33m)\u001b[0m \u001b[1;32mas\u001b[0m \u001b[0mf\u001b[0m\u001b[1;33m:\u001b[0m\u001b[1;33m\u001b[0m\u001b[1;33m\u001b[0m\u001b[0m\n\u001b[0m\u001b[0;32m      2\u001b[0m     \u001b[0mlines\u001b[0m \u001b[1;33m=\u001b[0m \u001b[1;33m[\u001b[0m\u001b[0mx\u001b[0m\u001b[1;33m.\u001b[0m\u001b[0mrstrip\u001b[0m\u001b[1;33m(\u001b[0m\u001b[1;33m)\u001b[0m \u001b[1;32mfor\u001b[0m \u001b[0mx\u001b[0m \u001b[1;32min\u001b[0m \u001b[0mf\u001b[0m\u001b[1;33m]\u001b[0m\u001b[1;33m\u001b[0m\u001b[1;33m\u001b[0m\u001b[0m\n",
            "\u001b[1;31mFileNotFoundError\u001b[0m: [Errno 2] No such file or directory: 'examples/segismundo.txt'"
          ]
        }
      ],
      "source": [
        "with open(path) as f:\n",
        "    lines = [x.rstrip() for x in f]"
      ]
    },
    {
      "cell_type": "code",
      "execution_count": null,
      "metadata": {
        "id": "QSTUFhnxIuUF",
        "outputId": "708fc0f7-8313-4ad9-8aa2-b963390673b3"
      },
      "outputs": [
        {
          "ename": "FileNotFoundError",
          "evalue": "[Errno 2] No such file or directory: 'examples/segismundo.txt'",
          "output_type": "error",
          "traceback": [
            "\u001b[1;31m---------------------------------------------------------------------------\u001b[0m",
            "\u001b[1;31mFileNotFoundError\u001b[0m                         Traceback (most recent call last)",
            "\u001b[1;32m~\\AppData\\Local\\Temp/ipykernel_19932/4260117404.py\u001b[0m in \u001b[0;36m<module>\u001b[1;34m\u001b[0m\n\u001b[1;32m----> 1\u001b[1;33m \u001b[0mf\u001b[0m \u001b[1;33m=\u001b[0m \u001b[0mopen\u001b[0m\u001b[1;33m(\u001b[0m\u001b[0mpath\u001b[0m\u001b[1;33m)\u001b[0m\u001b[1;33m\u001b[0m\u001b[1;33m\u001b[0m\u001b[0m\n\u001b[0m\u001b[0;32m      2\u001b[0m \u001b[0mf\u001b[0m\u001b[1;33m.\u001b[0m\u001b[0mread\u001b[0m\u001b[1;33m(\u001b[0m\u001b[1;36m10\u001b[0m\u001b[1;33m)\u001b[0m\u001b[1;33m\u001b[0m\u001b[1;33m\u001b[0m\u001b[0m\n\u001b[0;32m      3\u001b[0m \u001b[0mf2\u001b[0m \u001b[1;33m=\u001b[0m \u001b[0mopen\u001b[0m\u001b[1;33m(\u001b[0m\u001b[0mpath\u001b[0m\u001b[1;33m,\u001b[0m \u001b[1;34m'rb'\u001b[0m\u001b[1;33m)\u001b[0m  \u001b[1;31m# Binary mode\u001b[0m\u001b[1;33m\u001b[0m\u001b[1;33m\u001b[0m\u001b[0m\n\u001b[0;32m      4\u001b[0m \u001b[0mf2\u001b[0m\u001b[1;33m.\u001b[0m\u001b[0mread\u001b[0m\u001b[1;33m(\u001b[0m\u001b[1;36m10\u001b[0m\u001b[1;33m)\u001b[0m\u001b[1;33m\u001b[0m\u001b[1;33m\u001b[0m\u001b[0m\n",
            "\u001b[1;31mFileNotFoundError\u001b[0m: [Errno 2] No such file or directory: 'examples/segismundo.txt'"
          ]
        }
      ],
      "source": [
        "f = open(path)\n",
        "f.read(10)\n",
        "f2 = open(path, 'rb')  # Binary mode\n",
        "f2.read(10)"
      ]
    },
    {
      "cell_type": "code",
      "execution_count": null,
      "metadata": {
        "id": "tTlC1e4UIuUG",
        "outputId": "877c8d20-9fbe-4ac8-829d-9aad9cb2b2f5"
      },
      "outputs": [
        {
          "ename": "NameError",
          "evalue": "name 'f' is not defined",
          "output_type": "error",
          "traceback": [
            "\u001b[1;31m---------------------------------------------------------------------------\u001b[0m",
            "\u001b[1;31mNameError\u001b[0m                                 Traceback (most recent call last)",
            "\u001b[1;32m~\\AppData\\Local\\Temp/ipykernel_19932/635250024.py\u001b[0m in \u001b[0;36m<module>\u001b[1;34m\u001b[0m\n\u001b[1;32m----> 1\u001b[1;33m \u001b[0mf\u001b[0m\u001b[1;33m.\u001b[0m\u001b[0mtell\u001b[0m\u001b[1;33m(\u001b[0m\u001b[1;33m)\u001b[0m\u001b[1;33m\u001b[0m\u001b[1;33m\u001b[0m\u001b[0m\n\u001b[0m\u001b[0;32m      2\u001b[0m \u001b[0mf2\u001b[0m\u001b[1;33m.\u001b[0m\u001b[0mtell\u001b[0m\u001b[1;33m(\u001b[0m\u001b[1;33m)\u001b[0m\u001b[1;33m\u001b[0m\u001b[1;33m\u001b[0m\u001b[0m\n",
            "\u001b[1;31mNameError\u001b[0m: name 'f' is not defined"
          ]
        }
      ],
      "source": [
        "f.tell()\n",
        "f2.tell()"
      ]
    },
    {
      "cell_type": "code",
      "execution_count": null,
      "metadata": {
        "id": "rXYbfSg-IuUG",
        "outputId": "911fbe71-dcac-4b48-cce5-64b853683d92"
      },
      "outputs": [
        {
          "data": {
            "text/plain": [
              "'utf-8'"
            ]
          },
          "execution_count": 35,
          "metadata": {},
          "output_type": "execute_result"
        }
      ],
      "source": [
        "import sys\n",
        "sys.getdefaultencoding()"
      ]
    },
    {
      "cell_type": "code",
      "execution_count": null,
      "metadata": {
        "id": "x1tjYhFGIuUH",
        "outputId": "03b91da2-cb2d-4023-d9d5-fc7a1d0f672e"
      },
      "outputs": [
        {
          "ename": "NameError",
          "evalue": "name 'f' is not defined",
          "output_type": "error",
          "traceback": [
            "\u001b[1;31m---------------------------------------------------------------------------\u001b[0m",
            "\u001b[1;31mNameError\u001b[0m                                 Traceback (most recent call last)",
            "\u001b[1;32m~\\AppData\\Local\\Temp/ipykernel_19932/340529936.py\u001b[0m in \u001b[0;36m<module>\u001b[1;34m\u001b[0m\n\u001b[1;32m----> 1\u001b[1;33m \u001b[0mf\u001b[0m\u001b[1;33m.\u001b[0m\u001b[0mseek\u001b[0m\u001b[1;33m(\u001b[0m\u001b[1;36m3\u001b[0m\u001b[1;33m)\u001b[0m\u001b[1;33m\u001b[0m\u001b[1;33m\u001b[0m\u001b[0m\n\u001b[0m\u001b[0;32m      2\u001b[0m \u001b[0mf\u001b[0m\u001b[1;33m.\u001b[0m\u001b[0mread\u001b[0m\u001b[1;33m(\u001b[0m\u001b[1;36m1\u001b[0m\u001b[1;33m)\u001b[0m\u001b[1;33m\u001b[0m\u001b[1;33m\u001b[0m\u001b[0m\n",
            "\u001b[1;31mNameError\u001b[0m: name 'f' is not defined"
          ]
        }
      ],
      "source": [
        "f.seek(3)\n",
        "f.read(1)"
      ]
    },
    {
      "cell_type": "code",
      "execution_count": null,
      "metadata": {
        "id": "4AeJeU5pIuUH",
        "outputId": "19a8bec4-f626-4985-9a79-b45a74bfde2a"
      },
      "outputs": [
        {
          "ename": "NameError",
          "evalue": "name 'f' is not defined",
          "output_type": "error",
          "traceback": [
            "\u001b[1;31m---------------------------------------------------------------------------\u001b[0m",
            "\u001b[1;31mNameError\u001b[0m                                 Traceback (most recent call last)",
            "\u001b[1;32m~\\AppData\\Local\\Temp/ipykernel_19932/1752331128.py\u001b[0m in \u001b[0;36m<module>\u001b[1;34m\u001b[0m\n\u001b[1;32m----> 1\u001b[1;33m \u001b[0mf\u001b[0m\u001b[1;33m.\u001b[0m\u001b[0mclose\u001b[0m\u001b[1;33m(\u001b[0m\u001b[1;33m)\u001b[0m\u001b[1;33m\u001b[0m\u001b[1;33m\u001b[0m\u001b[0m\n\u001b[0m\u001b[0;32m      2\u001b[0m \u001b[0mf2\u001b[0m\u001b[1;33m.\u001b[0m\u001b[0mclose\u001b[0m\u001b[1;33m(\u001b[0m\u001b[1;33m)\u001b[0m\u001b[1;33m\u001b[0m\u001b[1;33m\u001b[0m\u001b[0m\n",
            "\u001b[1;31mNameError\u001b[0m: name 'f' is not defined"
          ]
        }
      ],
      "source": [
        "f.close()\n",
        "f2.close()"
      ]
    },
    {
      "cell_type": "code",
      "execution_count": null,
      "metadata": {
        "id": "LsL3ILztIuUH",
        "outputId": "98e370f9-40db-4da2-f2f7-a5f9719eb024"
      },
      "outputs": [
        {
          "ename": "FileNotFoundError",
          "evalue": "[Errno 2] No such file or directory: 'examples/segismundo.txt'",
          "output_type": "error",
          "traceback": [
            "\u001b[1;31m---------------------------------------------------------------------------\u001b[0m",
            "\u001b[1;31mFileNotFoundError\u001b[0m                         Traceback (most recent call last)",
            "\u001b[1;32m~\\AppData\\Local\\Temp/ipykernel_19932/1317457669.py\u001b[0m in \u001b[0;36m<module>\u001b[1;34m\u001b[0m\n\u001b[0;32m      1\u001b[0m \u001b[1;32mwith\u001b[0m \u001b[0mopen\u001b[0m\u001b[1;33m(\u001b[0m\u001b[1;34m'tmp.txt'\u001b[0m\u001b[1;33m,\u001b[0m \u001b[1;34m'w'\u001b[0m\u001b[1;33m)\u001b[0m \u001b[1;32mas\u001b[0m \u001b[0mhandle\u001b[0m\u001b[1;33m:\u001b[0m\u001b[1;33m\u001b[0m\u001b[1;33m\u001b[0m\u001b[0m\n\u001b[1;32m----> 2\u001b[1;33m     \u001b[0mhandle\u001b[0m\u001b[1;33m.\u001b[0m\u001b[0mwritelines\u001b[0m\u001b[1;33m(\u001b[0m\u001b[0mx\u001b[0m \u001b[1;32mfor\u001b[0m \u001b[0mx\u001b[0m \u001b[1;32min\u001b[0m \u001b[0mopen\u001b[0m\u001b[1;33m(\u001b[0m\u001b[0mpath\u001b[0m\u001b[1;33m)\u001b[0m \u001b[1;32mif\u001b[0m \u001b[0mlen\u001b[0m\u001b[1;33m(\u001b[0m\u001b[0mx\u001b[0m\u001b[1;33m)\u001b[0m \u001b[1;33m>\u001b[0m \u001b[1;36m1\u001b[0m\u001b[1;33m)\u001b[0m\u001b[1;33m\u001b[0m\u001b[1;33m\u001b[0m\u001b[0m\n\u001b[0m\u001b[0;32m      3\u001b[0m \u001b[1;32mwith\u001b[0m \u001b[0mopen\u001b[0m\u001b[1;33m(\u001b[0m\u001b[1;34m'tmp.txt'\u001b[0m\u001b[1;33m)\u001b[0m \u001b[1;32mas\u001b[0m \u001b[0mf\u001b[0m\u001b[1;33m:\u001b[0m\u001b[1;33m\u001b[0m\u001b[1;33m\u001b[0m\u001b[0m\n\u001b[0;32m      4\u001b[0m     \u001b[0mlines\u001b[0m \u001b[1;33m=\u001b[0m \u001b[0mf\u001b[0m\u001b[1;33m.\u001b[0m\u001b[0mreadlines\u001b[0m\u001b[1;33m(\u001b[0m\u001b[1;33m)\u001b[0m\u001b[1;33m\u001b[0m\u001b[1;33m\u001b[0m\u001b[0m\n\u001b[0;32m      5\u001b[0m \u001b[0mlines\u001b[0m\u001b[1;33m\u001b[0m\u001b[1;33m\u001b[0m\u001b[0m\n",
            "\u001b[1;31mFileNotFoundError\u001b[0m: [Errno 2] No such file or directory: 'examples/segismundo.txt'"
          ]
        }
      ],
      "source": [
        "with open('tmp.txt', 'w') as handle:\n",
        "    handle.writelines(x for x in open(path) if len(x) > 1)\n",
        "with open('tmp.txt') as f:\n",
        "    lines = f.readlines()\n",
        "lines"
      ]
    },
    {
      "cell_type": "code",
      "execution_count": null,
      "metadata": {
        "id": "5w3L9ytoIuUI"
      },
      "outputs": [],
      "source": [
        "import os\n",
        "os.remove('tmp.txt')"
      ]
    },
    {
      "cell_type": "code",
      "execution_count": null,
      "metadata": {
        "id": "5yNlz1wLIuUI",
        "outputId": "daea0f5e-1af4-44f9-d4d1-16b8c3d374a7"
      },
      "outputs": [
        {
          "ename": "FileNotFoundError",
          "evalue": "[Errno 2] No such file or directory: 'examples/segismundo.txt'",
          "output_type": "error",
          "traceback": [
            "\u001b[1;31m---------------------------------------------------------------------------\u001b[0m",
            "\u001b[1;31mFileNotFoundError\u001b[0m                         Traceback (most recent call last)",
            "\u001b[1;32m~\\AppData\\Local\\Temp/ipykernel_19932/3367777108.py\u001b[0m in \u001b[0;36m<module>\u001b[1;34m\u001b[0m\n\u001b[1;32m----> 1\u001b[1;33m \u001b[1;32mwith\u001b[0m \u001b[0mopen\u001b[0m\u001b[1;33m(\u001b[0m\u001b[0mpath\u001b[0m\u001b[1;33m)\u001b[0m \u001b[1;32mas\u001b[0m \u001b[0mf\u001b[0m\u001b[1;33m:\u001b[0m\u001b[1;33m\u001b[0m\u001b[1;33m\u001b[0m\u001b[0m\n\u001b[0m\u001b[0;32m      2\u001b[0m     \u001b[0mchars\u001b[0m \u001b[1;33m=\u001b[0m \u001b[0mf\u001b[0m\u001b[1;33m.\u001b[0m\u001b[0mread\u001b[0m\u001b[1;33m(\u001b[0m\u001b[1;36m10\u001b[0m\u001b[1;33m)\u001b[0m\u001b[1;33m\u001b[0m\u001b[1;33m\u001b[0m\u001b[0m\n\u001b[0;32m      3\u001b[0m \u001b[0mchars\u001b[0m\u001b[1;33m\u001b[0m\u001b[1;33m\u001b[0m\u001b[0m\n",
            "\u001b[1;31mFileNotFoundError\u001b[0m: [Errno 2] No such file or directory: 'examples/segismundo.txt'"
          ]
        }
      ],
      "source": [
        "with open(path) as f:\n",
        "    chars = f.read(10)\n",
        "chars"
      ]
    },
    {
      "cell_type": "code",
      "execution_count": null,
      "metadata": {
        "id": "isIGu0bhIuUI",
        "outputId": "30f0a8fb-42de-4733-8e8e-2174ec197095"
      },
      "outputs": [
        {
          "ename": "FileNotFoundError",
          "evalue": "[Errno 2] No such file or directory: 'examples/segismundo.txt'",
          "output_type": "error",
          "traceback": [
            "\u001b[1;31m---------------------------------------------------------------------------\u001b[0m",
            "\u001b[1;31mFileNotFoundError\u001b[0m                         Traceback (most recent call last)",
            "\u001b[1;32m~\\AppData\\Local\\Temp/ipykernel_19932/2531532458.py\u001b[0m in \u001b[0;36m<module>\u001b[1;34m\u001b[0m\n\u001b[1;32m----> 1\u001b[1;33m \u001b[1;32mwith\u001b[0m \u001b[0mopen\u001b[0m\u001b[1;33m(\u001b[0m\u001b[0mpath\u001b[0m\u001b[1;33m,\u001b[0m \u001b[1;34m'rb'\u001b[0m\u001b[1;33m)\u001b[0m \u001b[1;32mas\u001b[0m \u001b[0mf\u001b[0m\u001b[1;33m:\u001b[0m\u001b[1;33m\u001b[0m\u001b[1;33m\u001b[0m\u001b[0m\n\u001b[0m\u001b[0;32m      2\u001b[0m     \u001b[0mdata\u001b[0m \u001b[1;33m=\u001b[0m \u001b[0mf\u001b[0m\u001b[1;33m.\u001b[0m\u001b[0mread\u001b[0m\u001b[1;33m(\u001b[0m\u001b[1;36m10\u001b[0m\u001b[1;33m)\u001b[0m\u001b[1;33m\u001b[0m\u001b[1;33m\u001b[0m\u001b[0m\n\u001b[0;32m      3\u001b[0m \u001b[0mdata\u001b[0m\u001b[1;33m\u001b[0m\u001b[1;33m\u001b[0m\u001b[0m\n",
            "\u001b[1;31mFileNotFoundError\u001b[0m: [Errno 2] No such file or directory: 'examples/segismundo.txt'"
          ]
        }
      ],
      "source": [
        "with open(path, 'rb') as f:\n",
        "    data = f.read(10)\n",
        "data"
      ]
    },
    {
      "cell_type": "code",
      "execution_count": null,
      "metadata": {
        "id": "GFXQ6KvuIuUJ",
        "outputId": "b650a1ba-545e-43e8-f3a9-186cf277668e"
      },
      "outputs": [
        {
          "ename": "NameError",
          "evalue": "name 'data' is not defined",
          "output_type": "error",
          "traceback": [
            "\u001b[1;31m---------------------------------------------------------------------------\u001b[0m",
            "\u001b[1;31mNameError\u001b[0m                                 Traceback (most recent call last)",
            "\u001b[1;32m~\\AppData\\Local\\Temp/ipykernel_19932/3122088048.py\u001b[0m in \u001b[0;36m<module>\u001b[1;34m\u001b[0m\n\u001b[1;32m----> 1\u001b[1;33m \u001b[0mdata\u001b[0m\u001b[1;33m.\u001b[0m\u001b[0mdecode\u001b[0m\u001b[1;33m(\u001b[0m\u001b[1;34m'utf8'\u001b[0m\u001b[1;33m)\u001b[0m\u001b[1;33m\u001b[0m\u001b[1;33m\u001b[0m\u001b[0m\n\u001b[0m\u001b[0;32m      2\u001b[0m \u001b[0mdata\u001b[0m\u001b[1;33m[\u001b[0m\u001b[1;33m:\u001b[0m\u001b[1;36m4\u001b[0m\u001b[1;33m]\u001b[0m\u001b[1;33m.\u001b[0m\u001b[0mdecode\u001b[0m\u001b[1;33m(\u001b[0m\u001b[1;34m'utf8'\u001b[0m\u001b[1;33m)\u001b[0m\u001b[1;33m\u001b[0m\u001b[1;33m\u001b[0m\u001b[0m\n",
            "\u001b[1;31mNameError\u001b[0m: name 'data' is not defined"
          ]
        }
      ],
      "source": [
        "data.decode('utf8')\n",
        "data[:4].decode('utf8')"
      ]
    },
    {
      "cell_type": "code",
      "execution_count": null,
      "metadata": {
        "id": "EdkTpZjmIuUJ",
        "outputId": "2b176fd2-d887-4a5c-9124-01610ed21343"
      },
      "outputs": [
        {
          "ename": "FileNotFoundError",
          "evalue": "[Errno 2] No such file or directory: 'examples/segismundo.txt'",
          "output_type": "error",
          "traceback": [
            "\u001b[1;31m---------------------------------------------------------------------------\u001b[0m",
            "\u001b[1;31mFileNotFoundError\u001b[0m                         Traceback (most recent call last)",
            "\u001b[1;32m~\\AppData\\Local\\Temp/ipykernel_19932/220916214.py\u001b[0m in \u001b[0;36m<module>\u001b[1;34m\u001b[0m\n\u001b[0;32m      1\u001b[0m \u001b[0msink_path\u001b[0m \u001b[1;33m=\u001b[0m \u001b[1;34m'sink.txt'\u001b[0m\u001b[1;33m\u001b[0m\u001b[1;33m\u001b[0m\u001b[0m\n\u001b[1;32m----> 2\u001b[1;33m \u001b[1;32mwith\u001b[0m \u001b[0mopen\u001b[0m\u001b[1;33m(\u001b[0m\u001b[0mpath\u001b[0m\u001b[1;33m)\u001b[0m \u001b[1;32mas\u001b[0m \u001b[0msource\u001b[0m\u001b[1;33m:\u001b[0m\u001b[1;33m\u001b[0m\u001b[1;33m\u001b[0m\u001b[0m\n\u001b[0m\u001b[0;32m      3\u001b[0m     \u001b[1;32mwith\u001b[0m \u001b[0mopen\u001b[0m\u001b[1;33m(\u001b[0m\u001b[0msink_path\u001b[0m\u001b[1;33m,\u001b[0m \u001b[1;34m'xt'\u001b[0m\u001b[1;33m,\u001b[0m \u001b[0mencoding\u001b[0m\u001b[1;33m=\u001b[0m\u001b[1;34m'iso-8859-1'\u001b[0m\u001b[1;33m)\u001b[0m \u001b[1;32mas\u001b[0m \u001b[0msink\u001b[0m\u001b[1;33m:\u001b[0m\u001b[1;33m\u001b[0m\u001b[1;33m\u001b[0m\u001b[0m\n\u001b[0;32m      4\u001b[0m         \u001b[0msink\u001b[0m\u001b[1;33m.\u001b[0m\u001b[0mwrite\u001b[0m\u001b[1;33m(\u001b[0m\u001b[0msource\u001b[0m\u001b[1;33m.\u001b[0m\u001b[0mread\u001b[0m\u001b[1;33m(\u001b[0m\u001b[1;33m)\u001b[0m\u001b[1;33m)\u001b[0m\u001b[1;33m\u001b[0m\u001b[1;33m\u001b[0m\u001b[0m\n\u001b[0;32m      5\u001b[0m \u001b[1;32mwith\u001b[0m \u001b[0mopen\u001b[0m\u001b[1;33m(\u001b[0m\u001b[0msink_path\u001b[0m\u001b[1;33m,\u001b[0m \u001b[0mencoding\u001b[0m\u001b[1;33m=\u001b[0m\u001b[1;34m'iso-8859-1'\u001b[0m\u001b[1;33m)\u001b[0m \u001b[1;32mas\u001b[0m \u001b[0mf\u001b[0m\u001b[1;33m:\u001b[0m\u001b[1;33m\u001b[0m\u001b[1;33m\u001b[0m\u001b[0m\n",
            "\u001b[1;31mFileNotFoundError\u001b[0m: [Errno 2] No such file or directory: 'examples/segismundo.txt'"
          ]
        }
      ],
      "source": [
        "sink_path = 'sink.txt'\n",
        "with open(path) as source:\n",
        "    with open(sink_path, 'xt', encoding='iso-8859-1') as sink:\n",
        "        sink.write(source.read())\n",
        "with open(sink_path, encoding='iso-8859-1') as f:\n",
        "    print(f.read(10))"
      ]
    },
    {
      "cell_type": "code",
      "execution_count": null,
      "metadata": {
        "id": "PGZINMVNIuUJ",
        "outputId": "bb7d329b-e79f-43e0-ce5f-675cd88270ad"
      },
      "outputs": [
        {
          "ename": "NameError",
          "evalue": "name 'sink_path' is not defined",
          "output_type": "error",
          "traceback": [
            "\u001b[1;31m---------------------------------------------------------------------------\u001b[0m",
            "\u001b[1;31mNameError\u001b[0m                                 Traceback (most recent call last)",
            "\u001b[1;32m~\\AppData\\Local\\Temp/ipykernel_10196/2990030024.py\u001b[0m in \u001b[0;36m<module>\u001b[1;34m\u001b[0m\n\u001b[1;32m----> 1\u001b[1;33m \u001b[0mos\u001b[0m\u001b[1;33m.\u001b[0m\u001b[0mremove\u001b[0m\u001b[1;33m(\u001b[0m\u001b[0msink_path\u001b[0m\u001b[1;33m)\u001b[0m\u001b[1;33m\u001b[0m\u001b[1;33m\u001b[0m\u001b[0m\n\u001b[0m",
            "\u001b[1;31mNameError\u001b[0m: name 'sink_path' is not defined"
          ]
        }
      ],
      "source": [
        "os.remove(sink_path)"
      ]
    },
    {
      "cell_type": "code",
      "execution_count": null,
      "metadata": {
        "id": "LMFzb4g5IuUJ",
        "outputId": "94158580-4931-4378-e7c3-45fc8dcca802"
      },
      "outputs": [
        {
          "ename": "NameError",
          "evalue": "name 'path' is not defined",
          "output_type": "error",
          "traceback": [
            "\u001b[1;31m---------------------------------------------------------------------------\u001b[0m",
            "\u001b[1;31mNameError\u001b[0m                                 Traceback (most recent call last)",
            "\u001b[1;32m~\\AppData\\Local\\Temp/ipykernel_10196/319769595.py\u001b[0m in \u001b[0;36m<module>\u001b[1;34m\u001b[0m\n\u001b[1;32m----> 1\u001b[1;33m \u001b[0mf\u001b[0m \u001b[1;33m=\u001b[0m \u001b[0mopen\u001b[0m\u001b[1;33m(\u001b[0m\u001b[0mpath\u001b[0m\u001b[1;33m)\u001b[0m\u001b[1;33m\u001b[0m\u001b[1;33m\u001b[0m\u001b[0m\n\u001b[0m\u001b[0;32m      2\u001b[0m \u001b[0mf\u001b[0m\u001b[1;33m.\u001b[0m\u001b[0mread\u001b[0m\u001b[1;33m(\u001b[0m\u001b[1;36m5\u001b[0m\u001b[1;33m)\u001b[0m\u001b[1;33m\u001b[0m\u001b[1;33m\u001b[0m\u001b[0m\n\u001b[0;32m      3\u001b[0m \u001b[0mf\u001b[0m\u001b[1;33m.\u001b[0m\u001b[0mseek\u001b[0m\u001b[1;33m(\u001b[0m\u001b[1;36m4\u001b[0m\u001b[1;33m)\u001b[0m\u001b[1;33m\u001b[0m\u001b[1;33m\u001b[0m\u001b[0m\n\u001b[0;32m      4\u001b[0m \u001b[0mf\u001b[0m\u001b[1;33m.\u001b[0m\u001b[0mread\u001b[0m\u001b[1;33m(\u001b[0m\u001b[1;36m1\u001b[0m\u001b[1;33m)\u001b[0m\u001b[1;33m\u001b[0m\u001b[1;33m\u001b[0m\u001b[0m\n\u001b[0;32m      5\u001b[0m \u001b[0mf\u001b[0m\u001b[1;33m.\u001b[0m\u001b[0mclose\u001b[0m\u001b[1;33m(\u001b[0m\u001b[1;33m)\u001b[0m\u001b[1;33m\u001b[0m\u001b[1;33m\u001b[0m\u001b[0m\n",
            "\u001b[1;31mNameError\u001b[0m: name 'path' is not defined"
          ]
        }
      ],
      "source": [
        "f = open(path)\n",
        "f.read(5)\n",
        "f.seek(4)\n",
        "f.read(1)\n",
        "f.close()"
      ]
    },
    {
      "cell_type": "markdown",
      "metadata": {
        "id": "y_C-Yi45IuUJ"
      },
      "source": [
        "NumPy Basics: Arrays and Vectorized Computation"
      ]
    },
    {
      "cell_type": "code",
      "execution_count": null,
      "metadata": {
        "id": "tPTCjcKTIuUK"
      },
      "outputs": [],
      "source": [
        "import numpy as np\n",
        "np.random.seed(12345)\n",
        "import matplotlib.pyplot as plt\n",
        "plt.rc('figure', figsize=(10, 6))\n",
        "np.set_printoptions(precision=4, suppress=True)"
      ]
    },
    {
      "cell_type": "code",
      "execution_count": null,
      "metadata": {
        "id": "qFcs4q8XIuUK"
      },
      "outputs": [],
      "source": [
        "import numpy as np\n",
        "my_arr = np.arange(1000000)\n",
        "my_list = list(range(1000000))"
      ]
    },
    {
      "cell_type": "code",
      "execution_count": null,
      "metadata": {
        "id": "fO2UvnNQIuUK",
        "outputId": "b6d183c4-19a5-406e-d6ca-c6f4955809b6"
      },
      "outputs": [
        {
          "name": "stdout",
          "output_type": "stream",
          "text": [
            "Wall time: 32 ms\n",
            "Wall time: 2.01 s\n"
          ]
        }
      ],
      "source": [
        "%time for _ in range(10): my_arr2 = my_arr * 2\n",
        "%time for _ in range(10): my_list2 = [x * 2 for x in my_list]"
      ]
    },
    {
      "cell_type": "markdown",
      "metadata": {
        "id": "62JtL9gRIuUK"
      },
      "source": [
        "The NumPy ndarray: A Multidimensional Array Object"
      ]
    },
    {
      "cell_type": "code",
      "execution_count": null,
      "metadata": {
        "id": "zgc4IqXuIuUK",
        "outputId": "4dd12609-c4c8-473c-ed01-c3cabd91394a"
      },
      "outputs": [
        {
          "data": {
            "text/plain": [
              "array([[ 0.0929,  0.2817,  0.769 ],\n",
              "       [ 1.2464,  1.0072, -1.2962]])"
            ]
          },
          "execution_count": 11,
          "metadata": {},
          "output_type": "execute_result"
        }
      ],
      "source": [
        "import numpy as np\n",
        "# Generate some random data\n",
        "data = np.random.randn(2, 3)\n",
        "data"
      ]
    },
    {
      "cell_type": "code",
      "execution_count": null,
      "metadata": {
        "id": "qfUjTI-XIuUL",
        "outputId": "f1c55141-15de-4428-dd5a-50a6871cf295"
      },
      "outputs": [
        {
          "data": {
            "text/plain": [
              "array([[-0.4094,  0.9579, -1.0389],\n",
              "       [-1.1115,  3.9316,  2.7868]])"
            ]
          },
          "execution_count": 10,
          "metadata": {},
          "output_type": "execute_result"
        }
      ],
      "source": [
        "data * 10\n",
        "data + data"
      ]
    },
    {
      "cell_type": "code",
      "execution_count": null,
      "metadata": {
        "id": "zpgLFQ7FIuUL",
        "outputId": "d12f1202-904c-4b37-ecd3-52f07da95f32"
      },
      "outputs": [
        {
          "data": {
            "text/plain": [
              "dtype('float64')"
            ]
          },
          "execution_count": 9,
          "metadata": {},
          "output_type": "execute_result"
        }
      ],
      "source": [
        "data.shape\n",
        "data.dtype"
      ]
    },
    {
      "cell_type": "markdown",
      "metadata": {
        "id": "L3JLPZWDIuUL"
      },
      "source": [
        "Creating ndarrays"
      ]
    },
    {
      "cell_type": "code",
      "execution_count": null,
      "metadata": {
        "id": "OynQFMavIuUL",
        "outputId": "69263e56-5569-42f5-b27c-fdbab486cf86"
      },
      "outputs": [
        {
          "data": {
            "text/plain": [
              "array([6. , 7.5, 8. , 0. , 1. ])"
            ]
          },
          "execution_count": 15,
          "metadata": {},
          "output_type": "execute_result"
        }
      ],
      "source": [
        "data1 = [6, 7.5, 8, 0, 1]\n",
        "arr1 = np.array(data1)\n",
        "arr1"
      ]
    },
    {
      "cell_type": "code",
      "execution_count": null,
      "metadata": {
        "id": "J2oJj2sPIuUL",
        "outputId": "da79be91-873f-4cb3-9e50-8c8deaa83c41"
      },
      "outputs": [
        {
          "data": {
            "text/plain": [
              "array([[1, 2, 3, 4],\n",
              "       [5, 6, 7, 8]])"
            ]
          },
          "execution_count": 16,
          "metadata": {},
          "output_type": "execute_result"
        }
      ],
      "source": [
        "data2 = [[1, 2, 3, 4], [5, 6, 7, 8]]\n",
        "arr2 = np.array(data2)\n",
        "arr2"
      ]
    },
    {
      "cell_type": "code",
      "execution_count": null,
      "metadata": {
        "id": "Nop6Wb9cIuUM",
        "outputId": "67c49dbe-731e-48c4-b839-a2d9c3a02af2"
      },
      "outputs": [
        {
          "data": {
            "text/plain": [
              "(2, 4)"
            ]
          },
          "execution_count": 18,
          "metadata": {},
          "output_type": "execute_result"
        }
      ],
      "source": [
        "arr2.ndim\n",
        "arr2.shape"
      ]
    },
    {
      "cell_type": "code",
      "execution_count": null,
      "metadata": {
        "id": "KtAylOqvIuUM",
        "outputId": "b4e9da32-b86f-431f-d71c-ce848403a09f"
      },
      "outputs": [
        {
          "data": {
            "text/plain": [
              "dtype('int32')"
            ]
          },
          "execution_count": 19,
          "metadata": {},
          "output_type": "execute_result"
        }
      ],
      "source": [
        "arr1.dtype\n",
        "arr2.dtype"
      ]
    },
    {
      "cell_type": "code",
      "execution_count": null,
      "metadata": {
        "id": "NDQYk2AtIuUM",
        "outputId": "e52a2794-c5b0-42d2-98ad-3abf71ca17f3"
      },
      "outputs": [
        {
          "data": {
            "text/plain": [
              "array([[[1.3979e-311, 3.1620e-322],\n",
              "        [0.0000e+000, 0.0000e+000],\n",
              "        [1.0186e-312, 8.6723e-067]],\n",
              "\n",
              "       [[4.8138e-038, 7.4984e-067],\n",
              "        [4.0419e-037, 4.4728e-033],\n",
              "        [6.0337e+174, 3.6971e-033]]])"
            ]
          },
          "execution_count": 20,
          "metadata": {},
          "output_type": "execute_result"
        }
      ],
      "source": [
        "np.zeros(10)\n",
        "np.zeros((3, 6))\n",
        "np.empty((2, 3, 2))"
      ]
    },
    {
      "cell_type": "code",
      "execution_count": null,
      "metadata": {
        "id": "YrJQKO39IuUM",
        "outputId": "566e63c4-4205-42bb-ff3c-edea26a46260"
      },
      "outputs": [
        {
          "data": {
            "text/plain": [
              "array([ 0,  1,  2,  3,  4,  5,  6,  7,  8,  9, 10, 11, 12, 13, 14])"
            ]
          },
          "execution_count": 21,
          "metadata": {},
          "output_type": "execute_result"
        }
      ],
      "source": [
        "np.arange(15)"
      ]
    },
    {
      "cell_type": "markdown",
      "metadata": {
        "id": "yifQ_52MIuUM"
      },
      "source": [
        "Data Types for ndarrays"
      ]
    },
    {
      "cell_type": "code",
      "execution_count": null,
      "metadata": {
        "id": "j-UCJ4hyIuUN",
        "outputId": "04032f67-4ac8-48cf-829e-102712233f5e"
      },
      "outputs": [
        {
          "data": {
            "text/plain": [
              "dtype('int32')"
            ]
          },
          "execution_count": 22,
          "metadata": {},
          "output_type": "execute_result"
        }
      ],
      "source": [
        "arr1 = np.array([1, 2, 3], dtype=np.float64)\n",
        "arr2 = np.array([1, 2, 3], dtype=np.int32)\n",
        "arr1.dtype\n",
        "arr2.dtype"
      ]
    },
    {
      "cell_type": "code",
      "execution_count": null,
      "metadata": {
        "id": "oABp2dg5IuUN",
        "outputId": "c07789ea-efb2-4bcd-a20c-a43a6d3f04da"
      },
      "outputs": [
        {
          "data": {
            "text/plain": [
              "dtype('float64')"
            ]
          },
          "execution_count": 23,
          "metadata": {},
          "output_type": "execute_result"
        }
      ],
      "source": [
        "arr = np.array([1, 2, 3, 4, 5])\n",
        "arr.dtype\n",
        "float_arr = arr.astype(np.float64)\n",
        "float_arr.dtype"
      ]
    },
    {
      "cell_type": "code",
      "execution_count": null,
      "metadata": {
        "id": "B5uN8wjUIuUN",
        "outputId": "c946cf1a-111e-4275-af5a-0ac759d613e2"
      },
      "outputs": [
        {
          "data": {
            "text/plain": [
              "array([ 3, -1, -2,  0, 12, 10])"
            ]
          },
          "execution_count": 24,
          "metadata": {},
          "output_type": "execute_result"
        }
      ],
      "source": [
        "arr = np.array([3.7, -1.2, -2.6, 0.5, 12.9, 10.1])\n",
        "arr\n",
        "arr.astype(np.int32)"
      ]
    },
    {
      "cell_type": "code",
      "execution_count": null,
      "metadata": {
        "id": "kdyCFjQfIuUN",
        "outputId": "99fe5e2b-2383-40d7-c93c-9048fe5abafa"
      },
      "outputs": [
        {
          "data": {
            "text/plain": [
              "array([ 1.25, -9.6 , 42.  ])"
            ]
          },
          "execution_count": 25,
          "metadata": {},
          "output_type": "execute_result"
        }
      ],
      "source": [
        "numeric_strings = np.array(['1.25', '-9.6', '42'], dtype=np.string_)\n",
        "numeric_strings.astype(float)"
      ]
    },
    {
      "cell_type": "code",
      "execution_count": null,
      "metadata": {
        "id": "QH-ZH9LtIuUO",
        "outputId": "5449242f-c4f7-4886-83ac-9f53d6425091"
      },
      "outputs": [
        {
          "data": {
            "text/plain": [
              "array([0., 1., 2., 3., 4., 5., 6., 7., 8., 9.])"
            ]
          },
          "execution_count": 26,
          "metadata": {},
          "output_type": "execute_result"
        }
      ],
      "source": [
        "int_array = np.arange(10)\n",
        "calibers = np.array([.22, .270, .357, .380, .44, .50], dtype=np.float64)\n",
        "int_array.astype(calibers.dtype)"
      ]
    },
    {
      "cell_type": "code",
      "execution_count": null,
      "metadata": {
        "id": "9xMWdq8XIuUO",
        "outputId": "712cab75-324c-4529-a5db-f1db511def0f"
      },
      "outputs": [
        {
          "data": {
            "text/plain": [
              "array([         0, 1075314688,          0, 1075707904,          0,\n",
              "       1075838976,          0, 1072693248], dtype=uint32)"
            ]
          },
          "execution_count": 27,
          "metadata": {},
          "output_type": "execute_result"
        }
      ],
      "source": [
        "empty_uint32 = np.empty(8, dtype='u4')\n",
        "empty_uint32"
      ]
    },
    {
      "cell_type": "markdown",
      "metadata": {
        "id": "HKkxaOb0IuUO"
      },
      "source": [
        "Arithmetic with NumPy Arrays"
      ]
    },
    {
      "cell_type": "code",
      "execution_count": null,
      "metadata": {
        "id": "MLeAW53MIuUO",
        "outputId": "8b293912-a2b3-4a03-c7ef-6a4e74718d27"
      },
      "outputs": [
        {
          "data": {
            "text/plain": [
              "array([[0., 0., 0.],\n",
              "       [0., 0., 0.]])"
            ]
          },
          "execution_count": 30,
          "metadata": {},
          "output_type": "execute_result"
        }
      ],
      "source": [
        "arr = np.array([[1., 2., 3.], [4., 5., 6.]])\n",
        "arr\n",
        "arr * arr\n",
        "arr - arr "
      ]
    },
    {
      "cell_type": "code",
      "execution_count": null,
      "metadata": {
        "id": "uHHSAVJKIuUP",
        "outputId": "edad7173-6c07-4605-8f80-dec46ff2ae01"
      },
      "outputs": [
        {
          "data": {
            "text/plain": [
              "array([[1.    , 1.4142, 1.7321],\n",
              "       [2.    , 2.2361, 2.4495]])"
            ]
          },
          "execution_count": 31,
          "metadata": {},
          "output_type": "execute_result"
        }
      ],
      "source": [
        "1 / arr\n",
        "arr ** 0.5"
      ]
    },
    {
      "cell_type": "code",
      "execution_count": null,
      "metadata": {
        "id": "1RbTjyPdIuUP",
        "outputId": "3df202d3-3473-4fcb-bd84-5452ffb3897b"
      },
      "outputs": [
        {
          "data": {
            "text/plain": [
              "array([[False,  True, False],\n",
              "       [ True, False,  True]])"
            ]
          },
          "execution_count": 32,
          "metadata": {},
          "output_type": "execute_result"
        }
      ],
      "source": [
        "arr2 = np.array([[0., 4., 1.], [7., 2., 12.]])\n",
        "arr2\n",
        "arr2 > arr"
      ]
    },
    {
      "cell_type": "markdown",
      "metadata": {
        "id": "53IIEqO7IuUP"
      },
      "source": [
        "Basic Indexing and Slicing"
      ]
    },
    {
      "cell_type": "code",
      "execution_count": null,
      "metadata": {
        "id": "tLeX8DOvIuUP",
        "outputId": "f10784e9-e80b-402e-93e5-8001de786277"
      },
      "outputs": [
        {
          "data": {
            "text/plain": [
              "array([ 0,  1,  2,  3,  4, 12, 12, 12,  8,  9])"
            ]
          },
          "execution_count": 33,
          "metadata": {},
          "output_type": "execute_result"
        }
      ],
      "source": [
        "arr = np.arange(10)\n",
        "arr\n",
        "arr[5]\n",
        "arr[5:8]\n",
        "arr[5:8] = 12\n",
        "arr"
      ]
    },
    {
      "cell_type": "code",
      "execution_count": null,
      "metadata": {
        "id": "HKlF20yrIuUQ",
        "outputId": "eec46e91-76c4-4bbf-819f-0b4c27b2b0fe"
      },
      "outputs": [
        {
          "data": {
            "text/plain": [
              "array([12, 12, 12])"
            ]
          },
          "execution_count": 35,
          "metadata": {},
          "output_type": "execute_result"
        }
      ],
      "source": [
        "arr_slice = arr[5:8]\n",
        "arr_slice\n"
      ]
    },
    {
      "cell_type": "code",
      "execution_count": null,
      "metadata": {
        "id": "38tcHX74IuUQ",
        "outputId": "c42fccdf-8223-4b5f-f6e1-e7529da86306"
      },
      "outputs": [
        {
          "data": {
            "text/plain": [
              "array([    0,     1,     2,     3,     4,    12, 12345,    12,     8,\n",
              "           9])"
            ]
          },
          "execution_count": 36,
          "metadata": {},
          "output_type": "execute_result"
        }
      ],
      "source": [
        "arr_slice[1] = 12345\n",
        "arr"
      ]
    },
    {
      "cell_type": "code",
      "execution_count": null,
      "metadata": {
        "id": "Uf8ax57MIuUQ",
        "outputId": "9207a993-1259-4352-fcd5-a135dbafe0d8"
      },
      "outputs": [
        {
          "data": {
            "text/plain": [
              "array([ 0,  1,  2,  3,  4, 64, 64, 64,  8,  9])"
            ]
          },
          "execution_count": 37,
          "metadata": {},
          "output_type": "execute_result"
        }
      ],
      "source": [
        "arr_slice[:] = 64\n",
        "arr"
      ]
    },
    {
      "cell_type": "code",
      "execution_count": null,
      "metadata": {
        "id": "EhuEEeg3IuUQ",
        "outputId": "9ecc11d6-f2e8-4382-aeb8-cbff441f0297"
      },
      "outputs": [
        {
          "data": {
            "text/plain": [
              "array([7, 8, 9])"
            ]
          },
          "execution_count": 38,
          "metadata": {},
          "output_type": "execute_result"
        }
      ],
      "source": [
        "arr2d = np.array([[1, 2, 3], [4, 5, 6], [7, 8, 9]])\n",
        "arr2d[2]"
      ]
    },
    {
      "cell_type": "code",
      "execution_count": null,
      "metadata": {
        "id": "fNgpXzc4IuUR",
        "outputId": "84530c7f-3754-405e-c1fd-45fbd1cb5eb4"
      },
      "outputs": [
        {
          "data": {
            "text/plain": [
              "3"
            ]
          },
          "execution_count": 39,
          "metadata": {},
          "output_type": "execute_result"
        }
      ],
      "source": [
        "arr2d[0][2]\n",
        "arr2d[0, 2]"
      ]
    },
    {
      "cell_type": "code",
      "execution_count": null,
      "metadata": {
        "id": "0SEaenAfIuUR",
        "outputId": "62337c90-9211-432b-a397-e5f6f1ab6ed6"
      },
      "outputs": [
        {
          "data": {
            "text/plain": [
              "array([[[ 1,  2,  3],\n",
              "        [ 4,  5,  6]],\n",
              "\n",
              "       [[ 7,  8,  9],\n",
              "        [10, 11, 12]]])"
            ]
          },
          "execution_count": 40,
          "metadata": {},
          "output_type": "execute_result"
        }
      ],
      "source": [
        "arr3d = np.array([[[1, 2, 3], [4, 5, 6]], [[7, 8, 9], [10, 11, 12]]])\n",
        "arr3d"
      ]
    },
    {
      "cell_type": "code",
      "execution_count": null,
      "metadata": {
        "id": "Ww-bu3WmIuUR",
        "outputId": "46530ff5-b05f-49d9-c7e6-cd911557c8ad"
      },
      "outputs": [
        {
          "data": {
            "text/plain": [
              "array([[1, 2, 3],\n",
              "       [4, 5, 6]])"
            ]
          },
          "execution_count": 41,
          "metadata": {},
          "output_type": "execute_result"
        }
      ],
      "source": [
        "arr3d[0]"
      ]
    },
    {
      "cell_type": "code",
      "execution_count": null,
      "metadata": {
        "id": "WRpnQdrjIuUR",
        "outputId": "7f76dc17-f112-4237-f0dd-ee5736ece2e9"
      },
      "outputs": [
        {
          "data": {
            "text/plain": [
              "array([[[ 1,  2,  3],\n",
              "        [ 4,  5,  6]],\n",
              "\n",
              "       [[ 7,  8,  9],\n",
              "        [10, 11, 12]]])"
            ]
          },
          "execution_count": 42,
          "metadata": {},
          "output_type": "execute_result"
        }
      ],
      "source": [
        "old_values = arr3d[0].copy()\n",
        "arr3d[0] = 42\n",
        "arr3d\n",
        "arr3d[0] = old_values\n",
        "arr3d"
      ]
    },
    {
      "cell_type": "code",
      "execution_count": null,
      "metadata": {
        "id": "psn65Dg4IuUR",
        "outputId": "a23d4056-f9b5-4d87-cb1a-39946d14f895"
      },
      "outputs": [
        {
          "data": {
            "text/plain": [
              "array([7, 8, 9])"
            ]
          },
          "execution_count": 43,
          "metadata": {},
          "output_type": "execute_result"
        }
      ],
      "source": [
        "arr3d[1, 0]"
      ]
    },
    {
      "cell_type": "code",
      "execution_count": null,
      "metadata": {
        "id": "0rsddXQjIuUS",
        "outputId": "e695f27c-ca70-420f-d464-023f58fb5975"
      },
      "outputs": [
        {
          "data": {
            "text/plain": [
              "array([7, 8, 9])"
            ]
          },
          "execution_count": 44,
          "metadata": {},
          "output_type": "execute_result"
        }
      ],
      "source": [
        "x = arr3d[1]\n",
        "x\n",
        "x[0]"
      ]
    },
    {
      "cell_type": "markdown",
      "metadata": {
        "id": "eCEqBl8CIuUS"
      },
      "source": [
        "Indexing with slices"
      ]
    },
    {
      "cell_type": "code",
      "execution_count": null,
      "metadata": {
        "id": "kFtXj9cXIuUT",
        "outputId": "01553a18-560c-4e80-e251-767a38c96772"
      },
      "outputs": [
        {
          "data": {
            "text/plain": [
              "array([ 1,  2,  3,  4, 64])"
            ]
          },
          "execution_count": 46,
          "metadata": {},
          "output_type": "execute_result"
        }
      ],
      "source": [
        "arr\n",
        "arr[1:6]"
      ]
    },
    {
      "cell_type": "code",
      "execution_count": null,
      "metadata": {
        "id": "b-hfJce_IuUU",
        "outputId": "d344dcc2-1eaf-45ed-fbb0-63b597e27ff5"
      },
      "outputs": [
        {
          "data": {
            "text/plain": [
              "array([[1, 2, 3],\n",
              "       [4, 5, 6]])"
            ]
          },
          "execution_count": 47,
          "metadata": {},
          "output_type": "execute_result"
        }
      ],
      "source": [
        "arr2d\n",
        "arr2d[:2]"
      ]
    },
    {
      "cell_type": "code",
      "execution_count": null,
      "metadata": {
        "id": "6TfGD8ttIuUU",
        "outputId": "aa3db0f5-e305-4eb8-9a4c-8332fbbfa8f9"
      },
      "outputs": [
        {
          "data": {
            "text/plain": [
              "array([[2, 3],\n",
              "       [5, 6]])"
            ]
          },
          "execution_count": 48,
          "metadata": {},
          "output_type": "execute_result"
        }
      ],
      "source": [
        "arr2d[:2, 1:]"
      ]
    },
    {
      "cell_type": "code",
      "execution_count": null,
      "metadata": {
        "id": "vGw0sV04IuUU",
        "outputId": "6f61e703-f7c7-4fe3-d7ea-107489eea2f1"
      },
      "outputs": [
        {
          "data": {
            "text/plain": [
              "array([4, 5])"
            ]
          },
          "execution_count": 49,
          "metadata": {},
          "output_type": "execute_result"
        }
      ],
      "source": [
        "arr2d[1, :2]"
      ]
    },
    {
      "cell_type": "code",
      "execution_count": null,
      "metadata": {
        "id": "s3MCwMOdIuUU",
        "outputId": "db05d0e5-e52c-420f-e2e3-9666b2556480"
      },
      "outputs": [
        {
          "data": {
            "text/plain": [
              "array([3, 6])"
            ]
          },
          "execution_count": 50,
          "metadata": {},
          "output_type": "execute_result"
        }
      ],
      "source": [
        "arr2d[:2, 2]"
      ]
    },
    {
      "cell_type": "code",
      "execution_count": null,
      "metadata": {
        "id": "NLYYAHnPIuUV",
        "outputId": "9fa8a25a-6a46-4692-f456-508a00fe49da"
      },
      "outputs": [
        {
          "data": {
            "text/plain": [
              "array([[1],\n",
              "       [4],\n",
              "       [7]])"
            ]
          },
          "execution_count": 51,
          "metadata": {},
          "output_type": "execute_result"
        }
      ],
      "source": [
        "arr2d[:, :1]"
      ]
    },
    {
      "cell_type": "code",
      "execution_count": null,
      "metadata": {
        "id": "GeP9duuEIuUV",
        "outputId": "49795d41-e9c0-4763-d831-d890ade798a3"
      },
      "outputs": [
        {
          "data": {
            "text/plain": [
              "array([[1, 0, 0],\n",
              "       [4, 0, 0],\n",
              "       [7, 8, 9]])"
            ]
          },
          "execution_count": 52,
          "metadata": {},
          "output_type": "execute_result"
        }
      ],
      "source": [
        "arr2d[:2, 1:] = 0\n",
        "arr2d"
      ]
    },
    {
      "cell_type": "markdown",
      "metadata": {
        "id": "GOPjEPYGIuUV"
      },
      "source": [
        "Boolean Indexing"
      ]
    },
    {
      "cell_type": "code",
      "execution_count": null,
      "metadata": {
        "id": "QLbMXLbZIuUV",
        "outputId": "9ef2ad05-298e-4115-cdb5-63fce5fb6b3f"
      },
      "outputs": [
        {
          "data": {
            "text/plain": [
              "array([[-0.2047,  0.4789, -0.5194, -0.5557],\n",
              "       [ 1.9658,  1.3934,  0.0929,  0.2817],\n",
              "       [ 0.769 ,  1.2464,  1.0072, -1.2962],\n",
              "       [ 0.275 ,  0.2289,  1.3529,  0.8864],\n",
              "       [-2.0016, -0.3718,  1.669 , -0.4386],\n",
              "       [-0.5397,  0.477 ,  3.2489, -1.0212],\n",
              "       [-0.5771,  0.1241,  0.3026,  0.5238]])"
            ]
          },
          "execution_count": 53,
          "metadata": {},
          "output_type": "execute_result"
        }
      ],
      "source": [
        "names = np.array(['Bob', 'Joe', 'Will', 'Bob', 'Will', 'Joe', 'Joe'])\n",
        "data = np.random.randn(7, 4)\n",
        "names\n",
        "data"
      ]
    },
    {
      "cell_type": "code",
      "execution_count": null,
      "metadata": {
        "id": "woaPg5pNIuUV",
        "outputId": "41a27616-79ee-425d-ffc4-a0e8df8e40f3"
      },
      "outputs": [
        {
          "data": {
            "text/plain": [
              "array([ True, False, False,  True, False, False, False])"
            ]
          },
          "execution_count": 54,
          "metadata": {},
          "output_type": "execute_result"
        }
      ],
      "source": [
        "names == 'Bob'"
      ]
    },
    {
      "cell_type": "code",
      "execution_count": null,
      "metadata": {
        "id": "Acl8QTsNIuUW",
        "outputId": "d81f90b5-9557-4c77-c2c1-1a980416aa06"
      },
      "outputs": [
        {
          "data": {
            "text/plain": [
              "array([[-0.2047,  0.4789, -0.5194, -0.5557],\n",
              "       [ 0.275 ,  0.2289,  1.3529,  0.8864]])"
            ]
          },
          "execution_count": 55,
          "metadata": {},
          "output_type": "execute_result"
        }
      ],
      "source": [
        "data[names == 'Bob']"
      ]
    },
    {
      "cell_type": "code",
      "execution_count": null,
      "metadata": {
        "id": "NuLxS8I3IuUW",
        "outputId": "f45753d3-864f-4c4d-952a-558faddc0e89"
      },
      "outputs": [
        {
          "data": {
            "text/plain": [
              "array([-0.5557,  0.8864])"
            ]
          },
          "execution_count": 56,
          "metadata": {},
          "output_type": "execute_result"
        }
      ],
      "source": [
        "data[names == 'Bob', 2:]\n",
        "data[names == 'Bob', 3]"
      ]
    },
    {
      "cell_type": "code",
      "execution_count": null,
      "metadata": {
        "id": "ymD8d0saIuUX",
        "outputId": "f5b469cd-c1b1-4325-ba07-1926e2539d94"
      },
      "outputs": [
        {
          "data": {
            "text/plain": [
              "array([[ 1.9658,  1.3934,  0.0929,  0.2817],\n",
              "       [ 0.769 ,  1.2464,  1.0072, -1.2962],\n",
              "       [-2.0016, -0.3718,  1.669 , -0.4386],\n",
              "       [-0.5397,  0.477 ,  3.2489, -1.0212],\n",
              "       [-0.5771,  0.1241,  0.3026,  0.5238]])"
            ]
          },
          "execution_count": 57,
          "metadata": {},
          "output_type": "execute_result"
        }
      ],
      "source": [
        "names != 'Bob'\n",
        "data[~(names == 'Bob')]"
      ]
    },
    {
      "cell_type": "code",
      "execution_count": null,
      "metadata": {
        "id": "HU3i4AyeIuUX",
        "outputId": "463a72f3-d59b-40fa-c9f8-b1d411bb81ba"
      },
      "outputs": [
        {
          "data": {
            "text/plain": [
              "array([[ 1.9658,  1.3934,  0.0929,  0.2817],\n",
              "       [ 0.769 ,  1.2464,  1.0072, -1.2962],\n",
              "       [-2.0016, -0.3718,  1.669 , -0.4386],\n",
              "       [-0.5397,  0.477 ,  3.2489, -1.0212],\n",
              "       [-0.5771,  0.1241,  0.3026,  0.5238]])"
            ]
          },
          "execution_count": 58,
          "metadata": {},
          "output_type": "execute_result"
        }
      ],
      "source": [
        "cond = names == 'Bob'\n",
        "data[~cond]"
      ]
    },
    {
      "cell_type": "code",
      "execution_count": null,
      "metadata": {
        "id": "VyVW2UzqIuUX",
        "outputId": "5cb6e69b-772d-42f4-f645-3a2df512d1e0"
      },
      "outputs": [
        {
          "data": {
            "text/plain": [
              "array([[-0.2047,  0.4789, -0.5194, -0.5557],\n",
              "       [ 0.769 ,  1.2464,  1.0072, -1.2962],\n",
              "       [ 0.275 ,  0.2289,  1.3529,  0.8864],\n",
              "       [-2.0016, -0.3718,  1.669 , -0.4386]])"
            ]
          },
          "execution_count": 60,
          "metadata": {},
          "output_type": "execute_result"
        }
      ],
      "source": [
        "mask = (names == 'Bob') | (names == 'Will')\n",
        "mask\n",
        "data[mask]"
      ]
    },
    {
      "cell_type": "code",
      "execution_count": null,
      "metadata": {
        "id": "l1Ik89ZQIuUY",
        "outputId": "142996e5-0c1e-49b7-866b-6603c9276a7e"
      },
      "outputs": [
        {
          "data": {
            "text/plain": [
              "array([[0.    , 0.4789, 0.    , 0.    ],\n",
              "       [1.9658, 1.3934, 0.0929, 0.2817],\n",
              "       [0.769 , 1.2464, 1.0072, 0.    ],\n",
              "       [0.275 , 0.2289, 1.3529, 0.8864],\n",
              "       [0.    , 0.    , 1.669 , 0.    ],\n",
              "       [0.    , 0.477 , 3.2489, 0.    ],\n",
              "       [0.    , 0.1241, 0.3026, 0.5238]])"
            ]
          },
          "execution_count": 61,
          "metadata": {},
          "output_type": "execute_result"
        }
      ],
      "source": [
        "data[data < 0] = 0\n",
        "data"
      ]
    },
    {
      "cell_type": "code",
      "execution_count": null,
      "metadata": {
        "id": "NDOX1QtCIuUY",
        "outputId": "153a00b3-3d9e-48fd-e6cb-2bb295e02bed"
      },
      "outputs": [
        {
          "data": {
            "text/plain": [
              "array([[7.    , 7.    , 7.    , 7.    ],\n",
              "       [1.9658, 1.3934, 0.0929, 0.2817],\n",
              "       [7.    , 7.    , 7.    , 7.    ],\n",
              "       [7.    , 7.    , 7.    , 7.    ],\n",
              "       [7.    , 7.    , 7.    , 7.    ],\n",
              "       [0.    , 0.477 , 3.2489, 0.    ],\n",
              "       [0.    , 0.1241, 0.3026, 0.5238]])"
            ]
          },
          "execution_count": 62,
          "metadata": {},
          "output_type": "execute_result"
        }
      ],
      "source": [
        "data[names != 'Joe'] = 7\n",
        "data"
      ]
    },
    {
      "cell_type": "markdown",
      "metadata": {
        "id": "RsKaHdFiIuUY"
      },
      "source": [
        "Fancy Indexing"
      ]
    },
    {
      "cell_type": "code",
      "execution_count": null,
      "metadata": {
        "id": "RWmsb3aVIuUZ",
        "outputId": "89eca93e-35ab-49ea-d996-f514ad184fe5"
      },
      "outputs": [
        {
          "data": {
            "text/plain": [
              "array([[0., 0., 0., 0.],\n",
              "       [1., 1., 1., 1.],\n",
              "       [2., 2., 2., 2.],\n",
              "       [3., 3., 3., 3.],\n",
              "       [4., 4., 4., 4.],\n",
              "       [5., 5., 5., 5.],\n",
              "       [6., 6., 6., 6.],\n",
              "       [7., 7., 7., 7.]])"
            ]
          },
          "execution_count": 63,
          "metadata": {},
          "output_type": "execute_result"
        }
      ],
      "source": [
        "arr = np.empty((8, 4))\n",
        "for i in range(8):\n",
        "    arr[i] = i\n",
        "arr"
      ]
    },
    {
      "cell_type": "code",
      "execution_count": null,
      "metadata": {
        "id": "Ax1KZui3IuUa",
        "outputId": "006c44ae-cf27-4037-a818-2a002851ea71"
      },
      "outputs": [
        {
          "data": {
            "text/plain": [
              "array([[4., 4., 4., 4.],\n",
              "       [3., 3., 3., 3.],\n",
              "       [0., 0., 0., 0.],\n",
              "       [6., 6., 6., 6.]])"
            ]
          },
          "execution_count": 64,
          "metadata": {},
          "output_type": "execute_result"
        }
      ],
      "source": [
        "arr[[4, 3, 0, 6]]"
      ]
    },
    {
      "cell_type": "code",
      "execution_count": null,
      "metadata": {
        "id": "bnQMIge1IuUb",
        "outputId": "350417ae-b356-4812-b001-e069f058c6c8"
      },
      "outputs": [
        {
          "data": {
            "text/plain": [
              "array([[5., 5., 5., 5.],\n",
              "       [3., 3., 3., 3.],\n",
              "       [1., 1., 1., 1.]])"
            ]
          },
          "execution_count": 65,
          "metadata": {},
          "output_type": "execute_result"
        }
      ],
      "source": [
        "arr[[-3, -5, -7]]"
      ]
    },
    {
      "cell_type": "code",
      "execution_count": null,
      "metadata": {
        "id": "wRoCUZHUIuUb",
        "outputId": "96d28c77-3ac5-4894-d80f-c2ecd4354f32"
      },
      "outputs": [
        {
          "data": {
            "text/plain": [
              "array([ 4, 23, 29, 10])"
            ]
          },
          "execution_count": 66,
          "metadata": {},
          "output_type": "execute_result"
        }
      ],
      "source": [
        "arr = np.arange(32).reshape((8, 4))\n",
        "arr\n",
        "arr[[1, 5, 7, 2], [0, 3, 1, 2]]"
      ]
    },
    {
      "cell_type": "code",
      "execution_count": null,
      "metadata": {
        "id": "ZNYGl3-hIuUc",
        "outputId": "45afaf2f-2ea7-4e59-e404-bfb2256b1a8a"
      },
      "outputs": [
        {
          "data": {
            "text/plain": [
              "array([[ 4,  7,  5,  6],\n",
              "       [20, 23, 21, 22],\n",
              "       [28, 31, 29, 30],\n",
              "       [ 8, 11,  9, 10]])"
            ]
          },
          "execution_count": 67,
          "metadata": {},
          "output_type": "execute_result"
        }
      ],
      "source": [
        "arr[[1, 5, 7, 2]][:, [0, 3, 1, 2]]"
      ]
    },
    {
      "cell_type": "markdown",
      "metadata": {
        "id": "HXvcESHpIuUc"
      },
      "source": [
        "Transposing Arrays and Swapping Axes"
      ]
    },
    {
      "cell_type": "code",
      "execution_count": null,
      "metadata": {
        "id": "sv-wMxaxIuUc",
        "outputId": "438fb82b-c392-475f-f5a4-1b44802c5f7d"
      },
      "outputs": [
        {
          "data": {
            "text/plain": [
              "array([[ 0,  5, 10],\n",
              "       [ 1,  6, 11],\n",
              "       [ 2,  7, 12],\n",
              "       [ 3,  8, 13],\n",
              "       [ 4,  9, 14]])"
            ]
          },
          "execution_count": 68,
          "metadata": {},
          "output_type": "execute_result"
        }
      ],
      "source": [
        "arr = np.arange(15).reshape((3, 5))\n",
        "arr\n",
        "arr.T"
      ]
    },
    {
      "cell_type": "code",
      "execution_count": null,
      "metadata": {
        "id": "X4ZdysESIuUd",
        "outputId": "ffaef52b-da5d-4e37-d107-e16a4f3d066a"
      },
      "outputs": [
        {
          "data": {
            "text/plain": [
              "array([[ 7.9553,  3.1013,  6.0357],\n",
              "       [ 3.1013, 10.6168,  2.3219],\n",
              "       [ 6.0357,  2.3219,  8.1447]])"
            ]
          },
          "execution_count": 69,
          "metadata": {},
          "output_type": "execute_result"
        }
      ],
      "source": [
        "arr = np.random.randn(6, 3)\n",
        "arr\n",
        "np.dot(arr.T, arr)"
      ]
    },
    {
      "cell_type": "code",
      "execution_count": null,
      "metadata": {
        "id": "teePKoTsIuUd",
        "outputId": "892f4207-3b94-45a7-b81d-47ca67c02f49"
      },
      "outputs": [
        {
          "data": {
            "text/plain": [
              "array([[[ 0,  1,  2,  3],\n",
              "        [ 8,  9, 10, 11]],\n",
              "\n",
              "       [[ 4,  5,  6,  7],\n",
              "        [12, 13, 14, 15]]])"
            ]
          },
          "execution_count": 70,
          "metadata": {},
          "output_type": "execute_result"
        }
      ],
      "source": [
        "arr = np.arange(16).reshape((2, 2, 4))\n",
        "arr\n",
        "arr.transpose((1, 0, 2))"
      ]
    },
    {
      "cell_type": "code",
      "execution_count": null,
      "metadata": {
        "id": "kO2srpUGIuUe",
        "outputId": "c6fe2e14-c096-465b-8294-564b31576160"
      },
      "outputs": [
        {
          "data": {
            "text/plain": [
              "array([[[ 0,  4],\n",
              "        [ 1,  5],\n",
              "        [ 2,  6],\n",
              "        [ 3,  7]],\n",
              "\n",
              "       [[ 8, 12],\n",
              "        [ 9, 13],\n",
              "        [10, 14],\n",
              "        [11, 15]]])"
            ]
          },
          "execution_count": 71,
          "metadata": {},
          "output_type": "execute_result"
        }
      ],
      "source": [
        "arr\n",
        "arr.swapaxes(1, 2)"
      ]
    },
    {
      "cell_type": "markdown",
      "metadata": {
        "id": "Hu4pbt0DIuUe"
      },
      "source": [
        "Universal Functions: Fast Element-Wise Array Functions"
      ]
    },
    {
      "cell_type": "code",
      "execution_count": null,
      "metadata": {
        "id": "6mXzDZyeIuUe",
        "outputId": "183ef5e3-fd63-490b-978d-90315f0e9e35"
      },
      "outputs": [
        {
          "data": {
            "text/plain": [
              "array([   1.    ,    2.7183,    7.3891,   20.0855,   54.5982,  148.4132,\n",
              "        403.4288, 1096.6332, 2980.958 , 8103.0839])"
            ]
          },
          "execution_count": 72,
          "metadata": {},
          "output_type": "execute_result"
        }
      ],
      "source": [
        "arr = np.arange(10)\n",
        "arr\n",
        "np.sqrt(arr)\n",
        "np.exp(arr)"
      ]
    },
    {
      "cell_type": "code",
      "execution_count": null,
      "metadata": {
        "id": "CXuemBh6IuUf",
        "outputId": "cf07317f-d0c4-47b5-8b1d-dfbf30195c83"
      },
      "outputs": [
        {
          "data": {
            "text/plain": [
              "array([ 1.3272, -0.7539,  0.3313,  1.3497,  0.7584,  0.2467,  0.8626,\n",
              "        1.0048])"
            ]
          },
          "execution_count": 73,
          "metadata": {},
          "output_type": "execute_result"
        }
      ],
      "source": [
        "x = np.random.randn(8)\n",
        "y = np.random.randn(8)\n",
        "x\n",
        "y\n",
        "np.maximum(x, y)"
      ]
    },
    {
      "cell_type": "code",
      "execution_count": null,
      "metadata": {
        "id": "JxMB4JpKIuUf",
        "outputId": "d1d7cada-2abb-402c-c310-0f477d7afc62"
      },
      "outputs": [
        {
          "data": {
            "text/plain": [
              "array([  0.,   3.,   4.,  -4.,  -0., -11.,  -3.])"
            ]
          },
          "execution_count": 74,
          "metadata": {},
          "output_type": "execute_result"
        }
      ],
      "source": [
        "arr = np.random.randn(7) * 5\n",
        "arr\n",
        "remainder, whole_part = np.modf(arr)\n",
        "remainder\n",
        "whole_part"
      ]
    },
    {
      "cell_type": "code",
      "execution_count": null,
      "metadata": {
        "id": "FvNEWUtwIuUg",
        "outputId": "f7957a8d-7123-47c3-f1cc-0f624f26dee3"
      },
      "outputs": [
        {
          "name": "stderr",
          "output_type": "stream",
          "text": [
            "C:\\Users\\LENOVO\\AppData\\Local\\Temp/ipykernel_10196/2118003981.py:2: RuntimeWarning: invalid value encountered in sqrt\n",
            "  np.sqrt(arr)\n",
            "C:\\Users\\LENOVO\\AppData\\Local\\Temp/ipykernel_10196/2118003981.py:3: RuntimeWarning: invalid value encountered in sqrt\n",
            "  np.sqrt(arr, arr)\n"
          ]
        },
        {
          "data": {
            "text/plain": [
              "array([0.5   , 1.8306, 2.0651,    nan,    nan,    nan,    nan])"
            ]
          },
          "execution_count": 75,
          "metadata": {},
          "output_type": "execute_result"
        }
      ],
      "source": [
        "arr\n",
        "np.sqrt(arr)\n",
        "np.sqrt(arr, arr)\n",
        "arr"
      ]
    },
    {
      "cell_type": "markdown",
      "metadata": {
        "id": "TjLylGpdIuUg"
      },
      "source": [
        "Array-Oriented Programming with Arrays"
      ]
    },
    {
      "cell_type": "code",
      "execution_count": null,
      "metadata": {
        "id": "B_m0Jv5bIuUg",
        "outputId": "1982d869-3993-4d90-9b84-ab98db174040"
      },
      "outputs": [
        {
          "data": {
            "text/plain": [
              "array([[-5.  , -5.  , -5.  , ..., -5.  , -5.  , -5.  ],\n",
              "       [-4.99, -4.99, -4.99, ..., -4.99, -4.99, -4.99],\n",
              "       [-4.98, -4.98, -4.98, ..., -4.98, -4.98, -4.98],\n",
              "       ...,\n",
              "       [ 4.97,  4.97,  4.97, ...,  4.97,  4.97,  4.97],\n",
              "       [ 4.98,  4.98,  4.98, ...,  4.98,  4.98,  4.98],\n",
              "       [ 4.99,  4.99,  4.99, ...,  4.99,  4.99,  4.99]])"
            ]
          },
          "execution_count": 76,
          "metadata": {},
          "output_type": "execute_result"
        }
      ],
      "source": [
        "points = np.arange(-5, 5, 0.01) # 1000 equally spaced points\n",
        "xs, ys = np.meshgrid(points, points)\n",
        "ys"
      ]
    },
    {
      "cell_type": "code",
      "execution_count": null,
      "metadata": {
        "id": "W9Zc8MU2IuUh",
        "outputId": "9f644394-986a-4dce-a9c7-500dda00f4b8"
      },
      "outputs": [
        {
          "data": {
            "text/plain": [
              "array([[7.0711, 7.064 , 7.0569, ..., 7.0499, 7.0569, 7.064 ],\n",
              "       [7.064 , 7.0569, 7.0499, ..., 7.0428, 7.0499, 7.0569],\n",
              "       [7.0569, 7.0499, 7.0428, ..., 7.0357, 7.0428, 7.0499],\n",
              "       ...,\n",
              "       [7.0499, 7.0428, 7.0357, ..., 7.0286, 7.0357, 7.0428],\n",
              "       [7.0569, 7.0499, 7.0428, ..., 7.0357, 7.0428, 7.0499],\n",
              "       [7.064 , 7.0569, 7.0499, ..., 7.0428, 7.0499, 7.0569]])"
            ]
          },
          "execution_count": 77,
          "metadata": {},
          "output_type": "execute_result"
        }
      ],
      "source": [
        "z = np.sqrt(xs ** 2 + ys ** 2)\n",
        "z"
      ]
    },
    {
      "cell_type": "code",
      "execution_count": null,
      "metadata": {
        "id": "_bu4PGJLIuUh",
        "outputId": "b0ec41b0-b9d8-4268-b3d2-4e51817af2c1"
      },
      "outputs": [
        {
          "data": {
            "text/plain": [
              "Text(0.5, 1.0, 'Image plot of $\\\\sqrt{x^2 + y^2}$ for a grid of values')"
            ]
          },
          "execution_count": 78,
          "metadata": {},
          "output_type": "execute_result"
        },
        {
          "data": {
            "image/png": "[encoded data removed]",
            "text/plain": [
              "<Figure size 720x432 with 2 Axes>"
            ]
          },
          "metadata": {
            "needs_background": "light"
          },
          "output_type": "display_data"
        }
      ],
      "source": [
        "import matplotlib.pyplot as plt\n",
        "plt.imshow(z, cmap=plt.cm.gray); plt.colorbar()\n",
        "plt.title(\"Image plot of $\\sqrt{x^2 + y^2}$ for a grid of values\")"
      ]
    },
    {
      "cell_type": "code",
      "execution_count": null,
      "metadata": {
        "id": "bzaJJ-03IuUh"
      },
      "outputs": [],
      "source": [
        "plt.draw()"
      ]
    },
    {
      "cell_type": "code",
      "execution_count": null,
      "metadata": {
        "id": "Tvo5JUVcIuUi"
      },
      "outputs": [],
      "source": [
        "plt.close('all')"
      ]
    },
    {
      "cell_type": "markdown",
      "metadata": {
        "id": "DLoxR6XZIuUi"
      },
      "source": [
        "Expressing Conditional Logic as Array Operations"
      ]
    },
    {
      "cell_type": "code",
      "execution_count": null,
      "metadata": {
        "id": "dT8OzDbmIuUi"
      },
      "outputs": [],
      "source": [
        "xarr = np.array([1.1, 1.2, 1.3, 1.4, 1.5])\n",
        "yarr = np.array([2.1, 2.2, 2.3, 2.4, 2.5])\n",
        "cond = np.array([True, False, True, True, False])"
      ]
    },
    {
      "cell_type": "code",
      "execution_count": null,
      "metadata": {
        "id": "4MTYXfl_IuUj",
        "outputId": "a6a5e223-69e5-4522-8433-7fb59f9b48bd"
      },
      "outputs": [
        {
          "data": {
            "text/plain": [
              "[1.1, 2.2, 1.3, 1.4, 2.5]"
            ]
          },
          "execution_count": 81,
          "metadata": {},
          "output_type": "execute_result"
        }
      ],
      "source": [
        "result = [(x if c else y)\n",
        "          for x, y, c in zip(xarr, yarr, cond)]\n",
        "result"
      ]
    },
    {
      "cell_type": "code",
      "execution_count": null,
      "metadata": {
        "id": "nP7aNR4LIuUj",
        "outputId": "df9e4054-2168-4103-ae27-ca6a76fbc694"
      },
      "outputs": [
        {
          "data": {
            "text/plain": [
              "array([1.1, 2.2, 1.3, 1.4, 2.5])"
            ]
          },
          "execution_count": 82,
          "metadata": {},
          "output_type": "execute_result"
        }
      ],
      "source": [
        "result = np.where(cond, xarr, yarr)\n",
        "result"
      ]
    },
    {
      "cell_type": "code",
      "execution_count": null,
      "metadata": {
        "id": "R07SFivEIuUk",
        "outputId": "1bbf56ab-f0bc-42f1-85c3-86f5dd5de349"
      },
      "outputs": [
        {
          "data": {
            "text/plain": [
              "array([[-2, -2,  2,  2],\n",
              "       [ 2,  2, -2, -2],\n",
              "       [-2, -2,  2,  2],\n",
              "       [-2,  2,  2,  2]])"
            ]
          },
          "execution_count": 83,
          "metadata": {},
          "output_type": "execute_result"
        }
      ],
      "source": [
        "arr = np.random.randn(4, 4)\n",
        "arr\n",
        "arr > 0\n",
        "np.where(arr > 0, 2, -2)"
      ]
    },
    {
      "cell_type": "code",
      "execution_count": null,
      "metadata": {
        "id": "N-KJvNgfIuUk",
        "outputId": "ac419af0-29b0-439f-feca-87534981da3b"
      },
      "outputs": [
        {
          "data": {
            "text/plain": [
              "array([[-1.2183, -1.3326,  2.    ,  2.    ],\n",
              "       [ 2.    ,  2.    , -0.5031, -0.6223],\n",
              "       [-0.9212, -0.7262,  2.    ,  2.    ],\n",
              "       [-1.1577,  2.    ,  2.    ,  2.    ]])"
            ]
          },
          "execution_count": 84,
          "metadata": {},
          "output_type": "execute_result"
        }
      ],
      "source": [
        "np.where(arr > 0, 2, arr) # set only positive values to 2"
      ]
    },
    {
      "cell_type": "markdown",
      "metadata": {
        "id": "4AJ-nbHsIuUl"
      },
      "source": [
        "Mathematical and Statistical Methods"
      ]
    },
    {
      "cell_type": "code",
      "execution_count": null,
      "metadata": {
        "id": "92l95nNMIuUl",
        "outputId": "a3153068-be72-4224-b745-7fe4bfa10749"
      },
      "outputs": [
        {
          "data": {
            "text/plain": [
              "4.064873244244801"
            ]
          },
          "execution_count": 85,
          "metadata": {},
          "output_type": "execute_result"
        }
      ],
      "source": [
        "arr = np.random.randn(5, 4)\n",
        "arr\n",
        "arr.mean()\n",
        "np.mean(arr)\n",
        "arr.sum()"
      ]
    },
    {
      "cell_type": "code",
      "execution_count": null,
      "metadata": {
        "id": "-ozghWfrIuUm",
        "outputId": "9e0ad222-1861-495b-9c6a-725a3cc3e9e6"
      },
      "outputs": [
        {
          "data": {
            "text/plain": [
              "array([ 3.4299, -0.2274,  3.039 , -2.1766])"
            ]
          },
          "execution_count": 86,
          "metadata": {},
          "output_type": "execute_result"
        }
      ],
      "source": [
        "arr.mean(axis=1)\n",
        "arr.sum(axis=0)"
      ]
    },
    {
      "cell_type": "code",
      "execution_count": null,
      "metadata": {
        "id": "vQeCoZ8ZIuUm",
        "outputId": "3ec251ce-a862-41a7-d091-76f1fae3558b"
      },
      "outputs": [
        {
          "data": {
            "text/plain": [
              "array([ 0,  1,  3,  6, 10, 15, 21, 28], dtype=int32)"
            ]
          },
          "execution_count": 87,
          "metadata": {},
          "output_type": "execute_result"
        }
      ],
      "source": [
        "arr = np.array([0, 1, 2, 3, 4, 5, 6, 7])\n",
        "arr.cumsum()"
      ]
    },
    {
      "cell_type": "code",
      "execution_count": null,
      "metadata": {
        "id": "O-ahKvS6IuUm",
        "outputId": "86d14186-5436-41cc-a451-a538c0a3be31"
      },
      "outputs": [
        {
          "data": {
            "text/plain": [
              "array([[  0,   0,   0],\n",
              "       [  3,  12,  60],\n",
              "       [  6,  42, 336]], dtype=int32)"
            ]
          },
          "execution_count": 88,
          "metadata": {},
          "output_type": "execute_result"
        }
      ],
      "source": [
        "arr = np.array([[0, 1, 2], [3, 4, 5], [6, 7, 8]])\n",
        "arr\n",
        "arr.cumsum(axis=0)\n",
        "arr.cumprod(axis=1)"
      ]
    },
    {
      "cell_type": "markdown",
      "metadata": {
        "id": "ruGEtNjwIuUn"
      },
      "source": [
        "Methods for Boolean Arrays"
      ]
    },
    {
      "cell_type": "code",
      "execution_count": null,
      "metadata": {
        "id": "gMfw2ARmIuUv",
        "outputId": "798df93e-2132-4ac4-c5f9-3d4f7c1163b7"
      },
      "outputs": [
        {
          "data": {
            "text/plain": [
              "42"
            ]
          },
          "execution_count": 90,
          "metadata": {},
          "output_type": "execute_result"
        }
      ],
      "source": [
        "arr = np.random.randn(100)\n",
        "(arr > 0).sum() # Number of positive values"
      ]
    },
    {
      "cell_type": "code",
      "execution_count": null,
      "metadata": {
        "id": "LIjRcXh5IuUv",
        "outputId": "f93e6cdd-7a66-4ed3-8013-14a61d69bf83"
      },
      "outputs": [
        {
          "data": {
            "text/plain": [
              "False"
            ]
          },
          "execution_count": 91,
          "metadata": {},
          "output_type": "execute_result"
        }
      ],
      "source": [
        "bools = np.array([False, False, True, False])\n",
        "bools.any()\n",
        "bools.all()"
      ]
    },
    {
      "cell_type": "markdown",
      "metadata": {
        "id": "KgW_1-HvIuUw"
      },
      "source": [
        "Sorting"
      ]
    },
    {
      "cell_type": "code",
      "execution_count": null,
      "metadata": {
        "id": "AVkuOoWMIuUw",
        "outputId": "76b367b9-cad9-40a1-c184-8fc842b8522b"
      },
      "outputs": [
        {
          "data": {
            "text/plain": [
              "array([-2.2646, -0.915 , -0.479 ,  0.189 ,  1.0472,  1.3233])"
            ]
          },
          "execution_count": 92,
          "metadata": {},
          "output_type": "execute_result"
        }
      ],
      "source": [
        "arr = np.random.randn(6)\n",
        "arr\n",
        "arr.sort()\n",
        "arr"
      ]
    },
    {
      "cell_type": "code",
      "execution_count": null,
      "metadata": {
        "id": "uUkIBMV0IuUw",
        "outputId": "4139e970-5d7b-4c83-fd49-6e71478bfa26"
      },
      "outputs": [
        {
          "data": {
            "text/plain": [
              "array([[-0.1142,  0.4058,  0.9239],\n",
              "       [-0.4348,  0.2885,  0.3588],\n",
              "       [-0.3882,  1.4096,  2.1287],\n",
              "       [-0.1054,  0.7004,  2.0929],\n",
              "       [-0.9305, -0.137 ,  0.3275]])"
            ]
          },
          "execution_count": 93,
          "metadata": {},
          "output_type": "execute_result"
        }
      ],
      "source": [
        "arr = np.random.randn(5, 3)\n",
        "arr\n",
        "arr.sort(1)\n",
        "arr"
      ]
    },
    {
      "cell_type": "code",
      "execution_count": null,
      "metadata": {
        "id": "Vo-D6yP3IuUx",
        "outputId": "a59f98ef-95be-41de-9414-4e39417cd20d"
      },
      "outputs": [
        {
          "data": {
            "text/plain": [
              "-1.5311513550102103"
            ]
          },
          "execution_count": 94,
          "metadata": {},
          "output_type": "execute_result"
        }
      ],
      "source": [
        "large_arr = np.random.randn(1000)\n",
        "large_arr.sort()\n",
        "large_arr[int(0.05 * len(large_arr))] # 5% quantile"
      ]
    },
    {
      "cell_type": "markdown",
      "metadata": {
        "id": "NZ9HJOfnIuUx"
      },
      "source": [
        "Unique and Other Set Logic"
      ]
    },
    {
      "cell_type": "code",
      "execution_count": null,
      "metadata": {
        "id": "wU_mpryZIuUx",
        "outputId": "db7fc245-c94c-4d8e-f546-91dab5d82f6c"
      },
      "outputs": [
        {
          "data": {
            "text/plain": [
              "array([1, 2, 3, 4])"
            ]
          },
          "execution_count": 95,
          "metadata": {},
          "output_type": "execute_result"
        }
      ],
      "source": [
        "names = np.array(['Bob', 'Joe', 'Will', 'Bob', 'Will', 'Joe', 'Joe'])\n",
        "np.unique(names)\n",
        "ints = np.array([3, 3, 3, 2, 2, 1, 1, 4, 4])\n",
        "np.unique(ints)"
      ]
    },
    {
      "cell_type": "code",
      "execution_count": null,
      "metadata": {
        "id": "K853ZBQSIuUy",
        "outputId": "bffbe1e3-cc0e-482b-8865-f13d9f1e9236"
      },
      "outputs": [
        {
          "data": {
            "text/plain": [
              "['Bob', 'Joe', 'Will']"
            ]
          },
          "execution_count": 97,
          "metadata": {},
          "output_type": "execute_result"
        }
      ],
      "source": [
        "sorted(set(names))"
      ]
    },
    {
      "cell_type": "code",
      "execution_count": null,
      "metadata": {
        "id": "fGzNsHgeIuUy",
        "outputId": "e068bf57-18ff-4b7d-816b-22fde5bd61c1"
      },
      "outputs": [
        {
          "data": {
            "text/plain": [
              "array([ True, False, False,  True,  True, False,  True])"
            ]
          },
          "execution_count": 98,
          "metadata": {},
          "output_type": "execute_result"
        }
      ],
      "source": [
        "values = np.array([6, 0, 0, 3, 2, 5, 6])\n",
        "np.in1d(values, [2, 3, 6])"
      ]
    },
    {
      "cell_type": "markdown",
      "metadata": {
        "id": "wOo27lS3IuUy"
      },
      "source": [
        "File Input and Output with Arrays"
      ]
    },
    {
      "cell_type": "code",
      "execution_count": null,
      "metadata": {
        "id": "nFpNYtrNIuUz"
      },
      "outputs": [],
      "source": [
        "arr = np.arange(10)\n",
        "np.save('some_array', arr)"
      ]
    },
    {
      "cell_type": "code",
      "execution_count": null,
      "metadata": {
        "id": "qzFGWUoxIuUz",
        "outputId": "1713c06d-2436-403c-92ae-7d62790254db"
      },
      "outputs": [
        {
          "data": {
            "text/plain": [
              "array([0, 1, 2, 3, 4, 5, 6, 7, 8, 9])"
            ]
          },
          "execution_count": 100,
          "metadata": {},
          "output_type": "execute_result"
        }
      ],
      "source": [
        "np.load('some_array.npy')"
      ]
    },
    {
      "cell_type": "code",
      "execution_count": null,
      "metadata": {
        "id": "XXI2Hkh_IuUz"
      },
      "outputs": [],
      "source": [
        "np.savez('array_archive.npz', a=arr, b=arr)"
      ]
    },
    {
      "cell_type": "code",
      "execution_count": null,
      "metadata": {
        "id": "FyFcSjeyIuU0",
        "outputId": "79f6ffc2-fc70-4833-8947-b803600026e1"
      },
      "outputs": [
        {
          "data": {
            "text/plain": [
              "array([0, 1, 2, 3, 4, 5, 6, 7, 8, 9])"
            ]
          },
          "execution_count": 102,
          "metadata": {},
          "output_type": "execute_result"
        }
      ],
      "source": [
        "arch = np.load('array_archive.npz')\n",
        "arch['b']"
      ]
    },
    {
      "cell_type": "code",
      "execution_count": null,
      "metadata": {
        "id": "UzcSPOZWIuU1"
      },
      "outputs": [],
      "source": [
        "np.savez_compressed('arrays_compressed.npz', a=arr, b=arr)"
      ]
    },
    {
      "cell_type": "code",
      "execution_count": null,
      "metadata": {
        "id": "AEaHdRWKIuU2",
        "outputId": "276b86c3-667e-48e1-992e-6153f274c505"
      },
      "outputs": [
        {
          "name": "stderr",
          "output_type": "stream",
          "text": [
            "'rm' is not recognized as an internal or external command,\n",
            "operable program or batch file.\n",
            "'rm' is not recognized as an internal or external command,\n",
            "operable program or batch file.\n",
            "'rm' is not recognized as an internal or external command,\n",
            "operable program or batch file.\n"
          ]
        }
      ],
      "source": [
        "!rm some_array.npy\n",
        "!rm array_archive.npz\n",
        "!rm arrays_compressed.npz"
      ]
    },
    {
      "cell_type": "markdown",
      "metadata": {
        "id": "RbHb7t8AIuU2"
      },
      "source": [
        "Linear Algebra"
      ]
    },
    {
      "cell_type": "code",
      "execution_count": null,
      "metadata": {
        "id": "6vYdTHQXIuU3",
        "outputId": "1f299518-4a8d-4799-e0ee-7bf5370382f2"
      },
      "outputs": [
        {
          "data": {
            "text/plain": [
              "array([[ 28.,  64.],\n",
              "       [ 67., 181.]])"
            ]
          },
          "execution_count": 105,
          "metadata": {},
          "output_type": "execute_result"
        }
      ],
      "source": [
        "x = np.array([[1., 2., 3.], [4., 5., 6.]])\n",
        "y = np.array([[6., 23.], [-1, 7], [8, 9]])\n",
        "x\n",
        "y\n",
        "x.dot(y)"
      ]
    },
    {
      "cell_type": "code",
      "execution_count": null,
      "metadata": {
        "id": "1Jb9Fy19IuU3",
        "outputId": "635f7b60-9470-4f4e-d4ca-88b825445b62"
      },
      "outputs": [
        {
          "data": {
            "text/plain": [
              "array([[ 28.,  64.],\n",
              "       [ 67., 181.]])"
            ]
          },
          "execution_count": 106,
          "metadata": {},
          "output_type": "execute_result"
        }
      ],
      "source": [
        "np.dot(x, y)"
      ]
    },
    {
      "cell_type": "code",
      "execution_count": null,
      "metadata": {
        "id": "HEtaeadAIuU4",
        "outputId": "885341be-b70a-45b9-d3be-3a3f52381178"
      },
      "outputs": [
        {
          "data": {
            "text/plain": [
              "array([ 6., 15.])"
            ]
          },
          "execution_count": 107,
          "metadata": {},
          "output_type": "execute_result"
        }
      ],
      "source": [
        "np.dot(x, np.ones(3))"
      ]
    },
    {
      "cell_type": "code",
      "execution_count": null,
      "metadata": {
        "id": "Q_AwT_cNIuU4",
        "outputId": "790c57cc-311c-4451-9bfc-e95e2373df98"
      },
      "outputs": [
        {
          "data": {
            "text/plain": [
              "array([ 6., 15.])"
            ]
          },
          "execution_count": 108,
          "metadata": {},
          "output_type": "execute_result"
        }
      ],
      "source": [
        "x @ np.ones(3)"
      ]
    },
    {
      "cell_type": "code",
      "execution_count": null,
      "metadata": {
        "id": "zBKYqtB4IuU4",
        "outputId": "50f23df9-f182-405a-8251-0b1c0ea50463"
      },
      "outputs": [
        {
          "data": {
            "text/plain": [
              "array([[-6.7265,  4.8497, -1.1349,  9.1485,  5.4026],\n",
              "       [ 0.    , -6.3907,  3.7529, -3.9123, -0.7563],\n",
              "       [ 0.    ,  0.    , -5.6136,  5.5114,  3.5796],\n",
              "       [ 0.    ,  0.    ,  0.    , -5.8293,  2.592 ],\n",
              "       [ 0.    ,  0.    ,  0.    ,  0.    ,  1.8992]])"
            ]
          },
          "execution_count": 109,
          "metadata": {},
          "output_type": "execute_result"
        }
      ],
      "source": [
        "from numpy.linalg import inv, qr\n",
        "X = np.random.randn(5, 5)\n",
        "mat = X.T.dot(X)\n",
        "inv(mat)\n",
        "mat.dot(inv(mat))\n",
        "q, r = qr(mat)\n",
        "r"
      ]
    },
    {
      "cell_type": "markdown",
      "metadata": {
        "id": "3FyS483NIuU5"
      },
      "source": [
        "Pseudorandom Number Generation"
      ]
    },
    {
      "cell_type": "code",
      "execution_count": null,
      "metadata": {
        "id": "SmjPGbzVIuU5",
        "outputId": "f79f34a9-9128-4fbd-8ada-2e1a512b4b53"
      },
      "outputs": [
        {
          "data": {
            "text/plain": [
              "array([[ 0.4423, -1.327 ,  0.927 , -0.1156],\n",
              "       [ 0.9435, -0.3494,  0.5304, -0.5087],\n",
              "       [ 0.2306, -0.0656, -0.2487, -0.5871],\n",
              "       [-1.0223,  1.0607,  0.9548, -0.5118]])"
            ]
          },
          "execution_count": 110,
          "metadata": {},
          "output_type": "execute_result"
        }
      ],
      "source": [
        "samples = np.random.normal(size=(4, 4))\n",
        "samples"
      ]
    },
    {
      "cell_type": "code",
      "execution_count": null,
      "metadata": {
        "id": "ogAkgQknIuU6",
        "outputId": "8999f6e6-87ae-4407-f5b6-8a58c06d9509"
      },
      "outputs": [
        {
          "name": "stdout",
          "output_type": "stream",
          "text": [
            "3.78 s ± 299 ms per loop (mean ± std. dev. of 7 runs, 1 loop each)\n",
            "85.1 ms ± 14.3 ms per loop (mean ± std. dev. of 7 runs, 10 loops each)\n"
          ]
        }
      ],
      "source": [
        "from random import normalvariate\n",
        "N = 1000000\n",
        "%timeit samples = [normalvariate(0, 1) for _ in range(N)]\n",
        "%timeit np.random.normal(size=N)"
      ]
    },
    {
      "cell_type": "code",
      "execution_count": null,
      "metadata": {
        "id": "dmhqEGnWIuU6"
      },
      "outputs": [],
      "source": [
        "np.random.seed(1234)"
      ]
    },
    {
      "cell_type": "code",
      "execution_count": null,
      "metadata": {
        "id": "pR7jr0upIuU6",
        "outputId": "72aa078f-f04e-4fd2-e881-fa0888ab46ab"
      },
      "outputs": [
        {
          "data": {
            "text/plain": [
              "array([ 0.4714, -1.191 ,  1.4327, -0.3127, -0.7206,  0.8872,  0.8596,\n",
              "       -0.6365,  0.0157, -2.2427])"
            ]
          },
          "execution_count": 113,
          "metadata": {},
          "output_type": "execute_result"
        }
      ],
      "source": [
        "rng = np.random.RandomState(1234)\n",
        "rng.randn(10)"
      ]
    },
    {
      "cell_type": "markdown",
      "metadata": {
        "id": "IT4_eMbBIuU7"
      },
      "source": [
        "Example: Random Walks"
      ]
    },
    {
      "cell_type": "code",
      "execution_count": null,
      "metadata": {
        "id": "MlSmKUTkIuU7"
      },
      "outputs": [],
      "source": [
        "import random\n",
        "position = 0\n",
        "walk = [position]\n",
        "steps = 1000\n",
        "for i in range(steps):\n",
        "    step = 1 if random.randint(0, 1) else -1\n",
        "    position += step\n",
        "    walk.append(position)"
      ]
    },
    {
      "cell_type": "code",
      "execution_count": null,
      "metadata": {
        "id": "UDoQ6YZLIuU7",
        "outputId": "77ef1c49-78fc-479e-e504-fa9dd27c8a5d"
      },
      "outputs": [
        {
          "data": {
            "text/plain": [
              "<Figure size 720x432 with 0 Axes>"
            ]
          },
          "execution_count": 115,
          "metadata": {},
          "output_type": "execute_result"
        },
        {
          "data": {
            "text/plain": [
              "<Figure size 720x432 with 0 Axes>"
            ]
          },
          "metadata": {},
          "output_type": "display_data"
        }
      ],
      "source": [
        "plt.figure()"
      ]
    },
    {
      "cell_type": "code",
      "execution_count": null,
      "metadata": {
        "id": "kyVqPdG1IuU8",
        "outputId": "db16303f-d299-4dd2-f35e-50da8eadd3b2"
      },
      "outputs": [
        {
          "data": {
            "text/plain": [
              "[<matplotlib.lines.Line2D at 0x292cfa08d30>]"
            ]
          },
          "execution_count": 116,
          "metadata": {},
          "output_type": "execute_result"
        },
        {
          "data": {
            "image/png": "[encoded data removed]",
            "text/plain": [
              "<Figure size 720x432 with 1 Axes>"
            ]
          },
          "metadata": {
            "needs_background": "light"
          },
          "output_type": "display_data"
        }
      ],
      "source": [
        "plt.plot(walk[:100])"
      ]
    },
    {
      "cell_type": "code",
      "execution_count": null,
      "metadata": {
        "id": "JlXd7e8bIuU9"
      },
      "outputs": [],
      "source": [
        "np.random.seed(12345)"
      ]
    },
    {
      "cell_type": "code",
      "execution_count": null,
      "metadata": {
        "id": "ZH0GXMqQIuU9"
      },
      "outputs": [],
      "source": [
        "nsteps = 1000\n",
        "draws = np.random.randint(0, 2, size=nsteps)\n",
        "steps = np.where(draws > 0, 1, -1)\n",
        "walk = steps.cumsum()"
      ]
    },
    {
      "cell_type": "code",
      "execution_count": null,
      "metadata": {
        "id": "9hewrvbnIuU9",
        "outputId": "d66770a8-bcfc-42f5-94e9-01132a8032cf"
      },
      "outputs": [
        {
          "data": {
            "text/plain": [
              "31"
            ]
          },
          "execution_count": 119,
          "metadata": {},
          "output_type": "execute_result"
        }
      ],
      "source": [
        "walk.min()\n",
        "walk.max()"
      ]
    },
    {
      "cell_type": "code",
      "execution_count": null,
      "metadata": {
        "id": "e2qK0NtHIuU-",
        "outputId": "f873caf8-f110-4ee4-d8ef-4dcc7c00342d"
      },
      "outputs": [
        {
          "data": {
            "text/plain": [
              "37"
            ]
          },
          "execution_count": 120,
          "metadata": {},
          "output_type": "execute_result"
        }
      ],
      "source": [
        "(np.abs(walk) >= 10).argmax()"
      ]
    },
    {
      "cell_type": "markdown",
      "metadata": {
        "id": "UJf1YdNdIuU-"
      },
      "source": [
        "Simulating Many Random Walks at Once"
      ]
    },
    {
      "cell_type": "code",
      "execution_count": null,
      "metadata": {
        "id": "4HADwRHaIuU-",
        "outputId": "a263c9a5-d32d-4142-eac1-8c20dfa35cdd"
      },
      "outputs": [
        {
          "data": {
            "text/plain": [
              "array([[  1,   0,   1, ...,   8,   7,   8],\n",
              "       [  1,   0,  -1, ...,  34,  33,  32],\n",
              "       [  1,   0,  -1, ...,   4,   5,   4],\n",
              "       ...,\n",
              "       [  1,   2,   1, ...,  24,  25,  26],\n",
              "       [  1,   2,   3, ...,  14,  13,  14],\n",
              "       [ -1,  -2,  -3, ..., -24, -23, -22]], dtype=int32)"
            ]
          },
          "execution_count": 121,
          "metadata": {},
          "output_type": "execute_result"
        }
      ],
      "source": [
        "nwalks = 5000\n",
        "nsteps = 1000\n",
        "draws = np.random.randint(0, 2, size=(nwalks, nsteps)) # 0 or 1\n",
        "steps = np.where(draws > 0, 1, -1)\n",
        "walks = steps.cumsum(1)\n",
        "walks"
      ]
    },
    {
      "cell_type": "code",
      "execution_count": null,
      "metadata": {
        "id": "n12pIUNVIuU_",
        "outputId": "04e078d9-cadf-4ba5-c604-dfdf360d1f2f"
      },
      "outputs": [
        {
          "data": {
            "text/plain": [
              "-133"
            ]
          },
          "execution_count": 122,
          "metadata": {},
          "output_type": "execute_result"
        }
      ],
      "source": [
        "walks.max()\n",
        "walks.min()"
      ]
    },
    {
      "cell_type": "code",
      "execution_count": null,
      "metadata": {
        "id": "WWeouIBIIuU_",
        "outputId": "fcd8cf7e-51ed-420b-8a42-f54990f84db6"
      },
      "outputs": [
        {
          "data": {
            "text/plain": [
              "3410"
            ]
          },
          "execution_count": 123,
          "metadata": {},
          "output_type": "execute_result"
        }
      ],
      "source": [
        "hits30 = (np.abs(walks) >= 30).any(1)\n",
        "hits30\n",
        "hits30.sum() # Number that hit 30 or -30"
      ]
    },
    {
      "cell_type": "code",
      "execution_count": null,
      "metadata": {
        "id": "9N9JBk5JIuU_",
        "outputId": "c12c34fd-e704-4a51-f0db-8dd4dd470779"
      },
      "outputs": [
        {
          "data": {
            "text/plain": [
              "498.8897360703812"
            ]
          },
          "execution_count": 124,
          "metadata": {},
          "output_type": "execute_result"
        }
      ],
      "source": [
        "crossing_times = (np.abs(walks[hits30]) >= 30).argmax(1)\n",
        "crossing_times.mean()"
      ]
    },
    {
      "cell_type": "code",
      "execution_count": null,
      "metadata": {
        "id": "YVTmZFiMIuVA"
      },
      "outputs": [],
      "source": [
        "steps = np.random.normal(loc=0, scale=0.25,\n",
        "                         size=(nwalks, nsteps))"
      ]
    },
    {
      "cell_type": "markdown",
      "metadata": {
        "id": "jmdQrNMdIuVA"
      },
      "source": [
        "Getting Started with pandas"
      ]
    },
    {
      "cell_type": "code",
      "execution_count": null,
      "metadata": {
        "id": "J0RvPyb5IuVA"
      },
      "outputs": [],
      "source": [
        "import pandas as pd"
      ]
    },
    {
      "cell_type": "code",
      "execution_count": null,
      "metadata": {
        "id": "lEcYHAaYIuVB"
      },
      "outputs": [],
      "source": [
        "from pandas import Series, DataFrame"
      ]
    },
    {
      "cell_type": "code",
      "execution_count": null,
      "metadata": {
        "id": "srGr_bZ1IuVB"
      },
      "outputs": [],
      "source": [
        "import numpy as np\n",
        "np.random.seed(12345)\n",
        "import matplotlib.pyplot as plt\n",
        "plt.rc('figure', figsize=(10, 6))\n",
        "PREVIOUS_MAX_ROWS = pd.options.display.max_rows\n",
        "pd.options.display.max_rows = 20\n",
        "np.set_printoptions(precision=4, suppress=True)"
      ]
    },
    {
      "cell_type": "markdown",
      "metadata": {
        "id": "MBhkkkP8IuVB"
      },
      "source": [
        "Introduction to pandas Data Structures"
      ]
    },
    {
      "cell_type": "markdown",
      "metadata": {
        "id": "W1M0PugpIuVB"
      },
      "source": [
        "Series"
      ]
    },
    {
      "cell_type": "code",
      "execution_count": null,
      "metadata": {
        "id": "lrJLPk2XIuVC",
        "outputId": "4b038402-0ae9-420c-a1fb-6b5009cf361f"
      },
      "outputs": [
        {
          "data": {
            "text/plain": [
              "0    4\n",
              "1    7\n",
              "2   -5\n",
              "3    3\n",
              "dtype: int64"
            ]
          },
          "execution_count": 129,
          "metadata": {},
          "output_type": "execute_result"
        }
      ],
      "source": [
        "obj = pd.Series([4, 7, -5, 3])\n",
        "obj"
      ]
    },
    {
      "cell_type": "code",
      "execution_count": null,
      "metadata": {
        "id": "BNY1brtqIuVC",
        "outputId": "93e73831-b4d0-420c-afef-1c92d6463361"
      },
      "outputs": [
        {
          "data": {
            "text/plain": [
              "RangeIndex(start=0, stop=4, step=1)"
            ]
          },
          "execution_count": 130,
          "metadata": {},
          "output_type": "execute_result"
        }
      ],
      "source": [
        "obj.values\n",
        "obj.index  # like range(4)"
      ]
    },
    {
      "cell_type": "code",
      "execution_count": null,
      "metadata": {
        "id": "NmZAFU3VIuVC",
        "outputId": "9c7757a3-527b-46d9-e947-08f17e57bb02"
      },
      "outputs": [
        {
          "data": {
            "text/plain": [
              "Index(['d', 'b', 'a', 'c'], dtype='object')"
            ]
          },
          "execution_count": 131,
          "metadata": {},
          "output_type": "execute_result"
        }
      ],
      "source": [
        "obj2 = pd.Series([4, 7, -5, 3], index=['d', 'b', 'a', 'c'])\n",
        "obj2\n",
        "obj2.index"
      ]
    },
    {
      "cell_type": "code",
      "execution_count": null,
      "metadata": {
        "id": "EU08a8p4IuVD",
        "outputId": "1ed5e27a-ba43-4fbe-9550-8efaa8163438"
      },
      "outputs": [
        {
          "data": {
            "text/plain": [
              "c    3\n",
              "a   -5\n",
              "d    6\n",
              "dtype: int64"
            ]
          },
          "execution_count": 132,
          "metadata": {},
          "output_type": "execute_result"
        }
      ],
      "source": [
        "obj2['a']\n",
        "obj2['d'] = 6\n",
        "obj2[['c', 'a', 'd']]"
      ]
    },
    {
      "cell_type": "code",
      "execution_count": null,
      "metadata": {
        "id": "MJuCyUfAIuVD",
        "outputId": "07847835-7242-4118-8abf-f8736abb3828"
      },
      "outputs": [
        {
          "data": {
            "text/plain": [
              "d     403.428793\n",
              "b    1096.633158\n",
              "a       0.006738\n",
              "c      20.085537\n",
              "dtype: float64"
            ]
          },
          "execution_count": 133,
          "metadata": {},
          "output_type": "execute_result"
        }
      ],
      "source": [
        "obj2[obj2 > 0]\n",
        "obj2 * 2\n",
        "np.exp(obj2)"
      ]
    },
    {
      "cell_type": "code",
      "execution_count": null,
      "metadata": {
        "id": "PTwpGeryIuVD",
        "outputId": "4b0441e2-78aa-460d-dc07-64934c0e0f61"
      },
      "outputs": [
        {
          "data": {
            "text/plain": [
              "False"
            ]
          },
          "execution_count": 134,
          "metadata": {},
          "output_type": "execute_result"
        }
      ],
      "source": [
        "'b' in obj2\n",
        "'e' in obj2"
      ]
    },
    {
      "cell_type": "code",
      "execution_count": null,
      "metadata": {
        "id": "HzK4RpWqIuVE",
        "outputId": "3615bf38-5bc0-4368-fce5-c165c13a6442"
      },
      "outputs": [
        {
          "data": {
            "text/plain": [
              "Ohio      35000\n",
              "Texas     71000\n",
              "Oregon    16000\n",
              "Utah       5000\n",
              "dtype: int64"
            ]
          },
          "execution_count": 135,
          "metadata": {},
          "output_type": "execute_result"
        }
      ],
      "source": [
        "sdata = {'Ohio': 35000, 'Texas': 71000, 'Oregon': 16000, 'Utah': 5000}\n",
        "obj3 = pd.Series(sdata)\n",
        "obj3"
      ]
    },
    {
      "cell_type": "code",
      "execution_count": null,
      "metadata": {
        "id": "tF1ZsvFQIuVE",
        "outputId": "d68b1899-fe70-4d63-9a25-044b696e233f"
      },
      "outputs": [
        {
          "data": {
            "text/plain": [
              "California        NaN\n",
              "Ohio          35000.0\n",
              "Oregon        16000.0\n",
              "Texas         71000.0\n",
              "dtype: float64"
            ]
          },
          "execution_count": 136,
          "metadata": {},
          "output_type": "execute_result"
        }
      ],
      "source": [
        "states = ['California', 'Ohio', 'Oregon', 'Texas']\n",
        "obj4 = pd.Series(sdata, index=states)\n",
        "obj4"
      ]
    },
    {
      "cell_type": "code",
      "execution_count": null,
      "metadata": {
        "id": "vWFTfNEpIuVF",
        "outputId": "80a847b4-8408-4f22-fcb8-9e39ee001001"
      },
      "outputs": [
        {
          "data": {
            "text/plain": [
              "California    False\n",
              "Ohio           True\n",
              "Oregon         True\n",
              "Texas          True\n",
              "dtype: bool"
            ]
          },
          "execution_count": 137,
          "metadata": {},
          "output_type": "execute_result"
        }
      ],
      "source": [
        "pd.isnull(obj4)\n",
        "pd.notnull(obj4)"
      ]
    },
    {
      "cell_type": "code",
      "execution_count": null,
      "metadata": {
        "id": "5TePxdNlIuVG",
        "outputId": "f01f8f0e-4422-410e-b377-c11a1510a824"
      },
      "outputs": [
        {
          "data": {
            "text/plain": [
              "California     True\n",
              "Ohio          False\n",
              "Oregon        False\n",
              "Texas         False\n",
              "dtype: bool"
            ]
          },
          "execution_count": 138,
          "metadata": {},
          "output_type": "execute_result"
        }
      ],
      "source": [
        "obj4.isnull()"
      ]
    },
    {
      "cell_type": "code",
      "execution_count": null,
      "metadata": {
        "id": "mpbWf0HlIuVG",
        "outputId": "be5f1115-16fc-4343-9568-35d2f740917e"
      },
      "outputs": [
        {
          "data": {
            "text/plain": [
              "California         NaN\n",
              "Ohio           70000.0\n",
              "Oregon         32000.0\n",
              "Texas         142000.0\n",
              "Utah               NaN\n",
              "dtype: float64"
            ]
          },
          "execution_count": 139,
          "metadata": {},
          "output_type": "execute_result"
        }
      ],
      "source": [
        "obj3\n",
        "obj4\n",
        "obj3 + obj4"
      ]
    },
    {
      "cell_type": "code",
      "execution_count": null,
      "metadata": {
        "id": "arvZWn_MIuVG",
        "outputId": "2a6f17d9-63b6-43eb-acad-03e36b74dfed"
      },
      "outputs": [
        {
          "data": {
            "text/plain": [
              "state\n",
              "California        NaN\n",
              "Ohio          35000.0\n",
              "Oregon        16000.0\n",
              "Texas         71000.0\n",
              "Name: population, dtype: float64"
            ]
          },
          "execution_count": 140,
          "metadata": {},
          "output_type": "execute_result"
        }
      ],
      "source": [
        "obj4.name = 'population'\n",
        "obj4.index.name = 'state'\n",
        "obj4"
      ]
    },
    {
      "cell_type": "code",
      "execution_count": null,
      "metadata": {
        "id": "QASvgG5TIuVH",
        "outputId": "03fc0e37-1a91-4409-a5ac-ce24082423d0"
      },
      "outputs": [
        {
          "data": {
            "text/plain": [
              "Bob      4\n",
              "Steve    7\n",
              "Jeff    -5\n",
              "Ryan     3\n",
              "dtype: int64"
            ]
          },
          "execution_count": 141,
          "metadata": {},
          "output_type": "execute_result"
        }
      ],
      "source": [
        "obj\n",
        "obj.index = ['Bob', 'Steve', 'Jeff', 'Ryan']\n",
        "obj"
      ]
    },
    {
      "cell_type": "markdown",
      "metadata": {
        "id": "F0bOPhMjIuVH"
      },
      "source": [
        "DataFrame"
      ]
    },
    {
      "cell_type": "code",
      "execution_count": null,
      "metadata": {
        "id": "VmAeCxdGIuVH"
      },
      "outputs": [],
      "source": [
        "data = {'state': ['Ohio', 'Ohio', 'Ohio', 'Nevada', 'Nevada', 'Nevada'],\n",
        "        'year': [2000, 2001, 2002, 2001, 2002, 2003],\n",
        "        'pop': [1.5, 1.7, 3.6, 2.4, 2.9, 3.2]}\n",
        "frame = pd.DataFrame(data)"
      ]
    },
    {
      "cell_type": "code",
      "execution_count": null,
      "metadata": {
        "id": "J50UXNauIuVI",
        "outputId": "ae69c998-e1e1-4ac7-f186-eb9b1982fee2"
      },
      "outputs": [
        {
          "data": {
            "text/html": [
              "<div>\n",
              "<style scoped>\n",
              "    .dataframe tbody tr th:only-of-type {\n",
              "        vertical-align: middle;\n",
              "    }\n",
              "\n",
              "    .dataframe tbody tr th {\n",
              "        vertical-align: top;\n",
              "    }\n",
              "\n",
              "    .dataframe thead th {\n",
              "        text-align: right;\n",
              "    }\n",
              "</style>\n",
              "<table border=\"1\" class=\"dataframe\">\n",
              "  <thead>\n",
              "    <tr style=\"text-align: right;\">\n",
              "      <th></th>\n",
              "      <th>state</th>\n",
              "      <th>year</th>\n",
              "      <th>pop</th>\n",
              "    </tr>\n",
              "  </thead>\n",
              "  <tbody>\n",
              "    <tr>\n",
              "      <th>0</th>\n",
              "      <td>Ohio</td>\n",
              "      <td>2000</td>\n",
              "      <td>1.5</td>\n",
              "    </tr>\n",
              "    <tr>\n",
              "      <th>1</th>\n",
              "      <td>Ohio</td>\n",
              "      <td>2001</td>\n",
              "      <td>1.7</td>\n",
              "    </tr>\n",
              "    <tr>\n",
              "      <th>2</th>\n",
              "      <td>Ohio</td>\n",
              "      <td>2002</td>\n",
              "      <td>3.6</td>\n",
              "    </tr>\n",
              "    <tr>\n",
              "      <th>3</th>\n",
              "      <td>Nevada</td>\n",
              "      <td>2001</td>\n",
              "      <td>2.4</td>\n",
              "    </tr>\n",
              "    <tr>\n",
              "      <th>4</th>\n",
              "      <td>Nevada</td>\n",
              "      <td>2002</td>\n",
              "      <td>2.9</td>\n",
              "    </tr>\n",
              "    <tr>\n",
              "      <th>5</th>\n",
              "      <td>Nevada</td>\n",
              "      <td>2003</td>\n",
              "      <td>3.2</td>\n",
              "    </tr>\n",
              "  </tbody>\n",
              "</table>\n",
              "</div>"
            ],
            "text/plain": [
              "    state  year  pop\n",
              "0    Ohio  2000  1.5\n",
              "1    Ohio  2001  1.7\n",
              "2    Ohio  2002  3.6\n",
              "3  Nevada  2001  2.4\n",
              "4  Nevada  2002  2.9\n",
              "5  Nevada  2003  3.2"
            ]
          },
          "execution_count": 143,
          "metadata": {},
          "output_type": "execute_result"
        }
      ],
      "source": [
        "frame"
      ]
    },
    {
      "cell_type": "code",
      "execution_count": null,
      "metadata": {
        "id": "8L3OZocdIuVI",
        "outputId": "955ea88f-2b22-4435-eb1a-db9e1070c3ae"
      },
      "outputs": [
        {
          "data": {
            "text/html": [
              "<div>\n",
              "<style scoped>\n",
              "    .dataframe tbody tr th:only-of-type {\n",
              "        vertical-align: middle;\n",
              "    }\n",
              "\n",
              "    .dataframe tbody tr th {\n",
              "        vertical-align: top;\n",
              "    }\n",
              "\n",
              "    .dataframe thead th {\n",
              "        text-align: right;\n",
              "    }\n",
              "</style>\n",
              "<table border=\"1\" class=\"dataframe\">\n",
              "  <thead>\n",
              "    <tr style=\"text-align: right;\">\n",
              "      <th></th>\n",
              "      <th>state</th>\n",
              "      <th>year</th>\n",
              "      <th>pop</th>\n",
              "    </tr>\n",
              "  </thead>\n",
              "  <tbody>\n",
              "    <tr>\n",
              "      <th>0</th>\n",
              "      <td>Ohio</td>\n",
              "      <td>2000</td>\n",
              "      <td>1.5</td>\n",
              "    </tr>\n",
              "    <tr>\n",
              "      <th>1</th>\n",
              "      <td>Ohio</td>\n",
              "      <td>2001</td>\n",
              "      <td>1.7</td>\n",
              "    </tr>\n",
              "    <tr>\n",
              "      <th>2</th>\n",
              "      <td>Ohio</td>\n",
              "      <td>2002</td>\n",
              "      <td>3.6</td>\n",
              "    </tr>\n",
              "    <tr>\n",
              "      <th>3</th>\n",
              "      <td>Nevada</td>\n",
              "      <td>2001</td>\n",
              "      <td>2.4</td>\n",
              "    </tr>\n",
              "    <tr>\n",
              "      <th>4</th>\n",
              "      <td>Nevada</td>\n",
              "      <td>2002</td>\n",
              "      <td>2.9</td>\n",
              "    </tr>\n",
              "  </tbody>\n",
              "</table>\n",
              "</div>"
            ],
            "text/plain": [
              "    state  year  pop\n",
              "0    Ohio  2000  1.5\n",
              "1    Ohio  2001  1.7\n",
              "2    Ohio  2002  3.6\n",
              "3  Nevada  2001  2.4\n",
              "4  Nevada  2002  2.9"
            ]
          },
          "execution_count": 144,
          "metadata": {},
          "output_type": "execute_result"
        }
      ],
      "source": [
        "frame.head()"
      ]
    },
    {
      "cell_type": "code",
      "execution_count": null,
      "metadata": {
        "id": "GXO7K8NkIuVI",
        "outputId": "0085fc34-82f9-4f21-ff2b-29e80bd8a149"
      },
      "outputs": [
        {
          "data": {
            "text/html": [
              "<div>\n",
              "<style scoped>\n",
              "    .dataframe tbody tr th:only-of-type {\n",
              "        vertical-align: middle;\n",
              "    }\n",
              "\n",
              "    .dataframe tbody tr th {\n",
              "        vertical-align: top;\n",
              "    }\n",
              "\n",
              "    .dataframe thead th {\n",
              "        text-align: right;\n",
              "    }\n",
              "</style>\n",
              "<table border=\"1\" class=\"dataframe\">\n",
              "  <thead>\n",
              "    <tr style=\"text-align: right;\">\n",
              "      <th></th>\n",
              "      <th>year</th>\n",
              "      <th>state</th>\n",
              "      <th>pop</th>\n",
              "    </tr>\n",
              "  </thead>\n",
              "  <tbody>\n",
              "    <tr>\n",
              "      <th>0</th>\n",
              "      <td>2000</td>\n",
              "      <td>Ohio</td>\n",
              "      <td>1.5</td>\n",
              "    </tr>\n",
              "    <tr>\n",
              "      <th>1</th>\n",
              "      <td>2001</td>\n",
              "      <td>Ohio</td>\n",
              "      <td>1.7</td>\n",
              "    </tr>\n",
              "    <tr>\n",
              "      <th>2</th>\n",
              "      <td>2002</td>\n",
              "      <td>Ohio</td>\n",
              "      <td>3.6</td>\n",
              "    </tr>\n",
              "    <tr>\n",
              "      <th>3</th>\n",
              "      <td>2001</td>\n",
              "      <td>Nevada</td>\n",
              "      <td>2.4</td>\n",
              "    </tr>\n",
              "    <tr>\n",
              "      <th>4</th>\n",
              "      <td>2002</td>\n",
              "      <td>Nevada</td>\n",
              "      <td>2.9</td>\n",
              "    </tr>\n",
              "    <tr>\n",
              "      <th>5</th>\n",
              "      <td>2003</td>\n",
              "      <td>Nevada</td>\n",
              "      <td>3.2</td>\n",
              "    </tr>\n",
              "  </tbody>\n",
              "</table>\n",
              "</div>"
            ],
            "text/plain": [
              "   year   state  pop\n",
              "0  2000    Ohio  1.5\n",
              "1  2001    Ohio  1.7\n",
              "2  2002    Ohio  3.6\n",
              "3  2001  Nevada  2.4\n",
              "4  2002  Nevada  2.9\n",
              "5  2003  Nevada  3.2"
            ]
          },
          "execution_count": 145,
          "metadata": {},
          "output_type": "execute_result"
        }
      ],
      "source": [
        "pd.DataFrame(data, columns=['year', 'state', 'pop'])"
      ]
    },
    {
      "cell_type": "code",
      "execution_count": null,
      "metadata": {
        "id": "vqazz-guIuVJ",
        "outputId": "57fe028c-98ff-4e01-99f4-f4ae381f6876"
      },
      "outputs": [
        {
          "data": {
            "text/plain": [
              "Index(['year', 'state', 'pop', 'debt'], dtype='object')"
            ]
          },
          "execution_count": 146,
          "metadata": {},
          "output_type": "execute_result"
        }
      ],
      "source": [
        "frame2 = pd.DataFrame(data, columns=['year', 'state', 'pop', 'debt'],\n",
        "                      index=['one', 'two', 'three', 'four',\n",
        "                             'five', 'six'])\n",
        "frame2\n",
        "frame2.columns"
      ]
    },
    {
      "cell_type": "code",
      "execution_count": null,
      "metadata": {
        "id": "ZAQVz7bzIuVJ",
        "outputId": "9eb89740-f273-4661-db25-938df4c7498d"
      },
      "outputs": [
        {
          "data": {
            "text/plain": [
              "one      2000\n",
              "two      2001\n",
              "three    2002\n",
              "four     2001\n",
              "five     2002\n",
              "six      2003\n",
              "Name: year, dtype: int64"
            ]
          },
          "execution_count": 147,
          "metadata": {},
          "output_type": "execute_result"
        }
      ],
      "source": [
        "frame2['state']\n",
        "frame2.year"
      ]
    },
    {
      "cell_type": "code",
      "execution_count": null,
      "metadata": {
        "id": "mjotAlk4IuVJ",
        "outputId": "026ff83d-284c-45ca-b383-6541138807f9"
      },
      "outputs": [
        {
          "data": {
            "text/plain": [
              "year     2002\n",
              "state    Ohio\n",
              "pop       3.6\n",
              "debt      NaN\n",
              "Name: three, dtype: object"
            ]
          },
          "execution_count": 148,
          "metadata": {},
          "output_type": "execute_result"
        }
      ],
      "source": [
        "frame2.loc['three']"
      ]
    },
    {
      "cell_type": "code",
      "execution_count": null,
      "metadata": {
        "id": "fqas_yjLIuVK",
        "outputId": "4a969681-58f6-4605-9e65-1d7c6a3fb21d"
      },
      "outputs": [
        {
          "data": {
            "text/html": [
              "<div>\n",
              "<style scoped>\n",
              "    .dataframe tbody tr th:only-of-type {\n",
              "        vertical-align: middle;\n",
              "    }\n",
              "\n",
              "    .dataframe tbody tr th {\n",
              "        vertical-align: top;\n",
              "    }\n",
              "\n",
              "    .dataframe thead th {\n",
              "        text-align: right;\n",
              "    }\n",
              "</style>\n",
              "<table border=\"1\" class=\"dataframe\">\n",
              "  <thead>\n",
              "    <tr style=\"text-align: right;\">\n",
              "      <th></th>\n",
              "      <th>year</th>\n",
              "      <th>state</th>\n",
              "      <th>pop</th>\n",
              "      <th>debt</th>\n",
              "    </tr>\n",
              "  </thead>\n",
              "  <tbody>\n",
              "    <tr>\n",
              "      <th>one</th>\n",
              "      <td>2000</td>\n",
              "      <td>Ohio</td>\n",
              "      <td>1.5</td>\n",
              "      <td>0.0</td>\n",
              "    </tr>\n",
              "    <tr>\n",
              "      <th>two</th>\n",
              "      <td>2001</td>\n",
              "      <td>Ohio</td>\n",
              "      <td>1.7</td>\n",
              "      <td>1.0</td>\n",
              "    </tr>\n",
              "    <tr>\n",
              "      <th>three</th>\n",
              "      <td>2002</td>\n",
              "      <td>Ohio</td>\n",
              "      <td>3.6</td>\n",
              "      <td>2.0</td>\n",
              "    </tr>\n",
              "    <tr>\n",
              "      <th>four</th>\n",
              "      <td>2001</td>\n",
              "      <td>Nevada</td>\n",
              "      <td>2.4</td>\n",
              "      <td>3.0</td>\n",
              "    </tr>\n",
              "    <tr>\n",
              "      <th>five</th>\n",
              "      <td>2002</td>\n",
              "      <td>Nevada</td>\n",
              "      <td>2.9</td>\n",
              "      <td>4.0</td>\n",
              "    </tr>\n",
              "    <tr>\n",
              "      <th>six</th>\n",
              "      <td>2003</td>\n",
              "      <td>Nevada</td>\n",
              "      <td>3.2</td>\n",
              "      <td>5.0</td>\n",
              "    </tr>\n",
              "  </tbody>\n",
              "</table>\n",
              "</div>"
            ],
            "text/plain": [
              "       year   state  pop  debt\n",
              "one    2000    Ohio  1.5   0.0\n",
              "two    2001    Ohio  1.7   1.0\n",
              "three  2002    Ohio  3.6   2.0\n",
              "four   2001  Nevada  2.4   3.0\n",
              "five   2002  Nevada  2.9   4.0\n",
              "six    2003  Nevada  3.2   5.0"
            ]
          },
          "execution_count": 149,
          "metadata": {},
          "output_type": "execute_result"
        }
      ],
      "source": [
        "frame2['debt'] = 16.5\n",
        "frame2\n",
        "frame2['debt'] = np.arange(6.)\n",
        "frame2"
      ]
    },
    {
      "cell_type": "code",
      "execution_count": null,
      "metadata": {
        "id": "efnvWqQ4IuVK",
        "outputId": "95895d15-bd8b-439b-85f6-a5d63399597b"
      },
      "outputs": [
        {
          "ename": "SyntaxError",
          "evalue": "invalid syntax (Temp/ipykernel_10196/2902208742.py, line 3)",
          "output_type": "error",
          "traceback": [
            "\u001b[1;36m  File \u001b[1;32m\"C:\\Users\\LENOVO\\AppData\\Local\\Temp/ipykernel_10196/2902208742.py\"\u001b[1;36m, line \u001b[1;32m3\u001b[0m\n\u001b[1;33m    frame2/\u001b[0m\n\u001b[1;37m           ^\u001b[0m\n\u001b[1;31mSyntaxError\u001b[0m\u001b[1;31m:\u001b[0m invalid syntax\n"
          ]
        }
      ],
      "source": [
        "val = pd.Series([-1.2, -1.5, -1.7], index=['two', 'four', 'five'])\n",
        "frame2['debt'] = val\n",
        "frame2/"
      ]
    },
    {
      "cell_type": "code",
      "execution_count": null,
      "metadata": {
        "id": "YtFDO8_OIuVK",
        "outputId": "41e6f999-739e-4c59-ba93-2f7c79a24604"
      },
      "outputs": [
        {
          "data": {
            "text/html": [
              "<div>\n",
              "<style scoped>\n",
              "    .dataframe tbody tr th:only-of-type {\n",
              "        vertical-align: middle;\n",
              "    }\n",
              "\n",
              "    .dataframe tbody tr th {\n",
              "        vertical-align: top;\n",
              "    }\n",
              "\n",
              "    .dataframe thead th {\n",
              "        text-align: right;\n",
              "    }\n",
              "</style>\n",
              "<table border=\"1\" class=\"dataframe\">\n",
              "  <thead>\n",
              "    <tr style=\"text-align: right;\">\n",
              "      <th></th>\n",
              "      <th>year</th>\n",
              "      <th>state</th>\n",
              "      <th>pop</th>\n",
              "      <th>debt</th>\n",
              "      <th>eastern</th>\n",
              "    </tr>\n",
              "  </thead>\n",
              "  <tbody>\n",
              "    <tr>\n",
              "      <th>one</th>\n",
              "      <td>2000</td>\n",
              "      <td>Ohio</td>\n",
              "      <td>1.5</td>\n",
              "      <td>0.0</td>\n",
              "      <td>True</td>\n",
              "    </tr>\n",
              "    <tr>\n",
              "      <th>two</th>\n",
              "      <td>2001</td>\n",
              "      <td>Ohio</td>\n",
              "      <td>1.7</td>\n",
              "      <td>1.0</td>\n",
              "      <td>True</td>\n",
              "    </tr>\n",
              "    <tr>\n",
              "      <th>three</th>\n",
              "      <td>2002</td>\n",
              "      <td>Ohio</td>\n",
              "      <td>3.6</td>\n",
              "      <td>2.0</td>\n",
              "      <td>True</td>\n",
              "    </tr>\n",
              "    <tr>\n",
              "      <th>four</th>\n",
              "      <td>2001</td>\n",
              "      <td>Nevada</td>\n",
              "      <td>2.4</td>\n",
              "      <td>3.0</td>\n",
              "      <td>False</td>\n",
              "    </tr>\n",
              "    <tr>\n",
              "      <th>five</th>\n",
              "      <td>2002</td>\n",
              "      <td>Nevada</td>\n",
              "      <td>2.9</td>\n",
              "      <td>4.0</td>\n",
              "      <td>False</td>\n",
              "    </tr>\n",
              "    <tr>\n",
              "      <th>six</th>\n",
              "      <td>2003</td>\n",
              "      <td>Nevada</td>\n",
              "      <td>3.2</td>\n",
              "      <td>5.0</td>\n",
              "      <td>False</td>\n",
              "    </tr>\n",
              "  </tbody>\n",
              "</table>\n",
              "</div>"
            ],
            "text/plain": [
              "       year   state  pop  debt  eastern\n",
              "one    2000    Ohio  1.5   0.0     True\n",
              "two    2001    Ohio  1.7   1.0     True\n",
              "three  2002    Ohio  3.6   2.0     True\n",
              "four   2001  Nevada  2.4   3.0    False\n",
              "five   2002  Nevada  2.9   4.0    False\n",
              "six    2003  Nevada  3.2   5.0    False"
            ]
          },
          "execution_count": 151,
          "metadata": {},
          "output_type": "execute_result"
        }
      ],
      "source": [
        "frame2['eastern'] = frame2.state == 'Ohio'\n",
        "frame2"
      ]
    },
    {
      "cell_type": "code",
      "execution_count": null,
      "metadata": {
        "id": "NYx--EdKIuVL",
        "outputId": "0ec83964-1c21-40d1-d6e4-8dad5fd801cb"
      },
      "outputs": [
        {
          "data": {
            "text/plain": [
              "Index(['year', 'state', 'pop', 'debt'], dtype='object')"
            ]
          },
          "execution_count": 153,
          "metadata": {},
          "output_type": "execute_result"
        }
      ],
      "source": [
        "del frame2['eastern']\n",
        "frame2.columns"
      ]
    },
    {
      "cell_type": "code",
      "execution_count": null,
      "metadata": {
        "id": "iGF3-OH4IuVL"
      },
      "outputs": [],
      "source": [
        "pop = {'Nevada': {2001: 2.4, 2002: 2.9},\n",
        "       'Ohio': {2000: 1.5, 2001: 1.7, 2002: 3.6}}"
      ]
    },
    {
      "cell_type": "code",
      "execution_count": null,
      "metadata": {
        "id": "HQEGU2pTIuVL",
        "outputId": "7e29cbe6-4d11-4cc2-dafd-ae41ee187735"
      },
      "outputs": [
        {
          "data": {
            "text/html": [
              "<div>\n",
              "<style scoped>\n",
              "    .dataframe tbody tr th:only-of-type {\n",
              "        vertical-align: middle;\n",
              "    }\n",
              "\n",
              "    .dataframe tbody tr th {\n",
              "        vertical-align: top;\n",
              "    }\n",
              "\n",
              "    .dataframe thead th {\n",
              "        text-align: right;\n",
              "    }\n",
              "</style>\n",
              "<table border=\"1\" class=\"dataframe\">\n",
              "  <thead>\n",
              "    <tr style=\"text-align: right;\">\n",
              "      <th></th>\n",
              "      <th>Nevada</th>\n",
              "      <th>Ohio</th>\n",
              "    </tr>\n",
              "  </thead>\n",
              "  <tbody>\n",
              "    <tr>\n",
              "      <th>2001</th>\n",
              "      <td>2.4</td>\n",
              "      <td>1.7</td>\n",
              "    </tr>\n",
              "    <tr>\n",
              "      <th>2002</th>\n",
              "      <td>2.9</td>\n",
              "      <td>3.6</td>\n",
              "    </tr>\n",
              "    <tr>\n",
              "      <th>2000</th>\n",
              "      <td>NaN</td>\n",
              "      <td>1.5</td>\n",
              "    </tr>\n",
              "  </tbody>\n",
              "</table>\n",
              "</div>"
            ],
            "text/plain": [
              "      Nevada  Ohio\n",
              "2001     2.4   1.7\n",
              "2002     2.9   3.6\n",
              "2000     NaN   1.5"
            ]
          },
          "execution_count": 155,
          "metadata": {},
          "output_type": "execute_result"
        }
      ],
      "source": [
        "frame3 = pd.DataFrame(pop)\n",
        "frame3"
      ]
    },
    {
      "cell_type": "code",
      "execution_count": null,
      "metadata": {
        "id": "KpUWZAD-IuVM",
        "outputId": "421c4290-5d14-4ffe-9e73-257f04b34b1c"
      },
      "outputs": [
        {
          "data": {
            "text/html": [
              "<div>\n",
              "<style scoped>\n",
              "    .dataframe tbody tr th:only-of-type {\n",
              "        vertical-align: middle;\n",
              "    }\n",
              "\n",
              "    .dataframe tbody tr th {\n",
              "        vertical-align: top;\n",
              "    }\n",
              "\n",
              "    .dataframe thead th {\n",
              "        text-align: right;\n",
              "    }\n",
              "</style>\n",
              "<table border=\"1\" class=\"dataframe\">\n",
              "  <thead>\n",
              "    <tr style=\"text-align: right;\">\n",
              "      <th></th>\n",
              "      <th>2001</th>\n",
              "      <th>2002</th>\n",
              "      <th>2000</th>\n",
              "    </tr>\n",
              "  </thead>\n",
              "  <tbody>\n",
              "    <tr>\n",
              "      <th>Nevada</th>\n",
              "      <td>2.4</td>\n",
              "      <td>2.9</td>\n",
              "      <td>NaN</td>\n",
              "    </tr>\n",
              "    <tr>\n",
              "      <th>Ohio</th>\n",
              "      <td>1.7</td>\n",
              "      <td>3.6</td>\n",
              "      <td>1.5</td>\n",
              "    </tr>\n",
              "  </tbody>\n",
              "</table>\n",
              "</div>"
            ],
            "text/plain": [
              "        2001  2002  2000\n",
              "Nevada   2.4   2.9   NaN\n",
              "Ohio     1.7   3.6   1.5"
            ]
          },
          "execution_count": 156,
          "metadata": {},
          "output_type": "execute_result"
        }
      ],
      "source": [
        "frame3.T"
      ]
    },
    {
      "cell_type": "code",
      "execution_count": null,
      "metadata": {
        "id": "gdAijWrXIuVM",
        "outputId": "6c109cd3-1d12-4388-f57e-24aafe84433f"
      },
      "outputs": [
        {
          "data": {
            "text/html": [
              "<div>\n",
              "<style scoped>\n",
              "    .dataframe tbody tr th:only-of-type {\n",
              "        vertical-align: middle;\n",
              "    }\n",
              "\n",
              "    .dataframe tbody tr th {\n",
              "        vertical-align: top;\n",
              "    }\n",
              "\n",
              "    .dataframe thead th {\n",
              "        text-align: right;\n",
              "    }\n",
              "</style>\n",
              "<table border=\"1\" class=\"dataframe\">\n",
              "  <thead>\n",
              "    <tr style=\"text-align: right;\">\n",
              "      <th></th>\n",
              "      <th>Nevada</th>\n",
              "      <th>Ohio</th>\n",
              "    </tr>\n",
              "  </thead>\n",
              "  <tbody>\n",
              "    <tr>\n",
              "      <th>2001</th>\n",
              "      <td>2.4</td>\n",
              "      <td>1.7</td>\n",
              "    </tr>\n",
              "    <tr>\n",
              "      <th>2002</th>\n",
              "      <td>2.9</td>\n",
              "      <td>3.6</td>\n",
              "    </tr>\n",
              "    <tr>\n",
              "      <th>2003</th>\n",
              "      <td>NaN</td>\n",
              "      <td>NaN</td>\n",
              "    </tr>\n",
              "  </tbody>\n",
              "</table>\n",
              "</div>"
            ],
            "text/plain": [
              "      Nevada  Ohio\n",
              "2001     2.4   1.7\n",
              "2002     2.9   3.6\n",
              "2003     NaN   NaN"
            ]
          },
          "execution_count": 157,
          "metadata": {},
          "output_type": "execute_result"
        }
      ],
      "source": [
        "pd.DataFrame(pop, index=[2001, 2002, 2003])"
      ]
    },
    {
      "cell_type": "code",
      "execution_count": null,
      "metadata": {
        "id": "sGI8G4JwIuVM",
        "outputId": "f85d3142-8ef9-4af8-c2ae-b612e1985e77"
      },
      "outputs": [
        {
          "data": {
            "text/html": [
              "<div>\n",
              "<style scoped>\n",
              "    .dataframe tbody tr th:only-of-type {\n",
              "        vertical-align: middle;\n",
              "    }\n",
              "\n",
              "    .dataframe tbody tr th {\n",
              "        vertical-align: top;\n",
              "    }\n",
              "\n",
              "    .dataframe thead th {\n",
              "        text-align: right;\n",
              "    }\n",
              "</style>\n",
              "<table border=\"1\" class=\"dataframe\">\n",
              "  <thead>\n",
              "    <tr style=\"text-align: right;\">\n",
              "      <th></th>\n",
              "      <th>Ohio</th>\n",
              "      <th>Nevada</th>\n",
              "    </tr>\n",
              "  </thead>\n",
              "  <tbody>\n",
              "    <tr>\n",
              "      <th>2001</th>\n",
              "      <td>1.7</td>\n",
              "      <td>2.4</td>\n",
              "    </tr>\n",
              "    <tr>\n",
              "      <th>2002</th>\n",
              "      <td>3.6</td>\n",
              "      <td>2.9</td>\n",
              "    </tr>\n",
              "  </tbody>\n",
              "</table>\n",
              "</div>"
            ],
            "text/plain": [
              "      Ohio  Nevada\n",
              "2001   1.7     2.4\n",
              "2002   3.6     2.9"
            ]
          },
          "execution_count": 158,
          "metadata": {},
          "output_type": "execute_result"
        }
      ],
      "source": [
        "\n",
        "pdata = {'Ohio': frame3['Ohio'][:-1],\n",
        "         'Nevada': frame3['Nevada'][:2]}\n",
        "pd.DataFrame(pdata)"
      ]
    },
    {
      "cell_type": "code",
      "execution_count": null,
      "metadata": {
        "id": "GD33jfbJIuVN",
        "outputId": "64b96b6c-7709-4423-dd54-b1e24e15e373"
      },
      "outputs": [
        {
          "data": {
            "text/html": [
              "<div>\n",
              "<style scoped>\n",
              "    .dataframe tbody tr th:only-of-type {\n",
              "        vertical-align: middle;\n",
              "    }\n",
              "\n",
              "    .dataframe tbody tr th {\n",
              "        vertical-align: top;\n",
              "    }\n",
              "\n",
              "    .dataframe thead th {\n",
              "        text-align: right;\n",
              "    }\n",
              "</style>\n",
              "<table border=\"1\" class=\"dataframe\">\n",
              "  <thead>\n",
              "    <tr style=\"text-align: right;\">\n",
              "      <th>state</th>\n",
              "      <th>Nevada</th>\n",
              "      <th>Ohio</th>\n",
              "    </tr>\n",
              "    <tr>\n",
              "      <th>year</th>\n",
              "      <th></th>\n",
              "      <th></th>\n",
              "    </tr>\n",
              "  </thead>\n",
              "  <tbody>\n",
              "    <tr>\n",
              "      <th>2001</th>\n",
              "      <td>2.4</td>\n",
              "      <td>1.7</td>\n",
              "    </tr>\n",
              "    <tr>\n",
              "      <th>2002</th>\n",
              "      <td>2.9</td>\n",
              "      <td>3.6</td>\n",
              "    </tr>\n",
              "    <tr>\n",
              "      <th>2000</th>\n",
              "      <td>NaN</td>\n",
              "      <td>1.5</td>\n",
              "    </tr>\n",
              "  </tbody>\n",
              "</table>\n",
              "</div>"
            ],
            "text/plain": [
              "state  Nevada  Ohio\n",
              "year               \n",
              "2001      2.4   1.7\n",
              "2002      2.9   3.6\n",
              "2000      NaN   1.5"
            ]
          },
          "execution_count": 159,
          "metadata": {},
          "output_type": "execute_result"
        }
      ],
      "source": [
        "frame3.index.name = 'year'; frame3.columns.name = 'state'\n",
        "frame3"
      ]
    },
    {
      "cell_type": "code",
      "execution_count": null,
      "metadata": {
        "id": "QCuwkl08IuVN",
        "outputId": "e7be4c12-a228-4c06-dfe7-4ac76cd9fc40"
      },
      "outputs": [
        {
          "data": {
            "text/plain": [
              "array([[2.4, 1.7],\n",
              "       [2.9, 3.6],\n",
              "       [nan, 1.5]])"
            ]
          },
          "execution_count": 160,
          "metadata": {},
          "output_type": "execute_result"
        }
      ],
      "source": [
        "frame3.values"
      ]
    },
    {
      "cell_type": "code",
      "execution_count": null,
      "metadata": {
        "id": "_jsa6JwOIuVN",
        "outputId": "7366a38b-c057-490f-dacd-ff8906f6f5fb"
      },
      "outputs": [
        {
          "data": {
            "text/plain": [
              "array([[2000, 'Ohio', 1.5, 0.0],\n",
              "       [2001, 'Ohio', 1.7, 1.0],\n",
              "       [2002, 'Ohio', 3.6, 2.0],\n",
              "       [2001, 'Nevada', 2.4, 3.0],\n",
              "       [2002, 'Nevada', 2.9, 4.0],\n",
              "       [2003, 'Nevada', 3.2, 5.0]], dtype=object)"
            ]
          },
          "execution_count": 161,
          "metadata": {},
          "output_type": "execute_result"
        }
      ],
      "source": [
        "frame2.values"
      ]
    },
    {
      "cell_type": "markdown",
      "metadata": {
        "id": "76wO_y6bIuVO"
      },
      "source": [
        "Index Objects"
      ]
    },
    {
      "cell_type": "code",
      "execution_count": null,
      "metadata": {
        "id": "6jZvEmdvIuVO",
        "outputId": "d8f85697-b39d-4257-8692-012c78f4c901"
      },
      "outputs": [
        {
          "data": {
            "text/plain": [
              "Index(['b', 'c'], dtype='object')"
            ]
          },
          "execution_count": 162,
          "metadata": {},
          "output_type": "execute_result"
        }
      ],
      "source": [
        "obj = pd.Series(range(3), index=['a', 'b', 'c'])\n",
        "index = obj.index\n",
        "index\n",
        "index[1:]"
      ]
    },
    {
      "cell_type": "markdown",
      "metadata": {
        "id": "T6UTGrSFIuVO"
      },
      "source": [
        "index[1] = 'd' # TypeError"
      ]
    },
    {
      "cell_type": "code",
      "execution_count": null,
      "metadata": {
        "id": "AU9134vBIuVO",
        "outputId": "21b42ac0-6620-4d03-830f-b984e3acf47e"
      },
      "outputs": [
        {
          "data": {
            "text/plain": [
              "True"
            ]
          },
          "execution_count": 163,
          "metadata": {},
          "output_type": "execute_result"
        }
      ],
      "source": [
        "labels = pd.Index(np.arange(3))\n",
        "labels\n",
        "obj2 = pd.Series([1.5, -2.5, 0], index=labels)\n",
        "obj2\n",
        "obj2.index is labels"
      ]
    },
    {
      "cell_type": "code",
      "execution_count": null,
      "metadata": {
        "id": "2WW2Xl8sIuVP",
        "outputId": "ec7873db-5df8-4d22-de3c-8415e9df79bf"
      },
      "outputs": [
        {
          "data": {
            "text/plain": [
              "False"
            ]
          },
          "execution_count": 164,
          "metadata": {},
          "output_type": "execute_result"
        }
      ],
      "source": [
        "frame3\n",
        "frame3.columns\n",
        "'Ohio' in frame3.columns\n",
        "2003 in frame3.index"
      ]
    },
    {
      "cell_type": "code",
      "execution_count": null,
      "metadata": {
        "id": "bNAXQBYYIuVP",
        "outputId": "10537f93-56e1-4f8f-9563-31b1cb47053c"
      },
      "outputs": [
        {
          "data": {
            "text/plain": [
              "Index(['foo', 'foo', 'bar', 'bar'], dtype='object')"
            ]
          },
          "execution_count": 165,
          "metadata": {},
          "output_type": "execute_result"
        }
      ],
      "source": [
        "dup_labels = pd.Index(['foo', 'foo', 'bar', 'bar'])\n",
        "dup_labels"
      ]
    },
    {
      "cell_type": "markdown",
      "metadata": {
        "id": "ozLtoO5jIuVP"
      },
      "source": [
        "Essential Functionality"
      ]
    },
    {
      "cell_type": "markdown",
      "metadata": {
        "id": "e9w0xRm-IuVQ"
      },
      "source": [
        "Reindexing"
      ]
    },
    {
      "cell_type": "code",
      "execution_count": null,
      "metadata": {
        "id": "FdSvZjjsIuVQ",
        "outputId": "57f3bca3-8b97-4f17-9cff-c07e84c358f9"
      },
      "outputs": [
        {
          "data": {
            "text/plain": [
              "d    4.5\n",
              "b    7.2\n",
              "a   -5.3\n",
              "c    3.6\n",
              "dtype: float64"
            ]
          },
          "execution_count": 166,
          "metadata": {},
          "output_type": "execute_result"
        }
      ],
      "source": [
        "obj = pd.Series([4.5, 7.2, -5.3, 3.6], index=['d', 'b', 'a', 'c'])\n",
        "obj"
      ]
    },
    {
      "cell_type": "code",
      "execution_count": null,
      "metadata": {
        "id": "XGa2FIyoIuVQ",
        "outputId": "b2380a37-cf74-497c-b26c-9cf60294bc00"
      },
      "outputs": [
        {
          "data": {
            "text/plain": [
              "a   -5.3\n",
              "b    7.2\n",
              "c    3.6\n",
              "d    4.5\n",
              "e    NaN\n",
              "dtype: float64"
            ]
          },
          "execution_count": 167,
          "metadata": {},
          "output_type": "execute_result"
        }
      ],
      "source": [
        "obj2 = obj.reindex(['a', 'b', 'c', 'd', 'e'])\n",
        "obj2"
      ]
    },
    {
      "cell_type": "code",
      "execution_count": null,
      "metadata": {
        "id": "6vJxfcEkIuVR",
        "outputId": "f7ec8dee-193e-4820-f0be-28f59d61adbe"
      },
      "outputs": [
        {
          "data": {
            "text/plain": [
              "0      blue\n",
              "1      blue\n",
              "2    purple\n",
              "3    purple\n",
              "4    yellow\n",
              "5    yellow\n",
              "dtype: object"
            ]
          },
          "execution_count": 168,
          "metadata": {},
          "output_type": "execute_result"
        }
      ],
      "source": [
        "obj3 = pd.Series(['blue', 'purple', 'yellow'], index=[0, 2, 4])\n",
        "obj3\n",
        "obj3.reindex(range(6), method='ffill')"
      ]
    },
    {
      "cell_type": "code",
      "execution_count": null,
      "metadata": {
        "id": "3RxtpZslIuVR",
        "outputId": "1463aad3-ea67-4c6d-cd41-afff4f0bb909"
      },
      "outputs": [
        {
          "data": {
            "text/html": [
              "<div>\n",
              "<style scoped>\n",
              "    .dataframe tbody tr th:only-of-type {\n",
              "        vertical-align: middle;\n",
              "    }\n",
              "\n",
              "    .dataframe tbody tr th {\n",
              "        vertical-align: top;\n",
              "    }\n",
              "\n",
              "    .dataframe thead th {\n",
              "        text-align: right;\n",
              "    }\n",
              "</style>\n",
              "<table border=\"1\" class=\"dataframe\">\n",
              "  <thead>\n",
              "    <tr style=\"text-align: right;\">\n",
              "      <th></th>\n",
              "      <th>Ohio</th>\n",
              "      <th>Texas</th>\n",
              "      <th>California</th>\n",
              "    </tr>\n",
              "  </thead>\n",
              "  <tbody>\n",
              "    <tr>\n",
              "      <th>a</th>\n",
              "      <td>0.0</td>\n",
              "      <td>1.0</td>\n",
              "      <td>2.0</td>\n",
              "    </tr>\n",
              "    <tr>\n",
              "      <th>b</th>\n",
              "      <td>NaN</td>\n",
              "      <td>NaN</td>\n",
              "      <td>NaN</td>\n",
              "    </tr>\n",
              "    <tr>\n",
              "      <th>c</th>\n",
              "      <td>3.0</td>\n",
              "      <td>4.0</td>\n",
              "      <td>5.0</td>\n",
              "    </tr>\n",
              "    <tr>\n",
              "      <th>d</th>\n",
              "      <td>6.0</td>\n",
              "      <td>7.0</td>\n",
              "      <td>8.0</td>\n",
              "    </tr>\n",
              "  </tbody>\n",
              "</table>\n",
              "</div>"
            ],
            "text/plain": [
              "   Ohio  Texas  California\n",
              "a   0.0    1.0         2.0\n",
              "b   NaN    NaN         NaN\n",
              "c   3.0    4.0         5.0\n",
              "d   6.0    7.0         8.0"
            ]
          },
          "execution_count": 169,
          "metadata": {},
          "output_type": "execute_result"
        }
      ],
      "source": [
        "frame = pd.DataFrame(np.arange(9).reshape((3, 3)),\n",
        "                     index=['a', 'c', 'd'],\n",
        "                     columns=['Ohio', 'Texas', 'California'])\n",
        "frame\n",
        "frame2 = frame.reindex(['a', 'b', 'c', 'd'])\n",
        "frame2"
      ]
    },
    {
      "cell_type": "code",
      "execution_count": null,
      "metadata": {
        "id": "PhOLx8lEIuVR",
        "outputId": "bb353aab-4891-45fb-c177-9f76a8f40aac"
      },
      "outputs": [
        {
          "data": {
            "text/html": [
              "<div>\n",
              "<style scoped>\n",
              "    .dataframe tbody tr th:only-of-type {\n",
              "        vertical-align: middle;\n",
              "    }\n",
              "\n",
              "    .dataframe tbody tr th {\n",
              "        vertical-align: top;\n",
              "    }\n",
              "\n",
              "    .dataframe thead th {\n",
              "        text-align: right;\n",
              "    }\n",
              "</style>\n",
              "<table border=\"1\" class=\"dataframe\">\n",
              "  <thead>\n",
              "    <tr style=\"text-align: right;\">\n",
              "      <th></th>\n",
              "      <th>Texas</th>\n",
              "      <th>Utah</th>\n",
              "      <th>California</th>\n",
              "    </tr>\n",
              "  </thead>\n",
              "  <tbody>\n",
              "    <tr>\n",
              "      <th>a</th>\n",
              "      <td>1</td>\n",
              "      <td>NaN</td>\n",
              "      <td>2</td>\n",
              "    </tr>\n",
              "    <tr>\n",
              "      <th>c</th>\n",
              "      <td>4</td>\n",
              "      <td>NaN</td>\n",
              "      <td>5</td>\n",
              "    </tr>\n",
              "    <tr>\n",
              "      <th>d</th>\n",
              "      <td>7</td>\n",
              "      <td>NaN</td>\n",
              "      <td>8</td>\n",
              "    </tr>\n",
              "  </tbody>\n",
              "</table>\n",
              "</div>"
            ],
            "text/plain": [
              "   Texas  Utah  California\n",
              "a      1   NaN           2\n",
              "c      4   NaN           5\n",
              "d      7   NaN           8"
            ]
          },
          "execution_count": 170,
          "metadata": {},
          "output_type": "execute_result"
        }
      ],
      "source": [
        "states = ['Texas', 'Utah', 'California']\n",
        "frame.reindex(columns=states)"
      ]
    },
    {
      "cell_type": "code",
      "execution_count": null,
      "metadata": {
        "id": "leS3YoztIuVS",
        "outputId": "7480ffc6-7627-46dc-affa-a925d072e09b"
      },
      "outputs": [
        {
          "ename": "KeyError",
          "evalue": "\"['b'] not in index\"",
          "output_type": "error",
          "traceback": [
            "\u001b[1;31m---------------------------------------------------------------------------\u001b[0m",
            "\u001b[1;31mKeyError\u001b[0m                                  Traceback (most recent call last)",
            "\u001b[1;32m~\\AppData\\Local\\Temp/ipykernel_10196/4205041431.py\u001b[0m in \u001b[0;36m<module>\u001b[1;34m\u001b[0m\n\u001b[1;32m----> 1\u001b[1;33m \u001b[0mframe\u001b[0m\u001b[1;33m.\u001b[0m\u001b[0mloc\u001b[0m\u001b[1;33m[\u001b[0m\u001b[1;33m[\u001b[0m\u001b[1;34m'a'\u001b[0m\u001b[1;33m,\u001b[0m \u001b[1;34m'b'\u001b[0m\u001b[1;33m,\u001b[0m \u001b[1;34m'c'\u001b[0m\u001b[1;33m,\u001b[0m \u001b[1;34m'd'\u001b[0m\u001b[1;33m]\u001b[0m\u001b[1;33m,\u001b[0m \u001b[0mstates\u001b[0m\u001b[1;33m]\u001b[0m\u001b[1;33m\u001b[0m\u001b[1;33m\u001b[0m\u001b[0m\n\u001b[0m",
            "\u001b[1;32mc:\\Users\\LENOVO\\anaconda3\\lib\\site-packages\\pandas\\core\\indexing.py\u001b[0m in \u001b[0;36m__getitem__\u001b[1;34m(self, key)\u001b[0m\n\u001b[0;32m    923\u001b[0m                 \u001b[1;32mwith\u001b[0m \u001b[0msuppress\u001b[0m\u001b[1;33m(\u001b[0m\u001b[0mKeyError\u001b[0m\u001b[1;33m,\u001b[0m \u001b[0mIndexError\u001b[0m\u001b[1;33m)\u001b[0m\u001b[1;33m:\u001b[0m\u001b[1;33m\u001b[0m\u001b[1;33m\u001b[0m\u001b[0m\n\u001b[0;32m    924\u001b[0m                     \u001b[1;32mreturn\u001b[0m \u001b[0mself\u001b[0m\u001b[1;33m.\u001b[0m\u001b[0mobj\u001b[0m\u001b[1;33m.\u001b[0m\u001b[0m_get_value\u001b[0m\u001b[1;33m(\u001b[0m\u001b[1;33m*\u001b[0m\u001b[0mkey\u001b[0m\u001b[1;33m,\u001b[0m \u001b[0mtakeable\u001b[0m\u001b[1;33m=\u001b[0m\u001b[0mself\u001b[0m\u001b[1;33m.\u001b[0m\u001b[0m_takeable\u001b[0m\u001b[1;33m)\u001b[0m\u001b[1;33m\u001b[0m\u001b[1;33m\u001b[0m\u001b[0m\n\u001b[1;32m--> 925\u001b[1;33m             \u001b[1;32mreturn\u001b[0m \u001b[0mself\u001b[0m\u001b[1;33m.\u001b[0m\u001b[0m_getitem_tuple\u001b[0m\u001b[1;33m(\u001b[0m\u001b[0mkey\u001b[0m\u001b[1;33m)\u001b[0m\u001b[1;33m\u001b[0m\u001b[1;33m\u001b[0m\u001b[0m\n\u001b[0m\u001b[0;32m    926\u001b[0m         \u001b[1;32melse\u001b[0m\u001b[1;33m:\u001b[0m\u001b[1;33m\u001b[0m\u001b[1;33m\u001b[0m\u001b[0m\n\u001b[0;32m    927\u001b[0m             \u001b[1;31m# we by definition only have the 0th axis\u001b[0m\u001b[1;33m\u001b[0m\u001b[1;33m\u001b[0m\u001b[0m\n",
            "\u001b[1;32mc:\\Users\\LENOVO\\anaconda3\\lib\\site-packages\\pandas\\core\\indexing.py\u001b[0m in \u001b[0;36m_getitem_tuple\u001b[1;34m(self, tup)\u001b[0m\n\u001b[0;32m   1105\u001b[0m         \u001b[1;31m# ugly hack for GH #836\u001b[0m\u001b[1;33m\u001b[0m\u001b[1;33m\u001b[0m\u001b[0m\n\u001b[0;32m   1106\u001b[0m         \u001b[1;32mif\u001b[0m \u001b[0mself\u001b[0m\u001b[1;33m.\u001b[0m\u001b[0m_multi_take_opportunity\u001b[0m\u001b[1;33m(\u001b[0m\u001b[0mtup\u001b[0m\u001b[1;33m)\u001b[0m\u001b[1;33m:\u001b[0m\u001b[1;33m\u001b[0m\u001b[1;33m\u001b[0m\u001b[0m\n\u001b[1;32m-> 1107\u001b[1;33m             \u001b[1;32mreturn\u001b[0m \u001b[0mself\u001b[0m\u001b[1;33m.\u001b[0m\u001b[0m_multi_take\u001b[0m\u001b[1;33m(\u001b[0m\u001b[0mtup\u001b[0m\u001b[1;33m)\u001b[0m\u001b[1;33m\u001b[0m\u001b[1;33m\u001b[0m\u001b[0m\n\u001b[0m\u001b[0;32m   1108\u001b[0m \u001b[1;33m\u001b[0m\u001b[0m\n\u001b[0;32m   1109\u001b[0m         \u001b[1;32mreturn\u001b[0m \u001b[0mself\u001b[0m\u001b[1;33m.\u001b[0m\u001b[0m_getitem_tuple_same_dim\u001b[0m\u001b[1;33m(\u001b[0m\u001b[0mtup\u001b[0m\u001b[1;33m)\u001b[0m\u001b[1;33m\u001b[0m\u001b[1;33m\u001b[0m\u001b[0m\n",
            "\u001b[1;32mc:\\Users\\LENOVO\\anaconda3\\lib\\site-packages\\pandas\\core\\indexing.py\u001b[0m in \u001b[0;36m_multi_take\u001b[1;34m(self, tup)\u001b[0m\n\u001b[0;32m   1057\u001b[0m         \"\"\"\n\u001b[0;32m   1058\u001b[0m         \u001b[1;31m# GH 836\u001b[0m\u001b[1;33m\u001b[0m\u001b[1;33m\u001b[0m\u001b[0m\n\u001b[1;32m-> 1059\u001b[1;33m         d = {\n\u001b[0m\u001b[0;32m   1060\u001b[0m             \u001b[0maxis\u001b[0m\u001b[1;33m:\u001b[0m \u001b[0mself\u001b[0m\u001b[1;33m.\u001b[0m\u001b[0m_get_listlike_indexer\u001b[0m\u001b[1;33m(\u001b[0m\u001b[0mkey\u001b[0m\u001b[1;33m,\u001b[0m \u001b[0maxis\u001b[0m\u001b[1;33m)\u001b[0m\u001b[1;33m\u001b[0m\u001b[1;33m\u001b[0m\u001b[0m\n\u001b[0;32m   1061\u001b[0m             \u001b[1;32mfor\u001b[0m \u001b[1;33m(\u001b[0m\u001b[0mkey\u001b[0m\u001b[1;33m,\u001b[0m \u001b[0maxis\u001b[0m\u001b[1;33m)\u001b[0m \u001b[1;32min\u001b[0m \u001b[0mzip\u001b[0m\u001b[1;33m(\u001b[0m\u001b[0mtup\u001b[0m\u001b[1;33m,\u001b[0m \u001b[0mself\u001b[0m\u001b[1;33m.\u001b[0m\u001b[0mobj\u001b[0m\u001b[1;33m.\u001b[0m\u001b[0m_AXIS_ORDERS\u001b[0m\u001b[1;33m)\u001b[0m\u001b[1;33m\u001b[0m\u001b[1;33m\u001b[0m\u001b[0m\n",
            "\u001b[1;32mc:\\Users\\LENOVO\\anaconda3\\lib\\site-packages\\pandas\\core\\indexing.py\u001b[0m in \u001b[0;36m<dictcomp>\u001b[1;34m(.0)\u001b[0m\n\u001b[0;32m   1058\u001b[0m         \u001b[1;31m# GH 836\u001b[0m\u001b[1;33m\u001b[0m\u001b[1;33m\u001b[0m\u001b[0m\n\u001b[0;32m   1059\u001b[0m         d = {\n\u001b[1;32m-> 1060\u001b[1;33m             \u001b[0maxis\u001b[0m\u001b[1;33m:\u001b[0m \u001b[0mself\u001b[0m\u001b[1;33m.\u001b[0m\u001b[0m_get_listlike_indexer\u001b[0m\u001b[1;33m(\u001b[0m\u001b[0mkey\u001b[0m\u001b[1;33m,\u001b[0m \u001b[0maxis\u001b[0m\u001b[1;33m)\u001b[0m\u001b[1;33m\u001b[0m\u001b[1;33m\u001b[0m\u001b[0m\n\u001b[0m\u001b[0;32m   1061\u001b[0m             \u001b[1;32mfor\u001b[0m \u001b[1;33m(\u001b[0m\u001b[0mkey\u001b[0m\u001b[1;33m,\u001b[0m \u001b[0maxis\u001b[0m\u001b[1;33m)\u001b[0m \u001b[1;32min\u001b[0m \u001b[0mzip\u001b[0m\u001b[1;33m(\u001b[0m\u001b[0mtup\u001b[0m\u001b[1;33m,\u001b[0m \u001b[0mself\u001b[0m\u001b[1;33m.\u001b[0m\u001b[0mobj\u001b[0m\u001b[1;33m.\u001b[0m\u001b[0m_AXIS_ORDERS\u001b[0m\u001b[1;33m)\u001b[0m\u001b[1;33m\u001b[0m\u001b[1;33m\u001b[0m\u001b[0m\n\u001b[0;32m   1062\u001b[0m         }\n",
            "\u001b[1;32mc:\\Users\\LENOVO\\anaconda3\\lib\\site-packages\\pandas\\core\\indexing.py\u001b[0m in \u001b[0;36m_get_listlike_indexer\u001b[1;34m(self, key, axis)\u001b[0m\n\u001b[0;32m   1312\u001b[0m             \u001b[0mkeyarr\u001b[0m\u001b[1;33m,\u001b[0m \u001b[0mindexer\u001b[0m\u001b[1;33m,\u001b[0m \u001b[0mnew_indexer\u001b[0m \u001b[1;33m=\u001b[0m \u001b[0max\u001b[0m\u001b[1;33m.\u001b[0m\u001b[0m_reindex_non_unique\u001b[0m\u001b[1;33m(\u001b[0m\u001b[0mkeyarr\u001b[0m\u001b[1;33m)\u001b[0m\u001b[1;33m\u001b[0m\u001b[1;33m\u001b[0m\u001b[0m\n\u001b[0;32m   1313\u001b[0m \u001b[1;33m\u001b[0m\u001b[0m\n\u001b[1;32m-> 1314\u001b[1;33m         \u001b[0mself\u001b[0m\u001b[1;33m.\u001b[0m\u001b[0m_validate_read_indexer\u001b[0m\u001b[1;33m(\u001b[0m\u001b[0mkeyarr\u001b[0m\u001b[1;33m,\u001b[0m \u001b[0mindexer\u001b[0m\u001b[1;33m,\u001b[0m \u001b[0maxis\u001b[0m\u001b[1;33m)\u001b[0m\u001b[1;33m\u001b[0m\u001b[1;33m\u001b[0m\u001b[0m\n\u001b[0m\u001b[0;32m   1315\u001b[0m \u001b[1;33m\u001b[0m\u001b[0m\n\u001b[0;32m   1316\u001b[0m         if needs_i8_conversion(ax.dtype) or isinstance(\n",
            "\u001b[1;32mc:\\Users\\LENOVO\\anaconda3\\lib\\site-packages\\pandas\\core\\indexing.py\u001b[0m in \u001b[0;36m_validate_read_indexer\u001b[1;34m(self, key, indexer, axis)\u001b[0m\n\u001b[0;32m   1375\u001b[0m \u001b[1;33m\u001b[0m\u001b[0m\n\u001b[0;32m   1376\u001b[0m             \u001b[0mnot_found\u001b[0m \u001b[1;33m=\u001b[0m \u001b[0mlist\u001b[0m\u001b[1;33m(\u001b[0m\u001b[0mensure_index\u001b[0m\u001b[1;33m(\u001b[0m\u001b[0mkey\u001b[0m\u001b[1;33m)\u001b[0m\u001b[1;33m[\u001b[0m\u001b[0mmissing_mask\u001b[0m\u001b[1;33m.\u001b[0m\u001b[0mnonzero\u001b[0m\u001b[1;33m(\u001b[0m\u001b[1;33m)\u001b[0m\u001b[1;33m[\u001b[0m\u001b[1;36m0\u001b[0m\u001b[1;33m]\u001b[0m\u001b[1;33m]\u001b[0m\u001b[1;33m.\u001b[0m\u001b[0munique\u001b[0m\u001b[1;33m(\u001b[0m\u001b[1;33m)\u001b[0m\u001b[1;33m)\u001b[0m\u001b[1;33m\u001b[0m\u001b[1;33m\u001b[0m\u001b[0m\n\u001b[1;32m-> 1377\u001b[1;33m             \u001b[1;32mraise\u001b[0m \u001b[0mKeyError\u001b[0m\u001b[1;33m(\u001b[0m\u001b[1;34mf\"{not_found} not in index\"\u001b[0m\u001b[1;33m)\u001b[0m\u001b[1;33m\u001b[0m\u001b[1;33m\u001b[0m\u001b[0m\n\u001b[0m\u001b[0;32m   1378\u001b[0m \u001b[1;33m\u001b[0m\u001b[0m\n\u001b[0;32m   1379\u001b[0m \u001b[1;33m\u001b[0m\u001b[0m\n",
            "\u001b[1;31mKeyError\u001b[0m: \"['b'] not in index\""
          ]
        }
      ],
      "source": [
        "frame.loc[['a', 'b', 'c', 'd'], states]"
      ]
    },
    {
      "cell_type": "markdown",
      "metadata": {
        "id": "inT3ee1bIuVS"
      },
      "source": [
        "Dropping Entries from an Axis"
      ]
    },
    {
      "cell_type": "code",
      "execution_count": null,
      "metadata": {
        "id": "Dap8KRuqIuVS",
        "outputId": "14d01020-2763-4a9e-a67e-fd7357150317"
      },
      "outputs": [
        {
          "data": {
            "text/plain": [
              "a    0.0\n",
              "b    1.0\n",
              "e    4.0\n",
              "dtype: float64"
            ]
          },
          "execution_count": 172,
          "metadata": {},
          "output_type": "execute_result"
        }
      ],
      "source": [
        "obj = pd.Series(np.arange(5.), index=['a', 'b', 'c', 'd', 'e'])\n",
        "obj\n",
        "new_obj = obj.drop('c')\n",
        "new_obj\n",
        "obj.drop(['d', 'c'])"
      ]
    },
    {
      "cell_type": "code",
      "execution_count": null,
      "metadata": {
        "id": "ClQDCN6WIuVT",
        "outputId": "e1302201-45b0-49cb-8aed-4a7616e05114"
      },
      "outputs": [
        {
          "data": {
            "text/html": [
              "<div>\n",
              "<style scoped>\n",
              "    .dataframe tbody tr th:only-of-type {\n",
              "        vertical-align: middle;\n",
              "    }\n",
              "\n",
              "    .dataframe tbody tr th {\n",
              "        vertical-align: top;\n",
              "    }\n",
              "\n",
              "    .dataframe thead th {\n",
              "        text-align: right;\n",
              "    }\n",
              "</style>\n",
              "<table border=\"1\" class=\"dataframe\">\n",
              "  <thead>\n",
              "    <tr style=\"text-align: right;\">\n",
              "      <th></th>\n",
              "      <th>one</th>\n",
              "      <th>two</th>\n",
              "      <th>three</th>\n",
              "      <th>four</th>\n",
              "    </tr>\n",
              "  </thead>\n",
              "  <tbody>\n",
              "    <tr>\n",
              "      <th>Ohio</th>\n",
              "      <td>0</td>\n",
              "      <td>1</td>\n",
              "      <td>2</td>\n",
              "      <td>3</td>\n",
              "    </tr>\n",
              "    <tr>\n",
              "      <th>Colorado</th>\n",
              "      <td>4</td>\n",
              "      <td>5</td>\n",
              "      <td>6</td>\n",
              "      <td>7</td>\n",
              "    </tr>\n",
              "    <tr>\n",
              "      <th>Utah</th>\n",
              "      <td>8</td>\n",
              "      <td>9</td>\n",
              "      <td>10</td>\n",
              "      <td>11</td>\n",
              "    </tr>\n",
              "    <tr>\n",
              "      <th>New York</th>\n",
              "      <td>12</td>\n",
              "      <td>13</td>\n",
              "      <td>14</td>\n",
              "      <td>15</td>\n",
              "    </tr>\n",
              "  </tbody>\n",
              "</table>\n",
              "</div>"
            ],
            "text/plain": [
              "          one  two  three  four\n",
              "Ohio        0    1      2     3\n",
              "Colorado    4    5      6     7\n",
              "Utah        8    9     10    11\n",
              "New York   12   13     14    15"
            ]
          },
          "execution_count": 173,
          "metadata": {},
          "output_type": "execute_result"
        }
      ],
      "source": [
        "data = pd.DataFrame(np.arange(16).reshape((4, 4)),\n",
        "                    index=['Ohio', 'Colorado', 'Utah', 'New York'],\n",
        "                    columns=['one', 'two', 'three', 'four'])\n",
        "data"
      ]
    },
    {
      "cell_type": "code",
      "execution_count": null,
      "metadata": {
        "id": "zXqXk4MFIuVT",
        "outputId": "426929cf-0b3d-441d-ec33-7f760c2cb4eb"
      },
      "outputs": [
        {
          "data": {
            "text/html": [
              "<div>\n",
              "<style scoped>\n",
              "    .dataframe tbody tr th:only-of-type {\n",
              "        vertical-align: middle;\n",
              "    }\n",
              "\n",
              "    .dataframe tbody tr th {\n",
              "        vertical-align: top;\n",
              "    }\n",
              "\n",
              "    .dataframe thead th {\n",
              "        text-align: right;\n",
              "    }\n",
              "</style>\n",
              "<table border=\"1\" class=\"dataframe\">\n",
              "  <thead>\n",
              "    <tr style=\"text-align: right;\">\n",
              "      <th></th>\n",
              "      <th>one</th>\n",
              "      <th>two</th>\n",
              "      <th>three</th>\n",
              "      <th>four</th>\n",
              "    </tr>\n",
              "  </thead>\n",
              "  <tbody>\n",
              "    <tr>\n",
              "      <th>Utah</th>\n",
              "      <td>8</td>\n",
              "      <td>9</td>\n",
              "      <td>10</td>\n",
              "      <td>11</td>\n",
              "    </tr>\n",
              "    <tr>\n",
              "      <th>New York</th>\n",
              "      <td>12</td>\n",
              "      <td>13</td>\n",
              "      <td>14</td>\n",
              "      <td>15</td>\n",
              "    </tr>\n",
              "  </tbody>\n",
              "</table>\n",
              "</div>"
            ],
            "text/plain": [
              "          one  two  three  four\n",
              "Utah        8    9     10    11\n",
              "New York   12   13     14    15"
            ]
          },
          "execution_count": 174,
          "metadata": {},
          "output_type": "execute_result"
        }
      ],
      "source": [
        "data.drop(['Colorado', 'Ohio'])"
      ]
    },
    {
      "cell_type": "code",
      "execution_count": null,
      "metadata": {
        "id": "0ivYh8fYIuVT",
        "outputId": "1cb86da3-e67e-4777-aaaa-b0e9a1c2d0d7"
      },
      "outputs": [
        {
          "data": {
            "text/html": [
              "<div>\n",
              "<style scoped>\n",
              "    .dataframe tbody tr th:only-of-type {\n",
              "        vertical-align: middle;\n",
              "    }\n",
              "\n",
              "    .dataframe tbody tr th {\n",
              "        vertical-align: top;\n",
              "    }\n",
              "\n",
              "    .dataframe thead th {\n",
              "        text-align: right;\n",
              "    }\n",
              "</style>\n",
              "<table border=\"1\" class=\"dataframe\">\n",
              "  <thead>\n",
              "    <tr style=\"text-align: right;\">\n",
              "      <th></th>\n",
              "      <th>one</th>\n",
              "      <th>three</th>\n",
              "    </tr>\n",
              "  </thead>\n",
              "  <tbody>\n",
              "    <tr>\n",
              "      <th>Ohio</th>\n",
              "      <td>0</td>\n",
              "      <td>2</td>\n",
              "    </tr>\n",
              "    <tr>\n",
              "      <th>Colorado</th>\n",
              "      <td>4</td>\n",
              "      <td>6</td>\n",
              "    </tr>\n",
              "    <tr>\n",
              "      <th>Utah</th>\n",
              "      <td>8</td>\n",
              "      <td>10</td>\n",
              "    </tr>\n",
              "    <tr>\n",
              "      <th>New York</th>\n",
              "      <td>12</td>\n",
              "      <td>14</td>\n",
              "    </tr>\n",
              "  </tbody>\n",
              "</table>\n",
              "</div>"
            ],
            "text/plain": [
              "          one  three\n",
              "Ohio        0      2\n",
              "Colorado    4      6\n",
              "Utah        8     10\n",
              "New York   12     14"
            ]
          },
          "execution_count": 175,
          "metadata": {},
          "output_type": "execute_result"
        }
      ],
      "source": [
        "data.drop('two', axis=1)\n",
        "data.drop(['two', 'four'], axis='columns')"
      ]
    },
    {
      "cell_type": "code",
      "execution_count": null,
      "metadata": {
        "id": "_OtmRIjyIuVU",
        "outputId": "2db5b018-62da-449e-adfa-3d8ee2f03489"
      },
      "outputs": [
        {
          "data": {
            "text/plain": [
              "a    0.0\n",
              "b    1.0\n",
              "d    3.0\n",
              "e    4.0\n",
              "dtype: float64"
            ]
          },
          "execution_count": 176,
          "metadata": {},
          "output_type": "execute_result"
        }
      ],
      "source": [
        "obj.drop('c', inplace=True)\n",
        "obj"
      ]
    },
    {
      "cell_type": "markdown",
      "metadata": {
        "id": "vCOLtPNsIuVU"
      },
      "source": [
        "Indexing, Selection, and Filtering"
      ]
    },
    {
      "cell_type": "code",
      "execution_count": null,
      "metadata": {
        "id": "pLY3jp2SIuVU",
        "outputId": "690e93f4-490d-46d9-fec9-47bf5a6878ab"
      },
      "outputs": [
        {
          "data": {
            "text/plain": [
              "a    0.0\n",
              "b    1.0\n",
              "dtype: float64"
            ]
          },
          "execution_count": 177,
          "metadata": {},
          "output_type": "execute_result"
        }
      ],
      "source": [
        "obj = pd.Series(np.arange(4.), index=['a', 'b', 'c', 'd'])\n",
        "obj\n",
        "obj['b']\n",
        "obj[1]\n",
        "obj[2:4]\n",
        "obj[['b', 'a', 'd']]\n",
        "obj[[1, 3]]\n",
        "obj[obj < 2]"
      ]
    },
    {
      "cell_type": "code",
      "execution_count": null,
      "metadata": {
        "id": "sfMXdCbwIuVV",
        "outputId": "e3377b31-2725-4b70-e069-3cbc390ff9c6"
      },
      "outputs": [
        {
          "data": {
            "text/plain": [
              "b    1.0\n",
              "c    2.0\n",
              "dtype: float64"
            ]
          },
          "execution_count": 178,
          "metadata": {},
          "output_type": "execute_result"
        }
      ],
      "source": [
        "obj['b':'c']"
      ]
    },
    {
      "cell_type": "code",
      "execution_count": null,
      "metadata": {
        "id": "pw5LZE48IuVV",
        "outputId": "ecc4b1c3-b20c-4251-e23c-1b8b24d8afc5"
      },
      "outputs": [
        {
          "data": {
            "text/plain": [
              "a    0.0\n",
              "b    5.0\n",
              "c    5.0\n",
              "d    3.0\n",
              "dtype: float64"
            ]
          },
          "execution_count": 179,
          "metadata": {},
          "output_type": "execute_result"
        }
      ],
      "source": [
        "obj['b':'c'] = 5\n",
        "obj"
      ]
    },
    {
      "cell_type": "code",
      "execution_count": null,
      "metadata": {
        "id": "wRuAtUBEIuVW",
        "outputId": "55b5769f-3f63-45ff-8afe-8c25a14c4e18"
      },
      "outputs": [
        {
          "data": {
            "text/html": [
              "<div>\n",
              "<style scoped>\n",
              "    .dataframe tbody tr th:only-of-type {\n",
              "        vertical-align: middle;\n",
              "    }\n",
              "\n",
              "    .dataframe tbody tr th {\n",
              "        vertical-align: top;\n",
              "    }\n",
              "\n",
              "    .dataframe thead th {\n",
              "        text-align: right;\n",
              "    }\n",
              "</style>\n",
              "<table border=\"1\" class=\"dataframe\">\n",
              "  <thead>\n",
              "    <tr style=\"text-align: right;\">\n",
              "      <th></th>\n",
              "      <th>three</th>\n",
              "      <th>one</th>\n",
              "    </tr>\n",
              "  </thead>\n",
              "  <tbody>\n",
              "    <tr>\n",
              "      <th>Ohio</th>\n",
              "      <td>2</td>\n",
              "      <td>0</td>\n",
              "    </tr>\n",
              "    <tr>\n",
              "      <th>Colorado</th>\n",
              "      <td>6</td>\n",
              "      <td>4</td>\n",
              "    </tr>\n",
              "    <tr>\n",
              "      <th>Utah</th>\n",
              "      <td>10</td>\n",
              "      <td>8</td>\n",
              "    </tr>\n",
              "    <tr>\n",
              "      <th>New York</th>\n",
              "      <td>14</td>\n",
              "      <td>12</td>\n",
              "    </tr>\n",
              "  </tbody>\n",
              "</table>\n",
              "</div>"
            ],
            "text/plain": [
              "          three  one\n",
              "Ohio          2    0\n",
              "Colorado      6    4\n",
              "Utah         10    8\n",
              "New York     14   12"
            ]
          },
          "execution_count": 180,
          "metadata": {},
          "output_type": "execute_result"
        }
      ],
      "source": [
        "data = pd.DataFrame(np.arange(16).reshape((4, 4)),\n",
        "                    index=['Ohio', 'Colorado', 'Utah', 'New York'],\n",
        "                    columns=['one', 'two', 'three', 'four'])\n",
        "data\n",
        "data['two']\n",
        "data[['three', 'one']]"
      ]
    },
    {
      "cell_type": "code",
      "execution_count": null,
      "metadata": {
        "id": "719QKAQdIuVX",
        "outputId": "e09f7af4-f63e-4a6a-cef2-7f2bd49c5d03"
      },
      "outputs": [
        {
          "data": {
            "text/html": [
              "<div>\n",
              "<style scoped>\n",
              "    .dataframe tbody tr th:only-of-type {\n",
              "        vertical-align: middle;\n",
              "    }\n",
              "\n",
              "    .dataframe tbody tr th {\n",
              "        vertical-align: top;\n",
              "    }\n",
              "\n",
              "    .dataframe thead th {\n",
              "        text-align: right;\n",
              "    }\n",
              "</style>\n",
              "<table border=\"1\" class=\"dataframe\">\n",
              "  <thead>\n",
              "    <tr style=\"text-align: right;\">\n",
              "      <th></th>\n",
              "      <th>one</th>\n",
              "      <th>two</th>\n",
              "      <th>three</th>\n",
              "      <th>four</th>\n",
              "    </tr>\n",
              "  </thead>\n",
              "  <tbody>\n",
              "    <tr>\n",
              "      <th>Colorado</th>\n",
              "      <td>4</td>\n",
              "      <td>5</td>\n",
              "      <td>6</td>\n",
              "      <td>7</td>\n",
              "    </tr>\n",
              "    <tr>\n",
              "      <th>Utah</th>\n",
              "      <td>8</td>\n",
              "      <td>9</td>\n",
              "      <td>10</td>\n",
              "      <td>11</td>\n",
              "    </tr>\n",
              "    <tr>\n",
              "      <th>New York</th>\n",
              "      <td>12</td>\n",
              "      <td>13</td>\n",
              "      <td>14</td>\n",
              "      <td>15</td>\n",
              "    </tr>\n",
              "  </tbody>\n",
              "</table>\n",
              "</div>"
            ],
            "text/plain": [
              "          one  two  three  four\n",
              "Colorado    4    5      6     7\n",
              "Utah        8    9     10    11\n",
              "New York   12   13     14    15"
            ]
          },
          "execution_count": 181,
          "metadata": {},
          "output_type": "execute_result"
        }
      ],
      "source": [
        "data[:2]\n",
        "data[data['three'] > 5]"
      ]
    },
    {
      "cell_type": "code",
      "execution_count": null,
      "metadata": {
        "id": "hqRvWtg2IuVX",
        "outputId": "b08a0abb-92ec-4764-ecb5-86641a66a710"
      },
      "outputs": [
        {
          "data": {
            "text/html": [
              "<div>\n",
              "<style scoped>\n",
              "    .dataframe tbody tr th:only-of-type {\n",
              "        vertical-align: middle;\n",
              "    }\n",
              "\n",
              "    .dataframe tbody tr th {\n",
              "        vertical-align: top;\n",
              "    }\n",
              "\n",
              "    .dataframe thead th {\n",
              "        text-align: right;\n",
              "    }\n",
              "</style>\n",
              "<table border=\"1\" class=\"dataframe\">\n",
              "  <thead>\n",
              "    <tr style=\"text-align: right;\">\n",
              "      <th></th>\n",
              "      <th>one</th>\n",
              "      <th>two</th>\n",
              "      <th>three</th>\n",
              "      <th>four</th>\n",
              "    </tr>\n",
              "  </thead>\n",
              "  <tbody>\n",
              "    <tr>\n",
              "      <th>Ohio</th>\n",
              "      <td>0</td>\n",
              "      <td>0</td>\n",
              "      <td>0</td>\n",
              "      <td>0</td>\n",
              "    </tr>\n",
              "    <tr>\n",
              "      <th>Colorado</th>\n",
              "      <td>0</td>\n",
              "      <td>5</td>\n",
              "      <td>6</td>\n",
              "      <td>7</td>\n",
              "    </tr>\n",
              "    <tr>\n",
              "      <th>Utah</th>\n",
              "      <td>8</td>\n",
              "      <td>9</td>\n",
              "      <td>10</td>\n",
              "      <td>11</td>\n",
              "    </tr>\n",
              "    <tr>\n",
              "      <th>New York</th>\n",
              "      <td>12</td>\n",
              "      <td>13</td>\n",
              "      <td>14</td>\n",
              "      <td>15</td>\n",
              "    </tr>\n",
              "  </tbody>\n",
              "</table>\n",
              "</div>"
            ],
            "text/plain": [
              "          one  two  three  four\n",
              "Ohio        0    0      0     0\n",
              "Colorado    0    5      6     7\n",
              "Utah        8    9     10    11\n",
              "New York   12   13     14    15"
            ]
          },
          "execution_count": 182,
          "metadata": {},
          "output_type": "execute_result"
        }
      ],
      "source": [
        "data < 5\n",
        "data[data < 5] = 0\n",
        "data"
      ]
    },
    {
      "cell_type": "markdown",
      "metadata": {
        "id": "LTlXaLCHIuVY"
      },
      "source": [
        "Selection with loc and iloc"
      ]
    },
    {
      "cell_type": "code",
      "execution_count": null,
      "metadata": {
        "id": "ObHhSeSxIuVY",
        "outputId": "f3aaf224-02dc-4ceb-9ed4-e47b1c25e507"
      },
      "outputs": [
        {
          "data": {
            "text/plain": [
              "two      5\n",
              "three    6\n",
              "Name: Colorado, dtype: int32"
            ]
          },
          "execution_count": 183,
          "metadata": {},
          "output_type": "execute_result"
        }
      ],
      "source": [
        "data.loc['Colorado', ['two', 'three']]"
      ]
    },
    {
      "cell_type": "code",
      "execution_count": null,
      "metadata": {
        "id": "dfjVMOeZIuVZ",
        "outputId": "3fc03fac-bfed-4820-e882-076975285c8f"
      },
      "outputs": [
        {
          "data": {
            "text/html": [
              "<div>\n",
              "<style scoped>\n",
              "    .dataframe tbody tr th:only-of-type {\n",
              "        vertical-align: middle;\n",
              "    }\n",
              "\n",
              "    .dataframe tbody tr th {\n",
              "        vertical-align: top;\n",
              "    }\n",
              "\n",
              "    .dataframe thead th {\n",
              "        text-align: right;\n",
              "    }\n",
              "</style>\n",
              "<table border=\"1\" class=\"dataframe\">\n",
              "  <thead>\n",
              "    <tr style=\"text-align: right;\">\n",
              "      <th></th>\n",
              "      <th>four</th>\n",
              "      <th>one</th>\n",
              "      <th>two</th>\n",
              "    </tr>\n",
              "  </thead>\n",
              "  <tbody>\n",
              "    <tr>\n",
              "      <th>Colorado</th>\n",
              "      <td>7</td>\n",
              "      <td>0</td>\n",
              "      <td>5</td>\n",
              "    </tr>\n",
              "    <tr>\n",
              "      <th>Utah</th>\n",
              "      <td>11</td>\n",
              "      <td>8</td>\n",
              "      <td>9</td>\n",
              "    </tr>\n",
              "  </tbody>\n",
              "</table>\n",
              "</div>"
            ],
            "text/plain": [
              "          four  one  two\n",
              "Colorado     7    0    5\n",
              "Utah        11    8    9"
            ]
          },
          "execution_count": 184,
          "metadata": {},
          "output_type": "execute_result"
        }
      ],
      "source": [
        "data.iloc[2, [3, 0, 1]]\n",
        "data.iloc[2]\n",
        "data.iloc[[1, 2], [3, 0, 1]]"
      ]
    },
    {
      "cell_type": "code",
      "execution_count": null,
      "metadata": {
        "id": "FqE3CuDsIuVZ",
        "outputId": "2ef8bf80-cce0-4eca-a7f2-70aaeff4c50b"
      },
      "outputs": [
        {
          "data": {
            "text/html": [
              "<div>\n",
              "<style scoped>\n",
              "    .dataframe tbody tr th:only-of-type {\n",
              "        vertical-align: middle;\n",
              "    }\n",
              "\n",
              "    .dataframe tbody tr th {\n",
              "        vertical-align: top;\n",
              "    }\n",
              "\n",
              "    .dataframe thead th {\n",
              "        text-align: right;\n",
              "    }\n",
              "</style>\n",
              "<table border=\"1\" class=\"dataframe\">\n",
              "  <thead>\n",
              "    <tr style=\"text-align: right;\">\n",
              "      <th></th>\n",
              "      <th>one</th>\n",
              "      <th>two</th>\n",
              "      <th>three</th>\n",
              "    </tr>\n",
              "  </thead>\n",
              "  <tbody>\n",
              "    <tr>\n",
              "      <th>Colorado</th>\n",
              "      <td>0</td>\n",
              "      <td>5</td>\n",
              "      <td>6</td>\n",
              "    </tr>\n",
              "    <tr>\n",
              "      <th>Utah</th>\n",
              "      <td>8</td>\n",
              "      <td>9</td>\n",
              "      <td>10</td>\n",
              "    </tr>\n",
              "    <tr>\n",
              "      <th>New York</th>\n",
              "      <td>12</td>\n",
              "      <td>13</td>\n",
              "      <td>14</td>\n",
              "    </tr>\n",
              "  </tbody>\n",
              "</table>\n",
              "</div>"
            ],
            "text/plain": [
              "          one  two  three\n",
              "Colorado    0    5      6\n",
              "Utah        8    9     10\n",
              "New York   12   13     14"
            ]
          },
          "execution_count": 185,
          "metadata": {},
          "output_type": "execute_result"
        }
      ],
      "source": [
        "data.loc[:'Utah', 'two']\n",
        "data.iloc[:, :3][data.three > 5]"
      ]
    },
    {
      "cell_type": "markdown",
      "metadata": {
        "id": "JW0SkjiNIuVZ"
      },
      "source": [
        "Integer Indexes"
      ]
    },
    {
      "cell_type": "markdown",
      "metadata": {
        "id": "SHe7TLf9IuVa"
      },
      "source": [
        "ser = pd.Series(np.arange(3.)) ser ser[-1]"
      ]
    },
    {
      "cell_type": "code",
      "execution_count": null,
      "metadata": {
        "id": "vtYvzT8JIuVa"
      },
      "outputs": [],
      "source": [
        "ser = pd.Series(np.arange(3.))"
      ]
    },
    {
      "cell_type": "code",
      "execution_count": null,
      "metadata": {
        "id": "L6Gi8ucqIuVb"
      },
      "outputs": [],
      "source": [
        "ser"
      ]
    },
    {
      "cell_type": "code",
      "execution_count": null,
      "metadata": {
        "id": "ndWOfzArIuVb"
      },
      "outputs": [],
      "source": [
        "ser2 = pd.Series(np.arange(3.), index=['a', 'b', 'c'])\n",
        "ser2[-1]"
      ]
    },
    {
      "cell_type": "code",
      "execution_count": null,
      "metadata": {
        "id": "2XzQgCFnIuVb",
        "outputId": "151648b0-04f6-4648-ae6d-2c2329cd22eb"
      },
      "outputs": [
        {
          "data": {
            "text/plain": [
              "0    0.0\n",
              "dtype: float64"
            ]
          },
          "execution_count": 187,
          "metadata": {},
          "output_type": "execute_result"
        }
      ],
      "source": [
        "ser[:1]\n",
        "ser.loc[:1]\n",
        "ser.iloc[:1]"
      ]
    },
    {
      "cell_type": "markdown",
      "metadata": {
        "id": "Df899EWYIuVb"
      },
      "source": [
        "Arithmetic and Data Alignment"
      ]
    },
    {
      "cell_type": "code",
      "execution_count": null,
      "metadata": {
        "id": "l4KniaMCIuVb",
        "outputId": "dd0bcb87-7977-414f-d557-e722a02e3283"
      },
      "outputs": [
        {
          "data": {
            "text/plain": [
              "a   -2.1\n",
              "c    3.6\n",
              "e   -1.5\n",
              "f    4.0\n",
              "g    3.1\n",
              "dtype: float64"
            ]
          },
          "execution_count": 188,
          "metadata": {},
          "output_type": "execute_result"
        }
      ],
      "source": [
        "s1 = pd.Series([7.3, -2.5, 3.4, 1.5], index=['a', 'c', 'd', 'e'])\n",
        "s2 = pd.Series([-2.1, 3.6, -1.5, 4, 3.1],\n",
        "               index=['a', 'c', 'e', 'f', 'g'])\n",
        "s1\n",
        "s2"
      ]
    },
    {
      "cell_type": "code",
      "execution_count": null,
      "metadata": {
        "id": "_cfFIeAoIuVc",
        "outputId": "dfe49d87-43fc-467b-d6c6-88f868f3be4e"
      },
      "outputs": [
        {
          "data": {
            "text/plain": [
              "a    5.2\n",
              "c    1.1\n",
              "d    NaN\n",
              "e    0.0\n",
              "f    NaN\n",
              "g    NaN\n",
              "dtype: float64"
            ]
          },
          "execution_count": 189,
          "metadata": {},
          "output_type": "execute_result"
        }
      ],
      "source": [
        "s1 + s2"
      ]
    },
    {
      "cell_type": "code",
      "execution_count": null,
      "metadata": {
        "id": "uk87xynwIuVc",
        "outputId": "a551853e-1fd3-4e97-b97c-fa8c64ab69fc"
      },
      "outputs": [
        {
          "data": {
            "text/html": [
              "<div>\n",
              "<style scoped>\n",
              "    .dataframe tbody tr th:only-of-type {\n",
              "        vertical-align: middle;\n",
              "    }\n",
              "\n",
              "    .dataframe tbody tr th {\n",
              "        vertical-align: top;\n",
              "    }\n",
              "\n",
              "    .dataframe thead th {\n",
              "        text-align: right;\n",
              "    }\n",
              "</style>\n",
              "<table border=\"1\" class=\"dataframe\">\n",
              "  <thead>\n",
              "    <tr style=\"text-align: right;\">\n",
              "      <th></th>\n",
              "      <th>b</th>\n",
              "      <th>d</th>\n",
              "      <th>e</th>\n",
              "    </tr>\n",
              "  </thead>\n",
              "  <tbody>\n",
              "    <tr>\n",
              "      <th>Utah</th>\n",
              "      <td>0.0</td>\n",
              "      <td>1.0</td>\n",
              "      <td>2.0</td>\n",
              "    </tr>\n",
              "    <tr>\n",
              "      <th>Ohio</th>\n",
              "      <td>3.0</td>\n",
              "      <td>4.0</td>\n",
              "      <td>5.0</td>\n",
              "    </tr>\n",
              "    <tr>\n",
              "      <th>Texas</th>\n",
              "      <td>6.0</td>\n",
              "      <td>7.0</td>\n",
              "      <td>8.0</td>\n",
              "    </tr>\n",
              "    <tr>\n",
              "      <th>Oregon</th>\n",
              "      <td>9.0</td>\n",
              "      <td>10.0</td>\n",
              "      <td>11.0</td>\n",
              "    </tr>\n",
              "  </tbody>\n",
              "</table>\n",
              "</div>"
            ],
            "text/plain": [
              "          b     d     e\n",
              "Utah    0.0   1.0   2.0\n",
              "Ohio    3.0   4.0   5.0\n",
              "Texas   6.0   7.0   8.0\n",
              "Oregon  9.0  10.0  11.0"
            ]
          },
          "execution_count": 190,
          "metadata": {},
          "output_type": "execute_result"
        }
      ],
      "source": [
        "df1 = pd.DataFrame(np.arange(9.).reshape((3, 3)), columns=list('bcd'),\n",
        "                   index=['Ohio', 'Texas', 'Colorado'])\n",
        "df2 = pd.DataFrame(np.arange(12.).reshape((4, 3)), columns=list('bde'),\n",
        "                   index=['Utah', 'Ohio', 'Texas', 'Oregon'])\n",
        "df1\n",
        "df2"
      ]
    },
    {
      "cell_type": "code",
      "execution_count": null,
      "metadata": {
        "id": "5dAPwabrIuVc",
        "outputId": "eeb9e154-f954-44e7-b994-52ab3cc60075"
      },
      "outputs": [
        {
          "data": {
            "text/html": [
              "<div>\n",
              "<style scoped>\n",
              "    .dataframe tbody tr th:only-of-type {\n",
              "        vertical-align: middle;\n",
              "    }\n",
              "\n",
              "    .dataframe tbody tr th {\n",
              "        vertical-align: top;\n",
              "    }\n",
              "\n",
              "    .dataframe thead th {\n",
              "        text-align: right;\n",
              "    }\n",
              "</style>\n",
              "<table border=\"1\" class=\"dataframe\">\n",
              "  <thead>\n",
              "    <tr style=\"text-align: right;\">\n",
              "      <th></th>\n",
              "      <th>b</th>\n",
              "      <th>c</th>\n",
              "      <th>d</th>\n",
              "      <th>e</th>\n",
              "    </tr>\n",
              "  </thead>\n",
              "  <tbody>\n",
              "    <tr>\n",
              "      <th>Colorado</th>\n",
              "      <td>NaN</td>\n",
              "      <td>NaN</td>\n",
              "      <td>NaN</td>\n",
              "      <td>NaN</td>\n",
              "    </tr>\n",
              "    <tr>\n",
              "      <th>Ohio</th>\n",
              "      <td>3.0</td>\n",
              "      <td>NaN</td>\n",
              "      <td>6.0</td>\n",
              "      <td>NaN</td>\n",
              "    </tr>\n",
              "    <tr>\n",
              "      <th>Oregon</th>\n",
              "      <td>NaN</td>\n",
              "      <td>NaN</td>\n",
              "      <td>NaN</td>\n",
              "      <td>NaN</td>\n",
              "    </tr>\n",
              "    <tr>\n",
              "      <th>Texas</th>\n",
              "      <td>9.0</td>\n",
              "      <td>NaN</td>\n",
              "      <td>12.0</td>\n",
              "      <td>NaN</td>\n",
              "    </tr>\n",
              "    <tr>\n",
              "      <th>Utah</th>\n",
              "      <td>NaN</td>\n",
              "      <td>NaN</td>\n",
              "      <td>NaN</td>\n",
              "      <td>NaN</td>\n",
              "    </tr>\n",
              "  </tbody>\n",
              "</table>\n",
              "</div>"
            ],
            "text/plain": [
              "            b   c     d   e\n",
              "Colorado  NaN NaN   NaN NaN\n",
              "Ohio      3.0 NaN   6.0 NaN\n",
              "Oregon    NaN NaN   NaN NaN\n",
              "Texas     9.0 NaN  12.0 NaN\n",
              "Utah      NaN NaN   NaN NaN"
            ]
          },
          "execution_count": 191,
          "metadata": {},
          "output_type": "execute_result"
        }
      ],
      "source": [
        "df1 + df2"
      ]
    },
    {
      "cell_type": "code",
      "execution_count": null,
      "metadata": {
        "id": "8pbnFwGYIuVc",
        "outputId": "0fa5bbcd-ea5f-4665-d1ce-f8dc9055451f"
      },
      "outputs": [
        {
          "data": {
            "text/html": [
              "<div>\n",
              "<style scoped>\n",
              "    .dataframe tbody tr th:only-of-type {\n",
              "        vertical-align: middle;\n",
              "    }\n",
              "\n",
              "    .dataframe tbody tr th {\n",
              "        vertical-align: top;\n",
              "    }\n",
              "\n",
              "    .dataframe thead th {\n",
              "        text-align: right;\n",
              "    }\n",
              "</style>\n",
              "<table border=\"1\" class=\"dataframe\">\n",
              "  <thead>\n",
              "    <tr style=\"text-align: right;\">\n",
              "      <th></th>\n",
              "      <th>b</th>\n",
              "      <th>c</th>\n",
              "      <th>d</th>\n",
              "      <th>e</th>\n",
              "    </tr>\n",
              "  </thead>\n",
              "  <tbody>\n",
              "    <tr>\n",
              "      <th>Colorado</th>\n",
              "      <td>6.0</td>\n",
              "      <td>7.0</td>\n",
              "      <td>8.0</td>\n",
              "      <td>NaN</td>\n",
              "    </tr>\n",
              "    <tr>\n",
              "      <th>Ohio</th>\n",
              "      <td>3.0</td>\n",
              "      <td>1.0</td>\n",
              "      <td>6.0</td>\n",
              "      <td>5.0</td>\n",
              "    </tr>\n",
              "    <tr>\n",
              "      <th>Oregon</th>\n",
              "      <td>9.0</td>\n",
              "      <td>NaN</td>\n",
              "      <td>10.0</td>\n",
              "      <td>11.0</td>\n",
              "    </tr>\n",
              "    <tr>\n",
              "      <th>Texas</th>\n",
              "      <td>9.0</td>\n",
              "      <td>4.0</td>\n",
              "      <td>12.0</td>\n",
              "      <td>8.0</td>\n",
              "    </tr>\n",
              "    <tr>\n",
              "      <th>Utah</th>\n",
              "      <td>0.0</td>\n",
              "      <td>NaN</td>\n",
              "      <td>1.0</td>\n",
              "      <td>2.0</td>\n",
              "    </tr>\n",
              "  </tbody>\n",
              "</table>\n",
              "</div>"
            ],
            "text/plain": [
              "            b    c     d     e\n",
              "Colorado  6.0  7.0   8.0   NaN\n",
              "Ohio      3.0  1.0   6.0   5.0\n",
              "Oregon    9.0  NaN  10.0  11.0\n",
              "Texas     9.0  4.0  12.0   8.0\n",
              "Utah      0.0  NaN   1.0   2.0"
            ]
          },
          "execution_count": 192,
          "metadata": {},
          "output_type": "execute_result"
        }
      ],
      "source": [
        "df1.add(df2, fill_value=0)"
      ]
    },
    {
      "cell_type": "code",
      "execution_count": null,
      "metadata": {
        "id": "hrcMAofYIuVd",
        "outputId": "11508d8f-b02f-4ace-ee3f-3d24009940bd"
      },
      "outputs": [
        {
          "data": {
            "text/html": [
              "<div>\n",
              "<style scoped>\n",
              "    .dataframe tbody tr th:only-of-type {\n",
              "        vertical-align: middle;\n",
              "    }\n",
              "\n",
              "    .dataframe tbody tr th {\n",
              "        vertical-align: top;\n",
              "    }\n",
              "\n",
              "    .dataframe thead th {\n",
              "        text-align: right;\n",
              "    }\n",
              "</style>\n",
              "<table border=\"1\" class=\"dataframe\">\n",
              "  <thead>\n",
              "    <tr style=\"text-align: right;\">\n",
              "      <th></th>\n",
              "      <th>b</th>\n",
              "      <th>c</th>\n",
              "      <th>d</th>\n",
              "    </tr>\n",
              "  </thead>\n",
              "  <tbody>\n",
              "    <tr>\n",
              "      <th>Ohio</th>\n",
              "      <td>inf</td>\n",
              "      <td>1.000000</td>\n",
              "      <td>0.500</td>\n",
              "    </tr>\n",
              "    <tr>\n",
              "      <th>Texas</th>\n",
              "      <td>0.333333</td>\n",
              "      <td>0.250000</td>\n",
              "      <td>0.200</td>\n",
              "    </tr>\n",
              "    <tr>\n",
              "      <th>Colorado</th>\n",
              "      <td>0.166667</td>\n",
              "      <td>0.142857</td>\n",
              "      <td>0.125</td>\n",
              "    </tr>\n",
              "  </tbody>\n",
              "</table>\n",
              "</div>"
            ],
            "text/plain": [
              "                 b         c      d\n",
              "Ohio           inf  1.000000  0.500\n",
              "Texas     0.333333  0.250000  0.200\n",
              "Colorado  0.166667  0.142857  0.125"
            ]
          },
          "execution_count": 193,
          "metadata": {},
          "output_type": "execute_result"
        }
      ],
      "source": [
        "1 / df1\n",
        "df1.rdiv(1)"
      ]
    },
    {
      "cell_type": "code",
      "execution_count": null,
      "metadata": {
        "id": "k3T3alDjIuVd",
        "outputId": "2440b828-4f49-4124-a897-8620c52507be"
      },
      "outputs": [
        {
          "data": {
            "text/html": [
              "<div>\n",
              "<style scoped>\n",
              "    .dataframe tbody tr th:only-of-type {\n",
              "        vertical-align: middle;\n",
              "    }\n",
              "\n",
              "    .dataframe tbody tr th {\n",
              "        vertical-align: top;\n",
              "    }\n",
              "\n",
              "    .dataframe thead th {\n",
              "        text-align: right;\n",
              "    }\n",
              "</style>\n",
              "<table border=\"1\" class=\"dataframe\">\n",
              "  <thead>\n",
              "    <tr style=\"text-align: right;\">\n",
              "      <th></th>\n",
              "      <th>b</th>\n",
              "      <th>d</th>\n",
              "      <th>e</th>\n",
              "    </tr>\n",
              "  </thead>\n",
              "  <tbody>\n",
              "    <tr>\n",
              "      <th>Ohio</th>\n",
              "      <td>0.0</td>\n",
              "      <td>2.0</td>\n",
              "      <td>0</td>\n",
              "    </tr>\n",
              "    <tr>\n",
              "      <th>Texas</th>\n",
              "      <td>3.0</td>\n",
              "      <td>5.0</td>\n",
              "      <td>0</td>\n",
              "    </tr>\n",
              "    <tr>\n",
              "      <th>Colorado</th>\n",
              "      <td>6.0</td>\n",
              "      <td>8.0</td>\n",
              "      <td>0</td>\n",
              "    </tr>\n",
              "  </tbody>\n",
              "</table>\n",
              "</div>"
            ],
            "text/plain": [
              "            b    d  e\n",
              "Ohio      0.0  2.0  0\n",
              "Texas     3.0  5.0  0\n",
              "Colorado  6.0  8.0  0"
            ]
          },
          "execution_count": 194,
          "metadata": {},
          "output_type": "execute_result"
        }
      ],
      "source": [
        "df1.reindex(columns=df2.columns, fill_value=0)"
      ]
    },
    {
      "cell_type": "markdown",
      "metadata": {
        "id": "lZyQNmlhIuVd"
      },
      "source": [
        "Operations between DataFrame and Series"
      ]
    },
    {
      "cell_type": "code",
      "execution_count": null,
      "metadata": {
        "id": "s7SDoj1LIuVd",
        "outputId": "9689a7a9-2904-49a3-a734-f51e65c0865e"
      },
      "outputs": [
        {
          "ename": "NameError",
          "evalue": "name 'np' is not defined",
          "output_type": "error",
          "traceback": [
            "\u001b[1;31m---------------------------------------------------------------------------\u001b[0m",
            "\u001b[1;31mNameError\u001b[0m                                 Traceback (most recent call last)",
            "\u001b[1;32m~\\AppData\\Local\\Temp/ipykernel_7744/576057434.py\u001b[0m in \u001b[0;36m<module>\u001b[1;34m\u001b[0m\n\u001b[1;32m----> 1\u001b[1;33m \u001b[0marr\u001b[0m \u001b[1;33m=\u001b[0m \u001b[0mnp\u001b[0m\u001b[1;33m.\u001b[0m\u001b[0marange\u001b[0m\u001b[1;33m(\u001b[0m\u001b[1;36m12.\u001b[0m\u001b[1;33m)\u001b[0m\u001b[1;33m.\u001b[0m\u001b[0mreshape\u001b[0m\u001b[1;33m(\u001b[0m\u001b[1;33m(\u001b[0m\u001b[1;36m3\u001b[0m\u001b[1;33m,\u001b[0m \u001b[1;36m4\u001b[0m\u001b[1;33m)\u001b[0m\u001b[1;33m)\u001b[0m\u001b[1;33m\u001b[0m\u001b[1;33m\u001b[0m\u001b[0m\n\u001b[0m\u001b[0;32m      2\u001b[0m \u001b[0marr\u001b[0m\u001b[1;33m\u001b[0m\u001b[1;33m\u001b[0m\u001b[0m\n\u001b[0;32m      3\u001b[0m \u001b[0marr\u001b[0m\u001b[1;33m[\u001b[0m\u001b[1;36m0\u001b[0m\u001b[1;33m]\u001b[0m\u001b[1;33m\u001b[0m\u001b[1;33m\u001b[0m\u001b[0m\n\u001b[0;32m      4\u001b[0m \u001b[0marr\u001b[0m \u001b[1;33m-\u001b[0m \u001b[0marr\u001b[0m\u001b[1;33m[\u001b[0m\u001b[1;36m0\u001b[0m\u001b[1;33m]\u001b[0m\u001b[1;33m\u001b[0m\u001b[1;33m\u001b[0m\u001b[0m\n",
            "\u001b[1;31mNameError\u001b[0m: name 'np' is not defined"
          ]
        }
      ],
      "source": [
        "arr = np.arange(12.).reshape((3, 4))\n",
        "arr\n",
        "arr[0]\n",
        "arr - arr[0]"
      ]
    },
    {
      "cell_type": "code",
      "execution_count": null,
      "metadata": {
        "id": "qXgemJhNIuVd",
        "outputId": "1beb844c-62ef-4617-b6aa-63da3fa483ef"
      },
      "outputs": [
        {
          "ename": "NameError",
          "evalue": "name 'pd' is not defined",
          "output_type": "error",
          "traceback": [
            "\u001b[1;31m---------------------------------------------------------------------------\u001b[0m",
            "\u001b[1;31mNameError\u001b[0m                                 Traceback (most recent call last)",
            "\u001b[1;32m~\\AppData\\Local\\Temp/ipykernel_7744/2698084417.py\u001b[0m in \u001b[0;36m<module>\u001b[1;34m\u001b[0m\n\u001b[1;32m----> 1\u001b[1;33m frame = pd.DataFrame(np.arange(12.).reshape((4, 3)),\n\u001b[0m\u001b[0;32m      2\u001b[0m                      \u001b[0mcolumns\u001b[0m\u001b[1;33m=\u001b[0m\u001b[0mlist\u001b[0m\u001b[1;33m(\u001b[0m\u001b[1;34m'bde'\u001b[0m\u001b[1;33m)\u001b[0m\u001b[1;33m,\u001b[0m\u001b[1;33m\u001b[0m\u001b[1;33m\u001b[0m\u001b[0m\n\u001b[0;32m      3\u001b[0m                      index=['Utah', 'Ohio', 'Texas', 'Oregon'])\n\u001b[0;32m      4\u001b[0m \u001b[0mseries\u001b[0m \u001b[1;33m=\u001b[0m \u001b[0mframe\u001b[0m\u001b[1;33m.\u001b[0m\u001b[0miloc\u001b[0m\u001b[1;33m[\u001b[0m\u001b[1;36m0\u001b[0m\u001b[1;33m]\u001b[0m\u001b[1;33m\u001b[0m\u001b[1;33m\u001b[0m\u001b[0m\n\u001b[0;32m      5\u001b[0m \u001b[0mframe\u001b[0m\u001b[1;33m\u001b[0m\u001b[1;33m\u001b[0m\u001b[0m\n",
            "\u001b[1;31mNameError\u001b[0m: name 'pd' is not defined"
          ]
        }
      ],
      "source": [
        "frame = pd.DataFrame(np.arange(12.).reshape((4, 3)),\n",
        "                     columns=list('bde'),\n",
        "                     index=['Utah', 'Ohio', 'Texas', 'Oregon'])\n",
        "series = frame.iloc[0]\n",
        "frame\n",
        "series"
      ]
    },
    {
      "cell_type": "code",
      "execution_count": null,
      "metadata": {
        "id": "S4ZXQ588IuVe",
        "outputId": "0900155f-4929-43e3-8e6c-83a525c219ab"
      },
      "outputs": [
        {
          "ename": "NameError",
          "evalue": "name 'frame' is not defined",
          "output_type": "error",
          "traceback": [
            "\u001b[1;31m---------------------------------------------------------------------------\u001b[0m",
            "\u001b[1;31mNameError\u001b[0m                                 Traceback (most recent call last)",
            "\u001b[1;32m~\\AppData\\Local\\Temp/ipykernel_7744/3827283830.py\u001b[0m in \u001b[0;36m<module>\u001b[1;34m\u001b[0m\n\u001b[1;32m----> 1\u001b[1;33m \u001b[0mframe\u001b[0m \u001b[1;33m-\u001b[0m \u001b[0mseries\u001b[0m\u001b[1;33m\u001b[0m\u001b[1;33m\u001b[0m\u001b[0m\n\u001b[0m",
            "\u001b[1;31mNameError\u001b[0m: name 'frame' is not defined"
          ]
        }
      ],
      "source": [
        "frame - series"
      ]
    },
    {
      "cell_type": "code",
      "execution_count": null,
      "metadata": {
        "id": "wKvfvg3vIuVe",
        "outputId": "d9f18bc5-0bc3-44be-bd6b-5f5322e75fe3"
      },
      "outputs": [
        {
          "ename": "NameError",
          "evalue": "name 'pd' is not defined",
          "output_type": "error",
          "traceback": [
            "\u001b[1;31m---------------------------------------------------------------------------\u001b[0m",
            "\u001b[1;31mNameError\u001b[0m                                 Traceback (most recent call last)",
            "\u001b[1;32m~\\AppData\\Local\\Temp/ipykernel_7744/2768963744.py\u001b[0m in \u001b[0;36m<module>\u001b[1;34m\u001b[0m\n\u001b[1;32m----> 1\u001b[1;33m \u001b[0mseries2\u001b[0m \u001b[1;33m=\u001b[0m \u001b[0mpd\u001b[0m\u001b[1;33m.\u001b[0m\u001b[0mSeries\u001b[0m\u001b[1;33m(\u001b[0m\u001b[0mrange\u001b[0m\u001b[1;33m(\u001b[0m\u001b[1;36m3\u001b[0m\u001b[1;33m)\u001b[0m\u001b[1;33m,\u001b[0m \u001b[0mindex\u001b[0m\u001b[1;33m=\u001b[0m\u001b[1;33m[\u001b[0m\u001b[1;34m'b'\u001b[0m\u001b[1;33m,\u001b[0m \u001b[1;34m'e'\u001b[0m\u001b[1;33m,\u001b[0m \u001b[1;34m'f'\u001b[0m\u001b[1;33m]\u001b[0m\u001b[1;33m)\u001b[0m\u001b[1;33m\u001b[0m\u001b[1;33m\u001b[0m\u001b[0m\n\u001b[0m\u001b[0;32m      2\u001b[0m \u001b[0mframe\u001b[0m \u001b[1;33m+\u001b[0m \u001b[0mseries2\u001b[0m\u001b[1;33m\u001b[0m\u001b[1;33m\u001b[0m\u001b[0m\n",
            "\u001b[1;31mNameError\u001b[0m: name 'pd' is not defined"
          ]
        }
      ],
      "source": [
        "series2 = pd.Series(range(3), index=['b', 'e', 'f'])\n",
        "frame + series2"
      ]
    },
    {
      "cell_type": "code",
      "execution_count": null,
      "metadata": {
        "id": "2jyy0f-bIuVe",
        "outputId": "da97b5a2-25ff-4c93-b355-54264db3818a"
      },
      "outputs": [
        {
          "ename": "NameError",
          "evalue": "name 'frame' is not defined",
          "output_type": "error",
          "traceback": [
            "\u001b[1;31m---------------------------------------------------------------------------\u001b[0m",
            "\u001b[1;31mNameError\u001b[0m                                 Traceback (most recent call last)",
            "\u001b[1;32m~\\AppData\\Local\\Temp/ipykernel_7744/2049226912.py\u001b[0m in \u001b[0;36m<module>\u001b[1;34m\u001b[0m\n\u001b[1;32m----> 1\u001b[1;33m \u001b[0mseries3\u001b[0m \u001b[1;33m=\u001b[0m \u001b[0mframe\u001b[0m\u001b[1;33m[\u001b[0m\u001b[1;34m'd'\u001b[0m\u001b[1;33m]\u001b[0m\u001b[1;33m\u001b[0m\u001b[1;33m\u001b[0m\u001b[0m\n\u001b[0m\u001b[0;32m      2\u001b[0m \u001b[0mframe\u001b[0m\u001b[1;33m\u001b[0m\u001b[1;33m\u001b[0m\u001b[0m\n\u001b[0;32m      3\u001b[0m \u001b[0mseries3\u001b[0m\u001b[1;33m\u001b[0m\u001b[1;33m\u001b[0m\u001b[0m\n\u001b[0;32m      4\u001b[0m \u001b[0mframe\u001b[0m\u001b[1;33m.\u001b[0m\u001b[0msub\u001b[0m\u001b[1;33m(\u001b[0m\u001b[0mseries3\u001b[0m\u001b[1;33m,\u001b[0m \u001b[0maxis\u001b[0m\u001b[1;33m=\u001b[0m\u001b[1;34m'index'\u001b[0m\u001b[1;33m)\u001b[0m\u001b[1;33m\u001b[0m\u001b[1;33m\u001b[0m\u001b[0m\n",
            "\u001b[1;31mNameError\u001b[0m: name 'frame' is not defined"
          ]
        }
      ],
      "source": [
        "series3 = frame['d']\n",
        "frame\n",
        "series3\n",
        "frame.sub(series3, axis='index')"
      ]
    },
    {
      "cell_type": "code",
      "execution_count": null,
      "metadata": {
        "id": "gby2lEWXIuVf"
      },
      "outputs": [],
      "source": [
        ""
      ]
    }
  ],
  "metadata": {
    "interpreter": {
      "hash": "7679c2132d3f6ce38c9df14d554b39c06862b36a4e6689c81f9ae15bd0911d7d"
    },
    "kernelspec": {
      "display_name": "Python 3.9.7 ('base')",
      "language": "python",
      "name": "python3"
    },
    "language_info": {
      "codemirror_mode": {
        "name": "ipython",
        "version": 3
      },
      "file_extension": ".py",
      "mimetype": "text/x-python",
      "name": "python",
      "nbconvert_exporter": "python",
      "pygments_lexer": "ipython3",
      "version": "3.9.7"
    },
    "orig_nbformat": 4,
    "colab": {
      "name": "EDA_Lnz.ipynb",
      "provenance": [],
      "include_colab_link": true
    }
  },
  "nbformat": 4,
  "nbformat_minor": 0
}