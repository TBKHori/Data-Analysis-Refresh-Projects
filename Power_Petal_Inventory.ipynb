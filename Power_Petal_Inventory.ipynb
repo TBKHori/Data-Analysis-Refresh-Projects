{
  "nbformat": 4,
  "nbformat_minor": 0,
  "metadata": {
    "colab": {
      "name": "Power Petal Inventory.ipynb",
      "provenance": [],
      "collapsed_sections": [],
      "authorship_tag": "ABX9TyOQrVDEm2qAbmk66GLBFqQQ",
      "include_colab_link": true
    },
    "kernelspec": {
      "name": "python3",
      "display_name": "Python 3"
    },
    "language_info": {
      "name": "python"
    }
  },
  "cells": [
    {
      "cell_type": "markdown",
      "metadata": {
        "id": "view-in-github",
        "colab_type": "text"
      },
      "source": [
        "<a href=\"https://colab.research.google.com/github/TBKHori/Data-Analysis-Refresh-Projects/blob/main/Power_Petal_Inventory.ipynb\" target=\"_parent\"><img src=\"https://colab.research.google.com/assets/colab-badge.svg\" alt=\"Open In Colab\"/></a>"
      ]
    },
    {
      "cell_type": "code",
      "metadata": {
        "id": "bs66UaOtN20P",
        "colab": {
          "resources": {
            "http://localhost:8080/nbextensions/google.colab/files.js": {
              "data": "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",
              "ok": true,
              "headers": [
                [
                  "content-type",
                  "application/javascript"
                ]
              ],
              "status": 200,
              "status_text": "OK"
            }
          },
          "base_uri": "https://localhost:8080/",
          "height": 75
        },
        "outputId": "27ff79ed-7abc-4ff4-99e0-dd8ad0d43108"
      },
      "source": [
        "#Load the data\n",
        "from google.colab import files\n",
        "upload = files.upload()\n"
      ],
      "execution_count": 10,
      "outputs": [
        {
          "output_type": "display_data",
          "data": {
            "text/html": [
              "\n",
              "     <input type=\"file\" id=\"files-49a952ed-1b97-4688-8c2f-aab592614042\" name=\"files[]\" multiple disabled\n",
              "        style=\"border:none\" />\n",
              "     <output id=\"result-49a952ed-1b97-4688-8c2f-aab592614042\">\n",
              "      Upload widget is only available when the cell has been executed in the\n",
              "      current browser session. Please rerun this cell to enable.\n",
              "      </output>\n",
              "      <script src=\"/nbextensions/google.colab/files.js\"></script> "
            ],
            "text/plain": [
              "<IPython.core.display.HTML object>"
            ]
          },
          "metadata": {
            "tags": []
          }
        },
        {
          "output_type": "stream",
          "text": [
            "Saving Inventory.csv to Inventory.csv\n"
          ],
          "name": "stdout"
        }
      ]
    },
    {
      "cell_type": "code",
      "metadata": {
        "id": "yGrzVCnuDtbS",
        "colab": {
          "base_uri": "https://localhost:8080/"
        },
        "outputId": "b10d004b-eeea-4620-b6ad-2f5676a6c915"
      },
      "source": [
        "#Petal Power Project\n",
        "\n",
        "import pandas as pd\n",
        "#Question 1\n",
        "inventory = pd.read_csv('Inventory.csv')\n",
        "#Question 2\n",
        "print(inventory.head(10))\n",
        "#Question 3\n",
        "staten_island = inventory.head(10)\n",
        "#Question 4\n",
        "product_request = staten_island.Product_Description\n",
        "print(product_request)\n",
        "print (inventory.head())\n",
        "#Question 5\n",
        "seed_request = inventory[(inventory.Location == 'Brooklyn') & (inventory.Product_Type == 'seeds')]\n",
        "print(seed_request)\n",
        "#Question 6\n",
        "inventory['in_stock'] = inventory.Quantity.apply(lambda x: True if x > 0 else False)\n",
        "print (inventory)\n",
        "#Question 7\n",
        "inventory['total_value'] = inventory.Price * inventory.Quantity\n",
        "print(inventory)\n",
        "#Question 8\n",
        "inventory['full_description'] = inventory.apply(lambda row: '{} - {}'.format(row.Product_Type,\n",
        "                     row.Product_Description), axis=1)\n",
        "print (inventory)"
      ],
      "execution_count": 21,
      "outputs": [
        {
          "output_type": "stream",
          "text": [
            "        Location  Product_Type         Product_Description  Quantity  Price\n",
            "0  Staten Island         Seeds                       Daisy         4   6.99\n",
            "1  Staten Island         Seeds                       Calla        46  19.99\n",
            "2  Staten Island         Seeds                      Tomato        85  13.99\n",
            "3  Staten Island  Garden tools                        Rake         4  13.99\n",
            "4  Staten Island  Garden tools                 Wheelbarrow         0  89.99\n",
            "5  Staten Island  Garden tools                       Spade        93  19.99\n",
            "6  Staten Island  Pest_Control               Insect Killer        74  12.99\n",
            "7  Staten Island  Pest_Control                 Weed Killer         8  23.99\n",
            "8  Staten Island       Planter  20 inch Terracotta Planter         0  17.99\n",
            "9  Staten Island       Planter      8 inch Plastic Planter        53   3.99\n",
            "0                         Daisy\n",
            "1                         Calla\n",
            "2                        Tomato\n",
            "3                          Rake\n",
            "4                   Wheelbarrow\n",
            "5                         Spade\n",
            "6                 Insect Killer\n",
            "7                   Weed Killer\n",
            "8    20 inch Terracotta Planter\n",
            "9        8 inch Plastic Planter\n",
            "Name: Product_Description, dtype: object\n",
            "        Location  Product_Type Product_Description  Quantity  Price\n",
            "0  Staten Island         Seeds               Daisy         4   6.99\n",
            "1  Staten Island         Seeds               Calla        46  19.99\n",
            "2  Staten Island         Seeds              Tomato        85  13.99\n",
            "3  Staten Island  Garden tools                Rake         4  13.99\n",
            "4  Staten Island  Garden tools         Wheelbarrow         0  89.99\n",
            "Empty DataFrame\n",
            "Columns: [Location, Product_Type, Product_Description, Quantity, Price]\n",
            "Index: []\n",
            "         Location  Product_Type  ...  Price  in_stock\n",
            "0   Staten Island         Seeds  ...   6.99      True\n",
            "1   Staten Island         Seeds  ...  19.99      True\n",
            "2   Staten Island         Seeds  ...  13.99      True\n",
            "3   Staten Island  Garden tools  ...  13.99      True\n",
            "4   Staten Island  Garden tools  ...  89.99     False\n",
            "5   Staten Island  Garden tools  ...  19.99      True\n",
            "6   Staten Island  Pest_Control  ...  12.99      True\n",
            "7   Staten Island  Pest_Control  ...  23.99      True\n",
            "8   Staten Island       Planter  ...  17.99     False\n",
            "9   Staten Island       Planter  ...   3.99      True\n",
            "10       Brooklyn         Seeds  ...   6.99      True\n",
            "11       Brooklyn         Seeds  ...  19.99     False\n",
            "12       Brooklyn         Seeds  ...  13.99     False\n",
            "13       Brooklyn  Garden tools  ...  13.99      True\n",
            "14       Brooklyn  Garden tools  ...  89.99      True\n",
            "15       Brooklyn  Garden tools  ...  19.99      True\n",
            "16       Brooklyn  Pest_Control  ...  12.99      True\n",
            "17       Brooklyn  Pest_Control  ...  32.99      True\n",
            "18       Brooklyn       Planter  ...  17.99      True\n",
            "19       Brooklyn       Planter  ...   3.99      True\n",
            "20         Queens         Seeds  ...   6.99      True\n",
            "21         Queens         Seeds  ...  19.99      True\n",
            "22         Queens         Seeds  ...  13.99      True\n",
            "23         Queens  Garden tools  ...  13.99      True\n",
            "24         Queens  Garden tools  ...  89.99      True\n",
            "25         Queens  Garden tools  ...  19.99      True\n",
            "26         Queens  Pest_Control  ...  12.99     False\n",
            "27         Queens  Pest_Control  ...  23.99      True\n",
            "28         Queens       Planter  ...  17.99      True\n",
            "\n",
            "[29 rows x 6 columns]\n",
            "         Location  Product_Type  ... in_stock  total_value\n",
            "0   Staten Island         Seeds  ...     True        27.96\n",
            "1   Staten Island         Seeds  ...     True       919.54\n",
            "2   Staten Island         Seeds  ...     True      1189.15\n",
            "3   Staten Island  Garden tools  ...     True        55.96\n",
            "4   Staten Island  Garden tools  ...    False         0.00\n",
            "5   Staten Island  Garden tools  ...     True      1859.07\n",
            "6   Staten Island  Pest_Control  ...     True       961.26\n",
            "7   Staten Island  Pest_Control  ...     True       191.92\n",
            "8   Staten Island       Planter  ...    False         0.00\n",
            "9   Staten Island       Planter  ...     True       211.47\n",
            "10       Brooklyn         Seeds  ...     True       349.50\n",
            "11       Brooklyn         Seeds  ...    False         0.00\n",
            "12       Brooklyn         Seeds  ...    False         0.00\n",
            "13       Brooklyn  Garden tools  ...     True       209.85\n",
            "14       Brooklyn  Garden tools  ...     True      7379.18\n",
            "15       Brooklyn  Garden tools  ...     True       719.64\n",
            "16       Brooklyn  Pest_Control  ...     True      1039.20\n",
            "17       Brooklyn  Pest_Control  ...     True      2507.24\n",
            "18       Brooklyn       Planter  ...     True        89.95\n",
            "19       Brooklyn       Planter  ...     True       103.74\n",
            "20         Queens         Seeds  ...     True       398.43\n",
            "21         Queens         Seeds  ...     True      1899.05\n",
            "22         Queens         Seeds  ...     True       629.55\n",
            "23         Queens  Garden tools  ...     True       293.79\n",
            "24         Queens  Garden tools  ...     True      8819.02\n",
            "25         Queens  Garden tools  ...     True       519.74\n",
            "26         Queens  Pest_Control  ...    False         0.00\n",
            "27         Queens  Pest_Control  ...     True       383.84\n",
            "28         Queens       Planter  ...     True      1565.13\n",
            "\n",
            "[29 rows x 7 columns]\n",
            "         Location  ...                      full_description\n",
            "0   Staten Island  ...                         Seeds - Daisy\n",
            "1   Staten Island  ...                         Seeds - Calla\n",
            "2   Staten Island  ...                        Seeds - Tomato\n",
            "3   Staten Island  ...                   Garden tools - Rake\n",
            "4   Staten Island  ...            Garden tools - Wheelbarrow\n",
            "5   Staten Island  ...                  Garden tools - Spade\n",
            "6   Staten Island  ...          Pest_Control - Insect Killer\n",
            "7   Staten Island  ...            Pest_Control - Weed Killer\n",
            "8   Staten Island  ...  Planter - 20 inch Terracotta Planter\n",
            "9   Staten Island  ...      Planter - 8 inch Plastic Planter\n",
            "10       Brooklyn  ...                         Seeds - Daisy\n",
            "11       Brooklyn  ...                         Seeds - Calla\n",
            "12       Brooklyn  ...                        Seeds - Tomato\n",
            "13       Brooklyn  ...                   Garden tools - Rake\n",
            "14       Brooklyn  ...            Garden tools - Wheelbarrow\n",
            "15       Brooklyn  ...                  Garden tools - Spade\n",
            "16       Brooklyn  ...          Pest_Control - Insect Killer\n",
            "17       Brooklyn  ...            Pest_Control - Weed Killer\n",
            "18       Brooklyn  ...  Planter - 20 inch Terracotta Planter\n",
            "19       Brooklyn  ...      Planter - 8 inch Plastic Planter\n",
            "20         Queens  ...                         Seeds - Daisy\n",
            "21         Queens  ...                         Seeds - Calla\n",
            "22         Queens  ...                        Seeds - Tomato\n",
            "23         Queens  ...                   Garden tools - Rake\n",
            "24         Queens  ...            Garden tools - Wheelbarrow\n",
            "25         Queens  ...                  Garden tools - Spade\n",
            "26         Queens  ...          Pest_Control - Insect Killer\n",
            "27         Queens  ...            Pest_Control - Weed Killer\n",
            "28         Queens  ...  Planter - 20 inch Terracotta Planter\n",
            "\n",
            "[29 rows x 8 columns]\n"
          ],
          "name": "stdout"
        }
      ]
    }
  ]
}